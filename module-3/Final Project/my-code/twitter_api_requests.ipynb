{
 "cells": [
  {
   "cell_type": "code",
   "execution_count": 2,
   "metadata": {},
   "outputs": [],
   "source": [
    "import tweepy\n",
    "import pandas as pd\n",
    "import json\n",
    "import time\n",
    "from datetime import datetime"
   ]
  },
  {
   "cell_type": "code",
   "execution_count": 2,
   "metadata": {},
   "outputs": [
    {
     "name": "stdout",
     "output_type": "stream",
     "text": [
      "#INFOGRAPHIC: In the UK, over 1.6 TRILLION tampons, pads and liners are flushed down toilets every year:… https://t.co/6qkHVV6Bvr\n",
      "How do you take your tea? Milk, sugar, plastic?\n",
      "\n",
      "Did you know even apart from the packaging many tea bags contain p… https://t.co/VdXPIRYNUr\n",
      "RT @ACTAIglobal: Excited to speak w Oscar-winning director of #TheCove documentary &amp; @RacingXtinction on Wed, 7/8, at 10am PT.  We'll discu…\n",
      "DID YOU KNOW? Whale sharks reach the size of a school bus! Learn more in our Marine Life Encyclopedia:… https://t.co/fOWZceBXMw\n",
      "Don't forget to tune in at 1 PM ET to catch @enckj @cmuffett1 @Regularisms @Science4Justice and @DSCEJ  testimony o… https://t.co/PR7lv6qZSx\n",
      "RT @Dynamic_Planet: Highly protected marine areas have proved to be the most effective way to conserve and restore marine life, explains @E…\n",
      "RT @OceaniMPActSA: You can also check out and download this informative MPA guide https://t.co/nSJqknryqL\n",
      "\n",
      "#MPAGuide https://t.co/IoEEQNMgkX\n",
      "The lovely music in this is by composer @tomcurzon1 - really recommend working with this talented musician.\n",
      "RT @litterati: One of The World’s largest Global Litter Datasets is now Open! \n",
      "We are inviting students and scientists, innovators and inve…\n",
      "RT @TurnerFdnInc: The Blackfeet Nation received welcome news when federal judges canceled the last industrial lease in the Badger-Two Medic…\n",
      "RT @onething4nature: In almost all areas of business, it's now possible to get rid of paper entirely. Digital documents are simpler, easier…\n",
      "Register for CCI-CBF Week 2020. Ocean Unite is partnering with this @caribbiofund on this event and this year it’s… https://t.co/aDSHPnqUk0\n",
      "The #Hawksbill #Sea Turtle is a critically #EndangeredSpecies. Our #Campeche Turtle Project is helping protect over… https://t.co/pJ9vw32EcE\n",
      "RT @LMHeaps: I had the pleasure of moderating a panel during the WEF Virtual Ocean Dialogues last month. The session was co-hosted by WWF a…\n",
      "RT @EDFOceans: Ocean health is essential. That’s why EDF Oceans has joined #RiseUp4TheOcean, with @OceanoAzulF @oceanunite @oakfnd &amp; many o…\n",
      "RT @BigBangFair: How do we change our habits to protect the planet, especially during a crisis like the #coronavirus pandemic? @PlasticOcea…\n",
      "Kenya’s Plastic ban is een voorbeeld voor de wereld.\n",
      "Verstrekkender dan de EU wegwerpplastic richtlijnen.\n",
      "\n",
      "Gisteren… https://t.co/0mWFUHarlz\n",
      "From national parks to the deep sea, plastic pollution is showing up wherever scientists look https://t.co/4uuoKwRZ8V\n",
      "Plastics put threatened and endangered sea turtles in even greater risk of extinction. You can help. Tell US Congre… https://t.co/09uinDwglN\n",
      "⚡PLASTIC POLLUTION CHANGER MAKER ALERT!⚡⁠\n",
      "Sisters Melati &amp; Isabel Wijsen have been campaigning to reduce… https://t.co/rUAoAfQMDk\n"
     ]
    }
   ],
   "source": [
    "API_KEY = \"0klZ6A3ashptZfBZpEdxIZtUn\"\n",
    "API_SECRET = \"RzDtafJJX9fO9zjykg15iMNghSMd1furq41Rpn5vfJc3M5OaQw\"\n",
    "ACCESS_TOKEN = \"781767392607088640-BSKrUyweBAnmAbdg1EgmxVh09zmI46y\"\n",
    "ACCESS_TOKEN_SECRET = \"Sg8wzQeocs7iQCZOI8QUv3bs5wOZo20MOXSgGvdwlIfiS\"\n",
    "\n",
    "auth = tweepy.OAuthHandler(API_KEY, API_SECRET)\n",
    "auth.set_access_token(ACCESS_TOKEN, ACCESS_TOKEN_SECRET)\n",
    "\n",
    "api = tweepy.API(auth)\n",
    "\n",
    "#Make call on home timeline, print each tweets text\n",
    "public_tweets = api.home_timeline()\n",
    "for tweet in public_tweets:\n",
    "    print(tweet.text)"
   ]
  },
  {
   "cell_type": "code",
   "execution_count": 3,
   "metadata": {},
   "outputs": [],
   "source": [
    "#public_tweets[0]"
   ]
  },
  {
   "cell_type": "code",
   "execution_count": 4,
   "metadata": {},
   "outputs": [
    {
     "name": "stdout",
     "output_type": "stream",
     "text": [
      "{\n",
      "    \"contributors\": null,\n",
      "    \"coordinates\": null,\n",
      "    \"created_at\": \"Tue Jul 07 14:00:21 +0000 2020\",\n",
      "    \"entities\": {\n",
      "        \"hashtags\": [\n",
      "            {\n",
      "                \"indices\": [\n",
      "                    0,\n",
      "                    12\n",
      "                ],\n",
      "                \"text\": \"INFOGRAPHIC\"\n",
      "            }\n",
      "        ],\n",
      "        \"symbols\": [],\n",
      "        \"urls\": [\n",
      "            {\n",
      "                \"display_url\": \"twitter.com/i/web/status/1\\u2026\",\n",
      "                \"expanded_url\": \"https://twitter.com/i/web/status/1280501914740895745\",\n",
      "                \"indices\": [\n",
      "                    106,\n",
      "                    129\n",
      "                ],\n",
      "                \"url\": \"https://t.co/6qkHVV6Bvr\"\n",
      "            }\n",
      "        ],\n",
      "        \"user_mentions\": []\n",
      "    },\n",
      "    \"favorite_count\": 0,\n",
      "    \"favorited\": false,\n",
      "    \"geo\": null,\n",
      "    \"id\": 1280501914740895745,\n",
      "    \"id_str\": \"1280501914740895745\",\n",
      "    \"in_reply_to_screen_name\": null,\n",
      "    \"in_reply_to_status_id\": null,\n",
      "    \"in_reply_to_status_id_str\": null,\n",
      "    \"in_reply_to_user_id\": null,\n",
      "    \"in_reply_to_user_id_str\": null,\n",
      "    \"is_quote_status\": false,\n",
      "    \"lang\": \"en\",\n",
      "    \"place\": null,\n",
      "    \"possibly_sensitive\": false,\n",
      "    \"possibly_sensitive_appealable\": false,\n",
      "    \"retweet_count\": 0,\n",
      "    \"retweeted\": false,\n",
      "    \"source\": \"<a href=\\\"https://sproutsocial.com\\\" rel=\\\"nofollow\\\">Sprout Social</a>\",\n",
      "    \"text\": \"#INFOGRAPHIC: In the UK, over 1.6 TRILLION tampons, pads and liners are flushed down toilets every year:\\u2026 https://t.co/6qkHVV6Bvr\",\n",
      "    \"truncated\": true,\n",
      "    \"user\": {\n",
      "        \"contributors_enabled\": false,\n",
      "        \"created_at\": \"Tue Mar 20 01:56:18 +0000 2018\",\n",
      "        \"default_profile\": false,\n",
      "        \"default_profile_image\": false,\n",
      "        \"description\": \"Raising awareness about #PlasticPollution and solutions to the problem. We do so via film and other digital media. #RethinkPlastic #Sustainability\",\n",
      "        \"entities\": {\n",
      "            \"description\": {\n",
      "                \"urls\": []\n",
      "            },\n",
      "            \"url\": {\n",
      "                \"urls\": [\n",
      "                    {\n",
      "                        \"display_url\": \"plasticoceans.org\",\n",
      "                        \"expanded_url\": \"https://plasticoceans.org\",\n",
      "                        \"indices\": [\n",
      "                            0,\n",
      "                            23\n",
      "                        ],\n",
      "                        \"url\": \"https://t.co/GwMmSfGEgH\"\n",
      "                    }\n",
      "                ]\n",
      "            }\n",
      "        },\n",
      "        \"favourites_count\": 226,\n",
      "        \"follow_request_sent\": false,\n",
      "        \"followers_count\": 2236,\n",
      "        \"following\": true,\n",
      "        \"friends_count\": 103,\n",
      "        \"geo_enabled\": false,\n",
      "        \"has_extended_profile\": false,\n",
      "        \"id\": 975913893066231808,\n",
      "        \"id_str\": \"975913893066231808\",\n",
      "        \"is_translation_enabled\": false,\n",
      "        \"is_translator\": false,\n",
      "        \"lang\": null,\n",
      "        \"listed_count\": 49,\n",
      "        \"location\": \"United States\",\n",
      "        \"name\": \"Plastic Oceans International\",\n",
      "        \"notifications\": false,\n",
      "        \"profile_background_color\": \"000000\",\n",
      "        \"profile_background_image_url\": \"http://abs.twimg.com/images/themes/theme1/bg.png\",\n",
      "        \"profile_background_image_url_https\": \"https://abs.twimg.com/images/themes/theme1/bg.png\",\n",
      "        \"profile_background_tile\": false,\n",
      "        \"profile_banner_url\": \"https://pbs.twimg.com/profile_banners/975913893066231808/1556910357\",\n",
      "        \"profile_image_url\": \"http://pbs.twimg.com/profile_images/1048278316224892929/Uiu5P9Og_normal.jpg\",\n",
      "        \"profile_image_url_https\": \"https://pbs.twimg.com/profile_images/1048278316224892929/Uiu5P9Og_normal.jpg\",\n",
      "        \"profile_link_color\": \"1B95E0\",\n",
      "        \"profile_sidebar_border_color\": \"000000\",\n",
      "        \"profile_sidebar_fill_color\": \"000000\",\n",
      "        \"profile_text_color\": \"000000\",\n",
      "        \"profile_use_background_image\": false,\n",
      "        \"protected\": false,\n",
      "        \"screen_name\": \"PlasticOceansUS\",\n",
      "        \"statuses_count\": 3216,\n",
      "        \"time_zone\": null,\n",
      "        \"translator_type\": \"none\",\n",
      "        \"url\": \"https://t.co/GwMmSfGEgH\",\n",
      "        \"utc_offset\": null,\n",
      "        \"verified\": false\n",
      "    }\n",
      "}\n"
     ]
    }
   ],
   "source": [
    "status = public_tweets[0]\n",
    "\n",
    "#convert to string\n",
    "json_str = json.dumps(status._json)\n",
    "\n",
    "#deserialise string into python object\n",
    "parsed = json.loads(json_str)\n",
    "\n",
    "print(json.dumps(parsed, indent=4, sort_keys=True))"
   ]
  },
  {
   "cell_type": "code",
   "execution_count": 3,
   "metadata": {},
   "outputs": [],
   "source": [
    "class TweetMiner(object):\n",
    "\n",
    "    result_limit    =   200    \n",
    "    data            =   []\n",
    "    api             =   False\n",
    "    \n",
    "    twitter_keys = {\n",
    "        'consumer_key':        '0klZ6A3ashptZfBZpEdxIZtUn',\n",
    "        'consumer_secret':     'RzDtafJJX9fO9zjykg15iMNghSMd1furq41Rpn5vfJc3M5OaQw',\n",
    "        'access_token_key':    '781767392607088640-BSKrUyweBAnmAbdg1EgmxVh09zmI46y',\n",
    "        'access_token_secret': 'Sg8wzQeocs7iQCZOI8QUv3bs5wOZo20MOXSgGvdwlIfiS'\n",
    "    }\n",
    "\n",
    "    \n",
    "    def __init__(self, keys_dict=twitter_keys, api=api, result_limit = 200):\n",
    "        \n",
    "        self.twitter_keys = keys_dict\n",
    "        \n",
    "        auth = tweepy.OAuthHandler(keys_dict['consumer_key'], keys_dict['consumer_secret'])\n",
    "        auth.set_access_token(keys_dict['access_token_key'], keys_dict['access_token_secret'])\n",
    "        \n",
    "        self.api = tweepy.API(auth)\n",
    "        self.twitter_keys = keys_dict\n",
    "        \n",
    "        self.result_limit = result_limit\n",
    "        \n",
    "\n",
    "    def mine_user_tweets(self, user=\"oceana\",\n",
    "                         mine_rewteets=False,\n",
    "                         max_pages=1):\n",
    "\n",
    "        data           =  []\n",
    "        last_tweet_id  =  False\n",
    "        page           =  1\n",
    "        \n",
    "        while page <= max_pages:\n",
    "            if last_tweet_id:\n",
    "                statuses   =   self.api.user_timeline(screen_name=user,\n",
    "                                                     count=self.result_limit,\n",
    "                                                     max_id=last_tweet_id - 1,\n",
    "                                                     tweet_mode = 'extended',\n",
    "                                                     include_retweets=False\n",
    "                                                    )        \n",
    "            else:\n",
    "                statuses   =   self.api.user_timeline(screen_name=user,\n",
    "                                                        count=self.result_limit,\n",
    "                                                        tweet_mode = 'extended',\n",
    "                                                        include_retweets=False)\n",
    "                \n",
    "            for item in statuses:\n",
    "                                \n",
    "                mined = {\n",
    "                    'tweet_id':        item.id,\n",
    "                    'name':            item.user.name,\n",
    "                    'screen_name':     item.user.screen_name,\n",
    "                    'retweet_count':   item.retweet_count,\n",
    "                    'text':            item.full_text,\n",
    "                    'created_at':      item.created_at,\n",
    "                    'favourite_count': item.favorite_count,\n",
    "                    'hashtags':        item.entities['hashtags'],\n",
    "                    'status_count':    item.user.statuses_count,\n",
    "                    'location':        item.place,\n",
    "                    'source_device':   item.source,\n",
    "                }\n",
    "                \n",
    "                try:\n",
    "                    mined['retweet_text'] = item.retweeted_status.full_text\n",
    "                except:\n",
    "                    mined['retweet_text'] = 'None'\n",
    "                try:\n",
    "                    mined['quote_text'] = item.quoted_status.full_text\n",
    "                    mined['quote_screen_name'] = status.quoted_status.user.screen_name\n",
    "                except:\n",
    "                    mined['quote_text'] = 'None'\n",
    "                    mined['quote_screen_name'] = 'None'\n",
    "                \n",
    "                last_tweet_id = item.id\n",
    "                data.append(mined)\n",
    "                \n",
    "            page += 1\n",
    "            \n",
    "        return data\n",
    "    \n",
    "# miner=TweetMiner(result_limit=200)\n",
    "# mined_tweets = miner.mine_user_tweets(user='oceana', max_pages=25)\n",
    "# mined_tweets_df= pd.DataFrame(mined_tweets)\n",
    "# mined_tweets_df.to_csv('../data/oceana.csv')"
   ]
  },
  {
   "cell_type": "code",
   "execution_count": 6,
   "metadata": {},
   "outputs": [],
   "source": [
    "miner=TweetMiner(result_limit=200)\n",
    "mined_tweets = miner.mine_user_tweets(user='4ocean', max_pages=25)\n",
    "mined_tweets_df= pd.DataFrame(mined_tweets)\n",
    "mined_tweets_df\n",
    "mined_tweets_df.to_csv('../data/4ocean.csv')"
   ]
  },
  {
   "cell_type": "code",
   "execution_count": 7,
   "metadata": {},
   "outputs": [],
   "source": [
    "miner=TweetMiner(result_limit=200)\n",
    "mined_tweets = miner.mine_user_tweets(user='PlasticBank', max_pages=30)\n",
    "mined_tweets_df= pd.DataFrame(mined_tweets)\n",
    "mined_tweets_df\n",
    "mined_tweets_df.to_csv('../data/PlasticBank.csv')"
   ]
  },
  {
   "cell_type": "code",
   "execution_count": 8,
   "metadata": {},
   "outputs": [],
   "source": [
    "miner=TweetMiner(result_limit=200)\n",
    "mined_tweets = miner.mine_user_tweets(user='TheOceanCleanup', max_pages=17)\n",
    "mined_tweets_df= pd.DataFrame(mined_tweets)\n",
    "mined_tweets_df\n",
    "mined_tweets_df.to_csv('../data/TheOceanCleanup.csv')"
   ]
  },
  {
   "cell_type": "code",
   "execution_count": 9,
   "metadata": {},
   "outputs": [],
   "source": [
    "miner=TweetMiner(result_limit=200)\n",
    "mined_tweets = miner.mine_user_tweets(user='PlasticBankIND', max_pages=17)\n",
    "mined_tweets_df= pd.DataFrame(mined_tweets)\n",
    "mined_tweets_df\n",
    "mined_tweets_df.to_csv('../data/PlasticBankIND.csv')"
   ]
  },
  {
   "cell_type": "code",
   "execution_count": 10,
   "metadata": {},
   "outputs": [],
   "source": [
    "miner=TweetMiner(result_limit=200)\n",
    "mined_tweets = miner.mine_user_tweets(user='sascampaigns', max_pages=17)\n",
    "mined_tweets_df= pd.DataFrame(mined_tweets)\n",
    "mined_tweets_df\n",
    "mined_tweets_df.to_csv('../data/sascampaigns.csv')"
   ]
  },
  {
   "cell_type": "code",
   "execution_count": 11,
   "metadata": {},
   "outputs": [],
   "source": [
    "miner=TweetMiner(result_limit=200)\n",
    "mined_tweets = miner.mine_user_tweets(user='Plastics4change', max_pages=17)\n",
    "mined_tweets_df= pd.DataFrame(mined_tweets)\n",
    "mined_tweets_df\n",
    "mined_tweets_df.to_csv('../data/Plastics4change.csv')"
   ]
  },
  {
   "cell_type": "code",
   "execution_count": 12,
   "metadata": {},
   "outputs": [],
   "source": [
    "miner=TweetMiner(result_limit=200)\n",
    "mined_tweets = miner.mine_user_tweets(user='PlasticPollutes', max_pages=17)\n",
    "mined_tweets_df= pd.DataFrame(mined_tweets)\n",
    "mined_tweets_df\n",
    "mined_tweets_df.to_csv('../data/PlasticPollutes.csv')"
   ]
  },
  {
   "cell_type": "code",
   "execution_count": 13,
   "metadata": {},
   "outputs": [],
   "source": [
    "miner=TweetMiner(result_limit=200)\n",
    "mined_tweets = miner.mine_user_tweets(user='aplastic_planet', max_pages=17)\n",
    "mined_tweets_df= pd.DataFrame(mined_tweets)\n",
    "mined_tweets_df\n",
    "mined_tweets_df.to_csv('../data/aplastic_planet.csv')"
   ]
  },
  {
   "cell_type": "code",
   "execution_count": 14,
   "metadata": {},
   "outputs": [],
   "source": [
    "miner=TweetMiner(result_limit=200)\n",
    "mined_tweets = miner.mine_user_tweets(user='PlasticOceans', max_pages=17)\n",
    "mined_tweets_df= pd.DataFrame(mined_tweets)\n",
    "mined_tweets_df\n",
    "mined_tweets_df.to_csv('../data/PlasticOceans.csv')"
   ]
  },
  {
   "cell_type": "code",
   "execution_count": 15,
   "metadata": {},
   "outputs": [],
   "source": [
    "miner=TweetMiner(result_limit=200)\n",
    "mined_tweets = miner.mine_user_tweets(user='5gyres', max_pages=17)\n",
    "mined_tweets_df= pd.DataFrame(mined_tweets)\n",
    "mined_tweets_df\n",
    "mined_tweets_df.to_csv('../data/5gyres.csv')"
   ]
  },
  {
   "cell_type": "code",
   "execution_count": 16,
   "metadata": {},
   "outputs": [],
   "source": [
    "miner=TweetMiner(result_limit=200)\n",
    "mined_tweets = miner.mine_user_tweets(user='Oceanwarrior', max_pages=17)\n",
    "mined_tweets_df= pd.DataFrame(mined_tweets)\n",
    "mined_tweets_df\n",
    "mined_tweets_df.to_csv('../data/Oceanwarrior.csv')"
   ]
  },
  {
   "cell_type": "code",
   "execution_count": 17,
   "metadata": {},
   "outputs": [],
   "source": [
    "miner=TweetMiner(result_limit=200)\n",
    "mined_tweets = miner.mine_user_tweets(user='plasticsoupfoun', max_pages=17)\n",
    "mined_tweets_df= pd.DataFrame(mined_tweets)\n",
    "mined_tweets_df\n",
    "mined_tweets_df.to_csv('../data/plasticsoupfoun.csv')"
   ]
  },
  {
   "cell_type": "code",
   "execution_count": 18,
   "metadata": {},
   "outputs": [],
   "source": [
    "miner=TweetMiner(result_limit=200)\n",
    "mined_tweets = miner.mine_user_tweets(user='NewPlasticsEcon', max_pages=17)\n",
    "mined_tweets_df= pd.DataFrame(mined_tweets)\n",
    "mined_tweets_df\n",
    "mined_tweets_df.to_csv('../data/NewPlasticsEcon.csv')"
   ]
  },
  {
   "cell_type": "code",
   "execution_count": 19,
   "metadata": {},
   "outputs": [],
   "source": [
    "miner=TweetMiner(result_limit=200)\n",
    "mined_tweets = miner.mine_user_tweets(user='LifeWoutPlastic', max_pages=17)\n",
    "mined_tweets_df= pd.DataFrame(mined_tweets)\n",
    "mined_tweets_df\n",
    "mined_tweets_df.to_csv('../data/LifeWoutPlastic.csv')"
   ]
  },
  {
   "cell_type": "code",
   "execution_count": 20,
   "metadata": {},
   "outputs": [],
   "source": [
    "miner=TweetMiner(result_limit=200)\n",
    "mined_tweets = miner.mine_user_tweets(user='PlasticFreeJuly', max_pages=17)\n",
    "mined_tweets_df= pd.DataFrame(mined_tweets)\n",
    "mined_tweets_df\n",
    "mined_tweets_df.to_csv('../data/PlasticFreeJuly.csv')"
   ]
  },
  {
   "cell_type": "code",
   "execution_count": 21,
   "metadata": {},
   "outputs": [],
   "source": [
    "miner=TweetMiner(result_limit=200)\n",
    "mined_tweets = miner.mine_user_tweets(user='RethinkPlastic', max_pages=17)\n",
    "mined_tweets_df= pd.DataFrame(mined_tweets)\n",
    "mined_tweets_df\n",
    "mined_tweets_df.to_csv('../data/RethinkPlastic.csv')"
   ]
  },
  {
   "cell_type": "code",
   "execution_count": 22,
   "metadata": {},
   "outputs": [],
   "source": [
    "miner=TweetMiner(result_limit=200)\n",
    "mined_tweets = miner.mine_user_tweets(user='JackieSavitz', max_pages=17)\n",
    "mined_tweets_df= pd.DataFrame(mined_tweets)\n",
    "mined_tweets_df\n",
    "mined_tweets_df.to_csv('../data/JackieSavitz.csv')"
   ]
  },
  {
   "cell_type": "code",
   "execution_count": 23,
   "metadata": {},
   "outputs": [],
   "source": [
    "miner=TweetMiner(result_limit=200)\n",
    "mined_tweets = miner.mine_user_tweets(user='bigbluecleanup', max_pages=17)\n",
    "mined_tweets_df= pd.DataFrame(mined_tweets)\n",
    "mined_tweets_df\n",
    "mined_tweets_df.to_csv('../data/bigbluecleanup.csv')"
   ]
  },
  {
   "cell_type": "code",
   "execution_count": 24,
   "metadata": {},
   "outputs": [],
   "source": [
    "miner=TweetMiner(result_limit=200)\n",
    "mined_tweets = miner.mine_user_tweets(user='DebrisTracker', max_pages=17)\n",
    "mined_tweets_df= pd.DataFrame(mined_tweets)\n",
    "mined_tweets_df\n",
    "mined_tweets_df.to_csv('../data/DebrisTracker.csv')"
   ]
  },
  {
   "cell_type": "code",
   "execution_count": 25,
   "metadata": {},
   "outputs": [],
   "source": [
    "miner=TweetMiner(result_limit=200)\n",
    "mined_tweets = miner.mine_user_tweets(user='ThePlasticWhale', max_pages=17)\n",
    "mined_tweets_df= pd.DataFrame(mined_tweets)\n",
    "mined_tweets_df\n",
    "mined_tweets_df.to_csv('../data/ThePlasticWhale.csv')"
   ]
  },
  {
   "cell_type": "code",
   "execution_count": 26,
   "metadata": {},
   "outputs": [],
   "source": [
    "miner=TweetMiner(result_limit=200)\n",
    "mined_tweets = miner.mine_user_tweets(user='plasticpdise', max_pages=17)\n",
    "mined_tweets_df= pd.DataFrame(mined_tweets)\n",
    "mined_tweets_df\n",
    "mined_tweets_df.to_csv('../data/plasticpdise.csv')"
   ]
  },
  {
   "cell_type": "code",
   "execution_count": 27,
   "metadata": {},
   "outputs": [],
   "source": [
    "miner=TweetMiner(result_limit=200)\n",
    "mined_tweets = miner.mine_user_tweets(user='TBPInnovate', max_pages=17)\n",
    "mined_tweets_df= pd.DataFrame(mined_tweets)\n",
    "mined_tweets_df\n",
    "mined_tweets_df.to_csv('../data/TBPInnovate.csv')"
   ]
  },
  {
   "cell_type": "code",
   "execution_count": 28,
   "metadata": {},
   "outputs": [],
   "source": [
    "miner=TweetMiner(result_limit=200)\n",
    "mined_tweets = miner.mine_user_tweets(user='merijntinga', max_pages=17)\n",
    "mined_tweets_df= pd.DataFrame(mined_tweets)\n",
    "mined_tweets_df\n",
    "mined_tweets_df.to_csv('../data/merijntinga.csv')"
   ]
  },
  {
   "cell_type": "code",
   "execution_count": 29,
   "metadata": {},
   "outputs": [],
   "source": [
    "miner=TweetMiner(result_limit=200)\n",
    "mined_tweets = miner.mine_user_tweets(user='PlasticsBeyond', max_pages=17)\n",
    "mined_tweets_df= pd.DataFrame(mined_tweets)\n",
    "mined_tweets_df\n",
    "mined_tweets_df.to_csv('../data/PlasticsBeyond.csv')"
   ]
  },
  {
   "cell_type": "code",
   "execution_count": 30,
   "metadata": {},
   "outputs": [],
   "source": [
    "miner=TweetMiner(result_limit=200)\n",
    "mined_tweets = miner.mine_user_tweets(user='OurOcean', max_pages=17)\n",
    "mined_tweets_df= pd.DataFrame(mined_tweets)\n",
    "mined_tweets_df\n",
    "mined_tweets_df.to_csv('../data/OurOcean.csv')"
   ]
  },
  {
   "cell_type": "code",
   "execution_count": 31,
   "metadata": {},
   "outputs": [],
   "source": [
    "miner=TweetMiner(result_limit=200)\n",
    "mined_tweets = miner.mine_user_tweets(user='oceanfdn', max_pages=17)\n",
    "mined_tweets_df= pd.DataFrame(mined_tweets)\n",
    "mined_tweets_df\n",
    "mined_tweets_df.to_csv('../data/oceanfdn.csv')"
   ]
  },
  {
   "cell_type": "code",
   "execution_count": 32,
   "metadata": {},
   "outputs": [],
   "source": [
    "miner=TweetMiner(result_limit=200)\n",
    "mined_tweets = miner.mine_user_tweets(user='oceanunite', max_pages=17)\n",
    "mined_tweets_df= pd.DataFrame(mined_tweets)\n",
    "mined_tweets_df\n",
    "mined_tweets_df.to_csv('../data/oceanunite.csv')"
   ]
  },
  {
   "cell_type": "code",
   "execution_count": 33,
   "metadata": {},
   "outputs": [],
   "source": [
    "miner=TweetMiner(result_limit=200)\n",
    "mined_tweets = miner.mine_user_tweets(user='globalalert', max_pages=17)\n",
    "mined_tweets_df= pd.DataFrame(mined_tweets)\n",
    "mined_tweets_df\n",
    "mined_tweets_df.to_csv('../data/globalalert.csv')"
   ]
  },
  {
   "cell_type": "code",
   "execution_count": 34,
   "metadata": {},
   "outputs": [],
   "source": [
    "miner=TweetMiner(result_limit=200)\n",
    "mined_tweets = miner.mine_user_tweets(user='PlasticOceansUS', max_pages=17)\n",
    "mined_tweets_df= pd.DataFrame(mined_tweets)\n",
    "mined_tweets_df\n",
    "mined_tweets_df.to_csv('../data/PlasticOceansUS.csv')"
   ]
  },
  {
   "cell_type": "code",
   "execution_count": 36,
   "metadata": {},
   "outputs": [],
   "source": [
    "miner=TweetMiner(result_limit=200)\n",
    "mined_tweets = miner.mine_user_tweets(user='SylviaEarle', max_pages=20)\n",
    "mined_tweets_df= pd.DataFrame(mined_tweets)\n",
    "mined_tweets_df\n",
    "mined_tweets_df.to_csv('../data/SylviaEarle.csv')"
   ]
  },
  {
   "cell_type": "code",
   "execution_count": 37,
   "metadata": {},
   "outputs": [],
   "source": [
    "miner=TweetMiner(result_limit=200)\n",
    "mined_tweets = miner.mine_user_tweets(user='MissionBlue', max_pages=20)\n",
    "mined_tweets_df= pd.DataFrame(mined_tweets)\n",
    "mined_tweets_df\n",
    "mined_tweets_df.to_csv('../data/MissionBlue.csv')"
   ]
  },
  {
   "cell_type": "code",
   "execution_count": null,
   "metadata": {},
   "outputs": [],
   "source": []
  }
 ],
 "metadata": {
  "kernelspec": {
   "display_name": "Python 3",
   "language": "python",
   "name": "python3"
  },
  "language_info": {
   "codemirror_mode": {
    "name": "ipython",
    "version": 3
   },
   "file_extension": ".py",
   "mimetype": "text/x-python",
   "name": "python",
   "nbconvert_exporter": "python",
   "pygments_lexer": "ipython3",
   "version": "3.7.7"
  }
 },
 "nbformat": 4,
 "nbformat_minor": 4
}
