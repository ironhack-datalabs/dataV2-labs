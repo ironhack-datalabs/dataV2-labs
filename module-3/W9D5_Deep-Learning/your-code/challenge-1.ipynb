{
 "cells": [
  {
   "cell_type": "markdown",
   "metadata": {},
   "source": [
    "# Challenge 1 - Tic Tac Toe\n",
    "\n",
    "In this lab you will perform deep learning analysis on a dataset of playing [Tic Tac Toe](https://en.wikipedia.org/wiki/Tic-tac-toe).\n",
    "\n",
    "There are 9 grids in Tic Tac Toe that are coded as the following picture shows:\n",
    "\n",
    "![Tic Tac Toe Grids](tttboard.jpg)\n",
    "\n",
    "In the first 9 columns of the dataset you can find which marks (`x` or `o`) exist in the grids. If there is no mark in a certain grid, it is labeled as `b`. The last column is `class` which tells you whether Player X (who always moves first in Tic Tac Toe) wins in this configuration. Note that when `class` has the value `False`, it means either Player O wins the game or it ends up as a draw."
   ]
  },
  {
   "cell_type": "markdown",
   "metadata": {},
   "source": [
    "Follow the steps suggested below to conduct a neural network analysis using Tensorflow and Keras. You will build a deep learning model to predict whether Player X wins the game or not.\n",
    "\n",
    "## Step 1: Data Engineering\n",
    "\n",
    "This dataset is almost in the ready-to-use state so you do not need to worry about missing values and so on. Still, some simple data engineering is needed.\n",
    "\n",
    "1. Read `tic-tac-toe.csv` into a dataframe.\n",
    "1. Inspect the dataset. Determine if the dataset is reliable by eyeballing the data.\n",
    "1. Convert the categorical values to numeric in all columns.\n",
    "1. Separate the inputs and output.\n",
    "1. Normalize the input data."
   ]
  },
  {
   "cell_type": "code",
   "execution_count": 1,
   "metadata": {},
   "outputs": [],
   "source": [
    "# your code here\n",
    "import pandas as pd"
   ]
  },
  {
   "cell_type": "code",
   "execution_count": 38,
   "metadata": {},
   "outputs": [
    {
     "data": {
      "text/html": [
       "<div>\n",
       "<style scoped>\n",
       "    .dataframe tbody tr th:only-of-type {\n",
       "        vertical-align: middle;\n",
       "    }\n",
       "\n",
       "    .dataframe tbody tr th {\n",
       "        vertical-align: top;\n",
       "    }\n",
       "\n",
       "    .dataframe thead th {\n",
       "        text-align: right;\n",
       "    }\n",
       "</style>\n",
       "<table border=\"1\" class=\"dataframe\">\n",
       "  <thead>\n",
       "    <tr style=\"text-align: right;\">\n",
       "      <th></th>\n",
       "      <th>TL</th>\n",
       "      <th>TM</th>\n",
       "      <th>TR</th>\n",
       "      <th>ML</th>\n",
       "      <th>MM</th>\n",
       "      <th>MR</th>\n",
       "      <th>BL</th>\n",
       "      <th>BM</th>\n",
       "      <th>BR</th>\n",
       "      <th>class</th>\n",
       "    </tr>\n",
       "  </thead>\n",
       "  <tbody>\n",
       "    <tr>\n",
       "      <td>0</td>\n",
       "      <td>x</td>\n",
       "      <td>x</td>\n",
       "      <td>x</td>\n",
       "      <td>x</td>\n",
       "      <td>o</td>\n",
       "      <td>o</td>\n",
       "      <td>x</td>\n",
       "      <td>o</td>\n",
       "      <td>o</td>\n",
       "      <td>True</td>\n",
       "    </tr>\n",
       "    <tr>\n",
       "      <td>1</td>\n",
       "      <td>x</td>\n",
       "      <td>x</td>\n",
       "      <td>x</td>\n",
       "      <td>x</td>\n",
       "      <td>o</td>\n",
       "      <td>o</td>\n",
       "      <td>o</td>\n",
       "      <td>x</td>\n",
       "      <td>o</td>\n",
       "      <td>True</td>\n",
       "    </tr>\n",
       "    <tr>\n",
       "      <td>2</td>\n",
       "      <td>x</td>\n",
       "      <td>x</td>\n",
       "      <td>x</td>\n",
       "      <td>x</td>\n",
       "      <td>o</td>\n",
       "      <td>o</td>\n",
       "      <td>o</td>\n",
       "      <td>o</td>\n",
       "      <td>x</td>\n",
       "      <td>True</td>\n",
       "    </tr>\n",
       "    <tr>\n",
       "      <td>3</td>\n",
       "      <td>x</td>\n",
       "      <td>x</td>\n",
       "      <td>x</td>\n",
       "      <td>x</td>\n",
       "      <td>o</td>\n",
       "      <td>o</td>\n",
       "      <td>o</td>\n",
       "      <td>b</td>\n",
       "      <td>b</td>\n",
       "      <td>True</td>\n",
       "    </tr>\n",
       "    <tr>\n",
       "      <td>4</td>\n",
       "      <td>x</td>\n",
       "      <td>x</td>\n",
       "      <td>x</td>\n",
       "      <td>x</td>\n",
       "      <td>o</td>\n",
       "      <td>o</td>\n",
       "      <td>b</td>\n",
       "      <td>o</td>\n",
       "      <td>b</td>\n",
       "      <td>True</td>\n",
       "    </tr>\n",
       "  </tbody>\n",
       "</table>\n",
       "</div>"
      ],
      "text/plain": [
       "  TL TM TR ML MM MR BL BM BR  class\n",
       "0  x  x  x  x  o  o  x  o  o   True\n",
       "1  x  x  x  x  o  o  o  x  o   True\n",
       "2  x  x  x  x  o  o  o  o  x   True\n",
       "3  x  x  x  x  o  o  o  b  b   True\n",
       "4  x  x  x  x  o  o  b  o  b   True"
      ]
     },
     "execution_count": 38,
     "metadata": {},
     "output_type": "execute_result"
    }
   ],
   "source": [
    "data = pd.read_csv('./tic-tac-toe.csv')\n",
    "data.head()\n",
    "# data.shape\n",
    "# data.columns"
   ]
  },
  {
   "cell_type": "code",
   "execution_count": 69,
   "metadata": {},
   "outputs": [
    {
     "data": {
      "text/plain": [
       "True     626\n",
       "False    332\n",
       "Name: class, dtype: int64"
      ]
     },
     "execution_count": 69,
     "metadata": {},
     "output_type": "execute_result"
    }
   ],
   "source": [
    "data['class'].value_counts()"
   ]
  },
  {
   "cell_type": "code",
   "execution_count": 49,
   "metadata": {},
   "outputs": [
    {
     "data": {
      "text/plain": [
       "TL       int64\n",
       "TM       int64\n",
       "TR       int64\n",
       "ML       int64\n",
       "MM       int64\n",
       "MR       int64\n",
       "BL       int64\n",
       "BM       int64\n",
       "BR       int64\n",
       "class     bool\n",
       "dtype: object"
      ]
     },
     "execution_count": 49,
     "metadata": {},
     "output_type": "execute_result"
    }
   ],
   "source": [
    "## This does not keep the right order..... So not all x's are 1 so to say. Different per column...\n",
    "\n",
    "# data_num = data.copy()\n",
    "\n",
    "# columns = ['TL', 'TM', 'TR', 'ML', 'MM', 'MR', 'BL', 'BM', 'BR']\n",
    "\n",
    "# for column in columns:\n",
    "#     factor = pd.factorize(data[column])\n",
    "#     data_num[column] = factor[0]\n",
    "    \n",
    "# data_num['TL'].value_counts()\n",
    "\n",
    "# data.head()\n",
    "# data.dtypes\n",
    "# data_num.head()\n",
    "# data_num.dtypes\n",
    "\n",
    "cleanup = {\"x\": 0, \"o\": 1, \"b\": 2}\n",
    "data.replace(cleanup, inplace=True)\n",
    "data.head()\n",
    "data['class']"
   ]
  },
  {
   "cell_type": "code",
   "execution_count": 55,
   "metadata": {},
   "outputs": [
    {
     "data": {
      "text/html": [
       "<div>\n",
       "<style scoped>\n",
       "    .dataframe tbody tr th:only-of-type {\n",
       "        vertical-align: middle;\n",
       "    }\n",
       "\n",
       "    .dataframe tbody tr th {\n",
       "        vertical-align: top;\n",
       "    }\n",
       "\n",
       "    .dataframe thead th {\n",
       "        text-align: right;\n",
       "    }\n",
       "</style>\n",
       "<table border=\"1\" class=\"dataframe\">\n",
       "  <thead>\n",
       "    <tr style=\"text-align: right;\">\n",
       "      <th></th>\n",
       "      <th>TL</th>\n",
       "      <th>TM</th>\n",
       "      <th>TR</th>\n",
       "      <th>ML</th>\n",
       "      <th>MM</th>\n",
       "      <th>MR</th>\n",
       "      <th>BL</th>\n",
       "      <th>BM</th>\n",
       "      <th>BR</th>\n",
       "    </tr>\n",
       "  </thead>\n",
       "  <tbody>\n",
       "    <tr>\n",
       "      <td>0</td>\n",
       "      <td>0</td>\n",
       "      <td>0</td>\n",
       "      <td>0</td>\n",
       "      <td>0</td>\n",
       "      <td>1</td>\n",
       "      <td>1</td>\n",
       "      <td>0</td>\n",
       "      <td>1</td>\n",
       "      <td>1</td>\n",
       "    </tr>\n",
       "    <tr>\n",
       "      <td>1</td>\n",
       "      <td>0</td>\n",
       "      <td>0</td>\n",
       "      <td>0</td>\n",
       "      <td>0</td>\n",
       "      <td>1</td>\n",
       "      <td>1</td>\n",
       "      <td>1</td>\n",
       "      <td>0</td>\n",
       "      <td>1</td>\n",
       "    </tr>\n",
       "    <tr>\n",
       "      <td>2</td>\n",
       "      <td>0</td>\n",
       "      <td>0</td>\n",
       "      <td>0</td>\n",
       "      <td>0</td>\n",
       "      <td>1</td>\n",
       "      <td>1</td>\n",
       "      <td>1</td>\n",
       "      <td>1</td>\n",
       "      <td>0</td>\n",
       "    </tr>\n",
       "    <tr>\n",
       "      <td>3</td>\n",
       "      <td>0</td>\n",
       "      <td>0</td>\n",
       "      <td>0</td>\n",
       "      <td>0</td>\n",
       "      <td>1</td>\n",
       "      <td>1</td>\n",
       "      <td>1</td>\n",
       "      <td>2</td>\n",
       "      <td>2</td>\n",
       "    </tr>\n",
       "    <tr>\n",
       "      <td>4</td>\n",
       "      <td>0</td>\n",
       "      <td>0</td>\n",
       "      <td>0</td>\n",
       "      <td>0</td>\n",
       "      <td>1</td>\n",
       "      <td>1</td>\n",
       "      <td>2</td>\n",
       "      <td>1</td>\n",
       "      <td>2</td>\n",
       "    </tr>\n",
       "  </tbody>\n",
       "</table>\n",
       "</div>"
      ],
      "text/plain": [
       "   TL  TM  TR  ML  MM  MR  BL  BM  BR\n",
       "0   0   0   0   0   1   1   0   1   1\n",
       "1   0   0   0   0   1   1   1   0   1\n",
       "2   0   0   0   0   1   1   1   1   0\n",
       "3   0   0   0   0   1   1   1   2   2\n",
       "4   0   0   0   0   1   1   2   1   2"
      ]
     },
     "execution_count": 55,
     "metadata": {},
     "output_type": "execute_result"
    }
   ],
   "source": [
    "data_input = data.drop(['class'], axis=1)\n",
    "data_output = data['class']\n",
    "data_input.head()"
   ]
  },
  {
   "cell_type": "code",
   "execution_count": 53,
   "metadata": {},
   "outputs": [
    {
     "data": {
      "text/html": [
       "<div>\n",
       "<style scoped>\n",
       "    .dataframe tbody tr th:only-of-type {\n",
       "        vertical-align: middle;\n",
       "    }\n",
       "\n",
       "    .dataframe tbody tr th {\n",
       "        vertical-align: top;\n",
       "    }\n",
       "\n",
       "    .dataframe thead th {\n",
       "        text-align: right;\n",
       "    }\n",
       "</style>\n",
       "<table border=\"1\" class=\"dataframe\">\n",
       "  <thead>\n",
       "    <tr style=\"text-align: right;\">\n",
       "      <th></th>\n",
       "      <th>TL</th>\n",
       "      <th>TM</th>\n",
       "      <th>TR</th>\n",
       "      <th>ML</th>\n",
       "      <th>MM</th>\n",
       "      <th>MR</th>\n",
       "      <th>BL</th>\n",
       "      <th>BM</th>\n",
       "      <th>BR</th>\n",
       "    </tr>\n",
       "  </thead>\n",
       "  <tbody>\n",
       "    <tr>\n",
       "      <td>0</td>\n",
       "      <td>-1.002699</td>\n",
       "      <td>-1.084387</td>\n",
       "      <td>-1.002699</td>\n",
       "      <td>-1.084387</td>\n",
       "      <td>0.419857</td>\n",
       "      <td>0.167231</td>\n",
       "      <td>-1.002699</td>\n",
       "      <td>0.167231</td>\n",
       "      <td>0.286678</td>\n",
       "    </tr>\n",
       "    <tr>\n",
       "      <td>1</td>\n",
       "      <td>-1.002699</td>\n",
       "      <td>-1.084387</td>\n",
       "      <td>-1.002699</td>\n",
       "      <td>-1.084387</td>\n",
       "      <td>0.419857</td>\n",
       "      <td>0.167231</td>\n",
       "      <td>0.286678</td>\n",
       "      <td>-1.084387</td>\n",
       "      <td>0.286678</td>\n",
       "    </tr>\n",
       "    <tr>\n",
       "      <td>2</td>\n",
       "      <td>-1.002699</td>\n",
       "      <td>-1.084387</td>\n",
       "      <td>-1.002699</td>\n",
       "      <td>-1.084387</td>\n",
       "      <td>0.419857</td>\n",
       "      <td>0.167231</td>\n",
       "      <td>0.286678</td>\n",
       "      <td>0.167231</td>\n",
       "      <td>-1.002699</td>\n",
       "    </tr>\n",
       "    <tr>\n",
       "      <td>3</td>\n",
       "      <td>-1.002699</td>\n",
       "      <td>-1.084387</td>\n",
       "      <td>-1.002699</td>\n",
       "      <td>-1.084387</td>\n",
       "      <td>0.419857</td>\n",
       "      <td>0.167231</td>\n",
       "      <td>0.286678</td>\n",
       "      <td>1.418849</td>\n",
       "      <td>1.576054</td>\n",
       "    </tr>\n",
       "    <tr>\n",
       "      <td>4</td>\n",
       "      <td>-1.002699</td>\n",
       "      <td>-1.084387</td>\n",
       "      <td>-1.002699</td>\n",
       "      <td>-1.084387</td>\n",
       "      <td>0.419857</td>\n",
       "      <td>0.167231</td>\n",
       "      <td>1.576054</td>\n",
       "      <td>0.167231</td>\n",
       "      <td>1.576054</td>\n",
       "    </tr>\n",
       "    <tr>\n",
       "      <td>...</td>\n",
       "      <td>...</td>\n",
       "      <td>...</td>\n",
       "      <td>...</td>\n",
       "      <td>...</td>\n",
       "      <td>...</td>\n",
       "      <td>...</td>\n",
       "      <td>...</td>\n",
       "      <td>...</td>\n",
       "      <td>...</td>\n",
       "    </tr>\n",
       "    <tr>\n",
       "      <td>953</td>\n",
       "      <td>0.286678</td>\n",
       "      <td>-1.084387</td>\n",
       "      <td>-1.002699</td>\n",
       "      <td>-1.084387</td>\n",
       "      <td>0.419857</td>\n",
       "      <td>0.167231</td>\n",
       "      <td>0.286678</td>\n",
       "      <td>-1.084387</td>\n",
       "      <td>-1.002699</td>\n",
       "    </tr>\n",
       "    <tr>\n",
       "      <td>954</td>\n",
       "      <td>0.286678</td>\n",
       "      <td>-1.084387</td>\n",
       "      <td>0.286678</td>\n",
       "      <td>-1.084387</td>\n",
       "      <td>-0.929886</td>\n",
       "      <td>0.167231</td>\n",
       "      <td>-1.002699</td>\n",
       "      <td>0.167231</td>\n",
       "      <td>-1.002699</td>\n",
       "    </tr>\n",
       "    <tr>\n",
       "      <td>955</td>\n",
       "      <td>0.286678</td>\n",
       "      <td>-1.084387</td>\n",
       "      <td>0.286678</td>\n",
       "      <td>-1.084387</td>\n",
       "      <td>0.419857</td>\n",
       "      <td>-1.084387</td>\n",
       "      <td>-1.002699</td>\n",
       "      <td>0.167231</td>\n",
       "      <td>-1.002699</td>\n",
       "    </tr>\n",
       "    <tr>\n",
       "      <td>956</td>\n",
       "      <td>0.286678</td>\n",
       "      <td>-1.084387</td>\n",
       "      <td>0.286678</td>\n",
       "      <td>0.167231</td>\n",
       "      <td>-0.929886</td>\n",
       "      <td>-1.084387</td>\n",
       "      <td>-1.002699</td>\n",
       "      <td>0.167231</td>\n",
       "      <td>-1.002699</td>\n",
       "    </tr>\n",
       "    <tr>\n",
       "      <td>957</td>\n",
       "      <td>0.286678</td>\n",
       "      <td>0.167231</td>\n",
       "      <td>-1.002699</td>\n",
       "      <td>-1.084387</td>\n",
       "      <td>-0.929886</td>\n",
       "      <td>0.167231</td>\n",
       "      <td>0.286678</td>\n",
       "      <td>-1.084387</td>\n",
       "      <td>-1.002699</td>\n",
       "    </tr>\n",
       "  </tbody>\n",
       "</table>\n",
       "<p>958 rows × 9 columns</p>\n",
       "</div>"
      ],
      "text/plain": [
       "           TL        TM        TR        ML        MM        MR        BL  \\\n",
       "0   -1.002699 -1.084387 -1.002699 -1.084387  0.419857  0.167231 -1.002699   \n",
       "1   -1.002699 -1.084387 -1.002699 -1.084387  0.419857  0.167231  0.286678   \n",
       "2   -1.002699 -1.084387 -1.002699 -1.084387  0.419857  0.167231  0.286678   \n",
       "3   -1.002699 -1.084387 -1.002699 -1.084387  0.419857  0.167231  0.286678   \n",
       "4   -1.002699 -1.084387 -1.002699 -1.084387  0.419857  0.167231  1.576054   \n",
       "..        ...       ...       ...       ...       ...       ...       ...   \n",
       "953  0.286678 -1.084387 -1.002699 -1.084387  0.419857  0.167231  0.286678   \n",
       "954  0.286678 -1.084387  0.286678 -1.084387 -0.929886  0.167231 -1.002699   \n",
       "955  0.286678 -1.084387  0.286678 -1.084387  0.419857 -1.084387 -1.002699   \n",
       "956  0.286678 -1.084387  0.286678  0.167231 -0.929886 -1.084387 -1.002699   \n",
       "957  0.286678  0.167231 -1.002699 -1.084387 -0.929886  0.167231  0.286678   \n",
       "\n",
       "           BM        BR  \n",
       "0    0.167231  0.286678  \n",
       "1   -1.084387  0.286678  \n",
       "2    0.167231 -1.002699  \n",
       "3    1.418849  1.576054  \n",
       "4    0.167231  1.576054  \n",
       "..        ...       ...  \n",
       "953 -1.084387 -1.002699  \n",
       "954  0.167231 -1.002699  \n",
       "955  0.167231 -1.002699  \n",
       "956  0.167231 -1.002699  \n",
       "957 -1.084387 -1.002699  \n",
       "\n",
       "[958 rows x 9 columns]"
      ]
     },
     "execution_count": 53,
     "metadata": {},
     "output_type": "execute_result"
    }
   ],
   "source": [
    "normalized_data_input = (data_input-data_input.mean())/data_input.std()\n",
    "normalized_data_input"
   ]
  },
  {
   "cell_type": "markdown",
   "metadata": {},
   "source": [
    "## Step 2: Build Neural Network\n",
    "\n",
    "To build the neural network, you can refer to your own codes you wrote while following the [Deep Learning with Python, TensorFlow, and Keras tutorial](https://www.youtube.com/watch?v=wQ8BIBpya2k) in the lesson. It's pretty similar to what you will be doing in this lab.\n",
    "\n",
    "1. Split the training and test data.\n",
    "1. Create a `Sequential` model.\n",
    "1. Add several layers to your model. Make sure you use ReLU as the activation function for the middle layers. Use Softmax for the output layer because each output has a single lable and all the label probabilities add up to 1.\n",
    "1. Compile the model using `adam` as the optimizer and `sparse_categorical_crossentropy` as the loss function. For metrics, use `accuracy` for now.\n",
    "1. Fit the training data.\n",
    "1. Evaluate your neural network model with the test data.\n",
    "1. Save your model as `tic-tac-toe.model`."
   ]
  },
  {
   "cell_type": "code",
   "execution_count": 71,
   "metadata": {},
   "outputs": [],
   "source": [
    "import tensorflow as tf\n",
    "tf.__version__\n",
    "\n",
    "from sklearn.model_selection import train_test_split\n"
   ]
  },
  {
   "cell_type": "code",
   "execution_count": 80,
   "metadata": {},
   "outputs": [
    {
     "name": "stdout",
     "output_type": "stream",
     "text": [
      "Epoch 1/5\n",
      "WARNING:tensorflow:Layer flatten_9 is casting an input tensor from dtype float64 to the layer's dtype of float32, which is new behavior in TensorFlow 2.  The layer has dtype float32 because it's dtype defaults to floatx.\n",
      "\n",
      "If you intended to run this layer in float32, you can safely ignore this warning. If in doubt, this warning is likely only an issue if you are porting a TensorFlow 1.X model to TensorFlow 2.\n",
      "\n",
      "To change all layers to have dtype float64 by default, call `tf.keras.backend.set_floatx('float64')`. To change just this layer, pass dtype='float64' to the layer constructor. If you are the author of this layer, you can disable autocasting by passing autocast=False to the base Layer constructor.\n",
      "\n",
      "24/24 [==============================] - 0s 3ms/step - loss: 0.6428 - accuracy: 0.6514\n",
      "Epoch 2/5\n",
      "24/24 [==============================] - 0s 4ms/step - loss: 0.6125 - accuracy: 0.6554\n",
      "Epoch 3/5\n",
      "24/24 [==============================] - 0s 3ms/step - loss: 0.5929 - accuracy: 0.6945\n",
      "Epoch 4/5\n",
      "24/24 [==============================] - 0s 3ms/step - loss: 0.5737 - accuracy: 0.7258\n",
      "Epoch 5/5\n",
      "24/24 [==============================] - 0s 4ms/step - loss: 0.5448 - accuracy: 0.7389\n"
     ]
    },
    {
     "data": {
      "text/plain": [
       "<tensorflow.python.keras.callbacks.History at 0x7ff053e71990>"
      ]
     },
     "execution_count": 80,
     "metadata": {},
     "output_type": "execute_result"
    }
   ],
   "source": [
    "# your code here\n",
    "\n",
    "X_train, X_test, y_train, y_test = train_test_split(data_input, data_output, test_size=0.2, random_state=42)\n",
    "\n",
    "X_train = tf.keras.utils.normalize(X_train, axis=1)\n",
    "X_test = tf.keras.utils.normalize(X_test, axis=1)\n",
    "\n",
    "model = tf.keras.models.Sequential()\n",
    "model.add(tf.keras.layers.Flatten())\n",
    "model.add(tf.keras.layers.Dense(100, activation=tf.nn.relu))\n",
    "model.add(tf.keras.layers.Dense(100, activation=tf.nn.relu))\n",
    "model.add(tf.keras.layers.Dense(2, activation=tf.nn.softmax))\n",
    "\n",
    "model.compile(optimizer='adam', loss='sparse_categorical_crossentropy', metrics=['accuracy'])\n",
    "\n",
    "model.fit(X_train, y_train, epochs=5)"
   ]
  },
  {
   "cell_type": "code",
   "execution_count": 81,
   "metadata": {},
   "outputs": [
    {
     "name": "stdout",
     "output_type": "stream",
     "text": [
      "6/6 [==============================] - 0s 3ms/step - loss: 0.5632 - accuracy: 0.7344\n",
      "0.5632031559944153 0.734375\n"
     ]
    }
   ],
   "source": [
    "val_loss, val_acc = model.evaluate(X_test, y_test)\n",
    "print(val_loss, val_acc)"
   ]
  },
  {
   "cell_type": "code",
   "execution_count": 82,
   "metadata": {},
   "outputs": [
    {
     "name": "stdout",
     "output_type": "stream",
     "text": [
      "WARNING:tensorflow:From /Users/vpavandijk/opt/anaconda3/lib/python3.7/site-packages/tensorflow/python/ops/resource_variable_ops.py:1817: calling BaseResourceVariable.__init__ (from tensorflow.python.ops.resource_variable_ops) with constraint is deprecated and will be removed in a future version.\n",
      "Instructions for updating:\n",
      "If using Keras pass *_constraint arguments to layers.\n",
      "INFO:tensorflow:Assets written to: tic-tac-toe.model/assets\n"
     ]
    }
   ],
   "source": [
    "model.save('tic-tac-toe.model')"
   ]
  },
  {
   "cell_type": "markdown",
   "metadata": {},
   "source": [
    "## Step 3: Make Predictions\n",
    "\n",
    "Now load your saved model and use it to make predictions on a few random rows in the test dataset. Check if the predictions are correct."
   ]
  },
  {
   "cell_type": "code",
   "execution_count": 83,
   "metadata": {},
   "outputs": [],
   "source": [
    "# your code here\n",
    "model_loaded = tf.keras.models.load_model('tic-tac-toe.model')"
   ]
  },
  {
   "cell_type": "code",
   "execution_count": 97,
   "metadata": {},
   "outputs": [
    {
     "name": "stdout",
     "output_type": "stream",
     "text": [
      "[[0.13123375 0.86876625]\n",
      " [0.40469742 0.5953026 ]\n",
      " [0.5631076  0.43689242]]\n",
      "261    True\n",
      "215    True\n",
      "334    True\n",
      "Name: class, dtype: bool\n"
     ]
    }
   ],
   "source": [
    "# X_test.iloc[0]\n",
    "prediction = model_loaded.predict(X_test.iloc[5:8])\n",
    "print(prediction)\n",
    "print(y_test[5:8])"
   ]
  },
  {
   "cell_type": "markdown",
   "metadata": {},
   "source": [
    "## Step 4: Improve Your Model\n",
    "\n",
    "Did your model achieve low loss (<0.1) and high accuracy (>0.95)? If not, try to improve your model.\n",
    "\n",
    "But how? There are so many things you can play with in Tensorflow and in the next challenge you'll learn about these things. But in this challenge, let's just do a few things to see if they will help.\n",
    "\n",
    "* Add more layers to your model. If the data are complex you need more layers. But don't use more layers than you need. If adding more layers does not improve the model performance you don't need additional layers.\n",
    "* Adjust the learning rate when you compile the model. This means you will create a custom `tf.keras.optimizers.Adam` instance where you specify the learning rate you want. Then pass the instance to `model.compile` as the optimizer.\n",
    "    * `tf.keras.optimizers.Adam` [reference](https://www.tensorflow.org/api_docs/python/tf/keras/optimizers/Adam).\n",
    "    * Don't worry if you don't understand what the learning rate does. You'll learn about it in the next challenge.\n",
    "* Adjust the number of epochs when you fit the training data to the model. Your model performance continues to improve as you train more epochs. But eventually it will reach the ceiling and the performance will stay the same."
   ]
  },
  {
   "cell_type": "code",
   "execution_count": 107,
   "metadata": {},
   "outputs": [
    {
     "name": "stdout",
     "output_type": "stream",
     "text": [
      "Epoch 1/10\n",
      "WARNING:tensorflow:Layer flatten_19 is casting an input tensor from dtype float64 to the layer's dtype of float32, which is new behavior in TensorFlow 2.  The layer has dtype float32 because it's dtype defaults to floatx.\n",
      "\n",
      "If you intended to run this layer in float32, you can safely ignore this warning. If in doubt, this warning is likely only an issue if you are porting a TensorFlow 1.X model to TensorFlow 2.\n",
      "\n",
      "To change all layers to have dtype float64 by default, call `tf.keras.backend.set_floatx('float64')`. To change just this layer, pass dtype='float64' to the layer constructor. If you are the author of this layer, you can disable autocasting by passing autocast=False to the base Layer constructor.\n",
      "\n",
      "24/24 [==============================] - 0s 4ms/step - loss: 0.6531 - accuracy: 0.6475\n",
      "Epoch 2/10\n",
      "24/24 [==============================] - 0s 4ms/step - loss: 0.6050 - accuracy: 0.6749\n",
      "Epoch 3/10\n",
      "24/24 [==============================] - 0s 5ms/step - loss: 0.6144 - accuracy: 0.6867\n",
      "Epoch 4/10\n",
      "24/24 [==============================] - 0s 5ms/step - loss: 0.4976 - accuracy: 0.7807\n",
      "Epoch 5/10\n",
      "24/24 [==============================] - 0s 6ms/step - loss: 0.3621 - accuracy: 0.8486\n",
      "Epoch 6/10\n",
      "24/24 [==============================] - 0s 5ms/step - loss: 0.2894 - accuracy: 0.8838\n",
      "Epoch 7/10\n",
      "24/24 [==============================] - 0s 5ms/step - loss: 0.1805 - accuracy: 0.9347\n",
      "Epoch 8/10\n",
      "24/24 [==============================] - 0s 6ms/step - loss: 0.1210 - accuracy: 0.9569\n",
      "Epoch 9/10\n",
      "24/24 [==============================] - 0s 6ms/step - loss: 0.0761 - accuracy: 0.9739\n",
      "Epoch 10/10\n",
      "24/24 [==============================] - 0s 6ms/step - loss: 0.0224 - accuracy: 0.9987\n",
      "6/6 [==============================] - 0s 2ms/step - loss: 0.0786 - accuracy: 0.9688\n",
      "0.07858141511678696 0.96875\n"
     ]
    }
   ],
   "source": [
    "# your code here\n",
    "model2 = tf.keras.models.Sequential()\n",
    "model2.add(tf.keras.layers.Flatten())\n",
    "model2.add(tf.keras.layers.Dense(100, activation=tf.nn.relu))\n",
    "model2.add(tf.keras.layers.Dense(200, activation=tf.nn.relu))\n",
    "model2.add(tf.keras.layers.Dense(200, activation=tf.nn.relu))\n",
    "model2.add(tf.keras.layers.Dense(100, activation=tf.nn.relu))\n",
    "model2.add(tf.keras.layers.Dense(50, activation=tf.nn.relu))\n",
    "model2.add(tf.keras.layers.Dense(25, activation=tf.nn.relu))\n",
    "model2.add(tf.keras.layers.Dense(2, activation=tf.nn.softmax))\n",
    "\n",
    "model2.compile(optimizer='adam', loss='sparse_categorical_crossentropy', metrics=['accuracy'])\n",
    "\n",
    "model2.fit(X_train, y_train, epochs=10)\n",
    "\n",
    "val_loss2, val_acc2 = model2.evaluate(X_test, y_test)\n",
    "print(val_loss2, val_acc2)"
   ]
  },
  {
   "cell_type": "markdown",
   "metadata": {},
   "source": [
    "**Which approach(es) did you find helpful to improve your model performance?**"
   ]
  },
  {
   "cell_type": "code",
   "execution_count": null,
   "metadata": {},
   "outputs": [],
   "source": [
    "# your answer here\n",
    "\n",
    "# what most helped in the end was changing the number of neurons to a curve (100-200-200-100-50-25-2)"
   ]
  }
 ],
 "metadata": {
  "kernelspec": {
   "display_name": "Python 3",
   "language": "python",
   "name": "python3"
  },
  "language_info": {
   "codemirror_mode": {
    "name": "ipython",
    "version": 3
   },
   "file_extension": ".py",
   "mimetype": "text/x-python",
   "name": "python",
   "nbconvert_exporter": "python",
   "pygments_lexer": "ipython3",
   "version": "3.7.4"
  }
 },
 "nbformat": 4,
 "nbformat_minor": 2
}
