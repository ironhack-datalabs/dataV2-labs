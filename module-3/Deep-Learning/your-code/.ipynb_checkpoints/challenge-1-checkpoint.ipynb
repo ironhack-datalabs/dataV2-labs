{
 "cells": [
  {
   "cell_type": "markdown",
   "metadata": {},
   "source": [
    "# Challenge 1 - Tic Tac Toe\n",
    "\n",
    "In this lab you will perform deep learning analysis on a dataset of playing [Tic Tac Toe](https://en.wikipedia.org/wiki/Tic-tac-toe).\n",
    "\n",
    "There are 9 grids in Tic Tac Toe that are coded as the following picture shows:\n",
    "\n",
    "![Tic Tac Toe Grids](tttboard.jpg)\n",
    "\n",
    "In the first 9 columns of the dataset you can find which marks (`x` or `o`) exist in the grids. If there is no mark in a certain grid, it is labeled as `b`. The last column is `class` which tells you whether Player X (who always moves first in Tic Tac Toe) wins in this configuration. Note that when `class` has the value `False`, it means either Player O wins the game or it ends up as a draw."
   ]
  },
  {
   "cell_type": "markdown",
   "metadata": {},
   "source": [
    "Follow the steps suggested below to conduct a neural network analysis using Tensorflow and Keras. You will build a deep learning model to predict whether Player X wins the game or not.\n",
    "\n",
    "## Step 1: Data Engineering\n",
    "\n",
    "This dataset is almost in the ready-to-use state so you do not need to worry about missing values and so on. Still, some simple data engineering is needed.\n",
    "\n",
    "1. Read `tic-tac-toe.csv` into a dataframe.\n",
    "1. Inspect the dataset. Determine if the dataset is reliable by eyeballing the data.\n",
    "1. Convert the categorical values to numeric in all columns.\n",
    "1. Separate the inputs and output.\n",
    "1. Normalize the input data."
   ]
  },
  {
   "cell_type": "code",
   "execution_count": 1,
   "metadata": {},
   "outputs": [],
   "source": [
    "import pandas as pd"
   ]
  },
  {
   "cell_type": "code",
   "execution_count": 7,
   "metadata": {},
   "outputs": [],
   "source": [
    "from tensorflow.keras.layers.experimental.preprocessing import IntegerLookup\n",
    "from tensorflow.keras.layers.experimental.preprocessing import Normalization\n",
    "from tensorflow.keras.layers.experimental.preprocessing import StringLookup\n",
    "import tensorflow as tf\n",
    "import numpy as np\n",
    "import pandas as pd\n",
    "from tensorflow import keras\n",
    "from tensorflow.keras import layers"
   ]
  },
  {
   "cell_type": "code",
   "execution_count": 2,
   "metadata": {},
   "outputs": [
    {
     "data": {
      "text/html": [
       "<div>\n",
       "<style scoped>\n",
       "    .dataframe tbody tr th:only-of-type {\n",
       "        vertical-align: middle;\n",
       "    }\n",
       "\n",
       "    .dataframe tbody tr th {\n",
       "        vertical-align: top;\n",
       "    }\n",
       "\n",
       "    .dataframe thead th {\n",
       "        text-align: right;\n",
       "    }\n",
       "</style>\n",
       "<table border=\"1\" class=\"dataframe\">\n",
       "  <thead>\n",
       "    <tr style=\"text-align: right;\">\n",
       "      <th></th>\n",
       "      <th>TL</th>\n",
       "      <th>TM</th>\n",
       "      <th>TR</th>\n",
       "      <th>ML</th>\n",
       "      <th>MM</th>\n",
       "      <th>MR</th>\n",
       "      <th>BL</th>\n",
       "      <th>BM</th>\n",
       "      <th>BR</th>\n",
       "      <th>class</th>\n",
       "    </tr>\n",
       "  </thead>\n",
       "  <tbody>\n",
       "    <tr>\n",
       "      <th>0</th>\n",
       "      <td>x</td>\n",
       "      <td>x</td>\n",
       "      <td>x</td>\n",
       "      <td>x</td>\n",
       "      <td>o</td>\n",
       "      <td>o</td>\n",
       "      <td>x</td>\n",
       "      <td>o</td>\n",
       "      <td>o</td>\n",
       "      <td>True</td>\n",
       "    </tr>\n",
       "    <tr>\n",
       "      <th>1</th>\n",
       "      <td>x</td>\n",
       "      <td>x</td>\n",
       "      <td>x</td>\n",
       "      <td>x</td>\n",
       "      <td>o</td>\n",
       "      <td>o</td>\n",
       "      <td>o</td>\n",
       "      <td>x</td>\n",
       "      <td>o</td>\n",
       "      <td>True</td>\n",
       "    </tr>\n",
       "    <tr>\n",
       "      <th>2</th>\n",
       "      <td>x</td>\n",
       "      <td>x</td>\n",
       "      <td>x</td>\n",
       "      <td>x</td>\n",
       "      <td>o</td>\n",
       "      <td>o</td>\n",
       "      <td>o</td>\n",
       "      <td>o</td>\n",
       "      <td>x</td>\n",
       "      <td>True</td>\n",
       "    </tr>\n",
       "    <tr>\n",
       "      <th>3</th>\n",
       "      <td>x</td>\n",
       "      <td>x</td>\n",
       "      <td>x</td>\n",
       "      <td>x</td>\n",
       "      <td>o</td>\n",
       "      <td>o</td>\n",
       "      <td>o</td>\n",
       "      <td>b</td>\n",
       "      <td>b</td>\n",
       "      <td>True</td>\n",
       "    </tr>\n",
       "    <tr>\n",
       "      <th>4</th>\n",
       "      <td>x</td>\n",
       "      <td>x</td>\n",
       "      <td>x</td>\n",
       "      <td>x</td>\n",
       "      <td>o</td>\n",
       "      <td>o</td>\n",
       "      <td>b</td>\n",
       "      <td>o</td>\n",
       "      <td>b</td>\n",
       "      <td>True</td>\n",
       "    </tr>\n",
       "  </tbody>\n",
       "</table>\n",
       "</div>"
      ],
      "text/plain": [
       "  TL TM TR ML MM MR BL BM BR  class\n",
       "0  x  x  x  x  o  o  x  o  o   True\n",
       "1  x  x  x  x  o  o  o  x  o   True\n",
       "2  x  x  x  x  o  o  o  o  x   True\n",
       "3  x  x  x  x  o  o  o  b  b   True\n",
       "4  x  x  x  x  o  o  b  o  b   True"
      ]
     },
     "execution_count": 2,
     "metadata": {},
     "output_type": "execute_result"
    }
   ],
   "source": [
    "df = pd.read_csv('tic-tac-toe.csv')\n",
    "df.head()"
   ]
  },
  {
   "cell_type": "code",
   "execution_count": 5,
   "metadata": {},
   "outputs": [
    {
     "data": {
      "text/plain": [
       "True     626\n",
       "False    332\n",
       "Name: class, dtype: int64"
      ]
     },
     "execution_count": 5,
     "metadata": {},
     "output_type": "execute_result"
    }
   ],
   "source": [
    "df['class'].value_counts()"
   ]
  },
  {
   "cell_type": "code",
   "execution_count": 14,
   "metadata": {},
   "outputs": [],
   "source": [
    "encoded_df = df.copy()\n",
    "encoded_df.TL = pd.factorize(df.TL)[0]\n",
    "encoded_df.TM = pd.factorize(df.TM)[0]\n",
    "encoded_df.TR = pd.factorize(df.TR)[0]\n",
    "encoded_df.ML = pd.factorize(df.ML)[0]\n",
    "encoded_df.MM = pd.factorize(df.MM)[0]\n",
    "encoded_df.MR = pd.factorize(df.MR)[0]\n",
    "encoded_df.BL = pd.factorize(df.BL)[0]\n",
    "encoded_df.BM = pd.factorize(df.BM)[0]\n",
    "encoded_df.BR = pd.factorize(df.BR)[0]\n",
    "encoded_df['class'] = pd.factorize(df['class'])[0]"
   ]
  },
  {
   "cell_type": "code",
   "execution_count": 30,
   "metadata": {},
   "outputs": [
    {
     "data": {
      "text/plain": [
       "0    418\n",
       "1    335\n",
       "2    205\n",
       "Name: TL, dtype: int64"
      ]
     },
     "execution_count": 30,
     "metadata": {},
     "output_type": "execute_result"
    }
   ],
   "source": [
    "encoded_df.TL.value_counts()"
   ]
  },
  {
   "cell_type": "markdown",
   "metadata": {},
   "source": [
    "## Step 2: Build Neural Network\n",
    "\n",
    "To build the neural network, you can refer to your own codes you wrote while following the [Deep Learning with Python, TensorFlow, and Keras tutorial](https://www.youtube.com/watch?v=wQ8BIBpya2k) in the lesson. It's pretty similar to what you will be doing in this lab.\n",
    "\n",
    "1. Split the training and test data.\n",
    "1. Create a `Sequential` model.\n",
    "1. Add several layers to your model. Make sure you use ReLU as the activation function for the middle layers. Use Softmax for the output layer because each output has a single lable and all the label probabilities add up to 1.\n",
    "1. Compile the model using `adam` as the optimizer and `sparse_categorical_crossentropy` as the loss function. For metrics, use `accuracy` for now.\n",
    "1. Fit the training data.\n",
    "1. Evaluate your neural network model with the test data.\n",
    "1. Save your model as `tic-tac-toe.model`."
   ]
  },
  {
   "cell_type": "code",
   "execution_count": 18,
   "metadata": {},
   "outputs": [
    {
     "name": "stdout",
     "output_type": "stream",
     "text": [
      "Using 766 samples for training and 192 for validation\n"
     ]
    }
   ],
   "source": [
    "val_dataframe = encoded_df.sample(frac=0.2, random_state=1337)\n",
    "train_dataframe = encoded_df.drop(val_dataframe.index)\n",
    "\n",
    "print(\n",
    "    \"Using %d samples for training and %d for validation\"\n",
    "    % (len(train_dataframe), len(val_dataframe))\n",
    ")"
   ]
  },
  {
   "cell_type": "code",
   "execution_count": 20,
   "metadata": {},
   "outputs": [],
   "source": [
    "def dataframe_to_dataset(dataframe):\n",
    "    dataframe = dataframe.copy()\n",
    "    labels = dataframe.pop(\"class\")\n",
    "    ds = tf.data.Dataset.from_tensor_slices((dict(dataframe), labels))\n",
    "    ds = ds.shuffle(buffer_size=len(dataframe))\n",
    "    return ds\n",
    "\n",
    "\n",
    "train_ds = dataframe_to_dataset(train_dataframe)\n",
    "val_ds = dataframe_to_dataset(val_dataframe)"
   ]
  },
  {
   "cell_type": "code",
   "execution_count": 21,
   "metadata": {},
   "outputs": [],
   "source": [
    "train_ds = train_ds.batch(32)\n",
    "val_ds = val_ds.batch(32)"
   ]
  },
  {
   "cell_type": "code",
   "execution_count": 22,
   "metadata": {},
   "outputs": [
    {
     "data": {
      "text/plain": [
       "<BatchDataset shapes: ({TL: (None,), TM: (None,), TR: (None,), ML: (None,), MM: (None,), MR: (None,), BL: (None,), BM: (None,), BR: (None,)}, (None,)), types: ({TL: tf.int64, TM: tf.int64, TR: tf.int64, ML: tf.int64, MM: tf.int64, MR: tf.int64, BL: tf.int64, BM: tf.int64, BR: tf.int64}, tf.int64)>"
      ]
     },
     "execution_count": 22,
     "metadata": {},
     "output_type": "execute_result"
    }
   ],
   "source": [
    "train_ds"
   ]
  },
  {
   "cell_type": "code",
   "execution_count": 32,
   "metadata": {
    "tags": []
   },
   "outputs": [],
   "source": [
    "# Categorical features encoded as integers\n",
    "TL = keras.Input(shape=(1,), name=\"TL\", dtype=\"int64\")\n",
    "TM = keras.Input(shape=(1,), name=\"TM\", dtype=\"int64\")\n",
    "TR = keras.Input(shape=(1,), name=\"TR\", dtype=\"int64\")\n",
    "ML = keras.Input(shape=(1,), name=\"ML\", dtype=\"int64\")\n",
    "MM = keras.Input(shape=(1,), name=\"MM\", dtype=\"int64\")\n",
    "MR = keras.Input(shape=(1,), name=\"MR\", dtype=\"int64\")\n",
    "BL = keras.Input(shape=(1,), name=\"BL\", dtype=\"int64\")\n",
    "BM = keras.Input(shape=(1,), name=\"BM\", dtype=\"int64\")\n",
    "BR = keras.Input(shape=(1,), name=\"BR\", dtype=\"int64\")\n",
    "\n",
    "\n",
    "all_inputs = [\n",
    "    TL, TM, TR, ML, MM, MR, BL, BM, BR\n",
    "]\n",
    "\n",
    "# Integer categorical features\n",
    "TL_encoded = encode_categorical_feature(TL, \"TL\", train_ds, False)\n",
    "TM_encoded = encode_categorical_feature(TM, \"TM\", train_ds, False)\n",
    "TR_encoded = encode_categorical_feature(TR, \"TR\", train_ds, False)\n",
    "ML_encoded = encode_categorical_feature(ML, \"ML\", train_ds, False)\n",
    "MM_encoded = encode_categorical_feature(MM, \"MM\", train_ds, False)\n",
    "MR_encoded = encode_categorical_feature(MR, \"MR\", train_ds, False)\n",
    "BL_encoded = encode_categorical_feature(BL, \"BL\", train_ds, False)\n",
    "BM_encoded = encode_categorical_feature(BM, \"BM\", train_ds, False)\n",
    "BR_encoded = encode_categorical_feature(BR, \"BR\", train_ds, False)\n",
    "\n",
    "all_features = layers.concatenate(\n",
    "    [\n",
    "        TL_encoded,\n",
    "        TM_encoded,\n",
    "        TR_encoded,\n",
    "        ML_encoded,\n",
    "        MM_encoded,\n",
    "        MR_encoded,\n",
    "        BL_encoded,\n",
    "        BM_encoded,\n",
    "        BR_encoded,\n",
    "    ]\n",
    ")\n",
    "x = layers.Dense(32, activation=\"relu\")(all_features)\n",
    "# next line is not necessary but improve results for step 4\n",
    "x = layers.Dense(16, activation=\"relu\")(x)\n",
    "x = layers.Dropout(0.5)(x)\n",
    "output = layers.Dense(2, activation=\"sigmoid\")(x)\n",
    "model = keras.Model(all_inputs, output)\n",
    "model.compile(\"adam\", \"sparse_categorical_crossentropy\", metrics=[\"accuracy\"])\n"
   ]
  },
  {
   "cell_type": "code",
   "execution_count": 33,
   "metadata": {},
   "outputs": [
    {
     "name": "stdout",
     "output_type": "stream",
     "text": [
      "Epoch 1/50\n",
      "24/24 [==============================] - 1s 22ms/step - loss: 0.6847 - accuracy: 0.6070 - val_loss: 0.6319 - val_accuracy: 0.6771\n",
      "Epoch 2/50\n",
      "24/24 [==============================] - 0s 8ms/step - loss: 0.6579 - accuracy: 0.6279 - val_loss: 0.6227 - val_accuracy: 0.6771\n",
      "Epoch 3/50\n",
      "24/24 [==============================] - 0s 8ms/step - loss: 0.6393 - accuracy: 0.6397 - val_loss: 0.6135 - val_accuracy: 0.6771\n",
      "Epoch 4/50\n",
      "24/24 [==============================] - 0s 6ms/step - loss: 0.6266 - accuracy: 0.6554 - val_loss: 0.6040 - val_accuracy: 0.6771\n",
      "Epoch 5/50\n",
      "24/24 [==============================] - 0s 11ms/step - loss: 0.6179 - accuracy: 0.6710 - val_loss: 0.5962 - val_accuracy: 0.6927\n",
      "Epoch 6/50\n",
      "24/24 [==============================] - 0s 9ms/step - loss: 0.6076 - accuracy: 0.6932 - val_loss: 0.5870 - val_accuracy: 0.7135\n",
      "Epoch 7/50\n",
      "24/24 [==============================] - 0s 7ms/step - loss: 0.5935 - accuracy: 0.6880 - val_loss: 0.5777 - val_accuracy: 0.7188\n",
      "Epoch 8/50\n",
      "24/24 [==============================] - 0s 8ms/step - loss: 0.5800 - accuracy: 0.6997 - val_loss: 0.5687 - val_accuracy: 0.7188\n",
      "Epoch 9/50\n",
      "24/24 [==============================] - 0s 9ms/step - loss: 0.5766 - accuracy: 0.7232 - val_loss: 0.5590 - val_accuracy: 0.7448\n",
      "Epoch 10/50\n",
      "24/24 [==============================] - 0s 6ms/step - loss: 0.5593 - accuracy: 0.7285 - val_loss: 0.5482 - val_accuracy: 0.7448\n",
      "Epoch 11/50\n",
      "24/24 [==============================] - 0s 8ms/step - loss: 0.5446 - accuracy: 0.7415 - val_loss: 0.5377 - val_accuracy: 0.7500\n",
      "Epoch 12/50\n",
      "24/24 [==============================] - 0s 6ms/step - loss: 0.5397 - accuracy: 0.7415 - val_loss: 0.5303 - val_accuracy: 0.7552\n",
      "Epoch 13/50\n",
      "24/24 [==============================] - 0s 8ms/step - loss: 0.5246 - accuracy: 0.7533 - val_loss: 0.5185 - val_accuracy: 0.7448\n",
      "Epoch 14/50\n",
      "24/24 [==============================] - 0s 10ms/step - loss: 0.5273 - accuracy: 0.7480 - val_loss: 0.5119 - val_accuracy: 0.7552\n",
      "Epoch 15/50\n",
      "24/24 [==============================] - 0s 8ms/step - loss: 0.5110 - accuracy: 0.7637 - val_loss: 0.5072 - val_accuracy: 0.7500\n",
      "Epoch 16/50\n",
      "24/24 [==============================] - 0s 7ms/step - loss: 0.4977 - accuracy: 0.7702 - val_loss: 0.4968 - val_accuracy: 0.7656\n",
      "Epoch 17/50\n",
      "24/24 [==============================] - 0s 6ms/step - loss: 0.4735 - accuracy: 0.7846 - val_loss: 0.4875 - val_accuracy: 0.7656\n",
      "Epoch 18/50\n",
      "24/24 [==============================] - 0s 9ms/step - loss: 0.4656 - accuracy: 0.7742 - val_loss: 0.4765 - val_accuracy: 0.7812\n",
      "Epoch 19/50\n",
      "24/24 [==============================] - 0s 11ms/step - loss: 0.4607 - accuracy: 0.7898 - val_loss: 0.4674 - val_accuracy: 0.7865\n",
      "Epoch 20/50\n",
      "24/24 [==============================] - 0s 12ms/step - loss: 0.4528 - accuracy: 0.7898 - val_loss: 0.4617 - val_accuracy: 0.7865\n",
      "Epoch 21/50\n",
      "24/24 [==============================] - 0s 7ms/step - loss: 0.4347 - accuracy: 0.8055 - val_loss: 0.4506 - val_accuracy: 0.7969\n",
      "Epoch 22/50\n",
      "24/24 [==============================] - 0s 8ms/step - loss: 0.4180 - accuracy: 0.8211 - val_loss: 0.4350 - val_accuracy: 0.8073\n",
      "Epoch 23/50\n",
      "24/24 [==============================] - 0s 5ms/step - loss: 0.4063 - accuracy: 0.8211 - val_loss: 0.4268 - val_accuracy: 0.8021\n",
      "Epoch 24/50\n",
      "24/24 [==============================] - 0s 7ms/step - loss: 0.3924 - accuracy: 0.8172 - val_loss: 0.4171 - val_accuracy: 0.8125\n",
      "Epoch 25/50\n",
      "24/24 [==============================] - 0s 11ms/step - loss: 0.3803 - accuracy: 0.8303 - val_loss: 0.4036 - val_accuracy: 0.8177\n",
      "Epoch 26/50\n",
      "24/24 [==============================] - 0s 11ms/step - loss: 0.3752 - accuracy: 0.8420 - val_loss: 0.3999 - val_accuracy: 0.8125\n",
      "Epoch 27/50\n",
      "24/24 [==============================] - 0s 9ms/step - loss: 0.3698 - accuracy: 0.8525 - val_loss: 0.3844 - val_accuracy: 0.8177\n",
      "Epoch 28/50\n",
      "24/24 [==============================] - 0s 8ms/step - loss: 0.3392 - accuracy: 0.8538 - val_loss: 0.3701 - val_accuracy: 0.8177\n",
      "Epoch 29/50\n",
      "24/24 [==============================] - 0s 8ms/step - loss: 0.3410 - accuracy: 0.8486 - val_loss: 0.3568 - val_accuracy: 0.8438\n",
      "Epoch 30/50\n",
      "24/24 [==============================] - 0s 6ms/step - loss: 0.3178 - accuracy: 0.8773 - val_loss: 0.3550 - val_accuracy: 0.8281\n",
      "Epoch 31/50\n",
      "24/24 [==============================] - 0s 5ms/step - loss: 0.3057 - accuracy: 0.8747 - val_loss: 0.3291 - val_accuracy: 0.8490\n",
      "Epoch 32/50\n",
      "24/24 [==============================] - 0s 7ms/step - loss: 0.2886 - accuracy: 0.8851 - val_loss: 0.3119 - val_accuracy: 0.8438\n",
      "Epoch 33/50\n",
      "24/24 [==============================] - 0s 8ms/step - loss: 0.2828 - accuracy: 0.8943 - val_loss: 0.3172 - val_accuracy: 0.8490\n",
      "Epoch 34/50\n",
      "24/24 [==============================] - 0s 6ms/step - loss: 0.2705 - accuracy: 0.8930 - val_loss: 0.2916 - val_accuracy: 0.8594\n",
      "Epoch 35/50\n",
      "24/24 [==============================] - 0s 11ms/step - loss: 0.2551 - accuracy: 0.8995 - val_loss: 0.3111 - val_accuracy: 0.8542\n",
      "Epoch 36/50\n",
      "24/24 [==============================] - 0s 10ms/step - loss: 0.2342 - accuracy: 0.9138 - val_loss: 0.2848 - val_accuracy: 0.8594\n",
      "Epoch 37/50\n",
      "24/24 [==============================] - 0s 8ms/step - loss: 0.2249 - accuracy: 0.9256 - val_loss: 0.2558 - val_accuracy: 0.8906\n",
      "Epoch 38/50\n",
      "24/24 [==============================] - 0s 5ms/step - loss: 0.2197 - accuracy: 0.9204 - val_loss: 0.2401 - val_accuracy: 0.8854\n",
      "Epoch 39/50\n",
      "24/24 [==============================] - 0s 13ms/step - loss: 0.1989 - accuracy: 0.9347 - val_loss: 0.2365 - val_accuracy: 0.8854\n",
      "Epoch 40/50\n",
      "24/24 [==============================] - 0s 6ms/step - loss: 0.1758 - accuracy: 0.9556 - val_loss: 0.2335 - val_accuracy: 0.8854\n",
      "Epoch 41/50\n",
      "24/24 [==============================] - 0s 7ms/step - loss: 0.1720 - accuracy: 0.9517 - val_loss: 0.1984 - val_accuracy: 0.9323\n",
      "Epoch 42/50\n",
      "24/24 [==============================] - 0s 8ms/step - loss: 0.1694 - accuracy: 0.9452 - val_loss: 0.2213 - val_accuracy: 0.9062\n",
      "Epoch 43/50\n",
      "24/24 [==============================] - 0s 11ms/step - loss: 0.1747 - accuracy: 0.9478 - val_loss: 0.1914 - val_accuracy: 0.9219\n",
      "Epoch 44/50\n",
      "24/24 [==============================] - 0s 8ms/step - loss: 0.1525 - accuracy: 0.9504 - val_loss: 0.1819 - val_accuracy: 0.9375\n",
      "Epoch 45/50\n",
      "24/24 [==============================] - 0s 9ms/step - loss: 0.1496 - accuracy: 0.9543 - val_loss: 0.1895 - val_accuracy: 0.9323\n",
      "Epoch 46/50\n",
      "24/24 [==============================] - 0s 9ms/step - loss: 0.1438 - accuracy: 0.9608 - val_loss: 0.1652 - val_accuracy: 0.9427\n",
      "Epoch 47/50\n",
      "24/24 [==============================] - 0s 7ms/step - loss: 0.1385 - accuracy: 0.9582 - val_loss: 0.1684 - val_accuracy: 0.9375\n",
      "Epoch 48/50\n",
      "24/24 [==============================] - 0s 10ms/step - loss: 0.1141 - accuracy: 0.9700 - val_loss: 0.1434 - val_accuracy: 0.9531\n",
      "Epoch 49/50\n",
      "24/24 [==============================] - 0s 10ms/step - loss: 0.1211 - accuracy: 0.9608 - val_loss: 0.1198 - val_accuracy: 0.9635\n",
      "Epoch 50/50\n",
      "24/24 [==============================] - 0s 9ms/step - loss: 0.1106 - accuracy: 0.9713 - val_loss: 0.1172 - val_accuracy: 0.9583\n"
     ]
    },
    {
     "data": {
      "text/plain": [
       "<tensorflow.python.keras.callbacks.History at 0x7f4f28170a30>"
      ]
     },
     "execution_count": 33,
     "metadata": {},
     "output_type": "execute_result"
    }
   ],
   "source": [
    "model.fit(train_ds, epochs=50, validation_data=val_ds)"
   ]
  },
  {
   "cell_type": "markdown",
   "metadata": {},
   "source": [
    "## Step 3: Make Predictions\n",
    "\n",
    "Now load your saved model and use it to make predictions on a few random rows in the test dataset. Check if the predictions are correct."
   ]
  },
  {
   "cell_type": "code",
   "execution_count": 31,
   "metadata": {},
   "outputs": [
    {
     "name": "stdout",
     "output_type": "stream",
     "text": [
      "This particular combination had a 29.7 percent probability of existing, as evaluated by our model.\n"
     ]
    }
   ],
   "source": [
    "sample = {\n",
    "    \"TL\": 1,\n",
    "    \"TM\": 1,\n",
    "    \"TR\": 2,\n",
    "    \"ML\": 0,\n",
    "    \"MM\": 0,\n",
    "    \"MR\": 1,\n",
    "    \"BL\": 0,\n",
    "    \"BM\": 1,\n",
    "    \"BR\": 0,\n",
    "}\n",
    "\n",
    "        \n",
    "input_dict = {name: tf.convert_to_tensor([value]) for name, value in sample.items()}\n",
    "predictions = model.predict(input_dict)\n",
    "\n",
    "print(\n",
    "    \"This particular combination had a %.1f percent probability \"\n",
    "    \"of existing, as evaluated by our model.\" % (100 * predictions[0][0],)\n",
    ")"
   ]
  },
  {
   "cell_type": "markdown",
   "metadata": {},
   "source": [
    "## Step 4: Improve Your Model\n",
    "\n",
    "Did your model achieve low loss (<0.1) and high accuracy (>0.95)? If not, try to improve your model.\n",
    "\n",
    "But how? There are so many things you can play with in Tensorflow and in the next challenge you'll learn about these things. But in this challenge, let's just do a few things to see if they will help.\n",
    "\n",
    "* Add more layers to your model. If the data are complex you need more layers. But don't use more layers than you need. If adding more layers does not improve the model performance you don't need additional layers.\n",
    "* Adjust the learning rate when you compile the model. This means you will create a custom `tf.keras.optimizers.Adam` instance where you specify the learning rate you want. Then pass the instance to `model.compile` as the optimizer.\n",
    "    * `tf.keras.optimizers.Adam` [reference](https://www.tensorflow.org/api_docs/python/tf/keras/optimizers/Adam).\n",
    "    * Don't worry if you don't understand what the learning rate does. You'll learn about it in the next challenge.\n",
    "* Adjust the number of epochs when you fit the training data to the model. Your model performance continues to improve as you train more epochs. But eventually it will reach the ceiling and the performance will stay the same."
   ]
  },
  {
   "cell_type": "code",
   "execution_count": null,
   "metadata": {},
   "outputs": [],
   "source": [
    "tf.keras.optimizers.Adam(\n",
    "    learning_rate=0.001, beta_1=0.9, beta_2=0.999, epsilon=1e-07, amsgrad=False,\n",
    "    name='Adam', **kwargs\n",
    ")\n"
   ]
  },
  {
   "cell_type": "code",
   "execution_count": 35,
   "metadata": {},
   "outputs": [],
   "source": [
    "opt = tf.keras.optimizers.Adam(learning_rate=0.1)\n",
    "model.compile(opt, \"sparse_categorical_crossentropy\", metrics=[\"accuracy\"])"
   ]
  },
  {
   "cell_type": "code",
   "execution_count": 36,
   "metadata": {},
   "outputs": [
    {
     "name": "stdout",
     "output_type": "stream",
     "text": [
      "Epoch 1/50\n",
      "24/24 [==============================] - 1s 19ms/step - loss: 1.0576 - accuracy: 0.6658 - val_loss: 0.5827 - val_accuracy: 0.6510\n",
      "Epoch 2/50\n",
      "24/24 [==============================] - 0s 7ms/step - loss: 0.5708 - accuracy: 0.6723 - val_loss: 0.5385 - val_accuracy: 0.6719\n",
      "Epoch 3/50\n",
      "24/24 [==============================] - 0s 8ms/step - loss: 0.4978 - accuracy: 0.7258 - val_loss: 0.4650 - val_accuracy: 0.7448\n",
      "Epoch 4/50\n",
      "24/24 [==============================] - 0s 6ms/step - loss: 0.4864 - accuracy: 0.7480 - val_loss: 0.3971 - val_accuracy: 0.7760\n",
      "Epoch 5/50\n",
      "24/24 [==============================] - 0s 5ms/step - loss: 0.4180 - accuracy: 0.7846 - val_loss: 0.4716 - val_accuracy: 0.8125\n",
      "Epoch 6/50\n",
      "24/24 [==============================] - 0s 7ms/step - loss: 0.4131 - accuracy: 0.7911 - val_loss: 0.4180 - val_accuracy: 0.8177\n",
      "Epoch 7/50\n",
      "24/24 [==============================] - 0s 6ms/step - loss: 0.4033 - accuracy: 0.8107 - val_loss: 0.3569 - val_accuracy: 0.8229\n",
      "Epoch 8/50\n",
      "24/24 [==============================] - 0s 8ms/step - loss: 0.3594 - accuracy: 0.8225 - val_loss: 0.3724 - val_accuracy: 0.8333\n",
      "Epoch 9/50\n",
      "24/24 [==============================] - 0s 7ms/step - loss: 0.3160 - accuracy: 0.8551 - val_loss: 0.1896 - val_accuracy: 0.9167\n",
      "Epoch 10/50\n",
      "24/24 [==============================] - 0s 7ms/step - loss: 0.2545 - accuracy: 0.8916 - val_loss: 0.2864 - val_accuracy: 0.9115\n",
      "Epoch 11/50\n",
      "24/24 [==============================] - 0s 7ms/step - loss: 0.2811 - accuracy: 0.8838 - val_loss: 0.2283 - val_accuracy: 0.9323\n",
      "Epoch 12/50\n",
      "24/24 [==============================] - 0s 5ms/step - loss: 0.1992 - accuracy: 0.9230 - val_loss: 0.1002 - val_accuracy: 0.9792\n",
      "Epoch 13/50\n",
      "24/24 [==============================] - 0s 5ms/step - loss: 0.1975 - accuracy: 0.9256 - val_loss: 0.1400 - val_accuracy: 0.9635\n",
      "Epoch 14/50\n",
      "24/24 [==============================] - 0s 6ms/step - loss: 0.2248 - accuracy: 0.9047 - val_loss: 0.1680 - val_accuracy: 0.9167\n",
      "Epoch 15/50\n",
      "24/24 [==============================] - 0s 6ms/step - loss: 0.1707 - accuracy: 0.9269 - val_loss: 0.2874 - val_accuracy: 0.8906\n",
      "Epoch 16/50\n",
      "24/24 [==============================] - 0s 5ms/step - loss: 0.2664 - accuracy: 0.8838 - val_loss: 0.3623 - val_accuracy: 0.7708\n",
      "Epoch 17/50\n",
      "24/24 [==============================] - 0s 5ms/step - loss: 0.2193 - accuracy: 0.8760 - val_loss: 0.1844 - val_accuracy: 0.9688\n",
      "Epoch 18/50\n",
      "24/24 [==============================] - 0s 7ms/step - loss: 0.2663 - accuracy: 0.8995 - val_loss: 0.1223 - val_accuracy: 0.9635\n",
      "Epoch 19/50\n",
      "24/24 [==============================] - 0s 7ms/step - loss: 0.1353 - accuracy: 0.9360 - val_loss: 0.0811 - val_accuracy: 0.9792\n",
      "Epoch 20/50\n",
      "24/24 [==============================] - 0s 7ms/step - loss: 0.1165 - accuracy: 0.9543 - val_loss: 0.0963 - val_accuracy: 0.9792\n",
      "Epoch 21/50\n",
      "24/24 [==============================] - 0s 7ms/step - loss: 0.1071 - accuracy: 0.9569 - val_loss: 0.0776 - val_accuracy: 0.9844\n",
      "Epoch 22/50\n",
      "24/24 [==============================] - 0s 7ms/step - loss: 0.1569 - accuracy: 0.9373 - val_loss: 0.1304 - val_accuracy: 0.9583\n",
      "Epoch 23/50\n",
      "24/24 [==============================] - 0s 6ms/step - loss: 0.1438 - accuracy: 0.9295 - val_loss: 0.0574 - val_accuracy: 0.9844\n",
      "Epoch 24/50\n",
      "24/24 [==============================] - 0s 6ms/step - loss: 0.1012 - accuracy: 0.9530 - val_loss: 0.0666 - val_accuracy: 0.9792\n",
      "Epoch 25/50\n",
      "24/24 [==============================] - 0s 8ms/step - loss: 0.1053 - accuracy: 0.9491 - val_loss: 0.0859 - val_accuracy: 0.9740\n",
      "Epoch 26/50\n",
      "24/24 [==============================] - 0s 5ms/step - loss: 0.3679 - accuracy: 0.8668 - val_loss: 0.3402 - val_accuracy: 0.8594\n",
      "Epoch 27/50\n",
      "24/24 [==============================] - 0s 5ms/step - loss: 0.3312 - accuracy: 0.8446 - val_loss: 0.1892 - val_accuracy: 0.9323\n",
      "Epoch 28/50\n",
      "24/24 [==============================] - 0s 8ms/step - loss: 0.2842 - accuracy: 0.8890 - val_loss: 0.2528 - val_accuracy: 0.8594\n",
      "Epoch 29/50\n",
      "24/24 [==============================] - 0s 5ms/step - loss: 0.1841 - accuracy: 0.9308 - val_loss: 0.0949 - val_accuracy: 0.9688\n",
      "Epoch 30/50\n",
      "24/24 [==============================] - 0s 5ms/step - loss: 0.1372 - accuracy: 0.9465 - val_loss: 0.0472 - val_accuracy: 0.9844\n",
      "Epoch 31/50\n",
      "24/24 [==============================] - 0s 6ms/step - loss: 0.1101 - accuracy: 0.9543 - val_loss: 0.0579 - val_accuracy: 0.9844\n",
      "Epoch 32/50\n",
      "24/24 [==============================] - 0s 6ms/step - loss: 0.0810 - accuracy: 0.9687 - val_loss: 0.0725 - val_accuracy: 0.9896\n",
      "Epoch 33/50\n",
      "24/24 [==============================] - 0s 5ms/step - loss: 0.0988 - accuracy: 0.9543 - val_loss: 0.1496 - val_accuracy: 0.9583\n",
      "Epoch 34/50\n",
      "24/24 [==============================] - 0s 7ms/step - loss: 0.1289 - accuracy: 0.9491 - val_loss: 0.0683 - val_accuracy: 0.9792\n",
      "Epoch 35/50\n",
      "24/24 [==============================] - 0s 6ms/step - loss: 0.0869 - accuracy: 0.9687 - val_loss: 0.0764 - val_accuracy: 0.9792\n",
      "Epoch 36/50\n",
      "24/24 [==============================] - 0s 8ms/step - loss: 0.1185 - accuracy: 0.9452 - val_loss: 0.0676 - val_accuracy: 0.9740\n",
      "Epoch 37/50\n",
      "24/24 [==============================] - 0s 8ms/step - loss: 0.1435 - accuracy: 0.9439 - val_loss: 0.0791 - val_accuracy: 0.9583\n",
      "Epoch 38/50\n",
      "24/24 [==============================] - 0s 10ms/step - loss: 0.1045 - accuracy: 0.9582 - val_loss: 0.0812 - val_accuracy: 0.9792\n",
      "Epoch 39/50\n",
      "24/24 [==============================] - 0s 8ms/step - loss: 0.0791 - accuracy: 0.9621 - val_loss: 0.2284 - val_accuracy: 0.9688\n",
      "Epoch 40/50\n",
      "24/24 [==============================] - 0s 7ms/step - loss: 0.1996 - accuracy: 0.9321 - val_loss: 0.5887 - val_accuracy: 0.8802\n",
      "Epoch 41/50\n",
      "24/24 [==============================] - 0s 6ms/step - loss: 0.1895 - accuracy: 0.9217 - val_loss: 0.2738 - val_accuracy: 0.9010\n",
      "Epoch 42/50\n",
      "24/24 [==============================] - 0s 5ms/step - loss: 0.1501 - accuracy: 0.9439 - val_loss: 0.1089 - val_accuracy: 0.9792\n",
      "Epoch 43/50\n",
      "24/24 [==============================] - 0s 6ms/step - loss: 0.1146 - accuracy: 0.9530 - val_loss: 0.0670 - val_accuracy: 0.9740\n",
      "Epoch 44/50\n",
      "24/24 [==============================] - 0s 5ms/step - loss: 0.1406 - accuracy: 0.9543 - val_loss: 0.0526 - val_accuracy: 0.9792\n",
      "Epoch 45/50\n",
      "24/24 [==============================] - 0s 6ms/step - loss: 0.1003 - accuracy: 0.9634 - val_loss: 0.0493 - val_accuracy: 0.9844\n",
      "Epoch 46/50\n",
      "24/24 [==============================] - 0s 5ms/step - loss: 0.0876 - accuracy: 0.9674 - val_loss: 0.0397 - val_accuracy: 0.9844\n",
      "Epoch 47/50\n",
      "24/24 [==============================] - 0s 8ms/step - loss: 0.1106 - accuracy: 0.9517 - val_loss: 0.0430 - val_accuracy: 0.9792\n",
      "Epoch 48/50\n",
      "24/24 [==============================] - 0s 8ms/step - loss: 0.0817 - accuracy: 0.9634 - val_loss: 0.0409 - val_accuracy: 0.9844\n",
      "Epoch 49/50\n",
      "24/24 [==============================] - 0s 7ms/step - loss: 0.0958 - accuracy: 0.9634 - val_loss: 0.0451 - val_accuracy: 0.9844\n",
      "Epoch 50/50\n",
      "24/24 [==============================] - 0s 7ms/step - loss: 0.1382 - accuracy: 0.9648 - val_loss: 0.0389 - val_accuracy: 0.9844\n"
     ]
    },
    {
     "data": {
      "text/plain": [
       "<tensorflow.python.keras.callbacks.History at 0x7f4f09e67940>"
      ]
     },
     "execution_count": 36,
     "metadata": {},
     "output_type": "execute_result"
    }
   ],
   "source": [
    "model.fit(train_ds, epochs=50, validation_data=val_ds)"
   ]
  },
  {
   "cell_type": "markdown",
   "metadata": {},
   "source": [
    "**Which approach(es) did you find helpful to improve your model performance?**"
   ]
  },
  {
   "cell_type": "code",
   "execution_count": null,
   "metadata": {},
   "outputs": [],
   "source": [
    "Both"
   ]
  }
 ],
 "metadata": {
  "kernelspec": {
   "display_name": "Python 3",
   "language": "python",
   "name": "python3"
  },
  "language_info": {
   "codemirror_mode": {
    "name": "ipython",
    "version": 3
   },
   "file_extension": ".py",
   "mimetype": "text/x-python",
   "name": "python",
   "nbconvert_exporter": "python",
   "pygments_lexer": "ipython3",
   "version": "3.8.5"
  }
 },
 "nbformat": 4,
 "nbformat_minor": 4
}
