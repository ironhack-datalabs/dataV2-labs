{
 "cells": [
  {
   "cell_type": "markdown",
   "metadata": {},
   "source": [
    "# Introduction To Probability\n",
    "## Challenge 1\n",
    "\n",
    "A and B are events of a probability space with $(\\omega, \\sigma, P)$ such that $P(A) = 0.3$, $P(B) = 0.6$ and $P(A \\cap B) = 0.1$\n",
    "\n",
    "Which of the following statements are false?\n",
    "* $P(A \\cup B) = 0.6$\n",
    "* $P(A \\cap B^{C}) = 0.2$\n",
    "* $P(A \\cap (B \\cup B^{C})) = 0.4$\n",
    "* $P(A^{C} \\cap B^{C}) = 0.3$\n",
    "* $P((A \\cap B)^{C}) = 0.9$"
   ]
  },
  {
   "cell_type": "code",
   "execution_count": null,
   "metadata": {},
   "outputs": [],
   "source": [
    "\"\"\"\n",
    "PA = 0.3\n",
    "\n",
    "PB = 0.6\n",
    "PAB = 0.1\n",
    "\n",
    "\n",
    "𝑃(𝐴∪𝐵)= 0.6\n",
    "= 0.8\n",
    "False\n",
    "\n",
    "𝑃(𝐴∩𝐵𝐶)=0.2 \n",
    "True\n",
    "\n",
    "𝑃(𝐴∩(𝐵∪𝐵𝐶))=0.4  \n",
    "𝑃(𝐴 ∩ (1)) = 0.3 * 0.3/1\n",
    "False\n",
    "\n",
    "\n",
    "𝑃(𝐴𝐶∩𝐵𝐶)=0.3 \n",
    "= 0.42\n",
    "False\n",
    "\n",
    "\n",
    "\n",
    "𝑃((𝐴∩𝐵)𝐶)=0.9 True\n",
    "\n",
    "\n",
    "\n",
    "\n",
    "\"\"\""
   ]
  },
  {
   "cell_type": "markdown",
   "metadata": {},
   "source": [
    "## Challenge 2\n",
    "There is a box with 10 white balls, 12 red balls and 8 black balls. Calculate the probability of:\n",
    "* Taking a white ball out.\n",
    "* Taking a white ball out after taking a black ball out.\n",
    "* Taking a red ball out after taking a black and a red ball out.\n",
    "* Taking a red ball out after taking a black and a red ball out with reposition.\n",
    "\n",
    "**Hint**: Reposition means putting back the ball into the box after taking it out."
   ]
  },
  {
   "cell_type": "code",
   "execution_count": null,
   "metadata": {},
   "outputs": [],
   "source": [
    "\"\"\"\n",
    "Taking a white ball out - 10/(10+12+8)\n",
    "Taking a white ball out after taking a black ball out. - 10/(10+12+7)\n",
    "Taking a red ball out after taking a black and a red ball out. - 11/(11+12+7)\n",
    "Taking a red ball out after taking a black and a red ball out with reposition. - 12/(10+12+8)\n",
    "\"\"\""
   ]
  },
  {
   "cell_type": "markdown",
   "metadata": {},
   "source": [
    "## Challenge 3\n",
    "\n",
    "You are planning to go on a picnic today but the morning is cloudy. You hate rain so you don't know whether to go out or stay home! To help you make a decision, you gather the following data about rainy days:\n",
    "\n",
    "* 50% of all rainy days start off cloudy!\n",
    "* Cloudy mornings are common. About 40% of days start cloudy. \n",
    "* This month is usually dry so only 3 of 30 days (10%) tend to be rainy. \n",
    "\n",
    "What is the chance of rain during the day?"
   ]
  },
  {
   "cell_type": "code",
   "execution_count": 3,
   "metadata": {},
   "outputs": [
    {
     "data": {
      "text/plain": [
       "'\\n50% of all rainy days are cloudy in the morning\\n\\n40% of mornings cloudy\\n10% of days rain\\n\\n16% chance to rain\\n\\n\\n\\n\\n'"
      ]
     },
     "execution_count": 3,
     "metadata": {},
     "output_type": "execute_result"
    }
   ],
   "source": [
    "\"\"\"\n",
    "50% of all rainy days are cloudy in the morning\n",
    "\n",
    "40% of mornings cloudy\n",
    "10% of days rain\n",
    "\n",
    "PAB = PAB/PB\n",
    "\n",
    "PAB = 4/10+1/10  /  1/10 == 0.5 === 50%\n",
    "also never can be more than 50% because even if it does rain there is only 50% chance that it will rain and never can be less than 10% (unless days rained before)\n",
    "\n",
    "\n",
    "\n",
    "\"\"\""
   ]
  },
  {
   "cell_type": "markdown",
   "metadata": {},
   "source": [
    "## Challenge 4\n",
    "\n",
    "One thousand people were asked through a telephone survey whether they thought more street lighting is needed at night or not.\n",
    "\n",
    "Out of the 480 men that answered the survey, 324 said yes and 156 said no. On the other hand, out of the 520 women that answered, 351 said yes and 169 said no. \n",
    "\n",
    "We wonder if men and women have a different opinions about the street lighting matter. Is gender relevant or irrelevant to the question?\n",
    "\n",
    "Consider the following events:\n",
    "- The answer is yes, so the person that answered thinks that more street lighting is needed.\n",
    "- The person who answered is a man.\n",
    "\n",
    "We want to know if these events are independent, that is, if the fact of wanting more light depends on whether one is male or female. Are these events independent or not?\n",
    "\n",
    "**Hint**: To clearly compare the answers by gender, it is best to place the data in a table."
   ]
  },
  {
   "cell_type": "code",
   "execution_count": 2,
   "metadata": {},
   "outputs": [],
   "source": [
    "# 1000 questions\n",
    "# 480 man -- 324 yes/ 156 no\n",
    "\n",
    "# 520 woman -- 351 yes/ 169 no\n",
    "\n",
    "# # The percentage of yes/no per gender is the same for both gender\n",
    "\n",
    "# 351/520 = 0.675, 67.5% chance yes, 32.5% no\n",
    "\n",
    "# 324/480 = 0.675, 67.5% chance yes, 32.5% no\n",
    "\n",
    "#Responses are independent of gender.\n"
   ]
  },
  {
   "cell_type": "code",
   "execution_count": null,
   "metadata": {},
   "outputs": [],
   "source": [
    "\"\"\"\n",
    "your solution here\n",
    "\"\"\""
   ]
  }
 ],
 "metadata": {
  "kernelspec": {
   "display_name": "Python 3",
   "language": "python",
   "name": "python3"
  },
  "language_info": {
   "codemirror_mode": {
    "name": "ipython",
    "version": 3
   },
   "file_extension": ".py",
   "mimetype": "text/x-python",
   "name": "python",
   "nbconvert_exporter": "python",
   "pygments_lexer": "ipython3",
   "version": "3.7.3"
  }
 },
 "nbformat": 4,
 "nbformat_minor": 2
}
