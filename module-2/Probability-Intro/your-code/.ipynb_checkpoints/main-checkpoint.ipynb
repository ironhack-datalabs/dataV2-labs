{
 "cells": [
  {
   "cell_type": "markdown",
   "metadata": {},
   "source": [
    "# Introduction To Probability\n",
    "## Challenge 1\n",
    "\n",
    "A and B are events of a probability space with $(\\omega, \\sigma, P)$ such that $P(A) = 0.3$, $P(B) = 0.6$ and $P(A \\cap B) = 0.1$\n",
    "\n",
    "Which of the following statements are false?\n",
    "* $P(A \\cup B) = 0.6$\n",
    "* $P(A \\cap B^{C}) = 0.2$\n",
    "* $P(A \\cap (B \\cup B^{C})) = 0.4$\n",
    "* $P(A^{C} \\cap B^{C}) = 0.3$\n",
    "* $P((A \\cap B)^{C}) = 0.9$"
   ]
  },
  {
   "cell_type": "code",
   "execution_count": null,
   "metadata": {},
   "outputs": [],
   "source": [
    "\"\"\"\n",
    "your solution here\n",
    "\n",
    "I used Venn diagrams to help with calculations.\n",
    "\n",
    "\n",
    "𝑃(𝐴∪𝐵)=0.6 is wrong: \n",
    "P(A) + P(B) - P(A and B) = 0.3+0.6-0.1 = 0.8\n",
    "\n",
    "𝑃(𝐴∩ not𝐵)=0.2 is correct:\n",
    "P(A) - P(A and B) = 0.3 - 0.1 = 0.2\n",
    "\n",
    "𝑃(𝐴∩(𝐵∪ not𝐵))=0.4 is wrong: \n",
    "are A intersecting with all the rest of the area = A, i.e. 0.3\n",
    "\n",
    "𝑃(not𝐴 ∩ not𝐵)=0.3 is wrong: \n",
    "1 - P(A and B) = 1 - ( P(A) + P(B) - P(A and B)) = 1 - (0.3+0.6-0.1) = 1 - 0.8 = 0.2\n",
    "\n",
    "𝑃(not(𝐴∩𝐵))=0.9 is correct: \n",
    "1-P(A and B)= 1 - 0.1 = 0.9\n",
    "\n",
    "\"\"\""
   ]
  },
  {
   "cell_type": "markdown",
   "metadata": {},
   "source": [
    "## Challenge 2\n",
    "There is a box with 10 white balls, 12 red balls and 8 black balls. Calculate the probability of:\n",
    "* Taking a white ball out.\n",
    "* Taking a white ball out after taking a black ball out.\n",
    "* Taking a red ball out after taking a black and a red ball out.\n",
    "* Taking a red ball out after taking a black and a red ball out with reposition.\n",
    "\n",
    "**Hint**: Reposition means putting back the ball into the box after taking it out."
   ]
  },
  {
   "cell_type": "code",
   "execution_count": null,
   "metadata": {},
   "outputs": [],
   "source": [
    "\"\"\"\n",
    "your solution here\n",
    "\n",
    "P(Taking a white ball out) = 10/30 = 1/3\n",
    "\n",
    "P(Taking a white ball out after taking a black ball out) = 8/30*10/29 = 8/87\n",
    "\n",
    "P(Taking a red ball out after taking a black and a red ball out) = 8/30*12/29*11/28 = \n",
    "= 44/1015\n",
    "\n",
    "P(Taking a red ball out after taking a black and a red ball out with reposition) = \n",
    "= 8/30*12/30*12/30 = 16/375\n",
    "\n",
    "\"\"\""
   ]
  },
  {
   "cell_type": "markdown",
   "metadata": {},
   "source": [
    "## Challenge 3\n",
    "\n",
    "You are planning to go on a picnic today but the morning is cloudy. You hate rain so you don't know whether to go out or stay home! To help you make a decision, you gather the following data about rainy days:\n",
    "\n",
    "* 50% of all rainy days start off cloudy!\n",
    "* Cloudy mornings are common. About 40% of days start cloudy. \n",
    "* This month is usually dry so only 3 of 30 days (10%) tend to be rainy. \n",
    "\n",
    "What is the chance of rain during the day?"
   ]
  },
  {
   "cell_type": "code",
   "execution_count": null,
   "metadata": {},
   "outputs": [],
   "source": [
    "\"\"\"\n",
    "your solution here\n",
    "\n",
    "P(rain|cloudy) = ?\n",
    "\n",
    "P(cloudy|rain) = 0.5\n",
    "P(cloudy) = 0.4\n",
    "P(rain) = 0.1\n",
    "\n",
    "P(A|B) =  P(A)* P(B|A)/P(B)\n",
    "\n",
    "P(rain|cloudy) = P(rain)*P(cloudy|rain) / P(cloudy) = 0.1 * 0.5 / 0.4 = 0.125 = 1/8\n",
    "\n",
    "\"\"\""
   ]
  },
  {
   "cell_type": "markdown",
   "metadata": {},
   "source": [
    "## Challenge 4\n",
    "\n",
    "One thousand people were asked through a telephone survey whether they thought more street lighting is needed at night or not.\n",
    "\n",
    "Out of the 480 men that answered the survey, 324 said yes and 156 said no. On the other hand, out of the 520 women that answered, 351 said yes and 169 said no. \n",
    "\n",
    "We wonder if men and women have a different opinions about the street lighting matter. Is gender relevant or irrelevant to the question?\n",
    "\n",
    "Consider the following events:\n",
    "- The answer is yes, so the person that answered thinks that more street lighting is needed.\n",
    "- The person who answered is a man.\n",
    "\n",
    "We want to know if these events are independent, that is, if the fact of wanting more light depends on whether one is male or female. Are these events independent or not?\n",
    "\n",
    "**Hint**: To clearly compare the answers by gender, it is best to place the data in a table."
   ]
  },
  {
   "cell_type": "code",
   "execution_count": 3,
   "metadata": {},
   "outputs": [
    {
     "data": {
      "text/html": [
       "<div>\n",
       "<style scoped>\n",
       "    .dataframe tbody tr th:only-of-type {\n",
       "        vertical-align: middle;\n",
       "    }\n",
       "\n",
       "    .dataframe tbody tr th {\n",
       "        vertical-align: top;\n",
       "    }\n",
       "\n",
       "    .dataframe thead th {\n",
       "        text-align: right;\n",
       "    }\n",
       "</style>\n",
       "<table border=\"1\" class=\"dataframe\">\n",
       "  <thead>\n",
       "    <tr style=\"text-align: right;\">\n",
       "      <th></th>\n",
       "      <th>Yes</th>\n",
       "      <th>No</th>\n",
       "    </tr>\n",
       "  </thead>\n",
       "  <tbody>\n",
       "    <tr>\n",
       "      <th>Men</th>\n",
       "      <td>324</td>\n",
       "      <td>156</td>\n",
       "    </tr>\n",
       "    <tr>\n",
       "      <th>Women</th>\n",
       "      <td>351</td>\n",
       "      <td>169</td>\n",
       "    </tr>\n",
       "  </tbody>\n",
       "</table>\n",
       "</div>"
      ],
      "text/plain": [
       "       Yes   No\n",
       "Men    324  156\n",
       "Women  351  169"
      ]
     },
     "execution_count": 3,
     "metadata": {},
     "output_type": "execute_result"
    }
   ],
   "source": [
    "# your code here\n",
    "\n",
    "import pandas as pd\n",
    "\n",
    "data = {'Yes':  [324,351], 'No': [156, 169]}\n",
    "df = pd.DataFrame (data, columns = ['Yes','No'], index = ['Men', 'Women'])\n",
    "df"
   ]
  },
  {
   "cell_type": "code",
   "execution_count": null,
   "metadata": {},
   "outputs": [],
   "source": [
    "\"\"\"\n",
    "your solution here\n",
    "\n",
    "For independent events this should be true:\n",
    "P(A|B) =  P(A)* P(B|A)/P(B) and P(A|B) = P(A)\n",
    "\n",
    "P(man|yes) = P(man)*P(yes|man) / P(yes)\n",
    "\n",
    "P(man|yes) = (480/1000 * 324/480) / (675/1000) = 480/1000\n",
    "\n",
    "P(man) = 480/1000\n",
    "\n",
    "We can conclude that the events are independent.\n",
    "\n",
    "\"\"\""
   ]
  }
 ],
 "metadata": {
  "kernelspec": {
   "display_name": "Python 3",
   "language": "python",
   "name": "python3"
  },
  "language_info": {
   "codemirror_mode": {
    "name": "ipython",
    "version": 3
   },
   "file_extension": ".py",
   "mimetype": "text/x-python",
   "name": "python",
   "nbconvert_exporter": "python",
   "pygments_lexer": "ipython3",
   "version": "3.7.7"
  }
 },
 "nbformat": 4,
 "nbformat_minor": 2
}
