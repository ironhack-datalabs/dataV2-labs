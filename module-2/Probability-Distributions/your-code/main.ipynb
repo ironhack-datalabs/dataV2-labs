{
 "cells": [
  {
   "cell_type": "markdown",
   "metadata": {},
   "source": [
    "# Before your start:\n",
    "- Read the README.md file.\n",
    "- Comment as much as you can and use the resources (README.md file).\n",
    "- Happy learning!"
   ]
  },
  {
   "cell_type": "code",
   "execution_count": 1,
   "metadata": {},
   "outputs": [],
   "source": [
    "from scipy import stats\n",
    "from scipy.stats import norm\n",
    "from scipy.stats import uniform\n",
    "from scipy.stats import geom\n",
    "from scipy.stats import binom\n",
    "import matplotlib.pyplot as plt\n",
    "import numpy as np\n",
    "import pandas as pd\n",
    "import math"
   ]
  },
  {
   "cell_type": "markdown",
   "metadata": {},
   "source": [
    "# Challenge 1 - Generate and Plot Normal Distributions\n",
    "#### Step 1: Generate samples and test normal distribution.\n",
    "\n",
    "Use mean=50, standard_deviation=5, and sample_size=[10, 50, 500, 5000] to generate 4 random samples that are normally distributed.\n",
    "\n",
    "**Hint**: Read the documentation for `scipy.stats.norm.rvs`. The function will help you create the normal random samples."
   ]
  },
  {
   "cell_type": "code",
   "execution_count": 2,
   "metadata": {},
   "outputs": [
    {
     "name": "stdout",
     "output_type": "stream",
     "text": [
      "[57.07197572 49.99490154 45.81844974 54.65593748 51.06213651 41.37168563\n",
      " 58.93045852 57.04310808 48.74362864 45.32962709]\n",
      "[48.36062189 47.78815904 49.47493671 49.84726504 57.40693601 47.25477387\n",
      " 52.1251228  44.66032736 50.52701663 45.15440838 38.53591621 50.60876244\n",
      " 50.2238333  47.34301941 44.01211903 57.80524098 50.8423368  52.79191497\n",
      " 44.06883859 49.36696378 46.14424716 45.49472105 52.99583239 44.57930916\n",
      " 53.02148289 51.59074409 52.2470734  45.43474346 40.79368157 50.72262444\n",
      " 46.75121799 45.98814822 56.38440924 52.73411273 51.79579968 50.64548343\n",
      " 51.67658541 45.18922818 51.30093873 54.06844647 52.54444701 46.2314146\n",
      " 57.08874799 48.51718015 52.87535434 51.64328553 54.56124494 51.41720554\n",
      " 54.62940553 47.52148839]\n",
      "[44.58180607 53.59822947 45.72899854 48.34832961 49.4488975  43.26803804\n",
      " 55.70767689 48.73503842 47.74374361 44.87002122 53.9072867  51.55761921\n",
      " 56.48786415 49.27839256 42.81847113 54.730086   50.67441832 55.19578694\n",
      " 52.41786977 53.02111616 56.60211771 54.75151762 46.09437936 50.81317172\n",
      " 51.83935061 44.41103206 46.31714041 40.63145438 51.26574041 57.01512616\n",
      " 39.54292014 50.01734433 50.41861167 47.41579417 45.07496159 47.27406878\n",
      " 46.70279877 48.14726468 54.25003481 44.01484083 47.40001283 48.49190128\n",
      " 41.59342194 51.8551065  46.32964545 45.69319378 50.89847408 50.03143209\n",
      " 50.23795664 52.18511455 46.40100998 56.26315894 45.92995643 50.6857778\n",
      " 60.81411987 57.06804096 49.01990443 44.5093984  53.56459712 39.95706333\n",
      " 46.24234695 50.19411098 52.30930044 55.67240415 50.63225245 40.92935981\n",
      " 52.42608687 42.2688981  44.61614397 43.30532608 55.38197952 48.75019583\n",
      " 49.43285395 48.86314175 46.14912462 59.04007512 58.5692569  48.86197905\n",
      " 53.48609711 52.43091496 55.00730256 51.04313523 46.44748878 43.46786955\n",
      " 49.24640928 38.7691325  50.22307745 40.05922911 52.11558242 46.25877127\n",
      " 48.94904239 57.42458184 53.55250165 44.37818353 43.2040671  46.70513056\n",
      " 45.04870965 50.26669699 49.81211221 58.98122221 41.85701364 50.11690719\n",
      " 51.59913022 53.34175417 52.68245856 51.17298033 58.20732655 51.54873372\n",
      " 39.51268263 58.00324106 44.81194874 53.38794281 50.05118465 55.2738022\n",
      " 46.6654761  48.55806789 53.42235379 45.30845768 51.86470643 39.06339301\n",
      " 49.44348418 44.74209655 60.00466852 53.27056073 50.85391907 42.32354292\n",
      " 47.93975818 54.10992892 54.86966976 55.12541934 47.85391262 52.54431244\n",
      " 40.27027045 46.26871782 49.69159629 54.42954847 53.22975685 42.85368554\n",
      " 57.55434973 45.63911203 51.35497869 48.19328119 46.31467157 49.18449156\n",
      " 57.26472746 47.52074908 51.75707764 51.50902661 43.77924075 52.18670933\n",
      " 43.579078   53.47331124 42.36590729 56.52228122 41.65788812 43.07055277\n",
      " 44.74141084 50.38419545 43.88464456 49.42077841 47.0382684  60.05781015\n",
      " 46.61454627 54.56379413 47.58143347 52.39083133 45.96422636 47.27456181\n",
      " 45.53448149 43.5486262  51.74829736 52.05808874 43.28370663 51.81721812\n",
      " 48.99384891 40.33629412 52.20455585 56.58980388 45.35767297 55.54901767\n",
      " 61.55693746 51.15643544 47.29445891 55.08666246 46.61700987 38.59127964\n",
      " 51.32162097 48.46178582 55.45007896 49.50644655 47.66266807 46.39029417\n",
      " 48.65516558 56.53858928 57.87347992 49.91534798 45.78353935 44.97609615\n",
      " 52.53586405 53.76830511 47.89775451 48.94002988 45.86948442 47.95415544\n",
      " 36.93376705 44.10652943 65.96957875 51.21468036 62.46125055 45.85947099\n",
      " 54.4877155  46.79498515 50.54592955 47.52501741 51.35257046 41.00412554\n",
      " 51.27004124 49.48869334 54.98539356 52.05386401 43.95220569 48.75604804\n",
      " 50.97881794 49.53988927 50.71878559 53.8066764  54.59321035 54.5969571\n",
      " 47.26717291 48.96786087 53.02808106 60.6407377  52.8492904  50.71291698\n",
      " 55.32366865 45.1171759  46.78547986 50.66409468 50.79952328 54.74434055\n",
      " 44.23592166 53.11043134 55.92612159 49.72644374 45.00908165 45.27564386\n",
      " 42.36172814 47.71589579 55.28210463 54.04818003 60.3007402  45.90610966\n",
      " 50.89938609 49.63196647 56.76765003 49.46863422 50.37595266 53.84447784\n",
      " 53.58962217 59.22440978 38.16440724 38.32901393 44.1806712  62.07474122\n",
      " 53.90488298 51.67483501 55.37091103 48.90429082 51.29924087 46.00877151\n",
      " 51.39052171 53.54495317 47.06202063 50.32608461 45.9619614  49.45593853\n",
      " 38.07803878 50.13246742 49.96649076 46.48259062 55.61892653 55.89704255\n",
      " 49.23040826 42.57762057 45.83061864 60.72477783 58.01685032 52.30958286\n",
      " 47.89775883 41.78616363 51.01264128 37.20850116 51.19289477 58.16733576\n",
      " 52.2482693  38.04356615 56.80430047 45.24122187 52.65515989 50.97515241\n",
      " 48.70011633 60.03824454 45.14542036 57.82635511 48.05128728 51.34637796\n",
      " 59.45856448 52.38662957 50.71891911 38.30759817 51.87395216 45.4473466\n",
      " 53.45416919 44.90619433 58.36284618 54.28879013 48.45929365 47.58153926\n",
      " 49.30538898 57.04407947 48.64135898 47.91031395 48.41598343 51.72467321\n",
      " 46.64105218 43.85157543 49.87646676 51.7848334  54.08953922 53.79891063\n",
      " 44.39929063 55.28050787 54.01380436 47.29605522 43.45988335 51.88380264\n",
      " 45.34725171 50.28778267 50.97122684 50.106211   50.02426892 53.92724098\n",
      " 49.78733527 46.75309247 57.49272188 53.81180283 51.88471652 50.9789672\n",
      " 45.37486918 57.38394922 52.86961772 53.37554058 42.16121813 46.16501733\n",
      " 42.93191578 46.34284681 56.64279176 54.45553994 55.56312954 52.53992752\n",
      " 47.06611232 54.3939645  49.44131907 53.25364134 47.36566139 43.33203367\n",
      " 53.29336656 42.40008818 50.56043674 47.2320028  47.62429206 42.26330669\n",
      " 54.62012296 40.75510507 43.4607238  54.11932952 49.92663319 43.40869812\n",
      " 53.57284958 57.77508973 51.97587952 51.01154553 45.23677142 48.98148904\n",
      " 51.84076807 54.20773998 50.77359198 44.9669722  47.02466117 47.69109716\n",
      " 51.79858667 62.6516715  46.62035213 55.88378934 45.32492837 51.06813997\n",
      " 47.29339223 51.83825152 43.29406535 46.11389785 48.30963978 48.66137584\n",
      " 58.85379324 54.09743888 38.15541364 51.63593276 49.82208827 53.76203872\n",
      " 46.03205549 44.65897774 54.73465293 55.1311149  51.50114309 52.28932682\n",
      " 40.03381711 55.41824323 55.13141933 42.0690991  51.96964769 50.85997516\n",
      " 46.85956232 45.7256105  50.8522161  47.4354872  50.86054342 53.72729162\n",
      " 41.26882923 40.99538809 44.154953   45.32545366 48.91402456 47.66297038\n",
      " 48.94541225 49.14419431 54.83055199 42.01437333 47.43423328 41.80029966\n",
      " 53.31721813 48.40659838 47.5721577  50.82399475 51.69756545 54.35811212\n",
      " 45.5292712  47.2796654  50.5453817  57.83708522 50.71832011 55.07819886\n",
      " 52.66167307 53.07965867 48.8551354  40.41952296 56.44827204 42.4776366\n",
      " 45.76859753 47.30279095 44.25999262 51.39866137 45.73170989 53.99213358\n",
      " 57.65762365 47.18362021 49.34796332 46.42177127 43.86675386 47.69893874\n",
      " 54.12291353 46.62388404 47.4722327  46.88670022 53.25979471 49.6626246\n",
      " 47.07250196 53.08575274 53.77053411 51.13796153 53.28931731 44.44199812\n",
      " 53.48125929 55.92148382 49.77404108 46.28282437 49.45004339 52.05396198\n",
      " 47.59801587 41.37266292 51.3667838  47.27692515 50.99302053 39.72069146\n",
      " 51.46061162 42.93550578 45.97524448 54.73153796 57.71260943 52.61415571\n",
      " 47.31896365 46.08167584]\n",
      "[45.4117349  47.78780549 52.79296861 ... 53.22385983 49.02500894\n",
      " 50.55410626]\n"
     ]
    }
   ],
   "source": [
    "sample_size = [10,50,500,5000]\n",
    "mean=50\n",
    "std_dev=5\n",
    "\n",
    "#sample1 = norm.rvs(loc=mean, scale=std_dev, size=10)\n",
    "#print(sample1)\n",
    "#sample2 = norm.rvs(loc=mean, scale=std_dev, size=50)\n",
    "#print(sample2)\n",
    "#sample3 = norm.rvs(loc=mean, scale=std_dev, size=500)\n",
    "#print(sample3)\n",
    "#sample4 = norm.rvs(loc=mean, scale=std_dev, size=5000)\n",
    "#print(sample4)\n",
    "\n",
    "norm.rvs(loc=mean, scale=std_dev, size=sample_size[0])\n",
    "\n",
    "for i in range(len(sample_size)):\n",
    "    print(norm.rvs(loc=mean, scale=std_dev, size=sample_size[i]))"
   ]
  },
  {
   "cell_type": "code",
   "execution_count": 3,
   "metadata": {},
   "outputs": [
    {
     "data": {
      "image/png": "[encoded data removed]",
      "text/plain": [
       "<Figure size 1080x288 with 4 Axes>"
      ]
     },
     "metadata": {
      "needs_background": "light"
     },
     "output_type": "display_data"
    }
   ],
   "source": [
    "#plt.hist(sample1, histtype='bar', orientation='vertical')\n",
    "#plt.show\n",
    "\n",
    "#figure and axis\n",
    "fig, ax = plt.subplots(1,4)\n",
    "#size of the figure\n",
    "fig.set_figwidth(15)\n",
    "bins=20\n",
    "\n",
    "for i in range(len(sample_size)):\n",
    "    ax[i].set_title('n =' + str(sample_size[i]))\n",
    "    ax[i].hist(norm.rvs(loc=mean, scale=std_dev, size=sample_size[i]), bins)"
   ]
  },
  {
   "cell_type": "markdown",
   "metadata": {},
   "source": [
    "#### Step 2: Plot normal distributions.\n",
    "\n",
    "To check the shape of the samples you have just created, you can use matplotlib. For example, you can use it to plot a histogram of each sample. \n",
    "\n",
    "If you did, your outputs would be really similar to the ones below:\n",
    "\n",
    "![normal distributions with different sample sizes](../images/ch-1.png)"
   ]
  },
  {
   "cell_type": "markdown",
   "metadata": {},
   "source": [
    "#### Compare the distributions above. What do you observe? Explain with the Central Limit Theorem."
   ]
  },
  {
   "cell_type": "code",
   "execution_count": 4,
   "metadata": {},
   "outputs": [
    {
     "data": {
      "text/plain": [
       "'\\nAs the samples get larger from n=5 to n=5000 the distribution of the sample means approaches a normal distribution and\\nconverges to the theoretical values of the underlying population distribution as per Central Limit Theorem.\\n'"
      ]
     },
     "execution_count": 4,
     "metadata": {},
     "output_type": "execute_result"
    }
   ],
   "source": [
    "\"\"\"\n",
    "As the samples get larger from n=5 to n=5000 the distribution of the sample means approaches a normal distribution and\n",
    "converges to the theoretical values of the underlying population distribution as per Central Limit Theorem.\n",
    "\"\"\""
   ]
  },
  {
   "cell_type": "markdown",
   "metadata": {},
   "source": [
    "#### Bonus: Plot normal distributions.\n",
    "\n",
    "Even though you still don't know how to use matplotlib, as a bonus challenge, you can try to reproduce the plot above using the samples you have created. This plotting library will be introduced later this week, so don't worry if you don't manage to get the results you want now: you can always come back to solve this challenge later."
   ]
  },
  {
   "cell_type": "code",
   "execution_count": 5,
   "metadata": {},
   "outputs": [],
   "source": [
    "# your code here"
   ]
  },
  {
   "cell_type": "markdown",
   "metadata": {},
   "source": [
    "# Challenge 2 - Plot Probability Mass Function (PMF)"
   ]
  },
  {
   "cell_type": "markdown",
   "metadata": {},
   "source": [
    "### Background knowledge\n",
    "\n",
    "[PMF](https://en.wikipedia.org/wiki/Probability_mass_function) shows the probability distribution of a **discrete random variable**. A [discrete random variable](https://en.wikipedia.org/wiki/Random_variable#Discrete_random_variable) has random numeric values that are not continuous. For example, the number of people in a household can only be integers but not floats. Therefore the number of people in a household is a discrete variable.\n",
    "\n",
    "### Challenge\n",
    "\n",
    "We assume that the probability of clicking an advertisement in a Youtube video is 0.15. We have a sample of 5 people who watched the video and we want to plot the PMF for a binomial distribution.\n",
    "\n",
    "#### Step 1: Create the binomial distribution mentioned above. Store the result in a variable called `dist`. \n",
    "**Hint**: use binom from `scipy.stats.binom`. This object takes *n* and *p* as shape parameters, where *n* is the number of independent experiments and *p* the probability of success of the experiment."
   ]
  },
  {
   "cell_type": "code",
   "execution_count": 6,
   "metadata": {},
   "outputs": [
    {
     "data": {
      "image/png": "[encoded data removed]",
      "text/plain": [
       "<Figure size 432x288 with 1 Axes>"
      ]
     },
     "metadata": {
      "needs_background": "light"
     },
     "output_type": "display_data"
    }
   ],
   "source": [
    "#n = number of independent experiments\n",
    "#p = probability of success of the experiment\n",
    "n=5\n",
    "p=0.15\n",
    "x=range(n+1)\n",
    "\n",
    "#binomial distribution\n",
    "dist = stats.binom(n,p)\n",
    "\n",
    "#plot it\n",
    "plt.plot(x, dist.pmf(x))\n",
    "plt.show()"
   ]
  },
  {
   "cell_type": "markdown",
   "metadata": {},
   "source": [
    "#### Step 2: Plot the PMF of the distribution. \n",
    "To do it, run the code in the cell below. \n",
    "\n",
    "**Hint**: Your output should look like the one below:\n",
    "\n",
    "![binom 10](../images/ch-2.png)"
   ]
  },
  {
   "cell_type": "code",
   "execution_count": 7,
   "metadata": {},
   "outputs": [
    {
     "data": {
      "image/png": "[encoded data removed]",
      "text/plain": [
       "<Figure size 432x288 with 1 Axes>"
      ]
     },
     "metadata": {
      "needs_background": "light"
     },
     "output_type": "display_data"
    }
   ],
   "source": [
    "# run this code\n",
    "x = range(n)\n",
    "\n",
    "fig, ax = plt.subplots(1, 1)\n",
    "\n",
    "plt.plot(x, dist.pmf(x))\n",
    "\n",
    "plt.show()"
   ]
  },
  {
   "cell_type": "markdown",
   "metadata": {},
   "source": [
    "#### Step 3: Explain what you observe from the plot above."
   ]
  },
  {
   "cell_type": "code",
   "execution_count": 8,
   "metadata": {},
   "outputs": [
    {
     "data": {
      "text/plain": [
       "'\\nThe plot shows that there is a probability of more than 40% that 0 persons will click on an advertisement in a Youtube video that goes down to less than 40% from 1 person, then to roughly 12% for 2 people and then 3% for 3 people and so on.\\n'"
      ]
     },
     "execution_count": 8,
     "metadata": {},
     "output_type": "execute_result"
    }
   ],
   "source": [
    "\"\"\"\n",
    "The plot shows that there is a probability of more than 40% that 0 persons will click on an advertisement in a Youtube video that goes down to less than 40% from 1 person, then to roughly 12% for 2 people and then 3% for 3 people and so on.\n",
    "\"\"\""
   ]
  },
  {
   "cell_type": "markdown",
   "metadata": {},
   "source": [
    "#### Step 4: Now plot PMF with 50, 500, and 5000 visitors.\n",
    "To plot the PMF, you can copy the code given above and replace variable `dist` for the name of the variables where you have stored the new binomial objects for 50, 500 and 5000 visitors."
   ]
  },
  {
   "cell_type": "code",
   "execution_count": 9,
   "metadata": {},
   "outputs": [
    {
     "data": {
      "image/png": "[encoded data removed]",
      "text/plain": [
       "<Figure size 432x288 with 1 Axes>"
      ]
     },
     "metadata": {
      "needs_background": "light"
     },
     "output_type": "display_data"
    },
    {
     "data": {
      "image/png": "[encoded data removed]",
      "text/plain": [
       "<Figure size 432x288 with 1 Axes>"
      ]
     },
     "metadata": {
      "needs_background": "light"
     },
     "output_type": "display_data"
    },
    {
     "data": {
      "image/png": "[encoded data removed]",
      "text/plain": [
       "<Figure size 432x288 with 1 Axes>"
      ]
     },
     "metadata": {
      "needs_background": "light"
     },
     "output_type": "display_data"
    }
   ],
   "source": [
    "sample_size = [50, 500, 5000]\n",
    "p = 0.15\n",
    "\n",
    "for n in sample_size:\n",
    "    x=range(n+1)\n",
    "    dist = stats.binom(n,p)\n",
    "    fig, ax = plt.subplots(1, 1)\n",
    "    plt.plot(x, dist.pmf(x))\n",
    "    \n",
    "plt.show()"
   ]
  },
  {
   "cell_type": "markdown",
   "metadata": {},
   "source": [
    "#### Step 5: What did you notice from the distribution plots? Comment your findings."
   ]
  },
  {
   "cell_type": "code",
   "execution_count": 10,
   "metadata": {},
   "outputs": [
    {
     "data": {
      "text/plain": [
       "'\\nAll plots have a similar distribution to the left with a long tail, however as the sample size gets bigger the probability of the number of people viewing the add gets smaller.\\n'"
      ]
     },
     "execution_count": 10,
     "metadata": {},
     "output_type": "execute_result"
    }
   ],
   "source": [
    "\"\"\"\n",
    "All plots have a similar distribution to the left with a long tail, however as the sample size gets bigger the probability of the number of people viewing the add gets smaller.\n",
    "\"\"\""
   ]
  },
  {
   "cell_type": "markdown",
   "metadata": {},
   "source": [
    "# Challenge 3\n",
    "#### Step 1: Research the Poisson distribution. Write about your own understanding of the Poisson distribution."
   ]
  },
  {
   "cell_type": "code",
   "execution_count": 11,
   "metadata": {},
   "outputs": [
    {
     "data": {
      "text/plain": [
       "'\\nPoisson distribution is a statistical distribution that shows how many times an event is likely to occur within a specified period of time. It is used for independent events which occur at a constant rate within a given interval of time.\\n'"
      ]
     },
     "execution_count": 11,
     "metadata": {},
     "output_type": "execute_result"
    }
   ],
   "source": [
    "\"\"\"\n",
    "Poisson distribution is a statistical distribution that shows how many times an event is likely to occur within a specified period of time. It is used for independent events which occur at a constant rate within a given interval of time.\n",
    "\"\"\""
   ]
  },
  {
   "cell_type": "markdown",
   "metadata": {},
   "source": [
    "#### Step 2: A website has an average of 300 visits per day. What is the probability of getting 320 visitors in a day?\n",
    "\n",
    "**Hint**: use `scipy.stats.poisson.pmf`."
   ]
  },
  {
   "cell_type": "code",
   "execution_count": 12,
   "metadata": {},
   "outputs": [
    {
     "data": {
      "text/plain": [
       "1.3969001296887895e-15"
      ]
     },
     "execution_count": 12,
     "metadata": {},
     "output_type": "execute_result"
    }
   ],
   "source": [
    "from scipy.stats import poisson\n",
    "\n",
    "mu = 300 \n",
    "k = 320\n",
    "poisson.pmf(k=320,mu=200)\n"
   ]
  },
  {
   "cell_type": "markdown",
   "metadata": {},
   "source": [
    "#### Step 3: What is the probability of getting 60 visits?"
   ]
  },
  {
   "cell_type": "code",
   "execution_count": 13,
   "metadata": {},
   "outputs": [
    {
     "data": {
      "text/plain": [
       "2.622743762294515e-64"
      ]
     },
     "execution_count": 13,
     "metadata": {},
     "output_type": "execute_result"
    }
   ],
   "source": [
    "mu = 300\n",
    "k = 60\n",
    "poisson.pmf(k=60, mu=300)"
   ]
  },
  {
   "cell_type": "markdown",
   "metadata": {},
   "source": [
    "#### Step 4: Create a list to store the Poisson distribution probabilities for 0 to 1000 visitors. Store your list in a variable called `arr`."
   ]
  },
  {
   "cell_type": "code",
   "execution_count": 17,
   "metadata": {},
   "outputs": [
    {
     "data": {
      "text/plain": [
       "[5.148200222412013e-131,\n",
       " 1.5444600667235709e-128,\n",
       " 2.3166901000854342e-126,\n",
       " 2.31669010008539e-124,\n",
       " 1.7375175750640974e-122,\n",
       " 1.042510545038448e-120,\n",
       " 5.212552725192131e-119,\n",
       " 2.23395116793948e-117,\n",
       " 8.377316879773299e-116,\n",
       " 2.7924389599243865e-114,\n",
       " 8.377316879773059e-113,\n",
       " 2.2847227853926804e-111,\n",
       " 5.71180696348157e-110,\n",
       " 1.318109299264997e-108,\n",
       " 2.824519926996411e-107,\n",
       " 5.649039853992778e-106,\n",
       " 1.0591949726236754e-104,\n",
       " 1.8691675987476173e-103,\n",
       " 3.1152793312460596e-102,\n",
       " 4.918862101967454e-101,\n",
       " 7.378293152951289e-100,\n",
       " 1.0540418789930416e-98,\n",
       " 1.4373298349904852e-97,\n",
       " 1.874778045639763e-96,\n",
       " 2.3434725570497126e-95,\n",
       " 2.812167068459659e-94,\n",
       " 3.2448081559150323e-93,\n",
       " 3.605342395461095e-92,\n",
       " 3.8628668522797225e-91,\n",
       " 3.996069157530829e-90,\n",
       " 3.9960691575307916e-89,\n",
       " 3.8671637008362115e-88,\n",
       " 3.6254659695339394e-87,\n",
       " 3.295878154121811e-86,\n",
       " 2.908127783048746e-85,\n",
       " 2.492680956898807e-84,\n",
       " 2.0772341307490223e-83,\n",
       " 1.684243889796562e-82,\n",
       " 1.3296662287866792e-81,\n",
       " 1.0228201759897706e-80,\n",
       " 7.671151319923377e-80,\n",
       " 5.61303755116352e-79,\n",
       " 4.009312536545479e-78,\n",
       " 2.7971947929385084e-77,\n",
       " 1.9071782679126897e-76,\n",
       " 1.2714521786084167e-75,\n",
       " 8.292079425707285e-75,\n",
       " 5.292816654706792e-74,\n",
       " 3.308010409191751e-73,\n",
       " 2.0253124954234986e-72,\n",
       " 1.2151874972541331e-71,\n",
       " 7.1481617485533646e-71,\n",
       " 4.123939470319411e-70,\n",
       " 2.334305360558085e-69,\n",
       " 1.2968363114211372e-68,\n",
       " 7.073652607751824e-68,\n",
       " 3.789456754152734e-67,\n",
       " 1.9944509232382822e-66,\n",
       " 1.0316125465025791e-65,\n",
       " 5.245487524589388e-65,\n",
       " 2.622743762294515e-64,\n",
       " 1.2898739814563793e-63,\n",
       " 6.241325716724519e-63,\n",
       " 2.9720598651070062e-62,\n",
       " 1.3931530617688636e-61,\n",
       " 6.42993720816397e-61,\n",
       " 2.92269873098366e-60,\n",
       " 1.3086710735747233e-59,\n",
       " 5.773548854006299e-59,\n",
       " 2.510238632176586e-58,\n",
       " 1.075816556647147e-57,\n",
       " 4.545703760480971e-57,\n",
       " 1.8940432335336415e-56,\n",
       " 7.783739315891554e-56,\n",
       " 3.1555699929292893e-55,\n",
       " 1.2622279971716488e-54,\n",
       " 4.982478936203708e-54,\n",
       " 1.9412255595599473e-53,\n",
       " 7.466252152153756e-53,\n",
       " 2.835285627400389e-52,\n",
       " 1.0632321102750065e-51,\n",
       " 3.937896704722199e-51,\n",
       " 1.440693916361796e-50,\n",
       " 5.2073274085368045e-50,\n",
       " 1.859759788763244e-49,\n",
       " 6.563858077987835e-49,\n",
       " 2.2897179341817668e-48,\n",
       " 7.89557908338536e-48,\n",
       " 2.691674687517754e-47,\n",
       " 9.07306074444211e-47,\n",
       " 3.0243535814806817e-46,\n",
       " 9.970396422463556e-46,\n",
       " 3.251216224716087e-45,\n",
       " 1.0487794273278516e-44,\n",
       " 3.347168385089081e-44,\n",
       " 1.05700054265966e-43,\n",
       " 3.3031266958113436e-43,\n",
       " 1.0215855760241558e-42,\n",
       " 3.127302783747286e-42,\n",
       " 9.476675102264663e-42,\n",
       " 2.843002530679554e-41,\n",
       " 8.44456197231521e-41,\n",
       " 2.483694697739709e-40,\n",
       " 7.234062226426875e-40,\n",
       " 2.0867487191617357e-39,\n",
       " 5.962139197604352e-39,\n",
       " 1.6873978861145275e-38,\n",
       " 4.731022110601493e-38,\n",
       " 1.3141728085003162e-37,\n",
       " 3.6169893811934735e-37,\n",
       " 9.864516494164793e-37,\n",
       " 2.6660855389633276e-36,\n",
       " 7.141300550794154e-36,\n",
       " 1.895920500210951e-35,\n",
       " 4.989264474239055e-35,\n",
       " 1.3015472541494444e-34,\n",
       " 3.366070484869214e-34,\n",
       " 8.630949961202297e-34,\n",
       " 2.194309312170135e-33,\n",
       " 5.53187221555525e-33,\n",
       " 1.382968053888637e-32,\n",
       " 3.428846414600278e-32,\n",
       " 8.431589544099903e-32,\n",
       " 2.056485254658311e-31,\n",
       " 4.975367551592195e-31,\n",
       " 1.1940882123822778e-30,\n",
       " 2.8430671723389206e-30,\n",
       " 6.715906706312278e-30,\n",
       " 1.574040634291886e-29,\n",
       " 3.6605596146324593e-29,\n",
       " 8.447445264535687e-29,\n",
       " 1.9345294498937965e-28,\n",
       " 4.396657840667017e-28,\n",
       " 9.91727332481243e-28,\n",
       " 2.2202850727192386e-27,\n",
       " 4.933966828265241e-27,\n",
       " 1.0883750356468974e-26,\n",
       " 2.383302997766532e-26,\n",
       " 5.181093473406243e-26,\n",
       " 1.118221612965434e-25,\n",
       " 2.396189170639684e-25,\n",
       " 5.09827483114858e-25,\n",
       " 1.0771003164400079e-24,\n",
       " 2.2596510135102295e-24,\n",
       " 4.707606278146465e-24,\n",
       " 9.7398750582341e-24,\n",
       " 2.0013441900480105e-23,\n",
       " 4.0843758980572444e-23,\n",
       " 8.279140333899837e-23,\n",
       " 1.6669410068254064e-22,\n",
       " 3.3338820136506294e-22,\n",
       " 6.623606649636982e-22,\n",
       " 1.3072907861125527e-21,\n",
       " 2.5633152668873083e-21,\n",
       " 4.9934712991312684e-21,\n",
       " 9.664783159610294e-21,\n",
       " 1.858612146078927e-20,\n",
       " 3.5514881772204894e-20,\n",
       " 6.743331982064752e-20,\n",
       " 1.2723267890687486e-19,\n",
       " 2.3856127295039933e-19,\n",
       " 4.445241110877218e-19,\n",
       " 8.231927983104908e-19,\n",
       " 1.5150787698966558e-18,\n",
       " 2.7714855546891878e-18,\n",
       " 5.0390646448887035e-18,\n",
       " 9.106743334136013e-18,\n",
       " 1.635941916312054e-17,\n",
       " 2.9213248505573894e-17,\n",
       " 5.185783758385276e-17,\n",
       " 9.151383103032706e-17,\n",
       " 1.6055058075498762e-16,\n",
       " 2.80030082712135e-16,\n",
       " 4.856012995008322e-16,\n",
       " 8.372436198290625e-16,\n",
       " 1.435274776849933e-15,\n",
       " 2.446491096903445e-15,\n",
       " 4.146595079497259e-15,\n",
       " 6.9886433924100924e-15,\n",
       " 1.1712810154877248e-14,\n",
       " 1.952135025812857e-14,\n",
       " 3.235582915712523e-14,\n",
       " 5.333378432492127e-14,\n",
       " 8.743243331953246e-14,\n",
       " 1.4255288041230874e-13,\n",
       " 2.3116683310100575e-13,\n",
       " 3.7284973080810205e-13,\n",
       " 5.981546483553175e-13,\n",
       " 9.545020984393356e-13,\n",
       " 1.5150826959351161e-12,\n",
       " 2.3922358356871803e-12,\n",
       " 3.757438485372861e-12,\n",
       " 5.870997633395585e-12,\n",
       " 9.125903057090625e-12,\n",
       " 1.411222122230466e-11,\n",
       " 2.1711109572780717e-11,\n",
       " 3.323129016241047e-11,\n",
       " 5.0606025628040964e-11,\n",
       " 7.667579640613254e-11,\n",
       " 1.1559165287355822e-10,\n",
       " 1.733874793103563e-10,\n",
       " 2.587872825527467e-10,\n",
       " 3.843375483456274e-10,\n",
       " 5.679865246486847e-10,\n",
       " 8.352743009539742e-10,\n",
       " 1.2223526355424312e-09,\n",
       " 1.7801251973922216e-09,\n",
       " 2.5798915904235948e-09,\n",
       " 3.7209974861881144e-09,\n",
       " 5.341144717015085e-09,\n",
       " 7.630206738592185e-09,\n",
       " 1.0848635173354153e-08,\n",
       " 1.535184222644446e-08,\n",
       " 2.1622312994995644e-08,\n",
       " 3.031165373130406e-08,\n",
       " 4.22953307878516e-08,\n",
       " 5.874351498312939e-08,\n",
       " 8.121223269557828e-08,\n",
       " 1.1175995325080651e-07,\n",
       " 1.5309582637094398e-07,\n",
       " 2.0876703596042977e-07,\n",
       " 2.8339416646209297e-07,\n",
       " 3.8296508981359804e-07,\n",
       " 5.151996723950763e-07,\n",
       " 6.899995612433979e-07,\n",
       " 9.19999414991046e-07,\n",
       " 1.22123816149261e-06,\n",
       " 1.6139711385366073e-06,\n",
       " 2.1236462349160993e-06,\n",
       " 2.782069303384115e-06,\n",
       " 3.6287860478924616e-06,\n",
       " 4.712709153106182e-06,\n",
       " 6.09402045660551e-06,\n",
       " 7.8463782703049e-06,\n",
       " 1.005945932090389e-05,\n",
       " 1.2841862962852562e-05,\n",
       " 1.632440207142316e-05,\n",
       " 2.066380009041078e-05,\n",
       " 2.604680683665651e-05,\n",
       " 3.269473661505563e-05,\n",
       " 4.086842076881195e-05,\n",
       " 5.0873552824243176e-05,\n",
       " 6.306638779864417e-05,\n",
       " 7.785973802303444e-05,\n",
       " 9.572918609386627e-05,\n",
       " 0.00011721941154355308,\n",
       " 0.00014295050188239185,\n",
       " 0.00017362409135508841,\n",
       " 0.00021002914276823094,\n",
       " 0.00025304715996174833,\n",
       " 0.00030365659195411856,\n",
       " 0.00036293616568221676,\n",
       " 0.0004320668639074741,\n",
       " 0.0005123322496925141,\n",
       " 0.0006051168303455792,\n",
       " 0.0007119021533477328,\n",
       " 0.0008342603359542018,\n",
       " 0.0009738447501413619,\n",
       " 0.0011323776164434932,\n",
       " 0.0013116343047606868,\n",
       " 0.0015134241978001378,\n",
       " 0.0017395680434491212,\n",
       " 0.001991871805475994,\n",
       " 0.002272097116512881,\n",
       " 0.002581928541491493,\n",
       " 0.002922937971500328,\n",
       " 0.003296546584397794,\n",
       " 0.0037039849262903955,\n",
       " 0.004146251783160718,\n",
       " 0.0046240726206252,\n",
       " 0.005137858467362476,\n",
       " 0.005687666200031199,\n",
       " 0.006273161250034211,\n",
       " 0.006893583791245853,\n",
       " 0.007547719479464563,\n",
       " 0.008233875795782152,\n",
       " 0.008949864995416132,\n",
       " 0.009692994579873505,\n",
       " 0.01046006609338979,\n",
       " 0.011247382896116397,\n",
       " 0.012050767388695498,\n",
       " 0.012865587959459584,\n",
       " 0.013686795701554347,\n",
       " 0.014508970708361161,\n",
       " 0.01532637750883369,\n",
       " 0.01613302895666632,\n",
       " 0.016922757646845872,\n",
       " 0.017689293707507985,\n",
       " 0.018426347611991193,\n",
       " 0.019127696483034237,\n",
       " 0.01978727222383193,\n",
       " 0.020399249715290117,\n",
       " 0.020958133269126718,\n",
       " 0.02145883952470885,\n",
       " 0.02189677502520977,\n",
       " 0.022267906805302762,\n",
       " 0.022568824464832604,\n",
       " 0.02279679238872024,\n",
       " 0.022949790995353717,\n",
       " 0.02302654614918581,\n",
       " 0.023026546149191047,\n",
       " 0.02295004599586508,\n",
       " 0.022798058936293556,\n",
       " 0.022572335580489215,\n",
       " 0.022275331164944862,\n",
       " 0.021910161801592613,\n",
       " 0.021480550785878315,\n",
       " 0.02099076624027115,\n",
       " 0.0204455515327264,\n",
       " 0.019850050031776985,\n",
       " 0.01920972583720953,\n",
       " 0.018530282158069417,\n",
       " 0.017817578998150962,\n",
       " 0.017077551755416063,\n",
       " 0.016316132250396614,\n",
       " 0.015539173571804753,\n",
       " 0.01475237997323601,\n",
       " 0.013961242876872414,\n",
       " 0.013170983846110517,\n",
       " 0.01238650518442957,\n",
       " 0.011612348610402475,\n",
       " 0.0108526622527108,\n",
       " 0.010111176011844547,\n",
       " 0.009391185150321038,\n",
       " 0.008695541805850205,\n",
       " 0.008026653974630801,\n",
       " 0.007386491387696852,\n",
       " 0.0067765976033930565,\n",
       " 0.006198107564079061,\n",
       " 0.005651769815269786,\n",
       " 0.005137972559335124,\n",
       " 0.0046567727123890245,\n",
       " 0.0042079271497492575,\n",
       " 0.003790925360133213,\n",
       " 0.0034050227785641343,\n",
       " 0.0030492741300571793,\n",
       " 0.002722566187551343,\n",
       " 0.002423649425119507,\n",
       " 0.002151168128804156,\n",
       " 0.0019036886095613185,\n",
       " 0.001679725243730452,\n",
       " 0.0014777641440445468,\n",
       " 0.0012962843368813303,\n",
       " 0.0011337763879425739,\n",
       " 0.0009887584778566518,\n",
       " 0.0008597899807451462,\n",
       " 0.0007454826422645647,\n",
       " 0.0006445094889896269,\n",
       " 0.0005556116284393916,\n",
       " 0.0004776031190022915,\n",
       " 0.0004093741020019253,\n",
       " 0.0003498923948734082,\n",
       " 0.0002982037456308143,\n",
       " 0.0002534309452953501,\n",
       " 0.00021477198753836537,\n",
       " 0.0001814974542577835,\n",
       " 0.0001529472929138834,\n",
       " 0.0001285271369024008,\n",
       " 0.00010770430466685895,\n",
       " 9.000359721460612e-05,\n",
       " 7.500299767885041e-05,\n",
       " 6.232936095192957e-05,\n",
       " 5.1654166534778376e-05,\n",
       " 4.26893938303974e-05,\n",
       " 3.518356634372919e-05,\n",
       " 2.8917999734567694e-05,\n",
       " 2.3703278470952857e-05,\n",
       " 1.937597695172918e-05,\n",
       " 1.5795633384562162e-05,\n",
       " 1.284197836143799e-05,\n",
       " 1.04124148876514e-05,\n",
       " 8.419742496751381e-06,\n",
       " 6.790114916736645e-06,\n",
       " 5.461218431690898e-06,\n",
       " 4.380656496010518e-06,\n",
       " 3.504525196807471e-06,\n",
       " 2.796163720857811e-06,\n",
       " 2.225063968851547e-06,\n",
       " 1.7659237848025194e-06,\n",
       " 1.3978288534055627e-06,\n",
       " 1.1035490947942483e-06,\n",
       " 8.689362951134181e-07,\n",
       " 6.824107029686722e-07,\n",
       " 5.345253548058231e-07,\n",
       " 4.175979334420121e-07,\n",
       " 3.2540098709772274e-07,\n",
       " 2.5290232157852837e-07,\n",
       " 1.960483113012164e-07,\n",
       " 1.5158374585147695e-07,\n",
       " 1.1690263176201519e-07,\n",
       " 8.992510135542935e-08,\n",
       " 6.8996241449145e-08,\n",
       " 5.280324600698733e-08,\n",
       " 4.0307821379400726e-08,\n",
       " 3.069123455283029e-08,\n",
       " 2.330979839456475e-08,\n",
       " 1.7658938177699796e-08,\n",
       " 1.3344285776599643e-08,\n",
       " 1.0058506866781184e-08,\n",
       " 7.56278711788418e-09,\n",
       " 5.672090338412778e-09,\n",
       " 4.24345910604328e-09,\n",
       " 3.166760526899652e-09,\n",
       " 2.3573899703962215e-09,\n",
       " 1.7505371067294015e-09,\n",
       " 1.296694153132447e-09,\n",
       " 9.581483890143505e-10,\n",
       " 7.06251883794309e-10,\n",
       " 5.193028557309183e-10,\n",
       " 3.809067401450531e-10,\n",
       " 2.787122488868048e-10,\n",
       " 2.0343959772748042e-10,\n",
       " 1.4813562941323278e-10,\n",
       " 1.0760457342366098e-10,\n",
       " 7.797432856788599e-11,\n",
       " 5.6366984506905054e-11,\n",
       " 4.064926767325367e-11,\n",
       " 2.924407746275904e-11,\n",
       " 2.098857234169611e-11,\n",
       " 1.5027617428415244e-11,\n",
       " 1.0734012448871167e-11,\n",
       " 7.648939987318132e-12,\n",
       " 5.437635062076204e-12,\n",
       " 3.85647876742996e-12,\n",
       " 2.728640637331411e-12,\n",
       " 1.9260992734115002e-12,\n",
       " 1.3564079390218571e-12,\n",
       " 9.529798166431624e-13,\n",
       " 6.679765069928702e-13,\n",
       " 4.671164384564169e-13,\n",
       " 3.2589518962081016e-13,\n",
       " 2.2684119927195818e-13,\n",
       " 1.575286106055768e-13,\n",
       " 1.0914222443801742e-13,\n",
       " 7.544393394332415e-14,\n",
       " 5.203029927127313e-14,\n",
       " 3.5800664636194374e-14,\n",
       " 2.457711531088697e-14,\n",
       " 1.683364062390306e-14,\n",
       " 1.1503626850046991e-14,\n",
       " 7.84338194321177e-15,\n",
       " 5.33563397497502e-15,\n",
       " 3.6214710237364735e-15,\n",
       " 2.4524634472267e-15,\n",
       " 1.6570698967745218e-15,\n",
       " 1.1171257731060174e-15,\n",
       " 7.514298922240532e-16,\n",
       " 5.043153639090004e-16,\n",
       " 3.3771118118877035e-16,\n",
       " 2.256422146028061e-16,\n",
       " 1.5042814306852094e-16,\n",
       " 1.0006306634274134e-16,\n",
       " 6.641353960798392e-17,\n",
       " 4.3982476561591164e-17,\n",
       " 2.9063310503261105e-17,\n",
       " 1.9162622309825926e-17,\n",
       " 1.260698836173397e-17,\n",
       " 8.275922338116753e-18,\n",
       " 5.4209098284609496e-18,\n",
       " 3.5430783192572746e-18,\n",
       " 2.3107032516894784e-18,\n",
       " 1.503711443615599e-18,\n",
       " 9.764360023478783e-19,\n",
       " 6.326799151283226e-19,\n",
       " 4.090602899536739e-19,\n",
       " 2.6390986448623475e-19,\n",
       " 1.6989905439019374e-19,\n",
       " 1.0914286149266177e-19,\n",
       " 6.996337275167951e-20,\n",
       " 4.4752690459495656e-20,\n",
       " 2.856554710179959e-20,\n",
       " 1.819461598842094e-20,\n",
       " 1.1564374568909911e-20,\n",
       " 7.33469845807879e-21,\n",
       " 4.642214213975613e-21,\n",
       " 2.9319247667216686e-21,\n",
       " 1.8478517437317082e-21,\n",
       " 1.162170908007366e-21,\n",
       " 7.293959673689711e-22,\n",
       " 4.568241966817893e-22,\n",
       " 2.855151229261459e-22,\n",
       " 1.7807596024500488e-22,\n",
       " 1.1083565990352725e-22,\n",
       " 6.884202478475994e-23,\n",
       " 4.267067651949807e-23,\n",
       " 2.639423289865515e-23,\n",
       " 1.6292736357198978e-23,\n",
       " 1.0036593238520004e-23,\n",
       " 6.1700368269589226e-24,\n",
       " 3.785298666848028e-24,\n",
       " 2.317529796029335e-24,\n",
       " 1.4160059853538809e-24,\n",
       " 8.634182837522782e-25,\n",
       " 5.254066635408151e-25,\n",
       " 3.1907287259557448e-25,\n",
       " 1.9337749854279988e-25,\n",
       " 1.1696219669929536e-25,\n",
       " 7.060092356093526e-26,\n",
       " 4.2530676843943326e-26,\n",
       " 2.5569545196756987e-26,\n",
       " 1.5341727118056076e-26,\n",
       " 9.186662944944355e-27,\n",
       " 5.490037616499714e-27,\n",
       " 3.2743763120285195e-27,\n",
       " 1.949033519064589e-27,\n",
       " 1.1578416944937222e-27,\n",
       " 6.864674078021361e-28,\n",
       " 4.061937324274133e-28,\n",
       " 2.3987818844143475e-28,\n",
       " 1.4138203640952947e-28,\n",
       " 8.316590377029624e-29,\n",
       " 4.882538381816274e-29,\n",
       " 2.860862333096339e-29,\n",
       " 1.6730189082434822e-29,\n",
       " 9.764701799085279e-30,\n",
       " 5.688175805294177e-30,\n",
       " 3.307078956565955e-30,\n",
       " 1.919001328761746e-30,\n",
       " 1.1113907309430589e-30,\n",
       " 6.42422387827984e-31,\n",
       " 3.7062830067010364e-31,\n",
       " 2.1341360883116604e-31,\n",
       " 1.2265149932819995e-31,\n",
       " 7.03545885248466e-32,\n",
       " 4.0279344575284917e-32,\n",
       " 2.3016768328724304e-32,\n",
       " 1.3127434408020351e-32,\n",
       " 7.472922812914078e-33,\n",
       " 4.2459788709753865e-33,\n",
       " 2.407927526073049e-33,\n",
       " 1.3629778449467087e-33,\n",
       " 7.700439801960816e-34,\n",
       " 4.342353271781241e-34,\n",
       " 2.444101278675268e-34,\n",
       " 1.373090605997691e-34,\n",
       " 7.699573491577261e-35,\n",
       " 4.3094627751336447e-35,\n",
       " 2.407521103427307e-35,\n",
       " 1.342483886669231e-35,\n",
       " 7.472081001871215e-36,\n",
       " 4.151156112152771e-36,\n",
       " 2.3019349974966933e-36,\n",
       " 1.2741337624518763e-36,\n",
       " 7.039413052223644e-37,\n",
       " 3.88202925674107e-37,\n",
       " 2.1368968385723282e-37,\n",
       " 1.1741191420724145e-37,\n",
       " 6.439410285586096e-38,\n",
       " 3.525224608898501e-38,\n",
       " 1.9263522453004836e-38,\n",
       " 1.0507375883456337e-38,\n",
       " 5.720894310412842e-39,\n",
       " 3.1091816904407795e-39,\n",
       " 1.6867170110898705e-39,\n",
       " 9.133846630447324e-40,\n",
       " 4.9372143948364875e-40,\n",
       " 2.6639646015303034e-40,\n",
       " 1.434810377843895e-40,\n",
       " 7.714034289484349e-41,\n",
       " 4.1399110677002414e-41,\n",
       " 2.2178095005542092e-41,\n",
       " 1.1859943853231878e-41,\n",
       " 6.330930882504703e-42,\n",
       " 3.373497805952741e-42,\n",
       " 1.7944137265713232e-42,\n",
       " 9.527860495070737e-43,\n",
       " 5.050102735905674e-43,\n",
       " 2.6720120295783743e-43,\n",
       " 1.4112739592845662e-43,\n",
       " 7.440811736119777e-44,\n",
       " 3.916216703220085e-44,\n",
       " 2.0575569368936576e-44,\n",
       " 1.0791382536151732e-44,\n",
       " 5.649938500605112e-45,\n",
       " 2.952929529933075e-45,\n",
       " 1.5406588851820272e-45,\n",
       " 8.024265026991782e-46,\n",
       " 4.172061539163507e-46,\n",
       " 2.1654298646171823e-46,\n",
       " 1.121984385812853e-46,\n",
       " 5.803367512826421e-47,\n",
       " 2.9965753078258806e-47,\n",
       " 1.544626447333675e-47,\n",
       " 7.948335063463227e-48,\n",
       " 4.083048833970632e-48,\n",
       " 2.0938711969085567e-48,\n",
       " 1.0719477117277875e-48,\n",
       " 5.478438049714278e-49,\n",
       " 2.795121453936219e-49,\n",
       " 1.4236611819720158e-49,\n",
       " 7.238955162566558e-50,\n",
       " 3.674596529222163e-50,\n",
       " 1.8621266195378317e-50,\n",
       " 9.420539390576903e-51,\n",
       " 4.7578481770604763e-51,\n",
       " 2.3989150472572627e-51,\n",
       " 1.2075075741221832e-51,\n",
       " 6.0678772568987596e-52,\n",
       " 3.044085580383664e-52,\n",
       " 1.524583763130105e-52,\n",
       " 7.622918815652677e-53,\n",
       " 3.8051175452495814e-53,\n",
       " 1.8962379793602635e-53,\n",
       " 9.434019797814088e-54,\n",
       " 4.6857714227542373e-54,\n",
       " 2.3235230195490092e-54,\n",
       " 1.1502589205683845e-54,\n",
       " 5.684969953384355e-55,\n",
       " 2.8050838585777758e-55,\n",
       " 1.3818147086591792e-55,\n",
       " 6.795810042584193e-56,\n",
       " 3.336731608470652e-56,\n",
       " 1.6356527492502816e-56,\n",
       " 8.004825852775824e-57,\n",
       " 3.911152696796957e-57,\n",
       " 1.9078793642913582e-57,\n",
       " 9.291620280635747e-58,\n",
       " 4.517805646988034e-58,\n",
       " 2.1931095373728714e-58,\n",
       " 1.0628963832178385e-58,\n",
       " 5.143047015569736e-59,\n",
       " 2.4845637756377826e-59,\n",
       " 1.198342657060227e-59,\n",
       " 5.770510387124885e-60,\n",
       " 2.774283839965175e-60,\n",
       " 1.331656243183089e-60,\n",
       " 6.381739184582321e-61,\n",
       " 3.0534637246820294e-61,\n",
       " 1.4586610149744969e-61,\n",
       " 6.957047766173696e-62,\n",
       " 3.3128798886577592e-62,\n",
       " 1.5750617537185454e-62,\n",
       " 7.476558957530402e-63,\n",
       " 3.5433928708665995e-63,\n",
       " 1.6766843237535333e-63,\n",
       " 7.921343261827201e-64,\n",
       " 3.736482670671282e-64,\n",
       " 1.7597249626401302e-64,\n",
       " 8.274568789844071e-65,\n",
       " 3.884774079739408e-65,\n",
       " 1.8209878498779089e-65,\n",
       " 8.522564039991159e-66,\n",
       " 3.9825065607430933e-66,\n",
       " 1.8580901527576782e-66,\n",
       " 8.655699469370415e-67,\n",
       " 4.025906729939956e-67,\n",
       " 1.8696161284536946e-67,\n",
       " 8.669008323588922e-68,\n",
       " 4.0134297794383325e-68,\n",
       " 1.855206369539755e-68,\n",
       " 8.562490936345424e-69,\n",
       " 3.945848357758541e-69,\n",
       " 1.8155743977433606e-69,\n",
       " 8.341076865589415e-70,\n",
       " 3.8261820484348e-70,\n",
       " 1.7524497931761806e-70,\n",
       " 8.014252102942173e-71,\n",
       " 3.659475846091963e-71,\n",
       " 1.6684540331719975e-71,\n",
       " 7.595390135838747e-72,\n",
       " 3.452450061745158e-72,\n",
       " 1.56692135933902e-72,\n",
       " 7.100852081598217e-73,\n",
       " 3.213055240542773e-73,\n",
       " 1.451681584582046e-73,\n",
       " 6.548939479316946e-74,\n",
       " 2.9499727384329267e-74,\n",
       " 1.326824320135107e-74,\n",
       " 5.958791856888785e-75,\n",
       " 2.6721039717009065e-75,\n",
       " 1.1964644649395823e-75,\n",
       " 5.349319515380417e-76,\n",
       " 2.388089069367186e-76,\n",
       " 1.0645270740116145e-76,\n",
       " 4.73825107126567e-77,\n",
       " 2.105889365007461e-77,\n",
       " 9.345662862465428e-78,\n",
       " 4.1413572507220586e-78,\n",
       " 1.8324589604971177e-78,\n",
       " 8.096284066998881e-79,\n",
       " 3.5718900295558275e-79,\n",
       " 1.5735198368082276e-79,\n",
       " 6.921641510887767e-80,\n",
       " 3.0402524938025085e-80,\n",
       " 1.3334440762290937e-80,\n",
       " 5.839901063779799e-81,\n",
       " 2.553892593488055e-81,\n",
       " 1.115236940387715e-81,\n",
       " 4.8629517749477093e-82,\n",
       " 2.117395547874007e-82,\n",
       " 9.206067599442633e-83,\n",
       " 3.996845556924891e-83,\n",
       " 1.73273651311661e-83,\n",
       " 7.501023866308928e-84,\n",
       " 3.2425175214598206e-84,\n",
       " 1.3996478509900185e-84,\n",
       " 6.032964874953823e-85,\n",
       " 2.596685025087755e-85,\n",
       " 1.1160537357107583e-85,\n",
       " 4.789930196187094e-86,\n",
       " 2.052827226935377e-86,\n",
       " 8.785280571767532e-87,\n",
       " 3.7543934067398297e-87,\n",
       " 1.6021593485374816e-87,\n",
       " 6.82738358751652e-88,\n",
       " 2.9052696117082143e-88,\n",
       " 1.2345338293383141e-88,\n",
       " 5.238474523360292e-89,\n",
       " 2.2196925946426124e-89,\n",
       " 9.392211260828015e-90,\n",
       " 3.968539969368897e-90,\n",
       " 1.6744894385511827e-90,\n",
       " 7.055433027598234e-91,\n",
       " 2.968625397307625e-91,\n",
       " 1.2473215955075418e-91,\n",
       " 5.2335171839492294e-92,\n",
       " 2.19281446254905e-92,\n",
       " 9.174955910246062e-93,\n",
       " 3.833547037704064e-93,\n",
       " 1.599532839097308e-93,\n",
       " 6.664720162908395e-94,\n",
       " 2.7731151856778485e-94,\n",
       " 1.1522639275665988e-94,\n",
       " 4.7811781226823405e-95,\n",
       " 1.9811511558084128e-95,\n",
       " 8.197866851620676e-96,\n",
       " 3.3875482857947875e-96,\n",
       " 1.3978878758429073e-96,\n",
       " 5.760526960891919e-97,\n",
       " 2.37058722670488e-97,\n",
       " 9.742139287820737e-98,\n",
       " 3.998141978589372e-98,\n",
       " 1.6385827781094483e-98,\n",
       " 6.706341520231941e-99,\n",
       " 2.741011520528566e-99,\n",
       " 1.1187802124615007e-99,\n",
       " 4.560245431229289e-100,\n",
       " 1.856273581232659e-100,\n",
       " 7.545827565981391e-101,\n",
       " 3.0632588224600387e-101,\n",
       " 1.2418616847810427e-101,\n",
       " 5.027780100326577e-102,\n",
       " 2.0327951888105063e-102,\n",
       " 8.207786765045622e-103,\n",
       " 3.309591437520139e-103,\n",
       " 1.332721384236489e-103,\n",
       " 5.359469373601063e-104,\n",
       " 2.1523973387937394e-104,\n",
       " 8.632609647584225e-105,\n",
       " 3.457654064453038e-105,\n",
       " 1.3830616257812336e-105,\n",
       " 5.524879996457601e-106,\n",
       " 2.2040744666716543e-106,\n",
       " 8.781173173992253e-107,\n",
       " 3.4938354803703486e-107,\n",
       " 1.3882789988206918e-107,\n",
       " 5.509043646120752e-108,\n",
       " 2.1832405466791898e-108,\n",
       " 8.640793720354097e-109,\n",
       " 3.415333486309487e-109,\n",
       " 1.3481579551211753e-109,\n",
       " 5.314683134516645e-110,\n",
       " 2.0923949348492707e-110,\n",
       " 8.226978773984707e-111,\n",
       " 3.230489047374259e-111,\n",
       " 1.2668584499514718e-111,\n",
       " 4.961586618608735e-112,\n",
       " 1.9406466565622224e-112,\n",
       " 7.580651002183858e-113,\n",
       " 2.9573410931831215e-113,\n",
       " 1.1522108155256114e-113,\n",
       " 4.483310566242399e-114,\n",
       " 1.7422191319606785e-114,\n",
       " 6.761523151208959e-115,\n",
       " 2.6207454074459e-115,\n",
       " 1.0144820932035801e-115,\n",
       " 3.92196685517548e-116,\n",
       " 1.5142729170552646e-116,\n",
       " 5.8390986518872234e-117,\n",
       " 2.248690109837914e-117,\n",
       " 8.64880811476683e-118,\n",
       " 3.3222054218058844e-118,\n",
       " 1.2745033587488009e-118,\n",
       " 4.8831546312209004e-119,\n",
       " 1.8685540680693468e-119,\n",
       " 7.140970960777524e-120,\n",
       " 2.7255614354103652e-120,\n",
       " 1.0389687809695144e-120,\n",
       " 3.955464902168556e-121,\n",
       " 1.503979050254347e-121,\n",
       " 5.711312849064734e-122,\n",
       " 2.166111067913349e-122,\n",
       " 8.204966166347862e-123,\n",
       " 3.104022509334583e-123,\n",
       " 1.1728044745592236e-123,\n",
       " 4.4256772624881895e-124,\n",
       " 1.6679688175199777e-124,\n",
       " 6.278427167578757e-125,\n",
       " 2.3603109652564222e-125,\n",
       " 8.862243924621888e-126,\n",
       " 3.3233414717339376e-126,\n",
       " 1.2446971804231781e-126,\n",
       " 4.655974490364198e-127,\n",
       " 1.7394674310193397e-127,\n",
       " 6.490550115747608e-128,\n",
       " 2.4188385524536303e-128,\n",
       " 9.003121162973105e-129,\n",
       " 3.3468851906952795e-129,\n",
       " 1.2426553925843361e-129,\n",
       " 4.608116412555517e-130,\n",
       " 1.7067097824263156e-130,\n",
       " 6.313353079258625e-131,\n",
       " 2.332519610564743e-131,\n",
       " 8.607083433823991e-132,\n",
       " 3.1721437716773784e-132,\n",
       " 1.1676602840538023e-132,\n",
       " 4.292868691369999e-133,\n",
       " 1.5763287728429511e-133,\n",
       " 5.781156868612827e-134,\n",
       " 2.1176398786148855e-134,\n",
       " 7.747462970538902e-135,\n",
       " 2.8309852511079756e-135,\n",
       " 1.0332062960254594e-135,\n",
       " 3.7662440924343775e-136,\n",
       " 1.3712053734603036e-136,\n",
       " 4.986201358034252e-137,\n",
       " 1.8109690162357996e-137,\n",
       " 6.569416020204168e-138,\n",
       " 2.380223195726217e-138,\n",
       " 8.613594194428766e-139,\n",
       " 3.1133472991891405e-139,\n",
       " 1.1239520935695652e-139,\n",
       " 4.0527118758515808e-140,\n",
       " 1.459560099345997e-140,\n",
       " 5.250216184699298e-141,\n",
       " 1.8863052160599822e-141,\n",
       " 6.769037856671305e-142,\n",
       " 2.426178443252529e-142,\n",
       " 8.685603018798381e-143,\n",
       " 3.105698338072256e-143,\n",
       " 1.109177977882577e-143,\n",
       " 3.956639635732421e-144,\n",
       " 1.4097290863631218e-144,\n",
       " 5.016829488838038e-145,\n",
       " 1.7832332306306963e-145,\n",
       " 6.331005552531809e-146,\n",
       " 2.2450374299754484e-146,\n",
       " 7.951726434387723e-147,\n",
       " 2.8131107668833804e-147,\n",
       " 9.940320731031387e-148,\n",
       " 3.508348493304985e-148,\n",
       " 1.236785602811341e-148,\n",
       " 4.354878883138707e-149,\n",
       " 1.531610392661604e-149,\n",
       " 5.380364377036329e-150,\n",
       " 1.8878471498358333e-150,\n",
       " 6.616286740083726e-151,\n",
       " 2.3160863734230744e-151,\n",
       " 8.098204102877816e-152,\n",
       " 2.8282435749281224e-152,\n",
       " 9.865965959056015e-153,\n",
       " 3.4376188010645423e-153,\n",
       " 1.1963870537352858e-153,\n",
       " 4.158935296879917e-154,\n",
       " 1.4440747558599809e-154,\n",
       " 5.008351754427659e-155,\n",
       " 1.7349948340981981e-155,\n",
       " 6.003442332517521e-156,\n",
       " 2.0749224651543629e-156,\n",
       " 7.163138544841993e-157,\n",
       " 2.470047774083737e-157,\n",
       " 8.507627235645217e-158,\n",
       " 2.9269359755692796e-158,\n",
       " 1.0058199228750451e-158,\n",
       " 3.4524711311507886e-159,\n",
       " 1.183704387822762e-159,\n",
       " 4.053782150079149e-160,\n",
       " 1.3866985690124079e-160,\n",
       " 4.7381500080182825e-161,\n",
       " 1.617116043690384e-161,\n",
       " 5.512895603492541e-162,\n",
       " 1.8772629750817127e-162,\n",
       " 6.385248214569584e-163,\n",
       " 2.1693935043829105e-163,\n",
       " 7.362195150618285e-164,\n",
       " 2.4956593730930367e-164,\n",
       " 8.450313904365182e-165,\n",
       " 2.8580543081303567e-165,\n",
       " 9.655588878819894e-166,\n",
       " 3.258353952356928e-166,\n",
       " 1.0983215569741604e-166,\n",
       " 3.6980523803850885e-167,\n",
       " 1.2437395898164188e-167,\n",
       " 4.1782964943441655e-168,\n",
       " 1.402112917564306e-168,\n",
       " 4.699819835413005e-169,\n",
       " 1.573600391321116e-169,\n",
       " 5.262877562940944e-170,\n",
       " 1.758199631275426e-170,\n",
       " 5.867184531501837e-171,\n",
       " 1.955728177167617e-171,\n",
       " 6.51185852552477e-172,\n",
       " 2.165806604943294e-172,\n",
       " 7.195370780548287e-173,\n",
       " 2.3878442855819427e-173,\n",
       " 7.915505919042885e-174,\n",
       " 2.62102845001568e-174,\n",
       " 8.669333351753457e-175,\n",
       " 2.864317186704186e-175,\n",
       " 9.453192035331358e-176,\n",
       " 3.1164369347228104e-176,\n",
       " 1.026269023510292e-176,\n",
       " 3.3758849457525274e-177,\n",
       " 1.1092721618031655e-177,\n",
       " 3.6409370737524087e-178,\n",
       " 1.1937498602473066e-178,\n",
       " 3.909661114344762e-179,\n",
       " 1.2790603427521578e-179,\n",
       " 4.179935760627412e-180,\n",
       " 1.3645056889960252e-180,\n",
       " 4.449475072818336e-181,\n",
       " 1.4493404145983415e-181,\n",
       " 4.7158581819890956e-182,\n",
       " 1.5327816409495545e-182,\n",
       " 4.9765637693163194e-183,\n",
       " 1.6140206819391896e-183,\n",
       " 5.229008688794994e-184,\n",
       " 1.6922358216148092e-184,\n",
       " 5.470589940571864e-185,\n",
       " 1.7666060087959666e-185,\n",
       " 5.698729060631028e-186,\n",
       " 1.8363251538003312e-186,\n",
       " 5.910917877043741e-187,\n",
       " 1.9006166807215745e-187,\n",
       " 6.104764499106435e-188,\n",
       " 1.958747967628108e-188,\n",
       " 6.278038357776059e-189,\n",
       " 2.0100442981142353e-189,\n",
       " 6.428713106976861e-190,\n",
       " 2.05390195111115e-190,\n",
       " 6.555006226950919e-191,\n",
       " 2.0898000723537457e-191,\n",
       " 6.655414243162554e-192,\n",
       " 2.1173109999486907e-192,\n",
       " 6.728742584571373e-193,\n",
       " 2.1361087570098559e-193,\n",
       " 6.774129250552216e-194,\n",
       " 2.1459754753623626e-194,\n",
       " 6.791061630885598e-195,\n",
       " 2.146805573513093e-195,\n",
       " 6.779386021628902e-196,\n",
       " 2.1386075778001991e-196,\n",
       " 6.739309593911568e-197,\n",
       " 2.1215035447758773e-197,\n",
       " 6.6713947948945944e-198,\n",
       " 2.0957261135804937e-198,\n",
       " 6.5765463815305985e-199,\n",
       " 2.0616132857470304e-199,\n",
       " 6.455991500250114e-200,\n",
       " 2.0196010949675376e-200,\n",
       " 6.311253421770207e-201,\n",
       " 1.9702143876500633e-201,\n",
       " 6.144119712005631e-202,\n",
       " 1.9140559850498035e-202,\n",
       " 5.956605762599239e-203,\n",
       " 1.8517945375972347e-203,\n",
       " 5.750914713033206e-204,\n",
       " 1.7841514104561454e-204,\n",
       " 5.529394867110089e-205,\n",
       " 1.7118869557632881e-205,\n",
       " 5.294495739465258e-206,\n",
       " 1.6357865312476055e-206,\n",
       " 5.04872386187124e-207,\n",
       " 1.5566466172278365e-207,\n",
       " 4.794599437041094e-208,\n",
       " 1.4752613652446461e-208,\n",
       " 4.5346148521896844e-209,\n",
       " 1.3924098829628782e-209,\n",
       " 4.271195960012362e-210,\n",
       " 1.3088445229866512e-210,\n",
       " 4.006666907099361e-211,\n",
       " 1.2252803997258848e-211,\n",
       " 3.743219143764545e-212,\n",
       " 1.1423863104059594e-212,\n",
       " 3.482885092703308e-213,\n",
       " 1.0607771855942432e-213,\n",
       " 3.227516791866102e-214,\n",
       " 9.810081434247613e-215,\n",
       " 2.978769666267069e-215,\n",
       " 9.035701717708513e-216,\n",
       " 2.738091429604822e-216,\n",
       " 8.288874156232917e-217,\n",
       " 2.5067159746649558e-217,\n",
       " 7.573160044309163e-218,\n",
       " 2.2856619852033324e-218,\n",
       " 6.891443171472003e-219,\n",
       " 2.0757358950206992e-219,\n",
       " 6.245945521631916e-220,\n",
       " 1.8775387339544193e-220,\n",
       " 5.638254456325097e-221]"
      ]
     },
     "execution_count": 17,
     "metadata": {},
     "output_type": "execute_result"
    }
   ],
   "source": [
    "arr = [poisson.pmf(k, 300) for k in range (1000)]\n",
    "arr"
   ]
  },
  {
   "cell_type": "markdown",
   "metadata": {},
   "source": [
    "#### Step 5: Plot the probabilities.\n",
    "To do it, run the code in the cell below. Your plot should look like the one below:\n",
    "\n",
    "![poisson distribution](../images/ch-3.png)"
   ]
  },
  {
   "cell_type": "code",
   "execution_count": 18,
   "metadata": {},
   "outputs": [
    {
     "data": {
      "image/png": "[encoded data removed]",
      "text/plain": [
       "<Figure size 432x288 with 1 Axes>"
      ]
     },
     "metadata": {
      "needs_background": "light"
     },
     "output_type": "display_data"
    }
   ],
   "source": [
    "# run this code\n",
    "plt.plot(arr)\n",
    "plt.show()"
   ]
  },
  {
   "cell_type": "markdown",
   "metadata": {},
   "source": [
    "# Challenge 4 - Central Limit Theorem\n",
    "\n",
    "A delivery company needs 35 minutes to deliver a package, with a standard deviation of 8 minutes. Suppose that in one day, they deliver 200 packages.\n",
    "\n",
    "**Hint**: `stats.norm.cdf` can help you find the answers.\n",
    "\n",
    "#### Step 1: What is the probability that the mean delivery time today is between 30 and 35 minutes?"
   ]
  },
  {
   "cell_type": "code",
   "execution_count": 37,
   "metadata": {},
   "outputs": [
    {
     "name": "stdout",
     "output_type": "stream",
     "text": [
      "0.5\n"
     ]
    }
   ],
   "source": [
    "from scipy.stats import norm\n",
    "import math\n",
    "\n",
    "mean = 35\n",
    "packages = 200\n",
    "std = 8/math.sqrt(200)\n",
    "\n",
    "prob30 = norm.cdf(x=30, loc=mean, scale=std)\n",
    "prob35 = norm.cdf(x=35, loc=mean, scale=std)\n",
    "prob = prob35-prob30\n",
    "print(prob)"
   ]
  },
  {
   "cell_type": "markdown",
   "metadata": {},
   "source": [
    "#### Step 2: What is the probability that in total, it takes more than 115 hours to deliver all 200 packages?"
   ]
  },
  {
   "cell_type": "code",
   "execution_count": 44,
   "metadata": {},
   "outputs": [
    {
     "data": {
      "text/plain": [
       "0.8116204410942089"
      ]
     },
     "execution_count": 44,
     "metadata": {},
     "output_type": "execute_result"
    }
   ],
   "source": [
    "#we need to calculate the average time time that will take per package and then convert to minutes\n",
    "average_time=(115/200)*60\n",
    "prob = 1-norm.cdf(average_time, loc=mean, scale=std)\n",
    "prob"
   ]
  },
  {
   "cell_type": "markdown",
   "metadata": {},
   "source": [
    "# Challenge 5 - Normal Variables\n",
    "The value (in thousands) of the monthly sales of a publishing company follows a normal distribution with a mean equal to 200 and a standard deviation equal to 40.\n",
    "\n",
    "<div align=\"center\">$X → N(200,40)$</div>\n",
    "\n",
    "**Hint**: `stats.norm.cdf` can help you find the answers.\n",
    "\n",
    "#### Step 1: Find the probability that the monthly sales are more than 300."
   ]
  },
  {
   "cell_type": "code",
   "execution_count": 52,
   "metadata": {},
   "outputs": [
    {
     "data": {
      "text/plain": [
       "0.9937903346742238"
      ]
     },
     "execution_count": 52,
     "metadata": {},
     "output_type": "execute_result"
    }
   ],
   "source": [
    "from scipy.stats import norm\n",
    "import math\n",
    "mean = 200\n",
    "std = 40\n",
    "\n",
    "norm.cdf(x=300, loc=mean, scale=std)"
   ]
  },
  {
   "cell_type": "markdown",
   "metadata": {},
   "source": [
    "#### Step 2: Find the probability that the monthly sales fall between 160 and 240."
   ]
  },
  {
   "cell_type": "code",
   "execution_count": 53,
   "metadata": {},
   "outputs": [
    {
     "data": {
      "text/plain": [
       "0.6826894921370859"
      ]
     },
     "execution_count": 53,
     "metadata": {},
     "output_type": "execute_result"
    }
   ],
   "source": [
    "sales160 = norm.cdf(x=160, loc=mean, scale=std)\n",
    "sales240 = norm.cdf(x=240, loc=mean, scale=std)\n",
    "prob=sales240-sales160\n",
    "prob"
   ]
  },
  {
   "cell_type": "markdown",
   "metadata": {},
   "source": [
    "#### Step 3: Find the probability that the monthly sales do not exceed 150."
   ]
  },
  {
   "cell_type": "code",
   "execution_count": 54,
   "metadata": {},
   "outputs": [
    {
     "data": {
      "text/plain": [
       "0.10115462099558592"
      ]
     },
     "execution_count": 54,
     "metadata": {},
     "output_type": "execute_result"
    }
   ],
   "source": [
    "norm.cdf(x=149, loc=mean, scale=std)"
   ]
  },
  {
   "cell_type": "markdown",
   "metadata": {},
   "source": [
    "#### Step 4: Find the probability that the monthly sales exceed 3000."
   ]
  },
  {
   "cell_type": "code",
   "execution_count": 55,
   "metadata": {},
   "outputs": [
    {
     "data": {
      "text/plain": [
       "1.0"
      ]
     },
     "execution_count": 55,
     "metadata": {},
     "output_type": "execute_result"
    }
   ],
   "source": [
    "norm.cdf(x=3001, loc=mean, scale=std)"
   ]
  },
  {
   "cell_type": "markdown",
   "metadata": {},
   "source": [
    "# Challenge 6 - Poisson distribution\n",
    "The mean number of violent robberies per month that are registered in a particular barrio is 4.\n",
    "\n",
    "**Hint**: `stats.poisson.cdf` can help you find the answers.\n",
    "\n",
    "#### Step 1: Find the probability that in a particular month there is no violent robbery."
   ]
  },
  {
   "cell_type": "code",
   "execution_count": 86,
   "metadata": {},
   "outputs": [
    {
     "data": {
      "text/plain": [
       "0.018315638888734182"
      ]
     },
     "execution_count": 86,
     "metadata": {},
     "output_type": "execute_result"
    }
   ],
   "source": [
    "from scipy.stats import poisson\n",
    "mean=4\n",
    "k = 0\n",
    "prob1 = poisson.cdf(k=0,mu=mean)\n",
    "prob1"
   ]
  },
  {
   "cell_type": "markdown",
   "metadata": {},
   "source": [
    "#### Step 2: Find the probability that there are at least 1 robbery in a given month."
   ]
  },
  {
   "cell_type": "code",
   "execution_count": 87,
   "metadata": {},
   "outputs": [
    {
     "data": {
      "text/plain": [
       "0.9084218055563291"
      ]
     },
     "execution_count": 87,
     "metadata": {},
     "output_type": "execute_result"
    }
   ],
   "source": [
    "mean=4\n",
    "k = 0\n",
    "prob2 = 1-poisson.cdf(k=1,mu=mean)\n",
    "prob2"
   ]
  },
  {
   "cell_type": "markdown",
   "metadata": {},
   "source": [
    "#### Step 3: Find the probability that there are between 2 and 6 (inclusive) robberies in a given month."
   ]
  },
  {
   "cell_type": "code",
   "execution_count": 88,
   "metadata": {},
   "outputs": [
    {
     "data": {
      "text/plain": [
       "0.6512227160438819"
      ]
     },
     "execution_count": 88,
     "metadata": {},
     "output_type": "execute_result"
    }
   ],
   "source": [
    "mean=4\n",
    "prob3 = poisson.cdf(k=6,mu=mean)-poisson.cdf(k=2,mu=mean)\n",
    "prob3"
   ]
  },
  {
   "cell_type": "markdown",
   "metadata": {},
   "source": [
    "#### Step 4: Find the probability that there are more than 2 robberies in 15 days."
   ]
  },
  {
   "cell_type": "code",
   "execution_count": 89,
   "metadata": {},
   "outputs": [
    {
     "data": {
      "text/plain": [
       "0.6766764161830634"
      ]
     },
     "execution_count": 89,
     "metadata": {},
     "output_type": "execute_result"
    }
   ],
   "source": [
    "mu = 2\n",
    "k = 2 \n",
    "prob4 = poisson.cdf(k=2, mu=2)\n",
    "prob4"
   ]
  },
  {
   "cell_type": "code",
   "execution_count": null,
   "metadata": {},
   "outputs": [],
   "source": []
  }
 ],
 "metadata": {
  "anaconda-cloud": {},
  "kernelspec": {
   "display_name": "Python 3",
   "language": "python",
   "name": "python3"
  },
  "language_info": {
   "codemirror_mode": {
    "name": "ipython",
    "version": 3
   },
   "file_extension": ".py",
   "mimetype": "text/x-python",
   "name": "python",
   "nbconvert_exporter": "python",
   "pygments_lexer": "ipython3",
   "version": "3.7.7"
  }
 },
 "nbformat": 4,
 "nbformat_minor": 1
}
