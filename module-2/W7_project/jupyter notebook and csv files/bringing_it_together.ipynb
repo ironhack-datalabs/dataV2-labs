{
 "cells": [
  {
   "cell_type": "code",
   "execution_count": 2,
   "metadata": {},
   "outputs": [],
   "source": [
    "import pandas as pd\n",
    "pd.set_option('display.max_columns', None)\n",
    "import os\n",
    "import matplotlib.pyplot as plt\n",
    "import seaborn as sns\n",
    "%matplotlib inline"
   ]
  },
  {
   "cell_type": "markdown",
   "metadata": {},
   "source": [
    "# Bringing it together for the EU28 data:"
   ]
  },
  {
   "cell_type": "code",
   "execution_count": 6,
   "metadata": {},
   "outputs": [],
   "source": [
    "from sqlalchemy import create_engine\n",
    "engine = create_engine('mysql+pymysql://root:@localhost:3306/IH_week7_project')\n",
    "\n",
    "EU28_prices = pd.read_sql_table('EU28_Apples_Chicken_Soybeans_Cucumbers', engine)\n",
    "EU28_prices\n",
    "EU28_prices.to_csv('EU28_prices.csv')"
   ]
  },
  {
   "cell_type": "code",
   "execution_count": 42,
   "metadata": {},
   "outputs": [
    {
     "data": {
      "text/html": [
       "<div>\n",
       "<style scoped>\n",
       "    .dataframe tbody tr th:only-of-type {\n",
       "        vertical-align: middle;\n",
       "    }\n",
       "\n",
       "    .dataframe tbody tr th {\n",
       "        vertical-align: top;\n",
       "    }\n",
       "\n",
       "    .dataframe thead th {\n",
       "        text-align: right;\n",
       "    }\n",
       "</style>\n",
       "<table border=\"1\" class=\"dataframe\">\n",
       "  <thead>\n",
       "    <tr style=\"text-align: right;\">\n",
       "      <th></th>\n",
       "      <th>EU28 Trade balance % change</th>\n",
       "      <th>Apples Prices % change</th>\n",
       "      <th>Cucumbers Prices % change</th>\n",
       "      <th>Chicken Prices % change</th>\n",
       "      <th>Soybeans Prices % change</th>\n",
       "    </tr>\n",
       "    <tr>\n",
       "      <th>Year</th>\n",
       "      <th></th>\n",
       "      <th></th>\n",
       "      <th></th>\n",
       "      <th></th>\n",
       "      <th></th>\n",
       "    </tr>\n",
       "  </thead>\n",
       "  <tbody>\n",
       "    <tr>\n",
       "      <td>2009</td>\n",
       "      <td>0.622384</td>\n",
       "      <td>-0.193632</td>\n",
       "      <td>-0.136684</td>\n",
       "      <td>-0.161333</td>\n",
       "      <td>-0.125496</td>\n",
       "    </tr>\n",
       "    <tr>\n",
       "      <td>2010</td>\n",
       "      <td>-0.370296</td>\n",
       "      <td>0.058731</td>\n",
       "      <td>0.059770</td>\n",
       "      <td>-0.050118</td>\n",
       "      <td>0.079258</td>\n",
       "    </tr>\n",
       "    <tr>\n",
       "      <td>2011</td>\n",
       "      <td>-0.033143</td>\n",
       "      <td>0.091755</td>\n",
       "      <td>-0.046469</td>\n",
       "      <td>0.146662</td>\n",
       "      <td>0.055281</td>\n",
       "    </tr>\n",
       "    <tr>\n",
       "      <td>2012</td>\n",
       "      <td>0.582631</td>\n",
       "      <td>-0.009084</td>\n",
       "      <td>0.050976</td>\n",
       "      <td>-0.032056</td>\n",
       "      <td>0.222814</td>\n",
       "    </tr>\n",
       "    <tr>\n",
       "      <td>2013</td>\n",
       "      <td>3.584723</td>\n",
       "      <td>0.079568</td>\n",
       "      <td>0.099597</td>\n",
       "      <td>0.086749</td>\n",
       "      <td>0.017588</td>\n",
       "    </tr>\n",
       "    <tr>\n",
       "      <td>2014</td>\n",
       "      <td>-0.222865</td>\n",
       "      <td>-0.093511</td>\n",
       "      <td>-0.104860</td>\n",
       "      <td>-0.026264</td>\n",
       "      <td>-0.123202</td>\n",
       "    </tr>\n",
       "    <tr>\n",
       "      <td>2015</td>\n",
       "      <td>0.530255</td>\n",
       "      <td>-0.161324</td>\n",
       "      <td>-0.072295</td>\n",
       "      <td>-0.212392</td>\n",
       "      <td>-0.229318</td>\n",
       "    </tr>\n",
       "    <tr>\n",
       "      <td>2016</td>\n",
       "      <td>-0.216947</td>\n",
       "      <td>-0.013815</td>\n",
       "      <td>0.014404</td>\n",
       "      <td>0.089531</td>\n",
       "      <td>-0.030750</td>\n",
       "    </tr>\n",
       "    <tr>\n",
       "      <td>2017</td>\n",
       "      <td>-0.149644</td>\n",
       "      <td>0.177268</td>\n",
       "      <td>-0.005821</td>\n",
       "      <td>-0.000913</td>\n",
       "      <td>0.033067</td>\n",
       "    </tr>\n",
       "    <tr>\n",
       "      <td>2018</td>\n",
       "      <td>-0.465178</td>\n",
       "      <td>0.086886</td>\n",
       "      <td>0.184078</td>\n",
       "      <td>0.122197</td>\n",
       "      <td>0.019391</td>\n",
       "    </tr>\n",
       "  </tbody>\n",
       "</table>\n",
       "</div>"
      ],
      "text/plain": [
       "      EU28 Trade balance % change  Apples Prices % change  \\\n",
       "Year                                                        \n",
       "2009                     0.622384               -0.193632   \n",
       "2010                    -0.370296                0.058731   \n",
       "2011                    -0.033143                0.091755   \n",
       "2012                     0.582631               -0.009084   \n",
       "2013                     3.584723                0.079568   \n",
       "2014                    -0.222865               -0.093511   \n",
       "2015                     0.530255               -0.161324   \n",
       "2016                    -0.216947               -0.013815   \n",
       "2017                    -0.149644                0.177268   \n",
       "2018                    -0.465178                0.086886   \n",
       "\n",
       "      Cucumbers Prices % change  Chicken Prices % change  \\\n",
       "Year                                                       \n",
       "2009                  -0.136684                -0.161333   \n",
       "2010                   0.059770                -0.050118   \n",
       "2011                  -0.046469                 0.146662   \n",
       "2012                   0.050976                -0.032056   \n",
       "2013                   0.099597                 0.086749   \n",
       "2014                  -0.104860                -0.026264   \n",
       "2015                  -0.072295                -0.212392   \n",
       "2016                   0.014404                 0.089531   \n",
       "2017                  -0.005821                -0.000913   \n",
       "2018                   0.184078                 0.122197   \n",
       "\n",
       "      Soybeans Prices % change  \n",
       "Year                            \n",
       "2009                 -0.125496  \n",
       "2010                  0.079258  \n",
       "2011                  0.055281  \n",
       "2012                  0.222814  \n",
       "2013                  0.017588  \n",
       "2014                 -0.123202  \n",
       "2015                 -0.229318  \n",
       "2016                 -0.030750  \n",
       "2017                  0.033067  \n",
       "2018                  0.019391  "
      ]
     },
     "execution_count": 42,
     "metadata": {},
     "output_type": "execute_result"
    }
   ],
   "source": [
    "xlsx = pd.ExcelFile('excel_calculations.xlsx')\n",
    "df = pd.read_excel(xlsx, 'data_for_python_EU28')\n",
    "df1 = df.set_index('Year')\n",
    "df1"
   ]
  },
  {
   "cell_type": "code",
   "execution_count": 43,
   "metadata": {},
   "outputs": [
    {
     "data": {
      "text/html": [
       "<div>\n",
       "<style scoped>\n",
       "    .dataframe tbody tr th:only-of-type {\n",
       "        vertical-align: middle;\n",
       "    }\n",
       "\n",
       "    .dataframe tbody tr th {\n",
       "        vertical-align: top;\n",
       "    }\n",
       "\n",
       "    .dataframe thead th {\n",
       "        text-align: right;\n",
       "    }\n",
       "</style>\n",
       "<table border=\"1\" class=\"dataframe\">\n",
       "  <thead>\n",
       "    <tr style=\"text-align: right;\">\n",
       "      <th></th>\n",
       "      <th>EU28 Trade balance % change</th>\n",
       "      <th>Apples Prices % change</th>\n",
       "      <th>Cucumbers Prices % change</th>\n",
       "      <th>Chicken Prices % change</th>\n",
       "      <th>Soybeans Prices % change</th>\n",
       "    </tr>\n",
       "  </thead>\n",
       "  <tbody>\n",
       "    <tr>\n",
       "      <td>EU28 Trade balance % change</td>\n",
       "      <td>1.000000</td>\n",
       "      <td>-0.002199</td>\n",
       "      <td>0.152930</td>\n",
       "      <td>0.029210</td>\n",
       "      <td>0.009956</td>\n",
       "    </tr>\n",
       "    <tr>\n",
       "      <td>Apples Prices % change</td>\n",
       "      <td>-0.002199</td>\n",
       "      <td>1.000000</td>\n",
       "      <td>0.652204</td>\n",
       "      <td>0.739500</td>\n",
       "      <td>0.657933</td>\n",
       "    </tr>\n",
       "    <tr>\n",
       "      <td>Cucumbers Prices % change</td>\n",
       "      <td>0.152930</td>\n",
       "      <td>0.652204</td>\n",
       "      <td>1.000000</td>\n",
       "      <td>0.582431</td>\n",
       "      <td>0.581148</td>\n",
       "    </tr>\n",
       "    <tr>\n",
       "      <td>Chicken Prices % change</td>\n",
       "      <td>0.029210</td>\n",
       "      <td>0.739500</td>\n",
       "      <td>0.582431</td>\n",
       "      <td>1.000000</td>\n",
       "      <td>0.516080</td>\n",
       "    </tr>\n",
       "    <tr>\n",
       "      <td>Soybeans Prices % change</td>\n",
       "      <td>0.009956</td>\n",
       "      <td>0.657933</td>\n",
       "      <td>0.581148</td>\n",
       "      <td>0.516080</td>\n",
       "      <td>1.000000</td>\n",
       "    </tr>\n",
       "  </tbody>\n",
       "</table>\n",
       "</div>"
      ],
      "text/plain": [
       "                             EU28 Trade balance % change  \\\n",
       "EU28 Trade balance % change                     1.000000   \n",
       "Apples Prices % change                         -0.002199   \n",
       "Cucumbers Prices % change                       0.152930   \n",
       "Chicken Prices % change                         0.029210   \n",
       "Soybeans Prices % change                        0.009956   \n",
       "\n",
       "                             Apples Prices % change  \\\n",
       "EU28 Trade balance % change               -0.002199   \n",
       "Apples Prices % change                     1.000000   \n",
       "Cucumbers Prices % change                  0.652204   \n",
       "Chicken Prices % change                    0.739500   \n",
       "Soybeans Prices % change                   0.657933   \n",
       "\n",
       "                             Cucumbers Prices % change  \\\n",
       "EU28 Trade balance % change                   0.152930   \n",
       "Apples Prices % change                        0.652204   \n",
       "Cucumbers Prices % change                     1.000000   \n",
       "Chicken Prices % change                       0.582431   \n",
       "Soybeans Prices % change                      0.581148   \n",
       "\n",
       "                             Chicken Prices % change  Soybeans Prices % change  \n",
       "EU28 Trade balance % change                 0.029210                  0.009956  \n",
       "Apples Prices % change                      0.739500                  0.657933  \n",
       "Cucumbers Prices % change                   0.582431                  0.581148  \n",
       "Chicken Prices % change                     1.000000                  0.516080  \n",
       "Soybeans Prices % change                    0.516080                  1.000000  "
      ]
     },
     "execution_count": 43,
     "metadata": {},
     "output_type": "execute_result"
    }
   ],
   "source": [
    "df1.corr()"
   ]
  },
  {
   "cell_type": "code",
   "execution_count": 44,
   "metadata": {},
   "outputs": [
    {
     "data": {
      "text/plain": [
       "<seaborn.axisgrid.PairGrid at 0x7f7fbe76ced0>"
      ]
     },
     "execution_count": 44,
     "metadata": {},
     "output_type": "execute_result"
    },
    {
     "data": {
      "image/png": "[encoded data removed]",
      "text/plain": [
       "<Figure size 900x900 with 30 Axes>"
      ]
     },
     "metadata": {
      "needs_background": "light"
     },
     "output_type": "display_data"
    }
   ],
   "source": [
    "sns.pairplot(df1)"
   ]
  },
  {
   "cell_type": "code",
   "execution_count": 55,
   "metadata": {},
   "outputs": [
    {
     "name": "stdout",
     "output_type": "stream",
     "text": [
      "stat=-0.002, p=0.995\n",
      "Probably independent\n",
      "stat=0.153, p=0.673\n",
      "Probably independent\n",
      "stat=0.029, p=0.936\n",
      "Probably independent\n",
      "stat=0.010, p=0.978\n",
      "Probably independent\n"
     ]
    }
   ],
   "source": [
    "from scipy.stats import pearsonr\n",
    "stat, p = pearsonr(df1['EU28 Trade balance % change'], df1['Apples Prices % change'])\n",
    "print('stat=%.3f, p=%.3f' % (stat, p))\n",
    "if p > 0.05:\n",
    "    print('Probably independent')\n",
    "else:\n",
    "    print('Probably dependent')\n",
    "    \n",
    "stat, p = pearsonr(df1['EU28 Trade balance % change'], df1['Cucumbers Prices % change'])\n",
    "print('stat=%.3f, p=%.3f' % (stat, p))\n",
    "if p > 0.05:\n",
    "    print('Probably independent')\n",
    "else:\n",
    "    print('Probably dependent')\n",
    "    \n",
    "stat, p = pearsonr(df1['EU28 Trade balance % change'], df1['Chicken Prices % change'])\n",
    "print('stat=%.3f, p=%.3f' % (stat, p))\n",
    "if p > 0.05:\n",
    "    print('Probably independent')\n",
    "else:\n",
    "    print('Probably dependent')\n",
    "    \n",
    "stat, p = pearsonr(df1['EU28 Trade balance % change'], df1['Soybeans Prices % change'])\n",
    "print('stat=%.3f, p=%.3f' % (stat, p))\n",
    "if p > 0.05:\n",
    "    print('Probably independent')\n",
    "else:\n",
    "    print('Probably dependent')\n"
   ]
  },
  {
   "cell_type": "code",
   "execution_count": 56,
   "metadata": {
    "scrolled": true
   },
   "outputs": [
    {
     "name": "stdout",
     "output_type": "stream",
     "text": [
      "stat=-0.248, p=0.489\n",
      "Probably independent\n",
      "stat=-0.261, p=0.467\n",
      "Probably independent\n",
      "stat=-0.285, p=0.425\n",
      "Probably independent\n",
      "stat=-0.188, p=0.603\n",
      "Probably independent\n"
     ]
    }
   ],
   "source": [
    "from scipy.stats import spearmanr\n",
    "stat, p = spearmanr(df1['EU28 Trade balance % change'], df1['Apples Prices % change'])\n",
    "print('stat=%.3f, p=%.3f' % (stat, p))\n",
    "if p > 0.05:\n",
    "    print('Probably independent')\n",
    "else:\n",
    "    print('Probably dependent')\n",
    "    \n",
    "stat, p = spearmanr(df1['EU28 Trade balance % change'], df1['Cucumbers Prices % change'])\n",
    "print('stat=%.3f, p=%.3f' % (stat, p))\n",
    "if p > 0.05:\n",
    "    print('Probably independent')\n",
    "else:\n",
    "    print('Probably dependent')\n",
    "    \n",
    "stat, p = spearmanr(df1['EU28 Trade balance % change'], df1['Chicken Prices % change'])\n",
    "print('stat=%.3f, p=%.3f' % (stat, p))\n",
    "if p > 0.05:\n",
    "    print('Probably independent')\n",
    "else:\n",
    "    print('Probably dependent')\n",
    "    \n",
    "stat, p = spearmanr(df1['EU28 Trade balance % change'], df1['Soybeans Prices % change'])\n",
    "print('stat=%.3f, p=%.3f' % (stat, p))\n",
    "if p > 0.05:\n",
    "    print('Probably independent')\n",
    "else:\n",
    "    print('Probably dependent')"
   ]
  },
  {
   "cell_type": "code",
   "execution_count": 57,
   "metadata": {},
   "outputs": [
    {
     "name": "stdout",
     "output_type": "stream",
     "text": [
      "stat=-0.200, p=0.484\n",
      "Probably independent\n",
      "stat=-0.244, p=0.381\n",
      "Probably independent\n",
      "stat=-0.156, p=0.601\n",
      "Probably independent\n",
      "stat=-0.067, p=0.862\n",
      "Probably independent\n"
     ]
    }
   ],
   "source": [
    "from scipy.stats import kendalltau\n",
    "stat, p = kendalltau(df1['EU28 Trade balance % change'], df1['Apples Prices % change'])\n",
    "print('stat=%.3f, p=%.3f' % (stat, p))\n",
    "if p > 0.05:\n",
    "    print('Probably independent')\n",
    "else:\n",
    "    print('Probably dependent')\n",
    "    \n",
    "stat, p = kendalltau(df1['EU28 Trade balance % change'], df1['Cucumbers Prices % change'])\n",
    "print('stat=%.3f, p=%.3f' % (stat, p))\n",
    "if p > 0.05:\n",
    "    print('Probably independent')\n",
    "else:\n",
    "    print('Probably dependent')\n",
    "    \n",
    "stat, p = kendalltau(df1['EU28 Trade balance % change'], df1['Chicken Prices % change'])\n",
    "print('stat=%.3f, p=%.3f' % (stat, p))\n",
    "if p > 0.05:\n",
    "    print('Probably independent')\n",
    "else:\n",
    "    print('Probably dependent')\n",
    "    \n",
    "stat, p = kendalltau(df1['EU28 Trade balance % change'], df1['Soybeans Prices % change'])\n",
    "print('stat=%.3f, p=%.3f' % (stat, p))\n",
    "if p > 0.05:\n",
    "    print('Probably independent')\n",
    "else:\n",
    "    print('Probably dependent')"
   ]
  },
  {
   "cell_type": "markdown",
   "metadata": {},
   "source": [
    "# Bringing it together for the biggest producers for the specific items in the EU\n",
    "\n",
    "## First apples from Poland"
   ]
  },
  {
   "cell_type": "code",
   "execution_count": 51,
   "metadata": {},
   "outputs": [
    {
     "data": {
      "text/html": [
       "<div>\n",
       "<style scoped>\n",
       "    .dataframe tbody tr th:only-of-type {\n",
       "        vertical-align: middle;\n",
       "    }\n",
       "\n",
       "    .dataframe tbody tr th {\n",
       "        vertical-align: top;\n",
       "    }\n",
       "\n",
       "    .dataframe thead th {\n",
       "        text-align: right;\n",
       "    }\n",
       "</style>\n",
       "<table border=\"1\" class=\"dataframe\">\n",
       "  <thead>\n",
       "    <tr style=\"text-align: right;\">\n",
       "      <th></th>\n",
       "      <th>Poland Trade balance % change</th>\n",
       "      <th>Apples Prices % change</th>\n",
       "    </tr>\n",
       "    <tr>\n",
       "      <th>Year</th>\n",
       "      <th></th>\n",
       "      <th></th>\n",
       "    </tr>\n",
       "  </thead>\n",
       "  <tbody>\n",
       "    <tr>\n",
       "      <td>2009</td>\n",
       "      <td>0.643713</td>\n",
       "      <td>-0.396338</td>\n",
       "    </tr>\n",
       "    <tr>\n",
       "      <td>2010</td>\n",
       "      <td>-0.488115</td>\n",
       "      <td>1.073386</td>\n",
       "    </tr>\n",
       "    <tr>\n",
       "      <td>2011</td>\n",
       "      <td>-0.138182</td>\n",
       "      <td>0.347334</td>\n",
       "    </tr>\n",
       "    <tr>\n",
       "      <td>2012</td>\n",
       "      <td>0.322973</td>\n",
       "      <td>-0.214711</td>\n",
       "    </tr>\n",
       "    <tr>\n",
       "      <td>2013</td>\n",
       "      <td>0.814585</td>\n",
       "      <td>0.263158</td>\n",
       "    </tr>\n",
       "    <tr>\n",
       "      <td>2014</td>\n",
       "      <td>-0.342532</td>\n",
       "      <td>-0.407839</td>\n",
       "    </tr>\n",
       "    <tr>\n",
       "      <td>2015</td>\n",
       "      <td>1.886517</td>\n",
       "      <td>0.230769</td>\n",
       "    </tr>\n",
       "    <tr>\n",
       "      <td>2016</td>\n",
       "      <td>0.653152</td>\n",
       "      <td>-0.280039</td>\n",
       "    </tr>\n",
       "    <tr>\n",
       "      <td>2017</td>\n",
       "      <td>-0.854628</td>\n",
       "      <td>0.848587</td>\n",
       "    </tr>\n",
       "    <tr>\n",
       "      <td>2018</td>\n",
       "      <td>-9.113294</td>\n",
       "      <td>-0.376047</td>\n",
       "    </tr>\n",
       "  </tbody>\n",
       "</table>\n",
       "</div>"
      ],
      "text/plain": [
       "      Poland Trade balance % change  Apples Prices % change\n",
       "Year                                                       \n",
       "2009                       0.643713               -0.396338\n",
       "2010                      -0.488115                1.073386\n",
       "2011                      -0.138182                0.347334\n",
       "2012                       0.322973               -0.214711\n",
       "2013                       0.814585                0.263158\n",
       "2014                      -0.342532               -0.407839\n",
       "2015                       1.886517                0.230769\n",
       "2016                       0.653152               -0.280039\n",
       "2017                      -0.854628                0.848587\n",
       "2018                      -9.113294               -0.376047"
      ]
     },
     "execution_count": 51,
     "metadata": {},
     "output_type": "execute_result"
    }
   ],
   "source": [
    "xlsx = pd.ExcelFile('excel_calculations.xlsx')\n",
    "df_PL_apples = pd.read_excel(xlsx, 'data_for_python_PL_apples')\n",
    "df_PL_apples1 = df_PL_apples.set_index('Year')\n",
    "df_PL_apples1"
   ]
  },
  {
   "cell_type": "code",
   "execution_count": 53,
   "metadata": {},
   "outputs": [
    {
     "data": {
      "text/html": [
       "<div>\n",
       "<style scoped>\n",
       "    .dataframe tbody tr th:only-of-type {\n",
       "        vertical-align: middle;\n",
       "    }\n",
       "\n",
       "    .dataframe tbody tr th {\n",
       "        vertical-align: top;\n",
       "    }\n",
       "\n",
       "    .dataframe thead th {\n",
       "        text-align: right;\n",
       "    }\n",
       "</style>\n",
       "<table border=\"1\" class=\"dataframe\">\n",
       "  <thead>\n",
       "    <tr style=\"text-align: right;\">\n",
       "      <th></th>\n",
       "      <th>Poland Trade balance % change</th>\n",
       "      <th>Apples Prices % change</th>\n",
       "    </tr>\n",
       "  </thead>\n",
       "  <tbody>\n",
       "    <tr>\n",
       "      <td>Poland Trade balance % change</td>\n",
       "      <td>1.000000</td>\n",
       "      <td>0.211293</td>\n",
       "    </tr>\n",
       "    <tr>\n",
       "      <td>Apples Prices % change</td>\n",
       "      <td>0.211293</td>\n",
       "      <td>1.000000</td>\n",
       "    </tr>\n",
       "  </tbody>\n",
       "</table>\n",
       "</div>"
      ],
      "text/plain": [
       "                               Poland Trade balance % change  \\\n",
       "Poland Trade balance % change                       1.000000   \n",
       "Apples Prices % change                              0.211293   \n",
       "\n",
       "                               Apples Prices % change  \n",
       "Poland Trade balance % change                0.211293  \n",
       "Apples Prices % change                       1.000000  "
      ]
     },
     "execution_count": 53,
     "metadata": {},
     "output_type": "execute_result"
    }
   ],
   "source": [
    "df_PL_apples1.corr()"
   ]
  },
  {
   "cell_type": "code",
   "execution_count": 54,
   "metadata": {},
   "outputs": [
    {
     "data": {
      "text/plain": [
       "<seaborn.axisgrid.PairGrid at 0x7f7fbff00b10>"
      ]
     },
     "execution_count": 54,
     "metadata": {},
     "output_type": "execute_result"
    },
    {
     "data": {
      "image/png": "[encoded data removed]",
      "text/plain": [
       "<Figure size 360x360 with 6 Axes>"
      ]
     },
     "metadata": {
      "needs_background": "light"
     },
     "output_type": "display_data"
    }
   ],
   "source": [
    "sns.pairplot(df_PL_apples1)"
   ]
  },
  {
   "cell_type": "code",
   "execution_count": 60,
   "metadata": {},
   "outputs": [
    {
     "name": "stdout",
     "output_type": "stream",
     "text": [
      "stat=0.211, p=0.558\n",
      "Probably independent\n",
      "stat=-0.103, p=0.777\n",
      "Probably independent\n",
      "stat=-0.067, p=0.862\n",
      "Probably independent\n"
     ]
    }
   ],
   "source": [
    "stat, p = pearsonr(df_PL_apples1['Poland Trade balance % change'], df_PL_apples1['Apples Prices % change'])\n",
    "print('stat=%.3f, p=%.3f' % (stat, p))\n",
    "if p > 0.05:\n",
    "    print('Probably independent')\n",
    "else:\n",
    "    print('Probably dependent')\n",
    "    \n",
    "stat, p = spearmanr(df_PL_apples1['Poland Trade balance % change'], df_PL_apples1['Apples Prices % change'])\n",
    "print('stat=%.3f, p=%.3f' % (stat, p))\n",
    "if p > 0.05:\n",
    "    print('Probably independent')\n",
    "else:\n",
    "    print('Probably dependent')\n",
    "    \n",
    "stat, p = kendalltau(df_PL_apples1['Poland Trade balance % change'], df_PL_apples1['Apples Prices % change'])\n",
    "print('stat=%.3f, p=%.3f' % (stat, p))\n",
    "if p > 0.05:\n",
    "    print('Probably independent')\n",
    "else:\n",
    "    print('Probably dependent')"
   ]
  },
  {
   "cell_type": "markdown",
   "metadata": {},
   "source": [
    "## Then cucumbers from Spain"
   ]
  },
  {
   "cell_type": "code",
   "execution_count": 62,
   "metadata": {},
   "outputs": [
    {
     "data": {
      "text/html": [
       "<div>\n",
       "<style scoped>\n",
       "    .dataframe tbody tr th:only-of-type {\n",
       "        vertical-align: middle;\n",
       "    }\n",
       "\n",
       "    .dataframe tbody tr th {\n",
       "        vertical-align: top;\n",
       "    }\n",
       "\n",
       "    .dataframe thead th {\n",
       "        text-align: right;\n",
       "    }\n",
       "</style>\n",
       "<table border=\"1\" class=\"dataframe\">\n",
       "  <thead>\n",
       "    <tr style=\"text-align: right;\">\n",
       "      <th></th>\n",
       "      <th>Spain Trade balance % change</th>\n",
       "      <th>Cucumber Prices % change</th>\n",
       "    </tr>\n",
       "    <tr>\n",
       "      <th>Year</th>\n",
       "      <th></th>\n",
       "      <th></th>\n",
       "    </tr>\n",
       "  </thead>\n",
       "  <tbody>\n",
       "    <tr>\n",
       "      <td>2009</td>\n",
       "      <td>0.501335</td>\n",
       "      <td>-0.094696</td>\n",
       "    </tr>\n",
       "    <tr>\n",
       "      <td>2010</td>\n",
       "      <td>-0.159423</td>\n",
       "      <td>0.089149</td>\n",
       "    </tr>\n",
       "    <tr>\n",
       "      <td>2011</td>\n",
       "      <td>0.080987</td>\n",
       "      <td>-0.194886</td>\n",
       "    </tr>\n",
       "    <tr>\n",
       "      <td>2012</td>\n",
       "      <td>0.349081</td>\n",
       "      <td>-0.006197</td>\n",
       "    </tr>\n",
       "    <tr>\n",
       "      <td>2013</td>\n",
       "      <td>0.476760</td>\n",
       "      <td>0.263835</td>\n",
       "    </tr>\n",
       "    <tr>\n",
       "      <td>2014</td>\n",
       "      <td>-0.510172</td>\n",
       "      <td>-0.047949</td>\n",
       "    </tr>\n",
       "    <tr>\n",
       "      <td>2015</td>\n",
       "      <td>-0.028483</td>\n",
       "      <td>0.045020</td>\n",
       "    </tr>\n",
       "    <tr>\n",
       "      <td>2016</td>\n",
       "      <td>0.285741</td>\n",
       "      <td>-0.112816</td>\n",
       "    </tr>\n",
       "    <tr>\n",
       "      <td>2017</td>\n",
       "      <td>-0.501754</td>\n",
       "      <td>0.103231</td>\n",
       "    </tr>\n",
       "    <tr>\n",
       "      <td>2018</td>\n",
       "      <td>-0.301874</td>\n",
       "      <td>0.020899</td>\n",
       "    </tr>\n",
       "  </tbody>\n",
       "</table>\n",
       "</div>"
      ],
      "text/plain": [
       "      Spain Trade balance % change  Cucumber Prices % change\n",
       "Year                                                        \n",
       "2009                      0.501335                 -0.094696\n",
       "2010                     -0.159423                  0.089149\n",
       "2011                      0.080987                 -0.194886\n",
       "2012                      0.349081                 -0.006197\n",
       "2013                      0.476760                  0.263835\n",
       "2014                     -0.510172                 -0.047949\n",
       "2015                     -0.028483                  0.045020\n",
       "2016                      0.285741                 -0.112816\n",
       "2017                     -0.501754                  0.103231\n",
       "2018                     -0.301874                  0.020899"
      ]
     },
     "execution_count": 62,
     "metadata": {},
     "output_type": "execute_result"
    }
   ],
   "source": [
    "xlsx = pd.ExcelFile('excel_calculations.xlsx')\n",
    "df_ES_cucumbers = pd.read_excel(xlsx, 'data_for_python_ES_cucumbers')\n",
    "df_ES_cucumbers1 = df_ES_cucumbers.set_index('Year')\n",
    "df_ES_cucumbers1"
   ]
  },
  {
   "cell_type": "code",
   "execution_count": 63,
   "metadata": {},
   "outputs": [
    {
     "data": {
      "text/html": [
       "<div>\n",
       "<style scoped>\n",
       "    .dataframe tbody tr th:only-of-type {\n",
       "        vertical-align: middle;\n",
       "    }\n",
       "\n",
       "    .dataframe tbody tr th {\n",
       "        vertical-align: top;\n",
       "    }\n",
       "\n",
       "    .dataframe thead th {\n",
       "        text-align: right;\n",
       "    }\n",
       "</style>\n",
       "<table border=\"1\" class=\"dataframe\">\n",
       "  <thead>\n",
       "    <tr style=\"text-align: right;\">\n",
       "      <th></th>\n",
       "      <th>Spain Trade balance % change</th>\n",
       "      <th>Cucumber Prices % change</th>\n",
       "    </tr>\n",
       "  </thead>\n",
       "  <tbody>\n",
       "    <tr>\n",
       "      <td>Spain Trade balance % change</td>\n",
       "      <td>1.000000</td>\n",
       "      <td>-0.049781</td>\n",
       "    </tr>\n",
       "    <tr>\n",
       "      <td>Cucumber Prices % change</td>\n",
       "      <td>-0.049781</td>\n",
       "      <td>1.000000</td>\n",
       "    </tr>\n",
       "  </tbody>\n",
       "</table>\n",
       "</div>"
      ],
      "text/plain": [
       "                              Spain Trade balance % change  \\\n",
       "Spain Trade balance % change                      1.000000   \n",
       "Cucumber Prices % change                         -0.049781   \n",
       "\n",
       "                              Cucumber Prices % change  \n",
       "Spain Trade balance % change                 -0.049781  \n",
       "Cucumber Prices % change                      1.000000  "
      ]
     },
     "execution_count": 63,
     "metadata": {},
     "output_type": "execute_result"
    }
   ],
   "source": [
    "df_ES_cucumbers1.corr()"
   ]
  },
  {
   "cell_type": "code",
   "execution_count": 64,
   "metadata": {},
   "outputs": [
    {
     "data": {
      "text/plain": [
       "<seaborn.axisgrid.PairGrid at 0x7f7fc0396850>"
      ]
     },
     "execution_count": 64,
     "metadata": {},
     "output_type": "execute_result"
    },
    {
     "data": {
      "image/png": "[encoded data removed]",
      "text/plain": [
       "<Figure size 360x360 with 6 Axes>"
      ]
     },
     "metadata": {
      "needs_background": "light"
     },
     "output_type": "display_data"
    }
   ],
   "source": [
    "sns.pairplot(df_ES_cucumbers1)"
   ]
  },
  {
   "cell_type": "code",
   "execution_count": 66,
   "metadata": {},
   "outputs": [
    {
     "name": "stdout",
     "output_type": "stream",
     "text": [
      "stat=-0.050, p=0.891\n",
      "Probably independent\n",
      "stat=-0.188, p=0.603\n",
      "Probably independent\n",
      "stat=-0.111, p=0.727\n",
      "Probably independent\n"
     ]
    }
   ],
   "source": [
    "stat, p = pearsonr(df_ES_cucumbers1['Spain Trade balance % change'], df_ES_cucumbers1['Cucumber Prices % change'])\n",
    "print('stat=%.3f, p=%.3f' % (stat, p))\n",
    "if p > 0.05:\n",
    "    print('Probably independent')\n",
    "else:\n",
    "    print('Probably dependent')\n",
    "    \n",
    "stat, p = spearmanr(df_ES_cucumbers1['Spain Trade balance % change'], df_ES_cucumbers1['Cucumber Prices % change'])\n",
    "print('stat=%.3f, p=%.3f' % (stat, p))\n",
    "if p > 0.05:\n",
    "    print('Probably independent')\n",
    "else:\n",
    "    print('Probably dependent')\n",
    "    \n",
    "stat, p = kendalltau(df_ES_cucumbers1['Spain Trade balance % change'], df_ES_cucumbers1['Cucumber Prices % change'])\n",
    "print('stat=%.3f, p=%.3f' % (stat, p))\n",
    "if p > 0.05:\n",
    "    print('Probably independent')\n",
    "else:\n",
    "    print('Probably dependent')\n",
    "    "
   ]
  },
  {
   "cell_type": "markdown",
   "metadata": {},
   "source": [
    "## Third chicken meat from Poland"
   ]
  },
  {
   "cell_type": "code",
   "execution_count": 69,
   "metadata": {},
   "outputs": [
    {
     "data": {
      "text/html": [
       "<div>\n",
       "<style scoped>\n",
       "    .dataframe tbody tr th:only-of-type {\n",
       "        vertical-align: middle;\n",
       "    }\n",
       "\n",
       "    .dataframe tbody tr th {\n",
       "        vertical-align: top;\n",
       "    }\n",
       "\n",
       "    .dataframe thead th {\n",
       "        text-align: right;\n",
       "    }\n",
       "</style>\n",
       "<table border=\"1\" class=\"dataframe\">\n",
       "  <thead>\n",
       "    <tr style=\"text-align: right;\">\n",
       "      <th></th>\n",
       "      <th>Poland Trade balance % change</th>\n",
       "      <th>Chicken meat Prices % change</th>\n",
       "    </tr>\n",
       "    <tr>\n",
       "      <th>Year</th>\n",
       "      <th></th>\n",
       "      <th></th>\n",
       "    </tr>\n",
       "  </thead>\n",
       "  <tbody>\n",
       "    <tr>\n",
       "      <td>2009</td>\n",
       "      <td>0.643713</td>\n",
       "      <td>-0.176674</td>\n",
       "    </tr>\n",
       "    <tr>\n",
       "      <td>2010</td>\n",
       "      <td>-0.488115</td>\n",
       "      <td>-0.018790</td>\n",
       "    </tr>\n",
       "    <tr>\n",
       "      <td>2011</td>\n",
       "      <td>-0.138182</td>\n",
       "      <td>0.177410</td>\n",
       "    </tr>\n",
       "    <tr>\n",
       "      <td>2012</td>\n",
       "      <td>0.322973</td>\n",
       "      <td>-0.052652</td>\n",
       "    </tr>\n",
       "    <tr>\n",
       "      <td>2013</td>\n",
       "      <td>0.814585</td>\n",
       "      <td>0.032998</td>\n",
       "    </tr>\n",
       "    <tr>\n",
       "      <td>2014</td>\n",
       "      <td>-0.342532</td>\n",
       "      <td>-0.042085</td>\n",
       "    </tr>\n",
       "    <tr>\n",
       "      <td>2015</td>\n",
       "      <td>1.886517</td>\n",
       "      <td>-0.209257</td>\n",
       "    </tr>\n",
       "  </tbody>\n",
       "</table>\n",
       "</div>"
      ],
      "text/plain": [
       "      Poland Trade balance % change  Chicken meat Prices % change\n",
       "Year                                                             \n",
       "2009                       0.643713                     -0.176674\n",
       "2010                      -0.488115                     -0.018790\n",
       "2011                      -0.138182                      0.177410\n",
       "2012                       0.322973                     -0.052652\n",
       "2013                       0.814585                      0.032998\n",
       "2014                      -0.342532                     -0.042085\n",
       "2015                       1.886517                     -0.209257"
      ]
     },
     "execution_count": 69,
     "metadata": {},
     "output_type": "execute_result"
    }
   ],
   "source": [
    "xlsx = pd.ExcelFile('excel_calculations.xlsx')\n",
    "df_PL_chicken = pd.read_excel(xlsx, 'data_for_python_PL_chicken')\n",
    "df_PL_chicken1 = df_PL_chicken.set_index('Year')\n",
    "df_PL_chicken1"
   ]
  },
  {
   "cell_type": "code",
   "execution_count": 70,
   "metadata": {},
   "outputs": [
    {
     "data": {
      "text/html": [
       "<div>\n",
       "<style scoped>\n",
       "    .dataframe tbody tr th:only-of-type {\n",
       "        vertical-align: middle;\n",
       "    }\n",
       "\n",
       "    .dataframe tbody tr th {\n",
       "        vertical-align: top;\n",
       "    }\n",
       "\n",
       "    .dataframe thead th {\n",
       "        text-align: right;\n",
       "    }\n",
       "</style>\n",
       "<table border=\"1\" class=\"dataframe\">\n",
       "  <thead>\n",
       "    <tr style=\"text-align: right;\">\n",
       "      <th></th>\n",
       "      <th>Poland Trade balance % change</th>\n",
       "      <th>Chicken meat Prices % change</th>\n",
       "    </tr>\n",
       "  </thead>\n",
       "  <tbody>\n",
       "    <tr>\n",
       "      <td>Poland Trade balance % change</td>\n",
       "      <td>1.000000</td>\n",
       "      <td>-0.606358</td>\n",
       "    </tr>\n",
       "    <tr>\n",
       "      <td>Chicken meat Prices % change</td>\n",
       "      <td>-0.606358</td>\n",
       "      <td>1.000000</td>\n",
       "    </tr>\n",
       "  </tbody>\n",
       "</table>\n",
       "</div>"
      ],
      "text/plain": [
       "                               Poland Trade balance % change  \\\n",
       "Poland Trade balance % change                       1.000000   \n",
       "Chicken meat Prices % change                       -0.606358   \n",
       "\n",
       "                               Chicken meat Prices % change  \n",
       "Poland Trade balance % change                     -0.606358  \n",
       "Chicken meat Prices % change                       1.000000  "
      ]
     },
     "execution_count": 70,
     "metadata": {},
     "output_type": "execute_result"
    }
   ],
   "source": [
    "df_PL_chicken1.corr()"
   ]
  },
  {
   "cell_type": "code",
   "execution_count": 71,
   "metadata": {},
   "outputs": [
    {
     "data": {
      "text/plain": [
       "<seaborn.axisgrid.PairGrid at 0x7f7fc0af1610>"
      ]
     },
     "execution_count": 71,
     "metadata": {},
     "output_type": "execute_result"
    },
    {
     "data": {
      "image/png": "[encoded data removed]",
      "text/plain": [
       "<Figure size 360x360 with 6 Axes>"
      ]
     },
     "metadata": {
      "needs_background": "light"
     },
     "output_type": "display_data"
    }
   ],
   "source": [
    "sns.pairplot(df_PL_chicken1)"
   ]
  },
  {
   "cell_type": "code",
   "execution_count": 72,
   "metadata": {},
   "outputs": [
    {
     "name": "stdout",
     "output_type": "stream",
     "text": [
      "stat=-0.606, p=0.149\n",
      "Probably independent\n",
      "stat=-0.464, p=0.294\n",
      "Probably independent\n",
      "stat=-0.429, p=0.239\n",
      "Probably independent\n"
     ]
    }
   ],
   "source": [
    "stat, p = pearsonr(df_PL_chicken1['Poland Trade balance % change'], df_PL_chicken1['Chicken meat Prices % change'])\n",
    "print('stat=%.3f, p=%.3f' % (stat, p))\n",
    "if p > 0.05:\n",
    "    print('Probably independent')\n",
    "else:\n",
    "    print('Probably dependent')\n",
    "\n",
    "stat, p = spearmanr(df_PL_chicken1['Poland Trade balance % change'], df_PL_chicken1['Chicken meat Prices % change'])\n",
    "print('stat=%.3f, p=%.3f' % (stat, p))\n",
    "if p > 0.05:\n",
    "    print('Probably independent')\n",
    "else:\n",
    "    print('Probably dependent')\n",
    "    \n",
    "stat, p = kendalltau(df_PL_chicken1['Poland Trade balance % change'], df_PL_chicken1['Chicken meat Prices % change'])\n",
    "print('stat=%.3f, p=%.3f' % (stat, p))\n",
    "if p > 0.05:\n",
    "    print('Probably independent')\n",
    "else:\n",
    "    print('Probably dependent')"
   ]
  },
  {
   "cell_type": "markdown",
   "metadata": {},
   "source": [
    "## Lastly soybeans from Romania"
   ]
  },
  {
   "cell_type": "code",
   "execution_count": 73,
   "metadata": {},
   "outputs": [
    {
     "data": {
      "text/html": [
       "<div>\n",
       "<style scoped>\n",
       "    .dataframe tbody tr th:only-of-type {\n",
       "        vertical-align: middle;\n",
       "    }\n",
       "\n",
       "    .dataframe tbody tr th {\n",
       "        vertical-align: top;\n",
       "    }\n",
       "\n",
       "    .dataframe thead th {\n",
       "        text-align: right;\n",
       "    }\n",
       "</style>\n",
       "<table border=\"1\" class=\"dataframe\">\n",
       "  <thead>\n",
       "    <tr style=\"text-align: right;\">\n",
       "      <th></th>\n",
       "      <th>Romania Trade balance % change</th>\n",
       "      <th>Soybean Prices % change</th>\n",
       "    </tr>\n",
       "    <tr>\n",
       "      <th>Year</th>\n",
       "      <th></th>\n",
       "      <th></th>\n",
       "    </tr>\n",
       "  </thead>\n",
       "  <tbody>\n",
       "    <tr>\n",
       "      <td>2009</td>\n",
       "      <td>0.579741</td>\n",
       "      <td>-0.182550</td>\n",
       "    </tr>\n",
       "    <tr>\n",
       "      <td>2010</td>\n",
       "      <td>0.041752</td>\n",
       "      <td>0.229352</td>\n",
       "    </tr>\n",
       "    <tr>\n",
       "      <td>2011</td>\n",
       "      <td>-0.021955</td>\n",
       "      <td>0.101809</td>\n",
       "    </tr>\n",
       "    <tr>\n",
       "      <td>2012</td>\n",
       "      <td>0.003530</td>\n",
       "      <td>0.156426</td>\n",
       "    </tr>\n",
       "    <tr>\n",
       "      <td>2013</td>\n",
       "      <td>0.401810</td>\n",
       "      <td>0.115190</td>\n",
       "    </tr>\n",
       "    <tr>\n",
       "      <td>2014</td>\n",
       "      <td>-0.051690</td>\n",
       "      <td>-0.223495</td>\n",
       "    </tr>\n",
       "    <tr>\n",
       "      <td>2015</td>\n",
       "      <td>-0.380512</td>\n",
       "      <td>-0.222482</td>\n",
       "    </tr>\n",
       "    <tr>\n",
       "      <td>2016</td>\n",
       "      <td>-0.192822</td>\n",
       "      <td>0.031325</td>\n",
       "    </tr>\n",
       "    <tr>\n",
       "      <td>2017</td>\n",
       "      <td>-0.298993</td>\n",
       "      <td>-0.034171</td>\n",
       "    </tr>\n",
       "    <tr>\n",
       "      <td>2018</td>\n",
       "      <td>-0.189338</td>\n",
       "      <td>0.035682</td>\n",
       "    </tr>\n",
       "  </tbody>\n",
       "</table>\n",
       "</div>"
      ],
      "text/plain": [
       "      Romania Trade balance % change  Soybean Prices % change\n",
       "Year                                                         \n",
       "2009                        0.579741                -0.182550\n",
       "2010                        0.041752                 0.229352\n",
       "2011                       -0.021955                 0.101809\n",
       "2012                        0.003530                 0.156426\n",
       "2013                        0.401810                 0.115190\n",
       "2014                       -0.051690                -0.223495\n",
       "2015                       -0.380512                -0.222482\n",
       "2016                       -0.192822                 0.031325\n",
       "2017                       -0.298993                -0.034171\n",
       "2018                       -0.189338                 0.035682"
      ]
     },
     "execution_count": 73,
     "metadata": {},
     "output_type": "execute_result"
    }
   ],
   "source": [
    "xlsx = pd.ExcelFile('excel_calculations.xlsx')\n",
    "df_RO_soybeans = pd.read_excel(xlsx, 'data_for_python_RO_soybeans')\n",
    "df_RO_soybeans1 = df_RO_soybeans.set_index('Year')\n",
    "df_RO_soybeans1"
   ]
  },
  {
   "cell_type": "code",
   "execution_count": 74,
   "metadata": {},
   "outputs": [
    {
     "data": {
      "text/html": [
       "<div>\n",
       "<style scoped>\n",
       "    .dataframe tbody tr th:only-of-type {\n",
       "        vertical-align: middle;\n",
       "    }\n",
       "\n",
       "    .dataframe tbody tr th {\n",
       "        vertical-align: top;\n",
       "    }\n",
       "\n",
       "    .dataframe thead th {\n",
       "        text-align: right;\n",
       "    }\n",
       "</style>\n",
       "<table border=\"1\" class=\"dataframe\">\n",
       "  <thead>\n",
       "    <tr style=\"text-align: right;\">\n",
       "      <th></th>\n",
       "      <th>Romania Trade balance % change</th>\n",
       "      <th>Soybean Prices % change</th>\n",
       "    </tr>\n",
       "  </thead>\n",
       "  <tbody>\n",
       "    <tr>\n",
       "      <td>Romania Trade balance % change</td>\n",
       "      <td>1.000000</td>\n",
       "      <td>0.096089</td>\n",
       "    </tr>\n",
       "    <tr>\n",
       "      <td>Soybean Prices % change</td>\n",
       "      <td>0.096089</td>\n",
       "      <td>1.000000</td>\n",
       "    </tr>\n",
       "  </tbody>\n",
       "</table>\n",
       "</div>"
      ],
      "text/plain": [
       "                                Romania Trade balance % change  \\\n",
       "Romania Trade balance % change                        1.000000   \n",
       "Soybean Prices % change                               0.096089   \n",
       "\n",
       "                                Soybean Prices % change  \n",
       "Romania Trade balance % change                 0.096089  \n",
       "Soybean Prices % change                        1.000000  "
      ]
     },
     "execution_count": 74,
     "metadata": {},
     "output_type": "execute_result"
    }
   ],
   "source": [
    "df_RO_soybeans1.corr()"
   ]
  },
  {
   "cell_type": "code",
   "execution_count": 75,
   "metadata": {},
   "outputs": [
    {
     "data": {
      "text/plain": [
       "<seaborn.axisgrid.PairGrid at 0x7f7fc0a49ed0>"
      ]
     },
     "execution_count": 75,
     "metadata": {},
     "output_type": "execute_result"
    },
    {
     "data": {
      "image/png": "[encoded data removed]",
      "text/plain": [
       "<Figure size 360x360 with 6 Axes>"
      ]
     },
     "metadata": {
      "needs_background": "light"
     },
     "output_type": "display_data"
    }
   ],
   "source": [
    "sns.pairplot(df_RO_soybeans1)"
   ]
  },
  {
   "cell_type": "code",
   "execution_count": 76,
   "metadata": {},
   "outputs": [
    {
     "name": "stdout",
     "output_type": "stream",
     "text": [
      "stat=0.096, p=0.792\n",
      "Probably independent\n",
      "stat=0.467, p=0.174\n",
      "Probably independent\n",
      "stat=0.422, p=0.108\n",
      "Probably independent\n"
     ]
    }
   ],
   "source": [
    "stat, p = pearsonr(df_RO_soybeans1['Romania Trade balance % change'], df_RO_soybeans1['Soybean Prices % change'])\n",
    "print('stat=%.3f, p=%.3f' % (stat, p))\n",
    "if p > 0.05:\n",
    "    print('Probably independent')\n",
    "else:\n",
    "    print('Probably dependent')\n",
    "    \n",
    "stat, p = spearmanr(df_RO_soybeans1['Romania Trade balance % change'], df_RO_soybeans1['Soybean Prices % change'])\n",
    "print('stat=%.3f, p=%.3f' % (stat, p))\n",
    "if p > 0.05:\n",
    "    print('Probably independent')\n",
    "else:\n",
    "    print('Probably dependent')\n",
    "    \n",
    "stat, p = kendalltau(df_RO_soybeans1['Romania Trade balance % change'], df_RO_soybeans1['Soybean Prices % change'])\n",
    "print('stat=%.3f, p=%.3f' % (stat, p))\n",
    "if p > 0.05:\n",
    "    print('Probably independent')\n",
    "else:\n",
    "    print('Probably dependent')"
   ]
  }
 ],
 "metadata": {
  "kernelspec": {
   "display_name": "Python 3",
   "language": "python",
   "name": "python3"
  },
  "language_info": {
   "codemirror_mode": {
    "name": "ipython",
    "version": 3
   },
   "file_extension": ".py",
   "mimetype": "text/x-python",
   "name": "python",
   "nbconvert_exporter": "python",
   "pygments_lexer": "ipython3",
   "version": "3.7.4"
  }
 },
 "nbformat": 4,
 "nbformat_minor": 2
}
