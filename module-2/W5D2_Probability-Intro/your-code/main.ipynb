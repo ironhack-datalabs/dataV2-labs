{
 "cells": [
  {
   "cell_type": "markdown",
   "metadata": {},
   "source": [
    "# Introduction To Probability\n",
    "## Challenge 1\n",
    "\n",
    "A and B are events of a probability space with $(\\omega, \\sigma, P)$ such that $P(A) = 0.3$, $P(B) = 0.6$ and $P(A \\cap B) = 0.1$\n",
    "\n",
    "Which of the following statements are false?\n",
    "* $P(A \\cup B) = 0.6$\n",
    "* $P(A \\cap B^{C}) = 0.2$\n",
    "* $P(A \\cap (B \\cup B^{C})) = 0.4$\n",
    "* $P(A^{C} \\cap B^{C}) = 0.3$\n",
    "* $P((A \\cap B)^{C}) = 0.9$"
   ]
  },
  {
   "cell_type": "code",
   "execution_count": null,
   "metadata": {},
   "outputs": [],
   "source": [
    "\"\"\"\n",
    "your solution here:\n",
    "\n",
    "𝑃(𝐴∪𝐵)=0.6 is false as 𝑃(𝐴∪𝐵)=0.8 (0.6 + 0.3 - 0.1)\n",
    "𝑃(𝐴∩𝐵𝐶)=0.2 is TRUE (0.3 - 0.1)\n",
    "𝑃(𝐴∩(𝐵∪𝐵𝐶))=0.4 is false as (𝐵∪𝐵𝐶) cannot be possible\n",
    "𝑃(𝐴𝐶∩𝐵𝐶)=0.3 is false as 𝑃(𝐴𝐶∩𝐵𝐶)=0.2 (1 - 0.6 - 0.3 + 0.1)\n",
    "𝑃((𝐴∩𝐵)𝐶)=0.9 is false as 𝑃((𝐴∩𝐵)𝐶)=0.2 (same as above)\n",
    "\n",
    "\"\"\""
   ]
  },
  {
   "cell_type": "markdown",
   "metadata": {},
   "source": [
    "## Challenge 2\n",
    "There is a box with 10 white balls, 12 red balls and 8 black balls. Calculate the probability of:\n",
    "* Taking a white ball out.\n",
    "* Taking a white ball out after taking a black ball out.\n",
    "* Taking a red ball out after taking a black and a red ball out.\n",
    "* Taking a red ball out after taking a black and a red ball out with reposition.\n",
    "\n",
    "**Hint**: Reposition means putting back the ball into the box after taking it out."
   ]
  },
  {
   "cell_type": "code",
   "execution_count": null,
   "metadata": {},
   "outputs": [],
   "source": [
    "\"\"\"\n",
    "your solution here:\n",
    "\n",
    "The probablity of taking a white ball out is 10 over 30 which is 1/3 (33.33%).\n",
    "\n",
    "The probablity of taking a white ball out after taking a black ball out is 8 over 30 times 10 over 29  (9.20%).\n",
    "\n",
    "The probablity of taking a red ball out after taking a black and a red ball out is 8 over 30 times 12 over 29 times 11 over 28 (4.33%).\n",
    "\n",
    "The probablity of taking a red ball out after taking a black and a red ball out with reposition is 12 over 30 (40%).\n",
    "\n",
    "\"\"\""
   ]
  },
  {
   "cell_type": "markdown",
   "metadata": {},
   "source": [
    "## Challenge 3\n",
    "\n",
    "You are planning to go on a picnic today but the morning is cloudy. You hate rain so you don't know whether to go out or stay home! To help you make a decision, you gather the following data about rainy days:\n",
    "\n",
    "* 50% of all rainy days start off cloudy!\n",
    "* Cloudy mornings are common. About 40% of days start cloudy. \n",
    "* This month is usually dry so only 3 of 30 days (10%) tend to be rainy. \n",
    "\n",
    "What is the chance of rain during the day?"
   ]
  },
  {
   "cell_type": "code",
   "execution_count": null,
   "metadata": {},
   "outputs": [],
   "source": [
    "\"\"\"\n",
    "your solution here:\n",
    "\n",
    "The second statement gives us the information we are on a morning that happens 40% of the month. Off these 40%,\n",
    "50% will have rain according to the first statement. This would mean 6 days a month in an average month.\n",
    "\n",
    "As we know this month it rains only 3 days (which is 50% of a normal month) the chance of rain today is:\n",
    "50% times 50% gives 25%.\n",
    "\n",
    "\n",
    "\"\"\""
   ]
  },
  {
   "cell_type": "markdown",
   "metadata": {},
   "source": [
    "## Challenge 4\n",
    "\n",
    "One thousand people were asked through a telephone survey whether they thought more street lighting is needed at night or not.\n",
    "\n",
    "Out of the 480 men that answered the survey, 324 said yes and 156 said no. On the other hand, out of the 520 women that answered, 351 said yes and 169 said no. \n",
    "\n",
    "We wonder if men and women have a different opinions about the street lighting matter. Is gender relevant or irrelevant to the question?\n",
    "\n",
    "Consider the following events:\n",
    "- The answer is yes, so the person that answered thinks that more street lighting is needed.\n",
    "- The person who answered is a man.\n",
    "\n",
    "We want to know if these events are independent, that is, if the fact of wanting more light depends on whether one is male or female. Are these events independent or not?\n",
    "\n",
    "**Hint**: To clearly compare the answers by gender, it is best to place the data in a table."
   ]
  },
  {
   "cell_type": "code",
   "execution_count": null,
   "metadata": {},
   "outputs": [],
   "source": [
    "# your code here"
   ]
  },
  {
   "cell_type": "code",
   "execution_count": null,
   "metadata": {},
   "outputs": [],
   "source": [
    "\"\"\"\n",
    "your solution here:\n",
    "\n",
    "The events are independent as P(A)*P(B) = P(A ∩ B) is true\n",
    "P(A) is the chance of the person thinking more street lighting is needed is (324+351)/1000 = 0.675\n",
    "P(B) is the chance of the person who answered is a man is 480/1000 = 0.48\n",
    "\n",
    "P(A)*P(B) = 0.675 * 0.48 = 0.324 and P(A ∩ B) is 324/1000 = 0.324 (being a person who wants more street lighting and being a man).\n",
    "\n",
    "\"\"\""
   ]
  }
 ],
 "metadata": {
  "kernelspec": {
   "display_name": "Python 3",
   "language": "python",
   "name": "python3"
  },
  "language_info": {
   "codemirror_mode": {
    "name": "ipython",
    "version": 3
   },
   "file_extension": ".py",
   "mimetype": "text/x-python",
   "name": "python",
   "nbconvert_exporter": "python",
   "pygments_lexer": "ipython3",
   "version": "3.7.4"
  }
 },
 "nbformat": 4,
 "nbformat_minor": 2
}
