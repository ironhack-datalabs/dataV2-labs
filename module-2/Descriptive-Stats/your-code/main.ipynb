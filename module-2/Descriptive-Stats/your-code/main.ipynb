{
 "cells": [
  {
   "cell_type": "markdown",
   "metadata": {},
   "source": [
    "# Understanding Descriptive Statistics\n",
    "\n",
    "Import the necessary libraries here:"
   ]
  },
  {
   "cell_type": "code",
   "execution_count": 1,
   "metadata": {},
   "outputs": [],
   "source": [
    "# Libraries\n",
    "import random\n",
    "import matplotlib\n",
    "%matplotlib inline\n",
    "import pandas as pd\n",
    "from collections import Counter\n",
    "import numpy as np"
   ]
  },
  {
   "cell_type": "markdown",
   "metadata": {},
   "source": [
    "## Challenge 1\n",
    "#### 1.- Define a function that simulates rolling a dice 10 times. Save the information in a dataframe.\n",
    "**Hint**: you can use the *choices* function from module *random* to help you with the simulation."
   ]
  },
  {
   "cell_type": "code",
   "execution_count": 21,
   "metadata": {},
   "outputs": [
    {
     "name": "stdout",
     "output_type": "stream",
     "text": [
      "[3, 2, 6, 3, 6, 4, 4, 3, 5, 4]\n"
     ]
    }
   ],
   "source": [
    "# your code here\n",
    "dice = []\n",
    "def dice_roll(i):\n",
    "    for i in range(1,i):\n",
    "        dice.append(random.randint(1,6))\n",
    "    \n",
    "dice_roll(11)\n",
    "print(dice)\n",
    "dice1 = pd.DataFrame(dice)"
   ]
  },
  {
   "cell_type": "markdown",
   "metadata": {},
   "source": [
    "#### 2.- Plot the results sorted by value."
   ]
  },
  {
   "cell_type": "code",
   "execution_count": 29,
   "metadata": {},
   "outputs": [
    {
     "data": {
      "text/plain": [
       "array([[<matplotlib.axes._subplots.AxesSubplot object at 0x120e42550>]],\n",
       "      dtype=object)"
      ]
     },
     "execution_count": 29,
     "metadata": {},
     "output_type": "execute_result"
    },
    {
     "data": {
      "image/png": "[encoded data removed]",
      "text/plain": [
       "<Figure size 432x288 with 1 Axes>"
      ]
     },
     "metadata": {
      "needs_background": "light"
     },
     "output_type": "display_data"
    }
   ],
   "source": [
    "# your code here\n",
    "dice1.hist()"
   ]
  },
  {
   "cell_type": "markdown",
   "metadata": {},
   "source": [
    "#### 3.- Calculate the frequency distribution and plot it. What is the relation between this plot and the plot above? Describe it with words."
   ]
  },
  {
   "cell_type": "code",
   "execution_count": 43,
   "metadata": {},
   "outputs": [
    {
     "name": "stdout",
     "output_type": "stream",
     "text": [
      "dict_items([(3, 3), (2, 1), (6, 2), (4, 3), (5, 1)])\n",
      "   0  1\n",
      "0  3  3\n",
      "1  2  1\n",
      "2  6  2\n",
      "3  4  3\n",
      "4  5  1\n"
     ]
    },
    {
     "data": {
      "text/plain": [
       "<matplotlib.axes._subplots.AxesSubplot at 0x1211cbf10>"
      ]
     },
     "execution_count": 43,
     "metadata": {},
     "output_type": "execute_result"
    },
    {
     "data": {
      "image/png": "[encoded data removed]",
      "text/plain": [
       "<Figure size 432x288 with 1 Axes>"
      ]
     },
     "metadata": {
      "needs_background": "light"
     },
     "output_type": "display_data"
    }
   ],
   "source": [
    "# your code here\n",
    "freq = (Counter(dice).items())\n",
    "\n",
    "print (freq)\n",
    "freq = pd.DataFrame(freq)\n",
    "print (freq)\n",
    "\n",
    "freq.set_index(0).plot.bar()"
   ]
  },
  {
   "cell_type": "code",
   "execution_count": null,
   "metadata": {},
   "outputs": [],
   "source": [
    "\"\"\"\n",
    "They show the exact same data.  \n",
    "\"\"\""
   ]
  },
  {
   "cell_type": "markdown",
   "metadata": {},
   "source": [
    "## Challenge 2\n",
    "Now, using the dice results obtained in *challenge 1*, your are going to define some functions that will help you calculate the mean of your data in two different ways, the median and the four quartiles. \n",
    "\n",
    "#### 1.- Define a function that computes the mean by summing all the observations and dividing by the total number of observations. You are not allowed to use any methods or functions that directly calculate the mean value. "
   ]
  },
  {
   "cell_type": "code",
   "execution_count": 104,
   "metadata": {},
   "outputs": [
    {
     "name": "stdout",
     "output_type": "stream",
     "text": [
      "   0\n",
      "0  3\n",
      "1  2\n",
      "2  6\n",
      "3  3\n",
      "4  6\n",
      "5  4\n",
      "6  4\n",
      "7  3\n",
      "8  5\n",
      "9  4\n"
     ]
    },
    {
     "data": {
      "text/plain": [
       "0    4.0\n",
       "dtype: float64"
      ]
     },
     "execution_count": 104,
     "metadata": {},
     "output_type": "execute_result"
    }
   ],
   "source": [
    "# your code here\n",
    "print (dice1)\n",
    "def mean(x):\n",
    "    return x.sum()/len(x)\n",
    "mean(dice1)\n"
   ]
  },
  {
   "cell_type": "markdown",
   "metadata": {},
   "source": [
    "#### 2.- First, calculate the frequency distribution. Then, calculate the mean using the values of the frequency distribution you've just computed. You are not allowed to use any methods or functions that directly calculate the mean value. "
   ]
  },
  {
   "cell_type": "code",
   "execution_count": 60,
   "metadata": {},
   "outputs": [
    {
     "name": "stdout",
     "output_type": "stream",
     "text": [
      "   0  1\n",
      "0  3  3\n",
      "1  2  1\n",
      "2  6  2\n",
      "3  4  3\n",
      "4  5  1\n"
     ]
    },
    {
     "data": {
      "text/plain": [
       "2.0"
      ]
     },
     "execution_count": 60,
     "metadata": {},
     "output_type": "execute_result"
    }
   ],
   "source": [
    "# your code here\n",
    "print (freq)\n",
    "\n",
    "mean = (freq[1]).sum()/len(freq)\n",
    "mean"
   ]
  },
  {
   "cell_type": "markdown",
   "metadata": {},
   "source": [
    "#### 3.- Define a function to calculate the median. You are not allowed to use any methods or functions that directly calculate the median value. \n",
    "**Hint**: you might need to define two computation cases depending on the number of observations used to calculate the median."
   ]
  },
  {
   "cell_type": "code",
   "execution_count": 83,
   "metadata": {},
   "outputs": [
    {
     "name": "stdout",
     "output_type": "stream",
     "text": [
      "[2, 3, 3, 3, 4, 4, 4, 5, 6, 6]\n"
     ]
    },
    {
     "data": {
      "text/plain": [
       "4.0"
      ]
     },
     "execution_count": 83,
     "metadata": {},
     "output_type": "execute_result"
    }
   ],
   "source": [
    "# your code here\n",
    "dice = list(dice)\n",
    "#print (dice)\n",
    "dice.sort()\n",
    "print (dice)\n",
    "\n",
    "def median(x):\n",
    "    length = len(x)\n",
    "    mid_index = length//2\n",
    "    first_half = x[:mid_index]\n",
    "    second_half = x[mid_index:]\n",
    "    return (max(first_half)+min(second_half))/2\n",
    "\n",
    "\n",
    "median(dice)\n",
    "\n"
   ]
  },
  {
   "cell_type": "markdown",
   "metadata": {},
   "source": [
    "#### 4.- Define a function to calculate the four quartiles. You can use the function you defined above to compute the median but you are not allowed to use any methods or functions that directly calculate the quartiles. "
   ]
  },
  {
   "cell_type": "code",
   "execution_count": 148,
   "metadata": {},
   "outputs": [
    {
     "name": "stdout",
     "output_type": "stream",
     "text": [
      "[2, 3, 3, 3, 4, 4, 4, 5, 6, 6]\n"
     ]
    },
    {
     "data": {
      "text/plain": [
       "(3.0, 4.0, 4.5, 6)"
      ]
     },
     "execution_count": 148,
     "metadata": {},
     "output_type": "execute_result"
    }
   ],
   "source": [
    "# your code here\n",
    "print (dice)\n",
    "def quartiles(x):\n",
    "    list(x)\n",
    "    x.sort()\n",
    "    first_half = x[:mid_index]\n",
    "    second_half = x[mid_index:]\n",
    "    Q1 = median(first_half)\n",
    "    Q2 = median(x)\n",
    "    Q3 = median(second_half)\n",
    "    Q4 = max(x)\n",
    "    return Q1,Q2,Q3,Q4\n",
    "\n",
    "quartiles(dice)"
   ]
  },
  {
   "cell_type": "markdown",
   "metadata": {},
   "source": [
    "## Challenge 3\n",
    "Read the csv `roll_the_dice_hundred.csv` from the `data` folder.\n",
    "#### 1.- Sort the values and plot them. What do you see?"
   ]
  },
  {
   "cell_type": "code",
   "execution_count": 98,
   "metadata": {},
   "outputs": [
    {
     "data": {
      "text/plain": [
       "<matplotlib.axes._subplots.AxesSubplot at 0x121884390>"
      ]
     },
     "execution_count": 98,
     "metadata": {},
     "output_type": "execute_result"
    },
    {
     "data": {
      "image/png": "[encoded data removed]",
      "text/plain": [
       "<Figure size 432x288 with 1 Axes>"
      ]
     },
     "metadata": {
      "needs_background": "light"
     },
     "output_type": "display_data"
    }
   ],
   "source": [
    "# your code here\n",
    "roll_100 = pd.read_csv('/Users/erinberardi/Desktop/GitHub/dataV2-labs/module-2/Descriptive-Stats/data/roll_the_dice_hundred.csv')\n",
    "roll_100 = pd.DataFrame(roll_100)\n",
    "\n",
    "roll_100['value'].hist()"
   ]
  },
  {
   "cell_type": "code",
   "execution_count": null,
   "metadata": {},
   "outputs": [],
   "source": [
    "\"\"\"\n",
    "6 was rolled the most.  The graph between 5 and 6 looks different.\n",
    "\"\"\""
   ]
  },
  {
   "cell_type": "markdown",
   "metadata": {},
   "source": [
    "#### 2.- Using the functions you defined in *challenge 2*, calculate the mean value of the hundred dice rolls."
   ]
  },
  {
   "cell_type": "code",
   "execution_count": 105,
   "metadata": {},
   "outputs": [
    {
     "data": {
      "text/plain": [
       "3.74"
      ]
     },
     "execution_count": 105,
     "metadata": {},
     "output_type": "execute_result"
    }
   ],
   "source": [
    "# your code here\n",
    "mean(roll_100['value'])"
   ]
  },
  {
   "cell_type": "markdown",
   "metadata": {},
   "source": [
    "#### 3.- Now, calculate the frequency distribution.\n"
   ]
  },
  {
   "cell_type": "code",
   "execution_count": 122,
   "metadata": {},
   "outputs": [
    {
     "name": "stdout",
     "output_type": "stream",
     "text": [
      "dict_items([(1, 12), (2, 17), (6, 23), (5, 12), (4, 22), (3, 14)])\n",
      "   0   1\n",
      "0  1  12\n",
      "1  2  17\n",
      "2  6  23\n",
      "3  5  12\n",
      "4  4  22\n",
      "5  3  14\n"
     ]
    }
   ],
   "source": [
    "# your code here\n",
    "freq = (Counter(roll_100['value']).items())\n",
    "\n",
    "print (freq)\n",
    "freq = pd.DataFrame(freq)\n",
    "\n",
    "print (freq)\n",
    "\n",
    "\n",
    "\n"
   ]
  },
  {
   "cell_type": "markdown",
   "metadata": {},
   "source": [
    "#### 4.- Plot the histogram. What do you see (shape, values...) ? How can you connect the mean value to the histogram? "
   ]
  },
  {
   "cell_type": "code",
   "execution_count": 108,
   "metadata": {},
   "outputs": [
    {
     "data": {
      "text/plain": [
       "<matplotlib.axes._subplots.AxesSubplot at 0x1215f7dd0>"
      ]
     },
     "execution_count": 108,
     "metadata": {},
     "output_type": "execute_result"
    },
    {
     "data": {
      "image/png": "[encoded data removed]",
      "text/plain": [
       "<Figure size 432x288 with 1 Axes>"
      ]
     },
     "metadata": {
      "needs_background": "light"
     },
     "output_type": "display_data"
    }
   ],
   "source": [
    "# your code here\n",
    "freq.set_index(0).plot.bar()"
   ]
  },
  {
   "cell_type": "code",
   "execution_count": null,
   "metadata": {},
   "outputs": [],
   "source": [
    "\"\"\"\n",
    "your comments here\n",
    "The mean roll was 3.7, which you can never actually roll.\n",
    "In this case a mode or a median would better represent the data.\n",
    "\"\"\""
   ]
  },
  {
   "cell_type": "markdown",
   "metadata": {},
   "source": [
    "#### 5.- Read the `roll_the_dice_thousand.csv` from the `data` folder. Plot the frequency distribution as you did before. Has anything changed? Why do you think it changed?"
   ]
  },
  {
   "cell_type": "code",
   "execution_count": 125,
   "metadata": {},
   "outputs": [
    {
     "name": "stdout",
     "output_type": "stream",
     "text": [
      "dict_items([(5, 149), (6, 166), (1, 175), (2, 167), (4, 168), (3, 175)])\n",
      "   0    1\n",
      "0  5  149\n",
      "1  6  166\n",
      "2  1  175\n",
      "3  2  167\n",
      "4  4  168\n",
      "5  3  175\n"
     ]
    },
    {
     "data": {
      "text/plain": [
       "<matplotlib.axes._subplots.AxesSubplot at 0x12172f050>"
      ]
     },
     "execution_count": 125,
     "metadata": {},
     "output_type": "execute_result"
    },
    {
     "data": {
      "image/png": "[encoded data removed]",
      "text/plain": [
       "<Figure size 432x288 with 1 Axes>"
      ]
     },
     "metadata": {
      "needs_background": "light"
     },
     "output_type": "display_data"
    }
   ],
   "source": [
    "# your code here\n",
    "roll_1000 = pd.read_csv('/Users/erinberardi/Desktop/GitHub/dataV2-labs/module-2/Descriptive-Stats/data/roll_the_dice_thousand.csv')\n",
    "roll_1000 = pd.DataFrame(roll_1000)\n",
    "roll_1000\n",
    "\n",
    "freq = (Counter(roll_1000['value']).items())\n",
    "\n",
    "print (freq)\n",
    "freq = pd.DataFrame(freq)\n",
    "\n",
    "print (freq)\n",
    "\n",
    "freq.set_index(0).plot.bar()"
   ]
  },
  {
   "cell_type": "code",
   "execution_count": null,
   "metadata": {},
   "outputs": [],
   "source": [
    "\"\"\"\n",
    "The frequency of each number rolled is much closer together.\n",
    "The larger your data size the more likely you will have results that are \n",
    "closer to the probability of each number getting rolled, and each number\n",
    "has the same probability.  That is why you should try to use larger sample sets.\n",
    "\"\"\""
   ]
  },
  {
   "cell_type": "markdown",
   "metadata": {},
   "source": [
    "## Challenge 4\n",
    "In the `data` folder of this repository you will find three different files with the prefix `ages_population`. These files contain information about a poll answered by a thousand people regarding their age. Each file corresponds to the poll answers in different neighbourhoods of Barcelona.\n",
    "\n",
    "#### 1.- Read the file `ages_population.csv`. Calculate the frequency distribution and plot it as we did during the lesson. Try to guess the range in which the mean and the standard deviation will be by looking at the plot. "
   ]
  },
  {
   "cell_type": "code",
   "execution_count": 6,
   "metadata": {},
   "outputs": [
    {
     "name": "stdout",
     "output_type": "stream",
     "text": [
      "dict_items([(68.0, 3), (12.0, 11), (45.0, 29), (38.0, 30), (49.0, 19), (27.0, 25), (39.0, 45), (42.0, 32), (33.0, 22), (30.0, 34), (25.0, 19), (44.0, 23), (53.0, 12), (46.0, 23), (50.0, 16), (22.0, 16), (6.0, 2), (29.0, 26), (35.0, 33), (28.0, 20), (26.0, 23), (60.0, 4), (41.0, 36), (52.0, 14), (32.0, 30), (23.0, 17), (15.0, 8), (40.0, 27), (63.0, 7), (31.0, 24), (34.0, 29), (61.0, 2), (64.0, 2), (37.0, 30), (56.0, 15), (14.0, 10), (13.0, 6), (51.0, 9), (36.0, 31), (18.0, 7), (48.0, 19), (58.0, 7), (20.0, 13), (54.0, 13), (19.0, 11), (62.0, 4), (55.0, 13), (21.0, 14), (43.0, 32), (17.0, 10), (7.0, 1), (47.0, 17), (1.0, 2), (16.0, 8), (24.0, 18), (59.0, 8), (57.0, 7), (8.0, 5), (67.0, 4), (2.0, 2), (66.0, 3), (4.0, 1), (73.0, 1), (82.0, 1), (70.0, 1), (5.0, 2), (71.0, 1), (9.0, 2), (69.0, 1), (11.0, 3), (10.0, 3), (65.0, 2)])\n",
      "       0   1\n",
      "0   68.0   3\n",
      "1   12.0  11\n",
      "2   45.0  29\n",
      "3   38.0  30\n",
      "4   49.0  19\n",
      "..   ...  ..\n",
      "67   9.0   2\n",
      "68  69.0   1\n",
      "69  11.0   3\n",
      "70  10.0   3\n",
      "71  65.0   2\n",
      "\n",
      "[72 rows x 2 columns]\n"
     ]
    },
    {
     "data": {
      "text/plain": [
       "<matplotlib.axes._subplots.AxesSubplot at 0x116373110>"
      ]
     },
     "execution_count": 6,
     "metadata": {},
     "output_type": "execute_result"
    },
    {
     "data": {
      "image/png": "[encoded data removed]",
      "text/plain": [
       "<Figure size 432x288 with 1 Axes>"
      ]
     },
     "metadata": {
      "needs_background": "light"
     },
     "output_type": "display_data"
    }
   ],
   "source": [
    "# your code here\n",
    "age_pop = pd.read_csv('/Users/erinberardi/Desktop/GitHub/dataV2-labs/module-2/Descriptive-Stats/data/ages_population.csv')\n",
    "age_pop = pd.DataFrame(age_pop)\n",
    "age_pop\n",
    "\n",
    "freq = (Counter(age_pop['observation']).items())\n",
    "\n",
    "print (freq)\n",
    "freq = pd.DataFrame(freq)\n",
    "\n",
    "print (freq)\n",
    "\n",
    "freq.set_index(1).boxplot()\n",
    "# I would guess that the mean would be between 35-40 years.  and the std around 20"
   ]
  },
  {
   "cell_type": "markdown",
   "metadata": {},
   "source": [
    "#### 2.- Calculate the exact mean and standard deviation and compare them with your guesses. Do they fall inside the ranges you guessed?"
   ]
  },
  {
   "cell_type": "code",
   "execution_count": 140,
   "metadata": {},
   "outputs": [
    {
     "name": "stdout",
     "output_type": "stream",
     "text": [
      "37.611111111111114\n",
      "21.091438202078557\n"
     ]
    }
   ],
   "source": [
    "# your code here\n",
    "print(np.mean(freq[0]))\n",
    "print (np.std(freq[0]))"
   ]
  },
  {
   "cell_type": "code",
   "execution_count": null,
   "metadata": {},
   "outputs": [],
   "source": [
    "\"\"\"\n",
    "Yes, my guesses based on the box plot were close.\n",
    "\"\"\""
   ]
  },
  {
   "cell_type": "markdown",
   "metadata": {},
   "source": [
    "#### 3.- Now read the file `ages_population2.csv` . Calculate the frequency distribution and plot it."
   ]
  },
  {
   "cell_type": "code",
   "execution_count": 142,
   "metadata": {},
   "outputs": [
    {
     "name": "stdout",
     "output_type": "stream",
     "text": [
      "dict_items([(25.0, 98), (31.0, 61), (29.0, 115), (28.0, 139), (30.0, 90), (24.0, 78), (26.0, 120), (21.0, 17), (27.0, 125), (23.0, 41), (22.0, 35), (32.0, 31), (20.0, 13), (33.0, 22), (19.0, 3), (34.0, 7), (35.0, 3), (36.0, 2)])\n",
      "       0    1\n",
      "0   25.0   98\n",
      "1   31.0   61\n",
      "2   29.0  115\n",
      "3   28.0  139\n",
      "4   30.0   90\n",
      "5   24.0   78\n",
      "6   26.0  120\n",
      "7   21.0   17\n",
      "8   27.0  125\n",
      "9   23.0   41\n",
      "10  22.0   35\n",
      "11  32.0   31\n",
      "12  20.0   13\n",
      "13  33.0   22\n",
      "14  19.0    3\n",
      "15  34.0    7\n",
      "16  35.0    3\n",
      "17  36.0    2\n"
     ]
    },
    {
     "data": {
      "text/plain": [
       "<matplotlib.axes._subplots.AxesSubplot at 0x12274d1d0>"
      ]
     },
     "execution_count": 142,
     "metadata": {},
     "output_type": "execute_result"
    },
    {
     "data": {
      "image/png": "[encoded data removed]",
      "text/plain": [
       "<Figure size 432x288 with 1 Axes>"
      ]
     },
     "metadata": {
      "needs_background": "light"
     },
     "output_type": "display_data"
    }
   ],
   "source": [
    "# your code here\n",
    "age_pop = pd.read_csv('/Users/erinberardi/Desktop/GitHub/dataV2-labs/module-2/Descriptive-Stats/data/ages_population2.csv')\n",
    "age_pop = pd.DataFrame(age_pop)\n",
    "age_pop\n",
    "\n",
    "freq = (Counter(age_pop['observation']).items())\n",
    "\n",
    "print (freq)\n",
    "freq = pd.DataFrame(freq)\n",
    "\n",
    "print (freq)\n",
    "\n",
    "freq.set_index(1).boxplot()"
   ]
  },
  {
   "cell_type": "markdown",
   "metadata": {},
   "source": [
    "####  4.- What do you see? Is there any difference with the frequency distribution in step 1?"
   ]
  },
  {
   "cell_type": "code",
   "execution_count": null,
   "metadata": {},
   "outputs": [],
   "source": [
    "\"\"\"\n",
    "Yes, this is a much different data set.  All of the population is between ages 17 and 37.\n",
    "It is not a very diverse group.  The other data set went from infant to elderly.  This one\n",
    "looks more like a consumer group of 18 - 35 year olds.\n",
    "\"\"\""
   ]
  },
  {
   "cell_type": "markdown",
   "metadata": {},
   "source": [
    "#### 5.- Calculate the mean and standard deviation. Compare the results with the mean and standard deviation in step 2. What do you think?"
   ]
  },
  {
   "cell_type": "code",
   "execution_count": 143,
   "metadata": {},
   "outputs": [
    {
     "name": "stdout",
     "output_type": "stream",
     "text": [
      "27.5\n",
      "5.188127472091127\n"
     ]
    }
   ],
   "source": [
    "# your code here\n",
    "print(np.mean(freq[0]))\n",
    "print (np.std(freq[0]))"
   ]
  },
  {
   "cell_type": "code",
   "execution_count": null,
   "metadata": {},
   "outputs": [],
   "source": [
    "\"\"\"\n",
    "Yes, there is a big difference.  Most of the ages are clustered very close to the mean.\n",
    "\"\"\""
   ]
  },
  {
   "cell_type": "markdown",
   "metadata": {},
   "source": [
    "## Challenge 5\n",
    "Now is the turn of `ages_population3.csv`.\n",
    "\n",
    "#### 1.- Read the file `ages_population3.csv`. Calculate the frequency distribution and plot it."
   ]
  },
  {
   "cell_type": "code",
   "execution_count": 144,
   "metadata": {},
   "outputs": [
    {
     "name": "stdout",
     "output_type": "stream",
     "text": [
      "dict_items([(21.0, 14), (24.0, 19), (31.0, 21), (54.0, 9), (52.0, 17), (37.0, 31), (69.0, 17), (36.0, 26), (30.0, 24), (64.0, 12), (76.0, 1), (73.0, 6), (42.0, 14), (67.0, 22), (28.0, 18), (50.0, 21), (70.0, 19), (57.0, 8), (20.0, 11), (27.0, 19), (51.0, 14), (56.0, 10), (44.0, 17), (49.0, 18), (65.0, 15), (32.0, 37), (18.0, 9), (45.0, 24), (40.0, 21), (66.0, 19), (72.0, 8), (43.0, 22), (48.0, 25), (35.0, 31), (41.0, 25), (17.0, 10), (23.0, 11), (47.0, 15), (33.0, 17), (15.0, 8), (26.0, 15), (75.0, 2), (29.0, 25), (55.0, 13), (63.0, 12), (39.0, 29), (46.0, 22), (22.0, 11), (71.0, 11), (68.0, 17), (60.0, 6), (34.0, 20), (61.0, 6), (12.0, 4), (38.0, 25), (74.0, 6), (25.0, 17), (53.0, 14), (62.0, 3), (59.0, 8), (19.0, 12), (77.0, 2), (14.0, 5), (16.0, 9), (1.0, 1), (11.0, 2), (13.0, 2), (9.0, 1), (10.0, 2), (2.0, 2), (8.0, 1), (58.0, 6), (4.0, 2), (5.0, 1), (7.0, 1)])\n",
      "       0   1\n",
      "0   21.0  14\n",
      "1   24.0  19\n",
      "2   31.0  21\n",
      "3   54.0   9\n",
      "4   52.0  17\n",
      "..   ...  ..\n",
      "70   8.0   1\n",
      "71  58.0   6\n",
      "72   4.0   2\n",
      "73   5.0   1\n",
      "74   7.0   1\n",
      "\n",
      "[75 rows x 2 columns]\n"
     ]
    },
    {
     "data": {
      "text/plain": [
       "<matplotlib.axes._subplots.AxesSubplot at 0x122805a10>"
      ]
     },
     "execution_count": 144,
     "metadata": {},
     "output_type": "execute_result"
    },
    {
     "data": {
      "image/png": "[encoded data removed]",
      "text/plain": [
       "<Figure size 432x288 with 1 Axes>"
      ]
     },
     "metadata": {
      "needs_background": "light"
     },
     "output_type": "display_data"
    }
   ],
   "source": [
    "# your code here\n",
    "age_pop = pd.read_csv('/Users/erinberardi/Desktop/GitHub/dataV2-labs/module-2/Descriptive-Stats/data/ages_population3.csv')\n",
    "age_pop = pd.DataFrame(age_pop)\n",
    "age_pop\n",
    "\n",
    "freq = (Counter(age_pop['observation']).items())\n",
    "\n",
    "print (freq)\n",
    "freq = pd.DataFrame(freq)\n",
    "\n",
    "print (freq)\n",
    "\n",
    "freq.set_index(1).boxplot()"
   ]
  },
  {
   "cell_type": "markdown",
   "metadata": {},
   "source": [
    "#### 2.- Calculate the mean and standard deviation. Compare the results with the plot in step 1. What is happening?"
   ]
  },
  {
   "cell_type": "code",
   "execution_count": 145,
   "metadata": {},
   "outputs": [
    {
     "name": "stdout",
     "output_type": "stream",
     "text": [
      "39.92\n",
      "21.783639120526516\n"
     ]
    }
   ],
   "source": [
    "# your code here\n",
    "print(np.mean(freq[0]))\n",
    "print (np.std(freq[0]))"
   ]
  },
  {
   "cell_type": "code",
   "execution_count": null,
   "metadata": {},
   "outputs": [],
   "source": [
    "\"\"\"\n",
    "The box has parameters of the mean and std.  So the box plot shows most values\n",
    "clustered around the mean +- the std.\n",
    "\"\"\""
   ]
  },
  {
   "cell_type": "markdown",
   "metadata": {},
   "source": [
    "#### 3.- Calculate the four quartiles. Use the results to explain your reasoning for question in step 2. How much of a difference is there between the median and the mean?"
   ]
  },
  {
   "cell_type": "code",
   "execution_count": 152,
   "metadata": {},
   "outputs": [
    {
     "name": "stdout",
     "output_type": "stream",
     "text": [
      "30.0 40.0 53.0 77.0\n",
      "40.0 41.989\n"
     ]
    }
   ],
   "source": [
    "# your code here\n",
    "Q1 = age_pop['observation'].quantile(0.25)\n",
    "Q2 = age_pop['observation'].median()\n",
    "Q3 = age_pop['observation'].quantile(0.75)\n",
    "Q4 = max(age_pop['observation'])\n",
    "age_pop_avg = age_pop['observation'].mean()\n",
    "print (Q1,Q2,Q3,Q4)\n",
    "\n",
    "print (Q2,age_pop_avg)"
   ]
  },
  {
   "cell_type": "code",
   "execution_count": null,
   "metadata": {},
   "outputs": [],
   "source": [
    "\"\"\"\n",
    "The median and the mean are very close.  This supports the graph that the data\n",
    "looks like a normal distribution.\n",
    "\n",
    "\"\"\""
   ]
  },
  {
   "cell_type": "markdown",
   "metadata": {},
   "source": [
    "#### 4.- Calculate other percentiles that might be useful to give more arguments to your reasoning."
   ]
  },
  {
   "cell_type": "code",
   "execution_count": 153,
   "metadata": {},
   "outputs": [
    {
     "name": "stdout",
     "output_type": "stream",
     "text": [
      "67.0 40.0 22.0\n"
     ]
    }
   ],
   "source": [
    "# your code here\n",
    "Q90 = age_pop['observation'].quantile(0.90)\n",
    "Q50 = age_pop['observation'].quantile(0.50)\n",
    "Q10 = age_pop['observation'].quantile(0.10)\n",
    "print (Q90,Q50,Q10)"
   ]
  },
  {
   "cell_type": "code",
   "execution_count": null,
   "metadata": {},
   "outputs": [],
   "source": [
    "\"\"\"\n",
    "This would make sense that 90% of the population is under the age of 67.\n",
    "Also that 10% of the population is under age 22.\n",
    "So then 80% of the population falls between age 22 and 67\n",
    "\"\"\""
   ]
  },
  {
   "cell_type": "markdown",
   "metadata": {},
   "source": [
    "## Bonus challenge\n",
    "Compare the information about the three neighbourhoods. Prepare a report about the three of them. Remember to find out which are their similarities and their differences backing your arguments in basic statistics."
   ]
  },
  {
   "cell_type": "code",
   "execution_count": null,
   "metadata": {},
   "outputs": [],
   "source": [
    "# your code here"
   ]
  },
  {
   "cell_type": "code",
   "execution_count": null,
   "metadata": {},
   "outputs": [],
   "source": [
    "\"\"\"\n",
    "your comments here\n",
    "\"\"\""
   ]
  }
 ],
 "metadata": {
  "kernelspec": {
   "display_name": "Python 3",
   "language": "python",
   "name": "python3"
  },
  "language_info": {
   "codemirror_mode": {
    "name": "ipython",
    "version": 3
   },
   "file_extension": ".py",
   "mimetype": "text/x-python",
   "name": "python",
   "nbconvert_exporter": "python",
   "pygments_lexer": "ipython3",
   "version": "3.7.6"
  }
 },
 "nbformat": 4,
 "nbformat_minor": 2
}
