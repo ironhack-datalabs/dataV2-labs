{
 "cells": [
  {
   "cell_type": "code",
   "execution_count": 47,
   "metadata": {},
   "outputs": [],
   "source": []
  },
  {
   "cell_type": "code",
   "execution_count": 48,
   "metadata": {},
   "outputs": [],
   "source": [
    "def draw_board():    \n",
    "    print(board[7],'|',board[8],'|', board[9])\n",
    "    print(board[4],'|',board[5],'|', board[6])\n",
    "    print(board[1],'|',board[2],'|', board[3])"
   ]
  },
  {
   "cell_type": "code",
   "execution_count": 59,
   "metadata": {},
   "outputs": [],
   "source": [
    "def clear_board():\n",
    "    global board\n",
    "    board = [0, ' ', ' ', ' ', '_', '_', '_', '_', '_', '_']"
   ]
  },
  {
   "cell_type": "code",
   "execution_count": 76,
   "metadata": {},
   "outputs": [],
   "source": [
    "def marker_pick():\n",
    "    player_marker = input('\\nPlease pick your marker (X) or (O), or (Q)uit: ')\n",
    "    if len(player_marker)==0 or player_marker.lower()[0] not in ['x', 'o', 'q'] :\n",
    "        player_marker = input('\\nPlease enter X or O or Q: ')"
   ]
  },
  {
   "cell_type": "code",
   "execution_count": 70,
   "metadata": {},
   "outputs": [],
   "source": [
    "def player_pick():\n",
    "    draw_board()\n",
    "    print('\\n Please pick ')\n"
   ]
  },
  {
   "cell_type": "code",
   "execution_count": 71,
   "metadata": {},
   "outputs": [],
   "source": [
    "def computer_pick():\n",
    "    pass"
   ]
  },
  {
   "cell_type": "code",
   "execution_count": 72,
   "metadata": {},
   "outputs": [],
   "source": [
    "def game_logic():\n",
    "    pass"
   ]
  },
  {
   "cell_type": "code",
   "execution_count": 78,
   "metadata": {},
   "outputs": [
    {
     "name": "stdout",
     "output_type": "stream",
     "text": [
      "\n",
      "Please pick your marker (X) or (O), or (Q)uit: s\n",
      "\n",
      "Please enter X or O or Q: s\n"
     ]
    }
   ],
   "source": [
    "marker_pick()"
   ]
  },
  {
   "cell_type": "code",
   "execution_count": null,
   "metadata": {},
   "outputs": [],
   "source": []
  }
 ],
 "metadata": {
  "kernelspec": {
   "display_name": "Python 3",
   "language": "python",
   "name": "python3"
  },
  "language_info": {
   "codemirror_mode": {
    "name": "ipython",
    "version": 3
   },
   "file_extension": ".py",
   "mimetype": "text/x-python",
   "name": "python",
   "nbconvert_exporter": "python",
   "pygments_lexer": "ipython3",
   "version": "3.7.3"
  }
 },
 "nbformat": 4,
 "nbformat_minor": 2
}
