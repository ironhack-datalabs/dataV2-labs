{
 "cells": [
  {
   "cell_type": "code",
   "execution_count": 2,
   "metadata": {},
   "outputs": [],
   "source": [
    "#ask user if s/he wants to create a new password\n",
    "#if yes, generate a new password, according to the following rules:\n",
    "#between 8 and 12 characters, containing at least one uppercase letter,\n",
    "#one lowercase letter, one digit and one special character"
   ]
  },
  {
   "cell_type": "code",
   "execution_count": 3,
   "metadata": {},
   "outputs": [],
   "source": [
    "import random\n",
    "import string"
   ]
  },
  {
   "cell_type": "code",
   "execution_count": 31,
   "metadata": {},
   "outputs": [],
   "source": [
    "charset = string.ascii_letters\n",
    "punct = string.punctuation\n",
    "punct = punct.replace('*','')\n",
    "punct = punct.replace('?','')"
   ]
  },
  {
   "cell_type": "code",
   "execution_count": 33,
   "metadata": {},
   "outputs": [],
   "source": [
    "def pswgen(strength=1, length=12):\n",
    "    generated_password = []\n",
    "     \n",
    "    for i in range(length//2):  \n",
    "        while len(generated_password)<length:\n",
    "            generated_password.append(charset[random.randint(0,51)])\n",
    "            generated_password.append(punct[random.randint(0,31)])\n",
    "            generated_password.append(str(random.randint(0,9)))\n",
    "    print('\\nThe generated password is: ',''.join(generated_password))"
   ]
  },
  {
   "cell_type": "code",
   "execution_count": 34,
   "metadata": {},
   "outputs": [
    {
     "name": "stdout",
     "output_type": "stream",
     "text": [
      "\n",
      "Do You want to generate a new strong password? (Y)es/(N)o: y\n",
      "\n",
      "The generated password is:  H\"0Y;6u}1G:4\n"
     ]
    }
   ],
   "source": [
    "pswinp = input('\\nDo You want to generate a new strong password? (Y)es/(N)o: ')\n",
    "while len(pswinp) == 0 or pswinp.lower()[0] not in ['y','n']:\n",
    "    pswinp=input('\\n Please enter Y or N')\n",
    "if pswinp.lower()[0] == 'y':\n",
    "    pswgen()\n",
    "else:\n",
    "    print('\\nGood bye!')"
   ]
  }
 ],
 "metadata": {
  "kernelspec": {
   "display_name": "Python 3",
   "language": "python",
   "name": "python3"
  }
 },
 "nbformat": 4,
 "nbformat_minor": 2
}
