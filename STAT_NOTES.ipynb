{
 "cells": [
  {
   "cell_type": "code",
   "execution_count": 30,
   "metadata": {},
   "outputs": [],
   "source": [
    "import numpy as np\n",
    "import pandas as pd"
   ]
  },
  {
   "cell_type": "markdown",
   "metadata": {},
   "source": [
    "# Confidence interval:\n",
    "## best estimate +- margin of error\n",
    "\n",
    "\n",
    "### best estimate = Observed population proportion or mean\n",
    "### margin of error =  T-multiplier * Standard Error\n",
    "\n",
    "\n",
    "### T multiplier\n",
    "\n",
    "###### When the sample size is large (at least 30), or you know its standard deviation, you typically use critical values on the Z-distribution to build the margin of error. When the sample size is small (less than 30) and/or the population standard deviation is unknown, you use the t-distribution to find critical values. (At roughly 25 or 30 degrees of freedom, the values of the t-distribution begin to match those of the Z-distribution. So, a sample size of 30 is not an ironclad requirement, but it works well in many situations.)\n",
    "\n",
    "### General Form of Confidence Interval\n",
    "#### Population proportion OR mean   +-   (t - multiplier * Standard Error)\n",
    "\n",
    "\n",
    "\n",
    "### Standard error\n",
    "### For population proportion:\n",
    "#### SQRT ((Population proportion * (1-Population proportion)/Number of Observations)\n",
    "### For mean:\n",
    "#### STD/SQRT Number of observations"
   ]
  },
  {
   "cell_type": "markdown",
   "metadata": {},
   "source": [
    "## Example:\n",
    "###### 95% confidence that parents that use a car seat for babies was somewhere between 82.2% and 87.7%\n"
   ]
  },
  {
   "cell_type": "markdown",
   "metadata": {},
   "source": [
    "### Compute variables:\n",
    "##### 1) Standard Error (se)\n",
    "##### 2) Number of Observations (n)\n",
    "##### 3) Population values (proportion or mean) (p)\n",
    "##### 4) T-Multiplier from T table (tstar)"
   ]
  },
  {
   "cell_type": "code",
   "execution_count": 108,
   "metadata": {},
   "outputs": [],
   "source": [
    "se = np.sqrt((p * (1-p))/n)\n",
    "n = 659\n",
    "p = 0.85\n",
    "tstar = 1.96"
   ]
  },
  {
   "cell_type": "markdown",
   "metadata": {},
   "source": [
    "##### lower and upper bounds for the confidence interval"
   ]
  },
  {
   "cell_type": "code",
   "execution_count": 34,
   "metadata": {},
   "outputs": [],
   "source": [
    "lcb = p - tstar * se # lower and upper bounds for the confidence interval\n",
    "ucb = p + tstar * se"
   ]
  },
  {
   "cell_type": "markdown",
   "metadata": {},
   "source": [
    "##### OR statsmodels:"
   ]
  },
  {
   "cell_type": "code",
   "execution_count": 26,
   "metadata": {},
   "outputs": [
    {
     "name": "stderr",
     "output_type": "stream",
     "text": [
      "D:\\Anaconda\\lib\\site-packages\\statsmodels\\tools\\_testing.py:19: FutureWarning: pandas.util.testing is deprecated. Use the functions in the public API at pandas.testing instead.\n",
      "  import pandas.util.testing as tm\n"
     ]
    }
   ],
   "source": [
    "import statsmodels.api as sm"
   ]
  },
  {
   "cell_type": "code",
   "execution_count": 36,
   "metadata": {},
   "outputs": [
    {
     "data": {
      "text/plain": [
       "(0.8227378265796143, 0.8772621734203857)"
      ]
     },
     "execution_count": 36,
     "metadata": {},
     "output_type": "execute_result"
    }
   ],
   "source": [
    "sm.stats.proportion_confint(n * p, n )"
   ]
  },
  {
   "cell_type": "markdown",
   "metadata": {},
   "source": [
    "##### DF Example"
   ]
  },
  {
   "cell_type": "code",
   "execution_count": 89,
   "metadata": {},
   "outputs": [],
   "source": [
    "c = pd.Series([2221,23223,3322,4323,2222,3333,5555,4444,7456,4653,9345,123,2221,23223,3322,4323,2222,3333,5555,4444,7456,4653,9345,123,2221,23223,3322,4323,2222,3333,5555,4444,7456,4653,9345,123,2221,23223,3322,4323,2222,3333,5555,4444,7456,4653,9345,123,2221,23223,3322,4323,2222,3333,5555,4444,7456,4653,9345,123,2221,23223,3322,4323,2222,3333,5555,4444,7456,4653,9345,123,2221,23223,3322,4323,2222,3333,5555,4444,7456,4653,9345,123,2221,23223,3322,4323,2222,3333,5555,4444,7456,4653,9345,123,2221,23223,3322,4323,2222,3333,5555,4444,7456,4653,9345,123,2221,23223,3322,4323,2222,3333,5555,4444,7456,4653,9345,123,])"
   ]
  },
  {
   "cell_type": "code",
   "execution_count": 100,
   "metadata": {},
   "outputs": [],
   "source": [
    "df = pd.DataFrame(c).reset_index()"
   ]
  },
  {
   "cell_type": "code",
   "execution_count": 101,
   "metadata": {},
   "outputs": [],
   "source": [
    "df.columns = ['ind','col']"
   ]
  },
  {
   "cell_type": "code",
   "execution_count": 109,
   "metadata": {},
   "outputs": [
    {
     "data": {
      "text/plain": [
       "525.4718985379978"
      ]
     },
     "execution_count": 109,
     "metadata": {},
     "output_type": "execute_result"
    }
   ],
   "source": [
    "##### Confidence level comes from t table\n",
    "mean = df['col'].mean()\n",
    "sd = df['col'].std()\n",
    "n = len(df)\n",
    "tstar = 2.064\n",
    "se = sd/np.sqrt(n)\n",
    "se"
   ]
  },
  {
   "cell_type": "code",
   "execution_count": 93,
   "metadata": {},
   "outputs": [],
   "source": [
    "# T multiplier is different if less than 30 observations 2.064"
   ]
  },
  {
   "cell_type": "code",
   "execution_count": 94,
   "metadata": {},
   "outputs": [],
   "source": [
    "lcb = mean - tstar * se\n",
    "ucb = mean + tstar * se"
   ]
  },
  {
   "cell_type": "code",
   "execution_count": 95,
   "metadata": {},
   "outputs": [
    {
     "data": {
      "text/plain": [
       "4767.092668084239"
      ]
     },
     "execution_count": 95,
     "metadata": {},
     "output_type": "execute_result"
    }
   ],
   "source": [
    "lcb"
   ]
  },
  {
   "cell_type": "code",
   "execution_count": 96,
   "metadata": {},
   "outputs": [
    {
     "data": {
      "text/plain": [
       "6936.2406652490945"
      ]
     },
     "execution_count": 96,
     "metadata": {},
     "output_type": "execute_result"
    }
   ],
   "source": [
    "ucb"
   ]
  },
  {
   "cell_type": "code",
   "execution_count": 97,
   "metadata": {},
   "outputs": [],
   "source": [
    "# 95 % confidence that the population mean is between ^"
   ]
  },
  {
   "cell_type": "code",
   "execution_count": 98,
   "metadata": {},
   "outputs": [],
   "source": [
    "# Easiest:\n",
    "# Calculations ar esomeetimes different"
   ]
  },
  {
   "cell_type": "code",
   "execution_count": 99,
   "metadata": {},
   "outputs": [
    {
     "data": {
      "text/plain": [
       "(4821.760670644306, 6881.572662689028)"
      ]
     },
     "execution_count": 99,
     "metadata": {},
     "output_type": "execute_result"
    }
   ],
   "source": [
    "sm.stats.DescrStatsW(df['col']).zconfint_mean()"
   ]
  },
  {
   "cell_type": "code",
   "execution_count": null,
   "metadata": {},
   "outputs": [],
   "source": []
  },
  {
   "cell_type": "code",
   "execution_count": null,
   "metadata": {},
   "outputs": [],
   "source": []
  },
  {
   "cell_type": "code",
   "execution_count": null,
   "metadata": {},
   "outputs": [],
   "source": []
  }
 ],
 "metadata": {
  "kernelspec": {
   "display_name": "Python 3",
   "language": "python",
   "name": "python3"
  },
  "language_info": {
   "codemirror_mode": {
    "name": "ipython",
    "version": 3
   },
   "file_extension": ".py",
   "mimetype": "text/x-python",
   "name": "python",
   "nbconvert_exporter": "python",
   "pygments_lexer": "ipython3",
   "version": "3.7.3"
  }
 },
 "nbformat": 4,
 "nbformat_minor": 2
}
