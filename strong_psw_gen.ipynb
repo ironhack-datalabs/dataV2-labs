{
 "cells": [
  {
   "cell_type": "code",
   "execution_count": 70,
   "metadata": {},
   "outputs": [],
   "source": [
    "import random\n",
    "import string"
   ]
  },
  {
   "cell_type": "code",
   "execution_count": 71,
   "metadata": {},
   "outputs": [],
   "source": [
    "charset_lc = string.ascii_lowercase\n",
    "charset_uc = string.ascii_uppercase\n",
    "punct = string.punctuation\n",
    "invalid_puncts = ['?','*']\n",
    "for i in invalid_puncts:\n",
    "    punct = punct.replace(i,'')\n"
   ]
  },
  {
   "cell_type": "code",
   "execution_count": 72,
   "metadata": {},
   "outputs": [],
   "source": [
    "def pswgen(strength=1, length=12):\n",
    "    generated_password = []\n",
    "     \n",
    "    for i in range(length//2):  \n",
    "        while len(generated_password)<length:\n",
    "            generated_password.append(charset_lc[random.randint(0,25)])\n",
    "            generated_password.append(charset_uc[random.randint(0,25)])\n",
    "            generated_password.append(punct[random.randint(0,29)])\n",
    "            generated_password.append(str(random.randint(0,9)))\n",
    "    print('\\nThe generated password is: ',''.join(generated_password))"
   ]
  },
  {
   "cell_type": "code",
   "execution_count": 73,
   "metadata": {},
   "outputs": [
    {
     "name": "stdout",
     "output_type": "stream",
     "text": [
      "\n",
      "Do You want to generate a new strong password? (Y)es/(N)o: y\n",
      "\n",
      "The generated password is:  eE]8tQ|6tL|7\n"
     ]
    }
   ],
   "source": [
    "pswinp = input('\\nDo You want to generate a new strong password? (Y)es/(N)o: ')\n",
    "while len(pswinp) == 0 or pswinp.lower()[0] not in ['y','n']:\n",
    "    pswinp=input('\\n Please enter Y or N')\n",
    "if pswinp.lower()[0] == 'y':\n",
    "    pswgen()\n",
    "else:\n",
    "    print('\\nGood bye!')"
   ]
  }
 ],
 "metadata": {
  "kernelspec": {
   "display_name": "Python 3",
   "language": "python",
   "name": "python3"
  },
  "language_info": {
   "codemirror_mode": {
    "name": "ipython",
    "version": 3
   },
   "file_extension": ".py",
   "mimetype": "text/x-python",
   "name": "python",
   "nbconvert_exporter": "python",
   "pygments_lexer": "ipython3",
   "version": "3.7.3"
  }
 },
 "nbformat": 4,
 "nbformat_minor": 2
}
