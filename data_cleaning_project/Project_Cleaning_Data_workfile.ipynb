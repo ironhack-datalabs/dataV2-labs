{
 "cells": [
  {
   "cell_type": "markdown",
   "metadata": {},
   "source": [
    "# Cleaning Data Project\n",
    "Base de datos de 'Ask A Manager Salary Survey 2021 (Responses) - Form Responses 1' obtenida de https://oscarbaruffa.com/messy/"
   ]
  },
  {
   "cell_type": "code",
   "execution_count": 1,
   "metadata": {},
   "outputs": [],
   "source": [
    "import pandas as pd\n",
    "import numpy as np\n",
    "import re\n",
    "from datetime import datetime"
   ]
  },
  {
   "cell_type": "code",
   "execution_count": 2,
   "metadata": {},
   "outputs": [
    {
     "data": {
      "text/html": [
       "<div>\n",
       "<style scoped>\n",
       "    .dataframe tbody tr th:only-of-type {\n",
       "        vertical-align: middle;\n",
       "    }\n",
       "\n",
       "    .dataframe tbody tr th {\n",
       "        vertical-align: top;\n",
       "    }\n",
       "\n",
       "    .dataframe thead th {\n",
       "        text-align: right;\n",
       "    }\n",
       "</style>\n",
       "<table border=\"1\" class=\"dataframe\">\n",
       "  <thead>\n",
       "    <tr style=\"text-align: right;\">\n",
       "      <th></th>\n",
       "      <th>Timestamp</th>\n",
       "      <th>How old are you?</th>\n",
       "      <th>What industry do you work in?</th>\n",
       "      <th>Job title</th>\n",
       "      <th>If your job title needs additional context, please clarify here:</th>\n",
       "      <th>What is your annual salary? (You'll indicate the currency in a later question. If you are part-time or hourly, please enter an annualized equivalent -- what you would earn if you worked the job 40 hours a week, 52 weeks a year.)</th>\n",
       "      <th>How much additional monetary compensation do you get, if any (for example, bonuses or overtime in an average year)? Please only include monetary compensation here, not the value of benefits.</th>\n",
       "      <th>Please indicate the currency</th>\n",
       "      <th>If \"Other,\" please indicate the currency here:</th>\n",
       "      <th>If your income needs additional context, please provide it here:</th>\n",
       "      <th>What country do you work in?</th>\n",
       "      <th>If you're in the U.S., what state do you work in?</th>\n",
       "      <th>What city do you work in?</th>\n",
       "      <th>How many years of professional work experience do you have overall?</th>\n",
       "      <th>How many years of professional work experience do you have in your field?</th>\n",
       "      <th>What is your highest level of education completed?</th>\n",
       "      <th>What is your gender?</th>\n",
       "      <th>What is your race? (Choose all that apply.)</th>\n",
       "    </tr>\n",
       "  </thead>\n",
       "  <tbody>\n",
       "    <tr>\n",
       "      <th>0</th>\n",
       "      <td>4/27/2021 11:02:10</td>\n",
       "      <td>25-34</td>\n",
       "      <td>Education (Higher Education)</td>\n",
       "      <td>Research and Instruction Librarian</td>\n",
       "      <td>NaN</td>\n",
       "      <td>55,000</td>\n",
       "      <td>0.0</td>\n",
       "      <td>USD</td>\n",
       "      <td>NaN</td>\n",
       "      <td>NaN</td>\n",
       "      <td>United States</td>\n",
       "      <td>Massachusetts</td>\n",
       "      <td>Boston</td>\n",
       "      <td>5-7 years</td>\n",
       "      <td>5-7 years</td>\n",
       "      <td>Master's degree</td>\n",
       "      <td>Woman</td>\n",
       "      <td>White</td>\n",
       "    </tr>\n",
       "    <tr>\n",
       "      <th>1</th>\n",
       "      <td>4/27/2021 11:02:22</td>\n",
       "      <td>25-34</td>\n",
       "      <td>Computing or Tech</td>\n",
       "      <td>Change &amp; Internal Communications Manager</td>\n",
       "      <td>NaN</td>\n",
       "      <td>54,600</td>\n",
       "      <td>4000.0</td>\n",
       "      <td>GBP</td>\n",
       "      <td>NaN</td>\n",
       "      <td>NaN</td>\n",
       "      <td>United Kingdom</td>\n",
       "      <td>NaN</td>\n",
       "      <td>Cambridge</td>\n",
       "      <td>8 - 10 years</td>\n",
       "      <td>5-7 years</td>\n",
       "      <td>College degree</td>\n",
       "      <td>Non-binary</td>\n",
       "      <td>White</td>\n",
       "    </tr>\n",
       "    <tr>\n",
       "      <th>2</th>\n",
       "      <td>4/27/2021 11:02:38</td>\n",
       "      <td>25-34</td>\n",
       "      <td>Accounting, Banking &amp; Finance</td>\n",
       "      <td>Marketing Specialist</td>\n",
       "      <td>NaN</td>\n",
       "      <td>34,000</td>\n",
       "      <td>NaN</td>\n",
       "      <td>USD</td>\n",
       "      <td>NaN</td>\n",
       "      <td>NaN</td>\n",
       "      <td>US</td>\n",
       "      <td>Tennessee</td>\n",
       "      <td>Chattanooga</td>\n",
       "      <td>2 - 4 years</td>\n",
       "      <td>2 - 4 years</td>\n",
       "      <td>College degree</td>\n",
       "      <td>Woman</td>\n",
       "      <td>White</td>\n",
       "    </tr>\n",
       "    <tr>\n",
       "      <th>3</th>\n",
       "      <td>4/27/2021 11:02:41</td>\n",
       "      <td>25-34</td>\n",
       "      <td>Nonprofits</td>\n",
       "      <td>Program Manager</td>\n",
       "      <td>NaN</td>\n",
       "      <td>62,000</td>\n",
       "      <td>3000.0</td>\n",
       "      <td>USD</td>\n",
       "      <td>NaN</td>\n",
       "      <td>NaN</td>\n",
       "      <td>USA</td>\n",
       "      <td>Wisconsin</td>\n",
       "      <td>Milwaukee</td>\n",
       "      <td>8 - 10 years</td>\n",
       "      <td>5-7 years</td>\n",
       "      <td>College degree</td>\n",
       "      <td>Woman</td>\n",
       "      <td>White</td>\n",
       "    </tr>\n",
       "    <tr>\n",
       "      <th>4</th>\n",
       "      <td>4/27/2021 11:02:42</td>\n",
       "      <td>25-34</td>\n",
       "      <td>Accounting, Banking &amp; Finance</td>\n",
       "      <td>Accounting Manager</td>\n",
       "      <td>NaN</td>\n",
       "      <td>60,000</td>\n",
       "      <td>7000.0</td>\n",
       "      <td>USD</td>\n",
       "      <td>NaN</td>\n",
       "      <td>NaN</td>\n",
       "      <td>US</td>\n",
       "      <td>South Carolina</td>\n",
       "      <td>Greenville</td>\n",
       "      <td>8 - 10 years</td>\n",
       "      <td>5-7 years</td>\n",
       "      <td>College degree</td>\n",
       "      <td>Woman</td>\n",
       "      <td>White</td>\n",
       "    </tr>\n",
       "  </tbody>\n",
       "</table>\n",
       "</div>"
      ],
      "text/plain": [
       "            Timestamp How old are you?  What industry do you work in?  \\\n",
       "0  4/27/2021 11:02:10            25-34   Education (Higher Education)   \n",
       "1  4/27/2021 11:02:22            25-34              Computing or Tech   \n",
       "2  4/27/2021 11:02:38            25-34  Accounting, Banking & Finance   \n",
       "3  4/27/2021 11:02:41            25-34                     Nonprofits   \n",
       "4  4/27/2021 11:02:42            25-34  Accounting, Banking & Finance   \n",
       "\n",
       "                                  Job title  \\\n",
       "0        Research and Instruction Librarian   \n",
       "1  Change & Internal Communications Manager   \n",
       "2                      Marketing Specialist   \n",
       "3                           Program Manager   \n",
       "4                        Accounting Manager   \n",
       "\n",
       "  If your job title needs additional context, please clarify here:  \\\n",
       "0                                                NaN                 \n",
       "1                                                NaN                 \n",
       "2                                                NaN                 \n",
       "3                                                NaN                 \n",
       "4                                                NaN                 \n",
       "\n",
       "  What is your annual salary? (You'll indicate the currency in a later question. If you are part-time or hourly, please enter an annualized equivalent -- what you would earn if you worked the job 40 hours a week, 52 weeks a year.)  \\\n",
       "0                                             55,000                                                                                                                                                                                     \n",
       "1                                             54,600                                                                                                                                                                                     \n",
       "2                                             34,000                                                                                                                                                                                     \n",
       "3                                             62,000                                                                                                                                                                                     \n",
       "4                                             60,000                                                                                                                                                                                     \n",
       "\n",
       "   How much additional monetary compensation do you get, if any (for example, bonuses or overtime in an average year)? Please only include monetary compensation here, not the value of benefits.  \\\n",
       "0                                                0.0                                                                                                                                                \n",
       "1                                             4000.0                                                                                                                                                \n",
       "2                                                NaN                                                                                                                                                \n",
       "3                                             3000.0                                                                                                                                                \n",
       "4                                             7000.0                                                                                                                                                \n",
       "\n",
       "  Please indicate the currency  \\\n",
       "0                          USD   \n",
       "1                          GBP   \n",
       "2                          USD   \n",
       "3                          USD   \n",
       "4                          USD   \n",
       "\n",
       "  If \"Other,\" please indicate the currency here:   \\\n",
       "0                                             NaN   \n",
       "1                                             NaN   \n",
       "2                                             NaN   \n",
       "3                                             NaN   \n",
       "4                                             NaN   \n",
       "\n",
       "  If your income needs additional context, please provide it here:  \\\n",
       "0                                                NaN                 \n",
       "1                                                NaN                 \n",
       "2                                                NaN                 \n",
       "3                                                NaN                 \n",
       "4                                                NaN                 \n",
       "\n",
       "  What country do you work in?  \\\n",
       "0                United States   \n",
       "1               United Kingdom   \n",
       "2                           US   \n",
       "3                          USA   \n",
       "4                           US   \n",
       "\n",
       "  If you're in the U.S., what state do you work in? What city do you work in?  \\\n",
       "0                                     Massachusetts                    Boston   \n",
       "1                                               NaN                 Cambridge   \n",
       "2                                         Tennessee               Chattanooga   \n",
       "3                                         Wisconsin                 Milwaukee   \n",
       "4                                    South Carolina                Greenville   \n",
       "\n",
       "  How many years of professional work experience do you have overall?  \\\n",
       "0                                          5-7 years                    \n",
       "1                                       8 - 10 years                    \n",
       "2                                        2 - 4 years                    \n",
       "3                                       8 - 10 years                    \n",
       "4                                       8 - 10 years                    \n",
       "\n",
       "  How many years of professional work experience do you have in your field?  \\\n",
       "0                                          5-7 years                          \n",
       "1                                          5-7 years                          \n",
       "2                                        2 - 4 years                          \n",
       "3                                          5-7 years                          \n",
       "4                                          5-7 years                          \n",
       "\n",
       "  What is your highest level of education completed? What is your gender?  \\\n",
       "0                                    Master's degree                Woman   \n",
       "1                                     College degree           Non-binary   \n",
       "2                                     College degree                Woman   \n",
       "3                                     College degree                Woman   \n",
       "4                                     College degree                Woman   \n",
       "\n",
       "  What is your race? (Choose all that apply.)  \n",
       "0                                       White  \n",
       "1                                       White  \n",
       "2                                       White  \n",
       "3                                       White  \n",
       "4                                       White  "
      ]
     },
     "execution_count": 2,
     "metadata": {},
     "output_type": "execute_result"
    }
   ],
   "source": [
    "original_data = pd.read_csv('Ask A Manager Salary Survey 2021 (Responses) - Form Responses 1.csv')\n",
    "original_data.head()"
   ]
  },
  {
   "cell_type": "code",
   "execution_count": 3,
   "metadata": {},
   "outputs": [],
   "source": [
    "data = original_data.copy()"
   ]
  },
  {
   "cell_type": "code",
   "execution_count": 4,
   "metadata": {},
   "outputs": [
    {
     "data": {
      "text/html": [
       "<div>\n",
       "<style scoped>\n",
       "    .dataframe tbody tr th:only-of-type {\n",
       "        vertical-align: middle;\n",
       "    }\n",
       "\n",
       "    .dataframe tbody tr th {\n",
       "        vertical-align: top;\n",
       "    }\n",
       "\n",
       "    .dataframe thead th {\n",
       "        text-align: right;\n",
       "    }\n",
       "</style>\n",
       "<table border=\"1\" class=\"dataframe\">\n",
       "  <thead>\n",
       "    <tr style=\"text-align: right;\">\n",
       "      <th></th>\n",
       "      <th>Timestamp</th>\n",
       "      <th>How old are you?</th>\n",
       "      <th>What industry do you work in?</th>\n",
       "      <th>Job title</th>\n",
       "      <th>If your job title needs additional context, please clarify here:</th>\n",
       "      <th>What is your annual salary? (You'll indicate the currency in a later question. If you are part-time or hourly, please enter an annualized equivalent -- what you would earn if you worked the job 40 hours a week, 52 weeks a year.)</th>\n",
       "      <th>How much additional monetary compensation do you get, if any (for example, bonuses or overtime in an average year)? Please only include monetary compensation here, not the value of benefits.</th>\n",
       "      <th>Please indicate the currency</th>\n",
       "      <th>If \"Other,\" please indicate the currency here:</th>\n",
       "      <th>If your income needs additional context, please provide it here:</th>\n",
       "      <th>What country do you work in?</th>\n",
       "      <th>If you're in the U.S., what state do you work in?</th>\n",
       "      <th>What city do you work in?</th>\n",
       "      <th>How many years of professional work experience do you have overall?</th>\n",
       "      <th>How many years of professional work experience do you have in your field?</th>\n",
       "      <th>What is your highest level of education completed?</th>\n",
       "      <th>What is your gender?</th>\n",
       "      <th>What is your race? (Choose all that apply.)</th>\n",
       "    </tr>\n",
       "  </thead>\n",
       "  <tbody>\n",
       "    <tr>\n",
       "      <th>0</th>\n",
       "      <td>4/27/2021 11:02:10</td>\n",
       "      <td>25-34</td>\n",
       "      <td>Education (Higher Education)</td>\n",
       "      <td>Research and Instruction Librarian</td>\n",
       "      <td>NaN</td>\n",
       "      <td>55,000</td>\n",
       "      <td>0.0</td>\n",
       "      <td>USD</td>\n",
       "      <td>NaN</td>\n",
       "      <td>NaN</td>\n",
       "      <td>United States</td>\n",
       "      <td>Massachusetts</td>\n",
       "      <td>Boston</td>\n",
       "      <td>5-7 years</td>\n",
       "      <td>5-7 years</td>\n",
       "      <td>Master's degree</td>\n",
       "      <td>Woman</td>\n",
       "      <td>White</td>\n",
       "    </tr>\n",
       "    <tr>\n",
       "      <th>1</th>\n",
       "      <td>4/27/2021 11:02:22</td>\n",
       "      <td>25-34</td>\n",
       "      <td>Computing or Tech</td>\n",
       "      <td>Change &amp; Internal Communications Manager</td>\n",
       "      <td>NaN</td>\n",
       "      <td>54,600</td>\n",
       "      <td>4000.0</td>\n",
       "      <td>GBP</td>\n",
       "      <td>NaN</td>\n",
       "      <td>NaN</td>\n",
       "      <td>United Kingdom</td>\n",
       "      <td>NaN</td>\n",
       "      <td>Cambridge</td>\n",
       "      <td>8 - 10 years</td>\n",
       "      <td>5-7 years</td>\n",
       "      <td>College degree</td>\n",
       "      <td>Non-binary</td>\n",
       "      <td>White</td>\n",
       "    </tr>\n",
       "    <tr>\n",
       "      <th>2</th>\n",
       "      <td>4/27/2021 11:02:38</td>\n",
       "      <td>25-34</td>\n",
       "      <td>Accounting, Banking &amp; Finance</td>\n",
       "      <td>Marketing Specialist</td>\n",
       "      <td>NaN</td>\n",
       "      <td>34,000</td>\n",
       "      <td>NaN</td>\n",
       "      <td>USD</td>\n",
       "      <td>NaN</td>\n",
       "      <td>NaN</td>\n",
       "      <td>US</td>\n",
       "      <td>Tennessee</td>\n",
       "      <td>Chattanooga</td>\n",
       "      <td>2 - 4 years</td>\n",
       "      <td>2 - 4 years</td>\n",
       "      <td>College degree</td>\n",
       "      <td>Woman</td>\n",
       "      <td>White</td>\n",
       "    </tr>\n",
       "    <tr>\n",
       "      <th>3</th>\n",
       "      <td>4/27/2021 11:02:41</td>\n",
       "      <td>25-34</td>\n",
       "      <td>Nonprofits</td>\n",
       "      <td>Program Manager</td>\n",
       "      <td>NaN</td>\n",
       "      <td>62,000</td>\n",
       "      <td>3000.0</td>\n",
       "      <td>USD</td>\n",
       "      <td>NaN</td>\n",
       "      <td>NaN</td>\n",
       "      <td>USA</td>\n",
       "      <td>Wisconsin</td>\n",
       "      <td>Milwaukee</td>\n",
       "      <td>8 - 10 years</td>\n",
       "      <td>5-7 years</td>\n",
       "      <td>College degree</td>\n",
       "      <td>Woman</td>\n",
       "      <td>White</td>\n",
       "    </tr>\n",
       "    <tr>\n",
       "      <th>4</th>\n",
       "      <td>4/27/2021 11:02:42</td>\n",
       "      <td>25-34</td>\n",
       "      <td>Accounting, Banking &amp; Finance</td>\n",
       "      <td>Accounting Manager</td>\n",
       "      <td>NaN</td>\n",
       "      <td>60,000</td>\n",
       "      <td>7000.0</td>\n",
       "      <td>USD</td>\n",
       "      <td>NaN</td>\n",
       "      <td>NaN</td>\n",
       "      <td>US</td>\n",
       "      <td>South Carolina</td>\n",
       "      <td>Greenville</td>\n",
       "      <td>8 - 10 years</td>\n",
       "      <td>5-7 years</td>\n",
       "      <td>College degree</td>\n",
       "      <td>Woman</td>\n",
       "      <td>White</td>\n",
       "    </tr>\n",
       "  </tbody>\n",
       "</table>\n",
       "</div>"
      ],
      "text/plain": [
       "            Timestamp How old are you?  What industry do you work in?  \\\n",
       "0  4/27/2021 11:02:10            25-34   Education (Higher Education)   \n",
       "1  4/27/2021 11:02:22            25-34              Computing or Tech   \n",
       "2  4/27/2021 11:02:38            25-34  Accounting, Banking & Finance   \n",
       "3  4/27/2021 11:02:41            25-34                     Nonprofits   \n",
       "4  4/27/2021 11:02:42            25-34  Accounting, Banking & Finance   \n",
       "\n",
       "                                  Job title  \\\n",
       "0        Research and Instruction Librarian   \n",
       "1  Change & Internal Communications Manager   \n",
       "2                      Marketing Specialist   \n",
       "3                           Program Manager   \n",
       "4                        Accounting Manager   \n",
       "\n",
       "  If your job title needs additional context, please clarify here:  \\\n",
       "0                                                NaN                 \n",
       "1                                                NaN                 \n",
       "2                                                NaN                 \n",
       "3                                                NaN                 \n",
       "4                                                NaN                 \n",
       "\n",
       "  What is your annual salary? (You'll indicate the currency in a later question. If you are part-time or hourly, please enter an annualized equivalent -- what you would earn if you worked the job 40 hours a week, 52 weeks a year.)  \\\n",
       "0                                             55,000                                                                                                                                                                                     \n",
       "1                                             54,600                                                                                                                                                                                     \n",
       "2                                             34,000                                                                                                                                                                                     \n",
       "3                                             62,000                                                                                                                                                                                     \n",
       "4                                             60,000                                                                                                                                                                                     \n",
       "\n",
       "   How much additional monetary compensation do you get, if any (for example, bonuses or overtime in an average year)? Please only include monetary compensation here, not the value of benefits.  \\\n",
       "0                                                0.0                                                                                                                                                \n",
       "1                                             4000.0                                                                                                                                                \n",
       "2                                                NaN                                                                                                                                                \n",
       "3                                             3000.0                                                                                                                                                \n",
       "4                                             7000.0                                                                                                                                                \n",
       "\n",
       "  Please indicate the currency  \\\n",
       "0                          USD   \n",
       "1                          GBP   \n",
       "2                          USD   \n",
       "3                          USD   \n",
       "4                          USD   \n",
       "\n",
       "  If \"Other,\" please indicate the currency here:   \\\n",
       "0                                             NaN   \n",
       "1                                             NaN   \n",
       "2                                             NaN   \n",
       "3                                             NaN   \n",
       "4                                             NaN   \n",
       "\n",
       "  If your income needs additional context, please provide it here:  \\\n",
       "0                                                NaN                 \n",
       "1                                                NaN                 \n",
       "2                                                NaN                 \n",
       "3                                                NaN                 \n",
       "4                                                NaN                 \n",
       "\n",
       "  What country do you work in?  \\\n",
       "0                United States   \n",
       "1               United Kingdom   \n",
       "2                           US   \n",
       "3                          USA   \n",
       "4                           US   \n",
       "\n",
       "  If you're in the U.S., what state do you work in? What city do you work in?  \\\n",
       "0                                     Massachusetts                    Boston   \n",
       "1                                               NaN                 Cambridge   \n",
       "2                                         Tennessee               Chattanooga   \n",
       "3                                         Wisconsin                 Milwaukee   \n",
       "4                                    South Carolina                Greenville   \n",
       "\n",
       "  How many years of professional work experience do you have overall?  \\\n",
       "0                                          5-7 years                    \n",
       "1                                       8 - 10 years                    \n",
       "2                                        2 - 4 years                    \n",
       "3                                       8 - 10 years                    \n",
       "4                                       8 - 10 years                    \n",
       "\n",
       "  How many years of professional work experience do you have in your field?  \\\n",
       "0                                          5-7 years                          \n",
       "1                                          5-7 years                          \n",
       "2                                        2 - 4 years                          \n",
       "3                                          5-7 years                          \n",
       "4                                          5-7 years                          \n",
       "\n",
       "  What is your highest level of education completed? What is your gender?  \\\n",
       "0                                    Master's degree                Woman   \n",
       "1                                     College degree           Non-binary   \n",
       "2                                     College degree                Woman   \n",
       "3                                     College degree                Woman   \n",
       "4                                     College degree                Woman   \n",
       "\n",
       "  What is your race? (Choose all that apply.)  \n",
       "0                                       White  \n",
       "1                                       White  \n",
       "2                                       White  \n",
       "3                                       White  \n",
       "4                                       White  "
      ]
     },
     "execution_count": 4,
     "metadata": {},
     "output_type": "execute_result"
    }
   ],
   "source": [
    "data.head()"
   ]
  },
  {
   "cell_type": "code",
   "execution_count": 5,
   "metadata": {},
   "outputs": [
    {
     "name": "stdout",
     "output_type": "stream",
     "text": [
      "<class 'pandas.core.frame.DataFrame'>\n",
      "RangeIndex: 27771 entries, 0 to 27770\n",
      "Data columns (total 18 columns):\n",
      " #   Column                                                                                                                                                                                                                                Non-Null Count  Dtype  \n",
      "---  ------                                                                                                                                                                                                                                --------------  -----  \n",
      " 0   Timestamp                                                                                                                                                                                                                             27771 non-null  object \n",
      " 1   How old are you?                                                                                                                                                                                                                      27771 non-null  object \n",
      " 2   What industry do you work in?                                                                                                                                                                                                         27701 non-null  object \n",
      " 3   Job title                                                                                                                                                                                                                             27771 non-null  object \n",
      " 4   If your job title needs additional context, please clarify here:                                                                                                                                                                      7186 non-null   object \n",
      " 5   What is your annual salary? (You'll indicate the currency in a later question. If you are part-time or hourly, please enter an annualized equivalent -- what you would earn if you worked the job 40 hours a week, 52 weeks a year.)  27771 non-null  object \n",
      " 6   How much additional monetary compensation do you get, if any (for example, bonuses or overtime in an average year)? Please only include monetary compensation here, not the value of benefits.                                        20583 non-null  float64\n",
      " 7   Please indicate the currency                                                                                                                                                                                                          27771 non-null  object \n",
      " 8   If \"Other,\" please indicate the currency here:                                                                                                                                                                                        187 non-null    object \n",
      " 9   If your income needs additional context, please provide it here:                                                                                                                                                                      3020 non-null   object \n",
      " 10  What country do you work in?                                                                                                                                                                                                          27771 non-null  object \n",
      " 11  If you're in the U.S., what state do you work in?                                                                                                                                                                                     22835 non-null  object \n",
      " 12  What city do you work in?                                                                                                                                                                                                             27696 non-null  object \n",
      " 13  How many years of professional work experience do you have overall?                                                                                                                                                                   27771 non-null  object \n",
      " 14  How many years of professional work experience do you have in your field?                                                                                                                                                             27771 non-null  object \n",
      " 15  What is your highest level of education completed?                                                                                                                                                                                    27562 non-null  object \n",
      " 16  What is your gender?                                                                                                                                                                                                                  27606 non-null  object \n",
      " 17  What is your race? (Choose all that apply.)                                                                                                                                                                                           27607 non-null  object \n",
      "dtypes: float64(1), object(17)\n",
      "memory usage: 3.8+ MB\n"
     ]
    }
   ],
   "source": [
    "data.info()"
   ]
  },
  {
   "cell_type": "code",
   "execution_count": 6,
   "metadata": {},
   "outputs": [
    {
     "data": {
      "text/plain": [
       "<bound method IndexOpsMixin.tolist of Index(['Timestamp', 'How old are you?', 'What industry do you work in?',\n",
       "       'Job title',\n",
       "       'If your job title needs additional context, please clarify here:',\n",
       "       'What is your annual salary? (You'll indicate the currency in a later question. If you are part-time or hourly, please enter an annualized equivalent -- what you would earn if you worked the job 40 hours a week, 52 weeks a year.)',\n",
       "       'How much additional monetary compensation do you get, if any (for example, bonuses or overtime in an average year)? Please only include monetary compensation here, not the value of benefits.',\n",
       "       'Please indicate the currency',\n",
       "       'If \"Other,\" please indicate the currency here: ',\n",
       "       'If your income needs additional context, please provide it here:',\n",
       "       'What country do you work in?',\n",
       "       'If you're in the U.S., what state do you work in?',\n",
       "       'What city do you work in?',\n",
       "       'How many years of professional work experience do you have overall?',\n",
       "       'How many years of professional work experience do you have in your field?',\n",
       "       'What is your highest level of education completed?',\n",
       "       'What is your gender?', 'What is your race? (Choose all that apply.)'],\n",
       "      dtype='object')>"
      ]
     },
     "execution_count": 6,
     "metadata": {},
     "output_type": "execute_result"
    }
   ],
   "source": [
    "columnas = data.columns.to_list\n",
    "columnas"
   ]
  },
  {
   "cell_type": "code",
   "execution_count": 7,
   "metadata": {},
   "outputs": [],
   "source": [
    "new_columns = ['timestamp', 'age_range', 'industry', 'job_title', 'job_title_details', \n",
    "                'anual_salary', 'addtl_compensation', 'currency', 'other_currency', 'income_addtl_detail', \n",
    "                'country', 'us_state', 'city', 'years_experience_total', 'years_experience_field', 'education_level', 'gender', 'race'\n",
    "                ]"
   ]
  },
  {
   "cell_type": "code",
   "execution_count": 8,
   "metadata": {},
   "outputs": [],
   "source": [
    "data.columns = new_columns"
   ]
  },
  {
   "cell_type": "code",
   "execution_count": 9,
   "metadata": {},
   "outputs": [
    {
     "data": {
      "text/html": [
       "<div>\n",
       "<style scoped>\n",
       "    .dataframe tbody tr th:only-of-type {\n",
       "        vertical-align: middle;\n",
       "    }\n",
       "\n",
       "    .dataframe tbody tr th {\n",
       "        vertical-align: top;\n",
       "    }\n",
       "\n",
       "    .dataframe thead th {\n",
       "        text-align: right;\n",
       "    }\n",
       "</style>\n",
       "<table border=\"1\" class=\"dataframe\">\n",
       "  <thead>\n",
       "    <tr style=\"text-align: right;\">\n",
       "      <th></th>\n",
       "      <th>timestamp</th>\n",
       "      <th>age_range</th>\n",
       "      <th>industry</th>\n",
       "      <th>job_title</th>\n",
       "      <th>job_title_details</th>\n",
       "      <th>anual_salary</th>\n",
       "      <th>addtl_compensation</th>\n",
       "      <th>currency</th>\n",
       "      <th>other_currency</th>\n",
       "      <th>income_addtl_detail</th>\n",
       "      <th>country</th>\n",
       "      <th>us_state</th>\n",
       "      <th>city</th>\n",
       "      <th>years_experience_total</th>\n",
       "      <th>years_experience_field</th>\n",
       "      <th>education_level</th>\n",
       "      <th>gender</th>\n",
       "      <th>race</th>\n",
       "    </tr>\n",
       "  </thead>\n",
       "  <tbody>\n",
       "    <tr>\n",
       "      <th>0</th>\n",
       "      <td>4/27/2021 11:02:10</td>\n",
       "      <td>25-34</td>\n",
       "      <td>Education (Higher Education)</td>\n",
       "      <td>Research and Instruction Librarian</td>\n",
       "      <td>NaN</td>\n",
       "      <td>55,000</td>\n",
       "      <td>0.0</td>\n",
       "      <td>USD</td>\n",
       "      <td>NaN</td>\n",
       "      <td>NaN</td>\n",
       "      <td>United States</td>\n",
       "      <td>Massachusetts</td>\n",
       "      <td>Boston</td>\n",
       "      <td>5-7 years</td>\n",
       "      <td>5-7 years</td>\n",
       "      <td>Master's degree</td>\n",
       "      <td>Woman</td>\n",
       "      <td>White</td>\n",
       "    </tr>\n",
       "    <tr>\n",
       "      <th>1</th>\n",
       "      <td>4/27/2021 11:02:22</td>\n",
       "      <td>25-34</td>\n",
       "      <td>Computing or Tech</td>\n",
       "      <td>Change &amp; Internal Communications Manager</td>\n",
       "      <td>NaN</td>\n",
       "      <td>54,600</td>\n",
       "      <td>4000.0</td>\n",
       "      <td>GBP</td>\n",
       "      <td>NaN</td>\n",
       "      <td>NaN</td>\n",
       "      <td>United Kingdom</td>\n",
       "      <td>NaN</td>\n",
       "      <td>Cambridge</td>\n",
       "      <td>8 - 10 years</td>\n",
       "      <td>5-7 years</td>\n",
       "      <td>College degree</td>\n",
       "      <td>Non-binary</td>\n",
       "      <td>White</td>\n",
       "    </tr>\n",
       "    <tr>\n",
       "      <th>2</th>\n",
       "      <td>4/27/2021 11:02:38</td>\n",
       "      <td>25-34</td>\n",
       "      <td>Accounting, Banking &amp; Finance</td>\n",
       "      <td>Marketing Specialist</td>\n",
       "      <td>NaN</td>\n",
       "      <td>34,000</td>\n",
       "      <td>NaN</td>\n",
       "      <td>USD</td>\n",
       "      <td>NaN</td>\n",
       "      <td>NaN</td>\n",
       "      <td>US</td>\n",
       "      <td>Tennessee</td>\n",
       "      <td>Chattanooga</td>\n",
       "      <td>2 - 4 years</td>\n",
       "      <td>2 - 4 years</td>\n",
       "      <td>College degree</td>\n",
       "      <td>Woman</td>\n",
       "      <td>White</td>\n",
       "    </tr>\n",
       "    <tr>\n",
       "      <th>3</th>\n",
       "      <td>4/27/2021 11:02:41</td>\n",
       "      <td>25-34</td>\n",
       "      <td>Nonprofits</td>\n",
       "      <td>Program Manager</td>\n",
       "      <td>NaN</td>\n",
       "      <td>62,000</td>\n",
       "      <td>3000.0</td>\n",
       "      <td>USD</td>\n",
       "      <td>NaN</td>\n",
       "      <td>NaN</td>\n",
       "      <td>USA</td>\n",
       "      <td>Wisconsin</td>\n",
       "      <td>Milwaukee</td>\n",
       "      <td>8 - 10 years</td>\n",
       "      <td>5-7 years</td>\n",
       "      <td>College degree</td>\n",
       "      <td>Woman</td>\n",
       "      <td>White</td>\n",
       "    </tr>\n",
       "    <tr>\n",
       "      <th>4</th>\n",
       "      <td>4/27/2021 11:02:42</td>\n",
       "      <td>25-34</td>\n",
       "      <td>Accounting, Banking &amp; Finance</td>\n",
       "      <td>Accounting Manager</td>\n",
       "      <td>NaN</td>\n",
       "      <td>60,000</td>\n",
       "      <td>7000.0</td>\n",
       "      <td>USD</td>\n",
       "      <td>NaN</td>\n",
       "      <td>NaN</td>\n",
       "      <td>US</td>\n",
       "      <td>South Carolina</td>\n",
       "      <td>Greenville</td>\n",
       "      <td>8 - 10 years</td>\n",
       "      <td>5-7 years</td>\n",
       "      <td>College degree</td>\n",
       "      <td>Woman</td>\n",
       "      <td>White</td>\n",
       "    </tr>\n",
       "  </tbody>\n",
       "</table>\n",
       "</div>"
      ],
      "text/plain": [
       "            timestamp age_range                       industry  \\\n",
       "0  4/27/2021 11:02:10     25-34   Education (Higher Education)   \n",
       "1  4/27/2021 11:02:22     25-34              Computing or Tech   \n",
       "2  4/27/2021 11:02:38     25-34  Accounting, Banking & Finance   \n",
       "3  4/27/2021 11:02:41     25-34                     Nonprofits   \n",
       "4  4/27/2021 11:02:42     25-34  Accounting, Banking & Finance   \n",
       "\n",
       "                                  job_title job_title_details anual_salary  \\\n",
       "0        Research and Instruction Librarian               NaN       55,000   \n",
       "1  Change & Internal Communications Manager               NaN       54,600   \n",
       "2                      Marketing Specialist               NaN       34,000   \n",
       "3                           Program Manager               NaN       62,000   \n",
       "4                        Accounting Manager               NaN       60,000   \n",
       "\n",
       "   addtl_compensation currency other_currency income_addtl_detail  \\\n",
       "0                 0.0      USD            NaN                 NaN   \n",
       "1              4000.0      GBP            NaN                 NaN   \n",
       "2                 NaN      USD            NaN                 NaN   \n",
       "3              3000.0      USD            NaN                 NaN   \n",
       "4              7000.0      USD            NaN                 NaN   \n",
       "\n",
       "          country        us_state         city years_experience_total  \\\n",
       "0   United States   Massachusetts       Boston              5-7 years   \n",
       "1  United Kingdom             NaN    Cambridge           8 - 10 years   \n",
       "2              US       Tennessee  Chattanooga            2 - 4 years   \n",
       "3             USA       Wisconsin    Milwaukee           8 - 10 years   \n",
       "4              US  South Carolina   Greenville           8 - 10 years   \n",
       "\n",
       "  years_experience_field  education_level      gender   race  \n",
       "0              5-7 years  Master's degree       Woman  White  \n",
       "1              5-7 years   College degree  Non-binary  White  \n",
       "2            2 - 4 years   College degree       Woman  White  \n",
       "3              5-7 years   College degree       Woman  White  \n",
       "4              5-7 years   College degree       Woman  White  "
      ]
     },
     "execution_count": 9,
     "metadata": {},
     "output_type": "execute_result"
    }
   ],
   "source": [
    "data.head()"
   ]
  },
  {
   "cell_type": "code",
   "execution_count": 10,
   "metadata": {},
   "outputs": [
    {
     "name": "stdout",
     "output_type": "stream",
     "text": [
      "<class 'pandas.core.frame.DataFrame'>\n",
      "RangeIndex: 27771 entries, 0 to 27770\n",
      "Data columns (total 18 columns):\n",
      " #   Column                  Non-Null Count  Dtype  \n",
      "---  ------                  --------------  -----  \n",
      " 0   timestamp               27771 non-null  object \n",
      " 1   age_range               27771 non-null  object \n",
      " 2   industry                27701 non-null  object \n",
      " 3   job_title               27771 non-null  object \n",
      " 4   job_title_details       7186 non-null   object \n",
      " 5   anual_salary            27771 non-null  object \n",
      " 6   addtl_compensation      20583 non-null  float64\n",
      " 7   currency                27771 non-null  object \n",
      " 8   other_currency          187 non-null    object \n",
      " 9   income_addtl_detail     3020 non-null   object \n",
      " 10  country                 27771 non-null  object \n",
      " 11  us_state                22835 non-null  object \n",
      " 12  city                    27696 non-null  object \n",
      " 13  years_experience_total  27771 non-null  object \n",
      " 14  years_experience_field  27771 non-null  object \n",
      " 15  education_level         27562 non-null  object \n",
      " 16  gender                  27606 non-null  object \n",
      " 17  race                    27607 non-null  object \n",
      "dtypes: float64(1), object(17)\n",
      "memory usage: 3.8+ MB\n"
     ]
    }
   ],
   "source": [
    "data.info()"
   ]
  },
  {
   "cell_type": "code",
   "execution_count": 11,
   "metadata": {},
   "outputs": [],
   "source": [
    "cols_to_remove_nulls = ['job_title_details', 'income_addtl_detail']"
   ]
  },
  {
   "cell_type": "code",
   "execution_count": 12,
   "metadata": {},
   "outputs": [
    {
     "name": "stdout",
     "output_type": "stream",
     "text": [
      "<class 'pandas.core.frame.DataFrame'>\n",
      "RangeIndex: 27771 entries, 0 to 27770\n",
      "Data columns (total 16 columns):\n",
      " #   Column                  Non-Null Count  Dtype  \n",
      "---  ------                  --------------  -----  \n",
      " 0   timestamp               27771 non-null  object \n",
      " 1   age_range               27771 non-null  object \n",
      " 2   industry                27701 non-null  object \n",
      " 3   job_title               27771 non-null  object \n",
      " 4   anual_salary            27771 non-null  object \n",
      " 5   addtl_compensation      20583 non-null  float64\n",
      " 6   currency                27771 non-null  object \n",
      " 7   other_currency          187 non-null    object \n",
      " 8   country                 27771 non-null  object \n",
      " 9   us_state                22835 non-null  object \n",
      " 10  city                    27696 non-null  object \n",
      " 11  years_experience_total  27771 non-null  object \n",
      " 12  years_experience_field  27771 non-null  object \n",
      " 13  education_level         27562 non-null  object \n",
      " 14  gender                  27606 non-null  object \n",
      " 15  race                    27607 non-null  object \n",
      "dtypes: float64(1), object(15)\n",
      "memory usage: 3.4+ MB\n"
     ]
    }
   ],
   "source": [
    "data.drop(cols_to_remove_nulls, axis=1, inplace=True)\n",
    "data.info()"
   ]
  },
  {
   "cell_type": "code",
   "execution_count": 13,
   "metadata": {},
   "outputs": [
    {
     "data": {
      "text/plain": [
       "USD        83.378344\n",
       "CAD         5.959454\n",
       "GBP         5.667783\n",
       "EUR         2.264953\n",
       "AUD/NZD     1.789637\n",
       "Other       0.525728\n",
       "CHF         0.133233\n",
       "SEK         0.133233\n",
       "JPY         0.082820\n",
       "ZAR         0.050412\n",
       "HKD         0.014404\n",
       "Name: currency, dtype: float64"
      ]
     },
     "execution_count": 13,
     "metadata": {},
     "output_type": "execute_result"
    }
   ],
   "source": [
    "data['other_currency'].unique()\n",
    "(data.currency.value_counts() / data.currency.count()).sort_values(ascending=False) * 100\n",
    "# Currency = Other represent the 0.52% of the observations, this will eliminate column 'other_currency', these observations will be cleaned"
   ]
  },
  {
   "cell_type": "code",
   "execution_count": 14,
   "metadata": {},
   "outputs": [
    {
     "name": "stdout",
     "output_type": "stream",
     "text": [
      "<class 'pandas.core.frame.DataFrame'>\n",
      "RangeIndex: 27771 entries, 0 to 27770\n",
      "Data columns (total 15 columns):\n",
      " #   Column                  Non-Null Count  Dtype  \n",
      "---  ------                  --------------  -----  \n",
      " 0   timestamp               27771 non-null  object \n",
      " 1   age_range               27771 non-null  object \n",
      " 2   industry                27701 non-null  object \n",
      " 3   job_title               27771 non-null  object \n",
      " 4   anual_salary            27771 non-null  object \n",
      " 5   addtl_compensation      20583 non-null  float64\n",
      " 6   currency                27771 non-null  object \n",
      " 7   country                 27771 non-null  object \n",
      " 8   us_state                22835 non-null  object \n",
      " 9   city                    27696 non-null  object \n",
      " 10  years_experience_total  27771 non-null  object \n",
      " 11  years_experience_field  27771 non-null  object \n",
      " 12  education_level         27562 non-null  object \n",
      " 13  gender                  27606 non-null  object \n",
      " 14  race                    27607 non-null  object \n",
      "dtypes: float64(1), object(14)\n",
      "memory usage: 3.2+ MB\n"
     ]
    }
   ],
   "source": [
    "data.drop('other_currency', axis=1, inplace=True)\n",
    "data.info()"
   ]
  },
  {
   "cell_type": "code",
   "execution_count": 15,
   "metadata": {},
   "outputs": [],
   "source": [
    "data.industry.fillna('Not specified', inplace=True)"
   ]
  },
  {
   "cell_type": "code",
   "execution_count": 16,
   "metadata": {},
   "outputs": [
    {
     "data": {
      "text/plain": [
       "0.0        38.250012\n",
       "5000.0      5.358791\n",
       "10000.0     4.625176\n",
       "2000.0      3.740951\n",
       "1000.0      3.255113\n",
       "             ...    \n",
       "35880.0     0.004858\n",
       "36600.0     0.004858\n",
       "11150.0     0.004858\n",
       "44720.0     0.004858\n",
       "20800.0     0.004858\n",
       "Name: addtl_compensation, Length: 841, dtype: float64"
      ]
     },
     "execution_count": 16,
     "metadata": {},
     "output_type": "execute_result"
    }
   ],
   "source": [
    "(data.addtl_compensation.value_counts() / data.addtl_compensation.count()).sort_values(ascending=False) * 100"
   ]
  },
  {
   "cell_type": "code",
   "execution_count": 17,
   "metadata": {},
   "outputs": [
    {
     "data": {
      "text/plain": [
       "0.0        7873\n",
       "5000.0     1103\n",
       "10000.0     952\n",
       "2000.0      770\n",
       "1000.0      670\n",
       "           ... \n",
       "12400.0       1\n",
       "5275.0        1\n",
       "67000.0       1\n",
       "36500.0       1\n",
       "20800.0       1\n",
       "Name: addtl_compensation, Length: 841, dtype: int64"
      ]
     },
     "execution_count": 17,
     "metadata": {},
     "output_type": "execute_result"
    }
   ],
   "source": [
    "data.addtl_compensation.value_counts()"
   ]
  },
  {
   "cell_type": "code",
   "execution_count": 18,
   "metadata": {},
   "outputs": [],
   "source": [
    "data.addtl_compensation.fillna(0, inplace=True)"
   ]
  },
  {
   "cell_type": "code",
   "execution_count": 19,
   "metadata": {},
   "outputs": [
    {
     "name": "stdout",
     "output_type": "stream",
     "text": [
      "<class 'pandas.core.frame.DataFrame'>\n",
      "RangeIndex: 27771 entries, 0 to 27770\n",
      "Data columns (total 15 columns):\n",
      " #   Column                  Non-Null Count  Dtype  \n",
      "---  ------                  --------------  -----  \n",
      " 0   timestamp               27771 non-null  object \n",
      " 1   age_range               27771 non-null  object \n",
      " 2   industry                27771 non-null  object \n",
      " 3   job_title               27771 non-null  object \n",
      " 4   anual_salary            27771 non-null  object \n",
      " 5   addtl_compensation      27771 non-null  float64\n",
      " 6   currency                27771 non-null  object \n",
      " 7   country                 27771 non-null  object \n",
      " 8   us_state                22835 non-null  object \n",
      " 9   city                    27696 non-null  object \n",
      " 10  years_experience_total  27771 non-null  object \n",
      " 11  years_experience_field  27771 non-null  object \n",
      " 12  education_level         27562 non-null  object \n",
      " 13  gender                  27606 non-null  object \n",
      " 14  race                    27607 non-null  object \n",
      "dtypes: float64(1), object(14)\n",
      "memory usage: 3.2+ MB\n"
     ]
    }
   ],
   "source": [
    "data.info()"
   ]
  },
  {
   "cell_type": "code",
   "execution_count": 20,
   "metadata": {},
   "outputs": [
    {
     "name": "stdout",
     "output_type": "stream",
     "text": [
      "College degree                        0.485052\n",
      "Master's degree                       0.319135\n",
      "Some college                          0.073725\n",
      "PhD                                   0.051484\n",
      "Professional degree (MD, JD, etc.)    0.047783\n",
      "High School                           0.022821\n",
      "Name: education_level, dtype: float64\n"
     ]
    },
    {
     "data": {
      "text/plain": [
       "College degree                        13369\n",
       "Master's degree                        8796\n",
       "Some college                           2032\n",
       "PhD                                    1419\n",
       "Professional degree (MD, JD, etc.)     1317\n",
       "High School                             629\n",
       "Name: education_level, dtype: int64"
      ]
     },
     "execution_count": 20,
     "metadata": {},
     "output_type": "execute_result"
    }
   ],
   "source": [
    "print(data.education_level.value_counts() / data.education_level.count())\n",
    "data.education_level.value_counts()\n"
   ]
  },
  {
   "cell_type": "code",
   "execution_count": 21,
   "metadata": {},
   "outputs": [
    {
     "name": "stdout",
     "output_type": "stream",
     "text": [
      "<class 'pandas.core.frame.DataFrame'>\n",
      "RangeIndex: 27771 entries, 0 to 27770\n",
      "Data columns (total 15 columns):\n",
      " #   Column                  Non-Null Count  Dtype  \n",
      "---  ------                  --------------  -----  \n",
      " 0   timestamp               27771 non-null  object \n",
      " 1   age_range               27771 non-null  object \n",
      " 2   industry                27771 non-null  object \n",
      " 3   job_title               27771 non-null  object \n",
      " 4   anual_salary            27771 non-null  object \n",
      " 5   addtl_compensation      27771 non-null  float64\n",
      " 6   currency                27771 non-null  object \n",
      " 7   country                 27771 non-null  object \n",
      " 8   us_state                22835 non-null  object \n",
      " 9   city                    27696 non-null  object \n",
      " 10  years_experience_total  27771 non-null  object \n",
      " 11  years_experience_field  27771 non-null  object \n",
      " 12  education_level         27771 non-null  object \n",
      " 13  gender                  27606 non-null  object \n",
      " 14  race                    27607 non-null  object \n",
      "dtypes: float64(1), object(14)\n",
      "memory usage: 3.2+ MB\n"
     ]
    }
   ],
   "source": [
    "data.education_level.fillna('Not specified', inplace=True)\n",
    "data.info()"
   ]
  },
  {
   "cell_type": "code",
   "execution_count": 22,
   "metadata": {},
   "outputs": [],
   "source": [
    "data.gender.fillna('Not specified', inplace=True)"
   ]
  },
  {
   "cell_type": "code",
   "execution_count": 23,
   "metadata": {},
   "outputs": [],
   "source": [
    "data.race.fillna('Not specified', inplace=True)\n",
    "data.city.fillna('Not specified', inplace=True)\n"
   ]
  },
  {
   "cell_type": "code",
   "execution_count": 24,
   "metadata": {},
   "outputs": [
    {
     "name": "stdout",
     "output_type": "stream",
     "text": [
      "<class 'pandas.core.frame.DataFrame'>\n",
      "RangeIndex: 27771 entries, 0 to 27770\n",
      "Data columns (total 15 columns):\n",
      " #   Column                  Non-Null Count  Dtype  \n",
      "---  ------                  --------------  -----  \n",
      " 0   timestamp               27771 non-null  object \n",
      " 1   age_range               27771 non-null  object \n",
      " 2   industry                27771 non-null  object \n",
      " 3   job_title               27771 non-null  object \n",
      " 4   anual_salary            27771 non-null  object \n",
      " 5   addtl_compensation      27771 non-null  float64\n",
      " 6   currency                27771 non-null  object \n",
      " 7   country                 27771 non-null  object \n",
      " 8   us_state                22835 non-null  object \n",
      " 9   city                    27771 non-null  object \n",
      " 10  years_experience_total  27771 non-null  object \n",
      " 11  years_experience_field  27771 non-null  object \n",
      " 12  education_level         27771 non-null  object \n",
      " 13  gender                  27771 non-null  object \n",
      " 14  race                    27771 non-null  object \n",
      "dtypes: float64(1), object(14)\n",
      "memory usage: 3.2+ MB\n"
     ]
    }
   ],
   "source": [
    "data.info()"
   ]
  },
  {
   "cell_type": "code",
   "execution_count": 25,
   "metadata": {},
   "outputs": [],
   "source": [
    "data.timestamp = pd.to_datetime(data['timestamp'])"
   ]
  },
  {
   "cell_type": "code",
   "execution_count": 26,
   "metadata": {},
   "outputs": [],
   "source": [
    "data['day'] = data['timestamp'].dt.day\n",
    "data['month'] = data['timestamp'].dt.month\n",
    "data['year'] = data['timestamp'].dt.year"
   ]
  },
  {
   "cell_type": "code",
   "execution_count": 27,
   "metadata": {},
   "outputs": [
    {
     "data": {
      "text/plain": [
       "2021    27597\n",
       "2022      174\n",
       "Name: year, dtype: int64"
      ]
     },
     "execution_count": 27,
     "metadata": {},
     "output_type": "execute_result"
    }
   ],
   "source": [
    "data.year.value_counts()"
   ]
  },
  {
   "cell_type": "code",
   "execution_count": 28,
   "metadata": {},
   "outputs": [
    {
     "data": {
      "text/plain": [
       "4     22812\n",
       "5      3615\n",
       "10      680\n",
       "8       144\n",
       "6       119\n",
       "7        80\n",
       "11       76\n",
       "9        53\n",
       "12       52\n",
       "1        50\n",
       "2        50\n",
       "3        40\n",
       "Name: month, dtype: int64"
      ]
     },
     "execution_count": 28,
     "metadata": {},
     "output_type": "execute_result"
    }
   ],
   "source": [
    "data.month.value_counts()"
   ]
  },
  {
   "cell_type": "code",
   "execution_count": 29,
   "metadata": {},
   "outputs": [],
   "source": [
    "data.us_state.fillna('Not specified', inplace=True)"
   ]
  },
  {
   "cell_type": "code",
   "execution_count": 30,
   "metadata": {},
   "outputs": [],
   "source": [
    "data.rename(columns={'anual_salary':'annual_salary'}, inplace=True)"
   ]
  },
  {
   "cell_type": "code",
   "execution_count": 31,
   "metadata": {},
   "outputs": [],
   "source": [
    "data['annual_salary_clean'] = data['annual_salary'].apply(lambda x: float(re.sub(r'[$,]','',x)))"
   ]
  },
  {
   "cell_type": "code",
   "execution_count": 32,
   "metadata": {},
   "outputs": [
    {
     "data": {
      "text/plain": [
       "<bound method IndexOpsMixin.tolist of Index(['timestamp', 'age_range', 'industry', 'job_title', 'annual_salary',\n",
       "       'addtl_compensation', 'currency', 'country', 'us_state', 'city',\n",
       "       'years_experience_total', 'years_experience_field', 'education_level',\n",
       "       'gender', 'race', 'day', 'month', 'year', 'annual_salary_clean'],\n",
       "      dtype='object')>"
      ]
     },
     "execution_count": 32,
     "metadata": {},
     "output_type": "execute_result"
    }
   ],
   "source": [
    "columnas = data.columns.to_list\n",
    "columnas"
   ]
  },
  {
   "cell_type": "code",
   "execution_count": 33,
   "metadata": {},
   "outputs": [],
   "source": [
    "new_columns = ['timestamp', 'age_range', 'industry', 'job_title', 'annual_salary', 'annual_salary_clean',\n",
    "       'addtl_compensation', 'currency', 'country', 'us_state', 'city',\n",
    "       'years_experience_total', 'years_experience_field', 'education_level',\n",
    "       'gender', 'race', 'day', 'month', 'year']"
   ]
  },
  {
   "cell_type": "code",
   "execution_count": 34,
   "metadata": {},
   "outputs": [
    {
     "name": "stdout",
     "output_type": "stream",
     "text": [
      "<class 'pandas.core.frame.DataFrame'>\n",
      "RangeIndex: 27771 entries, 0 to 27770\n",
      "Data columns (total 19 columns):\n",
      " #   Column                  Non-Null Count  Dtype         \n",
      "---  ------                  --------------  -----         \n",
      " 0   timestamp               27771 non-null  datetime64[ns]\n",
      " 1   age_range               27771 non-null  object        \n",
      " 2   industry                27771 non-null  object        \n",
      " 3   job_title               27771 non-null  object        \n",
      " 4   annual_salary           27771 non-null  object        \n",
      " 5   annual_salary_clean     27771 non-null  float64       \n",
      " 6   addtl_compensation      27771 non-null  float64       \n",
      " 7   currency                27771 non-null  object        \n",
      " 8   country                 27771 non-null  object        \n",
      " 9   us_state                27771 non-null  object        \n",
      " 10  city                    27771 non-null  object        \n",
      " 11  years_experience_total  27771 non-null  object        \n",
      " 12  years_experience_field  27771 non-null  object        \n",
      " 13  education_level         27771 non-null  object        \n",
      " 14  gender                  27771 non-null  object        \n",
      " 15  race                    27771 non-null  object        \n",
      " 16  day                     27771 non-null  int64         \n",
      " 17  month                   27771 non-null  int64         \n",
      " 18  year                    27771 non-null  int64         \n",
      "dtypes: datetime64[ns](1), float64(2), int64(3), object(13)\n",
      "memory usage: 4.0+ MB\n"
     ]
    }
   ],
   "source": [
    "data = data[new_columns]\n",
    "data.info()"
   ]
  },
  {
   "cell_type": "code",
   "execution_count": 35,
   "metadata": {},
   "outputs": [
    {
     "data": {
      "text/plain": [
       "array(['25-34', '45-54', '35-44', '18-24', '65 or over', '55-64',\n",
       "       'under 18'], dtype=object)"
      ]
     },
     "execution_count": 35,
     "metadata": {},
     "output_type": "execute_result"
    }
   ],
   "source": [
    "data.age_range.unique()"
   ]
  },
  {
   "cell_type": "code",
   "execution_count": 36,
   "metadata": {},
   "outputs": [],
   "source": [
    "def encode_age_range(element: str) -> int:\n",
    "    \"\"\"\n",
    "    Receives the value of an age range and \n",
    "    returns an integer to classify it accondingly\n",
    "\n",
    "    Return\n",
    "        Int\n",
    "    \"\"\"\n",
    "\n",
    "    if element == 'under 18':\n",
    "        return 0\n",
    "    elif element == '18-24':\n",
    "        return 1\n",
    "    elif element == '25-34':\n",
    "        return 2\n",
    "    elif element == '35-44':\n",
    "        return 3\n",
    "    elif element == '45-54':\n",
    "        return 4\n",
    "    elif element == '55-64':\n",
    "        return 5\n",
    "    elif element == '65 or over':\n",
    "        return 6\n",
    "    else:\n",
    "        return 1000"
   ]
  },
  {
   "cell_type": "code",
   "execution_count": 37,
   "metadata": {},
   "outputs": [],
   "source": [
    "data['age_range_encoded'] = data['age_range'].apply(encode_age_range)"
   ]
  },
  {
   "cell_type": "code",
   "execution_count": 38,
   "metadata": {},
   "outputs": [
    {
     "name": "stdout",
     "output_type": "stream",
     "text": [
      "<class 'pandas.core.frame.DataFrame'>\n",
      "RangeIndex: 27771 entries, 0 to 27770\n",
      "Data columns (total 20 columns):\n",
      " #   Column                  Non-Null Count  Dtype         \n",
      "---  ------                  --------------  -----         \n",
      " 0   timestamp               27771 non-null  datetime64[ns]\n",
      " 1   age_range               27771 non-null  object        \n",
      " 2   industry                27771 non-null  object        \n",
      " 3   job_title               27771 non-null  object        \n",
      " 4   annual_salary           27771 non-null  object        \n",
      " 5   annual_salary_clean     27771 non-null  float64       \n",
      " 6   addtl_compensation      27771 non-null  float64       \n",
      " 7   currency                27771 non-null  object        \n",
      " 8   country                 27771 non-null  object        \n",
      " 9   us_state                27771 non-null  object        \n",
      " 10  city                    27771 non-null  object        \n",
      " 11  years_experience_total  27771 non-null  object        \n",
      " 12  years_experience_field  27771 non-null  object        \n",
      " 13  education_level         27771 non-null  object        \n",
      " 14  gender                  27771 non-null  object        \n",
      " 15  race                    27771 non-null  object        \n",
      " 16  day                     27771 non-null  int64         \n",
      " 17  month                   27771 non-null  int64         \n",
      " 18  year                    27771 non-null  int64         \n",
      " 19  age_range_encoded       27771 non-null  int64         \n",
      "dtypes: datetime64[ns](1), float64(2), int64(4), object(13)\n",
      "memory usage: 4.2+ MB\n"
     ]
    }
   ],
   "source": [
    "data.info()"
   ]
  },
  {
   "cell_type": "code",
   "execution_count": 39,
   "metadata": {},
   "outputs": [
    {
     "data": {
      "text/plain": [
       "<bound method IndexOpsMixin.tolist of Index(['timestamp', 'age_range', 'industry', 'job_title', 'annual_salary',\n",
       "       'annual_salary_clean', 'addtl_compensation', 'currency', 'country',\n",
       "       'us_state', 'city', 'years_experience_total', 'years_experience_field',\n",
       "       'education_level', 'gender', 'race', 'day', 'month', 'year',\n",
       "       'age_range_encoded'],\n",
       "      dtype='object')>"
      ]
     },
     "execution_count": 39,
     "metadata": {},
     "output_type": "execute_result"
    }
   ],
   "source": [
    "columnas = data.columns.to_list\n",
    "columnas"
   ]
  },
  {
   "cell_type": "code",
   "execution_count": 40,
   "metadata": {},
   "outputs": [],
   "source": [
    "new_columns = ['timestamp', 'age_range', 'age_range_encoded', 'industry', 'job_title', 'annual_salary',\n",
    "       'annual_salary_clean', 'addtl_compensation', 'currency', 'country',\n",
    "       'us_state', 'city', 'years_experience_total', 'years_experience_field',\n",
    "       'education_level', 'gender', 'race', 'day', 'month', 'year'\n",
    "       ]"
   ]
  },
  {
   "cell_type": "code",
   "execution_count": 41,
   "metadata": {},
   "outputs": [
    {
     "name": "stdout",
     "output_type": "stream",
     "text": [
      "<class 'pandas.core.frame.DataFrame'>\n",
      "RangeIndex: 27771 entries, 0 to 27770\n",
      "Data columns (total 20 columns):\n",
      " #   Column                  Non-Null Count  Dtype         \n",
      "---  ------                  --------------  -----         \n",
      " 0   timestamp               27771 non-null  datetime64[ns]\n",
      " 1   age_range               27771 non-null  object        \n",
      " 2   age_range_encoded       27771 non-null  int64         \n",
      " 3   industry                27771 non-null  object        \n",
      " 4   job_title               27771 non-null  object        \n",
      " 5   annual_salary           27771 non-null  object        \n",
      " 6   annual_salary_clean     27771 non-null  float64       \n",
      " 7   addtl_compensation      27771 non-null  float64       \n",
      " 8   currency                27771 non-null  object        \n",
      " 9   country                 27771 non-null  object        \n",
      " 10  us_state                27771 non-null  object        \n",
      " 11  city                    27771 non-null  object        \n",
      " 12  years_experience_total  27771 non-null  object        \n",
      " 13  years_experience_field  27771 non-null  object        \n",
      " 14  education_level         27771 non-null  object        \n",
      " 15  gender                  27771 non-null  object        \n",
      " 16  race                    27771 non-null  object        \n",
      " 17  day                     27771 non-null  int64         \n",
      " 18  month                   27771 non-null  int64         \n",
      " 19  year                    27771 non-null  int64         \n",
      "dtypes: datetime64[ns](1), float64(2), int64(4), object(13)\n",
      "memory usage: 4.2+ MB\n"
     ]
    }
   ],
   "source": [
    "data = data[new_columns]\n",
    "data.info()"
   ]
  },
  {
   "cell_type": "code",
   "execution_count": 42,
   "metadata": {},
   "outputs": [
    {
     "data": {
      "text/plain": [
       "Woman                            21199\n",
       "Man                               5383\n",
       "Non-binary                         739\n",
       "Other or prefer not to answer      284\n",
       "Not specified                      165\n",
       "Prefer not to answer                 1\n",
       "Name: gender, dtype: int64"
      ]
     },
     "execution_count": 42,
     "metadata": {},
     "output_type": "execute_result"
    }
   ],
   "source": [
    "data.gender.value_counts()"
   ]
  },
  {
   "cell_type": "code",
   "execution_count": 43,
   "metadata": {},
   "outputs": [
    {
     "data": {
      "text/html": [
       "<div>\n",
       "<style scoped>\n",
       "    .dataframe tbody tr th:only-of-type {\n",
       "        vertical-align: middle;\n",
       "    }\n",
       "\n",
       "    .dataframe tbody tr th {\n",
       "        vertical-align: top;\n",
       "    }\n",
       "\n",
       "    .dataframe thead th {\n",
       "        text-align: right;\n",
       "    }\n",
       "</style>\n",
       "<table border=\"1\" class=\"dataframe\">\n",
       "  <thead>\n",
       "    <tr style=\"text-align: right;\">\n",
       "      <th></th>\n",
       "      <th>timestamp</th>\n",
       "      <th>age_range</th>\n",
       "      <th>age_range_encoded</th>\n",
       "      <th>industry</th>\n",
       "      <th>job_title</th>\n",
       "      <th>annual_salary</th>\n",
       "      <th>annual_salary_clean</th>\n",
       "      <th>addtl_compensation</th>\n",
       "      <th>currency</th>\n",
       "      <th>country</th>\n",
       "      <th>us_state</th>\n",
       "      <th>city</th>\n",
       "      <th>years_experience_total</th>\n",
       "      <th>years_experience_field</th>\n",
       "      <th>education_level</th>\n",
       "      <th>gender</th>\n",
       "      <th>race</th>\n",
       "      <th>day</th>\n",
       "      <th>month</th>\n",
       "      <th>year</th>\n",
       "    </tr>\n",
       "  </thead>\n",
       "  <tbody>\n",
       "    <tr>\n",
       "      <th>6477</th>\n",
       "      <td>2021-04-27 13:52:15</td>\n",
       "      <td>35-44</td>\n",
       "      <td>3</td>\n",
       "      <td>Agriculture or Forestry</td>\n",
       "      <td>Plant Breeder</td>\n",
       "      <td>88,000</td>\n",
       "      <td>88000.0</td>\n",
       "      <td>10.0</td>\n",
       "      <td>USD</td>\n",
       "      <td>USA</td>\n",
       "      <td>Nebraska</td>\n",
       "      <td>Eastern</td>\n",
       "      <td>1 year or less</td>\n",
       "      <td>5-7 years</td>\n",
       "      <td>PhD</td>\n",
       "      <td>Prefer not to answer</td>\n",
       "      <td>Another option not listed here or prefer not t...</td>\n",
       "      <td>27</td>\n",
       "      <td>4</td>\n",
       "      <td>2021</td>\n",
       "    </tr>\n",
       "  </tbody>\n",
       "</table>\n",
       "</div>"
      ],
      "text/plain": [
       "               timestamp age_range  age_range_encoded  \\\n",
       "6477 2021-04-27 13:52:15     35-44                  3   \n",
       "\n",
       "                     industry      job_title annual_salary  \\\n",
       "6477  Agriculture or Forestry  Plant Breeder        88,000   \n",
       "\n",
       "      annual_salary_clean  addtl_compensation currency country  us_state  \\\n",
       "6477              88000.0                10.0      USD     USA  Nebraska   \n",
       "\n",
       "         city years_experience_total years_experience_field education_level  \\\n",
       "6477  Eastern         1 year or less              5-7 years             PhD   \n",
       "\n",
       "                    gender                                               race  \\\n",
       "6477  Prefer not to answer  Another option not listed here or prefer not t...   \n",
       "\n",
       "      day  month  year  \n",
       "6477   27      4  2021  "
      ]
     },
     "execution_count": 43,
     "metadata": {},
     "output_type": "execute_result"
    }
   ],
   "source": [
    "data[data['gender'] == 'Prefer not to answer']"
   ]
  },
  {
   "cell_type": "code",
   "execution_count": 44,
   "metadata": {},
   "outputs": [],
   "source": [
    "data.loc[6477, 'gender'] = 'Other or prefer not to answer'"
   ]
  },
  {
   "cell_type": "code",
   "execution_count": 45,
   "metadata": {},
   "outputs": [],
   "source": [
    "data.loc[data['gender'] == 'Not specified', 'gender'] = 'Other or prefer not to answer'"
   ]
  },
  {
   "cell_type": "code",
   "execution_count": 46,
   "metadata": {},
   "outputs": [
    {
     "data": {
      "text/plain": [
       "Woman                            21199\n",
       "Man                               5383\n",
       "Non-binary                         739\n",
       "Other or prefer not to answer      450\n",
       "Name: gender, dtype: int64"
      ]
     },
     "execution_count": 46,
     "metadata": {},
     "output_type": "execute_result"
    }
   ],
   "source": [
    "data.gender.value_counts()"
   ]
  },
  {
   "cell_type": "code",
   "execution_count": 47,
   "metadata": {},
   "outputs": [
    {
     "data": {
      "text/plain": [
       "array(['5-7 years', '8 - 10 years', '2 - 4 years', '21 - 30 years',\n",
       "       '11 - 20 years', '1 year or less', '41 years or more',\n",
       "       '31 - 40 years'], dtype=object)"
      ]
     },
     "execution_count": 47,
     "metadata": {},
     "output_type": "execute_result"
    }
   ],
   "source": [
    "data.years_experience_total.unique()"
   ]
  },
  {
   "cell_type": "code",
   "execution_count": 48,
   "metadata": {},
   "outputs": [],
   "source": [
    "def encode_years_experience_total(element: str) -> int:\n",
    "    \"\"\"\n",
    "    Receives the value of the years of experience and \n",
    "    returns an integer to classify it accondingly\n",
    "\n",
    "    Return\n",
    "        Int\n",
    "    \"\"\"\n",
    "\n",
    "    if element == '1 year or less':\n",
    "        return 0\n",
    "    elif element == '2 - 4 years':\n",
    "        return 1\n",
    "    elif element == '5-7 years':\n",
    "        return 2\n",
    "    elif element == '8 - 10 years':\n",
    "        return 3\n",
    "    elif element == '11 - 20 years':\n",
    "        return 4\n",
    "    elif element == '21 - 30 years':\n",
    "        return 5\n",
    "    elif element == '31 - 40 years':\n",
    "        return 6\n",
    "    elif element == '41 years or more':\n",
    "        return 7\n",
    "    else:\n",
    "        return 1000"
   ]
  },
  {
   "cell_type": "code",
   "execution_count": 49,
   "metadata": {},
   "outputs": [],
   "source": [
    "data['years_experience_total_encoded'] = data['years_experience_total'].apply(encode_years_experience_total)"
   ]
  },
  {
   "cell_type": "code",
   "execution_count": 50,
   "metadata": {},
   "outputs": [
    {
     "data": {
      "text/plain": [
       "4    9560\n",
       "3    5332\n",
       "2    4831\n",
       "5    3605\n",
       "1    2964\n",
       "6     861\n",
       "0     499\n",
       "7     119\n",
       "Name: years_experience_total_encoded, dtype: int64"
      ]
     },
     "execution_count": 50,
     "metadata": {},
     "output_type": "execute_result"
    }
   ],
   "source": [
    "data.years_experience_total_encoded.value_counts()"
   ]
  },
  {
   "cell_type": "code",
   "execution_count": 51,
   "metadata": {},
   "outputs": [
    {
     "data": {
      "text/plain": [
       "<bound method IndexOpsMixin.tolist of Index(['timestamp', 'age_range', 'age_range_encoded', 'industry', 'job_title',\n",
       "       'annual_salary', 'annual_salary_clean', 'addtl_compensation',\n",
       "       'currency', 'country', 'us_state', 'city', 'years_experience_total',\n",
       "       'years_experience_field', 'education_level', 'gender', 'race', 'day',\n",
       "       'month', 'year', 'years_experience_total_encoded'],\n",
       "      dtype='object')>"
      ]
     },
     "execution_count": 51,
     "metadata": {},
     "output_type": "execute_result"
    }
   ],
   "source": [
    "columnas = data.columns.to_list\n",
    "columnas"
   ]
  },
  {
   "cell_type": "code",
   "execution_count": 52,
   "metadata": {},
   "outputs": [
    {
     "name": "stdout",
     "output_type": "stream",
     "text": [
      "<class 'pandas.core.frame.DataFrame'>\n",
      "RangeIndex: 27771 entries, 0 to 27770\n",
      "Data columns (total 21 columns):\n",
      " #   Column                          Non-Null Count  Dtype         \n",
      "---  ------                          --------------  -----         \n",
      " 0   timestamp                       27771 non-null  datetime64[ns]\n",
      " 1   age_range                       27771 non-null  object        \n",
      " 2   age_range_encoded               27771 non-null  int64         \n",
      " 3   industry                        27771 non-null  object        \n",
      " 4   job_title                       27771 non-null  object        \n",
      " 5   annual_salary                   27771 non-null  object        \n",
      " 6   annual_salary_clean             27771 non-null  float64       \n",
      " 7   addtl_compensation              27771 non-null  float64       \n",
      " 8   currency                        27771 non-null  object        \n",
      " 9   country                         27771 non-null  object        \n",
      " 10  us_state                        27771 non-null  object        \n",
      " 11  city                            27771 non-null  object        \n",
      " 12  years_experience_total          27771 non-null  object        \n",
      " 13  years_experience_total_encoded  27771 non-null  int64         \n",
      " 14  years_experience_field          27771 non-null  object        \n",
      " 15  education_level                 27771 non-null  object        \n",
      " 16  gender                          27771 non-null  object        \n",
      " 17  race                            27771 non-null  object        \n",
      " 18  day                             27771 non-null  int64         \n",
      " 19  month                           27771 non-null  int64         \n",
      " 20  year                            27771 non-null  int64         \n",
      "dtypes: datetime64[ns](1), float64(2), int64(5), object(13)\n",
      "memory usage: 4.4+ MB\n"
     ]
    }
   ],
   "source": [
    "new_columns = ['timestamp', 'age_range', 'age_range_encoded', 'industry', 'job_title',\n",
    "       'annual_salary', 'annual_salary_clean', 'addtl_compensation',\n",
    "       'currency', 'country', 'us_state', 'city', 'years_experience_total', 'years_experience_total_encoded',\n",
    "       'years_experience_field', 'education_level', 'gender', 'race', 'day',\n",
    "       'month', 'year']\n",
    "data = data[new_columns]\n",
    "data.info()"
   ]
  },
  {
   "cell_type": "code",
   "execution_count": 53,
   "metadata": {},
   "outputs": [
    {
     "data": {
      "text/plain": [
       "array(['5-7 years', '2 - 4 years', '21 - 30 years', '11 - 20 years',\n",
       "       '1 year or less', '8 - 10 years', '31 - 40 years',\n",
       "       '41 years or more'], dtype=object)"
      ]
     },
     "execution_count": 53,
     "metadata": {},
     "output_type": "execute_result"
    }
   ],
   "source": [
    "data.years_experience_field.unique()"
   ]
  },
  {
   "cell_type": "code",
   "execution_count": 54,
   "metadata": {},
   "outputs": [],
   "source": [
    "def encode_years_experience_field(element: str) -> int:\n",
    "    \"\"\"\n",
    "    Receives the value of the years of experience in the current field and \n",
    "    returns an integer to classify it accondingly\n",
    "\n",
    "    Return\n",
    "        Int\n",
    "    \"\"\"\n",
    "\n",
    "    if element == '1 year or less':\n",
    "        return 0\n",
    "    elif element == '2 - 4 years':\n",
    "        return 1\n",
    "    elif element == '5-7 years':\n",
    "        return 2\n",
    "    elif element == '8 - 10 years':\n",
    "        return 3\n",
    "    elif element == '11 - 20 years':\n",
    "        return 4\n",
    "    elif element == '21 - 30 years':\n",
    "        return 5\n",
    "    elif element == '31 - 40 years':\n",
    "        return 6\n",
    "    elif element == '41 years or more':\n",
    "        return 7\n",
    "    else:\n",
    "        return 1000"
   ]
  },
  {
   "cell_type": "code",
   "execution_count": 55,
   "metadata": {},
   "outputs": [],
   "source": [
    "data['years_experience_field_encoded'] = data['years_experience_field'].apply(encode_years_experience_field)"
   ]
  },
  {
   "cell_type": "code",
   "execution_count": 56,
   "metadata": {},
   "outputs": [
    {
     "data": {
      "text/plain": [
       "4    6499\n",
       "2    6470\n",
       "1    6165\n",
       "3    4933\n",
       "5    1861\n",
       "0    1428\n",
       "6     377\n",
       "7      38\n",
       "Name: years_experience_field_encoded, dtype: int64"
      ]
     },
     "execution_count": 56,
     "metadata": {},
     "output_type": "execute_result"
    }
   ],
   "source": [
    "data.years_experience_field_encoded.value_counts()"
   ]
  },
  {
   "cell_type": "code",
   "execution_count": 57,
   "metadata": {},
   "outputs": [
    {
     "data": {
      "text/plain": [
       "<bound method IndexOpsMixin.tolist of Index(['timestamp', 'age_range', 'age_range_encoded', 'industry', 'job_title',\n",
       "       'annual_salary', 'annual_salary_clean', 'addtl_compensation',\n",
       "       'currency', 'country', 'us_state', 'city', 'years_experience_total',\n",
       "       'years_experience_total_encoded', 'years_experience_field',\n",
       "       'education_level', 'gender', 'race', 'day', 'month', 'year',\n",
       "       'years_experience_field_encoded'],\n",
       "      dtype='object')>"
      ]
     },
     "execution_count": 57,
     "metadata": {},
     "output_type": "execute_result"
    }
   ],
   "source": [
    "columnas = data.columns.to_list\n",
    "columnas"
   ]
  },
  {
   "cell_type": "code",
   "execution_count": 58,
   "metadata": {},
   "outputs": [
    {
     "name": "stdout",
     "output_type": "stream",
     "text": [
      "<class 'pandas.core.frame.DataFrame'>\n",
      "RangeIndex: 27771 entries, 0 to 27770\n",
      "Data columns (total 22 columns):\n",
      " #   Column                          Non-Null Count  Dtype         \n",
      "---  ------                          --------------  -----         \n",
      " 0   timestamp                       27771 non-null  datetime64[ns]\n",
      " 1   age_range                       27771 non-null  object        \n",
      " 2   age_range_encoded               27771 non-null  int64         \n",
      " 3   industry                        27771 non-null  object        \n",
      " 4   job_title                       27771 non-null  object        \n",
      " 5   annual_salary                   27771 non-null  object        \n",
      " 6   annual_salary_clean             27771 non-null  float64       \n",
      " 7   addtl_compensation              27771 non-null  float64       \n",
      " 8   currency                        27771 non-null  object        \n",
      " 9   country                         27771 non-null  object        \n",
      " 10  us_state                        27771 non-null  object        \n",
      " 11  city                            27771 non-null  object        \n",
      " 12  years_experience_total          27771 non-null  object        \n",
      " 13  years_experience_total_encoded  27771 non-null  int64         \n",
      " 14  years_experience_field          27771 non-null  object        \n",
      " 15  years_experience_field_encoded  27771 non-null  int64         \n",
      " 16  education_level                 27771 non-null  object        \n",
      " 17  gender                          27771 non-null  object        \n",
      " 18  race                            27771 non-null  object        \n",
      " 19  day                             27771 non-null  int64         \n",
      " 20  month                           27771 non-null  int64         \n",
      " 21  year                            27771 non-null  int64         \n",
      "dtypes: datetime64[ns](1), float64(2), int64(6), object(13)\n",
      "memory usage: 4.7+ MB\n"
     ]
    }
   ],
   "source": [
    "new_columns = ['timestamp', 'age_range', 'age_range_encoded', 'industry', 'job_title',\n",
    "       'annual_salary', 'annual_salary_clean', 'addtl_compensation',\n",
    "       'currency', 'country', 'us_state', 'city', 'years_experience_total',\n",
    "       'years_experience_total_encoded', 'years_experience_field', 'years_experience_field_encoded',\n",
    "       'education_level', 'gender', 'race', 'day', 'month', 'year'\n",
    "       ]\n",
    "data = data[new_columns]\n",
    "data.info()"
   ]
  },
  {
   "cell_type": "code",
   "execution_count": 59,
   "metadata": {},
   "outputs": [],
   "source": [
    "data.loc[data['race'] == 'Not specified', 'race'] = 'Another option not listed here or prefer not to answer'"
   ]
  },
  {
   "cell_type": "code",
   "execution_count": 60,
   "metadata": {},
   "outputs": [
    {
     "name": "stdout",
     "output_type": "stream",
     "text": [
      "White                                                     82.939037\n",
      "Asian or Asian American                                    4.933204\n",
      "Another option not listed here or prefer not to answer     2.801484\n",
      "Black or African American                                  2.376580\n",
      "Hispanic, Latino, or Spanish origin                        2.110115\n",
      "Hispanic, Latino, or Spanish origin, White                 1.375536\n",
      "Asian or Asian American, White                             1.231500\n",
      "Black or African American, White                           0.442908\n",
      "Middle Eastern or Northern African, White                  0.291671\n",
      "Middle Eastern or Northern African                         0.244860\n",
      "Name: race, dtype: float64\n",
      "98.74689424219511\n"
     ]
    }
   ],
   "source": [
    "x = 10\n",
    "print(((data.race.value_counts() / data.race.count()) * 100).head(x))\n",
    "print(((data.race.value_counts() / data.race.count()) * 100).head(x).sum())\n"
   ]
  },
  {
   "cell_type": "code",
   "execution_count": 61,
   "metadata": {},
   "outputs": [],
   "source": [
    "race_to_keep = ['White', 'Asian or Asian American', 'Black or African American', 'Hispanic, Latino, or Spanish origin', 'Another option not listed here or prefer not to answer' ]"
   ]
  },
  {
   "cell_type": "code",
   "execution_count": 62,
   "metadata": {},
   "outputs": [],
   "source": [
    "data['race'].where(data['race'].isin(race_to_keep), other='Other', inplace=True)"
   ]
  },
  {
   "cell_type": "code",
   "execution_count": 79,
   "metadata": {},
   "outputs": [
    {
     "data": {
      "text/plain": [
       "Computing or Tech                       4641\n",
       "Education (Higher Education)            2448\n",
       "Nonprofits                              2402\n",
       "Government and Public Administration    1878\n",
       "Health care                             1873\n",
       "Accounting, Banking & Finance           1783\n",
       "Engineering or Manufacturing            1679\n",
       "Marketing, Advertising & PR             1117\n",
       "Law                                     1092\n",
       "Business or Consulting                   845\n",
       "Education (Primary/Secondary)            829\n",
       "Media & Digital                          767\n",
       "Insurance                                527\n",
       "Retail                                   498\n",
       "Recruitment or HR                        452\n",
       "Property or Construction                 381\n",
       "Art & Design                             353\n",
       "Utilities & Telecommunications           352\n",
       "Transport or Logistics                   303\n",
       "Sales                                    284\n",
       "Name: industry, dtype: int64"
      ]
     },
     "execution_count": 79,
     "metadata": {},
     "output_type": "execute_result"
    }
   ],
   "source": [
    "data.industry.value_counts().head(20)"
   ]
  },
  {
   "cell_type": "code",
   "execution_count": 84,
   "metadata": {},
   "outputs": [],
   "source": [
    "industry_to_keep = ['Computing or Tech', 'Education (Higher Education)', 'Nonprofits', 'Government and Public Administration', 'Health care', \n",
    "'Accounting, Banking & Finance', 'Engineering or Manufacturing', 'Marketing, Advertising & PR', 'Law', 'Business or Consulting', 'Education (Primary/Secondary)', \n",
    "'Media & Digital', 'Insurance', 'Retail', 'Recruitment or HR', 'Property or Construction', 'Art & Design', 'Utilities & Telecommunications', 'Transport or Logistics', 'Sales']"
   ]
  },
  {
   "cell_type": "code",
   "execution_count": 86,
   "metadata": {},
   "outputs": [
    {
     "data": {
      "text/plain": [
       "27771"
      ]
     },
     "execution_count": 86,
     "metadata": {},
     "output_type": "execute_result"
    }
   ],
   "source": [
    "data['industry'].where(data['industry'].isin(industry_to_keep), other='Other', inplace=True)\n"
   ]
  },
  {
   "cell_type": "code",
   "execution_count": null,
   "metadata": {},
   "outputs": [],
   "source": []
  }
 ],
 "metadata": {
  "interpreter": {
   "hash": "c7b78fba9a338eb30af0d7159a55ffb1f4745e7370c73cecad8014ce37e0fe92"
  },
  "kernelspec": {
   "display_name": "Python 3.10.2 64-bit",
   "language": "python",
   "name": "python3"
  },
  "language_info": {
   "codemirror_mode": {
    "name": "ipython",
    "version": 3
   },
   "file_extension": ".py",
   "mimetype": "text/x-python",
   "name": "python",
   "nbconvert_exporter": "python",
   "pygments_lexer": "ipython3",
   "version": "3.10.2"
  },
  "orig_nbformat": 4
 },
 "nbformat": 4,
 "nbformat_minor": 2
}
