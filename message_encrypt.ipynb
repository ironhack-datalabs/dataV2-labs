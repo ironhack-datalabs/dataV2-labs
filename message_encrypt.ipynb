{
 "cells": [
  {
   "cell_type": "code",
   "execution_count": 37,
   "metadata": {},
   "outputs": [],
   "source": [
    "import string\n",
    "from time import sleep\n",
    "from IPython.display import clear_output, display"
   ]
  },
  {
   "cell_type": "code",
   "execution_count": 38,
   "metadata": {},
   "outputs": [],
   "source": [
    "abc_charset = string.printable\n",
    "abc_dict = {char:position for position, char in enumerate(abc_charset)}"
   ]
  },
  {
   "cell_type": "code",
   "execution_count": 39,
   "metadata": {},
   "outputs": [
    {
     "data": {
      "text/plain": [
       "'0123456789abcdefghijklmnopqrstuvwxyzABCDEFGHIJKLMNOPQRSTUVWXYZ!\"#$%&\\'()*+,-./:;<=>?@[\\\\]^_`{|}~ \\t\\n\\r\\x0b\\x0c'"
      ]
     },
     "execution_count": 39,
     "metadata": {},
     "output_type": "execute_result"
    }
   ],
   "source": [
    "string.printable"
   ]
  },
  {
   "cell_type": "code",
   "execution_count": 40,
   "metadata": {},
   "outputs": [],
   "source": [
    "def encrypt(text, encryption_key=5):\n",
    "    buffer = []\n",
    "    encrypted_text = []\n",
    "    for t in text:        \n",
    "        buffer.append(abc_dict[t]+encryption_key)       \n",
    "    for b in buffer:\n",
    "        encrypted_text.append(abc_charset[b])\n",
    "    clear_output(wait=True)    \n",
    "    print('\\nYour original message is:', text)\n",
    "    print('\\nYour (E)ncrypted message is:', ''.join(list(reversed(encrypted_text))))"
   ]
  },
  {
   "cell_type": "code",
   "execution_count": 41,
   "metadata": {},
   "outputs": [],
   "source": [
    "def decrypt(text, decrypt_key=5):\n",
    "    buffer = []\n",
    "    decrypted_text = []\n",
    "    \n",
    "    for t in text:\n",
    "        buffer.append(abc_dict[t]-decrypt_key)\n",
    "    for b in buffer:\n",
    "        decrypted_text.append(abc_charset[b])\n",
    "    clear_output(wait=True)    \n",
    "    print('\\nYour original message is:', text)\n",
    "    print('\\nYour (D)ecrypted message is:', ''.join(list(reversed(decrypted_text))))"
   ]
  },
  {
   "cell_type": "code",
   "execution_count": 43,
   "metadata": {},
   "outputs": [
    {
     "name": "stdout",
     "output_type": "stream",
     "text": [
      "\n",
      "Do You want to (E)ncrypt or (D)ecrypt or (Q)uit ? q\n",
      "\n",
      "Good Bye!\n"
     ]
    }
   ],
   "source": [
    "r=False\n",
    "while r==False:\n",
    "    clear_output(wait=True) \n",
    "    inp = input('\\nDo You want to (E)ncrypt or (D)ecrypt or (Q)uit ? ')\n",
    "    if len(inp)>0:\n",
    "        if inp.lower()[0] == 'e':\n",
    "            r==True\n",
    "            text = input('\\nPlease input the text you want to encrypt:')\n",
    "            if len(text)>0:\n",
    "                encrypt(text)\n",
    "            else:\n",
    "                print('\\nThe lenght of your text must be longer than 0 characters')\n",
    "        elif inp.lower()[0] == 'd':\n",
    "            r==True\n",
    "            text = input('\\nPlease input the text you want to decrypt:')\n",
    "            if len(text)>0:\n",
    "                decrypt(text)\n",
    "            else:\n",
    "                print('\\nThe lenght of your text must be longer than 0 characters')\n",
    "        elif inp.lower()[0] == 'q':\n",
    "            r==True\n",
    "            print('\\nGood Bye!')\n",
    "            break\n",
    "        else:\n",
    "            print('\\nPlease enter (E) (D) or (Q)')            \n",
    "    else:\n",
    "        print('\\nPlease enter (E) (D) or (Q)')\n"
   ]
  },
  {
   "cell_type": "code",
   "execution_count": 11,
   "metadata": {},
   "outputs": [
    {
     "name": "stdout",
     "output_type": "stream",
     "text": [
      "\n",
      "Your original message is: hello world\n",
      "\n",
      "Your (E)ncrypted message is: hpvsA\u000b",
      "sppil\n"
     ]
    }
   ],
   "source": [
    "encrypt(\"hello world\", 4)"
   ]
  },
  {
   "cell_type": "code",
   "execution_count": 18,
   "metadata": {},
   "outputs": [
    {
     "name": "stdout",
     "output_type": "stream",
     "text": [
      "\n",
      "Your original message is: hpvsA\u000b",
      "sppil\n",
      "\n",
      "Your (D)ecrypted message is: hello world\n"
     ]
    }
   ],
   "source": [
    "decrypt('hpvsA\u000b",
    "sppil', 4)"
   ]
  },
  {
   "cell_type": "code",
   "execution_count": 26,
   "metadata": {},
   "outputs": [],
   "source": [
    "## What did i enjoy:\n",
    "#\n",
    "# Just making it work.\n",
    "# I'm just starting to have my own 'grammar' in code and that is fun."
   ]
  },
  {
   "cell_type": "code",
   "execution_count": 27,
   "metadata": {},
   "outputs": [],
   "source": [
    "## My struggles:\n",
    "# Variable encryption key cannot be raised too high(around above 11),\n",
    "# it runs out of indexes in my characterset with some special characters and it stops.\n",
    "#\n",
    "# I did not manage to fix this issue."
   ]
  },
  {
   "cell_type": "code",
   "execution_count": null,
   "metadata": {},
   "outputs": [],
   "source": []
  }
 ],
 "metadata": {
  "kernelspec": {
   "display_name": "Python 3",
   "language": "python",
   "name": "python3"
  },
  "language_info": {
   "codemirror_mode": {
    "name": "ipython",
    "version": 3
   },
   "file_extension": ".py",
   "mimetype": "text/x-python",
   "name": "python",
   "nbconvert_exporter": "python",
   "pygments_lexer": "ipython3",
   "version": "3.7.3"
  }
 },
 "nbformat": 4,
 "nbformat_minor": 2
}
