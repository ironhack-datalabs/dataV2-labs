{
 "cells": [
  {
   "cell_type": "code",
   "execution_count": 71,
   "metadata": {},
   "outputs": [
    {
     "name": "stdout",
     "output_type": "stream",
     "text": [
      "Please choose Y or N\n",
      "Would you like me to generate a password for you? (Y or N)o\n",
      "Please choose Y or N\n",
      "Would you like me to generate a password for you? (Y or N)p\n",
      "Please choose Y or N\n",
      "Would you like me to generate a password for you? (Y or N)y\n",
      "Your new password is  PR4d%BYqwb\n",
      "Would you like another password? (Y or N)y\n",
      "Your new password is  t>4CNVVmlop\n",
      "Would you like another password? (Y or N)y\n",
      "Your new password is  KuxgUnKqLi}2\n",
      "Would you like another password? (Y or N)y\n",
      "Your new password is  P3(zEorh\n",
      "Would you like another password? (Y or N)n\n",
      "See ya sucker!!\n"
     ]
    }
   ],
   "source": [
    "import random\n",
    "import string\n",
    "\n",
    "#checking input is correct\n",
    "while user != \"Y\" or \"N\":\n",
    "    print ('Please choose Y or N')\n",
    "    user = input(\"Would you like me to generate a password for you? (Y or N)\").upper()\n",
    "    \n",
    "    if user == \"N\":\n",
    "        print ('Your secrets are not safe!')\n",
    "    \n",
    "    while user == \"Y\":    \n",
    "#defining function to create password\n",
    "        def pw_maker():\n",
    "            pw_length = random.randint(8,12)\n",
    "            password = []\n",
    "            password.append(random.choice(string.ascii_lowercase))\n",
    "            password.append(random.choice(string.ascii_uppercase))\n",
    "            password.append(random.choice(string.digits))\n",
    "            password.append(random.choice(string.punctuation))\n",
    "            fill = string.ascii_letters\n",
    "        \n",
    "            for i in range(pw_length - 4):\n",
    "                password.append(random.choice(fill))\n",
    "                \n",
    "#randomizing items in the password                \n",
    "            password = random.sample(password, len(password))   \n",
    "            \n",
    "            return (''.join(password))\n",
    "               \n",
    "        print ('Your new password is ',pw_maker())\n",
    "       \n",
    "        user = input(\"Would you like another password? (Y or N)\").upper()\n",
    "\n",
    "    if user == \"N\":\n",
    "        print ('See ya sucker!!')\n",
    "        break\n",
    "\n",
    "        \n",
    "#IMPROVE\n",
    "# If input is not Y or N (FIXED)\n",
    "\n",
    "\n",
    "#LIKED\n",
    "    #added in the loop \n",
    "    \n",
    "#DIFFICULT\n",
    "    #finding the string module and randomizing what was needed \n",
    "        #(FIXED random order of characters)\n",
    "    #USING a function!  And loops.  It took some playing around with\n",
    "    #indents to get everything working correctly.\n",
    "    \n",
    "\n",
    "\n"
   ]
  },
  {
   "cell_type": "code",
   "execution_count": null,
   "metadata": {},
   "outputs": [],
   "source": []
  },
  {
   "cell_type": "code",
   "execution_count": null,
   "metadata": {},
   "outputs": [],
   "source": []
  }
 ],
 "metadata": {
  "kernelspec": {
   "display_name": "Python 3",
   "language": "python",
   "name": "python3"
  },
  "language_info": {
   "codemirror_mode": {
    "name": "ipython",
    "version": 3
   },
   "file_extension": ".py",
   "mimetype": "text/x-python",
   "name": "python",
   "nbconvert_exporter": "python",
   "pygments_lexer": "ipython3",
   "version": "3.7.6"
  }
 },
 "nbformat": 4,
 "nbformat_minor": 4
}
