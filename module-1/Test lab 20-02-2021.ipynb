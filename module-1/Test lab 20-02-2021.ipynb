{
 "cells": [
  {
   "cell_type": "markdown",
   "metadata": {},
   "source": [
    "Question 1: Given a two integer numbers return their product and  if the product is greater than 1000, then return their sum"
   ]
  },
  {
   "cell_type": "code",
   "execution_count": 59,
   "metadata": {},
   "outputs": [
    {
     "name": "stdout",
     "output_type": "stream",
     "text": [
      "10\n"
     ]
    }
   ],
   "source": [
    "def product(x,y):\n",
    "    x * y\n",
    "    if x*y > 1000:\n",
    "        return (x+y)\n",
    "    else:\n",
    "        print(x + y)\n",
    "        \n",
    "product(8, 2)"
   ]
  },
  {
   "cell_type": "markdown",
   "metadata": {},
   "source": [
    "Question 2: Given a range of first 10 numbers, Iterate from start number to the end number and print the sum of the current number and previous number\n",
    "[10:58]"
   ]
  },
  {
   "cell_type": "code",
   "execution_count": 1,
   "metadata": {},
   "outputs": [
    {
     "name": "stdout",
     "output_type": "stream",
     "text": [
      "1\n",
      "3\n",
      "5\n",
      "7\n",
      "9\n",
      "11\n",
      "13\n",
      "15\n",
      "17\n"
     ]
    }
   ],
   "source": [
    "rang = list(range(10))\n",
    "\n",
    "for n in rang:\n",
    "    current_number = rang[n]\n",
    "    previous_number = rang[n-1]\n",
    "    if current_number != 0:\n",
    "        print(current_number + previous_number)"
   ]
  },
  {
   "cell_type": "markdown",
   "metadata": {},
   "source": [
    "Question 3: Given a string, display only those characters which are present at an even index number."
   ]
  },
  {
   "cell_type": "code",
   "execution_count": 3,
   "metadata": {},
   "outputs": [
    {
     "name": "stdout",
     "output_type": "stream",
     "text": [
      "J\n",
      "é\n",
      "r\n",
      "s\n",
      "q\n",
      "e\n",
      "q\n",
      "e\n",
      "h\n",
      "s\n"
     ]
    }
   ],
   "source": [
    "phrase = \"J'écris quelquechose\"\n",
    "\n",
    "for i in range(0, len(phrase)-1, 2) :\n",
    "    ph = phrase[i]\n",
    "    print(ph)"
   ]
  },
  {
   "cell_type": "markdown",
   "metadata": {},
   "source": [
    "Question 4: Given a string and an integer number n, remove characters from a string starting from zero up to n and return a new string"
   ]
  },
  {
   "cell_type": "code",
   "execution_count": 14,
   "metadata": {},
   "outputs": [
    {
     "name": "stdout",
     "output_type": "stream",
     "text": [
      "ne\n"
     ]
    }
   ],
   "source": [
    "string1 = \"Amandine\"\n",
    "n = 6\n",
    "string2 = string1[n:]\n",
    "print(string2)"
   ]
  },
  {
   "cell_type": "markdown",
   "metadata": {},
   "source": [
    "Question 5: Given a list of numbers, return True if first and last number of a list is same"
   ]
  },
  {
   "cell_type": "code",
   "execution_count": 15,
   "metadata": {},
   "outputs": [
    {
     "name": "stdout",
     "output_type": "stream",
     "text": [
      "Given list is  [1, 2, 3, 4, 1]\n"
     ]
    },
    {
     "data": {
      "text/plain": [
       "True"
      ]
     },
     "execution_count": 15,
     "metadata": {},
     "output_type": "execute_result"
    }
   ],
   "source": [
    "def isFirst_And_Last_Same(numberList):\n",
    "    print(\"Given list is \", numberList)\n",
    "    firstElement = numberList[0]\n",
    "    lastElement = numberList[-1]\n",
    "    if (firstElement == lastElement):\n",
    "        return True\n",
    "    else:\n",
    "        return False\n",
    "    \n",
    "isFirst_And_Last_Same([1, 2, 3, 4, 1])"
   ]
  },
  {
   "cell_type": "markdown",
   "metadata": {},
   "source": [
    "Question 6: Given a list of numbers, Iterate it and print only those numbers which are divisible of 5"
   ]
  },
  {
   "cell_type": "code",
   "execution_count": 20,
   "metadata": {},
   "outputs": [
    {
     "name": "stdout",
     "output_type": "stream",
     "text": [
      "La liste donnée est :  [1, 20, 30, 55, 2]\n",
      "20\n",
      "30\n",
      "55\n"
     ]
    }
   ],
   "source": [
    "def list_of_number_divisible_5(numbersList):\n",
    "    print(\"La liste donnée est : \", numbersList)\n",
    "    for digit in numbersList:\n",
    "        if digit % 5 == 0:\n",
    "            print(digit)\n",
    "            \n",
    "list_of_number_divisible_5([1, 20, 30, 55, 2])            "
   ]
  },
  {
   "cell_type": "markdown",
   "metadata": {},
   "source": [
    "Question 7: Return the total count of sub-string “Emma” appears in the given string"
   ]
  },
  {
   "cell_type": "code",
   "execution_count": 21,
   "metadata": {},
   "outputs": [
    {
     "name": "stdout",
     "output_type": "stream",
     "text": [
      "2\n"
     ]
    }
   ],
   "source": [
    "sampleStr = \"Emma is good developer. Emma is a writer\"\n",
    "cnt = sampleStr.count(\"Emma\")\n",
    "print(cnt)\n",
    "\n",
    "def count_emma(statement):\n",
    "    print(\"Given String: \", statement)\n",
    "    count = 0\n",
    "    for i in range(len(statement) - 1):\n",
    "        count += statement[i: i + 4] == 'Emma'\n",
    "    return count"
   ]
  },
  {
   "cell_type": "code",
   "execution_count": 23,
   "metadata": {},
   "outputs": [
    {
     "name": "stdout",
     "output_type": "stream",
     "text": [
      "Given String:  je tente la phrase Emma Emma\n"
     ]
    },
    {
     "data": {
      "text/plain": [
       "2"
      ]
     },
     "execution_count": 23,
     "metadata": {},
     "output_type": "execute_result"
    }
   ],
   "source": [
    "count_emma(\"je tente la phrase Emma Emma\")"
   ]
  },
  {
   "cell_type": "markdown",
   "metadata": {},
   "source": [
    "Question 8: Print the following pattern"
   ]
  },
  {
   "cell_type": "code",
   "execution_count": 29,
   "metadata": {},
   "outputs": [
    {
     "name": "stdout",
     "output_type": "stream",
     "text": [
      "\n",
      "1 \n",
      "2 2 \n",
      "3 3 3 \n",
      "4 4 4 4 \n",
      "5 5 5 5 5 \n"
     ]
    }
   ],
   "source": [
    "for p in range(6):\n",
    "    for x in range(p):\n",
    "        print(p, end= ' ')\n",
    "    print()"
   ]
  },
  {
   "cell_type": "markdown",
   "metadata": {},
   "source": [
    "Question 9: Reverse a given number and return true if it is the same as the original number"
   ]
  },
  {
   "cell_type": "code",
   "execution_count": 30,
   "metadata": {},
   "outputs": [],
   "source": [
    "def reverseCheck(number):\n",
    "    print(\"original number\", number)\n",
    "    originalNum = number\n",
    "    reverseNum = 0\n",
    "    while (number > 0):\n",
    "        reminder = number % 10\n",
    "        reverseNum = (reverseNum * 10) + reminder\n",
    "        number = number // 10\n",
    "    if (originalNum == reverseNum):\n",
    "        return True\n",
    "    else:\n",
    "        return False"
   ]
  },
  {
   "cell_type": "code",
   "execution_count": 31,
   "metadata": {},
   "outputs": [
    {
     "name": "stdout",
     "output_type": "stream",
     "text": [
      "original number 25\n"
     ]
    },
    {
     "data": {
      "text/plain": [
       "False"
      ]
     },
     "execution_count": 31,
     "metadata": {},
     "output_type": "execute_result"
    }
   ],
   "source": [
    "reverseCheck(25)"
   ]
  },
  {
   "cell_type": "code",
   "execution_count": 32,
   "metadata": {},
   "outputs": [
    {
     "name": "stdout",
     "output_type": "stream",
     "text": [
      "original number 20\n"
     ]
    },
    {
     "data": {
      "text/plain": [
       "False"
      ]
     },
     "execution_count": 32,
     "metadata": {},
     "output_type": "execute_result"
    }
   ],
   "source": [
    "reverseCheck(20)"
   ]
  },
  {
   "cell_type": "code",
   "execution_count": null,
   "metadata": {},
   "outputs": [],
   "source": []
  }
 ],
 "metadata": {
  "kernelspec": {
   "display_name": "Python 3",
   "language": "python",
   "name": "python3"
  },
  "language_info": {
   "codemirror_mode": {
    "name": "ipython",
    "version": 3
   },
   "file_extension": ".py",
   "mimetype": "text/x-python",
   "name": "python",
   "nbconvert_exporter": "python",
   "pygments_lexer": "ipython3",
   "version": "3.8.5"
  }
 },
 "nbformat": 4,
 "nbformat_minor": 4
}
