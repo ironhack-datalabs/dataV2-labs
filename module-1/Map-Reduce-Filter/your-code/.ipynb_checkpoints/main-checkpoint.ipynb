{
 "cells": [
  {
   "cell_type": "markdown",
   "metadata": {},
   "source": [
    "# Before your start:\n",
    "- Read the README.md file\n",
    "- Comment as much as you can and use the resources in the README.md file\n",
    "- Happy learning!"
   ]
  },
  {
   "cell_type": "code",
   "execution_count": 35,
   "metadata": {},
   "outputs": [],
   "source": [
    "# Import reduce from functools, numpy and pandas\n",
    "from functools import reduce \n",
    "import pandas as pd\n",
    "import numpy as np"
   ]
  },
  {
   "cell_type": "markdown",
   "metadata": {},
   "source": [
    "# Challenge 1 - Mapping\n",
    "\n",
    "#### We will use the map function to clean up words in a book.\n",
    "\n",
    "In the following cell, we will read a text file containing the book The Prophet by Khalil Gibran."
   ]
  },
  {
   "cell_type": "code",
   "execution_count": 1,
   "metadata": {},
   "outputs": [],
   "source": [
    "# Run this code:\n",
    "\n",
    "location = '../data/58585-0.txt'\n",
    "with open(location, 'r', encoding=\"utf8\") as f:\n",
    "    prophet = f.read().split(' ')\n"
   ]
  },
  {
   "cell_type": "markdown",
   "metadata": {},
   "source": [
    "#### Let's remove the first 568 words since they contain information about the book but are not part of the book itself. \n",
    "\n",
    "Do this by removing from `prophet` elements 0 through 567 of the list (you can also do this by keeping elements 568 through the last element)."
   ]
  },
  {
   "cell_type": "code",
   "execution_count": 2,
   "metadata": {},
   "outputs": [],
   "source": [
    "new_prophet = prophet[568:]"
   ]
  },
  {
   "cell_type": "code",
   "execution_count": 3,
   "metadata": {},
   "outputs": [],
   "source": [
    "from functools import reduce"
   ]
  },
  {
   "cell_type": "markdown",
   "metadata": {},
   "source": [
    "If you look through the words, you will find that many words have a reference attached to them. For example, let's look at words 1 through 10."
   ]
  },
  {
   "cell_type": "code",
   "execution_count": 4,
   "metadata": {},
   "outputs": [
    {
     "data": {
      "text/plain": [
       "['the{7}', 'chosen', 'and', 'the\\nbeloved,', 'who', 'was', 'a', 'dawn', 'unto']"
      ]
     },
     "execution_count": 4,
     "metadata": {},
     "output_type": "execute_result"
    }
   ],
   "source": [
    "new_prophet[1:10]"
   ]
  },
  {
   "cell_type": "markdown",
   "metadata": {},
   "source": [
    "#### The next step is to create a function that will remove references. \n",
    "\n",
    "We will do this by splitting the string on the `{` character and keeping only the part before this character. Write your function below."
   ]
  },
  {
   "cell_type": "code",
   "execution_count": 21,
   "metadata": {},
   "outputs": [],
   "source": [
    "def reference(x):\n",
    "    '''\n",
    "    Input: A string\n",
    "    Output: The string with references removed\n",
    "    \n",
    "    Example:\n",
    "    Input: 'the{7}'\n",
    "    Output: 'the'\n",
    "    '''\n",
    "    \n",
    "    # your code here\n",
    "    return x.split(\"{\")[0]"
   ]
  },
  {
   "cell_type": "markdown",
   "metadata": {},
   "source": [
    "Now that we have our function, use the `map()` function to apply this function to our book, The Prophet. Return the resulting list to a new list called `prophet_reference`."
   ]
  },
  {
   "cell_type": "code",
   "execution_count": 23,
   "metadata": {},
   "outputs": [],
   "source": [
    "prophet_reference = list(map(reference, new_prophet))"
   ]
  },
  {
   "cell_type": "markdown",
   "metadata": {},
   "source": [
    "Another thing you may have noticed is that some words contain a line break. Let's write a function to split those words. Our function will return the string split on the character `\\n`. Write your function in the cell below."
   ]
  },
  {
   "cell_type": "code",
   "execution_count": 9,
   "metadata": {},
   "outputs": [],
   "source": [
    "def line_break(x):\n",
    "    '''\n",
    "    Input: A string\n",
    "    Output: A list of strings split on the line break (\\n) character\n",
    "        \n",
    "    Example:\n",
    "    Input: 'the\\nbeloved'\n",
    "    Output: ['the', 'beloved']\n",
    "    '''\n",
    "    \n",
    "    # your code here\n",
    "    return x.split(\"\\n\")[0]"
   ]
  },
  {
   "cell_type": "markdown",
   "metadata": {},
   "source": [
    "Apply the `line_break` function to the `prophet_reference` list. Name the new list `prophet_line`."
   ]
  },
  {
   "cell_type": "code",
   "execution_count": 13,
   "metadata": {},
   "outputs": [],
   "source": [
    "prophet_line = list(map(line_break, prophet_reference))"
   ]
  },
  {
   "cell_type": "markdown",
   "metadata": {},
   "source": [
    "If you look at the elements of `prophet_line`, you will see that the function returned lists and not strings. Our list is now a list of lists. Flatten the list using list comprehension. Assign this new list to `prophet_flat`."
   ]
  },
  {
   "cell_type": "code",
   "execution_count": 25,
   "metadata": {},
   "outputs": [],
   "source": [
    "prophet_flat = [\"\".join(w) for w in prophet_line]"
   ]
  },
  {
   "cell_type": "markdown",
   "metadata": {},
   "source": [
    "# Challenge 2 - Filtering\n",
    "\n",
    "When printing out a few words from the book, we see that there are words that we may not want to keep if we choose to analyze the corpus of text. Below is a list of words that we would like to get rid of. Create a function that will return false if it contains a word from the list of words specified and true otherwise."
   ]
  },
  {
   "cell_type": "code",
   "execution_count": 15,
   "metadata": {},
   "outputs": [],
   "source": [
    "def word_filter(x):\n",
    "    '''\n",
    "    Input: A string\n",
    "    Output: True if the word is not in the specified list \n",
    "    and False if the word is in the list.\n",
    "        \n",
    "    Example:\n",
    "    word list = ['and', 'the']\n",
    "    Input: 'and'\n",
    "    Output: False\n",
    "    \n",
    "    Input: 'John'\n",
    "    Output: True\n",
    "    '''\n",
    "    \n",
    "    word_list = ['and', 'the', 'a', 'an']\n",
    "    \n",
    "    # your code here\n",
    "    if x not in word_list:\n",
    "        return True\n",
    "    else:\n",
    "        return False"
   ]
  },
  {
   "cell_type": "markdown",
   "metadata": {},
   "source": [
    "Use the `filter()` function to filter out the words speficied in the `word_filter()` function. Store the filtered list in the variable `prophet_filter`."
   ]
  },
  {
   "cell_type": "code",
   "execution_count": 16,
   "metadata": {},
   "outputs": [],
   "source": [
    "prophet_filter = list(filter(word_filter, prophet_flat))"
   ]
  },
  {
   "cell_type": "markdown",
   "metadata": {},
   "source": [
    "# Bonus Challenge\n",
    "\n",
    "Rewrite the `word_filter` function above to not be case sensitive."
   ]
  },
  {
   "cell_type": "code",
   "execution_count": 17,
   "metadata": {},
   "outputs": [],
   "source": [
    "def word_filter_case(x):\n",
    "   \n",
    "    word_list = ['and', 'the', 'a', 'an']\n",
    "    \n",
    "    # your code here"
   ]
  },
  {
   "cell_type": "markdown",
   "metadata": {},
   "source": [
    "# Challenge 3 - Reducing\n",
    "\n",
    "#### Now that we have significantly cleaned up our text corpus, let's use the `reduce()` function to put the words back together into one long string separated by spaces. \n",
    "\n",
    "We will start by writing a function that takes two strings and concatenates them together with a space between the two strings."
   ]
  },
  {
   "cell_type": "code",
   "execution_count": 222,
   "metadata": {},
   "outputs": [],
   "source": [
    "def concat_space(a, b):\n",
    "    '''\n",
    "    Input:Two strings\n",
    "    Output: A single string separated by a space\n",
    "        \n",
    "    Example:\n",
    "    Input: 'John', 'Smith'\n",
    "    Output: 'John Smith'\n",
    "    '''\n",
    "    \n",
    "    # your code here\n",
    "    liste = [a,b]\n",
    "    return \" \".join(liste)"
   ]
  },
  {
   "cell_type": "markdown",
   "metadata": {},
   "source": [
    "Use the function above to reduce the text corpus in the list `prophet_filter` into a single string. Assign this new string to the variable `prophet_string`."
   ]
  },
  {
   "cell_type": "code",
   "execution_count": 223,
   "metadata": {},
   "outputs": [
    {
     "data": {
      "text/plain": [
       "'PROPHET chosen who was dawn unto his own had waited twelve years in city Orphalese for his ship that was to bear him back to isle of birth. in twelfth year, on seventh of Ielool, month of reaping, he hill without city walls looked seaward; he beheld his coming with mist. gates of his heart were flung his joy flew far over sea. he closed his eyes prayed in of his soul. as he descended hill, sadness upon him, he thought in his shall I go in peace without Nay, not without wound in shall I leave this city.  days of pain I have spent its walls, long were of aloneness; who can depart his pain his aloneness without many fragments of spirit have I in these streets, too many children of my longing that walk among these hills, I cannot from them without burden ache. is not garment I cast off this but skin that I tear with my own is it thought I leave behind me, heart made sweet with hunger thirst. I cannot tarry longer. sea that calls all things unto her me, I must embark. to stay, though hours burn in night, is to freeze crystallize be bound in mould. would I take with me all that is But how shall I? voice cannot carry tongue lips that gave it wings. Alone it seek ether. alone without his nest shall fly across sun. when he reached foot of he turned again towards sea, he saw his ship approaching upon her prow mariners, men of his own land. his soul cried out to them, he of my ancient mother, you riders of tides, often have you sailed in my dreams. now you come in my awakening, which my deeper dream. am I to go, my eagerness with full set awaits wind. another breath will I breathe in still air, only another loving look backward, then I shall stand among you, among seafarers.  you, sea, sleepless mother, alone are peace freedom to stream, another winding will this stream only another murmur in this glade, then shall I come to you, drop to boundless ocean. as he walked he saw from afar men women leaving their fields their hastening towards city he heard their voices calling his shouting from field to field one another of coming of his he said to himself: day of parting be day of shall it be said that my eve was in my dawn? what shall I give unto him who has his plough in midfurrow, or to who has stopped wheel of his  my heart become heavy-laden with fruit that I may give unto them? shall my desires flow like that I may fill their cups? I harp that hand of mighty touch me, or flute that his breath pass through me? seeker of silences am I, what have I found in silences that I dispense with confidence? this is my day of harvest, in what have I sowed seed, in unremembered seasons? this indeed be hour in which I up my lantern, it is not my flame shall burn therein. dark shall I raise my lantern, guardian of night shall fill with oil he shall light it also. things he said in words. But much his heart remained unsaid. For  could not speak his deeper 0020] when he entered into city all people came to meet him, they crying out to him as with one elders of city stood forth said: not yet away from us. noontide have you been in our your youth has given us to dream. stranger are you among us, nor guest, but our son our dearly not yet our eyes to hunger for face. priests priestesses said him: not waves of sea separate us years you have spent in our become memory. have walked among us spirit, your shadow has been light our faces. have we loved you. But speechless our love, with veils has it been now it cries aloud unto you, stand revealed before you. ever has it been that love knows its own depth until hour of others came also entreated him. he answered them not. He only bent head; those who stood near saw tears falling upon his breast. he people proceeded towards great square before temple. there came out of sanctuary whose name was Almitra. And she seeress. he looked upon her with exceeding for it was she who had first believed in him when he had but day in their city.  hailed him, saying: of God, in quest of long have you searched for your ship. now your ship has come, you must go. is your longing for land of memories dwelling place your greater desires; our love not bind you nor our needs hold this we ask ere you leave us, that speak to us give us of your we will give it unto our children, they unto their children, it not perish. your aloneness you have watched with days, in your wakefulness you listened to weeping of our sleep. therefore disclose us to ourselves, tell us all that has been shown of that which is between birth he answered, of Orphalese, of what can I save of that which is even now within your souls? ***** said Almitra, Speak to us of he raised his head looked upon people, there fell stillness them. And with great voice he love beckons to you, follow him, his ways are hard steep. when his wings enfold you yield to sword hidden among his may wound you. when he speaks to you believe in his voice may shatter your dreams north wind lays waste garden. even as love crowns you so shall crucify you. Even as he is for your so is he for your pruning. as he ascends to your height your tenderest branches quiver in sun, shall he descend to your roots them in their clinging to sheaves of corn he gathers you unto threshes you to make you naked. sifts you to free you from your grinds you to whiteness. kneads you until you are pliant; then he assigns you to his sacred that you may become sacred bread God’s sacred feast. these things shall love do unto you you may know secrets of your in that knowledge become of Life’s heart. if in your fear you would seek only peace love’s pleasure, it is better for you that you  nakedness pass out of threshing-floor, seasonless world where you laugh, but not all of your weep, but not all of your gives naught but itself takes but from itself. possesses not nor would it be love is sufficient unto love. you love you should not say, “God in my heart,” but rather, “I am in heart of God.” think not you can direct course love, for love, if it finds you directs your course. has no other desire but to fulfil if you love must needs have let these be your desires: melt be like running brook that its melody to night.  pain of too much tenderness. be wounded by your own understanding love; to bleed willingly joyfully. wake at dawn with winged heart thanks for another day of loving; rest at noon hour meditate ecstacy; return home at eventide with then to sleep with prayer for beloved in your heart song of upon your lips. 0029] ***** Almitra spoke again said, what of _Marriage_ master? he answered saying: were born together, together you be forevermore. shall be together when white of death scatter your days. you shall be together even in memory of God. let there be spaces in your let winds of heavens dance you. one another, but make not bond of it rather be moving sea between shores of your souls. each other’s cup but drink not from cup. one another of your bread but eat from same loaf.  together be joyous, but let one of you be alone, as strings of lute are alone they quiver with same music. your hearts, but not into each keeping. only hand of Life can contain hearts. stand together yet not too near pillars of temple stand oak tree cypress grow in each other’s shadow. 0032] ***** woman who held babe her bosom said, Speak to us of he said: children are not your children. are sons daughters of longing for itself. come through you but not from you, though they are with you yet they not to you. may give them your love but not your they have their own thoughts. may house their bodies but not their their souls dwell in house of which you cannot visit, not in your dreams. may strive to be like them, but seek to make them like you.  goes not backward nor tarries with are bows from which your as living arrows are sent archer sees mark upon path infinite, He bends you with might that His arrows may go swift far. your bending in Archer’s hand be gladness; even as he loves arrow that so He loves also bow that is ***** said rich man, Speak to us of he answered: give but little when you give of possessions. is when you give of yourself that you give. what are your possessions but things keep guard for fear you may need tomorrow? tomorrow, what shall tomorrow bring overprudent dog burying bones trackless sand as he follows to holy city? what is fear of need but need not dread of thirst when your well is thirst that is unquenchable? are those who give little of which they have--and they give for recognition their hidden makes their gifts unwholesome. there are those who have little it all. are believers in life bounty of life, their coffer is empty. are those who give with joy, joy is their reward. there are those who give with pain, that pain is their baptism. there are those who give know pain in giving, nor do they seek nor give with mindfulness of give as in yonder valley myrtle its fragrance into space. hands of such as these God from behind their eyes He upon earth. 0039] is well to give when asked, but it better to give unasked, through to open-handed search for who shall receive is joy greater giving. is there aught you would withhold? you have shall some day be given; give now, that season giving may be yours not your often say, “I would give, but only deserving.” trees in your orchard say not so, flocks in your pasture. give that they may live, for to is to perish. he who is worthy to receive his his nights, is worthy of all from you. he who has deserved to drink from ocean of life deserves to fill his from your little stream. what desert greater shall there be, that which lies in courage confidence, nay charity, of who are you that men should rend bosom unveil their pride, you may see their worth naked pride unabashed? first that you yourself deserve to giver, instrument of giving. in truth it is life that gives unto you, who deem yourself are but witness. you receivers--and you are receivers--assume no weight of lest you lay yoke upon upon him who gives. rise together with giver on gifts as on wings; to be overmindful of your debt, is doubt his generosity who has earth for mother, God father. 0042] ***** old man, keeper of said, Speak to us of _Eating he said: that you could live on of earth, like air be sustained by light. since you must kill to eat, rob newly born of its mother’s milk to your thirst, let it then be of worship, let your board stand altar on pure innocent of plain are sacrificed for that is purer still more innocent man. you kill beast say to him in your same power that slays you, I too slain; I too shall be consumed. law that delivered you into hand shall deliver me into mightier blood my blood is naught but sap that feeds tree of heaven.” when you crush apple with your say to it in your heart, seeds shall live in my body, buds of your tomorrow shall in my heart, your fragrance shall be my breath, together we shall rejoice through seasons.” in autumn, when you gather grapes of your vineyards for say in your heart, too am vineyard, my fruit shall gathered for winepress, like new wine I shall be kept in vessels.” in winter, when you draw wine, there be in your heart song each cup; let there be in song for autumn days, for vineyard, for winepress. Then ploughman said, Speak us of _Work_. he answered, saying: work that you may keep pace with soul of earth. to be idle is to become stranger seasons, to step out of procession, that marches in proud submission towards you work you are flute through heart whispering of hours to music. of you would be reed, dumb when all else sings together in you have been told that work is labour misfortune. I say to you that when you work you part of earth’s furthest dream, to you when that dream was in keeping yourself with labour you in truth loving life, to love life through labour is to be with life’s inmost secret. if you in your pain call birth support of flesh curse written upon your brow, then I that naught but sweat of brow shall wash away that which is have been told also that life is in your weariness you echo was said by weary. I say that life is indeed darkness when there is urge, all urge is blind save when there is all knowledge is vain save when is work, all work is empty save when there is when you work with love you bind to yourself, to one to God. what is it to work with love? is to weave cloth with threads from your heart, even as if your were to wear that cloth. is to build house with affection, as if your beloved were to dwell in house. is to sow seeds with tenderness harvest with joy, even as if beloved were to eat fruit. is to charge all things you fashion breath of your own spirit, to know that all blessed dead standing about you watching. have I heard you say, as if in sleep, “He who works in finds shape of his own in stone, is nobler than he who soil.  he who seizes rainbow to lay it on cloth in of man, is more than he who sandals for our feet.” I say, not in sleep but in of noontide, that speaks not more sweetly to oaks than to least of all of grass; he alone is great who turns of wind into song made by his own loving. is love made visible. if you cannot work with love but with distaste, it is better that should leave your work sit at gate of temple take alms of who work with joy. if you bake bread with indifference, bake bitter bread that feeds but man’s hunger. if you grudge crushing of your grudge distils poison in wine.  if you sing though as love not singing, you man’s ears to voices of voices of night. ***** woman said, Speak to us of Sorrow_. he answered: joy is your sorrow unmasked. selfsame well from which your rises was oftentimes filled your tears. how else can it be? deeper that sorrow carves into your more joy you can contain. not cup that holds your wine cup that was burned in potter’s is not lute that soothes your very wood that was hollowed knives? you are joyous, look deep into your you shall find it is only which has given you sorrow that is you joy. you are sorrowful look again in heart, you shall see that truth you are weeping for that which been your delight. of you say, “Joy is greater than others say, “Nay, sorrow is greater.” I say unto you, they are they come, when one sits with you at your board, remember other is asleep upon your bed. you are suspended like scales your sorrow your joy. when you are empty are you at balanced. treasure-keeper lifts you to his gold his silver, needs your joy or your sorrow rise or ***** mason came forth said, to us of _Houses_. he answered said: of your imaginings bower in ere you build house within city walls. even as you have home-comings in twilight, so has wanderer in ever distant alone. house is your larger body. grows in sun sleeps in of night; it is not Does not your house dream? dreaming, leave city for grove hilltop? that I could gather your houses my hand, like sower scatter in forest meadow. valleys were your streets, green paths your alleys, that you seek one another through come with fragrance earth in your garments. these things are not yet to be. their fear your forefathers gathered too near together. And that fear endure little longer. A little shall your city walls separate hearths from your fields. tell me, people of Orphalese, what you in these houses? And what is it guard with fastened doors? you peace, quiet urge that your power? you remembrances, glimmering that span summits of you beauty, that leads heart things fashioned of wood stone holy mountain? me, have you these in your houses? have you only comfort, lust comfort, that stealthy thing that house guest, then host, then master? it becomes tamer, with scourge makes puppets of your desires. its hands are silken, its heart of iron. lulls you to sleep only to stand by bed jeer at dignity of makes mock of your sound senses, them in thistledown like fragile lust for comfort murders passion of soul, then walks in funeral. you, children of space, you restless rest, you shall not be trapped nor house shall be not anchor but shall not be glistening film that wound, but eyelid that eye. shall not fold your wings that you pass through doors, nor bend your that they strike not against nor fear to breathe lest walls crack fall down. shall not dwell in tombs made by for living. though of magnificence your house shall not hold secret nor shelter your longing. that which is boundless in you in mansion of sky, whose is morning mist, whose are songs silences night. ***** weaver said, Speak to us of he answered: clothes conceal much of your yet they hide not though you seek in garments of privacy you may find in them harness chain. that you could meet sun wind with more of your skin less your raiment, breath of life is in hand of life is in of you say, “It is north wind has woven clothes we wear.” I say, Ay, it was north wind, shame was his loom, of sinews was his thread. when his work was done he laughed in forest.  not that modesty for shield against eye of when unclean shall be no more, were modesty but fetter of mind? forget not that earth delights feel your bare feet winds to play with your hair. ***** merchant said, Speak to us of Selling_. he answered said: you earth yields her fruit, shall not want if you but know how fill your hands. is in exchanging gifts of that you shall find abundance satisfied. unless exchange be in love justice, it will but lead some to others to hunger. in market place you toilers of sea fields vineyards meet weavers potters of spices,-- then master spirit of to come into your midst scales reckoning weighs value against value.  not barren-handed to take in your transactions, who would their words for your labour. such men you should say, with us to field, or go with brothers to sea cast your land sea shall be to you even as to us.” if there come singers flute players,--buy of gifts also. they too are gatherers of fruit that which they bring, fashioned of dreams, is raiment food for your soul. before you leave market place, that no one has gone his way with hands. master spirit of earth shall sleep peacefully upon wind needs of least of you are ***** one of judges of city forth said, Speak to us of Punishment_. he answered, saying: is when your spirit goes wandering wind, you, alone unguarded, commit wrong unto others therefore unto for that wrong committed must you wait while unheeded at of blessed. ocean is your god-self; remains for ever undefiled. like ether it lifts but like sun is your god-self; knows not ways of mole nor it holes of serpent. your god-self dwells not alone your being. in you is still man, much in is not yet man, shapeless pigmy that walks asleep mist searching for its own of man in you would I now speak. it is he not your god-self nor pigmy in mist, that knows crime punishment of crime. have I heard you speak of one commits wrong as though he were one of you, but stranger unto you intruder upon your world. I say that even as holy cannot rise beyond highest is in each one of you, wicked weak cannot fall than lowest which is in you as single leaf turns not yellow with silent knowledge of tree,  wrong-doer cannot wrong without hidden will of you procession you walk together your god-self. 0064] are way wayfarers. when one of you falls down he falls those behind him, caution against stumbling stone. he falls for those ahead of him, though faster surer of foot, yet not stumbling stone. this also, though word lie heavy your hearts: murdered is not unaccountable for own murder, robbed is not blameless in being righteous is not innocent of of wicked, white-handed is not clean in of felon. guilty is oftentimes victim injured, still more often condemned is burden bearer for guiltless unblamed. cannot separate just from good from wicked; they stand together before face sun even as black thread white are woven together. when black thread breaks, shall look into whole cloth, he shall examine loom also. any of you would bring to judgment unfaithful wife, him also weigh heart of her in scales, measure his soul measurements. let him who would lash offender unto spirit of offended. if any of you would punish in of righteousness lay ax evil tree, let him see to its verily he will find roots of bad, fruitful all entwined together in silent heart of earth. you judges who would be just, judgment pronounce you upon him though honest in flesh yet is in spirit? penalty lay you upon him who slays flesh yet is himself slain in how prosecute you him who in action deceiver oppressor, who also is aggrieved outraged? how shall you punish those whose is already greater than their not remorse justice which is by that very law which you fain serve? you cannot lay remorse upon nor lift it from heart of guilty. shall it call in night, men may wake gaze upon  you who would justice, how shall you unless look upon all deeds in fullness light? then shall you know that erect fallen are but one man standing twilight between night of his day of his god-self, that corner-stone of temple not higher than lowest stone in foundation. ***** lawyer said, But what of our master? he answered: delight in laying down laws, you delight more in breaking them. children playing by ocean who sand-towers with constancy destroy them with laughter. while you build your sand-towers brings more sand to shore, when you destroy them ocean with you. ocean laughs always with what of those to whom life is not ocean, man-made laws are not to whom life is rock, law chisel with which they would carve it their own likeness?  of who hates dancers? of ox who loves his yoke elk deer of forest vagrant things? of old serpent who cannot shed skin, calls all others naked of him who comes early to when over-fed goes his way saying that all are violation all feasters shall I say of these save that too stand in sunlight, but with backs to sun? see only their shadows, their are their laws. what is sun to them but caster shadows? what is it to acknowledge but to stoop down trace their upon earth? you who walk facing sun, what drawn on earth can hold who travel with wind, what shall direct your course? man’s law shall bind you if you your yoke but upon no man’s prison laws shall you fear if you dance stumble against no man’s iron who is he that shall bring you to if you tear off your garment leave it in no man’s path? of Orphalese, you can muffle you can loosen strings lyre, but who shall command not to sing? ***** orator said, Speak to us of he answered: city gate by your fireside have seen you prostrate yourself your own freedom, as slaves humble themselves before tyrant praise him though he slays in grove of temple in shadow of citadel I have seen freest among you wear their freedom yoke handcuff. my heart bled within me; for you only be free when even desire seeking freedom becomes harness you, when you cease to speak of as goal fulfilment. shall be free indeed when your are not without care nor your without want grief, rather when these things girdle your yet you rise above them naked unbound. how shall you rise beyond your days nights unless you break which you at dawn of your have fastened around your hour? truth that which you call freedom is strongest of these chains, though links glitter in sun dazzle eyes. what is it but fragments of your self you would discard that you may free? it is unjust law you would that law was written with your hand upon your own forehead. cannot erase it by burning your law nor by washing foreheads of judges, though you pour sea them. if it is despot you would see first that his throne within you is destroyed. how can tyrant rule free proud, but for tyranny in their freedom shame in their own if it is care you would cast off, cart has been chosen by you rather imposed upon you. if it is fear you would dispel, seat of that fear is in your heart not in hand of feared. all things move within your being constant half embrace, desired dreaded, repugnant pursued that which would escape. things move within you as lights shadows in pairs that cling. when shadow fades is no light that lingers becomes to another light. thus your freedom when it loses its becomes itself fetter of freedom. ***** priestess spoke again said: Speak to us of _Reason he answered, saying: soul is oftentimes battlefield, which your reason your judgment war against your passion your that I could be peacemaker in soul, that I might turn discord rivalry of your elements into melody. how shall I, unless you yourselves also peacemakers, nay, lovers all your elements? reason your passion are sails of your seafaring either your sails or your rudder be you can but toss drift, else be held at standstill in  reason, ruling alone, force confining; passion, is flame that burns to its destruction. let your soul exalt your to height of passion, that it sing; let it direct your passion with that your passion may live its own daily resurrection, like phoenix rise above its own would have you consider your judgment your appetite even as you would two guests in your house. you would not honour one guest other; for he who is more of one loses love of both hills, when you sit in shade of white poplars, sharing peace serenity of distant fields meadows--then let your heart say in “God rests in reason.” when storm comes, wind shakes forest, thunder lightning proclaim of sky,--then let your heart in awe, “God moves in passion.” since you are breath in God’s leaf in God’s forest, you should rest in reason move in ***** woman spoke, saying, Tell us _Pain_. he said: pain is breaking of shell encloses your understanding. as stone of fruit must that its heart may stand in so must you know pain. could you keep your heart in wonder daily miracles of your life, your would not seem less wondrous than joy; you would accept seasons of your even as you have always accepted seasons that pass over your fields. you would watch with serenity winters of your grief. of your pain is self-chosen. is bitter potion by which  you heals your sick trust physician, drink remedy in silence tranquillity: his hand, though heavy hard, is by tender hand of Unseen, cup he brings, though it burn lips, has been fashioned of which Potter has moistened with own sacred tears. ***** man said, Speak to us of he answered, saying: hearts know in silence secrets days nights. your ears thirst for sound of heart’s knowledge. would know in words that which you always known in thought. would touch with your fingers body of your dreams. it is well you should. hidden well-spring of your soul must rise run murmuring to sea; treasure of your infinite depths be revealed to your eyes. let there be no scales to weigh your treasure; seek not depths of your with staff or sounding self is sea boundless not, “I have found truth,” but “I have found truth.” not, “I have found path of Say rather, “I have met soul upon my path.” soul walks upon all paths. soul walks not upon line, neither it grow like reed. soul unfolds itself, like lotus of petals. 0083] ***** said teacher, Speak to us of he said: man can reveal to you aught but that already lies half asleep in of your knowledge. teacher who walks in shadow of temple, among his followers, gives of his wisdom but rather of his his lovingness. he is indeed wise he does not bid enter house of his wisdom, but leads you to threshold of own mind. astronomer may speak to you of his of space, but he cannot you his understanding. musician may sing to you of which is in all space, but he give you ear which arrests rhythm nor voice that echoes it. he who is versed in science numbers can tell of regions weight measure, but he cannot you thither. vision of one man lends not its to another man. even as each one of you stands alone God’s knowledge, so must each one of be alone in his knowledge of God his understanding of earth. ***** youth said, Speak to us of he answered, saying: friend is your needs answered. is your field which you sow with love reap with thanksgiving. he is your board your fireside. you come to him with your hunger, you seek him for peace. your friend speaks his mind you not “nay” in your own mind, nor you withhold “ay.” when he is silent your heart ceases to listen to his heart; without words, in friendship, all all desires, all expectations born shared, with joy that is you part from your friend, you not; that which you love most in him be clearer in his absence, as to climber is clearer plain.  let there be no in friendship save deepening spirit. love that seeks aught but of its own mystery is not but net cast forth: only is caught. let your best be for your friend. he must know ebb of your tide, him know its flood also. what is your friend that you should him with hours to kill? him always with hours to live. it is his to fill your need, but not emptiness. in sweetness of friendship there be laughter, sharing of in dew of little things heart finds its morning is ***** then scholar said, Speak of he answered, saying: talk when you cease to be at peace your thoughts; when you can no longer dwell in of your heart you live in your sound is diversion in much of your talking, thinking is murdered. thought is bird of space, that in cage of words may indeed unfold its but cannot fly. are those among you who seek through fear of being alone. silence of aloneness reveals to eyes their naked selves they escape. there are those who talk, knowledge or forethought reveal truth which they themselves do not there are those who have truth them, but they tell it not in bosom of such as these spirit in rhythmic silence. you meet your friend on or in market place, let in you move your lips direct tongue. voice within your voice speak to ear of his ear; his soul will keep truth of heart as taste of wine is colour is forgotten is no more. ***** astronomer said, Master, what _Time_? he answered: would measure time measureless immeasurable. would adjust your conduct direct course of your spirit to hours seasons. time you would make stream upon bank you would sit watch its timeless in you is aware of timelessness, knows that yesterday is but today’s tomorrow is today’s dream. that that which sings in you is still dwelling bounds of that first moment scattered stars into space. among you does not feel that his to love is boundless? yet who does not feel that very though boundless, encompassed centre of his being, not from love thought to love nor from love deeds to other deeds? is not time even as love is, paceless? if in your thought you must measure into seasons, let each season all other seasons, let today embrace past with future with longing. ***** one of elders of city Speak to us of _Good Evil_. he answered: good in you I can speak, but not evil. what is evil but good tortured by own hunger thirst? when good is hungry it seeks food in dark caves, when it thirsts drinks even of dead waters. are good when you are one with when you are not one with yourself are not evil. divided house is not den of it is only divided house. ship without rudder may wander among perilous isles yet sink to bottom.  are good when strive to give of yourself. you are not evil when you seek gain yourself. when you strive for gain you are root that clings to earth at her breast. fruit cannot say to root, like me, ripe full ever of your abundance.” to fruit giving is need, as is need to root. are good when you are fully awake in speech, you are not evil when you sleep your tongue staggers without even stumbling speech may strengthen weak tongue. are good when you walk to your goal with bold steps. you are not evil when you go thither  those who limp go not you who are strong swift, see you do not limp before lame, it kindness. are good in countless ways, you not evil when you are not good, are only loitering sluggard. that stags cannot teach to turtles. your longing for your giant self lies goodness: that longing is in of you. in some of you that longing is rushing with might to sea, secrets of hillsides songs of forest. in others it is flat stream that itself in angles bends before it reaches shore. let not him who longs much say to who longs little, “Wherefore are slow halting?” truly good ask not naked, is your garment?” nor “What has befallen your ***** priestess said, Speak to us _Prayer_. he answered, saying: pray in your distress in your would that you might pray also fullness of your joy in your of abundance. what is prayer but expansion of into living ether? if it is for your comfort to pour darkness into space, it is also for delight to pour forth dawning your heart. if you cannot but weep when your summons you to prayer, she should you again yet again, though until you shall come laughing. you pray you rise to meet in those who are praying at that very whom save in prayer you not meet. let your visit to that temple be for naught but ecstasy communion. if you should enter temple for other purpose than asking you shall receive: if you should enter into it to yourself you shall not be lifted: even if you should enter into it to for good of others you shall not heard. is enough that you enter temple cannot teach you how to pray in words. listens not to your words save when Himself utters them through your I cannot teach you prayer of forests mountains. you who are born of forests seas find their prayer in your heart, if you but listen in stillness night you shall hear them saying silence, God, who art our winged self, it is will in us that willeth. is thy desire in us that desireth. is thy urge in us that would turn our which are thine, into days which thine also. cannot ask thee for aught, for thou our needs before they are born us: art our need; in giving us more thyself thou givest us all.” 0100] ***** hermit, who visited city year, came forth said, Speak us of _Pleasure_. he answered, saying: is freedom-song, it is not freedom. is blossoming of your desires, it is not their fruit. is depth calling unto height, it is not deep nor high. is caged taking wing, it is not space encompassed. in very truth, pleasure is I fain would have you sing it with of heart; yet I would not have lose your hearts in singing. of your youth seek pleasure as if were all, they are judged  would not judge nor them. I would have them seek. they shall find pleasure, but not alone; are her sisters, least of is more beautiful than pleasure. you not heard of man who was in earth for roots found treasure? some of your elders remember with regret like wrongs in drunkenness. regret is beclouding of mind not its chastisement. should remember their pleasures gratitude, as they would of summer. if it comforts them to regret, let be comforted. there are among you those who neither young to seek nor old to in their fear of seeking  shun all pleasures, they neglect spirit or offend it. even in their foregoing is their thus they too find treasure though dig for roots with quivering hands. tell me, who is he that can offend spirit? nightingale offend of night, or firefly stars? shall your flame or your smoke wind? you spirit is still pool you can trouble with staff? in denying yourself pleasure do but store desire in of your being. knows but that which seems omitted waits for tomorrow? your body knows its heritage its rightful need will not be your body is harp of your soul, it is yours to bring forth  from it or confused sounds. now you ask in your heart, “How we distinguish that which is in pleasure from that which is not to your fields your gardens, shall learn that it is pleasure bee to gather honey of it is also pleasure of to yield its honey to bee. to bee flower is fountain of to flower bee is messenger love, to both, bee flower, giving receiving of pleasure is need ecstasy. of Orphalese, be in your like flowers bees. ***** poet said, Speak to us of he answered: shall you seek beauty, how you find her unless she herself be way your guide? how shall you speak of her except be weaver of your speech? aggrieved injured say, is kind gentle. young mother half-shy of her own she walks among us.” passionate say, “Nay, beauty is thing of might dread. tempest she shakes earth us sky above us.” tired weary say, “Beauty is soft whisperings. She speaks in our  voice yields to our like faint light that quivers fear of shadow.” restless say, “We have heard her among mountains, with her cries came sound of beating of wings of lions.” night watchmen of city say, shall rise with dawn from east.” at noontide toilers say, “We have seen her leaning earth from windows of winter say snow-bound, “She shall with spring leaping upon in summer heat reapers “We have seen her dancing with leaves, we saw drift of in her hair.”  these things you said of beauty, in truth you spoke not of her but of unsatisfied, beauty is not need but ecstasy. is not mouth thirsting nor empty stretched forth, rather heart enflamed soul is not image you would see nor song you would hear, rather image you see though you your eyes song you hear you shut your ears. is not sap within furrowed nor wing attached to claw, rather garden for ever in bloom flock of angels for ever in of Orphalese, beauty is life when unveils her holy face. you are life you are veil. is eternity gazing at itself mirror. you are eternity you are ***** old priest said, Speak to us _Religion_. he said: I spoken this day of aught else? not religion all deeds all that which is neither deed nor but wonder surprise springing in soul, even while hands hew stone or tend can separate his faith from actions, or his belief from his can spread his hours before him, “This for God this for This for my soul, this other my body?” your hours are wings that beat space from self to self.  wears his morality but as his best were better naked. wind sun will tear no holes his skin. he who defines his conduct by ethics his song-bird in cage. freest song comes not through bars wires. he to whom worshipping is window, open but also to shut, has not yet house of his soul whose are from dawn to dawn. daily life is your temple your you enter into it take with you all. plough forge lute, things you have fashioned in or for delight. in revery you cannot rise above your nor fall lower than your take with you all men:  in you cannot fly higher than hopes nor humble yourself lower their despair. if you would know God be not solver of riddles. look about you you shall see playing with your children. look into space; you shall see Him in cloud, outstretching His in lightning descending in shall see Him smiling in flowers, rising waving His hands in ***** Almitra spoke, saying, We would now of _Death_. he said: would know secret of death. how shall you find it unless you it in heart of life? owl whose night-bound eyes are blind day cannot unveil mystery light. you would indeed behold spirit death, open your heart wide unto of life. life death are one, even as sea are one. depth of your hopes desires your silent knowledge of like seeds dreaming beneath snow heart dreams of spring. dreams, for in them is hidden gate to eternity.  fear death is but trembling of when he stands before king hand is to be laid upon him in shepherd not joyful beneath his that he shall wear mark king? is he not more mindful of his what is it to die but to stand naked wind to melt into sun? what is it to cease breathing, but free breath from its restless that it may rise expand God unencumbered? when you drink from river of shall you indeed sing. when you have reached mountain then you shall begin to climb. when earth shall claim your then shall you truly dance. now it was evening. Almitra seeress said, Blessed be day this place your spirit has spoken. he answered, Was it I who spoke? Was not also listener? he descended steps of all people followed him. he reached his ship stood upon deck. facing people again, he raised voice said: of Orphalese, wind bids me you. hasty am I than wind, yet I go. wanderers, ever seeking lonelier begin no day where we have ended day; no sunrise finds us sunset left us.  while sleeps we travel. are seeds of tenacious it is in our ripeness our of heart that we are given to wind are scattered. were my days among you, still words I have spoken. should my voice fade in your ears, my love vanish in your memory, then will come again, with richer heart lips more to spirit will I speak. I shall return with tide, though death may hide me, silence enfold me, yet again I seek your understanding. not in vain will I seek. aught I have said is truth, that shall reveal itself in clearer in words more kin to your go with wind, people of but not down into emptiness; if this day is not fulfilment your needs my love, then let it promise till another day. needs change, but not his love, his desire that his love should his needs. therefore, that from greater I shall return. mist that drifts away at dawn, but dew in fields, shall gather into cloud then down in rain. not unlike mist have I been. stillness of night I have in your streets, my spirit entered your houses, your heart-beats were in my heart, your breath was upon my face, I you all. I knew your joy your pain, in your sleep your dreams were my oftentimes I was among you lake mountains. mirrored summits in you slopes, even flocks of your thoughts your to my silence came laughter your children in streams, of your youths in rivers. when they reached my depth rivers ceased not yet to 0119] sweeter still than laughter than longing came to me. was boundless in you; vast man in whom you are all but sinews; in whose chant all your singing is soundless throbbing. is in vast man that you are vast, in beholding him that I beheld you loved you. what distances can love reach that not in that vast sphere? visions, what expectations what can outsoar that flight? giant oak tree covered with apple is vast man in you.  binds you to earth, his lifts you into space, in durability you are deathless. have been told that, even like you are as weak as your weakest is but half truth. You are also strong as your strongest link. measure you by your smallest deed to reckon power of ocean by of its foam. judge you by your failures is to blame upon seasons for their you are like ocean, though heavy-grounded ships await tide upon your shores, yet, even ocean, you cannot hasten your like seasons you are also, though in your winter you deny your spring, reposing within you, smiles her drowsiness is not offended. not I say these things in that you may say one to “He praised us well. He saw but good in us.” only speak to you in words of that you yourselves know in thought. what is word knowledge but shadow wordless knowledge? thoughts my words are waves sealed memory that keeps records our yesterdays, of ancient days when earth not us nor herself, of nights when earth was up-wrought confusion. men have come to you to give you their wisdom. I came to take of your behold I have found that which is than wisdom. is flame spirit in you ever more of itself, you, heedless of its expansion, withering of your days. is life in quest of life in that fear grave. are no graves here. mountains plains are cradle stepping-stone. you pass by field where have laid your ancestors look well you shall see yourselves your children dancing hand in hand. you often make merry without have come to you to whom for promises made unto your faith have given but riches power than promise have I given, more generous have you been to me. have given me my deeper thirsting life. there is no greater gift to man that which turns all his aims parching lips all life into 0125] in this lies my honour my whenever I come to fountain drink I find living water itself it drinks me while I drink it. of you have deemed me proud to receive gifts. proud indeed am I to receive wages, not gifts. though I have eaten berries among hills when you would have had me sit your board, slept in portico of temple you would gladly have sheltered me, was it not your loving mindfulness my days my nights that made food to my mouth girdled my sleep visions? this I bless you most: give much know not that you give all.  kindness that upon itself in mirror turns to good deed that calls itself by names becomes parent to some of you have called me aloof, drunk with my own aloneness, you have said, “He holds council trees of forest, but not men. sits alone on hill-tops looks upon our city.” it is that I have climbed hills walked in remote places. could I have seen you save from height or great distance? can one be indeed near unless he be others among you called unto me, not words, they said, stranger, lover of heights, why dwell you among summits where eagles build nests?  seek you storms would you trap in your net, what vaporous birds do you hunt in sky? be one of us. appease your hunger with our quench your thirst with our solitude of their souls they said things; were their solitude deeper they have known that I sought but of your joy your pain, I hunted only your larger selves walk sky. hunter was also hunted; many of my arrows left my bow only seek my own breast. flier was also creeper; when my wings were spread in their shadow upon earth was I believer was also doubter; often have I put my finger my own wound that I might have belief in you greater of you. it is with this belief this that I say, are not enclosed within your bodies, confined to houses or fields. which is you dwells above roves with wind. is not thing that crawls into sun for warmth or digs holes into for safety, thing free, spirit that envelops earth moves in ether. these be vague words, then seek not clear them. nebulous is beginning of things, but not their end, I fain would have you remember me as beginning. all that lives, is conceived mist not in crystal. who knows but crystal is mist decay? would I have you remember in me: which seems most feeble in you is strongest determined. it not your breath that has erected hardened structure of your is it not dream which none of you having dreamt, that builded city fashioned all there is in you but see tides of that you would cease to see all else, if you could hear whispering of dream you would hear no other sound. you do not see, nor do you hear, is well. veil that clouds your eyes shall be by hands that wove it, clay that fills your ears shall pierced by those fingers that kneaded  you shall see. you shall hear. you shall not deplore having known nor regret having been deaf. in that day you shall know purposes in all things, you shall bless darkness as you bless light. saying these things he looked him, he saw pilot of his standing by helm gazing at full sails now at he said: over patient, is captain of ship. wind blows, restless are rudder begs direction; quietly my captain awaits my these my mariners, who have heard choir of greater sea, they too heard me patiently.  they wait no longer. am ready. stream has reached sea, more great mother holds her son her breast. you well, people of Orphalese. day has ended. is closing upon us even as upon its own tomorrow. was given us here we shall keep, if it suffices not, then again must come together together stretch hands unto giver. not that I shall come back to little while, my longing shall dust foam for another body. little while, moment of rest upon wind, another woman shall bear to you youth I have with you. was but yesterday we met in  have sung to me in my I of your longings have tower in sky. now our sleep has fled our dream over, it is no longer dawn. noontide is upon us our half has turned to fuller day, we part. in twilight of memory we should once more, we shall speak again you shall sing to me song. if our hands should meet in another we shall build another tower in sky. saying he made signal to straightway they weighed cast ship loose from its they moved eastward. cry came from people as from heart, it rose into dusk was carried out over sea like trumpeting. Almitra was silent, gazing after ship until it had vanished into mist. when all people were dispersed still stood alone upon sea-wall, in her heart his saying, little while, moment of rest upon wind, another woman shall bear 0134] of Project Gutenberg EBook of The Prophet, by Kahlil Gibran END OF THIS PROJECT GUTENBERG EBOOK THE PROPHET *** This file should be named 58585-0.txt or 58585-0.zip ***** all associated files of various formats will be found in:        http://www.gutenberg.org/5/8/5/8/58585/ by David Widger from page images generously by Internet Archive editions will replace previous one--the old editions will renamed. works from print editions not protected by U.S. copyright means that no one owns United States copyright in these works, Foundation (and you!) can copy distribute it in United without permission without paying copyright Special rules, set forth in General Terms of Use part this license, apply to copying distributing Project electronic works to protect PROJECT GUTENBERG-tm trademark. Project Gutenberg is registered trademark, may not be used if you charge for eBooks, unless you receive permission. If you do not charge anything for copies of this complying with rules is very easy. You may use this eBook nearly any purpose such as creation of derivative works, reports, research. They may be modified printed given may do practically ANYTHING in United States with eBooks protected by U.S. copyright law. Redistribution is subject to license, especially commercial redistribution. FULL LICENSE FULL PROJECT GUTENBERG LICENSE READ THIS BEFORE YOU DISTRIBUTE OR USE THIS WORK protect Project Gutenberg-tm mission of promoting free of electronic works, by using or distributing this work any other work associated in any way with phrase \"Project you agree to comply with all terms of Full Gutenberg-tm License available with this file or online at 1. General Terms of Use Redistributing Project electronic works By reading or using any part of this Project Gutenberg-tm work, you indicate that you have read, understand, agree to accept all terms of this license intellectual property agreement. If you do not agree to abide by all terms of this agreement, you must cease using return or all copies of Project Gutenberg-tm electronic works in your If you paid fee for obtaining copy of or access to Gutenberg-tm electronic work you do not agree to be bound terms of this agreement, you may obtain refund from or entity to whom you paid fee as set forth in paragraph \"Project Gutenberg\" is registered trademark. It may only be on or associated in any way with electronic work by people who to be bound by terms of this agreement. There are few that you can do with most Project Gutenberg-tm electronic works without complying with full terms of this agreement. See 1.C below. There are lot of things you can do with Project electronic works if you follow terms of this help preserve free future access to Project Gutenberg-tm works. See paragraph 1.E below. The Project Gutenberg Literary Archive Foundation (\"the or PGLAF), owns compilation copyright in collection Project Gutenberg-tm electronic works. Nearly all individual in collection are in public domain in United If individual work is unprotected by copyright law in States you are located in United States, we do not right to prevent you from copying, distributing, performing, or creating derivative works based on work as long as references to Project Gutenberg are removed. Of course, we hope you will support Project Gutenberg-tm mission of promoting access to electronic works by freely sharing Project Gutenberg-tm in compliance with terms of this agreement for keeping Gutenberg-tm name associated with work. You can easily with terms of this agreement by keeping this work in format with its attached full Project Gutenberg-tm License when share it without charge with others. The copyright laws of place where you are located also govern you can do with this work. Copyright laws in most countries are constant state of change. If you are outside United States, laws of your country in addition to terms of this before downloading, copying, displaying, performing, or creating derivative works based on this work or any Project Gutenberg-tm work. The Foundation makes no concerning copyright status of any work in any outside United States. Unless you have removed all references to Project Gutenberg: The following sentence, with active links to, or other access to, full Project Gutenberg-tm License must appear whenever any copy of Project Gutenberg-tm work (any work which phrase \"Project Gutenberg\" appears, or with which \"Project Gutenberg\" is associated) is accessed, displayed, viewed, copied or distributed:  This eBook is for use of anyone anywhere in United States  most other parts of world at no cost with almost no  restrictions whatsoever. You may copy it, give it away or re-use it  under terms of Project Gutenberg License included with this  eBook or online at www.gutenberg.org. If you are not located in  United States, you\\'ll have to check laws of country where you  are located before using this ebook. If individual Project Gutenberg-tm electronic work is from texts not protected by U.S. copyright law (does not notice indicating that it is posted with permission of holder), work can be copied distributed to anyone in United States without paying any fees or charges. If you are or providing access to work with phrase \"Project associated with or appearing on work, you must comply with requirements of paragraphs 1.E.1 through 1.E.7 or permission for use of work Project Gutenberg-tm as set forth in paragraphs 1.E.8 or 1.E.9. If individual Project Gutenberg-tm electronic work is posted permission of copyright holder, your use distribution comply with both paragraphs 1.E.1 through 1.E.7 any terms imposed by copyright holder. Additional terms be linked to Project Gutenberg-tm License for all works with permission of copyright holder found at of this work. Do not unlink or detach or remove full Project Gutenberg-tm terms from this work, or any files containing part of this or any other work associated with Project Gutenberg-tm. Do not copy, display, perform, distribute or redistribute this work, or any part of this electronic work, without displaying sentence set forth in paragraph 1.E.1 with links or immediate access to full terms of Project License. You may convert to distribute this work in any binary, marked up, nonproprietary or proprietary form, including word processing or hypertext form. However, if you provide access or distribute copies of Project Gutenberg-tm work in format than \"Plain Vanilla ASCII\" or other format used in official posted on official Project Gutenberg-tm web site you must, at no additional cost, fee or expense user, provide copy, means of exporting copy, or means obtaining copy upon request, of work in its original \"Plain ASCII\" or other form. Any alternate format must include Project Gutenberg-tm License as specified in paragraph 1.E.1. Do not charge fee for access to, viewing, displaying, copying or distributing any Project Gutenberg-tm works you comply with paragraph 1.E.8 or 1.E.9. You may charge reasonable fee for copies of or providing to or distributing Project Gutenberg-tm electronic works that You pay royalty fee of 20% of gross profits you derive from  use of Project Gutenberg-tm works calculated using method  you already use to calculate your applicable taxes. The fee is owed  to owner of Project Gutenberg-tm trademark, but he has  agreed to donate royalties under this paragraph to Project  Gutenberg Literary Archive Foundation. Royalty payments must be paid  within 60 days following each date on which you prepare (or are  legally required to prepare) your periodic tax returns. Royalty  payments should be clearly marked as such sent to Project  Gutenberg Literary Archive Foundation at address specified in  Section 4, \"Information about donations to Project Gutenberg  Literary Archive Foundation.\" You provide full refund of any money paid by user who notifies  you in writing (or by e-mail) within 30 days of receipt that s/he  does not agree to terms of full Project Gutenberg-tm  License. You must require such user to return or destroy all  copies of works possessed in physical medium discontinue  all use of all access to other copies of Project Gutenberg-tm  works. You provide, in accordance with paragraph 1.F.3, full refund of  any money paid for work or replacement copy, if defect in  electronic work is discovered reported to you within 90 days of  receipt of work. You comply with all other terms of this agreement for free  distribution of Project Gutenberg-tm works. If you wish to charge fee or distribute Project electronic work or group of works on different terms than set forth in this agreement, you must obtain permission in writing both Project Gutenberg Literary Archive Foundation The Gutenberg Trademark LLC, owner of Project Gutenberg-tm Contact Foundation as set forth in Section 3 below. Project Gutenberg volunteers employees expend considerable to identify, do copyright research on, transcribe proofread not protected by U.S. copyright law in creating Project collection. Despite these efforts, Project Gutenberg-tm works, medium on which they may be stored, may \"Defects,\" such as, but not limited to, incomplete, inaccurate corrupt data, transcription errors, copyright or other property infringement, defective or damaged disk or medium, computer virus, or computer codes that damage or be read by your equipment. LIMITED WARRANTY, DISCLAIMER OF DAMAGES - Except for \"Right Replacement or Refund\" described in paragraph 1.F.3, Project Literary Archive Foundation, owner of Project trademark, any other party distributing Project electronic work under this agreement, disclaim all to you for damages, costs expenses, including legal YOU AGREE THAT YOU HAVE NO REMEDIES FOR NEGLIGENCE, STRICT BREACH OF WARRANTY OR BREACH OF CONTRACT EXCEPT THOSE IN PARAGRAPH 1.F.3. YOU AGREE THAT THE FOUNDATION, THE OWNER, AND ANY DISTRIBUTOR UNDER THIS AGREEMENT WILL NOT BE TO YOU FOR ACTUAL, DIRECT, INDIRECT, CONSEQUENTIAL, PUNITIVE OR DAMAGES EVEN IF YOU GIVE NOTICE OF THE POSSIBILITY OF SUCH LIMITED RIGHT OF REPLACEMENT OR REFUND - If you discover in this electronic work within 90 days of receiving it, you can refund of money (if any) you paid for it by sending explanation to person you received work from. If you work on physical medium, you must return medium your written explanation. The person or entity that provided you defective work may elect to provide replacement copy in of refund. If you received work electronically, person entity providing it to you may choose to give you second to receive work electronically in lieu of refund. If second copy is also defective, you may demand refund in writing further opportunities to fix problem. Except for limited right of replacement or refund set forth paragraph 1.F.3, this work is provided to you \\'AS-IS\\', WITH NO WARRANTIES OF ANY KIND, EXPRESS OR IMPLIED, INCLUDING BUT NOT TO WARRANTIES OF MERCHANTABILITY OR FITNESS FOR ANY PURPOSE. Some states do not allow disclaimers of certain implied or exclusion or limitation of certain types of If any disclaimer or limitation set forth in this agreement law of state applicable to this agreement, shall be interpreted to make maximum disclaimer or permitted by applicable state law. The invalidity or of any provision of this agreement shall not void provisions. INDEMNITY - You agree to indemnify hold Foundation, owner, any agent or employee of Foundation, anyone copies of Project Gutenberg-tm electronic works in with this agreement, any volunteers associated with promotion distribution of Project Gutenberg-tm works, harmless from all liability, costs expenses, legal fees, that arise directly or indirectly from any of following which you do or cause to occur: (a) distribution of this any Project Gutenberg-tm work, (b) alteration, modification, or or deletions to any Project Gutenberg-tm work, (c) any you cause. 2. Information about Mission of Project Gutenberg-tm Gutenberg-tm is synonymous with free distribution of works in formats readable by widest variety of including obsolete, old, middle-aged new computers. It because of efforts of hundreds of volunteers donations people in all walks of life. financial support to provide volunteers with they need are critical to reaching Project Gutenberg-tm\\'s ensuring that Project Gutenberg-tm collection will freely available for generations to come. In 2001, Project Literary Archive Foundation was created to provide secure permanent future for Project Gutenberg-tm future To learn more about Project Gutenberg Literary Foundation how your efforts donations can help, see 3 4 Foundation information page at Section 3. Information about Project Gutenberg Archive Foundation Project Gutenberg Literary Archive Foundation is non profit educational corporation organized under laws of of Mississippi granted tax exempt status by Internal Service. The Foundation\\'s EIN or federal tax identification is 64-6221541. Contributions to Project Gutenberg Literary Foundation are tax deductible to full extent permitted by federal laws your state\\'s laws. Foundation\\'s principal office is in Fairbanks, Alaska, with address: PO Box 750175, Fairbanks, AK 99775, but its employees are scattered throughout numerous Its business office is located at 809 North 1500 West, Salt City, UT 84116, (801) 596-1887. Email contact links up to contact information can be found at Foundation\\'s web site page at www.gutenberg.org/contact additional contact information:    Dr. Gregory B. Newby    Chief Executive Director    gbnewby@pglaf.org 4. Information about Donations to Project Gutenberg Archive Foundation Gutenberg-tm depends upon cannot survive without wide public support donations to carry out its mission of number of public domain licensed works that can be distributed in machine readable form accessible by widest of equipment including outdated equipment. Many small donations to $5,000) are particularly important to maintaining tax exempt with IRS. Foundation is committed to complying with laws regulating charitable donations in all 50 states of United Compliance requirements are not uniform it takes effort, much paperwork many fees to meet keep up these requirements. We do not solicit donations in locations we have not received written confirmation of compliance. To SEND or determine status of compliance for any particular visit www.gutenberg.org/donate we cannot do not solicit contributions from states where we not met solicitation requirements, we know of no prohibition accepting unsolicited donations from donors in such states who us with offers to donate. donations are gratefully accepted, but we cannot make statements concerning tax treatment of donations received from United States. U.S. laws alone swamp our small staff. check Project Gutenberg Web pages for current donation addresses. Donations are accepted in number of other including checks, online payments credit card donations. To please visit: www.gutenberg.org/donate 5. General Information About Project Gutenberg-tm electronic works. Michael S. Hart was originator of Project concept of library of electronic works that could be shared with anyone. For forty years, he produced Project Gutenberg-tm eBooks with only loose network of support. Gutenberg-tm eBooks are often created from several printed all of which are confirmed as not protected by copyright in U.S. unless copyright notice is included. Thus, we do not keep eBooks in compliance with any particular paper people start at our Web site which has main PG search www.gutenberg.org Web site includes information about Project Gutenberg-tm, how to make donations to Project Gutenberg Literary Foundation, how to help produce our new eBooks, how to to our email newsletter to hear about new eBooks.'"
      ]
     },
     "execution_count": 223,
     "metadata": {},
     "output_type": "execute_result"
    }
   ],
   "source": [
    "prophet_string = reduce(concat_space, prophet_filter)\n",
    "prophet_string"
   ]
  },
  {
   "cell_type": "markdown",
   "metadata": {},
   "source": [
    "# Challenge 4 - Applying Functions to DataFrames\n",
    "\n",
    "#### Our next step is to use the apply function to a dataframe and transform all cells.\n",
    "\n",
    "To do this, we will connect to Ironhack's database and retrieve the data from the *pollution* database. Select the *beijing_pollution* table and retrieve its data."
   ]
  },
  {
   "cell_type": "code",
   "execution_count": 207,
   "metadata": {},
   "outputs": [],
   "source": [
    "pollution_df = pd.read_csv(\"../data/PRSA.csv\")"
   ]
  },
  {
   "cell_type": "markdown",
   "metadata": {},
   "source": [
    "Let's look at the data using the `head()` function."
   ]
  },
  {
   "cell_type": "code",
   "execution_count": 208,
   "metadata": {},
   "outputs": [
    {
     "data": {
      "text/html": [
       "<div>\n",
       "<style scoped>\n",
       "    .dataframe tbody tr th:only-of-type {\n",
       "        vertical-align: middle;\n",
       "    }\n",
       "\n",
       "    .dataframe tbody tr th {\n",
       "        vertical-align: top;\n",
       "    }\n",
       "\n",
       "    .dataframe thead th {\n",
       "        text-align: right;\n",
       "    }\n",
       "</style>\n",
       "<table border=\"1\" class=\"dataframe\">\n",
       "  <thead>\n",
       "    <tr style=\"text-align: right;\">\n",
       "      <th></th>\n",
       "      <th>No</th>\n",
       "      <th>year</th>\n",
       "      <th>month</th>\n",
       "      <th>day</th>\n",
       "      <th>hour</th>\n",
       "      <th>pm2.5</th>\n",
       "      <th>DEWP</th>\n",
       "      <th>TEMP</th>\n",
       "      <th>PRES</th>\n",
       "      <th>cbwd</th>\n",
       "      <th>Iws</th>\n",
       "      <th>Is</th>\n",
       "      <th>Ir</th>\n",
       "    </tr>\n",
       "  </thead>\n",
       "  <tbody>\n",
       "    <tr>\n",
       "      <th>0</th>\n",
       "      <td>1</td>\n",
       "      <td>2010</td>\n",
       "      <td>1</td>\n",
       "      <td>1</td>\n",
       "      <td>0</td>\n",
       "      <td>NaN</td>\n",
       "      <td>-21</td>\n",
       "      <td>-11.0</td>\n",
       "      <td>1021.0</td>\n",
       "      <td>NW</td>\n",
       "      <td>1.79</td>\n",
       "      <td>0</td>\n",
       "      <td>0</td>\n",
       "    </tr>\n",
       "    <tr>\n",
       "      <th>1</th>\n",
       "      <td>2</td>\n",
       "      <td>2010</td>\n",
       "      <td>1</td>\n",
       "      <td>1</td>\n",
       "      <td>1</td>\n",
       "      <td>NaN</td>\n",
       "      <td>-21</td>\n",
       "      <td>-12.0</td>\n",
       "      <td>1020.0</td>\n",
       "      <td>NW</td>\n",
       "      <td>4.92</td>\n",
       "      <td>0</td>\n",
       "      <td>0</td>\n",
       "    </tr>\n",
       "    <tr>\n",
       "      <th>2</th>\n",
       "      <td>3</td>\n",
       "      <td>2010</td>\n",
       "      <td>1</td>\n",
       "      <td>1</td>\n",
       "      <td>2</td>\n",
       "      <td>NaN</td>\n",
       "      <td>-21</td>\n",
       "      <td>-11.0</td>\n",
       "      <td>1019.0</td>\n",
       "      <td>NW</td>\n",
       "      <td>6.71</td>\n",
       "      <td>0</td>\n",
       "      <td>0</td>\n",
       "    </tr>\n",
       "    <tr>\n",
       "      <th>3</th>\n",
       "      <td>4</td>\n",
       "      <td>2010</td>\n",
       "      <td>1</td>\n",
       "      <td>1</td>\n",
       "      <td>3</td>\n",
       "      <td>NaN</td>\n",
       "      <td>-21</td>\n",
       "      <td>-14.0</td>\n",
       "      <td>1019.0</td>\n",
       "      <td>NW</td>\n",
       "      <td>9.84</td>\n",
       "      <td>0</td>\n",
       "      <td>0</td>\n",
       "    </tr>\n",
       "    <tr>\n",
       "      <th>4</th>\n",
       "      <td>5</td>\n",
       "      <td>2010</td>\n",
       "      <td>1</td>\n",
       "      <td>1</td>\n",
       "      <td>4</td>\n",
       "      <td>NaN</td>\n",
       "      <td>-20</td>\n",
       "      <td>-12.0</td>\n",
       "      <td>1018.0</td>\n",
       "      <td>NW</td>\n",
       "      <td>12.97</td>\n",
       "      <td>0</td>\n",
       "      <td>0</td>\n",
       "    </tr>\n",
       "  </tbody>\n",
       "</table>\n",
       "</div>"
      ],
      "text/plain": [
       "   No  year  month  day  hour  pm2.5  DEWP  TEMP    PRES cbwd    Iws  Is  Ir\n",
       "0   1  2010      1    1     0    NaN   -21 -11.0  1021.0   NW   1.79   0   0\n",
       "1   2  2010      1    1     1    NaN   -21 -12.0  1020.0   NW   4.92   0   0\n",
       "2   3  2010      1    1     2    NaN   -21 -11.0  1019.0   NW   6.71   0   0\n",
       "3   4  2010      1    1     3    NaN   -21 -14.0  1019.0   NW   9.84   0   0\n",
       "4   5  2010      1    1     4    NaN   -20 -12.0  1018.0   NW  12.97   0   0"
      ]
     },
     "execution_count": 208,
     "metadata": {},
     "output_type": "execute_result"
    }
   ],
   "source": [
    "pollution_df.head()"
   ]
  },
  {
   "cell_type": "markdown",
   "metadata": {},
   "source": [
    "The next step is to create a function that divides a cell by 24 to produce an hourly figure. Write the function below."
   ]
  },
  {
   "cell_type": "code",
   "execution_count": 212,
   "metadata": {},
   "outputs": [],
   "source": [
    "def hourly(x):\n",
    "    '''\n",
    "    Input: A numerical value\n",
    "    Output: The value divided by 24\n",
    "        \n",
    "    Example:\n",
    "    Input: 48\n",
    "    Output: 2.0\n",
    "    '''\n",
    "    \n",
    "    # your code here\n",
    "    return x / 24"
   ]
  },
  {
   "cell_type": "markdown",
   "metadata": {},
   "source": [
    "    Apply this function to the columns `Iws`, `Is`, and `Ir`. Store this new dataframe in the variable ``."
   ]
  },
  {
   "cell_type": "code",
   "execution_count": 213,
   "metadata": {},
   "outputs": [
    {
     "data": {
      "text/html": [
       "<div>\n",
       "<style scoped>\n",
       "    .dataframe tbody tr th:only-of-type {\n",
       "        vertical-align: middle;\n",
       "    }\n",
       "\n",
       "    .dataframe tbody tr th {\n",
       "        vertical-align: top;\n",
       "    }\n",
       "\n",
       "    .dataframe thead th {\n",
       "        text-align: right;\n",
       "    }\n",
       "</style>\n",
       "<table border=\"1\" class=\"dataframe\">\n",
       "  <thead>\n",
       "    <tr style=\"text-align: right;\">\n",
       "      <th></th>\n",
       "      <th>Iws</th>\n",
       "      <th>Is</th>\n",
       "      <th>Ir</th>\n",
       "    </tr>\n",
       "  </thead>\n",
       "  <tbody>\n",
       "    <tr>\n",
       "      <th>0</th>\n",
       "      <td>0.074583</td>\n",
       "      <td>0.0</td>\n",
       "      <td>0.0</td>\n",
       "    </tr>\n",
       "    <tr>\n",
       "      <th>1</th>\n",
       "      <td>0.205000</td>\n",
       "      <td>0.0</td>\n",
       "      <td>0.0</td>\n",
       "    </tr>\n",
       "    <tr>\n",
       "      <th>2</th>\n",
       "      <td>0.279583</td>\n",
       "      <td>0.0</td>\n",
       "      <td>0.0</td>\n",
       "    </tr>\n",
       "    <tr>\n",
       "      <th>3</th>\n",
       "      <td>0.410000</td>\n",
       "      <td>0.0</td>\n",
       "      <td>0.0</td>\n",
       "    </tr>\n",
       "    <tr>\n",
       "      <th>4</th>\n",
       "      <td>0.540417</td>\n",
       "      <td>0.0</td>\n",
       "      <td>0.0</td>\n",
       "    </tr>\n",
       "    <tr>\n",
       "      <th>...</th>\n",
       "      <td>...</td>\n",
       "      <td>...</td>\n",
       "      <td>...</td>\n",
       "    </tr>\n",
       "    <tr>\n",
       "      <th>43819</th>\n",
       "      <td>9.665417</td>\n",
       "      <td>0.0</td>\n",
       "      <td>0.0</td>\n",
       "    </tr>\n",
       "    <tr>\n",
       "      <th>43820</th>\n",
       "      <td>9.907500</td>\n",
       "      <td>0.0</td>\n",
       "      <td>0.0</td>\n",
       "    </tr>\n",
       "    <tr>\n",
       "      <th>43821</th>\n",
       "      <td>10.112500</td>\n",
       "      <td>0.0</td>\n",
       "      <td>0.0</td>\n",
       "    </tr>\n",
       "    <tr>\n",
       "      <th>43822</th>\n",
       "      <td>10.280000</td>\n",
       "      <td>0.0</td>\n",
       "      <td>0.0</td>\n",
       "    </tr>\n",
       "    <tr>\n",
       "      <th>43823</th>\n",
       "      <td>10.410417</td>\n",
       "      <td>0.0</td>\n",
       "      <td>0.0</td>\n",
       "    </tr>\n",
       "  </tbody>\n",
       "</table>\n",
       "<p>43824 rows × 3 columns</p>\n",
       "</div>"
      ],
      "text/plain": [
       "             Iws   Is   Ir\n",
       "0       0.074583  0.0  0.0\n",
       "1       0.205000  0.0  0.0\n",
       "2       0.279583  0.0  0.0\n",
       "3       0.410000  0.0  0.0\n",
       "4       0.540417  0.0  0.0\n",
       "...          ...  ...  ...\n",
       "43819   9.665417  0.0  0.0\n",
       "43820   9.907500  0.0  0.0\n",
       "43821  10.112500  0.0  0.0\n",
       "43822  10.280000  0.0  0.0\n",
       "43823  10.410417  0.0  0.0\n",
       "\n",
       "[43824 rows x 3 columns]"
      ]
     },
     "execution_count": 213,
     "metadata": {},
     "output_type": "execute_result"
    }
   ],
   "source": [
    "pm25_hourly = pollution_df[[\"Iws\", \"Is\", \"Ir\"]].apply(hourly)\n",
    "pm25_hourly"
   ]
  },
  {
   "cell_type": "markdown",
   "metadata": {},
   "source": [
    "#### Our last challenge will be to create an aggregate function and apply it to a select group of columns in our dataframe.\n",
    "\n",
    "Write a function that returns the standard deviation of a column divided by the length of a column minus 1. Since we are using pandas, do not use the `len()` function. One alternative is to use `count()`. Also, use the numpy version of standard deviation."
   ]
  },
  {
   "cell_type": "code",
   "execution_count": 265,
   "metadata": {},
   "outputs": [],
   "source": [
    "def sample_sd(x):\n",
    "    '''\n",
    "    Input: A Pandas series of values\n",
    "    Output: the standard deviation divided by the number of elements in the series\n",
    "        \n",
    "    Example:\n",
    "    Input: pd.Series([1,2,3,4])\n",
    "    Output: 0.3726779962\n",
    "    '''\n",
    "    return np.std(x) / (x.count()-1)\n",
    "\n"
   ]
  },
  {
   "cell_type": "code",
   "execution_count": 267,
   "metadata": {},
   "outputs": [
    {
     "data": {
      "text/plain": [
       "0.37267799624996495"
      ]
     },
     "execution_count": 267,
     "metadata": {},
     "output_type": "execute_result"
    }
   ],
   "source": [
    "sample_sd(pd.Series([1,2,3,4]))"
   ]
  },
  {
   "cell_type": "code",
   "execution_count": 269,
   "metadata": {},
   "outputs": [
    {
     "data": {
      "text/plain": [
       "TEMP    0.000278\n",
       "Iws     0.001141\n",
       "dtype: float64"
      ]
     },
     "execution_count": 269,
     "metadata": {},
     "output_type": "execute_result"
    }
   ],
   "source": [
    "standard_d2 = pollution_df[['TEMP','Iws']].apply(sample_sd)\n",
    "standard_d2"
   ]
  },
  {
   "cell_type": "code",
   "execution_count": null,
   "metadata": {},
   "outputs": [],
   "source": []
  },
  {
   "cell_type": "code",
   "execution_count": null,
   "metadata": {},
   "outputs": [],
   "source": []
  }
 ],
 "metadata": {
  "kernelspec": {
   "display_name": "Python 3",
   "language": "python",
   "name": "python3"
  },
  "language_info": {
   "codemirror_mode": {
    "name": "ipython",
    "version": 3
   },
   "file_extension": ".py",
   "mimetype": "text/x-python",
   "name": "python",
   "nbconvert_exporter": "python",
   "pygments_lexer": "ipython3",
   "version": "3.8.5"
  }
 },
 "nbformat": 4,
 "nbformat_minor": 4
}
