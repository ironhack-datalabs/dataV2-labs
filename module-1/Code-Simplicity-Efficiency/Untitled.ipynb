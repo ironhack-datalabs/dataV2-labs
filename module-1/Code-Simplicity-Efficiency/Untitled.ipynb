{
 "cells": [
  {
   "cell_type": "code",
   "execution_count": null,
   "metadata": {},
   "outputs": [],
   "source": [
    "import random\n",
    "import string\n",
    "\n",
    "def RandomStringGenerator(length):\n",
    "    \"\"\"Générer une chaîne aléatoire de longueur fixe\"\"\"\n",
    "    liste_nombre = string.ascii_lowercase + string.digits\n",
    "    return ''.join([random.choice(liste_nombre) for i in range(length)])\n",
    "\n",
    "def BatchStringGenerator(n, a, b):\n",
    "    return [RandomStringGenerator(random.choice(range(a,b))) for i in range(n)]\n",
    "\n",
    "while True:\n",
    "    a = int(input('Enter minimum string length: '))\n",
    "    b = int(input('Enter maximum string length: '))\n",
    "    n = int(input('How many random strings to generate? '))\n",
    "    if b >= a:\n",
    "        break\n",
    "    else:\n",
    "        print(\"Error, maximum string length must be superior to minimum string length\")\n",
    "\n",
    "\n",
    "print(BatchStringGenerator(n, a, b))\n"
   ]
  },
  {
   "cell_type": "code",
   "execution_count": null,
   "metadata": {},
   "outputs": [],
   "source": [
    "def password_validation(password):\n",
    "    "
   ]
  }
 ],
 "metadata": {
  "kernelspec": {
   "display_name": "Python 3",
   "language": "python",
   "name": "python3"
  },
  "language_info": {
   "codemirror_mode": {
    "name": "ipython",
    "version": 3
   },
   "file_extension": ".py",
   "mimetype": "text/x-python",
   "name": "python",
   "nbconvert_exporter": "python",
   "pygments_lexer": "ipython3",
   "version": "3.8.5"
  }
 },
 "nbformat": 4,
 "nbformat_minor": 4
}
