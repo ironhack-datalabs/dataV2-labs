{
 "cells": [
  {
   "cell_type": "code",
   "execution_count": 24,
   "metadata": {},
   "outputs": [
    {
     "name": "stdout",
     "output_type": "stream",
     "text": [
      "Welcome to this calculator!\n",
      "It can add and subtract whole numbers from zero to five\n",
      "Please choose your first number (zero to five): one\n",
      "What do you want to do? plus or minus: minus\n",
      "Please choose your second number (zero to five): two\n",
      "one   minus   two  equals 'negative one'\n",
      "Thanks for using this calculator, goodbye :)\n"
     ]
    }
   ],
   "source": [
    "numbers = {\"negative five\":-5,\"negative four\":-4,\"negative three\":-3,\"negative two\":-2,\"negative one\":-1,\\\n",
    "           \"zero\":0,\"one\":1,\"two\":2,\"three\":3,\"four\":4,\"five\":5,\"six\":6,\"seven\":7,\"eight\":8,\"nine\":9,\"ten\":10}\n",
    "\n",
    "print('Welcome to this calculator!')\n",
    "print('It can add and subtract whole numbers from zero to five')\n",
    "first_number = input('Please choose your first number (zero to five): ')\n",
    "operation = input('What do you want to do? plus or minus: ')\n",
    "second_number = input('Please choose your second number (zero to five): ')\n",
    "\n",
    "def translator(number):\n",
    "    return numbers[number]\n",
    "\n",
    "def solution(number):\n",
    "    return str([key for key, v in numbers.items() if v == number ]).strip('[]')\n",
    "\n",
    "if operation == \"plus\":\n",
    "    print(first_number,operation,second_number,\" equals\", solution(translator(first_number) + translator(second_number)))\n",
    "elif operation == \"minus\":\n",
    "    print(first_number,\" \",operation,\" \",second_number,\" equals\", solution(translator(first_number) - translator(second_number)))\n",
    "else:\n",
    "    print(\"I am not able to answer this question. Check your input.\")\n",
    "\n",
    "\n",
    "print(\"Thanks for using this calculator, goodbye :)\")"
   ]
  }
 ],
 "metadata": {
  "kernelspec": {
   "display_name": "Python 3",
   "language": "python",
   "name": "python3"
  }
 },
 "nbformat": 4,
 "nbformat_minor": 2
}
