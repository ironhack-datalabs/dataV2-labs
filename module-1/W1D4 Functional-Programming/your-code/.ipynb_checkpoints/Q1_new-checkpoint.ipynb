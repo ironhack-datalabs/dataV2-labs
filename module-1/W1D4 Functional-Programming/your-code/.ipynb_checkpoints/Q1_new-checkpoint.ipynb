{
 "cells": [
  {
   "cell_type": "markdown",
   "metadata": {},
   "source": [
    "In the cell below, create a Python function that creates a Bag of Words.\n",
    "\n",
    "Requirements:\n",
    "\n",
    "1. Your function should accept the following parameters:\n",
    "    * `corpus` [REQUIRED] - list of strings.\n",
    "    * `stop_words` [OPTIONAL] - array of stop words. The default value is an empty array.\n",
    "\n",
    "1. Your function should return a Python object that contains the following:\n",
    "    * `bag_of_words` - array of strings of normalized unique words in the corpus.\n",
    "    * `term_freq` - array of the term-frequency vectors."
   ]
  },
  {
   "cell_type": "code",
   "execution_count": 1,
   "metadata": {},
   "outputs": [],
   "source": [
    "# Import required libraries\n",
    "import re\n",
    "\n",
    "# Define function\n",
    "def get_bow_from_docs(corpus, stop_words=[]):\n",
    "    \n",
    "    # In the function, first define the variables you will use such as `corpus`, `bag_of_words`, and `term_freq`.\n",
    "\n",
    "    bag_of_words = []\n",
    "    term_freq = []\n",
    "    clean_corpus = []\n",
    "\n",
    "    \"\"\"\n",
    "    Convert corpus to lowercases and remove punctuation.\n",
    "    \"\"\"\n",
    "    # creating the bag_in_words list (cleaned):\n",
    "    for text in corpus:    \n",
    "        text2 = re.sub('\\W', ' ', text)\n",
    "        text3 = text2.lower()\n",
    "        clean_corpus.append(text3)\n",
    "        text4 = text3.split()\n",
    "        for word in text4:\n",
    "            if word in stop_words:\n",
    "                pass\n",
    "            elif word not in bag_of_words:\n",
    "                bag_of_words.append(word) \n",
    "   \n",
    "    # creating the term_freq lists:\n",
    "    term_freq = [[0 for i in range(len(bag_of_words))] for j in range(3)]\n",
    "     \n",
    "    # filling the term_freq lists:\n",
    "    for string in clean_corpus:\n",
    "        words = string.split()\n",
    "        for word in words:\n",
    "            if word in bag_of_words:\n",
    "                term_freq[clean_corpus.index(string)][bag_of_words.index(word)] += 1\n",
    "\n",
    "            \n",
    "    \n",
    "    \"\"\"\n",
    "    Loop `corpus`. Append the individual words in each doc into the `bag_of_words` array. The terms in `bag_of_words` \n",
    "    should be unique which means before adding each term you need to check if it's already added to the array.\n",
    "    In addition, check if each term is in the `stop_words` array. Only append the term to `bag_of_words`\n",
    "    if it is not a stop word.\n",
    "    \"\"\"\n",
    "\n",
    "\n",
    "    \n",
    "    \n",
    "    \"\"\"\n",
    "    Loop `corpus` again. For each doc string, count the number of occurrences of each term in `bag_of_words`. \n",
    "    Create an array for each doc's term frequency and append it to `term_freq`.\n",
    "    \"\"\"\n",
    "\n",
    "    \n",
    "    \n",
    "    # Now return your output as an object\n",
    "    return {\n",
    "        \"bag_of_words\": bag_of_words,\n",
    "        \"term_freq\": term_freq\n",
    "    }\n",
    "    "
   ]
  },
  {
   "cell_type": "markdown",
   "metadata": {},
   "source": [
    "Test your function without stop words. You should see the output like below:\n",
    "\n",
    "```{'bag_of_words': ['ironhack', 'is', 'cool', 'i', 'love', 'am', 'a', 'student', 'at'], 'term_freq': [[1, 1, 1, 0, 0, 0, 0, 0, 0], [1, 0, 0, 1, 1, 0, 0, 0, 0], [1, 0, 0, 1, 0, 1, 1, 1, 1]]}```"
   ]
  },
  {
   "cell_type": "code",
   "execution_count": 2,
   "metadata": {},
   "outputs": [
    {
     "name": "stdout",
     "output_type": "stream",
     "text": [
      "{'bag_of_words': ['ironhack', 'is', 'cool', 'i', 'love', 'am', 'a', 'student', 'at'], 'term_freq': [[1, 1, 1, 0, 0, 0, 0, 0, 0], [1, 0, 0, 1, 1, 0, 0, 0, 0], [1, 0, 0, 1, 0, 1, 1, 1, 1]]}\n"
     ]
    }
   ],
   "source": [
    "# Define the corpus list\n",
    "a_corpus = ['Ironhack is Cool!', 'I love Ironhack', 'I am a student at Ironhack.']\n",
    "\n",
    "# Obtain BoW from your function\n",
    "bow = get_bow_from_docs(a_corpus)\n",
    "\n",
    "# Print BoW\n",
    "print(bow)"
   ]
  },
  {
   "cell_type": "markdown",
   "metadata": {},
   "source": [
    "If your attempt above is successful, nice work done!\n",
    "\n",
    "Now test your function again with the stop words. In the previous lab we defined the stop words in a large array. In this lab, we'll import the stop words from Scikit-Learn."
   ]
  },
  {
   "cell_type": "code",
   "execution_count": 3,
   "metadata": {},
   "outputs": [
    {
     "name": "stdout",
     "output_type": "stream",
     "text": [
      "frozenset({'de', 'amoungst', 'anywhere', 'becoming', 'whenever', 'top', 'she', 'everyone', 'everywhere', 'my', 'beside', 'forty', 'give', 'name', 'during', 'so', 'for', 'those', 'thus', 'them', 'thereupon', 'however', 'un', 'towards', 'next', 'somehow', 'were', 'nothing', 'with', 'if', 'throughout', 'serious', 'ten', 'wherein', 'his', 'although', 'latterly', 'first', 'again', 'ie', 'except', 'front', 'until', 'seeming', 'he', 'on', 'fifteen', 'before', 'which', 'mine', 'where', 'noone', 'is', 'whence', 'eg', 'three', 'find', 'toward', 'via', 'it', 'put', 'will', 'enough', 'herein', 'around', 'part', 'co', 'also', 'behind', 'hereby', 'ours', 'same', 'though', 'hereupon', 'have', 'through', 'still', 'less', 'a', 'could', 'then', 'be', 'by', 'ourselves', 'due', 'when', 'made', 'but', 'alone', 'nor', 'we', 'now', 'must', 'others', 'therein', 'eleven', 'our', 'found', 'sixty', 'an', 'herself', 'of', 'yours', 'nevertheless', 'ever', 'off', 're', 'onto', 'these', 'once', 'had', 'other', 'whether', 'least', 'amount', 'without', 'much', 'what', 'can', 'the', 'almost', 'than', 'whose', 'every', 'should', 'often', 'call', 'along', 'cant', 'was', 'too', 'back', 'beyond', 'yourselves', 'and', 'none', 'her', 'many', 'within', 'side', 'into', 'inc', 'well', 'hundred', 'that', 'while', 'fill', 'twelve', 'detail', 'hers', 'eight', 'from', 'please', 'twenty', 'get', 'couldnt', 'sometime', 'whoever', 'whither', 'both', 'this', 'each', 'keep', 'down', 'thick', 'con', 'four', 'all', 'always', 'something', 'yourself', 'seems', 'in', 'becomes', 'rather', 'whom', 'itself', 'us', 'only', 'thereby', 'how', 'seemed', 'am', 'hereafter', 'former', 'even', 'third', 'indeed', 'thru', 'hasnt', 'may', 'see', 'him', 'out', 'has', 'formerly', 'anything', 'few', 'go', 'do', 'own', 'across', 'more', 'such', 'another', 'perhaps', 'nowhere', 'whole', 'who', 'very', 'cry', 'whatever', 'over', 'yet', 'seem', 'among', 'take', 'namely', 'any', 'amongst', 'above', 'besides', 'six', 'some', 'never', 'nobody', 'its', 'wherever', 'afterwards', 'been', 'anyhow', 'neither', 'most', 'here', 'etc', 'they', 'himself', 'done', 'whereupon', 'not', 'are', 'already', 'against', 'since', 'ltd', 'thence', 'to', 'about', 'being', 'your', 'bill', 'five', 'why', 'thin', 'interest', 'latter', 'several', 'sincere', 'myself', 'thereafter', 'became', 'elsewhere', 'i', 'whereas', 'themselves', 'whereby', 'after', 'beforehand', 'would', 'someone', 'under', 'else', 'mill', 'last', 'moreover', 'as', 'up', 'might', 'otherwise', 'there', 'describe', 'further', 'between', 'move', 'you', 'nine', 'full', 'system', 'per', 'cannot', 'empty', 'two', 'fire', 'whereafter', 'upon', 'either', 'bottom', 'together', 'mostly', 'or', 'their', 'one', 'sometimes', 'anyone', 'below', 'show', 'at', 'because', 'fifty', 'hence', 'no', 'everything', 'therefore', 'become', 'somewhere', 'me', 'anyway', 'meanwhile'})\n"
     ]
    }
   ],
   "source": [
    "from sklearn.feature_extraction import stop_words\n",
    "print(stop_words.ENGLISH_STOP_WORDS)"
   ]
  },
  {
   "cell_type": "markdown",
   "metadata": {},
   "source": [
    "You should have seen a large list of words that looks like:\n",
    "\n",
    "```frozenset({'across', 'mine', 'cannot', ...})```\n",
    "\n",
    "`frozenset` is a type of Python object that is immutable. In this lab you can use it just like an array (list) without conversion."
   ]
  },
  {
   "cell_type": "markdown",
   "metadata": {},
   "source": [
    "Next, test your function with supplying `stop_words.ENGLISH_STOP_WORDS` as the second parameter."
   ]
  },
  {
   "cell_type": "code",
   "execution_count": 4,
   "metadata": {},
   "outputs": [
    {
     "name": "stdout",
     "output_type": "stream",
     "text": [
      "{'bag_of_words': ['ironhack', 'cool', 'love', 'student'], 'term_freq': [[1, 1, 0, 0], [1, 0, 1, 0], [1, 0, 0, 1]]}\n"
     ]
    }
   ],
   "source": [
    "bow = get_bow_from_docs(a_corpus, stop_words.ENGLISH_STOP_WORDS)\n",
    "\n",
    "print(bow)\n"
   ]
  },
  {
   "cell_type": "markdown",
   "metadata": {},
   "source": [
    "You should have seen:\n",
    "\n",
    "```{'bag_of_words': ['ironhack', 'cool', 'love', 'student'], 'term_freq': [[1, 1, 0, 0], [1, 0, 1, 0], [1, 0, 0, 1]]}```"
   ]
  }
 ],
 "metadata": {
  "kernelspec": {
   "display_name": "Python 3",
   "language": "python",
   "name": "python3"
  },
  "language_info": {
   "codemirror_mode": {
    "name": "ipython",
    "version": 3
   },
   "file_extension": ".py",
   "mimetype": "text/x-python",
   "name": "python",
   "nbconvert_exporter": "python",
   "pygments_lexer": "ipython3",
   "version": "3.7.4"
  }
 },
 "nbformat": 4,
 "nbformat_minor": 2
}
