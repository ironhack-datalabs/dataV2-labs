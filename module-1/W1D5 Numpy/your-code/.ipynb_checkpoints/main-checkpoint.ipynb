{
 "cells": [
  {
   "cell_type": "markdown",
   "metadata": {},
   "source": [
    "# Introduction to NumPy\n",
    "\n",
    "\n",
    "#### 1. Import NumPy under the name np."
   ]
  },
  {
   "cell_type": "code",
   "execution_count": 1,
   "metadata": {},
   "outputs": [],
   "source": [
    "# your code here\n",
    "import numpy as np"
   ]
  },
  {
   "cell_type": "markdown",
   "metadata": {},
   "source": [
    "#### 2. Print your NumPy version."
   ]
  },
  {
   "cell_type": "code",
   "execution_count": 2,
   "metadata": {},
   "outputs": [
    {
     "name": "stdout",
     "output_type": "stream",
     "text": [
      "1.17.2\n"
     ]
    }
   ],
   "source": [
    "# your code here\n",
    "print(np.__version__)"
   ]
  },
  {
   "cell_type": "markdown",
   "metadata": {},
   "source": [
    "#### 3. Generate a 2x3x5 3-dimensional array with random values. Assign the array to variable *a*.\n",
    "**Challenge**: there are at least three easy ways that use numpy to generate random arrays. How many ways can you find?"
   ]
  },
  {
   "cell_type": "code",
   "execution_count": 3,
   "metadata": {},
   "outputs": [],
   "source": [
    "# Method 1\n",
    "a = np.random.random((2,3,5))\n",
    "# print(a)"
   ]
  },
  {
   "cell_type": "code",
   "execution_count": 4,
   "metadata": {},
   "outputs": [],
   "source": [
    "# Method 2\n",
    "c = np.random.rand(2,3,5)\n",
    "# print(c)"
   ]
  },
  {
   "cell_type": "code",
   "execution_count": 5,
   "metadata": {},
   "outputs": [],
   "source": [
    "# Method 3\n",
    "d = np.random.randint(1, 100,(2,3,5))\n",
    "# print(d)"
   ]
  },
  {
   "cell_type": "markdown",
   "metadata": {},
   "source": [
    "#### 4. Print *a*.\n"
   ]
  },
  {
   "cell_type": "code",
   "execution_count": 6,
   "metadata": {},
   "outputs": [
    {
     "name": "stdout",
     "output_type": "stream",
     "text": [
      "[[[0.82376476 0.8539709  0.65550173 0.85979369 0.32021203]\n",
      "  [0.19656082 0.67771476 0.92540166 0.14341886 0.5031424 ]\n",
      "  [0.8011793  0.89863334 0.32612315 0.34396151 0.58240717]]\n",
      "\n",
      " [[0.24671962 0.64858565 0.59908692 0.66195405 0.43431224]\n",
      "  [0.538292   0.19597522 0.30768714 0.6918735  0.58175829]\n",
      "  [0.93072723 0.51533824 0.61799401 0.07519102 0.29335549]]]\n"
     ]
    }
   ],
   "source": [
    "# your code here\n",
    "print(a)"
   ]
  },
  {
   "cell_type": "markdown",
   "metadata": {},
   "source": [
    "#### 5. Create a 5x2x3 3-dimensional array with all values equaling 1. Assign the array to variable *b*."
   ]
  },
  {
   "cell_type": "code",
   "execution_count": 7,
   "metadata": {},
   "outputs": [],
   "source": [
    "# your code here\n",
    "b = np.ones((5,2,3), dtype=int)"
   ]
  },
  {
   "cell_type": "markdown",
   "metadata": {},
   "source": [
    "#### 6. Print *b*.\n"
   ]
  },
  {
   "cell_type": "code",
   "execution_count": 8,
   "metadata": {},
   "outputs": [
    {
     "name": "stdout",
     "output_type": "stream",
     "text": [
      "[[[1 1 1]\n",
      "  [1 1 1]]\n",
      "\n",
      " [[1 1 1]\n",
      "  [1 1 1]]\n",
      "\n",
      " [[1 1 1]\n",
      "  [1 1 1]]\n",
      "\n",
      " [[1 1 1]\n",
      "  [1 1 1]]\n",
      "\n",
      " [[1 1 1]\n",
      "  [1 1 1]]]\n"
     ]
    }
   ],
   "source": [
    "# your code here\n",
    "print(b)"
   ]
  },
  {
   "cell_type": "markdown",
   "metadata": {},
   "source": [
    "#### 7. Do *a* and *b* have the same size? How do you prove that in Python code?"
   ]
  },
  {
   "cell_type": "code",
   "execution_count": 9,
   "metadata": {},
   "outputs": [
    {
     "name": "stdout",
     "output_type": "stream",
     "text": [
      "It is True that a and b have the same size.\n"
     ]
    }
   ],
   "source": [
    "# your code here\n",
    "print('It is', (a.size == b.size), 'that a and b have the same size.')"
   ]
  },
  {
   "cell_type": "markdown",
   "metadata": {},
   "source": [
    "#### 8. Are you able to add *a* and *b*? Why or why not?\n"
   ]
  },
  {
   "cell_type": "code",
   "execution_count": 10,
   "metadata": {},
   "outputs": [
    {
     "ename": "ValueError",
     "evalue": "operands could not be broadcast together with shapes (2,3,5) (5,2,3) ",
     "output_type": "error",
     "traceback": [
      "\u001b[0;31m---------------------------------------------------------------------------\u001b[0m",
      "\u001b[0;31mValueError\u001b[0m                                Traceback (most recent call last)",
      "\u001b[0;32m<ipython-input-10-1dec8ba135de>\u001b[0m in \u001b[0;36m<module>\u001b[0;34m\u001b[0m\n\u001b[1;32m      1\u001b[0m \u001b[0;31m# your answer here\u001b[0m\u001b[0;34m\u001b[0m\u001b[0;34m\u001b[0m\u001b[0;34m\u001b[0m\u001b[0m\n\u001b[0;32m----> 2\u001b[0;31m \u001b[0mnp\u001b[0m\u001b[0;34m.\u001b[0m\u001b[0madd\u001b[0m\u001b[0;34m(\u001b[0m\u001b[0ma\u001b[0m\u001b[0;34m,\u001b[0m\u001b[0mb\u001b[0m\u001b[0;34m)\u001b[0m\u001b[0;34m\u001b[0m\u001b[0;34m\u001b[0m\u001b[0m\n\u001b[0m\u001b[1;32m      3\u001b[0m \u001b[0;31m#no we cannot add them as they not have the same shape\u001b[0m\u001b[0;34m\u001b[0m\u001b[0;34m\u001b[0m\u001b[0;34m\u001b[0m\u001b[0m\n",
      "\u001b[0;31mValueError\u001b[0m: operands could not be broadcast together with shapes (2,3,5) (5,2,3) "
     ]
    }
   ],
   "source": [
    "# your answer here\n",
    "np.add(a,b)\n",
    "#no we cannot add them as they not have the same shape"
   ]
  },
  {
   "cell_type": "markdown",
   "metadata": {},
   "source": [
    "#### 9. Transpose *b* so that it has the same structure of *a* (i.e. become a 2x3x5 array). Assign the transposed array to variable *c*."
   ]
  },
  {
   "cell_type": "code",
   "execution_count": 11,
   "metadata": {},
   "outputs": [],
   "source": [
    "# your code here\n",
    "# print(a)\n",
    "# print(b)\n",
    "c = np.transpose(b, (1,2,0))\n",
    "# print(c)"
   ]
  },
  {
   "cell_type": "markdown",
   "metadata": {},
   "source": [
    "#### 10. Try to add *a* and *c*. Now it should work. Assign the sum to variable *d*. But why does it work now?"
   ]
  },
  {
   "cell_type": "code",
   "execution_count": 12,
   "metadata": {},
   "outputs": [],
   "source": [
    "# your code/answer here\n",
    "d = np.add(a,c)\n",
    "# print(d)\n",
    "# This works now as the arrays have thesame shape and size"
   ]
  },
  {
   "cell_type": "markdown",
   "metadata": {},
   "source": [
    "#### 11. Print *a* and *d*. Notice the difference and relation of the two array in terms of the values? Explain."
   ]
  },
  {
   "cell_type": "code",
   "execution_count": 13,
   "metadata": {},
   "outputs": [
    {
     "name": "stdout",
     "output_type": "stream",
     "text": [
      "[[[0.82376476 0.8539709  0.65550173 0.85979369 0.32021203]\n",
      "  [0.19656082 0.67771476 0.92540166 0.14341886 0.5031424 ]\n",
      "  [0.8011793  0.89863334 0.32612315 0.34396151 0.58240717]]\n",
      "\n",
      " [[0.24671962 0.64858565 0.59908692 0.66195405 0.43431224]\n",
      "  [0.538292   0.19597522 0.30768714 0.6918735  0.58175829]\n",
      "  [0.93072723 0.51533824 0.61799401 0.07519102 0.29335549]]]\n",
      "[[[1.82376476 1.8539709  1.65550173 1.85979369 1.32021203]\n",
      "  [1.19656082 1.67771476 1.92540166 1.14341886 1.5031424 ]\n",
      "  [1.8011793  1.89863334 1.32612315 1.34396151 1.58240717]]\n",
      "\n",
      " [[1.24671962 1.64858565 1.59908692 1.66195405 1.43431224]\n",
      "  [1.538292   1.19597522 1.30768714 1.6918735  1.58175829]\n",
      "  [1.93072723 1.51533824 1.61799401 1.07519102 1.29335549]]]\n"
     ]
    }
   ],
   "source": [
    "# your code/answer here\n",
    "print(a) \n",
    "print(d)\n",
    "# a difference of 1 in each element (difference is array c)\n",
    "# print(np.subtract(d,a))"
   ]
  },
  {
   "cell_type": "markdown",
   "metadata": {},
   "source": [
    "#### 12. Multiply *a* and *c*. Assign the result to *e*."
   ]
  },
  {
   "cell_type": "code",
   "execution_count": 14,
   "metadata": {},
   "outputs": [],
   "source": [
    "# your code here\n",
    "e = np.multiply(a,c)\n",
    "# print(e)"
   ]
  },
  {
   "cell_type": "markdown",
   "metadata": {},
   "source": [
    "#### 13. Does *e* equal to *a*? Why or why not?\n"
   ]
  },
  {
   "cell_type": "code",
   "execution_count": 15,
   "metadata": {},
   "outputs": [
    {
     "name": "stdout",
     "output_type": "stream",
     "text": [
      "Sum of both arrays are equal: True\n",
      "Size of both arrays are equal: True\n",
      "Shape of both arrays are equal: True\n"
     ]
    }
   ],
   "source": [
    "# your code/answer here\n",
    "print('Sum of both arrays are equal:', np.sum(a) == np.sum(e))\n",
    "print('Size of both arrays are equal:', a.size == e.size)\n",
    "print('Shape of both arrays are equal:', a.shape == e.shape)"
   ]
  },
  {
   "cell_type": "markdown",
   "metadata": {},
   "source": [
    "#### 14. Identify the max, min, and mean values in *d*. Assign those values to variables *d_max*, *d_min* and *d_mean*."
   ]
  },
  {
   "cell_type": "code",
   "execution_count": 16,
   "metadata": {},
   "outputs": [
    {
     "name": "stdout",
     "output_type": "stream",
     "text": [
      "[[[1.82376476 1.8539709  1.65550173 1.85979369 1.32021203]\n",
      "  [1.19656082 1.67771476 1.92540166 1.14341886 1.5031424 ]\n",
      "  [1.8011793  1.89863334 1.32612315 1.34396151 1.58240717]]\n",
      "\n",
      " [[1.24671962 1.64858565 1.59908692 1.66195405 1.43431224]\n",
      "  [1.538292   1.19597522 1.30768714 1.6918735  1.58175829]\n",
      "  [1.93072723 1.51533824 1.61799401 1.07519102 1.29335549]]]\n"
     ]
    }
   ],
   "source": [
    "# your code here\n",
    "print(d)\n",
    "d_max = np.max(d)\n",
    "# print(d_max)\n",
    "d_min = np.min(d)\n",
    "# print(d_min)\n",
    "d_mean = np.mean(d)\n",
    "# print(d_mean)"
   ]
  },
  {
   "cell_type": "markdown",
   "metadata": {},
   "source": [
    "#### 15. Now we want to label the values in *d*. First create an empty array *f* with the same shape (i.e. 2x3x5) as *d* using `np.empty`.\n"
   ]
  },
  {
   "cell_type": "code",
   "execution_count": 18,
   "metadata": {},
   "outputs": [],
   "source": [
    "# your code here\n",
    "f = np.empty([2,3,5])\n",
    "# print(f)"
   ]
  },
  {
   "cell_type": "markdown",
   "metadata": {},
   "source": [
    "#### 16. Populate the values in *f*. \n",
    "\n",
    "For each value in *d*, if it's larger than *d_min* but smaller than *d_mean*, assign 25 to the corresponding value in *f*. If a value in *d* is larger than *d_mean* but smaller than *d_max*, assign 75 to the corresponding value in *f*. If a value equals to *d_mean*, assign 50 to the corresponding value in *f*. Assign 0 to the corresponding value(s) in *f* for *d_min* in *d*. Assign 100 to the corresponding value(s) in *f* for *d_max* in *d*. In the end, f should have only the following values: 0, 25, 50, 75, and 100.\n",
    "\n",
    "**Note**: you don't have to use Numpy in this question."
   ]
  },
  {
   "cell_type": "code",
   "execution_count": 19,
   "metadata": {},
   "outputs": [],
   "source": [
    "# your code here\n",
    "# print(d_min)\n",
    "# print(d_mean)\n",
    "# print(d_max)\n",
    "# print(d)\n",
    "for x in d:\n",
    "    for i, x in enumerate(d):\n",
    "#         print(x)\n",
    "#         print(i)\n",
    "        for y in x:\n",
    "            for j, y in enumerate(x):\n",
    "#                 print(y)\n",
    "#                 print(j)\n",
    "                for z in y:\n",
    "                    for k, z in enumerate(y):\n",
    "#                         print(z)\n",
    "#                         print(k)\n",
    "#                         print(i, j, k)\n",
    "                        if d_mean > z > d_min:\n",
    "                            f[i, j, k] = 25\n",
    "                        elif d_max > z > d_mean:\n",
    "                            f[i, j, k] = 75\n",
    "                        elif d_min == z:\n",
    "                            f[i, j, k] = 0\n",
    "                        elif d_mean == z:\n",
    "                            f[i, j, k] = 50\n",
    "                        elif d_max == z:\n",
    "                            f[i, j, k] = 100\n",
    "# print(f)"
   ]
  },
  {
   "cell_type": "markdown",
   "metadata": {},
   "source": [
    "#### 17. Print *d* and *f*. Do you have your expected *f*?\n",
    "For instance, if your *d* is:\n",
    "```python\n",
    "[[[1.85836099, 1.67064465, 1.62576044, 1.40243961, 1.88454931],\n",
    "[1.75354326, 1.69403643, 1.36729252, 1.61415071, 1.12104981],\n",
    "[1.72201435, 1.1862918 , 1.87078449, 1.7726778 , 1.88180042]],\n",
    "[[1.44747908, 1.31673383, 1.02000951, 1.52218947, 1.97066381],\n",
    "[1.79129243, 1.74983003, 1.96028037, 1.85166831, 1.65450881],\n",
    "[1.18068344, 1.9587381 , 1.00656599, 1.93402165, 1.73514584]]]\n",
    "```\n",
    "Your *f* should be:\n",
    "```python\n",
    "[[[ 75.,  75.,  75.,  25.,  75.],\n",
    "[ 75.,  75.,  25.,  25.,  25.],\n",
    "[ 75.,  25.,  75.,  75.,  75.]],\n",
    "[[ 25.,  25.,  25.,  25., 100.],\n",
    "[ 75.,  75.,  75.,  75.,  75.],\n",
    "[ 25.,  75.,   0.,  75.,  75.]]]\n",
    "```"
   ]
  },
  {
   "cell_type": "code",
   "execution_count": 20,
   "metadata": {},
   "outputs": [
    {
     "name": "stdout",
     "output_type": "stream",
     "text": [
      "[[[1.82376476 1.8539709  1.65550173 1.85979369 1.32021203]\n",
      "  [1.19656082 1.67771476 1.92540166 1.14341886 1.5031424 ]\n",
      "  [1.8011793  1.89863334 1.32612315 1.34396151 1.58240717]]\n",
      "\n",
      " [[1.24671962 1.64858565 1.59908692 1.66195405 1.43431224]\n",
      "  [1.538292   1.19597522 1.30768714 1.6918735  1.58175829]\n",
      "  [1.93072723 1.51533824 1.61799401 1.07519102 1.29335549]]]\n",
      "[[[ 75.  75.  75.  75.  25.]\n",
      "  [ 25.  75.  75.  25.  25.]\n",
      "  [ 75.  75.  25.  25.  75.]]\n",
      "\n",
      " [[ 25.  75.  75.  75.  25.]\n",
      "  [ 25.  25.  25.  75.  75.]\n",
      "  [100.  25.  75.   0.  25.]]]\n"
     ]
    }
   ],
   "source": [
    "# your code here\n",
    "print(d)\n",
    "print(f)"
   ]
  },
  {
   "cell_type": "markdown",
   "metadata": {},
   "source": [
    "#### 18. Bonus question: instead of using numbers (i.e. 0, 25, 50, 75, and 100), use string values  (\"A\", \"B\", \"C\", \"D\", and \"E\") to label the array elements. For the example above, the expected result is:\n",
    "\n",
    "```python\n",
    "[[[ 'D',  'D',  'D',  'B',  'D'],\n",
    "[ 'D',  'D',  'B',  'B',  'B'],\n",
    "[ 'D',  'B',  'D',  'D',  'D']],\n",
    "[[ 'B',  'B',  'B',  'B',  'E'],\n",
    "[ 'D',  'D',  'D',  'D',  'D'],\n",
    "[ 'B',  'D',   'A',  'D', 'D']]]\n",
    "```\n",
    "**Note**: you don't have to use Numpy in this question."
   ]
  },
  {
   "cell_type": "code",
   "execution_count": 21,
   "metadata": {},
   "outputs": [
    {
     "name": "stdout",
     "output_type": "stream",
     "text": [
      "[[['D', 'D', 'D', 'D', 'B'], ['B', 'D', 'D', 'B', 'B'], ['D', 'D', 'B', 'B', 'D']], [['B', 'D', 'D', 'D', 'B'], ['B', 'B', 'B', 'D', 'D'], ['E', 'B', 'D', 'A', 'B']]]\n"
     ]
    }
   ],
   "source": [
    "# your code here\n",
    "g = [[[\"\" for i in range(5)] for j in range(3)] for k in range(2)]\n",
    "# print(g)\n",
    "for x in d:\n",
    "    for i, x in enumerate(d):\n",
    "#         print(x)\n",
    "#         print(i)\n",
    "        for y in x:\n",
    "            for j, y in enumerate(x):\n",
    "#                 print(y)\n",
    "#                 print(j)\n",
    "                for z in y:\n",
    "                    for k, z in enumerate(y):\n",
    "#                         print(z)\n",
    "#                         print(k)\n",
    "#                         print(i, j, k)\n",
    "                        if d_mean > z > d_min:\n",
    "                            g[i][j][k] = str('B')\n",
    "                        elif d_max > z > d_mean:\n",
    "                            g[i][j][k] = str('D')\n",
    "                        elif d_min == z:\n",
    "                            g[i][j][k] = str('A')\n",
    "                        elif d_mean == z:\n",
    "                            g[i][j][k] = str('C')\n",
    "                        elif d_max == z:\n",
    "                            g[i][j][k] = str('E')\n",
    "print(g)\n",
    "#This works but I do not think this is an array. This is a list in a list in a list...."
   ]
  }
 ],
 "metadata": {
  "kernelspec": {
   "display_name": "Python 3",
   "language": "python",
   "name": "python3"
  },
  "language_info": {
   "codemirror_mode": {
    "name": "ipython",
    "version": 3
   },
   "file_extension": ".py",
   "mimetype": "text/x-python",
   "name": "python",
   "nbconvert_exporter": "python",
   "pygments_lexer": "ipython3",
   "version": "3.7.4"
  }
 },
 "nbformat": 4,
 "nbformat_minor": 2
}
