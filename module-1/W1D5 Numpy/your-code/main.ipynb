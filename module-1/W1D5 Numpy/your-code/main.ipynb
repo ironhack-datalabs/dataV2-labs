{
 "cells": [
  {
   "cell_type": "markdown",
   "metadata": {},
   "source": [
    "# Introduction to NumPy\n",
    "\n",
    "\n",
    "#### 1. Import NumPy under the name np."
   ]
  },
  {
   "cell_type": "code",
   "execution_count": 1,
   "metadata": {},
   "outputs": [],
   "source": [
    "# your code here\n",
    "import numpy as np"
   ]
  },
  {
   "cell_type": "markdown",
   "metadata": {},
   "source": [
    "#### 2. Print your NumPy version."
   ]
  },
  {
   "cell_type": "code",
   "execution_count": 2,
   "metadata": {},
   "outputs": [
    {
     "name": "stdout",
     "output_type": "stream",
     "text": [
      "1.17.2\n"
     ]
    }
   ],
   "source": [
    "# your code here\n",
    "print(np.__version__)"
   ]
  },
  {
   "cell_type": "markdown",
   "metadata": {},
   "source": [
    "#### 3. Generate a 2x3x5 3-dimensional array with random values. Assign the array to variable *a*.\n",
    "**Challenge**: there are at least three easy ways that use numpy to generate random arrays. How many ways can you find?"
   ]
  },
  {
   "cell_type": "code",
   "execution_count": 3,
   "metadata": {},
   "outputs": [],
   "source": [
    "# Method 1\n",
    "a = np.random.random((2,3,5))\n",
    "# print(a)"
   ]
  },
  {
   "cell_type": "code",
   "execution_count": 4,
   "metadata": {},
   "outputs": [],
   "source": [
    "# Method 2\n",
    "c = np.random.rand(2,3,5)\n",
    "# print(c)"
   ]
  },
  {
   "cell_type": "code",
   "execution_count": 5,
   "metadata": {},
   "outputs": [],
   "source": [
    "# Method 3\n",
    "d = np.random.randint(1, 100,(2,3,5))\n",
    "# print(d)"
   ]
  },
  {
   "cell_type": "markdown",
   "metadata": {},
   "source": [
    "#### 4. Print *a*.\n"
   ]
  },
  {
   "cell_type": "code",
   "execution_count": 6,
   "metadata": {},
   "outputs": [
    {
     "name": "stdout",
     "output_type": "stream",
     "text": [
      "[[[0.97611251 0.26631981 0.17968307 0.63217379 0.75777925]\n",
      "  [0.26264112 0.97487408 0.93537228 0.47012787 0.12485352]\n",
      "  [0.2975394  0.43757875 0.56631236 0.71937598 0.08571079]]\n",
      "\n",
      " [[0.75133573 0.23393584 0.65834864 0.06820984 0.5038705 ]\n",
      "  [0.79558933 0.92526205 0.20968568 0.49255126 0.27823094]\n",
      "  [0.24780673 0.84736596 0.74876427 0.27404087 0.17566826]]]\n"
     ]
    }
   ],
   "source": [
    "# your code here\n",
    "print(a)"
   ]
  },
  {
   "cell_type": "markdown",
   "metadata": {},
   "source": [
    "#### 5. Create a 5x2x3 3-dimensional array with all values equaling 1. Assign the array to variable *b*."
   ]
  },
  {
   "cell_type": "code",
   "execution_count": 7,
   "metadata": {},
   "outputs": [],
   "source": [
    "# your code here\n",
    "b = np.ones((5,2,3), dtype=int)"
   ]
  },
  {
   "cell_type": "markdown",
   "metadata": {},
   "source": [
    "#### 6. Print *b*.\n"
   ]
  },
  {
   "cell_type": "code",
   "execution_count": 8,
   "metadata": {},
   "outputs": [
    {
     "name": "stdout",
     "output_type": "stream",
     "text": [
      "[[[1 1 1]\n",
      "  [1 1 1]]\n",
      "\n",
      " [[1 1 1]\n",
      "  [1 1 1]]\n",
      "\n",
      " [[1 1 1]\n",
      "  [1 1 1]]\n",
      "\n",
      " [[1 1 1]\n",
      "  [1 1 1]]\n",
      "\n",
      " [[1 1 1]\n",
      "  [1 1 1]]]\n"
     ]
    }
   ],
   "source": [
    "# your code here\n",
    "print(b)"
   ]
  },
  {
   "cell_type": "markdown",
   "metadata": {},
   "source": [
    "#### 7. Do *a* and *b* have the same size? How do you prove that in Python code?"
   ]
  },
  {
   "cell_type": "code",
   "execution_count": 9,
   "metadata": {},
   "outputs": [
    {
     "name": "stdout",
     "output_type": "stream",
     "text": [
      "It is True that a and b have the same size.\n"
     ]
    }
   ],
   "source": [
    "# your code here\n",
    "print('It is', (a.size == b.size), 'that a and b have the same size.')"
   ]
  },
  {
   "cell_type": "markdown",
   "metadata": {},
   "source": [
    "#### 8. Are you able to add *a* and *b*? Why or why not?\n"
   ]
  },
  {
   "cell_type": "code",
   "execution_count": 10,
   "metadata": {},
   "outputs": [
    {
     "ename": "ValueError",
     "evalue": "operands could not be broadcast together with shapes (2,3,5) (5,2,3) ",
     "output_type": "error",
     "traceback": [
      "\u001b[0;31m---------------------------------------------------------------------------\u001b[0m",
      "\u001b[0;31mValueError\u001b[0m                                Traceback (most recent call last)",
      "\u001b[0;32m<ipython-input-10-1dec8ba135de>\u001b[0m in \u001b[0;36m<module>\u001b[0;34m\u001b[0m\n\u001b[1;32m      1\u001b[0m \u001b[0;31m# your answer here\u001b[0m\u001b[0;34m\u001b[0m\u001b[0;34m\u001b[0m\u001b[0;34m\u001b[0m\u001b[0m\n\u001b[0;32m----> 2\u001b[0;31m \u001b[0mnp\u001b[0m\u001b[0;34m.\u001b[0m\u001b[0madd\u001b[0m\u001b[0;34m(\u001b[0m\u001b[0ma\u001b[0m\u001b[0;34m,\u001b[0m\u001b[0mb\u001b[0m\u001b[0;34m)\u001b[0m\u001b[0;34m\u001b[0m\u001b[0;34m\u001b[0m\u001b[0m\n\u001b[0m\u001b[1;32m      3\u001b[0m \u001b[0;31m#no we cannot add them as they not have the same shape\u001b[0m\u001b[0;34m\u001b[0m\u001b[0;34m\u001b[0m\u001b[0;34m\u001b[0m\u001b[0m\n",
      "\u001b[0;31mValueError\u001b[0m: operands could not be broadcast together with shapes (2,3,5) (5,2,3) "
     ]
    }
   ],
   "source": [
    "# your answer here\n",
    "np.add(a,b)\n",
    "#no we cannot add them as they not have the same shape"
   ]
  },
  {
   "cell_type": "markdown",
   "metadata": {},
   "source": [
    "#### 9. Transpose *b* so that it has the same structure of *a* (i.e. become a 2x3x5 array). Assign the transposed array to variable *c*."
   ]
  },
  {
   "cell_type": "code",
   "execution_count": 11,
   "metadata": {},
   "outputs": [],
   "source": [
    "# your code here\n",
    "# print(a)\n",
    "# print(b)\n",
    "c = np.transpose(b, (1,2,0))\n",
    "# print(c)"
   ]
  },
  {
   "cell_type": "markdown",
   "metadata": {},
   "source": [
    "#### 10. Try to add *a* and *c*. Now it should work. Assign the sum to variable *d*. But why does it work now?"
   ]
  },
  {
   "cell_type": "code",
   "execution_count": 12,
   "metadata": {},
   "outputs": [],
   "source": [
    "# your code/answer here\n",
    "d = np.add(a,c)\n",
    "# print(d)\n",
    "# This works now as the arrays have thesame shape and size"
   ]
  },
  {
   "cell_type": "markdown",
   "metadata": {},
   "source": [
    "#### 11. Print *a* and *d*. Notice the difference and relation of the two array in terms of the values? Explain."
   ]
  },
  {
   "cell_type": "code",
   "execution_count": 13,
   "metadata": {},
   "outputs": [
    {
     "name": "stdout",
     "output_type": "stream",
     "text": [
      "[[[0.97611251 0.26631981 0.17968307 0.63217379 0.75777925]\n",
      "  [0.26264112 0.97487408 0.93537228 0.47012787 0.12485352]\n",
      "  [0.2975394  0.43757875 0.56631236 0.71937598 0.08571079]]\n",
      "\n",
      " [[0.75133573 0.23393584 0.65834864 0.06820984 0.5038705 ]\n",
      "  [0.79558933 0.92526205 0.20968568 0.49255126 0.27823094]\n",
      "  [0.24780673 0.84736596 0.74876427 0.27404087 0.17566826]]]\n",
      "\n",
      "\n",
      "[[[1.97611251 1.26631981 1.17968307 1.63217379 1.75777925]\n",
      "  [1.26264112 1.97487408 1.93537228 1.47012787 1.12485352]\n",
      "  [1.2975394  1.43757875 1.56631236 1.71937598 1.08571079]]\n",
      "\n",
      " [[1.75133573 1.23393584 1.65834864 1.06820984 1.5038705 ]\n",
      "  [1.79558933 1.92526205 1.20968568 1.49255126 1.27823094]\n",
      "  [1.24780673 1.84736596 1.74876427 1.27404087 1.17566826]]]\n"
     ]
    }
   ],
   "source": [
    "# your code/answer here\n",
    "print(a) \n",
    "print('\\n')\n",
    "print(d)\n",
    "# a difference of 1 in each element (difference is array c)\n",
    "# print(np.subtract(d,a))"
   ]
  },
  {
   "cell_type": "markdown",
   "metadata": {},
   "source": [
    "#### 12. Multiply *a* and *c*. Assign the result to *e*."
   ]
  },
  {
   "cell_type": "code",
   "execution_count": 14,
   "metadata": {},
   "outputs": [],
   "source": [
    "# your code here\n",
    "e = np.multiply(a,c)\n",
    "# print(e)"
   ]
  },
  {
   "cell_type": "markdown",
   "metadata": {},
   "source": [
    "#### 13. Does *e* equal to *a*? Why or why not?\n"
   ]
  },
  {
   "cell_type": "code",
   "execution_count": 15,
   "metadata": {},
   "outputs": [
    {
     "name": "stdout",
     "output_type": "stream",
     "text": [
      "Sum of both arrays are equal: True\n",
      "Size of both arrays are equal: True\n",
      "Shape of both arrays are equal: True\n"
     ]
    }
   ],
   "source": [
    "# your code/answer here\n",
    "print('Sum of both arrays are equal:', np.sum(a) == np.sum(e))\n",
    "print('Size of both arrays are equal:', a.size == e.size)\n",
    "print('Shape of both arrays are equal:', a.shape == e.shape)"
   ]
  },
  {
   "cell_type": "markdown",
   "metadata": {},
   "source": [
    "#### 14. Identify the max, min, and mean values in *d*. Assign those values to variables *d_max*, *d_min* and *d_mean*."
   ]
  },
  {
   "cell_type": "code",
   "execution_count": 19,
   "metadata": {},
   "outputs": [
    {
     "name": "stdout",
     "output_type": "stream",
     "text": [
      "[[[1.97611251 1.26631981 1.17968307 1.63217379 1.75777925]\n",
      "  [1.26264112 1.97487408 1.93537228 1.47012787 1.12485352]\n",
      "  [1.2975394  1.43757875 1.56631236 1.71937598 1.08571079]]\n",
      "\n",
      " [[1.75133573 1.23393584 1.65834864 1.06820984 1.5038705 ]\n",
      "  [1.79558933 1.92526205 1.20968568 1.49255126 1.27823094]\n",
      "  [1.24780673 1.84736596 1.74876427 1.27404087 1.17566826]]]\n"
     ]
    }
   ],
   "source": [
    "# your code here\n",
    "print(d)\n",
    "d_max = np.max(d)\n",
    "# print(d_max)\n",
    "d_min = np.min(d)\n",
    "# print(d_min)\n",
    "d_mean = np.mean(d)\n",
    "# print(d_mean)"
   ]
  },
  {
   "cell_type": "markdown",
   "metadata": {},
   "source": [
    "#### 15. Now we want to label the values in *d*. First create an empty array *f* with the same shape (i.e. 2x3x5) as *d* using `np.empty`.\n"
   ]
  },
  {
   "cell_type": "code",
   "execution_count": 25,
   "metadata": {},
   "outputs": [
    {
     "name": "stdout",
     "output_type": "stream",
     "text": [
      "[[[1.97611251 1.26631981 1.17968307 1.63217379 1.75777925]\n",
      "  [1.26264112 1.97487408 1.93537228 1.47012787 1.12485352]\n",
      "  [1.2975394  1.43757875 1.56631236 1.71937598 1.08571079]]\n",
      "\n",
      " [[1.75133573 1.23393584 1.65834864 1.06820984 1.5038705 ]\n",
      "  [1.79558933 1.92526205 1.20968568 1.49255126 1.27823094]\n",
      "  [1.24780673 1.84736596 1.74876427 1.27404087 1.17566826]]]\n"
     ]
    }
   ],
   "source": [
    "# your code here\n",
    "f = np.empty([2,3,5])\n",
    "print(f)"
   ]
  },
  {
   "cell_type": "markdown",
   "metadata": {},
   "source": [
    "#### 16. Populate the values in *f*. \n",
    "\n",
    "For each value in *d*, if it's larger than *d_min* but smaller than *d_mean*, assign 25 to the corresponding value in *f*. If a value in *d* is larger than *d_mean* but smaller than *d_max*, assign 75 to the corresponding value in *f*. If a value equals to *d_mean*, assign 50 to the corresponding value in *f*. Assign 0 to the corresponding value(s) in *f* for *d_min* in *d*. Assign 100 to the corresponding value(s) in *f* for *d_max* in *d*. In the end, f should have only the following values: 0, 25, 50, 75, and 100.\n",
    "\n",
    "**Note**: you don't have to use Numpy in this question."
   ]
  },
  {
   "cell_type": "code",
   "execution_count": 37,
   "metadata": {},
   "outputs": [
    {
     "name": "stdout",
     "output_type": "stream",
     "text": [
      "[(0, array([1.97611251, 1.26631981, 1.17968307, 1.63217379, 1.75777925])), (1, array([1.26264112, 1.97487408, 1.93537228, 1.47012787, 1.12485352])), (2, array([1.2975394 , 1.43757875, 1.56631236, 1.71937598, 1.08571079]))] [(0, 1.9761125063682523), (1, 1.266319808150934), (2, 1.1796830736332171), (3, 1.6321737857311287), (4, 1.7577792536312526)]\n",
      "[] [(0, 1.2626411197342966), (1, 1.9748740762514778), (2, 1.9353722839108634), (3, 1.4701278665310455), (4, 1.1248535178341257)]\n",
      "[] [(0, 1.2975393977820981), (1, 1.4375787490695888), (2, 1.5663123594413395), (3, 1.719375976641913), (4, 1.0857107878832832)]\n",
      "[(0, array([1.75133573, 1.23393584, 1.65834864, 1.06820984, 1.5038705 ])), (1, array([1.79558933, 1.92526205, 1.20968568, 1.49255126, 1.27823094])), (2, array([1.24780673, 1.84736596, 1.74876427, 1.27404087, 1.17566826]))] [(0, 1.7513357340380207), (1, 1.2339358449862683), (2, 1.6583486388500481), (3, 1.0682098356023721), (4, 1.5038705032398694)]\n",
      "[] [(0, 1.7955893349627032), (1, 1.9252620475173226), (2, 1.2096856848656183), (3, 1.4925512577009878), (4, 1.278230942303538)]\n",
      "[] [(0, 1.2478067270679658), (1, 1.8473659637832802), (2, 1.7487642672870454), (3, 1.2740408745382463), (4, 1.1756682585489098)]\n"
     ]
    }
   ],
   "source": [
    "# your code here\n",
    "for i in d:\n",
    "    first = enumerate(i)\n",
    "#     print(list(first))\n",
    "    for j in i:\n",
    "        second = enumerate(j)\n",
    "        print(list(first), list(second))\n",
    "#         for k in j:\n",
    "#             if d_mean > k > d_min:\n",
    "#                 f[index(k)] = 25\n",
    "# indexes = [i for i,x in enumerate(xs) if x == 'foo']\n",
    "\n",
    "\n",
    "\n",
    "# f[0,0,0] =100             \n",
    "# print(f)"
   ]
  },
  {
   "cell_type": "markdown",
   "metadata": {},
   "source": [
    "#### 17. Print *d* and *f*. Do you have your expected *f*?\n",
    "For instance, if your *d* is:\n",
    "```python\n",
    "[[[1.85836099, 1.67064465, 1.62576044, 1.40243961, 1.88454931],\n",
    "[1.75354326, 1.69403643, 1.36729252, 1.61415071, 1.12104981],\n",
    "[1.72201435, 1.1862918 , 1.87078449, 1.7726778 , 1.88180042]],\n",
    "[[1.44747908, 1.31673383, 1.02000951, 1.52218947, 1.97066381],\n",
    "[1.79129243, 1.74983003, 1.96028037, 1.85166831, 1.65450881],\n",
    "[1.18068344, 1.9587381 , 1.00656599, 1.93402165, 1.73514584]]]\n",
    "```\n",
    "Your *f* should be:\n",
    "```python\n",
    "[[[ 75.,  75.,  75.,  25.,  75.],\n",
    "[ 75.,  75.,  25.,  25.,  25.],\n",
    "[ 75.,  25.,  75.,  75.,  75.]],\n",
    "[[ 25.,  25.,  25.,  25., 100.],\n",
    "[ 75.,  75.,  75.,  75.,  75.],\n",
    "[ 25.,  75.,   0.,  75.,  75.]]]\n",
    "```"
   ]
  },
  {
   "cell_type": "code",
   "execution_count": null,
   "metadata": {},
   "outputs": [],
   "source": [
    "# your code here"
   ]
  },
  {
   "cell_type": "markdown",
   "metadata": {},
   "source": [
    "#### 18. Bonus question: instead of using numbers (i.e. 0, 25, 50, 75, and 100), use string values  (\"A\", \"B\", \"C\", \"D\", and \"E\") to label the array elements. For the example above, the expected result is:\n",
    "\n",
    "```python\n",
    "[[[ 'D',  'D',  'D',  'B',  'D'],\n",
    "[ 'D',  'D',  'B',  'B',  'B'],\n",
    "[ 'D',  'B',  'D',  'D',  'D']],\n",
    "[[ 'B',  'B',  'B',  'B',  'E'],\n",
    "[ 'D',  'D',  'D',  'D',  'D'],\n",
    "[ 'B',  'D',   'A',  'D', 'D']]]\n",
    "```\n",
    "**Note**: you don't have to use Numpy in this question."
   ]
  },
  {
   "cell_type": "code",
   "execution_count": null,
   "metadata": {},
   "outputs": [],
   "source": [
    "# your code here"
   ]
  }
 ],
 "metadata": {
  "kernelspec": {
   "display_name": "Python 3",
   "language": "python",
   "name": "python3"
  },
  "language_info": {
   "codemirror_mode": {
    "name": "ipython",
    "version": 3
   },
   "file_extension": ".py",
   "mimetype": "text/x-python",
   "name": "python",
   "nbconvert_exporter": "python",
   "pygments_lexer": "ipython3",
   "version": "3.7.4"
  }
 },
 "nbformat": 4,
 "nbformat_minor": 2
}
