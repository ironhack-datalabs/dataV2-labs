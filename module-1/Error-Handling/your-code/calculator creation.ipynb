{
 "cells": [
  {
   "cell_type": "markdown",
   "metadata": {},
   "source": [
    "Pour ceux qui ont terminé, je vous propose l’exercice suivant :\n",
    "You’re going to write an interactive calculator! User input is assumed to be a formula that consist of a number, an operator (at least + and -), and another number, separated by white space (e.g. 1 + 1). Split user input using str.split(), and check whether the resulting list is valid:\n",
    "If the input does not consist of 3 elements, raise a FormulaError, which is a custom Exception.\n",
    "Try to convert the first and third input to a float (like so: float_value = float(str_value)). Catch any ValueError that occurs, and instead raise a FormulaError\n",
    "If the second input is not '+' or '-', again raise a FormulaError\n",
    "If the input is valid, perform the calculation and print out the result. The user is then prompted to provide new input, and so on, until the user enters quit.\n",
    "An interaction could look like this:\n",
    "    >>> 1 + 1\n",
    "2.0\n",
    ">>> 3.2 - 1.5\n",
    "1.7000000000000002\n",
    ">>> quit"
   ]
  },
  {
   "cell_type": "code",
   "execution_count": null,
   "metadata": {},
   "outputs": [],
   "source": []
  },
  {
   "cell_type": "code",
   "execution_count": null,
   "metadata": {},
   "outputs": [
    {
     "name": "stdout",
     "output_type": "stream",
     "text": [
      ">>> 2 + 1\n",
      "3.0\n"
     ]
    }
   ],
   "source": [
    "class FormulaError(Exception): \n",
    "   pass\n",
    "def parse_input(user_input):\n",
    "    input_list = user_input.split()\n",
    "    if len(input_list) != 3:\n",
    "        raise FormulaError('Input does not consist of three elements')\n",
    "    n1, op, n2 = input_list\n",
    "    try:\n",
    "        n1 = float(n1)\n",
    "        n2 = float(n2)\n",
    "    except ValueError:\n",
    "        raise FormulaError('The first and third input value must be numbers')\n",
    "    return n1, op, n2\n",
    "def calculate(n1, op, n2):\n",
    "    if op == '+':\n",
    "        return n1 + n2\n",
    "    if op == '-':\n",
    "        return n1 - n2\n",
    "    if op == '*':\n",
    "        return n1 * n2\n",
    "    if op == '/':\n",
    "        return n1 / n2\n",
    "    raise FormulaError(f'{op} is not a valid operator')\n",
    "while True:\n",
    "    user_input = input('>>> ')\n",
    "    if user_input == 'quit':\n",
    "        break\n",
    "    n1, op, n2 = parse_input(user_input)\n",
    "    result = calculate(n1, op, n2)\n",
    "    print(result)"
   ]
  }
 ],
 "metadata": {
  "kernelspec": {
   "display_name": "Python 3",
   "language": "python",
   "name": "python3"
  },
  "language_info": {
   "codemirror_mode": {
    "name": "ipython",
    "version": 3
   },
   "file_extension": ".py",
   "mimetype": "text/x-python",
   "name": "python",
   "nbconvert_exporter": "python",
   "pygments_lexer": "ipython3",
   "version": "3.8.2"
  }
 },
 "nbformat": 4,
 "nbformat_minor": 4
}
