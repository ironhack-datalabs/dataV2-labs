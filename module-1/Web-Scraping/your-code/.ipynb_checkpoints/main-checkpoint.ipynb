{
 "cells": [
  {
   "cell_type": "markdown",
   "metadata": {},
   "source": [
    "# Web Scraping Lab\n",
    "\n",
    "You will find in this notebook some scrapy exercises to practise your scraping skills.\n",
    "\n",
    "**Tips:**\n",
    "\n",
    "- Check the response status code for each request to ensure you have obtained the intended content.\n",
    "- Print the response text in each request to understand the kind of info you are getting and its format.\n",
    "- Check for patterns in the response text to extract the data/info requested in each question.\n",
    "- Visit the urls below and take a look at their source code through Chrome DevTools. You'll need to identify the html tags, special class names, etc used in the html content you are expected to extract.\n",
    "\n",
    "**Resources**:\n",
    "- [Requests library](http://docs.python-requests.org/en/master/#the-user-guide)\n",
    "- [Beautiful Soup Doc](https://www.crummy.com/software/BeautifulSoup/bs4/doc/)\n",
    "- [Urllib](https://docs.python.org/3/library/urllib.html#module-urllib)\n",
    "- [re lib](https://docs.python.org/3/library/re.html)\n",
    "- [lxml lib](https://lxml.de/)\n",
    "- [Scrapy](https://scrapy.org/)\n",
    "- [List of HTTP status codes](https://en.wikipedia.org/wiki/List_of_HTTP_status_codes)\n",
    "- [HTML basics](http://www.simplehtmlguide.com/cheatsheet.php)\n",
    "- [CSS basics](https://www.cssbasics.com/#page_start)"
   ]
  },
  {
   "cell_type": "markdown",
   "metadata": {},
   "source": [
    "#### Below are the libraries and modules you may need. `requests`,  `BeautifulSoup` and `pandas` are already imported for you. If you prefer to use additional libraries feel free to do it."
   ]
  },
  {
   "cell_type": "code",
   "execution_count": 3,
   "metadata": {},
   "outputs": [],
   "source": [
    "import requests\n",
    "\n",
    "# import sys\n",
    "# !{sys.executable} -m pip install bs4\n",
    "# !{sys.executable} -m pip install lxml\n",
    "\n",
    "from bs4 import BeautifulSoup\n",
    "import pandas as pd\n"
   ]
  },
  {
   "cell_type": "markdown",
   "metadata": {},
   "source": [
    "#### Download, parse (using BeautifulSoup), and print the content from the Trending Developers page from GitHub:"
   ]
  },
  {
   "cell_type": "code",
   "execution_count": 2,
   "metadata": {},
   "outputs": [],
   "source": [
    "# This is the url you will scrape in this exercise\n",
    "url = 'https://github.com/trending/developers'"
   ]
  },
  {
   "cell_type": "code",
   "execution_count": 3,
   "metadata": {},
   "outputs": [
    {
     "data": {
      "text/plain": [
       "['Stefano Gottardo (CastagnaIT)',\n",
       " 'Zack Jackson (ScriptedAlchemy)',\n",
       " 'Arvid Norberg (arvidn)',\n",
       " 'Stefan Prodan (stefanprodan)',\n",
       " 'Luan Nico (luanpotter)',\n",
       " 'Dotan Simha (dotansimha)',\n",
       " 'Anthony Fu (antfu)',\n",
       " 'Tyler Neely (spacejam)',\n",
       " 'Christopher Rackauckas (ChrisRackauckas)',\n",
       " 'Samuel Colvin (samuelcolvin)',\n",
       " 'Michael Fabian Dirks (Xaymar)',\n",
       " 'Will McGugan (willmcgugan)',\n",
       " 'Rick Bergfalk (rickbergfalk)',\n",
       " 'Michael Herman (mjhea0)',\n",
       " 'Daybrush (Younkue Choi) (daybrush)',\n",
       " 'Miguel de Icaza (migueldeicaza)',\n",
       " 'Hiroshi Kimura (muukii)',\n",
       " 'Daniel Lemire (lemire)',\n",
       " 'Anthony Sottile (asottile)',\n",
       " 'dylan (dylanaraps)',\n",
       " 'Simon Willison (simonw)',\n",
       " 'Ahmet Alp Balkan (ahmetb)',\n",
       " 'Paulus Schoutsen (balloob)',\n",
       " 'Ayush Agarwal (aagarwal1012)',\n",
       " 'Adrian Li (adrianmcli)']"
      ]
     },
     "execution_count": 3,
     "metadata": {},
     "output_type": "execute_result"
    }
   ],
   "source": [
    "# your code here\n",
    "\n",
    "html = requests.get(url).content\n",
    "\n",
    "soup = BeautifulSoup(html, 'html.parser')\n",
    "soup\n",
    "\n",
    "tags = ['h1', 'p']\n",
    "text = [element.text for element in soup.find_all(tags)]\n",
    "text\n",
    "\n",
    "elements = [el.strip() for el in text]\n",
    "\n",
    "elements = elements[2:]\n",
    "del elements[2::3]\n",
    "elements\n",
    "\n",
    "i = 0\n",
    "final_lst = []\n",
    "\n",
    "while i < (len(elements)-1):\n",
    "    final_lst.append(elements[i]+\" (\"+elements[i+1]+\")\")\n",
    "    i += 2\n",
    "\n",
    "# I chose to represent the list as 'name (nickname)'\n",
    "\n",
    "final_lst\n"
   ]
  },
  {
   "cell_type": "markdown",
   "metadata": {},
   "source": [
    "#### Display the names of the trending developers retrieved in the previous step.\n",
    "\n",
    "Your output should be a Python list of developer names. Each name should not contain any html tag.\n",
    "\n",
    "**Instructions:**\n",
    "\n",
    "1. Find out the html tag and class names used for the developer names. You can achieve this using Chrome DevTools.\n",
    "\n",
    "1. Use BeautifulSoup to extract all the html elements that contain the developer names.\n",
    "\n",
    "1. Use string manipulation techniques to replace whitespaces and linebreaks (i.e. `\\n`) in the *text* of each html element. Use a list to store the clean names.\n",
    "\n",
    "1. Print the list of names.\n",
    "\n",
    "Your output should look like below:\n",
    "\n",
    "```\n",
    "['trimstray (@trimstray)',\n",
    " 'joewalnes (JoeWalnes)',\n",
    " 'charlax (Charles-AxelDein)',\n",
    " 'ForrestKnight (ForrestKnight)',\n",
    " 'revery-ui (revery-ui)',\n",
    " 'alibaba (Alibaba)',\n",
    " 'Microsoft (Microsoft)',\n",
    " 'github (GitHub)',\n",
    " 'facebook (Facebook)',\n",
    " 'boazsegev (Bo)',\n",
    " 'google (Google)',\n",
    " 'cloudfetch',\n",
    " 'sindresorhus (SindreSorhus)',\n",
    " 'tensorflow',\n",
    " 'apache (TheApacheSoftwareFoundation)',\n",
    " 'DevonCrawford (DevonCrawford)',\n",
    " 'ARMmbed (ArmMbed)',\n",
    " 'vuejs (vuejs)',\n",
    " 'fastai (fast.ai)',\n",
    " 'QiShaoXuan (Qi)',\n",
    " 'joelparkerhenderson (JoelParkerHenderson)',\n",
    " 'torvalds (LinusTorvalds)',\n",
    " 'CyC2018',\n",
    " 'komeiji-satori (神楽坂覚々)',\n",
    " 'script-8']\n",
    " ```"
   ]
  },
  {
   "cell_type": "code",
   "execution_count": 4,
   "metadata": {},
   "outputs": [
    {
     "data": {
      "text/plain": [
       "['Stefano Gottardo (CastagnaIT)',\n",
       " 'Zack Jackson (ScriptedAlchemy)',\n",
       " 'Arvid Norberg (arvidn)',\n",
       " 'Stefan Prodan (stefanprodan)',\n",
       " 'Luan Nico (luanpotter)',\n",
       " 'Dotan Simha (dotansimha)',\n",
       " 'Anthony Fu (antfu)',\n",
       " 'Tyler Neely (spacejam)',\n",
       " 'Christopher Rackauckas (ChrisRackauckas)',\n",
       " 'Samuel Colvin (samuelcolvin)',\n",
       " 'Michael Fabian Dirks (Xaymar)',\n",
       " 'Will McGugan (willmcgugan)',\n",
       " 'Rick Bergfalk (rickbergfalk)',\n",
       " 'Michael Herman (mjhea0)',\n",
       " 'Daybrush (Younkue Choi) (daybrush)',\n",
       " 'Miguel de Icaza (migueldeicaza)',\n",
       " 'Hiroshi Kimura (muukii)',\n",
       " 'Daniel Lemire (lemire)',\n",
       " 'Anthony Sottile (asottile)',\n",
       " 'dylan (dylanaraps)',\n",
       " 'Simon Willison (simonw)',\n",
       " 'Ahmet Alp Balkan (ahmetb)',\n",
       " 'Paulus Schoutsen (balloob)',\n",
       " 'Ayush Agarwal (aagarwal1012)',\n",
       " 'Adrian Li (adrianmcli)']"
      ]
     },
     "execution_count": 4,
     "metadata": {},
     "output_type": "execute_result"
    }
   ],
   "source": [
    "# your code here\n",
    "\n",
    "tags = ['h1', 'p']\n",
    "text = [element.text for element in soup.find_all(tags)]\n",
    "text\n",
    "\n",
    "# Cleaning up the text from unwanted spaces and \\n\n",
    "\n",
    "elements = [el.strip() for el in text]\n",
    "\n",
    "# Deleting unwanted elements from the list (2 titles and repository names)\n",
    "\n",
    "elements = elements[2:]\n",
    "del elements[2::3]\n",
    "elements\n",
    "\n",
    "# I chose to represent the list as 'name (nickname)'\n",
    "\n",
    "i = 0\n",
    "final_lst = []\n",
    "\n",
    "while i < (len(elements)-1):\n",
    "    final_lst.append(elements[i]+\" (\"+elements[i+1]+\")\")\n",
    "    i += 2\n",
    "\n",
    "final_lst\n"
   ]
  },
  {
   "cell_type": "markdown",
   "metadata": {},
   "source": [
    "#### Display the trending Python repositories in GitHub.\n",
    "\n",
    "The steps to solve this problem is similar to the previous one except that you need to find out the repository names instead of developer names."
   ]
  },
  {
   "cell_type": "code",
   "execution_count": 5,
   "metadata": {},
   "outputs": [],
   "source": [
    "# This is the url you will scrape in this exercise\n",
    "url = 'https://github.com/trending/python?since=daily'"
   ]
  },
  {
   "cell_type": "code",
   "execution_count": 6,
   "metadata": {
    "scrolled": true
   },
   "outputs": [
    {
     "data": {
      "text/plain": [
       "['dabeaz-course/practical-python',\n",
       " 'freqtrade/freqtrade',\n",
       " 'podgorskiy/ALAE',\n",
       " 'lazyprogrammer/machine_learning_examples',\n",
       " 'Project-MONAI/MONAI',\n",
       " 'hudson-and-thames/mlfinlab',\n",
       " 'PrefectHQ/prefect',\n",
       " 'django/django',\n",
       " 'josephius/star-clustering',\n",
       " 'joshiemoore/snakeware',\n",
       " 'chonyy/AI-basketball-analysis',\n",
       " 'iperov/DeepFaceLab',\n",
       " 'PyTorchLightning/pytorch-lightning',\n",
       " 'mementum/backtrader',\n",
       " 'networkx/networkx',\n",
       " 'rajkumardusad/Tool-X',\n",
       " '3b1b/manim',\n",
       " 'mirumee/saleor',\n",
       " 'mkocabas/VIBE',\n",
       " 'encode/django-rest-framework',\n",
       " 'keras-team/keras',\n",
       " 'swisskyrepo/PayloadsAllTheThings',\n",
       " 'scikit-learn/scikit-learn',\n",
       " 'mart1nro/joycontrol',\n",
       " 'rafalp/Misago']"
      ]
     },
     "execution_count": 6,
     "metadata": {},
     "output_type": "execute_result"
    }
   ],
   "source": [
    "# your code here\n",
    "\n",
    "html = requests.get(url).content\n",
    "\n",
    "soup = BeautifulSoup(html)\n",
    "soup\n",
    "\n",
    "tags = ['h1', 'p']\n",
    "text = [element.text for element in soup.find_all(tags)][2:]\n",
    "text\n",
    "\n",
    "# Cleaning up the text from unwanted spaces and \\n\n",
    "\n",
    "elements = [el.strip() for el in text]\n",
    "del elements[1::2]\n",
    "elements\n",
    "\n",
    "repositories = [el.replace(\" /\\n\\n\\n\\n      \", \"/\") for el in elements]\n",
    "\n",
    "repositories"
   ]
  },
  {
   "cell_type": "markdown",
   "metadata": {},
   "source": [
    "#### Display all the image links from Walt Disney wikipedia page."
   ]
  },
  {
   "cell_type": "code",
   "execution_count": 7,
   "metadata": {},
   "outputs": [],
   "source": [
    "# This is the url you will scrape in this exercise\n",
    "url = 'https://en.wikipedia.org/wiki/Walt_Disney'"
   ]
  },
  {
   "cell_type": "code",
   "execution_count": 8,
   "metadata": {},
   "outputs": [
    {
     "data": {
      "text/plain": [
       "['//upload.wikimedia.org/wikipedia/commons/thumb/d/df/Walt_Disney_1946.JPG/220px-Walt_Disney_1946.JPG',\n",
       " '//upload.wikimedia.org/wikipedia/commons/thumb/8/87/Walt_Disney_1942_signature.svg/150px-Walt_Disney_1942_signature.svg.png',\n",
       " '//upload.wikimedia.org/wikipedia/commons/thumb/c/c4/Walt_Disney_envelope_ca._1921.jpg/220px-Walt_Disney_envelope_ca._1921.jpg',\n",
       " '//upload.wikimedia.org/wikipedia/commons/thumb/0/0d/Trolley_Troubles_poster.jpg/170px-Trolley_Troubles_poster.jpg',\n",
       " '//upload.wikimedia.org/wikipedia/commons/thumb/7/71/Walt_Disney_and_his_cartoon_creation_%22Mickey_Mouse%22_-_National_Board_of_Review_Magazine.jpg/170px-Walt_Disney_and_his_cartoon_creation_%22Mickey_Mouse%22_-_National_Board_of_Review_Magazine.jpg',\n",
       " '//upload.wikimedia.org/wikipedia/en/thumb/4/4e/Steamboat-willie.jpg/170px-Steamboat-willie.jpg',\n",
       " '//upload.wikimedia.org/wikipedia/commons/thumb/5/57/Walt_Disney_1935.jpg/170px-Walt_Disney_1935.jpg',\n",
       " '//upload.wikimedia.org/wikipedia/commons/thumb/c/cd/Walt_Disney_Snow_white_1937_trailer_screenshot_%2813%29.jpg/220px-Walt_Disney_Snow_white_1937_trailer_screenshot_%2813%29.jpg',\n",
       " '//upload.wikimedia.org/wikipedia/commons/thumb/1/15/Disney_drawing_goofy.jpg/170px-Disney_drawing_goofy.jpg',\n",
       " '//upload.wikimedia.org/wikipedia/commons/thumb/1/13/DisneySchiphol1951.jpg/220px-DisneySchiphol1951.jpg',\n",
       " '//upload.wikimedia.org/wikipedia/commons/thumb/8/8c/WaltDisneyplansDisneylandDec1954.jpg/220px-WaltDisneyplansDisneylandDec1954.jpg',\n",
       " '//upload.wikimedia.org/wikipedia/commons/thumb/f/ff/Walt_disney_portrait_right.jpg/170px-Walt_disney_portrait_right.jpg',\n",
       " '//upload.wikimedia.org/wikipedia/commons/thumb/1/1a/Walt_Disney_Grave.JPG/170px-Walt_Disney_Grave.JPG',\n",
       " '//upload.wikimedia.org/wikipedia/commons/thumb/2/2d/Roy_O._Disney_with_Company_at_Press_Conference.jpg/170px-Roy_O._Disney_with_Company_at_Press_Conference.jpg',\n",
       " '//upload.wikimedia.org/wikipedia/commons/thumb/a/a9/Disney_Display_Case.JPG/170px-Disney_Display_Case.JPG',\n",
       " '//upload.wikimedia.org/wikipedia/commons/thumb/6/6c/Disney1968.jpg/170px-Disney1968.jpg',\n",
       " '//upload.wikimedia.org/wikipedia/commons/thumb/4/44/The_Walt_Disney_Company_Logo.svg/120px-The_Walt_Disney_Company_Logo.svg.png',\n",
       " '//upload.wikimedia.org/wikipedia/commons/thumb/d/da/Animation_disc.svg/30px-Animation_disc.svg.png',\n",
       " '//upload.wikimedia.org/wikipedia/en/thumb/6/69/P_vip.svg/29px-P_vip.svg.png',\n",
       " '//upload.wikimedia.org/wikipedia/commons/thumb/1/1a/Magic_Kingdom_castle.jpg/24px-Magic_Kingdom_castle.jpg',\n",
       " '//upload.wikimedia.org/wikipedia/en/thumb/e/e7/Video-x-generic.svg/30px-Video-x-generic.svg.png',\n",
       " '//upload.wikimedia.org/wikipedia/commons/thumb/a/a3/Flag_of_Los_Angeles_County%2C_California.svg/30px-Flag_of_Los_Angeles_County%2C_California.svg.png',\n",
       " '//upload.wikimedia.org/wikipedia/commons/thumb/8/8c/Blank_television_set.svg/30px-Blank_television_set.svg.png',\n",
       " '//upload.wikimedia.org/wikipedia/en/thumb/a/a4/Flag_of_the_United_States.svg/30px-Flag_of_the_United_States.svg.png']"
      ]
     },
     "execution_count": 8,
     "metadata": {},
     "output_type": "execute_result"
    }
   ],
   "source": [
    "# your code here\n",
    "\n",
    "html = requests.get(url).content\n",
    "\n",
    "soup = BeautifulSoup(html)\n",
    "soup\n",
    "\n",
    "sub_soup = soup.find_all('a', {'class': 'image'})\n",
    "sub_soup\n",
    "\n",
    "lst = [i.find('img')['src'] for i in sub_soup]\n",
    "lst\n"
   ]
  },
  {
   "cell_type": "markdown",
   "metadata": {},
   "source": [
    "#### Retrieve an arbitary Wikipedia page of \"Python\" and create a list of links on that page."
   ]
  },
  {
   "cell_type": "code",
   "execution_count": 9,
   "metadata": {},
   "outputs": [],
   "source": [
    "# This is the url you will scrape in this exercise\n",
    "url ='https://en.wikipedia.org/wiki/Python'"
   ]
  },
  {
   "cell_type": "code",
   "execution_count": 10,
   "metadata": {},
   "outputs": [
    {
     "ename": "AttributeError",
     "evalue": "'NoneType' object has no attribute 'startswith'",
     "output_type": "error",
     "traceback": [
      "\u001b[0;31m---------------------------------------------------------------------------\u001b[0m",
      "\u001b[0;31mAttributeError\u001b[0m                            Traceback (most recent call last)",
      "\u001b[0;32m<ipython-input-10-4eafdd6914f1>\u001b[0m in \u001b[0;36m<module>\u001b[0;34m\u001b[0m\n\u001b[1;32m     22\u001b[0m \u001b[0;34m\u001b[0m\u001b[0m\n\u001b[1;32m     23\u001b[0m \u001b[0;32mfor\u001b[0m \u001b[0mword\u001b[0m \u001b[0;32min\u001b[0m \u001b[0mlst\u001b[0m\u001b[0;34m[\u001b[0m\u001b[0;34m:\u001b[0m\u001b[0;34m]\u001b[0m\u001b[0;34m:\u001b[0m\u001b[0;34m\u001b[0m\u001b[0;34m\u001b[0m\u001b[0m\n\u001b[0;32m---> 24\u001b[0;31m     \u001b[0;32mif\u001b[0m \u001b[0mword\u001b[0m\u001b[0;34m.\u001b[0m\u001b[0mstartswith\u001b[0m\u001b[0;34m(\u001b[0m\u001b[0mpref\u001b[0m\u001b[0;34m)\u001b[0m\u001b[0;34m:\u001b[0m\u001b[0;34m\u001b[0m\u001b[0;34m\u001b[0m\u001b[0m\n\u001b[0m\u001b[1;32m     25\u001b[0m         \u001b[0mlst\u001b[0m\u001b[0;34m.\u001b[0m\u001b[0mremove\u001b[0m\u001b[0;34m(\u001b[0m\u001b[0mword\u001b[0m\u001b[0;34m)\u001b[0m\u001b[0;34m\u001b[0m\u001b[0;34m\u001b[0m\u001b[0m\n\u001b[1;32m     26\u001b[0m \u001b[0;34m\u001b[0m\u001b[0m\n",
      "\u001b[0;31mAttributeError\u001b[0m: 'NoneType' object has no attribute 'startswith'"
     ]
    }
   ],
   "source": [
    "# your code here\n",
    "\n",
    "# Useful link:     \n",
    "# https://www.crummy.com/software/BeautifulSoup/bs4/doc/#find-all\n",
    "\n",
    "html = requests.get(url).content\n",
    "soup = BeautifulSoup(html)\n",
    "soup\n",
    "\n",
    "sub_soup = soup.find_all('a')\n",
    "sub_soup\n",
    "\n",
    "lst = [tag.get('href') for tag in sub_soup]\n",
    "lst\n",
    "\n",
    "pref = '#'\n",
    "\n",
    "# The syntax below returns True: \n",
    "# lst[2].startswith(\"#\")\n",
    "\n",
    "# The code below does not work, cannot understand the reason:\n",
    "\n",
    "for word in lst[:]: \n",
    "    if word.startswith(pref): \n",
    "        lst.remove(word)\n",
    "\n",
    "lst"
   ]
  },
  {
   "cell_type": "markdown",
   "metadata": {},
   "source": [
    "#### Find the number of titles that have changed in the United States Code since its last release point."
   ]
  },
  {
   "cell_type": "code",
   "execution_count": 11,
   "metadata": {},
   "outputs": [],
   "source": [
    "# This is the url you will scrape in this exercise\n",
    "url = 'http://uscode.house.gov/download/download.shtml'"
   ]
  },
  {
   "cell_type": "code",
   "execution_count": 12,
   "metadata": {},
   "outputs": [
    {
     "data": {
      "text/plain": [
       "2"
      ]
     },
     "execution_count": 12,
     "metadata": {},
     "output_type": "execute_result"
    }
   ],
   "source": [
    "# your code here\n",
    "\n",
    "html = requests.get(url).content\n",
    "soup = BeautifulSoup(html)\n",
    "soup\n",
    "\n",
    "# Titles in bold have been changed since the last release point.\n",
    "# <div class=\"usctitlechanged\"\n",
    "\n",
    "sub_soup = soup.find_all('div', {'class': 'usctitlechanged'})\n",
    "len(sub_soup)\n"
   ]
  },
  {
   "cell_type": "markdown",
   "metadata": {},
   "source": [
    "#### Find a Python list with the top ten FBI's Most Wanted names."
   ]
  },
  {
   "cell_type": "code",
   "execution_count": 13,
   "metadata": {},
   "outputs": [],
   "source": [
    "# This is the url you will scrape in this exercise\n",
    "url = 'https://www.fbi.gov/wanted/topten'"
   ]
  },
  {
   "cell_type": "code",
   "execution_count": 14,
   "metadata": {},
   "outputs": [
    {
     "data": {
      "text/plain": [
       "['SANTIAGO VILLALBA MEDEROS',\n",
       " 'RAFAEL CARO-QUINTERO',\n",
       " 'ROBERT WILLIAM FISHER',\n",
       " 'BHADRESHKUMAR CHETANBHAI PATEL',\n",
       " 'ALEJANDRO ROSALES CASTILLO',\n",
       " 'ARNOLDO JIMENEZ',\n",
       " 'JASON DEREK BROWN',\n",
       " 'YASER ABDEL SAID',\n",
       " 'ALEXIS FLORES',\n",
       " 'EUGENE PALMER']"
      ]
     },
     "execution_count": 14,
     "metadata": {},
     "output_type": "execute_result"
    }
   ],
   "source": [
    "# your code here\n",
    "\n",
    "# LAB FOR TODAY\n",
    "\n",
    "html = requests.get(url).content\n",
    "soup = BeautifulSoup(html)\n",
    "soup\n",
    "\n",
    "sub_soup = soup.find_all(\"img\", {\"class\" : \"\"})\n",
    "sub_soup\n",
    "\n",
    "lst = [tag.get('alt') for tag in sub_soup]\n",
    "lst = lst[1:]\n",
    "lst"
   ]
  },
  {
   "cell_type": "markdown",
   "metadata": {},
   "source": [
    "####  Display the 20 latest earthquakes info (date, time, latitude, longitude and region name) by the EMSC as a pandas dataframe."
   ]
  },
  {
   "cell_type": "code",
   "execution_count": 1,
   "metadata": {},
   "outputs": [],
   "source": [
    "# This is the url you will scrape in this exercise\n",
    "url = 'https://www.emsc-csem.org/Earthquake/'"
   ]
  },
  {
   "cell_type": "code",
   "execution_count": 5,
   "metadata": {},
   "outputs": [
    {
     "data": {
      "text/html": [
       "<div>\n",
       "<style scoped>\n",
       "    .dataframe tbody tr th:only-of-type {\n",
       "        vertical-align: middle;\n",
       "    }\n",
       "\n",
       "    .dataframe tbody tr th {\n",
       "        vertical-align: top;\n",
       "    }\n",
       "\n",
       "    .dataframe thead th {\n",
       "        text-align: right;\n",
       "    }\n",
       "</style>\n",
       "<table border=\"1\" class=\"dataframe\">\n",
       "  <thead>\n",
       "    <tr style=\"text-align: right;\">\n",
       "      <th></th>\n",
       "      <th>Date</th>\n",
       "      <th>Time</th>\n",
       "      <th>Latitude</th>\n",
       "      <th>Longitude</th>\n",
       "      <th>Depth</th>\n",
       "      <th>Magnitude</th>\n",
       "      <th>Region</th>\n",
       "    </tr>\n",
       "  </thead>\n",
       "  <tbody>\n",
       "    <tr>\n",
       "      <th>0</th>\n",
       "      <td>2020-06-01</td>\n",
       "      <td>19:43:30.0</td>\n",
       "      <td>31.00 N</td>\n",
       "      <td>131.50 E</td>\n",
       "      <td>40</td>\n",
       "      <td>3.5</td>\n",
       "      <td>KYUSHU, JAPAN</td>\n",
       "    </tr>\n",
       "    <tr>\n",
       "      <th>1</th>\n",
       "      <td>2020-06-01</td>\n",
       "      <td>19:37:59.1</td>\n",
       "      <td>44.56 N</td>\n",
       "      <td>115.22 W</td>\n",
       "      <td>10</td>\n",
       "      <td>2.4</td>\n",
       "      <td>SOUTHERN IDAHO</td>\n",
       "    </tr>\n",
       "    <tr>\n",
       "      <th>2</th>\n",
       "      <td>2020-06-01</td>\n",
       "      <td>19:28:14.0</td>\n",
       "      <td>15.09 N</td>\n",
       "      <td>94.46 W</td>\n",
       "      <td>16</td>\n",
       "      <td>4.4</td>\n",
       "      <td>OFF COAST OF CHIAPAS, MEXICO</td>\n",
       "    </tr>\n",
       "    <tr>\n",
       "      <th>3</th>\n",
       "      <td>2020-06-01</td>\n",
       "      <td>19:19:05.0</td>\n",
       "      <td>38.14 N</td>\n",
       "      <td>117.88 W</td>\n",
       "      <td>6</td>\n",
       "      <td>2.1</td>\n",
       "      <td>NEVADA</td>\n",
       "    </tr>\n",
       "    <tr>\n",
       "      <th>4</th>\n",
       "      <td>2020-06-01</td>\n",
       "      <td>19:15:22.8</td>\n",
       "      <td>17.97 N</td>\n",
       "      <td>66.95 W</td>\n",
       "      <td>10</td>\n",
       "      <td>2.4</td>\n",
       "      <td>PUERTO RICO</td>\n",
       "    </tr>\n",
       "    <tr>\n",
       "      <th>5</th>\n",
       "      <td>2020-06-01</td>\n",
       "      <td>19:07:29.5</td>\n",
       "      <td>18.03 N</td>\n",
       "      <td>66.78 W</td>\n",
       "      <td>16</td>\n",
       "      <td>2.4</td>\n",
       "      <td>PUERTO RICO</td>\n",
       "    </tr>\n",
       "    <tr>\n",
       "      <th>6</th>\n",
       "      <td>2020-06-01</td>\n",
       "      <td>18:57:42.4</td>\n",
       "      <td>15.12 S</td>\n",
       "      <td>167.50 E</td>\n",
       "      <td>117</td>\n",
       "      <td>4.8</td>\n",
       "      <td>VANUATU</td>\n",
       "    </tr>\n",
       "    <tr>\n",
       "      <th>7</th>\n",
       "      <td>2020-06-01</td>\n",
       "      <td>18:57:02.1</td>\n",
       "      <td>40.50 N</td>\n",
       "      <td>20.91 E</td>\n",
       "      <td>13</td>\n",
       "      <td>2.4</td>\n",
       "      <td>ALBANIA</td>\n",
       "    </tr>\n",
       "    <tr>\n",
       "      <th>8</th>\n",
       "      <td>2020-06-01</td>\n",
       "      <td>18:52:45.7</td>\n",
       "      <td>17.91 N</td>\n",
       "      <td>66.92 W</td>\n",
       "      <td>11</td>\n",
       "      <td>2.2</td>\n",
       "      <td>PUERTO RICO REGION</td>\n",
       "    </tr>\n",
       "    <tr>\n",
       "      <th>9</th>\n",
       "      <td>2020-06-01</td>\n",
       "      <td>18:47:36.5</td>\n",
       "      <td>17.99 N</td>\n",
       "      <td>66.80 W</td>\n",
       "      <td>16</td>\n",
       "      <td>2.5</td>\n",
       "      <td>PUERTO RICO REGION</td>\n",
       "    </tr>\n",
       "    <tr>\n",
       "      <th>10</th>\n",
       "      <td>2020-06-01</td>\n",
       "      <td>18:37:52.7</td>\n",
       "      <td>38.17 N</td>\n",
       "      <td>117.97 W</td>\n",
       "      <td>0</td>\n",
       "      <td>2.2</td>\n",
       "      <td>NEVADA</td>\n",
       "    </tr>\n",
       "    <tr>\n",
       "      <th>11</th>\n",
       "      <td>2020-06-01</td>\n",
       "      <td>18:30:16.0</td>\n",
       "      <td>38.13 N</td>\n",
       "      <td>118.00 W</td>\n",
       "      <td>3</td>\n",
       "      <td>2.2</td>\n",
       "      <td>NEVADA</td>\n",
       "    </tr>\n",
       "    <tr>\n",
       "      <th>12</th>\n",
       "      <td>2020-06-01</td>\n",
       "      <td>18:09:05.1</td>\n",
       "      <td>44.31 N</td>\n",
       "      <td>115.05 W</td>\n",
       "      <td>5</td>\n",
       "      <td>2.3</td>\n",
       "      <td>SOUTHERN IDAHO</td>\n",
       "    </tr>\n",
       "    <tr>\n",
       "      <th>13</th>\n",
       "      <td>2020-06-01</td>\n",
       "      <td>18:07:09.0</td>\n",
       "      <td>0.23 N</td>\n",
       "      <td>99.98 E</td>\n",
       "      <td>10</td>\n",
       "      <td>2.5</td>\n",
       "      <td>NORTHERN SUMATRA, INDONESIA</td>\n",
       "    </tr>\n",
       "    <tr>\n",
       "      <th>14</th>\n",
       "      <td>2020-06-01</td>\n",
       "      <td>18:06:16.9</td>\n",
       "      <td>60.49 N</td>\n",
       "      <td>152.04 W</td>\n",
       "      <td>82</td>\n",
       "      <td>2.7</td>\n",
       "      <td>SOUTHERN ALASKA</td>\n",
       "    </tr>\n",
       "    <tr>\n",
       "      <th>15</th>\n",
       "      <td>2020-06-01</td>\n",
       "      <td>18:05:55.0</td>\n",
       "      <td>17.97 N</td>\n",
       "      <td>66.84 W</td>\n",
       "      <td>15</td>\n",
       "      <td>2.3</td>\n",
       "      <td>PUERTO RICO</td>\n",
       "    </tr>\n",
       "    <tr>\n",
       "      <th>16</th>\n",
       "      <td>2020-06-01</td>\n",
       "      <td>18:05:44.5</td>\n",
       "      <td>49.05 N</td>\n",
       "      <td>23.99 E</td>\n",
       "      <td>2</td>\n",
       "      <td>2.4</td>\n",
       "      <td>UKRAINE</td>\n",
       "    </tr>\n",
       "    <tr>\n",
       "      <th>17</th>\n",
       "      <td>2020-06-01</td>\n",
       "      <td>17:44:50.7</td>\n",
       "      <td>18.03 N</td>\n",
       "      <td>66.78 W</td>\n",
       "      <td>13</td>\n",
       "      <td>2.3</td>\n",
       "      <td>PUERTO RICO</td>\n",
       "    </tr>\n",
       "    <tr>\n",
       "      <th>18</th>\n",
       "      <td>2020-06-01</td>\n",
       "      <td>17:15:10.6</td>\n",
       "      <td>40.30 N</td>\n",
       "      <td>124.57 W</td>\n",
       "      <td>18</td>\n",
       "      <td>2.4</td>\n",
       "      <td>OFFSHORE NORTHERN CALIFORNIA</td>\n",
       "    </tr>\n",
       "    <tr>\n",
       "      <th>19</th>\n",
       "      <td>2020-06-01</td>\n",
       "      <td>17:10:43.6</td>\n",
       "      <td>17.95 N</td>\n",
       "      <td>66.34 W</td>\n",
       "      <td>8</td>\n",
       "      <td>3.1</td>\n",
       "      <td>PUERTO RICO REGION</td>\n",
       "    </tr>\n",
       "  </tbody>\n",
       "</table>\n",
       "</div>"
      ],
      "text/plain": [
       "          Date        Time Latitude Longitude Depth Magnitude  \\\n",
       "0   2020-06-01  19:43:30.0  31.00 N  131.50 E    40       3.5   \n",
       "1   2020-06-01  19:37:59.1  44.56 N  115.22 W    10       2.4   \n",
       "2   2020-06-01  19:28:14.0  15.09 N   94.46 W    16       4.4   \n",
       "3   2020-06-01  19:19:05.0  38.14 N  117.88 W     6       2.1   \n",
       "4   2020-06-01  19:15:22.8  17.97 N   66.95 W    10       2.4   \n",
       "5   2020-06-01  19:07:29.5  18.03 N   66.78 W    16       2.4   \n",
       "6   2020-06-01  18:57:42.4  15.12 S  167.50 E   117       4.8   \n",
       "7   2020-06-01  18:57:02.1  40.50 N   20.91 E    13       2.4   \n",
       "8   2020-06-01  18:52:45.7  17.91 N   66.92 W    11       2.2   \n",
       "9   2020-06-01  18:47:36.5  17.99 N   66.80 W    16       2.5   \n",
       "10  2020-06-01  18:37:52.7  38.17 N  117.97 W     0       2.2   \n",
       "11  2020-06-01  18:30:16.0  38.13 N  118.00 W     3       2.2   \n",
       "12  2020-06-01  18:09:05.1  44.31 N  115.05 W     5       2.3   \n",
       "13  2020-06-01  18:07:09.0   0.23 N   99.98 E    10       2.5   \n",
       "14  2020-06-01  18:06:16.9  60.49 N  152.04 W    82       2.7   \n",
       "15  2020-06-01  18:05:55.0  17.97 N   66.84 W    15       2.3   \n",
       "16  2020-06-01  18:05:44.5  49.05 N   23.99 E     2       2.4   \n",
       "17  2020-06-01  17:44:50.7  18.03 N   66.78 W    13       2.3   \n",
       "18  2020-06-01  17:15:10.6  40.30 N  124.57 W    18       2.4   \n",
       "19  2020-06-01  17:10:43.6  17.95 N   66.34 W     8       3.1   \n",
       "\n",
       "                          Region  \n",
       "0                  KYUSHU, JAPAN  \n",
       "1                 SOUTHERN IDAHO  \n",
       "2   OFF COAST OF CHIAPAS, MEXICO  \n",
       "3                         NEVADA  \n",
       "4                    PUERTO RICO  \n",
       "5                    PUERTO RICO  \n",
       "6                        VANUATU  \n",
       "7                        ALBANIA  \n",
       "8             PUERTO RICO REGION  \n",
       "9             PUERTO RICO REGION  \n",
       "10                        NEVADA  \n",
       "11                        NEVADA  \n",
       "12                SOUTHERN IDAHO  \n",
       "13   NORTHERN SUMATRA, INDONESIA  \n",
       "14               SOUTHERN ALASKA  \n",
       "15                   PUERTO RICO  \n",
       "16                       UKRAINE  \n",
       "17                   PUERTO RICO  \n",
       "18  OFFSHORE NORTHERN CALIFORNIA  \n",
       "19            PUERTO RICO REGION  "
      ]
     },
     "execution_count": 5,
     "metadata": {},
     "output_type": "execute_result"
    }
   ],
   "source": [
    "# your code here\n",
    "\n",
    "html = requests.get(url).content\n",
    "soup = BeautifulSoup(html, \"lxml\")\n",
    "earthquakes = soup.find('tbody',{\"id\" : \"tbody\"}).find_all('tr')\n",
    "\n",
    "# earthquake\n",
    "\n",
    "n_quakes = 20\n",
    "latest_earthquakes = []\n",
    "\n",
    "for earthquake in earthquakes[:n_quakes]:\n",
    "    # Date and time\n",
    "    date, time = earthquake.find('td', {'class': 'tabev6'}).find('a').text.split()\n",
    "    # Latitude and longitude, magnitude\n",
    "    lat_deg, lon_deg = earthquake.find_all('td', {'class': 'tabev1'})\n",
    "    lat_dir, lon_dir, magnitude = earthquake.find_all('td', {'class': 'tabev2'})\n",
    "    lat_deg = f\"{lat_deg.text.strip()} {lat_dir.text.strip()}\"\n",
    "    lon_deg = f\"{lon_deg.text.strip()} {lon_dir.text.strip()}\"\n",
    "    magnitude = f\"{magnitude.text.strip()}\"\n",
    "    # Depth\n",
    "    depth = earthquake.find('td', {'class': 'tabev3'}).text\n",
    "    # Region\n",
    "    region = earthquake.find('td', {'class': 'tb_region'}).text.strip()\n",
    "    # Create list of information and append\n",
    "    earthquake_summary = [date, time, lat_deg , lon_deg, depth, magnitude, region]\n",
    "    latest_earthquakes.append(earthquake_summary)\n",
    "\n",
    "df = pd.DataFrame(latest_earthquakes, columns=['Date', 'Time', 'Latitude', 'Longitude', 'Depth', 'Magnitude', 'Region']);\n",
    "df\n"
   ]
  },
  {
   "cell_type": "markdown",
   "metadata": {},
   "source": [
    "#### Count the number of tweets by a given Twitter account.\n",
    "Ask the user for the handle (@handle) of a twitter account. You will need to include a ***try/except block*** for account names not found. \n",
    "<br>***Hint:*** the program should count the number of tweets for any provided account."
   ]
  },
  {
   "cell_type": "code",
   "execution_count": null,
   "metadata": {},
   "outputs": [],
   "source": [
    "# This is the url you will scrape in this exercise \n",
    "# You will need to add the account credentials to this url\n",
    "url = 'https://twitter.com/'"
   ]
  },
  {
   "cell_type": "code",
   "execution_count": null,
   "metadata": {},
   "outputs": [],
   "source": [
    "# your code here\n",
    "\n"
   ]
  },
  {
   "cell_type": "markdown",
   "metadata": {},
   "source": [
    "#### Number of followers of a given twitter account\n",
    "Ask the user for the handle (@handle) of a twitter account. You will need to include a ***try/except block*** for account names not found. \n",
    "<br>***Hint:*** the program should count the followers for any provided account."
   ]
  },
  {
   "cell_type": "code",
   "execution_count": null,
   "metadata": {},
   "outputs": [],
   "source": [
    "# This is the url you will scrape in this exercise \n",
    "# You will need to add the account credentials to this url\n",
    "url = 'https://twitter.com/'"
   ]
  },
  {
   "cell_type": "code",
   "execution_count": null,
   "metadata": {},
   "outputs": [],
   "source": [
    "# your code here"
   ]
  },
  {
   "cell_type": "markdown",
   "metadata": {},
   "source": [
    "#### List all language names and number of related articles in the order they appear in wikipedia.org."
   ]
  },
  {
   "cell_type": "code",
   "execution_count": 6,
   "metadata": {},
   "outputs": [],
   "source": [
    "# This is the url you will scrape in this exercise\n",
    "url = 'https://www.wikipedia.org/'"
   ]
  },
  {
   "cell_type": "code",
   "execution_count": 13,
   "metadata": {},
   "outputs": [
    {
     "name": "stdout",
     "output_type": "stream",
     "text": [
      "English\n",
      "6 090 000+ articles\n",
      "Español\n",
      "1 602 000+ artículos\n",
      "日本語\n",
      "1 209 000+ 記事\n",
      "Deutsch\n",
      "2 439 000+ Artikel\n",
      "Русский\n",
      "1 631 000+ статей\n",
      "Français\n",
      "2 222 000+ articles\n",
      "Italiano\n",
      "1 611 000+ voci\n",
      "中文\n",
      "1 122 000+ 條目\n",
      "Português\n",
      "1 033 000+ artigos\n",
      "Polski\n",
      "1 412 000+ haseł\n"
     ]
    }
   ],
   "source": [
    "# your code here\n",
    "\n",
    "html = requests.get(url).content\n",
    "soup = BeautifulSoup(html, \"lxml\")\n",
    "\n",
    "languages = soup.find_all('div',{\"class\" : \"central-featured-lang\"})\n",
    "languages\n",
    "\n",
    "for language in languages:\n",
    "    print(language.text.strip())"
   ]
  },
  {
   "cell_type": "markdown",
   "metadata": {},
   "source": [
    "#### A list with the different kind of datasets available in data.gov.uk."
   ]
  },
  {
   "cell_type": "code",
   "execution_count": 14,
   "metadata": {},
   "outputs": [],
   "source": [
    "# This is the url you will scrape in this exercise\n",
    "url = 'https://data.gov.uk/'"
   ]
  },
  {
   "cell_type": "code",
   "execution_count": 20,
   "metadata": {},
   "outputs": [
    {
     "name": "stdout",
     "output_type": "stream",
     "text": [
      "Business and economy\n",
      "Crime and justice\n",
      "Defence\n",
      "Education\n",
      "Environment\n",
      "Government\n",
      "Government spending\n",
      "Health\n",
      "Mapping\n",
      "Society\n",
      "Towns and cities\n",
      "Transport\n"
     ]
    }
   ],
   "source": [
    "# your code here\n",
    "\n",
    "html = requests.get(url).content\n",
    "soup = BeautifulSoup(html, \"lxml\")\n",
    "\n",
    "datasets = soup.find_all('h2')\n",
    "\n",
    "for line in datasets:\n",
    "    print(line.text.strip())\n"
   ]
  },
  {
   "cell_type": "markdown",
   "metadata": {},
   "source": [
    "#### Display the top 10 languages by number of native speakers stored in a pandas dataframe."
   ]
  },
  {
   "cell_type": "code",
   "execution_count": 30,
   "metadata": {},
   "outputs": [],
   "source": [
    "# This is the url you will scrape in this exercise\n",
    "url = 'https://en.wikipedia.org/wiki/List_of_languages_by_number_of_native_speakers'"
   ]
  },
  {
   "cell_type": "code",
   "execution_count": 97,
   "metadata": {},
   "outputs": [
    {
     "name": "stdout",
     "output_type": "stream",
     "text": [
      "Mandarin Chinese\n",
      "Spanish\n",
      "English\n",
      "Hindi\n",
      "Bengali\n",
      "Portuguese\n",
      "Russian\n",
      "Japanese\n",
      "Western Punjabi\n",
      "Marathi\n"
     ]
    }
   ],
   "source": [
    "# your code here\n",
    "\n",
    "html = requests.get(url).content\n",
    "soup = BeautifulSoup(html, \"lxml\")\n",
    "soup\n",
    "n = 10\n",
    "\n",
    "# Find all table rows\n",
    "languages = soup.find_all('tr')\n",
    "\n",
    "# Removing the first table row, i.e. header\n",
    "languages = languages[1:]\n",
    "\n",
    "# Displaying only elements from the Language column\n",
    "for i in range(n):\n",
    "    print(languages[i].find('a').text)\n"
   ]
  },
  {
   "cell_type": "markdown",
   "metadata": {},
   "source": [
    "## Bonus\n",
    "#### Scrape a certain number of tweets of a given Twitter account."
   ]
  },
  {
   "cell_type": "code",
   "execution_count": null,
   "metadata": {},
   "outputs": [],
   "source": [
    "# This is the url you will scrape in this exercise \n",
    "# You will need to add the account credentials to this url\n",
    "url = 'https://twitter.com/'"
   ]
  },
  {
   "cell_type": "code",
   "execution_count": null,
   "metadata": {},
   "outputs": [],
   "source": [
    "# your code here"
   ]
  },
  {
   "cell_type": "markdown",
   "metadata": {},
   "source": [
    "#### Display IMDB's top 250 data (movie name, initial release, director name and stars) as a pandas dataframe."
   ]
  },
  {
   "cell_type": "code",
   "execution_count": null,
   "metadata": {},
   "outputs": [],
   "source": [
    "# This is the url you will scrape in this exercise \n",
    "url = 'https://www.imdb.com/chart/top'"
   ]
  },
  {
   "cell_type": "code",
   "execution_count": null,
   "metadata": {},
   "outputs": [],
   "source": [
    "# your code here"
   ]
  },
  {
   "cell_type": "markdown",
   "metadata": {},
   "source": [
    "#### Display the movie name, year and a brief summary of the top 10 random movies (IMDB) as a pandas dataframe."
   ]
  },
  {
   "cell_type": "code",
   "execution_count": null,
   "metadata": {},
   "outputs": [],
   "source": [
    "#This is the url you will scrape in this exercise\n",
    "url = 'http://www.imdb.com/chart/top'"
   ]
  },
  {
   "cell_type": "code",
   "execution_count": null,
   "metadata": {},
   "outputs": [],
   "source": [
    "# your code here"
   ]
  },
  {
   "cell_type": "markdown",
   "metadata": {},
   "source": [
    "#### Find the live weather report (temperature, wind speed, description and weather) of a given city."
   ]
  },
  {
   "cell_type": "code",
   "execution_count": null,
   "metadata": {},
   "outputs": [],
   "source": [
    "#https://openweathermap.org/current\n",
    "city = input('Enter the city: ')\n",
    "url = 'http://api.openweathermap.org/data/2.5/weather?'+'q='+city+'&APPID=b35975e18dc93725acb092f7272cc6b8&units=metric'"
   ]
  },
  {
   "cell_type": "code",
   "execution_count": null,
   "metadata": {},
   "outputs": [],
   "source": [
    "# your code here"
   ]
  },
  {
   "cell_type": "markdown",
   "metadata": {},
   "source": [
    "#### Find the book name, price and stock availability as a pandas dataframe."
   ]
  },
  {
   "cell_type": "code",
   "execution_count": null,
   "metadata": {},
   "outputs": [],
   "source": [
    "# This is the url you will scrape in this exercise. \n",
    "# It is a fictional bookstore created to be scraped. \n",
    "url = 'http://books.toscrape.com/'"
   ]
  },
  {
   "cell_type": "code",
   "execution_count": null,
   "metadata": {},
   "outputs": [],
   "source": [
    "# your code here"
   ]
  }
 ],
 "metadata": {
  "kernelspec": {
   "display_name": "Python 3",
   "language": "python",
   "name": "python3"
  },
  "language_info": {
   "codemirror_mode": {
    "name": "ipython",
    "version": 3
   },
   "file_extension": ".py",
   "mimetype": "text/x-python",
   "name": "python",
   "nbconvert_exporter": "python",
   "pygments_lexer": "ipython3",
   "version": "3.7.7"
  }
 },
 "nbformat": 4,
 "nbformat_minor": 2
}
