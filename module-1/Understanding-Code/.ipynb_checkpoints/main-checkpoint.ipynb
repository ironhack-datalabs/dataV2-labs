{
 "cells": [
  {
   "cell_type": "code",
   "execution_count": null,
   "metadata": {},
   "outputs": [],
   "source": [
    "\"\"\"\n",
    "COMMENT:\n",
    "\n",
    "Overall the code is well written and easy to understand. \n",
    "I liked the use of functions, because they organised the flow in a logical way.\n",
    "Reading this code I learned about num2words/words2num modules and using f-strings \n",
    "which I did not know before.\n",
    "I would add a question whether the user wants to perform another operation or quit.\n",
    "\"\"\" "
   ]
  },
  {
   "cell_type": "code",
   "execution_count": 6,
   "metadata": {},
   "outputs": [
    {
     "name": "stdout",
     "output_type": "stream",
     "text": [
      "Welcome to this calculator!\n",
      "It can add and subttract whole numbers from zero to five\n",
      "Please choose your first number (zero to five): three\n",
      "What do you want to do? plus or minus: plus\n",
      "Please choose your second number (zero to five): four\n",
      "three plus four equals seven\n",
      "Thanks for using this calculator, goodbye :)\n"
     ]
    }
   ],
   "source": [
    "\"\"\"\n",
    "This is a dumb calculator that can add and subtract whole numbers from zero to five.\n",
    "When you run the code, you are prompted to enter two numbers (in the form of English\n",
    "word instead of number) and the operator sign (also in the form of English word).\n",
    "The code will perform the calculation and give the result if your input is what it\n",
    "expects.\n",
    "\"\"\"\n",
    "\n",
    "import num2words as n2w\n",
    "import words2num as w2n\n",
    "\n",
    "def ask_input():\n",
    "    a = input('Please choose your first number (zero to five): ')\n",
    "    b = input('What do you want to do? plus or minus: ')\n",
    "    c = input('Please choose your second number (zero to five): ')\n",
    "    return a, b, c\n",
    "\n",
    "def user_input():\n",
    "    inputs = ask_input()\n",
    "    numbers = ['zero', 'one', 'two', 'three', 'four', 'five']\n",
    "    ops = ['plus', 'minus']\n",
    "    if (inputs[0] not in numbers) or (inputs[2] not in numbers) or (inputs[1] not in ops):\n",
    "        print(\"I am not able to answer this question. Check your input.\")\n",
    "        inputs = ask_input()\n",
    "    return inputs\n",
    "\n",
    "def translate_words():\n",
    "    words = user_input()\n",
    "    a = w2n.words2num(words[0])\n",
    "    c = w2n.words2num(words[2])\n",
    "    if words[1] == 'plus':\n",
    "        result = a + c\n",
    "    else:\n",
    "        result = a - c\n",
    "\n",
    "    return (f'{n2w.num2words(a)} {words[1]} {n2w.num2words(c)} equals {n2w.num2words(result)}')\n",
    "\n",
    "# Calculator\n",
    "\n",
    "print('Welcome to this calculator!')\n",
    "print('It can add and subttract whole numbers from zero to five')\n",
    "\n",
    "print(translate_words())\n",
    "\n",
    "print(\"Thanks for using this calculator, goodbye :)\")"
   ]
  },
  {
   "cell_type": "code",
   "execution_count": null,
   "metadata": {},
   "outputs": [],
   "source": []
  }
 ],
 "metadata": {
  "kernelspec": {
   "display_name": "Python 3",
   "language": "python",
   "name": "python3"
  },
  "language_info": {
   "codemirror_mode": {
    "name": "ipython",
    "version": 3
   },
   "file_extension": ".py",
   "mimetype": "text/x-python",
   "name": "python",
   "nbconvert_exporter": "python",
   "pygments_lexer": "ipython3",
   "version": "3.7.7"
  }
 },
 "nbformat": 4,
 "nbformat_minor": 4
}
