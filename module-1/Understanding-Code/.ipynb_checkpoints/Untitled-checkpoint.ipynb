{
 "cells": [
  {
   "cell_type": "code",
   "execution_count": null,
   "metadata": {},
   "outputs": [],
   "source": [
    "#Yusi's Code for the simple calculator\n",
    "\n",
    "\n",
    "print('Welcome to this calculator!\\nIt can add and subtract whole numbers from 0 to 5.')\n",
    "\n",
    "def calculator():\n",
    "    a = input('Please choose your first number (0 to 5): ')\n",
    "    b = input('What do you want to do? + or -: ')\n",
    "    c = input('Please choose your second number (0 to 5): ')\n",
    "\n",
    "    if 0<= int(a) <=5 and 0<= int(c) <=5 and (b=='+'or b=='-'):\n",
    "        if b=='+':\n",
    "            d=int(a)+int(c)\n",
    "        if b=='-':\n",
    "            d=int(a)-int(c)\n",
    "        print('%s%s%s=%d'%(a,b,c,d))\n",
    "        \n",
    "    else:\n",
    "        print('I am not able to answer this question. Check your input.')\n",
    "        \n",
    "calculator()"
   ]
  },
  {
   "cell_type": "code",
   "execution_count": 10,
   "metadata": {},
   "outputs": [
    {
     "name": "stdout",
     "output_type": "stream",
     "text": [
      "I found Yusi's code to be well written, concise, and easy to understand.\n",
      "The thing I found the most educational was the line 'print'%s%s%s=%d'%(a,b,c,d)'.\n",
      "I had never before seen that syntax and through the conversation with Yusi,\n",
      "I learned about the .format syntax also.\n",
      "It was also interesting to see her interpretaion of the lab.  In my break out room,\n",
      " we had concluded that the inputs and outputs should be the same as the original program\n",
      "Which led to extra code to change words to numbers and back to words for the output.\n",
      "Yusi took the challenge as an effort to write better original code to do the same thing.\n"
     ]
    }
   ],
   "source": [
    "print(\"I found Yusi's code to be well written, concise, and easy to understand.\")\n",
    "print(\"The thing I found the most educational was the line 'print'%s%s%s=%d'%(a,b,c,d)'.\")\n",
    "print (\"I had never before seen that syntax and through the conversation with Yusi,\\nI learned about the .format syntax also.\")\n",
    "print(\"It was also interesting to see her interpretaion of the lab.  In my break out room,\\n we had concluded that the inputs and outputs should be the same as the original program\")\n",
    "print(\"Which led to extra code to change words to numbers and back to words for the output.\")\n",
    "print(\"Yusi took the challenge as an effort to write better original code to do the same thing.\")\n"
   ]
  },
  {
   "cell_type": "code",
   "execution_count": null,
   "metadata": {},
   "outputs": [],
   "source": []
  },
  {
   "cell_type": "code",
   "execution_count": null,
   "metadata": {},
   "outputs": [],
   "source": []
  }
 ],
 "metadata": {
  "kernelspec": {
   "display_name": "Python 3",
   "language": "python",
   "name": "python3"
  },
  "language_info": {
   "codemirror_mode": {
    "name": "ipython",
    "version": 3
   },
   "file_extension": ".py",
   "mimetype": "text/x-python",
   "name": "python",
   "nbconvert_exporter": "python",
   "pygments_lexer": "ipython3",
   "version": "3.7.6"
  }
 },
 "nbformat": 4,
 "nbformat_minor": 4
}
