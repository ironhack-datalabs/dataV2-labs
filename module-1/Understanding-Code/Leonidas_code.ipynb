{
 "cells": [
  {
   "cell_type": "code",
   "execution_count": 2,
   "metadata": {},
   "outputs": [],
   "source": [
    "#Testing Leonidas code"
   ]
  },
  {
   "cell_type": "code",
   "execution_count": 3,
   "metadata": {},
   "outputs": [
    {
     "name": "stdout",
     "output_type": "stream",
     "text": [
      "Welcome to this calculator!\n",
      "It can add and subtract whole numbers from zero to five\n",
      "Please choose your first number (zero to five): five\n",
      "What do you want to do? plus or minus: plus\n",
      "Please choose your second number (zero to five): five\n",
      "five plus five equals None\n",
      "\n",
      "Thanks for using this calculator, goodbye :)\n"
     ]
    }
   ],
   "source": [
    "acceptable_num=[\"zero\",\"one\",\"two\",\"three\",\"four\",\"five\"]\n",
    "acceptable_operations=[\"plus\", \"minus\"]\n",
    "\n",
    "def words_to_numbers(string):\n",
    "    if string==\"zero\":\n",
    "        number=0\n",
    "        return number\n",
    "    if string==\"one\":\n",
    "        number=1\n",
    "        return number\n",
    "    if string==\"two\":\n",
    "        number=2\n",
    "        return number\n",
    "    if string==\"three\":\n",
    "        number=3\n",
    "        return number\n",
    "    if string==\"four\":\n",
    "        number=4\n",
    "        return number\n",
    "    if string==\"five\":\n",
    "        number=5\n",
    "        return number\n",
    "    \n",
    "def numbers_to_words(number):\n",
    "    if number==0:\n",
    "        string=\"zero\"\n",
    "        return string\n",
    "    if number==1:\n",
    "        string=\"one\"\n",
    "        return string\n",
    "    if number==2:\n",
    "        string=\"two\"\n",
    "        return string\n",
    "    if number==3:\n",
    "        string=\"three\"\n",
    "        return string\n",
    "    if number==4:\n",
    "        string=\"four\"\n",
    "        return string\n",
    "    if number==5:\n",
    "        string=\"five\"\n",
    "        return string\n",
    "\n",
    "def calculating():\n",
    "    print(\"Welcome to this calculator!\\nIt can add and subtract whole numbers \"\n",
    "      \"from zero to five\")\n",
    "    \n",
    "    a = input('Please choose your first number (zero to five): ').lower()\n",
    "    a_num=words_to_numbers(a)\n",
    "    b = input('What do you want to do? plus or minus: ').lower()\n",
    "    c = input('Please choose your second number (zero to five): ').lower()     \n",
    "    c_num = words_to_numbers(c)\n",
    "    \n",
    "    # Check for errors in user defined variables\n",
    "    if (a not in acceptable_num) or (a not in acceptable_num) or (b not in acceptable_operations) :\n",
    "        print(\"\\nI am not able to answer this question. Check your input.\")\n",
    "        return  \n",
    "    \n",
    "    if b==\"plus\":\n",
    "        result = a_num + c_num\n",
    "        result_word=numbers_to_words(result)\n",
    "        print(\"%s %s %s equals %s\" % (a,b,c,result_word))\n",
    "    \n",
    "    if b==\"minus\":            \n",
    "        result = a_num - c_num\n",
    "        # Taking into consideration that result might be negative number\n",
    "        if result>=0:\n",
    "            result_word=numbers_to_words(result)\n",
    "            print(\"%s %s %s equals %s\" % (a,b,c,result_word))\n",
    "        if result<0:\n",
    "            result=abs(result)\n",
    "            result_word=numbers_to_words(result)\n",
    "            print(\"%s %s %s equals minus %s\" % (a,b,c,result_word))\n",
    "    print(\"\\nThanks for using this calculator, goodbye :)\")\n",
    "\n",
    "\n",
    "calculating()"
   ]
  },
  {
   "cell_type": "code",
   "execution_count": null,
   "metadata": {},
   "outputs": [],
   "source": []
  }
 ],
 "metadata": {
  "kernelspec": {
   "display_name": "Python 3",
   "language": "python",
   "name": "python3"
  },
  "language_info": {
   "codemirror_mode": {
    "name": "ipython",
    "version": 3
   },
   "file_extension": ".py",
   "mimetype": "text/x-python",
   "name": "python",
   "nbconvert_exporter": "python",
   "pygments_lexer": "ipython3",
   "version": "3.7.7"
  }
 },
 "nbformat": 4,
 "nbformat_minor": 4
}
