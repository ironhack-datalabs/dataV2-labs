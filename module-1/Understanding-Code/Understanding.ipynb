{
 "cells": [
  {
   "cell_type": "code",
   "execution_count": 1,
   "metadata": {},
   "outputs": [
    {
     "name": "stdout",
     "output_type": "stream",
     "text": [
      "Welcome to this calculator!\n",
      "It can add and subtract whole numbers from zero to five\n",
      "Please choose your first number (zero to five): 1\n",
      "What do you want to do? Plus or Minus: 2\n",
      "Please choose your second number (zero to five): 2\n",
      "I am not able to answer this question. Check your input.\n"
     ]
    }
   ],
   "source": [
    "# ORIGINAL CODE:\n",
    "\n",
    "print('Welcome to this calculator!')\n",
    "print('It can add and subtract whole numbers from zero to five')\n",
    "a = input('Please choose your first number (zero to five): ')\n",
    "b = input('What do you want to do? Plus or Minus: ')\n",
    "c = input('Please choose your second number (zero to five): ')\n",
    "\n",
    "dic_num = {'zero':0,'one':1, 'two':2,'three':3,'four':4, 'five':5}\n",
    "\n",
    "if not a in dic_num:\n",
    "    print(\"I am not able to answer this question. Check your input.\")\n",
    "elif not c in dic_num:\n",
    "    print(\"I am not able to answer this question. Check your input.\")\n",
    "elif b != 'Plus' or b != 'Minus':\n",
    "    print(\"I am unable to answer this question. Check your input.\")\n",
    "else:\n",
    "    number_to_text = ['zero', 'one', 'two', 'three', 'four', 'five']\n",
    "\n",
    "    num_a = dic_num [a]\n",
    "    num_c = dic_num [c]\n",
    "\n",
    "    result = 0\n",
    "    if b == 'Plus':\n",
    "        result = num_a + num_c\n",
    "    else:\n",
    "        result = num_a - num_c\n",
    "    \n",
    "    print(a, b, c, 'equals', number_to_text[result])"
   ]
  },
  {
   "cell_type": "code",
   "execution_count": 3,
   "metadata": {},
   "outputs": [
    {
     "name": "stdout",
     "output_type": "stream",
     "text": [
      "Welcome to this calculator!\n",
      "It can add and subtract whole numbers from zero to five\n",
      "Please choose your first number (zero to five): 1\n",
      "What do you want to do? Plus or Minus: 2\n",
      "Please choose your second number (zero to five): 1\n",
      "I am not able to answer this question. Check your input.\n"
     ]
    }
   ],
   "source": [
    "# Improved CODE\n",
    "error = \"I am not able to answer this question. Check your input.\"\n",
    "\n",
    "print('Welcome to this calculator!')\n",
    "print('It can add and subtract whole numbers from zero to five')\n",
    "a = input('Please choose your first number (zero to five): ')\n",
    "b = input('What do you want to do? Plus or Minus: ')\n",
    "c = input('Please choose your second number (zero to five): ')\n",
    "\n",
    "dic_num = {'zero':0,'one':1, 'two':2,'three':3,'four':4, 'five':5}\n",
    "\n",
    "if not a in dic_num or not c in dic_num: \n",
    "    print(error)\n",
    "elif b != 'Plus' or b != 'Minus':\n",
    "    print(error)\n",
    "else:\n",
    "    number_to_text = ['zero', 'one', 'two', 'three', 'four', 'five']\n",
    "\n",
    "    num_a = dic_num [a]\n",
    "    num_c = dic_num [c]\n",
    "\n",
    "    result = 0\n",
    "    if b == 'Plus':\n",
    "        result = num_a + num_c\n",
    "    else:\n",
    "        result = num_a - num_c\n",
    "    \n",
    "    print(a, b, c, 'equals', number_to_text[result])"
   ]
  },
  {
   "cell_type": "markdown",
   "metadata": {},
   "source": []
  }
 ],
 "metadata": {
  "kernelspec": {
   "display_name": "Python 3",
   "language": "python",
   "name": "python3"
  },
  "language_info": {
   "codemirror_mode": {
    "name": "ipython",
    "version": 3
   },
   "file_extension": ".py",
   "mimetype": "text/x-python",
   "name": "python",
   "nbconvert_exporter": "python",
   "pygments_lexer": "ipython3",
   "version": "3.7.3"
  }
 },
 "nbformat": 4,
 "nbformat_minor": 2
}
