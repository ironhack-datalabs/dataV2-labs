{
 "cells": [
  {
   "cell_type": "code",
   "execution_count": 1,
   "metadata": {},
   "outputs": [],
   "source": [
    "#import sys\n",
    "#!{sys.executable} -m pip install pyxlsb\n",
    "\n",
    "\n",
    "import pandas as pd\n",
    "from pyxlsb import open_workbook as open_xlsb\n",
    "\n",
    "df = []\n",
    "\n",
    "with open_xlsb('/Users/erinberardi/Downloads/Voorlopige-labels-december-2019.xlsb') as wb:\n",
    "    with wb.get_sheet(4) as sheet:\n",
    "        for row in sheet.rows():\n",
    "            df.append([item.v for item in row])\n",
    "\n",
    "df = pd.DataFrame(df[1:], columns=df[0])\n",
    "\n",
    "\n",
    "\n",
    "#df = pd.read_excel('/Users/erinberardi/Downloads/Voorlopige-labels-december-2019.xlsb', engine='pyxlsb')"
   ]
  },
  {
   "cell_type": "code",
   "execution_count": 2,
   "metadata": {},
   "outputs": [
    {
     "data": {
      "text/html": [
       "<div>\n",
       "<style scoped>\n",
       "    .dataframe tbody tr th:only-of-type {\n",
       "        vertical-align: middle;\n",
       "    }\n",
       "\n",
       "    .dataframe tbody tr th {\n",
       "        vertical-align: top;\n",
       "    }\n",
       "\n",
       "    .dataframe thead th {\n",
       "        text-align: right;\n",
       "    }\n",
       "</style>\n",
       "<table border=\"1\" class=\"dataframe\">\n",
       "  <thead>\n",
       "    <tr style=\"text-align: right;\">\n",
       "      <th></th>\n",
       "      <th>POSTCODE_WONING</th>\n",
       "      <th>HUISNUMMER_WONING</th>\n",
       "      <th>HUISNUMMER_TOEV_WONING</th>\n",
       "      <th>BOUWJAAR_WONING</th>\n",
       "      <th>WONING_TYPE</th>\n",
       "      <th>VOORL_BEREKEND</th>\n",
       "    </tr>\n",
       "  </thead>\n",
       "  <tbody>\n",
       "    <tr>\n",
       "      <th>40</th>\n",
       "      <td>1059BG</td>\n",
       "      <td>14.0</td>\n",
       "      <td>H</td>\n",
       "      <td>1930.0</td>\n",
       "      <td>Niet wonen</td>\n",
       "      <td>None</td>\n",
       "    </tr>\n",
       "    <tr>\n",
       "      <th>164</th>\n",
       "      <td>1059BJ</td>\n",
       "      <td>48.0</td>\n",
       "      <td>H</td>\n",
       "      <td>1929.0</td>\n",
       "      <td>Niet wonen</td>\n",
       "      <td>None</td>\n",
       "    </tr>\n",
       "    <tr>\n",
       "      <th>178</th>\n",
       "      <td>1059BJ</td>\n",
       "      <td>52.0</td>\n",
       "      <td>None</td>\n",
       "      <td>1929.0</td>\n",
       "      <td>Niet wonen</td>\n",
       "      <td>None</td>\n",
       "    </tr>\n",
       "    <tr>\n",
       "      <th>330</th>\n",
       "      <td>1025BE</td>\n",
       "      <td>2.0</td>\n",
       "      <td>None</td>\n",
       "      <td>1969.0</td>\n",
       "      <td>Niet wonen</td>\n",
       "      <td>None</td>\n",
       "    </tr>\n",
       "    <tr>\n",
       "      <th>331</th>\n",
       "      <td>1025BE</td>\n",
       "      <td>3.0</td>\n",
       "      <td>None</td>\n",
       "      <td>1967.0</td>\n",
       "      <td>Niet wonen</td>\n",
       "      <td>None</td>\n",
       "    </tr>\n",
       "    <tr>\n",
       "      <th>...</th>\n",
       "      <td>...</td>\n",
       "      <td>...</td>\n",
       "      <td>...</td>\n",
       "      <td>...</td>\n",
       "      <td>...</td>\n",
       "      <td>...</td>\n",
       "    </tr>\n",
       "    <tr>\n",
       "      <th>1048470</th>\n",
       "      <td>1981LT</td>\n",
       "      <td>9.0</td>\n",
       "      <td>None</td>\n",
       "      <td>2002.0</td>\n",
       "      <td>Niet wonen</td>\n",
       "      <td>None</td>\n",
       "    </tr>\n",
       "    <tr>\n",
       "      <th>1048561</th>\n",
       "      <td>1991NN</td>\n",
       "      <td>197.0</td>\n",
       "      <td>A</td>\n",
       "      <td>1993.0</td>\n",
       "      <td>Niet wonen</td>\n",
       "      <td>None</td>\n",
       "    </tr>\n",
       "    <tr>\n",
       "      <th>1048568</th>\n",
       "      <td>1981AG</td>\n",
       "      <td>16.0</td>\n",
       "      <td>None</td>\n",
       "      <td>1968.0</td>\n",
       "      <td>Niet wonen</td>\n",
       "      <td>None</td>\n",
       "    </tr>\n",
       "    <tr>\n",
       "      <th>1048571</th>\n",
       "      <td>1971GG</td>\n",
       "      <td>791.0</td>\n",
       "      <td>None</td>\n",
       "      <td>1953.0</td>\n",
       "      <td>Niet wonen</td>\n",
       "      <td>None</td>\n",
       "    </tr>\n",
       "    <tr>\n",
       "      <th>1048572</th>\n",
       "      <td>1971GG</td>\n",
       "      <td>793.0</td>\n",
       "      <td>None</td>\n",
       "      <td>1953.0</td>\n",
       "      <td>Niet wonen</td>\n",
       "      <td>None</td>\n",
       "    </tr>\n",
       "  </tbody>\n",
       "</table>\n",
       "<p>93222 rows × 6 columns</p>\n",
       "</div>"
      ],
      "text/plain": [
       "        POSTCODE_WONING  HUISNUMMER_WONING HUISNUMMER_TOEV_WONING  \\\n",
       "40               1059BG               14.0                      H   \n",
       "164              1059BJ               48.0                      H   \n",
       "178              1059BJ               52.0                   None   \n",
       "330              1025BE                2.0                   None   \n",
       "331              1025BE                3.0                   None   \n",
       "...                 ...                ...                    ...   \n",
       "1048470          1981LT                9.0                   None   \n",
       "1048561          1991NN              197.0                      A   \n",
       "1048568          1981AG               16.0                   None   \n",
       "1048571          1971GG              791.0                   None   \n",
       "1048572          1971GG              793.0                   None   \n",
       "\n",
       "         BOUWJAAR_WONING WONING_TYPE VOORL_BEREKEND  \n",
       "40                1930.0  Niet wonen           None  \n",
       "164               1929.0  Niet wonen           None  \n",
       "178               1929.0  Niet wonen           None  \n",
       "330               1969.0  Niet wonen           None  \n",
       "331               1967.0  Niet wonen           None  \n",
       "...                  ...         ...            ...  \n",
       "1048470           2002.0  Niet wonen           None  \n",
       "1048561           1993.0  Niet wonen           None  \n",
       "1048568           1968.0  Niet wonen           None  \n",
       "1048571           1953.0  Niet wonen           None  \n",
       "1048572           1953.0  Niet wonen           None  \n",
       "\n",
       "[93222 rows x 6 columns]"
      ]
     },
     "execution_count": 2,
     "metadata": {},
     "output_type": "execute_result"
    }
   ],
   "source": [
    "df[df['VOORL_BEREKEND'].isnull()]"
   ]
  },
  {
   "cell_type": "code",
   "execution_count": 3,
   "metadata": {},
   "outputs": [
    {
     "data": {
      "text/html": [
       "<div>\n",
       "<style scoped>\n",
       "    .dataframe tbody tr th:only-of-type {\n",
       "        vertical-align: middle;\n",
       "    }\n",
       "\n",
       "    .dataframe tbody tr th {\n",
       "        vertical-align: top;\n",
       "    }\n",
       "\n",
       "    .dataframe thead th {\n",
       "        text-align: right;\n",
       "    }\n",
       "</style>\n",
       "<table border=\"1\" class=\"dataframe\">\n",
       "  <thead>\n",
       "    <tr style=\"text-align: right;\">\n",
       "      <th></th>\n",
       "      <th>POSTCODE_WONING</th>\n",
       "      <th>VOORL_BEREKEND</th>\n",
       "    </tr>\n",
       "  </thead>\n",
       "  <tbody>\n",
       "    <tr>\n",
       "      <th>0</th>\n",
       "      <td>1059BG</td>\n",
       "      <td>G</td>\n",
       "    </tr>\n",
       "    <tr>\n",
       "      <th>1</th>\n",
       "      <td>1059BG</td>\n",
       "      <td>G</td>\n",
       "    </tr>\n",
       "    <tr>\n",
       "      <th>2</th>\n",
       "      <td>1059BG</td>\n",
       "      <td>G</td>\n",
       "    </tr>\n",
       "    <tr>\n",
       "      <th>3</th>\n",
       "      <td>1059BG</td>\n",
       "      <td>G</td>\n",
       "    </tr>\n",
       "    <tr>\n",
       "      <th>4</th>\n",
       "      <td>1059BA</td>\n",
       "      <td>G</td>\n",
       "    </tr>\n",
       "  </tbody>\n",
       "</table>\n",
       "</div>"
      ],
      "text/plain": [
       "  POSTCODE_WONING VOORL_BEREKEND\n",
       "0          1059BG              G\n",
       "1          1059BG              G\n",
       "2          1059BG              G\n",
       "3          1059BG              G\n",
       "4          1059BA              G"
      ]
     },
     "execution_count": 3,
     "metadata": {},
     "output_type": "execute_result"
    }
   ],
   "source": [
    "df.drop(columns = ['HUISNUMMER_WONING','HUISNUMMER_TOEV_WONING','BOUWJAAR_WONING','WONING_TYPE'], axis=1, inplace=True)\n",
    "df.head()"
   ]
  },
  {
   "cell_type": "code",
   "execution_count": null,
   "metadata": {},
   "outputs": [],
   "source": []
  },
  {
   "cell_type": "code",
   "execution_count": 4,
   "metadata": {},
   "outputs": [],
   "source": [
    "df.loc[:,'VOORL_BEREKEND'] = df.loc[:, 'VOORL_BEREKEND'].astype(str)"
   ]
  },
  {
   "cell_type": "code",
   "execution_count": 5,
   "metadata": {},
   "outputs": [
    {
     "data": {
      "text/plain": [
       "dtype('O')"
      ]
     },
     "execution_count": 5,
     "metadata": {},
     "output_type": "execute_result"
    }
   ],
   "source": [
    "df['VOORL_BEREKEND'].dtype"
   ]
  },
  {
   "cell_type": "code",
   "execution_count": 6,
   "metadata": {},
   "outputs": [
    {
     "data": {
      "text/html": [
       "<div>\n",
       "<style scoped>\n",
       "    .dataframe tbody tr th:only-of-type {\n",
       "        vertical-align: middle;\n",
       "    }\n",
       "\n",
       "    .dataframe tbody tr th {\n",
       "        vertical-align: top;\n",
       "    }\n",
       "\n",
       "    .dataframe thead th {\n",
       "        text-align: right;\n",
       "    }\n",
       "</style>\n",
       "<table border=\"1\" class=\"dataframe\">\n",
       "  <thead>\n",
       "    <tr style=\"text-align: right;\">\n",
       "      <th></th>\n",
       "      <th>POSTCODE_WONING</th>\n",
       "      <th>VOORL_BEREKEND</th>\n",
       "    </tr>\n",
       "  </thead>\n",
       "  <tbody>\n",
       "  </tbody>\n",
       "</table>\n",
       "</div>"
      ],
      "text/plain": [
       "Empty DataFrame\n",
       "Columns: [POSTCODE_WONING, VOORL_BEREKEND]\n",
       "Index: []"
      ]
     },
     "execution_count": 6,
     "metadata": {},
     "output_type": "execute_result"
    }
   ],
   "source": [
    " df[df['VOORL_BEREKEND'].isnull()]"
   ]
  },
  {
   "cell_type": "code",
   "execution_count": 7,
   "metadata": {},
   "outputs": [
    {
     "data": {
      "text/html": [
       "<div>\n",
       "<style scoped>\n",
       "    .dataframe tbody tr th:only-of-type {\n",
       "        vertical-align: middle;\n",
       "    }\n",
       "\n",
       "    .dataframe tbody tr th {\n",
       "        vertical-align: top;\n",
       "    }\n",
       "\n",
       "    .dataframe thead th {\n",
       "        text-align: right;\n",
       "    }\n",
       "</style>\n",
       "<table border=\"1\" class=\"dataframe\">\n",
       "  <thead>\n",
       "    <tr style=\"text-align: right;\">\n",
       "      <th></th>\n",
       "      <th>POSTCODE_WONING</th>\n",
       "      <th>VOORL_BEREKEND</th>\n",
       "    </tr>\n",
       "  </thead>\n",
       "  <tbody>\n",
       "    <tr>\n",
       "      <th>816589</th>\n",
       "      <td>1628ZH</td>\n",
       "      <td>A</td>\n",
       "    </tr>\n",
       "    <tr>\n",
       "      <th>232284</th>\n",
       "      <td>1068GR</td>\n",
       "      <td>A</td>\n",
       "    </tr>\n",
       "    <tr>\n",
       "      <th>618492</th>\n",
       "      <td>2144KM</td>\n",
       "      <td>A</td>\n",
       "    </tr>\n",
       "    <tr>\n",
       "      <th>232282</th>\n",
       "      <td>1068GR</td>\n",
       "      <td>A</td>\n",
       "    </tr>\n",
       "    <tr>\n",
       "      <th>232281</th>\n",
       "      <td>1068GR</td>\n",
       "      <td>A</td>\n",
       "    </tr>\n",
       "    <tr>\n",
       "      <th>...</th>\n",
       "      <td>...</td>\n",
       "      <td>...</td>\n",
       "    </tr>\n",
       "    <tr>\n",
       "      <th>190722</th>\n",
       "      <td>1017CB</td>\n",
       "      <td>None</td>\n",
       "    </tr>\n",
       "    <tr>\n",
       "      <th>190723</th>\n",
       "      <td>1017DR</td>\n",
       "      <td>None</td>\n",
       "    </tr>\n",
       "    <tr>\n",
       "      <th>190724</th>\n",
       "      <td>1016CJ</td>\n",
       "      <td>None</td>\n",
       "    </tr>\n",
       "    <tr>\n",
       "      <th>190710</th>\n",
       "      <td>1011TD</td>\n",
       "      <td>None</td>\n",
       "    </tr>\n",
       "    <tr>\n",
       "      <th>1048572</th>\n",
       "      <td>1971GG</td>\n",
       "      <td>None</td>\n",
       "    </tr>\n",
       "  </tbody>\n",
       "</table>\n",
       "<p>1048573 rows × 2 columns</p>\n",
       "</div>"
      ],
      "text/plain": [
       "        POSTCODE_WONING VOORL_BEREKEND\n",
       "816589           1628ZH              A\n",
       "232284           1068GR              A\n",
       "618492           2144KM              A\n",
       "232282           1068GR              A\n",
       "232281           1068GR              A\n",
       "...                 ...            ...\n",
       "190722           1017CB           None\n",
       "190723           1017DR           None\n",
       "190724           1016CJ           None\n",
       "190710           1011TD           None\n",
       "1048572          1971GG           None\n",
       "\n",
       "[1048573 rows x 2 columns]"
      ]
     },
     "execution_count": 7,
     "metadata": {},
     "output_type": "execute_result"
    }
   ],
   "source": [
    "df = df.sort_values('VOORL_BEREKEND',ascending=True)\n",
    "df"
   ]
  },
  {
   "cell_type": "code",
   "execution_count": 294,
   "metadata": {},
   "outputs": [
    {
     "data": {
      "text/plain": [
       "Text(0, 0.5, 'Number of Buildings')"
      ]
     },
     "execution_count": 294,
     "metadata": {},
     "output_type": "execute_result"
    },
    {
     "data": {
      "image/png": "[encoded data removed]",
      "text/plain": [
       "<Figure size 432x288 with 1 Axes>"
      ]
     },
     "metadata": {
      "needs_background": "light"
     },
     "output_type": "display_data"
    }
   ],
   "source": [
    "#graph of Energy labels for Netherlands\n",
    "\n",
    "# df['VOORL_BEREKEND'].value_counts().sort_index().plot.bar()\n",
    "# plt.title ('Energy Labels for the Netherlands')\n",
    "# plt.xlabel ('Energy Label')\n",
    "# plt.ylabel ('Number of Buildings')"
   ]
  },
  {
   "cell_type": "code",
   "execution_count": 8,
   "metadata": {},
   "outputs": [
    {
     "data": {
      "text/plain": [
       "1048573"
      ]
     },
     "execution_count": 8,
     "metadata": {},
     "output_type": "execute_result"
    }
   ],
   "source": [
    "import re\n",
    "import matplotlib.pyplot as plt\n",
    "\n",
    "#df.loc[df['A'] == 'foo']\n",
    "#df.loc[df['column_name'].isin(some_values)]\n",
    "#col_one_list = df['one'].tolist()\n",
    "#df.loc[df['POSTCODE_WONING'].(pattern)]\n",
    "#AMS_postcodes = re.findall(pattern,df['POSTCODE_WONING']).index\n",
    "\n",
    "\n",
    "pattern = ('1[01]\\d{2}\\w{2}')\n",
    "\n",
    "AMS_postcodes_list = df['POSTCODE_WONING'].tolist()\n",
    "\n",
    "#AMS_postcodes = re.findall(pattern,AMS_postcodes_list)\n",
    "\n",
    "AMS_postcodes_list\n",
    "#df1 = df.drop(AMS_postcodes , inplace=True)\n",
    "\n",
    "len(AMS_postcodes_list)\n"
   ]
  },
  {
   "cell_type": "code",
   "execution_count": 26,
   "metadata": {},
   "outputs": [
    {
     "data": {
      "text/plain": [
       "Text(0, 0.5, 'Number of Buildings')"
      ]
     },
     "execution_count": 26,
     "metadata": {},
     "output_type": "execute_result"
    },
    {
     "data": {
      "image/png": "[encoded data removed]",
      "text/plain": [
       "<Figure size 432x288 with 1 Axes>"
      ]
     },
     "metadata": {
      "needs_background": "light"
     },
     "output_type": "display_data"
    }
   ],
   "source": [
    "# Energy labels for Amsterdam City all 8 Neighborhoods\n",
    "\n",
    "\n",
    "AMS_pc = df[df['POSTCODE_WONING'].str.match('1[01]\\d{2}\\w{2}')]\n",
    "#AMS_pc\n",
    "AMS_pc['VOORL_BEREKEND'].value_counts().sort_index().plot.bar()\n",
    "plt.title ('All of Amsterdam')\n",
    "plt.xlabel ('Energy Label')\n",
    "plt.ylabel ('Number of Buildings')\n"
   ]
  },
  {
   "cell_type": "code",
   "execution_count": 37,
   "metadata": {},
   "outputs": [],
   "source": [
    "#dividing into neighborhoods by postcode\n",
    "# centrum_pattern = ('101\\d\\w{2}')]\n",
    "# westpoort_pattern = ('104\\d\\w{2}')\n",
    "# west_pattern = ('105\\d\\w{2}')\n",
    "# nieuw_west_pattern = ('106\\d\\w{2}')\n",
    "# zuid_pattern = ('107\\d\\w{2}|108[0-3]\\w{2}')\n",
    "# oost_pattern = ('108[6-9]\\w{2}|109\\d\\w{2}')\n",
    "# noord_pattern = ('10[23]\\d\\w{2}')\n",
    "# zuidoost_pattern = ('11\\d{2}\\w{2}')\n",
    "\n",
    "# creating dataframes for each neighborhood\n",
    "centrum = df[df['POSTCODE_WONING'].str.match('101\\d\\w{2}')]\n",
    "westpoort = df[df['POSTCODE_WONING'].str.match('104\\d\\w{2}')]\n",
    "west = df[df['POSTCODE_WONING'].str.match('105\\d\\w{2}')]\n",
    "nieuw_west = df[df['POSTCODE_WONING'].str.match('106\\d\\w{2}')]\n",
    "zuid = df[df['POSTCODE_WONING'].str.match('107\\d\\w{2}|108[0-3]\\w{2}')]\n",
    "oost = df[df['POSTCODE_WONING'].str.match('108[6-9]\\w{2}|109\\d\\w{2}')]\n",
    "noord = df[df['POSTCODE_WONING'].str.match('10[23]\\d\\w{2}')]\n",
    "zuidoost = df[df['POSTCODE_WONING'].str.match('11\\d{2}\\w{2}')]\n"
   ]
  },
  {
   "cell_type": "code",
   "execution_count": 28,
   "metadata": {},
   "outputs": [
    {
     "data": {
      "text/plain": [
       "Text(0, 0.5, 'Number of Buildings')"
      ]
     },
     "execution_count": 28,
     "metadata": {},
     "output_type": "execute_result"
    },
    {
     "data": {
      "image/png": "[encoded data removed]",
      "text/plain": [
       "<Figure size 432x288 with 1 Axes>"
      ]
     },
     "metadata": {
      "needs_background": "light"
     },
     "output_type": "display_data"
    }
   ],
   "source": [
    "#Energy Labels in Westpoort\n",
    "\n",
    "westpoort['VOORL_BEREKEND'].value_counts().sort_index().plot.bar()\n",
    "plt.title ('Westpoort')\n",
    "plt.xlabel ('Energy Label')\n",
    "plt.ylabel ('Number of Buildings')"
   ]
  },
  {
   "cell_type": "code",
   "execution_count": 29,
   "metadata": {},
   "outputs": [
    {
     "data": {
      "text/plain": [
       "Text(0.5, 1.0, 'West')"
      ]
     },
     "execution_count": 29,
     "metadata": {},
     "output_type": "execute_result"
    },
    {
     "data": {
      "image/png": "[encoded data removed]",
      "text/plain": [
       "<Figure size 432x288 with 1 Axes>"
      ]
     },
     "metadata": {
      "needs_background": "light"
     },
     "output_type": "display_data"
    }
   ],
   "source": [
    "#Energy Labels in West\n",
    "west['VOORL_BEREKEND'].value_counts().sort_index().plot.bar()\n",
    "plt.xlabel ('Energy Label')\n",
    "plt.ylabel ('Number of Buildings')\n",
    "plt.title ('West')"
   ]
  },
  {
   "cell_type": "code",
   "execution_count": 30,
   "metadata": {},
   "outputs": [
    {
     "data": {
      "text/plain": [
       "Text(0.5, 1.0, 'Nieuw West')"
      ]
     },
     "execution_count": 30,
     "metadata": {},
     "output_type": "execute_result"
    },
    {
     "data": {
      "image/png": "[encoded data removed]",
      "text/plain": [
       "<Figure size 432x288 with 1 Axes>"
      ]
     },
     "metadata": {
      "needs_background": "light"
     },
     "output_type": "display_data"
    }
   ],
   "source": [
    "#Energy Labels in Nieuw West\n",
    "nieuw_west['VOORL_BEREKEND'].value_counts().sort_index().plot.bar()\n",
    "plt.xlabel ('Energy Label')\n",
    "plt.ylabel ('Number of Buildings')\n",
    "plt.title ('Nieuw West')"
   ]
  },
  {
   "cell_type": "code",
   "execution_count": 31,
   "metadata": {},
   "outputs": [
    {
     "data": {
      "text/plain": [
       "Text(0.5, 1.0, 'Zuid')"
      ]
     },
     "execution_count": 31,
     "metadata": {},
     "output_type": "execute_result"
    },
    {
     "data": {
      "image/png": "[encoded data removed]",
      "text/plain": [
       "<Figure size 432x288 with 1 Axes>"
      ]
     },
     "metadata": {
      "needs_background": "light"
     },
     "output_type": "display_data"
    }
   ],
   "source": [
    "#Energy Labels in Zuid\n",
    "zuid['VOORL_BEREKEND'].value_counts().sort_index().plot.bar()\n",
    "plt.xlabel ('Energy Label')\n",
    "plt.ylabel ('Number of Buildings')\n",
    "plt.title ('Zuid')"
   ]
  },
  {
   "cell_type": "code",
   "execution_count": 32,
   "metadata": {},
   "outputs": [
    {
     "data": {
      "text/plain": [
       "Text(0.5, 1.0, 'Oost')"
      ]
     },
     "execution_count": 32,
     "metadata": {},
     "output_type": "execute_result"
    },
    {
     "data": {
      "image/png": "[encoded data removed]",
      "text/plain": [
       "<Figure size 432x288 with 1 Axes>"
      ]
     },
     "metadata": {
      "needs_background": "light"
     },
     "output_type": "display_data"
    }
   ],
   "source": [
    "#Energy Labels in Oost\n",
    "oost['VOORL_BEREKEND'].value_counts().sort_index().plot.bar()\n",
    "plt.xlabel ('Energy Label')\n",
    "plt.ylabel ('Number of Buildings')\n",
    "plt.title ('Oost')"
   ]
  },
  {
   "cell_type": "code",
   "execution_count": 33,
   "metadata": {},
   "outputs": [
    {
     "data": {
      "text/plain": [
       "Text(0.5, 1.0, 'Noord')"
      ]
     },
     "execution_count": 33,
     "metadata": {},
     "output_type": "execute_result"
    },
    {
     "data": {
      "image/png": "[encoded data removed]",
      "text/plain": [
       "<Figure size 432x288 with 1 Axes>"
      ]
     },
     "metadata": {
      "needs_background": "light"
     },
     "output_type": "display_data"
    }
   ],
   "source": [
    "#Energy Labels in Noord\n",
    "noord['VOORL_BEREKEND'].value_counts().sort_index().plot.bar()\n",
    "plt.xlabel ('Energy Label')\n",
    "plt.ylabel ('Number of Buildings')\n",
    "plt.title ('Noord')"
   ]
  },
  {
   "cell_type": "code",
   "execution_count": 34,
   "metadata": {},
   "outputs": [
    {
     "data": {
      "text/plain": [
       "Text(0.5, 1.0, 'Zuidoost')"
      ]
     },
     "execution_count": 34,
     "metadata": {},
     "output_type": "execute_result"
    },
    {
     "data": {
      "image/png": "[encoded data removed]",
      "text/plain": [
       "<Figure size 432x288 with 1 Axes>"
      ]
     },
     "metadata": {
      "needs_background": "light"
     },
     "output_type": "display_data"
    }
   ],
   "source": [
    "#Energy Labels in Zuidoost\n",
    "zuidoost['VOORL_BEREKEND'].value_counts().sort_index().plot.bar()\n",
    "plt.xlabel ('Energy Label')\n",
    "plt.ylabel ('Number of Buildings')\n",
    "plt.title ('Zuidoost')"
   ]
  },
  {
   "cell_type": "code",
   "execution_count": 35,
   "metadata": {},
   "outputs": [
    {
     "data": {
      "text/plain": [
       "Text(0.5, 1.0, 'Centrum')"
      ]
     },
     "execution_count": 35,
     "metadata": {},
     "output_type": "execute_result"
    },
    {
     "data": {
      "image/png": "[encoded data removed]",
      "text/plain": [
       "<Figure size 432x288 with 1 Axes>"
      ]
     },
     "metadata": {
      "needs_background": "light"
     },
     "output_type": "display_data"
    }
   ],
   "source": [
    "#Energy Labels in Centrum\n",
    "centrum['VOORL_BEREKEND'].value_counts().sort_index().plot.bar()\n",
    "plt.xlabel ('Energy Label')\n",
    "plt.ylabel ('Number of Buildings')\n",
    "plt.title ('Centrum')"
   ]
  },
  {
   "cell_type": "code",
   "execution_count": 36,
   "metadata": {},
   "outputs": [
    {
     "data": {
      "text/html": [
       "<div>\n",
       "<style scoped>\n",
       "    .dataframe tbody tr th:only-of-type {\n",
       "        vertical-align: middle;\n",
       "    }\n",
       "\n",
       "    .dataframe tbody tr th {\n",
       "        vertical-align: top;\n",
       "    }\n",
       "\n",
       "    .dataframe thead th {\n",
       "        text-align: right;\n",
       "    }\n",
       "</style>\n",
       "<table border=\"1\" class=\"dataframe\">\n",
       "  <thead>\n",
       "    <tr style=\"text-align: right;\">\n",
       "      <th></th>\n",
       "      <th>POSTCODE_WONING</th>\n",
       "      <th>VOORL_BEREKEND</th>\n",
       "    </tr>\n",
       "  </thead>\n",
       "  <tbody>\n",
       "    <tr>\n",
       "      <th>816589</th>\n",
       "      <td>1628ZH</td>\n",
       "      <td>A</td>\n",
       "    </tr>\n",
       "    <tr>\n",
       "      <th>232284</th>\n",
       "      <td>1068GR</td>\n",
       "      <td>A</td>\n",
       "    </tr>\n",
       "    <tr>\n",
       "      <th>618492</th>\n",
       "      <td>2144KM</td>\n",
       "      <td>A</td>\n",
       "    </tr>\n",
       "    <tr>\n",
       "      <th>232282</th>\n",
       "      <td>1068GR</td>\n",
       "      <td>A</td>\n",
       "    </tr>\n",
       "    <tr>\n",
       "      <th>232281</th>\n",
       "      <td>1068GR</td>\n",
       "      <td>A</td>\n",
       "    </tr>\n",
       "    <tr>\n",
       "      <th>...</th>\n",
       "      <td>...</td>\n",
       "      <td>...</td>\n",
       "    </tr>\n",
       "    <tr>\n",
       "      <th>190722</th>\n",
       "      <td>1017CB</td>\n",
       "      <td>H</td>\n",
       "    </tr>\n",
       "    <tr>\n",
       "      <th>190723</th>\n",
       "      <td>1017DR</td>\n",
       "      <td>H</td>\n",
       "    </tr>\n",
       "    <tr>\n",
       "      <th>190724</th>\n",
       "      <td>1016CJ</td>\n",
       "      <td>H</td>\n",
       "    </tr>\n",
       "    <tr>\n",
       "      <th>190710</th>\n",
       "      <td>1011TD</td>\n",
       "      <td>H</td>\n",
       "    </tr>\n",
       "    <tr>\n",
       "      <th>1048572</th>\n",
       "      <td>1971GG</td>\n",
       "      <td>H</td>\n",
       "    </tr>\n",
       "  </tbody>\n",
       "</table>\n",
       "<p>1048573 rows × 2 columns</p>\n",
       "</div>"
      ],
      "text/plain": [
       "        POSTCODE_WONING VOORL_BEREKEND\n",
       "816589           1628ZH              A\n",
       "232284           1068GR              A\n",
       "618492           2144KM              A\n",
       "232282           1068GR              A\n",
       "232281           1068GR              A\n",
       "...                 ...            ...\n",
       "190722           1017CB              H\n",
       "190723           1017DR              H\n",
       "190724           1016CJ              H\n",
       "190710           1011TD              H\n",
       "1048572          1971GG              H\n",
       "\n",
       "[1048573 rows x 2 columns]"
      ]
     },
     "execution_count": 36,
     "metadata": {},
     "output_type": "execute_result"
    }
   ],
   "source": [
    "#replace None with H\n",
    "\n",
    "df['VOORL_BEREKEND'] = df['VOORL_BEREKEND'].replace(['None'], 'H')\n",
    "\n",
    "df"
   ]
  },
  {
   "cell_type": "code",
   "execution_count": 58,
   "metadata": {},
   "outputs": [
    {
     "data": {
      "text/html": [
       "<div>\n",
       "<style scoped>\n",
       "    .dataframe tbody tr th:only-of-type {\n",
       "        vertical-align: middle;\n",
       "    }\n",
       "\n",
       "    .dataframe tbody tr th {\n",
       "        vertical-align: top;\n",
       "    }\n",
       "\n",
       "    .dataframe thead th {\n",
       "        text-align: right;\n",
       "    }\n",
       "</style>\n",
       "<table border=\"1\" class=\"dataframe\">\n",
       "  <thead>\n",
       "    <tr style=\"text-align: right;\">\n",
       "      <th></th>\n",
       "      <th>POSTCODE_WONING</th>\n",
       "      <th>VOORL_BEREKEND</th>\n",
       "    </tr>\n",
       "  </thead>\n",
       "  <tbody>\n",
       "    <tr>\n",
       "      <th>816589</th>\n",
       "      <td>1628ZH</td>\n",
       "      <td>A</td>\n",
       "    </tr>\n",
       "    <tr>\n",
       "      <th>232284</th>\n",
       "      <td>1068GR</td>\n",
       "      <td>A</td>\n",
       "    </tr>\n",
       "    <tr>\n",
       "      <th>618492</th>\n",
       "      <td>2144KM</td>\n",
       "      <td>A</td>\n",
       "    </tr>\n",
       "    <tr>\n",
       "      <th>232282</th>\n",
       "      <td>1068GR</td>\n",
       "      <td>A</td>\n",
       "    </tr>\n",
       "    <tr>\n",
       "      <th>232281</th>\n",
       "      <td>1068GR</td>\n",
       "      <td>A</td>\n",
       "    </tr>\n",
       "    <tr>\n",
       "      <th>...</th>\n",
       "      <td>...</td>\n",
       "      <td>...</td>\n",
       "    </tr>\n",
       "    <tr>\n",
       "      <th>190722</th>\n",
       "      <td>1017CB</td>\n",
       "      <td>H</td>\n",
       "    </tr>\n",
       "    <tr>\n",
       "      <th>190723</th>\n",
       "      <td>1017DR</td>\n",
       "      <td>H</td>\n",
       "    </tr>\n",
       "    <tr>\n",
       "      <th>190724</th>\n",
       "      <td>1016CJ</td>\n",
       "      <td>H</td>\n",
       "    </tr>\n",
       "    <tr>\n",
       "      <th>190710</th>\n",
       "      <td>1011TD</td>\n",
       "      <td>H</td>\n",
       "    </tr>\n",
       "    <tr>\n",
       "      <th>1048572</th>\n",
       "      <td>1971GG</td>\n",
       "      <td>H</td>\n",
       "    </tr>\n",
       "  </tbody>\n",
       "</table>\n",
       "<p>1048573 rows × 2 columns</p>\n",
       "</div>"
      ],
      "text/plain": [
       "        POSTCODE_WONING VOORL_BEREKEND\n",
       "816589           1628ZH              A\n",
       "232284           1068GR              A\n",
       "618492           2144KM              A\n",
       "232282           1068GR              A\n",
       "232281           1068GR              A\n",
       "...                 ...            ...\n",
       "190722           1017CB              H\n",
       "190723           1017DR              H\n",
       "190724           1016CJ              H\n",
       "190710           1011TD              H\n",
       "1048572          1971GG              H\n",
       "\n",
       "[1048573 rows x 2 columns]"
      ]
     },
     "execution_count": 58,
     "metadata": {},
     "output_type": "execute_result"
    }
   ],
   "source": [
    "#df1 = df['VOORL_BEREKEND'] = [ chr(int(x)) + 64 for x in df['VOORL_BEREKEND']]\n",
    "\n",
    "#df1\n",
    "df\n",
    "\n",
    "\n"
   ]
  },
  {
   "cell_type": "code",
   "execution_count": 59,
   "metadata": {},
   "outputs": [
    {
     "data": {
      "text/html": [
       "<div>\n",
       "<style scoped>\n",
       "    .dataframe tbody tr th:only-of-type {\n",
       "        vertical-align: middle;\n",
       "    }\n",
       "\n",
       "    .dataframe tbody tr th {\n",
       "        vertical-align: top;\n",
       "    }\n",
       "\n",
       "    .dataframe thead th {\n",
       "        text-align: right;\n",
       "    }\n",
       "</style>\n",
       "<table border=\"1\" class=\"dataframe\">\n",
       "  <thead>\n",
       "    <tr style=\"text-align: right;\">\n",
       "      <th></th>\n",
       "      <th>POSTCODE_WONING</th>\n",
       "      <th>VOORL_BEREKEND</th>\n",
       "    </tr>\n",
       "  </thead>\n",
       "  <tbody>\n",
       "    <tr>\n",
       "      <th>816589</th>\n",
       "      <td>1628ZH</td>\n",
       "      <td>A</td>\n",
       "    </tr>\n",
       "    <tr>\n",
       "      <th>232284</th>\n",
       "      <td>1068GR</td>\n",
       "      <td>A</td>\n",
       "    </tr>\n",
       "    <tr>\n",
       "      <th>618492</th>\n",
       "      <td>2144KM</td>\n",
       "      <td>A</td>\n",
       "    </tr>\n",
       "    <tr>\n",
       "      <th>232282</th>\n",
       "      <td>1068GR</td>\n",
       "      <td>A</td>\n",
       "    </tr>\n",
       "    <tr>\n",
       "      <th>232281</th>\n",
       "      <td>1068GR</td>\n",
       "      <td>A</td>\n",
       "    </tr>\n",
       "    <tr>\n",
       "      <th>...</th>\n",
       "      <td>...</td>\n",
       "      <td>...</td>\n",
       "    </tr>\n",
       "    <tr>\n",
       "      <th>190722</th>\n",
       "      <td>1017CB</td>\n",
       "      <td>None</td>\n",
       "    </tr>\n",
       "    <tr>\n",
       "      <th>190723</th>\n",
       "      <td>1017DR</td>\n",
       "      <td>None</td>\n",
       "    </tr>\n",
       "    <tr>\n",
       "      <th>190724</th>\n",
       "      <td>1016CJ</td>\n",
       "      <td>None</td>\n",
       "    </tr>\n",
       "    <tr>\n",
       "      <th>190710</th>\n",
       "      <td>1011TD</td>\n",
       "      <td>None</td>\n",
       "    </tr>\n",
       "    <tr>\n",
       "      <th>1048572</th>\n",
       "      <td>1971GG</td>\n",
       "      <td>None</td>\n",
       "    </tr>\n",
       "  </tbody>\n",
       "</table>\n",
       "<p>1048573 rows × 2 columns</p>\n",
       "</div>"
      ],
      "text/plain": [
       "        POSTCODE_WONING VOORL_BEREKEND\n",
       "816589           1628ZH              A\n",
       "232284           1068GR              A\n",
       "618492           2144KM              A\n",
       "232282           1068GR              A\n",
       "232281           1068GR              A\n",
       "...                 ...            ...\n",
       "190722           1017CB           None\n",
       "190723           1017DR           None\n",
       "190724           1016CJ           None\n",
       "190710           1011TD           None\n",
       "1048572          1971GG           None\n",
       "\n",
       "[1048573 rows x 2 columns]"
      ]
     },
     "execution_count": 59,
     "metadata": {},
     "output_type": "execute_result"
    }
   ],
   "source": [
    "df['VOORL_BEREKEND'] = df['VOORL_BEREKEND'].replace(['H'], 'None')\n",
    "\n",
    "df"
   ]
  },
  {
   "cell_type": "code",
   "execution_count": 53,
   "metadata": {},
   "outputs": [
    {
     "data": {
      "text/plain": [
       "'A'"
      ]
     },
     "execution_count": 53,
     "metadata": {},
     "output_type": "execute_result"
    }
   ],
   "source": [
    "\n",
    "centrum['VOORL_BEREKEND'].value_counts().sort_index().plot.bar()\n",
    "plt.xlabel ('Energy Label')\n",
    "plt.ylabel ('Number of Buildings')"
   ]
  },
  {
   "cell_type": "code",
   "execution_count": 16,
   "metadata": {},
   "outputs": [
    {
     "data": {
      "image/png": "[encoded data removed]",
      "text/plain": [
       "<Figure size 432x288 with 1 Axes>"
      ]
     },
     "metadata": {
      "needs_background": "light"
     },
     "output_type": "display_data"
    }
   ],
   "source": [
    "\n",
    "import numpy as np\n",
    "avg_dict = {'AMS City':3.8,'Centrum':4.74,'West':5.48,'Westpoort':4.49,'Nieuw West':2.53,'Zuid':5.37,'Oost':2.98,'Zuidoost':3,'Noord':2.99}\n",
    "\n",
    "plt.bar(range(len(avg_dict)), avg_dict.values(), align='center')\n",
    "plt.xticks(range(len(avg_dict)), list(avg_dict.keys()))\n",
    "plt.xticks(rotation=90)\n",
    "plt.yticks(np.arange(0, 7, 1), ['0','A','B','C','D','E','F'])\n",
    "\n",
    "#yticks(np.arange(3), ['Tom', 'Dick', 'Sue'])  # Set text labels.\n",
    "\n",
    "#Axes.set_yticklabels('0','A','B','C','D','E','F')\n",
    "#.set_yticklabels('0','A','B','C','D','E','F')\n",
    "plt.ylabel ('Energy Label')\n",
    "plt.xlabel ('Stadsdelen')\n",
    "plt.title ('Average Energy Label')\n",
    "plt.show()\n",
    "#plt.bar['Nieuw West', 'Oost','Zuidoost','Noord'].set_color('g')"
   ]
  },
  {
   "cell_type": "code",
   "execution_count": 11,
   "metadata": {},
   "outputs": [
    {
     "data": {
      "text/plain": [
       "4.038170923722049"
      ]
     },
     "execution_count": 11,
     "metadata": {},
     "output_type": "execute_result"
    }
   ],
   "source": [
    "#Replace Letters with numbers\n",
    "\n",
    "df['VOORL_BEREKEND'] = [ ord(x) - 64 for x in df['VOORL_BEREKEND']]\n",
    "NL_avg = df['VOORL_BEREKEND'].mean()\n",
    "\n",
    "NL_avg\n",
    "\n"
   ]
  },
  {
   "cell_type": "code",
   "execution_count": 38,
   "metadata": {},
   "outputs": [
    {
     "name": "stderr",
     "output_type": "stream",
     "text": [
      "/opt/anaconda3/lib/python3.7/site-packages/ipykernel_launcher.py:1: SettingWithCopyWarning: \n",
      "A value is trying to be set on a copy of a slice from a DataFrame.\n",
      "Try using .loc[row_indexer,col_indexer] = value instead\n",
      "\n",
      "See the caveats in the documentation: https://pandas.pydata.org/pandas-docs/stable/user_guide/indexing.html#returning-a-view-versus-a-copy\n",
      "  \"\"\"Entry point for launching an IPython kernel.\n",
      "/opt/anaconda3/lib/python3.7/site-packages/ipykernel_launcher.py:4: SettingWithCopyWarning: \n",
      "A value is trying to be set on a copy of a slice from a DataFrame.\n",
      "Try using .loc[row_indexer,col_indexer] = value instead\n",
      "\n",
      "See the caveats in the documentation: https://pandas.pydata.org/pandas-docs/stable/user_guide/indexing.html#returning-a-view-versus-a-copy\n",
      "  after removing the cwd from sys.path.\n"
     ]
    },
    {
     "data": {
      "text/plain": [
       "3.8037954073020748"
      ]
     },
     "execution_count": 38,
     "metadata": {},
     "output_type": "execute_result"
    }
   ],
   "source": [
    "AMS_pc['VOORL_BEREKEND'] = AMS_pc['VOORL_BEREKEND'].replace(['None'], 'H')\n",
    "\n",
    "#AMS_pc\n",
    "AMS_pc['VOORL_BEREKEND'] = [ ord(x) - 64 for x in AMS_pc['VOORL_BEREKEND']]\n",
    "AMS_avg = AMS_pc['VOORL_BEREKEND'].mean()\n",
    "\n",
    "AMS_avg"
   ]
  },
  {
   "cell_type": "code",
   "execution_count": 44,
   "metadata": {},
   "outputs": [
    {
     "data": {
      "text/plain": [
       "4.744625771807385"
      ]
     },
     "execution_count": 44,
     "metadata": {},
     "output_type": "execute_result"
    }
   ],
   "source": [
    "\n",
    "#centrum['VOORL_BEREKEND'] = centrum['VOORL_BEREKEND'].replace(['None'], 'H')\n",
    "#centrum['VOORL_BEREKEND'] = [ ord(x) - 64 for x in centrum['VOORL_BEREKEND']]\n",
    "centrum_avg = centrum['VOORL_BEREKEND'].mean()\n",
    "\n",
    "centrum_avg"
   ]
  },
  {
   "cell_type": "code",
   "execution_count": 41,
   "metadata": {},
   "outputs": [
    {
     "name": "stderr",
     "output_type": "stream",
     "text": [
      "/opt/anaconda3/lib/python3.7/site-packages/ipykernel_launcher.py:2: SettingWithCopyWarning: \n",
      "A value is trying to be set on a copy of a slice from a DataFrame.\n",
      "Try using .loc[row_indexer,col_indexer] = value instead\n",
      "\n",
      "See the caveats in the documentation: https://pandas.pydata.org/pandas-docs/stable/user_guide/indexing.html#returning-a-view-versus-a-copy\n",
      "  \n"
     ]
    },
    {
     "data": {
      "text/plain": [
       "5.477917981072555"
      ]
     },
     "execution_count": 41,
     "metadata": {},
     "output_type": "execute_result"
    }
   ],
   "source": [
    "#west['VOORL_BEREKEND'] = west['VOORL_BEREKEND'].replace(['None'], 'H')\n",
    "west['VOORL_BEREKEND'] = [ ord(x) - 64 for x in west['VOORL_BEREKEND']]\n",
    "west_avg = west['VOORL_BEREKEND'].mean()\n",
    "\n",
    "west_avg"
   ]
  },
  {
   "cell_type": "code",
   "execution_count": 42,
   "metadata": {},
   "outputs": [
    {
     "name": "stderr",
     "output_type": "stream",
     "text": [
      "/opt/anaconda3/lib/python3.7/site-packages/ipykernel_launcher.py:2: SettingWithCopyWarning: \n",
      "A value is trying to be set on a copy of a slice from a DataFrame.\n",
      "Try using .loc[row_indexer,col_indexer] = value instead\n",
      "\n",
      "See the caveats in the documentation: https://pandas.pydata.org/pandas-docs/stable/user_guide/indexing.html#returning-a-view-versus-a-copy\n",
      "  \n"
     ]
    },
    {
     "data": {
      "text/plain": [
       "4.499185402411209"
      ]
     },
     "execution_count": 42,
     "metadata": {},
     "output_type": "execute_result"
    }
   ],
   "source": [
    "#westpoort['VOORL_BEREKEND'] = westpoort['VOORL_BEREKEND'].replace(['None'], 'H')\n",
    "westpoort['VOORL_BEREKEND'] = [ ord(x) - 64 for x in westpoort['VOORL_BEREKEND']]\n",
    "westpoort_avg = westpoort['VOORL_BEREKEND'].mean()\n",
    "\n",
    "westpoort_avg"
   ]
  },
  {
   "cell_type": "code",
   "execution_count": 47,
   "metadata": {},
   "outputs": [
    {
     "data": {
      "text/plain": [
       "2.532713165531293"
      ]
     },
     "execution_count": 47,
     "metadata": {},
     "output_type": "execute_result"
    }
   ],
   "source": [
    "nieuw_west['VOORL_BEREKEND'] = [ ord(x) - 64 for x in nieuw_west['VOORL_BEREKEND']]\n",
    "nieuw_west_avg = nieuw_west['VOORL_BEREKEND'].mean()\n",
    "nieuw_west_avg"
   ]
  },
  {
   "cell_type": "code",
   "execution_count": 48,
   "metadata": {},
   "outputs": [
    {
     "name": "stderr",
     "output_type": "stream",
     "text": [
      "/opt/anaconda3/lib/python3.7/site-packages/ipykernel_launcher.py:1: SettingWithCopyWarning: \n",
      "A value is trying to be set on a copy of a slice from a DataFrame.\n",
      "Try using .loc[row_indexer,col_indexer] = value instead\n",
      "\n",
      "See the caveats in the documentation: https://pandas.pydata.org/pandas-docs/stable/user_guide/indexing.html#returning-a-view-versus-a-copy\n",
      "  \"\"\"Entry point for launching an IPython kernel.\n"
     ]
    },
    {
     "data": {
      "text/plain": [
       "5.372442779015596"
      ]
     },
     "execution_count": 48,
     "metadata": {},
     "output_type": "execute_result"
    }
   ],
   "source": [
    "zuid['VOORL_BEREKEND'] = [ ord(x) - 64 for x in zuid['VOORL_BEREKEND']]\n",
    "zuid_avg = zuid['VOORL_BEREKEND'].mean()\n",
    "zuid_avg"
   ]
  },
  {
   "cell_type": "code",
   "execution_count": 49,
   "metadata": {},
   "outputs": [
    {
     "name": "stderr",
     "output_type": "stream",
     "text": [
      "/opt/anaconda3/lib/python3.7/site-packages/ipykernel_launcher.py:1: SettingWithCopyWarning: \n",
      "A value is trying to be set on a copy of a slice from a DataFrame.\n",
      "Try using .loc[row_indexer,col_indexer] = value instead\n",
      "\n",
      "See the caveats in the documentation: https://pandas.pydata.org/pandas-docs/stable/user_guide/indexing.html#returning-a-view-versus-a-copy\n",
      "  \"\"\"Entry point for launching an IPython kernel.\n"
     ]
    },
    {
     "data": {
      "text/plain": [
       "3.312952094991129"
      ]
     },
     "execution_count": 49,
     "metadata": {},
     "output_type": "execute_result"
    }
   ],
   "source": [
    "zuidoost['VOORL_BEREKEND'] = [ ord(x) - 64 for x in zuidoost['VOORL_BEREKEND']]\n",
    "zuidoost_avg = zuidoost['VOORL_BEREKEND'].mean()\n",
    "zuidoost_avg"
   ]
  },
  {
   "cell_type": "code",
   "execution_count": 50,
   "metadata": {},
   "outputs": [
    {
     "name": "stderr",
     "output_type": "stream",
     "text": [
      "/opt/anaconda3/lib/python3.7/site-packages/ipykernel_launcher.py:1: SettingWithCopyWarning: \n",
      "A value is trying to be set on a copy of a slice from a DataFrame.\n",
      "Try using .loc[row_indexer,col_indexer] = value instead\n",
      "\n",
      "See the caveats in the documentation: https://pandas.pydata.org/pandas-docs/stable/user_guide/indexing.html#returning-a-view-versus-a-copy\n",
      "  \"\"\"Entry point for launching an IPython kernel.\n"
     ]
    },
    {
     "data": {
      "text/plain": [
       "2.9878233729696464"
      ]
     },
     "execution_count": 50,
     "metadata": {},
     "output_type": "execute_result"
    }
   ],
   "source": [
    "oost['VOORL_BEREKEND'] = [ ord(x) - 64 for x in oost['VOORL_BEREKEND']]\n",
    "oost_avg = oost['VOORL_BEREKEND'].mean()\n",
    "oost_avg"
   ]
  },
  {
   "cell_type": "code",
   "execution_count": 51,
   "metadata": {},
   "outputs": [
    {
     "name": "stderr",
     "output_type": "stream",
     "text": [
      "/opt/anaconda3/lib/python3.7/site-packages/ipykernel_launcher.py:1: SettingWithCopyWarning: \n",
      "A value is trying to be set on a copy of a slice from a DataFrame.\n",
      "Try using .loc[row_indexer,col_indexer] = value instead\n",
      "\n",
      "See the caveats in the documentation: https://pandas.pydata.org/pandas-docs/stable/user_guide/indexing.html#returning-a-view-versus-a-copy\n",
      "  \"\"\"Entry point for launching an IPython kernel.\n"
     ]
    },
    {
     "data": {
      "text/plain": [
       "2.993381535038932"
      ]
     },
     "execution_count": 51,
     "metadata": {},
     "output_type": "execute_result"
    }
   ],
   "source": [
    "noord['VOORL_BEREKEND'] = [ ord(x) - 64 for x in noord['VOORL_BEREKEND']]\n",
    "noord_avg = noord['VOORL_BEREKEND'].mean()\n",
    "noord_avg"
   ]
  },
  {
   "cell_type": "code",
   "execution_count": null,
   "metadata": {},
   "outputs": [],
   "source": []
  }
 ],
 "metadata": {
  "kernelspec": {
   "display_name": "Python 3",
   "language": "python",
   "name": "python3"
  },
  "language_info": {
   "codemirror_mode": {
    "name": "ipython",
    "version": 3
   },
   "file_extension": ".py",
   "mimetype": "text/x-python",
   "name": "python",
   "nbconvert_exporter": "python",
   "pygments_lexer": "ipython3",
   "version": "3.7.6"
  }
 },
 "nbformat": 4,
 "nbformat_minor": 4
}
