{
 "cells": [
  {
   "cell_type": "code",
   "execution_count": 2,
   "id": "handmade-arrow",
   "metadata": {},
   "outputs": [],
   "source": [
    "import os\n",
    "os.environ['USER'] = 'root'\n",
    "os.environ['PASSWORD'] = 'root'"
   ]
  },
  {
   "cell_type": "code",
   "execution_count": null,
   "id": "photographic-reception",
   "metadata": {},
   "outputs": [],
   "source": []
  }
 ],
 "metadata": {
  "kernelspec": {
   "display_name": "Python 3",
   "language": "python",
   "name": "python3"
  },
  "language_info": {
   "codemirror_mode": {
    "name": "ipython",
    "version": 3
   },
   "file_extension": ".py",
   "mimetype": "text/x-python",
   "name": "python",
   "nbconvert_exporter": "python",
   "pygments_lexer": "ipython3",
   "version": "3.8.5"
  }
 },
 "nbformat": 4,
 "nbformat_minor": 5
}
