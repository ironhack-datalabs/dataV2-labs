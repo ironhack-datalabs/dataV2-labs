{
 "cells": [
  {
   "cell_type": "code",
   "execution_count": 4,
   "metadata": {},
   "outputs": [],
   "source": [
    "import pandas as pd\n",
    "quandl.ApiConfig.api_key = 'h1DoK4zotJpuaBib9pZ4'"
   ]
  },
  {
   "cell_type": "code",
   "execution_count": 5,
   "metadata": {},
   "outputs": [],
   "source": [
    "def get_tickers(path):\n",
    "    companies = pd.read_csv(path)\n",
    "    ticker_list = list(companies['Ticker'])\n",
    "    print('Retrieved', str(len(ticker_list)), 'ticker symbols.')\n",
    "    return ticker_list\n"
   ]
  },
  {
   "cell_type": "code",
   "execution_count": 6,
   "metadata": {},
   "outputs": [
    {
     "name": "stdout",
     "output_type": "stream",
     "text": [
      "Retrieved 30 ticker symbols.\n",
      "Retrieving data for AAPL\n",
      "Retrieving data for NFLX\n",
      "Retrieving data for AMZN\n",
      "Retrieving data for MSFT\n",
      "Retrieving data for GOOG\n",
      "Retrieving data for TSLA\n",
      "Retrieving data for FB\n",
      "Retrieving data for AAP\n",
      "Retrieving data for DIS\n",
      "Retrieving data for NKE\n",
      "Retrieving data for UA\n",
      "Retrieving data for BAC\n",
      "Retrieving data for CCL\n",
      "Retrieving data for CI\n",
      "Retrieving data for AAL\n",
      "Retrieving data for LUV\n",
      "Retrieving data for WFC\n",
      "Retrieving data for WMT\n",
      "Retrieving data for HD\n",
      "Retrieving data for ORCL\n",
      "Retrieving data for IBM\n",
      "Retrieving data for NCLH\n",
      "Retrieving data for RCL\n",
      "Retrieving data for TWX\n",
      "Retrieving data for FOX\n",
      "Retrieving data for F\n",
      "Retrieving data for GCI\n",
      "Retrieving data for XOM\n",
      "Retrieving data for WWE\n",
      "Retrieving data for WM\n"
     ]
    }
   ],
   "source": [
    "import quandl\n",
    "\n",
    "def get_prices(ticker):\n",
    "    print('Retrieving data for', ticker)\n",
    "    prices = quandl.get('WIKI/' + ticker)['Adj. Close'].reset_index()\n",
    "    prices['Ticker'] = ticker\n",
    "    return prices\n",
    "\n",
    "data = []\n",
    "\n",
    "ticker_list = get_tickers('companies.csv')\n",
    "\n",
    "for ticker in ticker_list:\n",
    "    prices = get_prices(ticker)\n",
    "    data.append(prices)\n"
   ]
  },
  {
   "cell_type": "code",
   "execution_count": 7,
   "metadata": {},
   "outputs": [],
   "source": [
    "def concat_pivot(data, rows, columns, values):\n",
    "    df = pd.concat(data, sort=True)\n",
    "    pivot = df.pivot_table(values=values, columns=columns, index=rows)\n",
    "    return pivot\n"
   ]
  },
  {
   "cell_type": "code",
   "execution_count": 27,
   "metadata": {},
   "outputs": [],
   "source": [
    "def compute_returns(df):\n",
    "    returns = df.pct_change()\n",
    "    return returns\n"
   ]
  },
  {
   "cell_type": "code",
   "execution_count": 34,
   "metadata": {},
   "outputs": [],
   "source": [
    "def return_risk_ratio(df, days=30):\n",
    "    means = pd.DataFrame(df.tail(days).mean())\n",
    "    std = pd.DataFrame(df.tail(days).std())\n",
    "    ratios = pd.concat([means, std], axis=1).reset_index()\n",
    "    ratios.columns = ['Company', 'Mean', 'Std']\n",
    "    ratios['Ratio'] = ratios['Mean']/ratios['Std']\n",
    "    return ratios"
   ]
  },
  {
   "cell_type": "code",
   "execution_count": 29,
   "metadata": {},
   "outputs": [
    {
     "ename": "NameError",
     "evalue": "name 'ratios' is not defined",
     "output_type": "error",
     "traceback": [
      "\u001b[0;31m---------------------------------------------------------------------------\u001b[0m",
      "\u001b[0;31mNameError\u001b[0m                                 Traceback (most recent call last)",
      "\u001b[0;32m<ipython-input-29-55bbbc1e2e4f>\u001b[0m in \u001b[0;36m<module>\u001b[0;34m\u001b[0m\n\u001b[0;32m----> 1\u001b[0;31m \u001b[0mtop10\u001b[0m \u001b[0;34m=\u001b[0m \u001b[0mratios\u001b[0m\u001b[0;34m.\u001b[0m\u001b[0msort_values\u001b[0m\u001b[0;34m(\u001b[0m\u001b[0;34m'Ratio'\u001b[0m\u001b[0;34m,\u001b[0m \u001b[0mascending\u001b[0m\u001b[0;34m=\u001b[0m\u001b[0;32mFalse\u001b[0m\u001b[0;34m)\u001b[0m\u001b[0;34m.\u001b[0m\u001b[0mhead\u001b[0m\u001b[0;34m(\u001b[0m\u001b[0;36m10\u001b[0m\u001b[0;34m)\u001b[0m\u001b[0;34m\u001b[0m\u001b[0;34m\u001b[0m\u001b[0m\n\u001b[0m",
      "\u001b[0;31mNameError\u001b[0m: name 'ratios' is not defined"
     ]
    }
   ],
   "source": [
    "top10 = ratios.sort_values('Ratio', ascending=False).head(10)"
   ]
  },
  {
   "cell_type": "code",
   "execution_count": 30,
   "metadata": {},
   "outputs": [
    {
     "ename": "NameError",
     "evalue": "name 'returns' is not defined",
     "output_type": "error",
     "traceback": [
      "\u001b[0;31m---------------------------------------------------------------------------\u001b[0m",
      "\u001b[0;31mNameError\u001b[0m                                 Traceback (most recent call last)",
      "\u001b[0;32m<ipython-input-30-f04bceeed7f4>\u001b[0m in \u001b[0;36m<module>\u001b[0;34m\u001b[0m\n\u001b[1;32m      3\u001b[0m     \u001b[0;32mreturn\u001b[0m \u001b[0mcorr_matrix\u001b[0m\u001b[0;34m\u001b[0m\u001b[0;34m\u001b[0m\u001b[0m\n\u001b[1;32m      4\u001b[0m \u001b[0;34m\u001b[0m\u001b[0m\n\u001b[0;32m----> 5\u001b[0;31m \u001b[0mtarget_list\u001b[0m \u001b[0;34m=\u001b[0m \u001b[0mreturns\u001b[0m\u001b[0;34m[\u001b[0m\u001b[0mlist\u001b[0m\u001b[0;34m(\u001b[0m\u001b[0mtop10\u001b[0m\u001b[0;34m[\u001b[0m\u001b[0;34m'Company'\u001b[0m\u001b[0;34m]\u001b[0m\u001b[0;34m)\u001b[0m\u001b[0;34m]\u001b[0m\u001b[0;34m\u001b[0m\u001b[0;34m\u001b[0m\u001b[0m\n\u001b[0m\u001b[1;32m      6\u001b[0m \u001b[0mcorrelation\u001b[0m \u001b[0;34m=\u001b[0m \u001b[0mcorr_matrix\u001b[0m\u001b[0;34m(\u001b[0m\u001b[0mtarget_list\u001b[0m\u001b[0;34m)\u001b[0m\u001b[0;34m\u001b[0m\u001b[0;34m\u001b[0m\u001b[0m\n",
      "\u001b[0;31mNameError\u001b[0m: name 'returns' is not defined"
     ]
    }
   ],
   "source": [
    "def corr_matrix(df, days=30):\n",
    "    corr_matrix = df.tail(days).corr()\n",
    "    return corr_matrix\n",
    "\n",
    "target_list = returns[list(top10['Company'])]\n",
    "correlation = corr_matrix(target_list)"
   ]
  },
  {
   "cell_type": "code",
   "execution_count": 33,
   "metadata": {},
   "outputs": [
    {
     "ename": "NameError",
     "evalue": "name 'top10' is not defined",
     "output_type": "error",
     "traceback": [
      "\u001b[0;31m---------------------------------------------------------------------------\u001b[0m",
      "\u001b[0;31mNameError\u001b[0m                                 Traceback (most recent call last)",
      "\u001b[0;32m<ipython-input-33-719af82c3bd4>\u001b[0m in \u001b[0;36m<module>\u001b[0;34m\u001b[0m\n\u001b[1;32m      9\u001b[0m     \u001b[0;32mreturn\u001b[0m \u001b[0mchart\u001b[0m\u001b[0;34m\u001b[0m\u001b[0;34m\u001b[0m\u001b[0m\n\u001b[1;32m     10\u001b[0m \u001b[0;34m\u001b[0m\u001b[0m\n\u001b[0;32m---> 11\u001b[0;31m \u001b[0mbar_plot\u001b[0m \u001b[0;34m=\u001b[0m \u001b[0mbarchart\u001b[0m\u001b[0;34m(\u001b[0m\u001b[0mtop10\u001b[0m\u001b[0;34m,\u001b[0m \u001b[0;34m'Ratio'\u001b[0m\u001b[0;34m,\u001b[0m \u001b[0;34m'Company'\u001b[0m\u001b[0;34m,\u001b[0m \u001b[0mtitle\u001b[0m\u001b[0;34m=\u001b[0m\u001b[0;34m'Stock Return vs. Risk Ratios'\u001b[0m\u001b[0;34m)\u001b[0m\u001b[0;34m\u001b[0m\u001b[0;34m\u001b[0m\u001b[0m\n\u001b[0m",
      "\u001b[0;31mNameError\u001b[0m: name 'top10' is not defined"
     ]
    }
   ],
   "source": [
    "import matplotlib.pyplot as plt\n",
    "import seaborn as sns\n",
    "\n",
    "def barchart(df, x, y, length=8, width=14, title=\"\"):\n",
    "    df = df.sort_values(x, ascending=False)\n",
    "    plt.figure(figsize=(width,length))\n",
    "    chart = sns.barplot(data=df, x=x, y=y)\n",
    "    plt.title(title + \"\\n\", fontsize=16)\n",
    "    return chart\n",
    "\n",
    "bar_plot = barchart(top10, 'Ratio', 'Company', title='Stock Return vs. Risk Ratios')\n"
   ]
  },
  {
   "cell_type": "code",
   "execution_count": 32,
   "metadata": {},
   "outputs": [
    {
     "ename": "NameError",
     "evalue": "name 'correlation' is not defined",
     "output_type": "error",
     "traceback": [
      "\u001b[0;31m---------------------------------------------------------------------------\u001b[0m",
      "\u001b[0;31mNameError\u001b[0m                                 Traceback (most recent call last)",
      "\u001b[0;32m<ipython-input-32-44c72cbe9df8>\u001b[0m in \u001b[0;36m<module>\u001b[0;34m\u001b[0m\n\u001b[1;32m     12\u001b[0m     \u001b[0;32mreturn\u001b[0m \u001b[0mchart\u001b[0m\u001b[0;34m\u001b[0m\u001b[0;34m\u001b[0m\u001b[0m\n\u001b[1;32m     13\u001b[0m \u001b[0;34m\u001b[0m\u001b[0m\n\u001b[0;32m---> 14\u001b[0;31m \u001b[0mcorr_plot\u001b[0m \u001b[0;34m=\u001b[0m \u001b[0mcorrelation_plot\u001b[0m\u001b[0;34m(\u001b[0m\u001b[0mcorrelation\u001b[0m\u001b[0;34m,\u001b[0m \u001b[0mtitle\u001b[0m\u001b[0;34m=\u001b[0m\u001b[0;34m'Stock Return Correlation'\u001b[0m\u001b[0;34m)\u001b[0m\u001b[0;34m\u001b[0m\u001b[0;34m\u001b[0m\u001b[0m\n\u001b[0m",
      "\u001b[0;31mNameError\u001b[0m: name 'correlation' is not defined"
     ]
    }
   ],
   "source": [
    "import numpy as np\n",
    "\n",
    "def correlation_plot(corr, title=\"\"):\n",
    "    mask = np.zeros_like(corr, dtype=np.bool)\n",
    "    mask[np.triu_indices_from(mask)] = True\n",
    "\n",
    "    plt.subplots(figsize=(15, 10))\n",
    "    cmap = sns.diverging_palette(6, 255, as_cmap=True)\n",
    "    \n",
    "    chart = sns.heatmap(corr, mask=mask, cmap=cmap, center=0, linewidths=.5, annot=True, fmt='.2f')\n",
    "    plt.title(title, fontsize=16)\n",
    "    return chart\n",
    "\n",
    "corr_plot = correlation_plot(correlation, title='Stock Return Correlation')\n"
   ]
  },
  {
   "cell_type": "code",
   "execution_count": 35,
   "metadata": {},
   "outputs": [],
   "source": [
    "def save_viz(chart, title):\n",
    "    fig = chart.get_figure()\n",
    "    fig.savefig(title + '.png')\n"
   ]
  },
  {
   "cell_type": "code",
   "execution_count": null,
   "metadata": {},
   "outputs": [
    {
     "name": "stdout",
     "output_type": "stream",
     "text": [
      "Retrieved 30 ticker symbols.\n",
      "Retrieving data for AAPL\n",
      "Retrieving data for NFLX\n",
      "Retrieving data for AMZN\n",
      "Retrieving data for MSFT\n",
      "Retrieving data for GOOG\n",
      "Retrieving data for TSLA\n",
      "Retrieving data for FB\n",
      "Retrieving data for AAP\n",
      "Retrieving data for DIS\n",
      "Retrieving data for NKE\n",
      "Retrieving data for UA\n",
      "Retrieving data for BAC\n",
      "Retrieving data for CCL\n",
      "Retrieving data for CI\n",
      "Retrieving data for AAL\n",
      "Retrieving data for LUV\n",
      "Retrieving data for WFC\n",
      "Retrieving data for WMT\n",
      "Retrieving data for HD\n",
      "Retrieving data for ORCL\n",
      "Retrieving data for IBM\n",
      "Retrieving data for NCLH\n",
      "Retrieving data for RCL\n",
      "Retrieving data for TWX\n",
      "Retrieving data for FOX\n",
      "Retrieving data for F\n",
      "Retrieving data for GCI\n",
      "Retrieving data for XOM\n"
     ]
    }
   ],
   "source": [
    "import quandl\n",
    "import pandas as pd\n",
    "import numpy as np\n",
    "import matplotlib.pyplot as plt\n",
    "import seaborn as sns\n",
    "\n",
    "def get_tickers(path):\n",
    "    companies = pd.read_csv(path)\n",
    "    ticker_list = list(companies['Ticker'])\n",
    "    print('Retrieved', str(len(ticker_list)), 'ticker symbols.')\n",
    "    return ticker_list\n",
    "\n",
    "def get_prices(ticker):\n",
    "    print('Retrieving data for', ticker)\n",
    "    prices = quandl.get('WIKI/' + ticker)['Adj. Close'].reset_index()\n",
    "    prices['Ticker'] = ticker\n",
    "    return prices\n",
    "\n",
    "def concat_pivot(data, rows, columns, values):\n",
    "    df = pd.concat(data, sort=True)\n",
    "    pivot = df.pivot_table(values=values, columns=columns, index=rows)\n",
    "    return pivot\n",
    "\n",
    "def compute_returns(df):\n",
    "    returns = df.pct_change()\n",
    "    return returns\n",
    "\n",
    "def return_risk_ratio(df, days=30):\n",
    "    means = pd.DataFrame(df.tail(days).mean())\n",
    "    std = pd.DataFrame(df.tail(days).std())\n",
    "    ratios = pd.concat([means, std], axis=1).reset_index()\n",
    "    ratios.columns = ['Company', 'Mean', 'Std']\n",
    "    ratios['Ratio'] = ratios['Mean']/ratios['Std']\n",
    "    return ratios\n",
    "\n",
    "def corr_matrix(df, days=30):\n",
    "    corr_matrix = df.tail(days).corr()\n",
    "    return corr_matrix\n",
    "\n",
    "def barchart(df, x, y, length=8, width=14, title=\"\"):\n",
    "    df = df.sort_values(x, ascending=False)\n",
    "    plt.figure(figsize=(width,length))\n",
    "    chart = sns.barplot(data=df, x=x, y=y)\n",
    "    plt.title(title + \"\\n\", fontsize=16)\n",
    "    return chart\n",
    "\n",
    "def correlation_plot(corr, title=\"\"):\n",
    "    mask = np.zeros_like(corr, dtype=np.bool)\n",
    "    mask[np.triu_indices_from(mask)] = True\n",
    "\n",
    "    plt.subplots(figsize=(15, 10))\n",
    "    cmap = sns.diverging_palette(6, 255, as_cmap=True)\n",
    "    \n",
    "    chart = sns.heatmap(corr, mask=mask, cmap=cmap, center=0, linewidths=.5, annot=True, fmt='.2f')\n",
    "    plt.title(title, fontsize=16)\n",
    "    return chart\n",
    "\n",
    "def save_viz(chart, title):\n",
    "    fig = chart.get_figure()\n",
    "    fig.savefig(title + '.png')\n",
    "\n",
    "def acquire():\n",
    "    data = []\n",
    "\n",
    "    ticker_list = get_tickers('companies.csv')\n",
    "\n",
    "    for ticker in ticker_list:\n",
    "        prices = get_prices(ticker)\n",
    "        data.append(prices)\n",
    "    return data\n",
    "\n",
    "def wrangle(data):\n",
    "    pivot = concat_pivot(data, 'Date', 'Ticker', 'Adj. Close')\n",
    "    returns = compute_returns(pivot)\n",
    "    return returns\n",
    "\n",
    "def analyze(returns, days=30):\n",
    "    ratios = return_risk_ratio(returns, days=days)\n",
    "    top10 = ratios.sort_values('Ratio', ascending=False).head(10)\n",
    "    \n",
    "    target_list = returns[list(top10['Company'])]\n",
    "    correlation = corr_matrix(target_list)\n",
    "    return top10, correlation\n",
    "\n",
    "def report(top10, correlation):\n",
    "    bar_plot = barchart(top10, 'Ratio', 'Company', title='Stock Return vs. Risk Ratios - ' + str(day) + ' Days')\n",
    "    save_viz(bar_plot, 'Return vs. Risk Top 10 - ' + str(day) + ' Days')\n",
    "    \n",
    "    corr_plot = correlation_plot(correlation, title='Stock Return Correlation - ' + str(day) + ' Days')\n",
    "    save_viz(corr_plot, 'Correlation Plot - ' + str(day) + ' Days')\n",
    "\n",
    "if __name__ == \"__main__\":\n",
    "    data = acquire()\n",
    "    returns = wrangle(data)\n",
    "\n",
    "    num_days = [90,180,360]\n",
    "\n",
    "    for day in num_days:\n",
    "        top10, correlation = analyze(returns, days=day)\n",
    "        report(top10, correlation)\n"
   ]
  },
  {
   "cell_type": "code",
   "execution_count": null,
   "metadata": {},
   "outputs": [],
   "source": []
  }
 ],
 "metadata": {
  "kernelspec": {
   "display_name": "Python 3",
   "language": "python",
   "name": "python3"
  },
  "language_info": {
   "codemirror_mode": {
    "name": "ipython",
    "version": 3
   },
   "file_extension": ".py",
   "mimetype": "text/x-python",
   "name": "python",
   "nbconvert_exporter": "python",
   "pygments_lexer": "ipython3",
   "version": "3.7.7"
  }
 },
 "nbformat": 4,
 "nbformat_minor": 4
}
