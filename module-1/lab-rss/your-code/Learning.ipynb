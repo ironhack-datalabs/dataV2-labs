{
 "cells": [
  {
   "cell_type": "markdown",
   "metadata": {},
   "source": [
    "# Working with RSS Feeds\n",
    "\n",
    "\n",
    "Lesson Goals\n",
    "\n",
    "    Learn about the feedparser library\n",
    "    Use feedparser to parse RSS feeds\n",
    "    Explore the components of parsed RSS feeds\n",
    "    Convert results into data frames and conduct analysis\n",
    "\n",
    "Introduction\n",
    "\n",
    "In the previous lesson, we learned how to use Python to extract structured information from web APIs. In this lesson, we are going to take a look at another source of structured web content called RSS. RSS stands for Rich Site Summary or Really Simple Syndication, and it is a type of web feed which allows users and applications to access updates to online content in a standardized, computer-readable format (typically XML).\n",
    "\n",
    "Python has an excellent library called feedparser that is very useful for reading and parsing RSS feeds. We are going to be using this library throughout the lesson, so let's make sure it is installed and imported.\n",
    "\n",
    "$ pip install feedparser\n",
    "\n"
   ]
  },
  {
   "cell_type": "code",
   "execution_count": 1,
   "metadata": {},
   "outputs": [],
   "source": [
    "import feedparser"
   ]
  },
  {
   "cell_type": "markdown",
   "metadata": {},
   "source": [
    "# RSS Feed Versions Formats\n",
    "\n",
    "Due to the way web feeds evolved, there are various versions of RSS (0.9X, 1.0, 2.0, etc.) as well as alternate forms of feeds (Atom, CDF, etc.). We would have to worry about slight differences in formats if we were going to parse the feeds manually, but feedparser is able to handle all of them, so that is one less thing we need to worry about.\n",
    "\n",
    "\n",
    "# Parsing RSS Feeds\n",
    "\n",
    "To parse an RSS feed with feedparser, you just need to call its parse method and pass it a URL. Let's take a look at an example using the RSS feed for the tech subreddit category. "
   ]
  },
  {
   "cell_type": "code",
   "execution_count": 2,
   "metadata": {},
   "outputs": [],
   "source": [
    "reddit = feedparser.parse('https://www.reddit.com/r/tech.rss')"
   ]
  },
  {
   "cell_type": "markdown",
   "metadata": {},
   "source": [
    "If we take a look at the results, we will see a nested dictionary structure that contains a lot of information and looks something like the following."
   ]
  },
  {
   "cell_type": "code",
   "execution_count": 3,
   "metadata": {},
   "outputs": [
    {
     "name": "stdout",
     "output_type": "stream",
     "text": [
      "{'tags': [{'term': 'tech', 'scheme': None, 'label': 'r/tech'}], 'updated': '2019-07-08T15:03:57+00:00', 'updated_parsed': time.struct_time(tm_year=2019, tm_mon=7, tm_mday=8, tm_hour=15, tm_min=3, tm_sec=57, tm_wday=0, tm_yday=189, tm_isdst=0), 'icon': 'https://www.redditstatic.com/icon.png/', 'id': 'https://www.reddit.com/r/tech.rss', 'guidislink': True, 'link': 'https://www.reddit.com/r/tech', 'links': [{'rel': 'self', 'href': 'https://www.reddit.com/r/tech.rss', 'type': 'application/atom+xml'}, {'rel': 'alternate', 'href': 'https://www.reddit.com/r/tech', 'type': 'text/html'}], 'logo': 'https://f.thumbs.redditmedia.com/kI7eGVG6kaObGTdM.png', 'subtitle': 'The goal of /r/tech is to provide a space dedicated to the intelligent discussion of innovations and changes to technology in our ever changing world. We focus on high quality news articles about technology and informative and thought provoking self posts.', 'subtitle_detail': {'type': 'text/plain', 'language': None, 'base': 'https://www.reddit.com/r/tech.rss', 'value': 'The goal of /r/tech is to provide a space dedicated to the intelligent discussion of innovations and changes to technology in our ever changing world. We focus on high quality news articles about technology and informative and thought provoking self posts.'}, 'title': '/r/tech: Technological innovations and changes.', 'title_detail': {'type': 'text/plain', 'language': None, 'base': 'https://www.reddit.com/r/tech.rss', 'value': '/r/tech: Technological innovations and changes.'}}\n"
     ]
    }
   ],
   "source": [
    "print(reddit['feed'])"
   ]
  },
  {
   "cell_type": "markdown",
   "metadata": {},
   "source": [
    "This is great because we can now use what we learned earlier in the program about working with data structures to explore and extract the information we need from this.\n",
    "\n",
    "\n",
    "\n",
    "# Exploring the Parsed Feed\n",
    "\n",
    "Let's take a look at the first level of dictionary keys from the results and see what each of them looks like."
   ]
  },
  {
   "cell_type": "code",
   "execution_count": 4,
   "metadata": {},
   "outputs": [
    {
     "data": {
      "text/plain": [
       "dict_keys(['feed', 'entries', 'bozo', 'headers', 'href', 'status', 'encoding', 'version', 'namespaces'])"
      ]
     },
     "execution_count": 4,
     "metadata": {},
     "output_type": "execute_result"
    }
   ],
   "source": [
    "reddit.keys()"
   ]
  },
  {
   "cell_type": "markdown",
   "metadata": {},
   "source": [
    "These are the different components of the RSS feed, and each of them is going to contain information about something more specific. For example, feed is going to contain information about this Reddit RSS feed, entries is going to contain information about the specific entries in the feed, etc.\n",
    "\n",
    "Since the feed component is now structured as just a dictionary inside the larger dictionary, we can view its keys to get a sense of what type of information is available to us within the feed dictionary. "
   ]
  },
  {
   "cell_type": "code",
   "execution_count": 5,
   "metadata": {},
   "outputs": [
    {
     "data": {
      "text/plain": [
       "dict_keys(['tags', 'updated', 'updated_parsed', 'icon', 'id', 'guidislink', 'link', 'links', 'logo', 'subtitle', 'subtitle_detail', 'title', 'title_detail'])"
      ]
     },
     "execution_count": 5,
     "metadata": {},
     "output_type": "execute_result"
    }
   ],
   "source": [
    "reddit.feed.keys()"
   ]
  },
  {
   "cell_type": "markdown",
   "metadata": {},
   "source": [
    "Here, we can see that we would be able to extract any tags for the feed, when the feed was updated, and the icon image for the feed as well as the feed title, subtitle, and various other pieces of information about it. You can see what each of those looks like by calling each component from reddit.feed. "
   ]
  },
  {
   "cell_type": "code",
   "execution_count": 6,
   "metadata": {},
   "outputs": [
    {
     "name": "stdout",
     "output_type": "stream",
     "text": [
      "[{'term': 'tech', 'scheme': None, 'label': 'r/tech'}]\n",
      "\n",
      "https://www.redditstatic.com/icon.png/\n",
      "\n",
      "/r/tech: Technological innovations and changes.\n",
      "\n",
      "The goal of /r/tech is to provide a space dedicated to the intelligent discussion of innovations and changes to technology in our ever changing world. We focus on high quality news articles about technology and informative and thought provoking self posts.\n"
     ]
    }
   ],
   "source": [
    "print (reddit.feed.tags)\n",
    "print ('')\n",
    "print (reddit.feed.icon)\n",
    "print ('')\n",
    "print (reddit.feed.title)\n",
    "print ('')\n",
    "print (reddit.feed.subtitle)"
   ]
  },
  {
   "cell_type": "markdown",
   "metadata": {},
   "source": [
    "This is great, but the most interesting part of the feed is probably going to be the entries. We can access them as follows."
   ]
  },
  {
   "cell_type": "code",
   "execution_count": 7,
   "metadata": {},
   "outputs": [
    {
     "data": {
      "text/plain": [
       "{'authors': [{'name': '/u/OriginalHoneyBadger',\n",
       "   'href': 'https://www.reddit.com/user/OriginalHoneyBadger'}],\n",
       " 'author_detail': {'name': '/u/OriginalHoneyBadger',\n",
       "  'href': 'https://www.reddit.com/user/OriginalHoneyBadger'},\n",
       " 'href': 'https://www.reddit.com/user/OriginalHoneyBadger',\n",
       " 'author': '/u/OriginalHoneyBadger',\n",
       " 'tags': [{'term': 'tech', 'scheme': None, 'label': 'r/tech'}],\n",
       " 'content': [{'type': 'text/html',\n",
       "   'language': None,\n",
       "   'base': 'https://www.reddit.com/r/tech.rss',\n",
       "   'value': '<!-- SC_OFF --><div class=\"md\"><p>Hey guys!</p> <p>Thanks to <a href=\"/u/thonkerton\">/u/thonkerton</a>, <a href=\"/r/tech\">/r/tech</a> has an official discord server.</p> <p>The permanent join link is posted below, feel free to join and invite your friends. </p> <p>Should you have any questions, concerns or suggestions do not hesitate to reach out!</p> <p>Cheers!</p> <h4><a href=\"https://discord.gg/tech\">https://discord.gg/tech</a></h4> </div><!-- SC_ON --> &#32; submitted by &#32; <a href=\"https://www.reddit.com/user/OriginalHoneyBadger\"> /u/OriginalHoneyBadger </a> <br/> <span><a href=\"https://www.reddit.com/r/tech/comments/7dx2ew/rtech_now_has_its_own_discord_server/\">[link]</a></span> &#32; <span><a href=\"https://www.reddit.com/r/tech/comments/7dx2ew/rtech_now_has_its_own_discord_server/\">[comments]</a></span>'}],\n",
       " 'summary': '<!-- SC_OFF --><div class=\"md\"><p>Hey guys!</p> <p>Thanks to <a href=\"/u/thonkerton\">/u/thonkerton</a>, <a href=\"/r/tech\">/r/tech</a> has an official discord server.</p> <p>The permanent join link is posted below, feel free to join and invite your friends. </p> <p>Should you have any questions, concerns or suggestions do not hesitate to reach out!</p> <p>Cheers!</p> <h4><a href=\"https://discord.gg/tech\">https://discord.gg/tech</a></h4> </div><!-- SC_ON --> &#32; submitted by &#32; <a href=\"https://www.reddit.com/user/OriginalHoneyBadger\"> /u/OriginalHoneyBadger </a> <br/> <span><a href=\"https://www.reddit.com/r/tech/comments/7dx2ew/rtech_now_has_its_own_discord_server/\">[link]</a></span> &#32; <span><a href=\"https://www.reddit.com/r/tech/comments/7dx2ew/rtech_now_has_its_own_discord_server/\">[comments]</a></span>',\n",
       " 'id': 'https://www.reddit.com/r/t3_7dx2ew',\n",
       " 'guidislink': True,\n",
       " 'link': 'https://www.reddit.com/r/tech/comments/7dx2ew/rtech_now_has_its_own_discord_server/',\n",
       " 'links': [{'href': 'https://www.reddit.com/r/tech/comments/7dx2ew/rtech_now_has_its_own_discord_server/',\n",
       "   'rel': 'alternate',\n",
       "   'type': 'text/html'}],\n",
       " 'updated': '2017-11-19T00:37:30+00:00',\n",
       " 'updated_parsed': time.struct_time(tm_year=2017, tm_mon=11, tm_mday=19, tm_hour=0, tm_min=37, tm_sec=30, tm_wday=6, tm_yday=323, tm_isdst=0),\n",
       " 'title': \"/r/Tech now has it's own Discord server!\",\n",
       " 'title_detail': {'type': 'text/plain',\n",
       "  'language': None,\n",
       "  'base': 'https://www.reddit.com/r/tech.rss',\n",
       "  'value': \"/r/Tech now has it's own Discord server!\"}}"
      ]
     },
     "execution_count": 7,
     "metadata": {},
     "output_type": "execute_result"
    }
   ],
   "source": [
    "reddit.entries[0]"
   ]
  },
  {
   "cell_type": "markdown",
   "metadata": {},
   "source": [
    "We can see that the data structure within this seems to be a list where each entry is an element that contains a dictionary with the information for each entry. We can access the individual entries via indexing and then we can look at the keys available for the entry by calling the keys() method. "
   ]
  },
  {
   "cell_type": "code",
   "execution_count": 8,
   "metadata": {},
   "outputs": [
    {
     "data": {
      "text/plain": [
       "dict_keys(['authors', 'author_detail', 'href', 'author', 'tags', 'content', 'summary', 'id', 'guidislink', 'link', 'links', 'updated', 'updated_parsed', 'title', 'title_detail'])"
      ]
     },
     "execution_count": 8,
     "metadata": {},
     "output_type": "execute_result"
    }
   ],
   "source": [
    "reddit.entries[0].keys()"
   ]
  },
  {
   "cell_type": "markdown",
   "metadata": {},
   "source": [
    "If we wanted to obtain a particular piece of data for an entry, we could just index that entry and then call the key for the information we wanted. For example, if we wanted to get the title of the third entry, we would obtain it as follows.\n",
    "\n"
   ]
  },
  {
   "cell_type": "code",
   "execution_count": 9,
   "metadata": {},
   "outputs": [
    {
     "data": {
      "text/plain": [
       "'Nintendo president: ‘we must keep up’ with cloud gaming tech'"
      ]
     },
     "execution_count": 9,
     "metadata": {},
     "output_type": "execute_result"
    }
   ],
   "source": [
    "reddit.entries[2].title"
   ]
  },
  {
   "cell_type": "markdown",
   "metadata": {},
   "source": [
    "To extract the titles for all the entries, we could use a list comprehension."
   ]
  },
  {
   "cell_type": "code",
   "execution_count": 10,
   "metadata": {},
   "outputs": [
    {
     "name": "stdout",
     "output_type": "stream",
     "text": [
      "[\"/r/Tech now has it's own Discord server!\", \"FBI and ICE use DMV photos as 'gold mine' for facial recognition data.\", 'Nintendo president: ‘we must keep up’ with cloud gaming tech', \"Volkswagen's electric ID R race car broke its own Goodwood Hill Climb record\", 'Now you can check in on Bill Nye’s solar sail as it orbits Earth', 'Apple tests iCloud.com sign-ins with your face or finger', 'Huawei staff share deep links with Chinese military, new study claims-', 'Hype or hope? How important is blockchain?', \"Gmail Tracks Everything You Purchase and You Can't Delete It or Opt Out | Digital Trends\", 'is bandwidth(regarding wifi) inversely proportional to the effective range of network?', 'A portable Bluetooth cassette tape player brings retro audio into 2019', 'Idea for gaming laptop!', \"Twitter's Disinformation Data Dumps Are Helpful—to a Point\", 'Industrial Uses of Connectors And Custom Cable Assemblies', 'You can explore mazes of mirrors and light at teamLab Tokyo', '7-Eleven Japan shut down its mobile payment app after hackers stole $500,000 from users', 'AMD Launches 7nm Ryzen 3000 CPUs & Radeon RX 5700 GPUs', 'Formula E’s electric off-road SUV is an absolute unit', 'Wimbledon reworks AI tech to reduce bias in game highlights', 'Nio CEO cautiously eyes Europe entry for Chinese EV startup', 'Tesla shows off next-gen automated emergency braking stopping for pedestrians and cyclists', \"How Solar Panels Work (And Why They're Taking Over the World)\", 'DNA Data Storage Is Closer Than You Think', 'Google is testing a play button for Chrome’s toolbar', 'Google still keeps a list of everything you ever bought using Gmail, even if you delete all your emails.', 'Samsung files a new patent for a foldable display']\n"
     ]
    }
   ],
   "source": [
    "titles = [reddit.entries[i].title for i in range(len(reddit.entries))]\n",
    "print(titles)"
   ]
  },
  {
   "cell_type": "markdown",
   "metadata": {},
   "source": [
    "# Analyzing Data From an RSS Feed\n",
    "\n",
    "Thus far, feedparser has helped us obtain data from an RSS feed and structure in a way that makes it easy for us to explore it and extract the information we need. If we wanted to analyze the data further, we could leverage the Pandas library and create a data frame containing the information about entries in the feed."
   ]
  },
  {
   "cell_type": "code",
   "execution_count": 11,
   "metadata": {},
   "outputs": [
    {
     "data": {
      "text/html": [
       "<div>\n",
       "<style scoped>\n",
       "    .dataframe tbody tr th:only-of-type {\n",
       "        vertical-align: middle;\n",
       "    }\n",
       "\n",
       "    .dataframe tbody tr th {\n",
       "        vertical-align: top;\n",
       "    }\n",
       "\n",
       "    .dataframe thead th {\n",
       "        text-align: right;\n",
       "    }\n",
       "</style>\n",
       "<table border=\"1\" class=\"dataframe\">\n",
       "  <thead>\n",
       "    <tr style=\"text-align: right;\">\n",
       "      <th></th>\n",
       "      <th>author</th>\n",
       "      <th>author_detail</th>\n",
       "      <th>authors</th>\n",
       "      <th>content</th>\n",
       "      <th>guidislink</th>\n",
       "      <th>href</th>\n",
       "      <th>id</th>\n",
       "      <th>link</th>\n",
       "      <th>links</th>\n",
       "      <th>summary</th>\n",
       "      <th>tags</th>\n",
       "      <th>title</th>\n",
       "      <th>title_detail</th>\n",
       "      <th>updated</th>\n",
       "      <th>updated_parsed</th>\n",
       "    </tr>\n",
       "  </thead>\n",
       "  <tbody>\n",
       "    <tr>\n",
       "      <th>0</th>\n",
       "      <td>/u/OriginalHoneyBadger</td>\n",
       "      <td>{'name': '/u/OriginalHoneyBadger', 'href': 'ht...</td>\n",
       "      <td>[{'name': '/u/OriginalHoneyBadger', 'href': 'h...</td>\n",
       "      <td>[{'type': 'text/html', 'language': None, 'base...</td>\n",
       "      <td>True</td>\n",
       "      <td>https://www.reddit.com/user/OriginalHoneyBadger</td>\n",
       "      <td>https://www.reddit.com/r/t3_7dx2ew</td>\n",
       "      <td>https://www.reddit.com/r/tech/comments/7dx2ew/...</td>\n",
       "      <td>[{'href': 'https://www.reddit.com/r/tech/comme...</td>\n",
       "      <td>&lt;!-- SC_OFF --&gt;&lt;div class=\"md\"&gt;&lt;p&gt;Hey guys!&lt;/p...</td>\n",
       "      <td>[{'term': 'tech', 'scheme': None, 'label': 'r/...</td>\n",
       "      <td>/r/Tech now has it's own Discord server!</td>\n",
       "      <td>{'type': 'text/plain', 'language': None, 'base...</td>\n",
       "      <td>2017-11-19T00:37:30+00:00</td>\n",
       "      <td>(2017, 11, 19, 0, 37, 30, 6, 323, 0)</td>\n",
       "    </tr>\n",
       "    <tr>\n",
       "      <th>1</th>\n",
       "      <td>/u/dfc76</td>\n",
       "      <td>{'name': '/u/dfc76', 'href': 'https://www.redd...</td>\n",
       "      <td>[{'name': '/u/dfc76', 'href': 'https://www.red...</td>\n",
       "      <td>[{'type': 'text/html', 'language': None, 'base...</td>\n",
       "      <td>True</td>\n",
       "      <td>https://www.reddit.com/user/dfc76</td>\n",
       "      <td>https://www.reddit.com/r/t3_cae8rb</td>\n",
       "      <td>https://www.reddit.com/r/tech/comments/cae8rb/...</td>\n",
       "      <td>[{'href': 'https://www.reddit.com/r/tech/comme...</td>\n",
       "      <td>&amp;#32; submitted by &amp;#32; &lt;a href=\"https://www....</td>\n",
       "      <td>[{'term': 'tech', 'scheme': None, 'label': 'r/...</td>\n",
       "      <td>FBI and ICE use DMV photos as 'gold mine' for ...</td>\n",
       "      <td>{'type': 'text/plain', 'language': None, 'base...</td>\n",
       "      <td>2019-07-08T00:38:26+00:00</td>\n",
       "      <td>(2019, 7, 8, 0, 38, 26, 0, 189, 0)</td>\n",
       "    </tr>\n",
       "    <tr>\n",
       "      <th>2</th>\n",
       "      <td>/u/sdblro</td>\n",
       "      <td>{'name': '/u/sdblro', 'href': 'https://www.red...</td>\n",
       "      <td>[{'name': '/u/sdblro', 'href': 'https://www.re...</td>\n",
       "      <td>[{'type': 'text/html', 'language': None, 'base...</td>\n",
       "      <td>True</td>\n",
       "      <td>https://www.reddit.com/user/sdblro</td>\n",
       "      <td>https://www.reddit.com/r/t3_ca5870</td>\n",
       "      <td>https://www.reddit.com/r/tech/comments/ca5870/...</td>\n",
       "      <td>[{'href': 'https://www.reddit.com/r/tech/comme...</td>\n",
       "      <td>&amp;#32; submitted by &amp;#32; &lt;a href=\"https://www....</td>\n",
       "      <td>[{'term': 'tech', 'scheme': None, 'label': 'r/...</td>\n",
       "      <td>Nintendo president: ‘we must keep up’ with clo...</td>\n",
       "      <td>{'type': 'text/plain', 'language': None, 'base...</td>\n",
       "      <td>2019-07-07T09:56:42+00:00</td>\n",
       "      <td>(2019, 7, 7, 9, 56, 42, 6, 188, 0)</td>\n",
       "    </tr>\n",
       "    <tr>\n",
       "      <th>3</th>\n",
       "      <td>/u/ourlifeintoronto</td>\n",
       "      <td>{'name': '/u/ourlifeintoronto', 'href': 'https...</td>\n",
       "      <td>[{'name': '/u/ourlifeintoronto', 'href': 'http...</td>\n",
       "      <td>[{'type': 'text/html', 'language': None, 'base...</td>\n",
       "      <td>True</td>\n",
       "      <td>https://www.reddit.com/user/ourlifeintoronto</td>\n",
       "      <td>https://www.reddit.com/r/t3_ca7r1f</td>\n",
       "      <td>https://www.reddit.com/r/tech/comments/ca7r1f/...</td>\n",
       "      <td>[{'href': 'https://www.reddit.com/r/tech/comme...</td>\n",
       "      <td>&amp;#32; submitted by &amp;#32; &lt;a href=\"https://www....</td>\n",
       "      <td>[{'term': 'tech', 'scheme': None, 'label': 'r/...</td>\n",
       "      <td>Volkswagen's electric ID R race car broke its ...</td>\n",
       "      <td>{'type': 'text/plain', 'language': None, 'base...</td>\n",
       "      <td>2019-07-07T15:02:41+00:00</td>\n",
       "      <td>(2019, 7, 7, 15, 2, 41, 6, 188, 0)</td>\n",
       "    </tr>\n",
       "    <tr>\n",
       "      <th>4</th>\n",
       "      <td>/u/tozameer</td>\n",
       "      <td>{'name': '/u/tozameer', 'href': 'https://www.r...</td>\n",
       "      <td>[{'name': '/u/tozameer', 'href': 'https://www....</td>\n",
       "      <td>[{'type': 'text/html', 'language': None, 'base...</td>\n",
       "      <td>True</td>\n",
       "      <td>https://www.reddit.com/user/tozameer</td>\n",
       "      <td>https://www.reddit.com/r/t3_ca7b38</td>\n",
       "      <td>https://www.reddit.com/r/tech/comments/ca7b38/...</td>\n",
       "      <td>[{'href': 'https://www.reddit.com/r/tech/comme...</td>\n",
       "      <td>&amp;#32; submitted by &amp;#32; &lt;a href=\"https://www....</td>\n",
       "      <td>[{'term': 'tech', 'scheme': None, 'label': 'r/...</td>\n",
       "      <td>Now you can check in on Bill Nye’s solar sail ...</td>\n",
       "      <td>{'type': 'text/plain', 'language': None, 'base...</td>\n",
       "      <td>2019-07-07T14:19:42+00:00</td>\n",
       "      <td>(2019, 7, 7, 14, 19, 42, 6, 188, 0)</td>\n",
       "    </tr>\n",
       "  </tbody>\n",
       "</table>\n",
       "</div>"
      ],
      "text/plain": [
       "                   author                                      author_detail  \\\n",
       "0  /u/OriginalHoneyBadger  {'name': '/u/OriginalHoneyBadger', 'href': 'ht...   \n",
       "1                /u/dfc76  {'name': '/u/dfc76', 'href': 'https://www.redd...   \n",
       "2               /u/sdblro  {'name': '/u/sdblro', 'href': 'https://www.red...   \n",
       "3     /u/ourlifeintoronto  {'name': '/u/ourlifeintoronto', 'href': 'https...   \n",
       "4             /u/tozameer  {'name': '/u/tozameer', 'href': 'https://www.r...   \n",
       "\n",
       "                                             authors  \\\n",
       "0  [{'name': '/u/OriginalHoneyBadger', 'href': 'h...   \n",
       "1  [{'name': '/u/dfc76', 'href': 'https://www.red...   \n",
       "2  [{'name': '/u/sdblro', 'href': 'https://www.re...   \n",
       "3  [{'name': '/u/ourlifeintoronto', 'href': 'http...   \n",
       "4  [{'name': '/u/tozameer', 'href': 'https://www....   \n",
       "\n",
       "                                             content  guidislink  \\\n",
       "0  [{'type': 'text/html', 'language': None, 'base...        True   \n",
       "1  [{'type': 'text/html', 'language': None, 'base...        True   \n",
       "2  [{'type': 'text/html', 'language': None, 'base...        True   \n",
       "3  [{'type': 'text/html', 'language': None, 'base...        True   \n",
       "4  [{'type': 'text/html', 'language': None, 'base...        True   \n",
       "\n",
       "                                              href  \\\n",
       "0  https://www.reddit.com/user/OriginalHoneyBadger   \n",
       "1                https://www.reddit.com/user/dfc76   \n",
       "2               https://www.reddit.com/user/sdblro   \n",
       "3     https://www.reddit.com/user/ourlifeintoronto   \n",
       "4             https://www.reddit.com/user/tozameer   \n",
       "\n",
       "                                   id  \\\n",
       "0  https://www.reddit.com/r/t3_7dx2ew   \n",
       "1  https://www.reddit.com/r/t3_cae8rb   \n",
       "2  https://www.reddit.com/r/t3_ca5870   \n",
       "3  https://www.reddit.com/r/t3_ca7r1f   \n",
       "4  https://www.reddit.com/r/t3_ca7b38   \n",
       "\n",
       "                                                link  \\\n",
       "0  https://www.reddit.com/r/tech/comments/7dx2ew/...   \n",
       "1  https://www.reddit.com/r/tech/comments/cae8rb/...   \n",
       "2  https://www.reddit.com/r/tech/comments/ca5870/...   \n",
       "3  https://www.reddit.com/r/tech/comments/ca7r1f/...   \n",
       "4  https://www.reddit.com/r/tech/comments/ca7b38/...   \n",
       "\n",
       "                                               links  \\\n",
       "0  [{'href': 'https://www.reddit.com/r/tech/comme...   \n",
       "1  [{'href': 'https://www.reddit.com/r/tech/comme...   \n",
       "2  [{'href': 'https://www.reddit.com/r/tech/comme...   \n",
       "3  [{'href': 'https://www.reddit.com/r/tech/comme...   \n",
       "4  [{'href': 'https://www.reddit.com/r/tech/comme...   \n",
       "\n",
       "                                             summary  \\\n",
       "0  <!-- SC_OFF --><div class=\"md\"><p>Hey guys!</p...   \n",
       "1  &#32; submitted by &#32; <a href=\"https://www....   \n",
       "2  &#32; submitted by &#32; <a href=\"https://www....   \n",
       "3  &#32; submitted by &#32; <a href=\"https://www....   \n",
       "4  &#32; submitted by &#32; <a href=\"https://www....   \n",
       "\n",
       "                                                tags  \\\n",
       "0  [{'term': 'tech', 'scheme': None, 'label': 'r/...   \n",
       "1  [{'term': 'tech', 'scheme': None, 'label': 'r/...   \n",
       "2  [{'term': 'tech', 'scheme': None, 'label': 'r/...   \n",
       "3  [{'term': 'tech', 'scheme': None, 'label': 'r/...   \n",
       "4  [{'term': 'tech', 'scheme': None, 'label': 'r/...   \n",
       "\n",
       "                                               title  \\\n",
       "0           /r/Tech now has it's own Discord server!   \n",
       "1  FBI and ICE use DMV photos as 'gold mine' for ...   \n",
       "2  Nintendo president: ‘we must keep up’ with clo...   \n",
       "3  Volkswagen's electric ID R race car broke its ...   \n",
       "4  Now you can check in on Bill Nye’s solar sail ...   \n",
       "\n",
       "                                        title_detail  \\\n",
       "0  {'type': 'text/plain', 'language': None, 'base...   \n",
       "1  {'type': 'text/plain', 'language': None, 'base...   \n",
       "2  {'type': 'text/plain', 'language': None, 'base...   \n",
       "3  {'type': 'text/plain', 'language': None, 'base...   \n",
       "4  {'type': 'text/plain', 'language': None, 'base...   \n",
       "\n",
       "                     updated                        updated_parsed  \n",
       "0  2017-11-19T00:37:30+00:00  (2017, 11, 19, 0, 37, 30, 6, 323, 0)  \n",
       "1  2019-07-08T00:38:26+00:00    (2019, 7, 8, 0, 38, 26, 0, 189, 0)  \n",
       "2  2019-07-07T09:56:42+00:00    (2019, 7, 7, 9, 56, 42, 6, 188, 0)  \n",
       "3  2019-07-07T15:02:41+00:00    (2019, 7, 7, 15, 2, 41, 6, 188, 0)  \n",
       "4  2019-07-07T14:19:42+00:00   (2019, 7, 7, 14, 19, 42, 6, 188, 0)  "
      ]
     },
     "execution_count": 11,
     "metadata": {},
     "output_type": "execute_result"
    }
   ],
   "source": [
    "import pandas as pd\n",
    "\n",
    "df = pd.DataFrame(reddit.entries)\n",
    "df.head()"
   ]
  },
  {
   "cell_type": "markdown",
   "metadata": {},
   "source": [
    "Now that we have the information in a data frame, we can use Pandas to perform a variety of aggregations and calculations. For example, suppose we wanted to know which author has posted the most entries. We could do that by aggregating by author, counting the number of entry titles, and then sorting the results in descending order."
   ]
  },
  {
   "cell_type": "code",
   "execution_count": 12,
   "metadata": {},
   "outputs": [
    {
     "data": {
      "text/html": [
       "<div>\n",
       "<style scoped>\n",
       "    .dataframe tbody tr th:only-of-type {\n",
       "        vertical-align: middle;\n",
       "    }\n",
       "\n",
       "    .dataframe tbody tr th {\n",
       "        vertical-align: top;\n",
       "    }\n",
       "\n",
       "    .dataframe thead th {\n",
       "        text-align: right;\n",
       "    }\n",
       "</style>\n",
       "<table border=\"1\" class=\"dataframe\">\n",
       "  <thead>\n",
       "    <tr style=\"text-align: right;\">\n",
       "      <th></th>\n",
       "      <th>author</th>\n",
       "      <th>entries</th>\n",
       "    </tr>\n",
       "  </thead>\n",
       "  <tbody>\n",
       "    <tr>\n",
       "      <th>10</th>\n",
       "      <td>/u/ourlifeintoronto</td>\n",
       "      <td>5</td>\n",
       "    </tr>\n",
       "    <tr>\n",
       "      <th>12</th>\n",
       "      <td>/u/tozameer</td>\n",
       "      <td>4</td>\n",
       "    </tr>\n",
       "    <tr>\n",
       "      <th>1</th>\n",
       "      <td>/u/JackFisherBooks</td>\n",
       "      <td>2</td>\n",
       "    </tr>\n",
       "    <tr>\n",
       "      <th>2</th>\n",
       "      <td>/u/Md-Sabbir-Howlader</td>\n",
       "      <td>2</td>\n",
       "    </tr>\n",
       "    <tr>\n",
       "      <th>6</th>\n",
       "      <td>/u/bhaktbhagwan</td>\n",
       "      <td>2</td>\n",
       "    </tr>\n",
       "    <tr>\n",
       "      <th>8</th>\n",
       "      <td>/u/cryptoz</td>\n",
       "      <td>2</td>\n",
       "    </tr>\n",
       "    <tr>\n",
       "      <th>0</th>\n",
       "      <td>/u/FirebaseLearner</td>\n",
       "      <td>1</td>\n",
       "    </tr>\n",
       "    <tr>\n",
       "      <th>3</th>\n",
       "      <td>/u/OriginalHoneyBadger</td>\n",
       "      <td>1</td>\n",
       "    </tr>\n",
       "    <tr>\n",
       "      <th>4</th>\n",
       "      <td>/u/RenatoZX</td>\n",
       "      <td>1</td>\n",
       "    </tr>\n",
       "    <tr>\n",
       "      <th>5</th>\n",
       "      <td>/u/adam-tech</td>\n",
       "      <td>1</td>\n",
       "    </tr>\n",
       "    <tr>\n",
       "      <th>7</th>\n",
       "      <td>/u/chrisk2000</td>\n",
       "      <td>1</td>\n",
       "    </tr>\n",
       "    <tr>\n",
       "      <th>9</th>\n",
       "      <td>/u/dfc76</td>\n",
       "      <td>1</td>\n",
       "    </tr>\n",
       "    <tr>\n",
       "      <th>11</th>\n",
       "      <td>/u/sdblro</td>\n",
       "      <td>1</td>\n",
       "    </tr>\n",
       "    <tr>\n",
       "      <th>13</th>\n",
       "      <td>/u/trueslicky</td>\n",
       "      <td>1</td>\n",
       "    </tr>\n",
       "    <tr>\n",
       "      <th>14</th>\n",
       "      <td>/u/zinc--</td>\n",
       "      <td>1</td>\n",
       "    </tr>\n",
       "  </tbody>\n",
       "</table>\n",
       "</div>"
      ],
      "text/plain": [
       "                    author  entries\n",
       "10     /u/ourlifeintoronto        5\n",
       "12             /u/tozameer        4\n",
       "1       /u/JackFisherBooks        2\n",
       "2    /u/Md-Sabbir-Howlader        2\n",
       "6          /u/bhaktbhagwan        2\n",
       "8               /u/cryptoz        2\n",
       "0       /u/FirebaseLearner        1\n",
       "3   /u/OriginalHoneyBadger        1\n",
       "4              /u/RenatoZX        1\n",
       "5             /u/adam-tech        1\n",
       "7            /u/chrisk2000        1\n",
       "9                 /u/dfc76        1\n",
       "11               /u/sdblro        1\n",
       "13           /u/trueslicky        1\n",
       "14               /u/zinc--        1"
      ]
     },
     "execution_count": 12,
     "metadata": {},
     "output_type": "execute_result"
    }
   ],
   "source": [
    "authors = df.groupby('author', as_index=False).agg({'title':'count'})\n",
    "authors.columns = ['author', 'entries']\n",
    "authors.sort_values('entries', ascending=False)"
   ]
  },
  {
   "cell_type": "markdown",
   "metadata": {},
   "source": [
    "Similarly, if we wanted to see which entries had the longest titles, we could create a new column called title_length that contains the number of characters in the title and then sort the data frame by that new column. "
   ]
  },
  {
   "cell_type": "code",
   "execution_count": 13,
   "metadata": {},
   "outputs": [
    {
     "data": {
      "text/html": [
       "<div>\n",
       "<style scoped>\n",
       "    .dataframe tbody tr th:only-of-type {\n",
       "        vertical-align: middle;\n",
       "    }\n",
       "\n",
       "    .dataframe tbody tr th {\n",
       "        vertical-align: top;\n",
       "    }\n",
       "\n",
       "    .dataframe thead th {\n",
       "        text-align: right;\n",
       "    }\n",
       "</style>\n",
       "<table border=\"1\" class=\"dataframe\">\n",
       "  <thead>\n",
       "    <tr style=\"text-align: right;\">\n",
       "      <th></th>\n",
       "      <th>title</th>\n",
       "      <th>author</th>\n",
       "      <th>title_length</th>\n",
       "    </tr>\n",
       "  </thead>\n",
       "  <tbody>\n",
       "    <tr>\n",
       "      <th>24</th>\n",
       "      <td>Google still keeps a list of everything you ev...</td>\n",
       "      <td>/u/Md-Sabbir-Howlader</td>\n",
       "      <td>104</td>\n",
       "    </tr>\n",
       "    <tr>\n",
       "      <th>20</th>\n",
       "      <td>Tesla shows off next-gen automated emergency b...</td>\n",
       "      <td>/u/cryptoz</td>\n",
       "      <td>90</td>\n",
       "    </tr>\n",
       "    <tr>\n",
       "      <th>8</th>\n",
       "      <td>Gmail Tracks Everything You Purchase and You C...</td>\n",
       "      <td>/u/bhaktbhagwan</td>\n",
       "      <td>88</td>\n",
       "    </tr>\n",
       "    <tr>\n",
       "      <th>15</th>\n",
       "      <td>7-Eleven Japan shut down its mobile payment ap...</td>\n",
       "      <td>/u/trueslicky</td>\n",
       "      <td>87</td>\n",
       "    </tr>\n",
       "    <tr>\n",
       "      <th>9</th>\n",
       "      <td>is bandwidth(regarding wifi) inversely proport...</td>\n",
       "      <td>/u/FirebaseLearner</td>\n",
       "      <td>86</td>\n",
       "    </tr>\n",
       "  </tbody>\n",
       "</table>\n",
       "</div>"
      ],
      "text/plain": [
       "                                                title                 author  \\\n",
       "24  Google still keeps a list of everything you ev...  /u/Md-Sabbir-Howlader   \n",
       "20  Tesla shows off next-gen automated emergency b...             /u/cryptoz   \n",
       "8   Gmail Tracks Everything You Purchase and You C...        /u/bhaktbhagwan   \n",
       "15  7-Eleven Japan shut down its mobile payment ap...          /u/trueslicky   \n",
       "9   is bandwidth(regarding wifi) inversely proport...     /u/FirebaseLearner   \n",
       "\n",
       "    title_length  \n",
       "24           104  \n",
       "20            90  \n",
       "8             88  \n",
       "15            87  \n",
       "9             86  "
      ]
     },
     "execution_count": 13,
     "metadata": {},
     "output_type": "execute_result"
    }
   ],
   "source": [
    "df['title_length'] = df['title'].apply(len)\n",
    "df[['title', 'author', 'title_length']].sort_values('title_length', ascending=False).head()"
   ]
  },
  {
   "cell_type": "markdown",
   "metadata": {},
   "source": [
    "These are just a couple of the things you can analyze about the entries using the information we were able to obtain."
   ]
  },
  {
   "cell_type": "code",
   "execution_count": null,
   "metadata": {},
   "outputs": [],
   "source": []
  }
 ],
 "metadata": {
  "kernelspec": {
   "display_name": "Python 3",
   "language": "python",
   "name": "python3"
  },
  "language_info": {
   "codemirror_mode": {
    "name": "ipython",
    "version": 3
   },
   "file_extension": ".py",
   "mimetype": "text/x-python",
   "name": "python",
   "nbconvert_exporter": "python",
   "pygments_lexer": "ipython3",
   "version": "3.7.2"
  }
 },
 "nbformat": 4,
 "nbformat_minor": 2
}
