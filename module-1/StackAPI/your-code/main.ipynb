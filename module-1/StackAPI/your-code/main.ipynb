{
 "cells": [
  {
   "cell_type": "markdown",
   "metadata": {},
   "source": [
    "# StackAPI\n",
    "\n",
    "#### Import the necessary libraries here:"
   ]
  },
  {
   "cell_type": "code",
   "execution_count": 57,
   "metadata": {},
   "outputs": [
    {
     "data": {
      "text/plain": [
       "\"\\nQuestion 1: Find the questions and answers of last month.\\nQuestion 2: Find the most voted question today with at least a score of 5 and tagged with 'python'.\\nQuestion 3: Find the answers with id 6784 and 6473\\n\""
      ]
     },
     "execution_count": 57,
     "metadata": {},
     "output_type": "execute_result"
    }
   ],
   "source": [
    "from stackapi import StackAPI\n",
    "import datetime\n",
    "import json\n",
    "import pandas as pd\n",
    "\n",
    "'''\n",
    "Question 1: Find the questions and answers of last month.\n",
    "Question 2: Find the most voted question today with at least a score of 5 and tagged with 'python'.\n",
    "Question 3: Find the answers with id 6784 and 6473\n",
    "'''"
   ]
  },
  {
   "cell_type": "code",
   "execution_count": 25,
   "metadata": {},
   "outputs": [],
   "source": [
    "x = datetime.datetime(2020, 5, 1)"
   ]
  },
  {
   "cell_type": "code",
   "execution_count": 73,
   "metadata": {},
   "outputs": [],
   "source": [
    "today = datetime.datetime(2020, 5, 18)"
   ]
  },
  {
   "cell_type": "markdown",
   "metadata": {},
   "source": [
    "#### Question 1: Find the questions and answers of last month."
   ]
  },
  {
   "cell_type": "code",
   "execution_count": 75,
   "metadata": {},
   "outputs": [],
   "source": [
    "SITE = StackAPI('stackoverflow')\n",
    "# questions = SITE.fetch('questions', fromdate=x)\n",
    "# answers = SITE.fetch('answers', fromdate=x)\n"
   ]
  },
  {
   "cell_type": "markdown",
   "metadata": {},
   "source": [
    "#### Question 2: Find the most voted question today with at least a score of 5 and tagged with 'python'. "
   ]
  },
  {
   "cell_type": "code",
   "execution_count": 76,
   "metadata": {},
   "outputs": [],
   "source": [
    "questions = SITE.fetch('questions', fromdate=today, tagged='python', sort='votes', min=5)"
   ]
  },
  {
   "cell_type": "code",
   "execution_count": 79,
   "metadata": {},
   "outputs": [
    {
     "data": {
      "text/plain": [
       "{'backoff': 0,\n",
       " 'has_more': False,\n",
       " 'page': 1,\n",
       " 'quota_max': 300,\n",
       " 'quota_remaining': 300,\n",
       " 'total': 0,\n",
       " 'items': [{'tags': ['python', 'string', 'string-comparison'],\n",
       "   'owner': {'reputation': 171,\n",
       "    'user_id': 13298060,\n",
       "    'user_type': 'registered',\n",
       "    'profile_image': 'https://www.gravatar.com/avatar/886067d6464843f453f713ad2ef92305?s=128&d=identicon&r=PG&f=1',\n",
       "    'display_name': 'vsc',\n",
       "    'link': 'https://stackoverflow.com/users/13298060/vsc'},\n",
       "   'is_answered': True,\n",
       "   'view_count': 257,\n",
       "   'answer_count': 3,\n",
       "   'score': 14,\n",
       "   'last_activity_date': 1589917041,\n",
       "   'creation_date': 1589770117,\n",
       "   'last_edit_date': 1589810601,\n",
       "   'question_id': 61861666,\n",
       "   'content_license': 'CC BY-SA 4.0',\n",
       "   'link': 'https://stackoverflow.com/questions/61861666/comparing-a-string-with-multiple-substrings-of-another-string',\n",
       "   'title': 'Comparing a string with multiple substrings of another string'},\n",
       "  {'tags': ['python', 'numpy', 'linear-algebra', 'eigenvalue', 'eigenvector'],\n",
       "   'owner': {'reputation': 71,\n",
       "    'user_id': 8121274,\n",
       "    'user_type': 'registered',\n",
       "    'profile_image': 'https://www.gravatar.com/avatar/6310fdcab6688699e8ea23514c2e6864?s=128&d=identicon&r=PG&f=1',\n",
       "    'display_name': 'hellvetica',\n",
       "    'link': 'https://stackoverflow.com/users/8121274/hellvetica'},\n",
       "   'is_answered': True,\n",
       "   'view_count': 42,\n",
       "   'accepted_answer_id': 61879093,\n",
       "   'answer_count': 1,\n",
       "   'score': 5,\n",
       "   'last_activity_date': 1589848670,\n",
       "   'creation_date': 1589832059,\n",
       "   'last_edit_date': 1589847298,\n",
       "   'question_id': 61878026,\n",
       "   'content_license': 'CC BY-SA 4.0',\n",
       "   'link': 'https://stackoverflow.com/questions/61878026/eigenvectors-are-complex-but-only-for-large-matrices',\n",
       "   'title': 'Eigenvectors are complex but only for large matrices'}]}"
      ]
     },
     "execution_count": 79,
     "metadata": {},
     "output_type": "execute_result"
    }
   ],
   "source": [
    "questions"
   ]
  },
  {
   "cell_type": "markdown",
   "metadata": {},
   "source": [
    "#### Question 3: Find the answers with id 6784 and 6473."
   ]
  },
  {
   "cell_type": "code",
   "execution_count": 81,
   "metadata": {},
   "outputs": [],
   "source": [
    "answers = SITE.fetch('answers/{ids}', ids=[6784, 6473])"
   ]
  },
  {
   "cell_type": "code",
   "execution_count": 82,
   "metadata": {},
   "outputs": [
    {
     "data": {
      "text/plain": [
       "{'backoff': 0,\n",
       " 'has_more': False,\n",
       " 'page': 1,\n",
       " 'quota_max': 300,\n",
       " 'quota_remaining': 300,\n",
       " 'total': 0,\n",
       " 'items': [{'owner': {'reputation': 28815,\n",
       "    'user_id': 758,\n",
       "    'user_type': 'registered',\n",
       "    'accept_rate': 77,\n",
       "    'profile_image': 'https://www.gravatar.com/avatar/0b4adc19284ed0751844d610555dc6b2?s=128&d=identicon&r=PG',\n",
       "    'display_name': 'Mark Renouf',\n",
       "    'link': 'https://stackoverflow.com/users/758/mark-renouf'},\n",
       "   'is_accepted': False,\n",
       "   'score': 0,\n",
       "   'last_activity_date': 1218291583,\n",
       "   'creation_date': 1218291583,\n",
       "   'answer_id': 6784,\n",
       "   'question_id': 6778,\n",
       "   'content_license': 'CC BY-SA 2.5'}]}"
      ]
     },
     "execution_count": 82,
     "metadata": {},
     "output_type": "execute_result"
    }
   ],
   "source": [
    "answers"
   ]
  },
  {
   "cell_type": "code",
   "execution_count": null,
   "metadata": {},
   "outputs": [],
   "source": []
  },
  {
   "cell_type": "code",
   "execution_count": null,
   "metadata": {},
   "outputs": [],
   "source": []
  }
 ],
 "metadata": {
  "kernelspec": {
   "display_name": "Python 3",
   "language": "python",
   "name": "python3"
  },
  "language_info": {
   "codemirror_mode": {
    "name": "ipython",
    "version": 3
   },
   "file_extension": ".py",
   "mimetype": "text/x-python",
   "name": "python",
   "nbconvert_exporter": "python",
   "pygments_lexer": "ipython3",
   "version": "3.7.3"
  }
 },
 "nbformat": 4,
 "nbformat_minor": 2
}
