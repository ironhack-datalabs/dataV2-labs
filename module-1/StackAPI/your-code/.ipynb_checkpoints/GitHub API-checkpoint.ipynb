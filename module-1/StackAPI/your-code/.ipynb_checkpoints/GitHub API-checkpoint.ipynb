{
 "cells": [
  {
   "cell_type": "code",
   "execution_count": null,
   "id": "aging-short",
   "metadata": {},
   "outputs": [],
   "source": []
  },
  {
   "cell_type": "code",
   "execution_count": 7,
   "id": "residential-newman",
   "metadata": {},
   "outputs": [],
   "source": [
    "f = open('../../../../githubToken')\n",
    "github_token = f.read().strip('\\n')\n",
    "f.close()"
   ]
  },
  {
   "cell_type": "code",
   "execution_count": 8,
   "id": "engaging-subcommittee",
   "metadata": {},
   "outputs": [
    {
     "data": {
      "text/plain": [
       "{'login': 'screamzz',\n",
       " 'id': 13555310,\n",
       " 'node_id': 'MDQ6VXNlcjEzNTU1MzEw',\n",
       " 'avatar_url': 'https://avatars.githubusercontent.com/u/13555310?v=4',\n",
       " 'gravatar_id': '',\n",
       " 'url': 'https://api.github.com/users/screamzz',\n",
       " 'html_url': 'https://github.com/screamzz',\n",
       " 'followers_url': 'https://api.github.com/users/screamzz/followers',\n",
       " 'following_url': 'https://api.github.com/users/screamzz/following{/other_user}',\n",
       " 'gists_url': 'https://api.github.com/users/screamzz/gists{/gist_id}',\n",
       " 'starred_url': 'https://api.github.com/users/screamzz/starred{/owner}{/repo}',\n",
       " 'subscriptions_url': 'https://api.github.com/users/screamzz/subscriptions',\n",
       " 'organizations_url': 'https://api.github.com/users/screamzz/orgs',\n",
       " 'repos_url': 'https://api.github.com/users/screamzz/repos',\n",
       " 'events_url': 'https://api.github.com/users/screamzz/events{/privacy}',\n",
       " 'received_events_url': 'https://api.github.com/users/screamzz/received_events',\n",
       " 'type': 'User',\n",
       " 'site_admin': False,\n",
       " 'name': 'Mathieu GUARINO',\n",
       " 'company': None,\n",
       " 'blog': '',\n",
       " 'location': None,\n",
       " 'email': None,\n",
       " 'hireable': None,\n",
       " 'bio': None,\n",
       " 'twitter_username': None,\n",
       " 'public_repos': 11,\n",
       " 'public_gists': 0,\n",
       " 'followers': 2,\n",
       " 'following': 2,\n",
       " 'created_at': '2015-07-29T12:25:30Z',\n",
       " 'updated_at': '2021-03-27T11:05:59Z',\n",
       " 'private_gists': 0,\n",
       " 'total_private_repos': 4,\n",
       " 'owned_private_repos': 4,\n",
       " 'disk_usage': 15398,\n",
       " 'collaborators': 2,\n",
       " 'two_factor_authentication': False,\n",
       " 'plan': {'name': 'free',\n",
       "  'space': 976562499,\n",
       "  'collaborators': 0,\n",
       "  'private_repos': 10000}}"
      ]
     },
     "execution_count": 8,
     "metadata": {},
     "output_type": "execute_result"
    }
   ],
   "source": [
    "import json\n",
    "\n",
    "import requests\n",
    "\n",
    " \n",
    "\n",
    "response = requests.get('https://api.github.com/user', \n",
    "                       headers={'Accept': 'application/vnd.github.v3+json', \n",
    "                                'Authorization': f'token {github_token}'})\n",
    "\n",
    "results = response.json()\n",
    "\n",
    "results"
   ]
  },
  {
   "cell_type": "code",
   "execution_count": null,
   "id": "answering-three",
   "metadata": {},
   "outputs": [],
   "source": []
  }
 ],
 "metadata": {
  "kernelspec": {
   "display_name": "Python 3",
   "language": "python",
   "name": "python3"
  },
  "language_info": {
   "codemirror_mode": {
    "name": "ipython",
    "version": 3
   },
   "file_extension": ".py",
   "mimetype": "text/x-python",
   "name": "python",
   "nbconvert_exporter": "python",
   "pygments_lexer": "ipython3",
   "version": "3.8.5"
  }
 },
 "nbformat": 4,
 "nbformat_minor": 5
}
