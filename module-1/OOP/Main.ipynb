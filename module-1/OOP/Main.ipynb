{
 "cells": [
  {
   "cell_type": "markdown",
   "id": "worldwide-spell",
   "metadata": {},
   "source": [
    "l = List()\n",
    "\n",
    "integer_list =  [1, 1, 2 ,3 ,1 ,2 ,3 ,4]\n",
    "values_list = [1, 3]\n",
    "l.remove_(integer_list, values_list) == [2, 2, 4]\n",
    "\n",
    "integer_list = [1, 1, 2 ,3 ,1 ,2 ,3 ,4, 4, 3 ,5, 6, 7, 2, 8]\n",
    "lst = [1, 3, 4, 2]\n",
    "l.remove_(integer_list, values_list) == [5, 6 ,7 ,8]\n",
    "\n",
    "integer_list = [8, 2, 7, 2, 3, 4, 6, 5, 4, 4, 1, 2 , 3]\n",
    "lst = [2, 4, 3]\n",
    "l.remove_(integer_list, values_list) == [8, 7, 6, 5, 1]"
   ]
  },
  {
   "cell_type": "code",
   "execution_count": 40,
   "id": "cross-concord",
   "metadata": {},
   "outputs": [],
   "source": [
    "integer_list =  [1, 1, 2 ,3 ,1 ,2 ,3 ,4, 4, 3 ,5, 6, 7, 2, 8]\n",
    "values_list = [1, 3, 4, 2]\n",
    "#l = List()"
   ]
  },
  {
   "cell_type": "code",
   "execution_count": 92,
   "id": "mental-dealer",
   "metadata": {},
   "outputs": [],
   "source": [
    "class List(list):\n",
    "    def remove_(self, integer_list, values_list):\n",
    "        return [element for element in integer_list if not element in values_list]\n",
    "l = List()"
   ]
  },
  {
   "cell_type": "code",
   "execution_count": 93,
   "id": "naughty-profile",
   "metadata": {},
   "outputs": [
    {
     "data": {
      "text/plain": [
       "[5, 6, 7, 8]"
      ]
     },
     "execution_count": 93,
     "metadata": {},
     "output_type": "execute_result"
    }
   ],
   "source": [
    "l.remove_(integer_list, values_list)"
   ]
  },
  {
   "cell_type": "markdown",
   "id": "ignored-briefs",
   "metadata": {},
   "source": [
    "We need a method in the List Class that may count specific digits from a given list of integers. This marked digits will be given in a second list. The method .count_spec_digits()/.countSpecDigits() will accept two arguments, a list of an uncertain amount of integers integers_lists/integersLists (and of an uncertain amount of digits, too) and a second list, digits_list/digitsList that has the specific digits to count which length cannot be be longer than 10 (It's obvious, we've got ten digits). The method will output a list of tuples, each tuple having two elements, the first one will be a digit to count, and second one, its corresponding total frequency in all the integers of the first list. This list of tuples should be ordered with the same order that the digits have in digitsList\n",
    "\n",
    "Let's see some cases:\n",
    "\n",
    "l = List()\n",
    "\n",
    "integers_list =  [1, 1, 2 ,3 ,1 ,2 ,3 ,4]\n",
    "digits_list = [1, 3]\n",
    "l.count_spec_digits(integers_list, digits_list) == [(1, 3), (3, 2)]\n",
    "\n",
    "integers_list = [-18, -31, 81, -19, 111, -888]\n",
    "digits_list = [1, 8, 4]\n",
    "l.count_spec_digits(integers_list, digits_list) == [(1, 7), (8, 5), (4, 0)]\n",
    "\n",
    "integers_list = [-77, -65, 56, -79, 6666, 222]\n",
    "digits_list = [1, 8, 4]\n",
    "l.count_spec_digits(integers_list, digits_list) == [(1, 0), (8, 0), (4, 0)]\n"
   ]
  },
  {
   "cell_type": "code",
   "execution_count": 61,
   "id": "assumed-attribute",
   "metadata": {},
   "outputs": [],
   "source": [
    "class List(list):\n",
    "    def count_spec_digits(self, integers_list, digits_list):\n",
    "        stringified_list = ''.join([str(myint) for myint in integers_list])\n",
    "        count_list = [(element, stringified_list.count(str(element))) for element in digits_list]\n",
    "        return count_list\n",
    "l = List()"
   ]
  },
  {
   "cell_type": "code",
   "execution_count": 64,
   "id": "eight-baltimore",
   "metadata": {},
   "outputs": [
    {
     "data": {
      "text/plain": [
       "[(1, 7), (8, 5), (4, 0)]"
      ]
     },
     "execution_count": 64,
     "metadata": {},
     "output_type": "execute_result"
    }
   ],
   "source": [
    "l.count_spec_digits([-18, -31, 81, -19, 111, -888],[1, 8, 4])"
   ]
  },
  {
   "cell_type": "markdown",
   "id": "peaceful-tattoo",
   "metadata": {},
   "source": [
    "Count the number of occurrences of each character and return it as a list of tuples in order of appearance. For empty output return an empty list.\n",
    "\n",
    "Example:\n",
    "\n",
    "ordered_count(\"abracadabra\") == [('a', 5), ('b', 2), ('r', 2), ('c', 1), ('d', 1)]\n"
   ]
  },
  {
   "cell_type": "code",
   "execution_count": 97,
   "id": "configured-converter",
   "metadata": {},
   "outputs": [],
   "source": [
    "class List(list):\n",
    "       \n",
    "    def remove_(self, integer_list, values_list):\n",
    "        for element in values_list:\n",
    "            integer_list = list(filter(lambda x: x != element, integer_list))\n",
    "        return integer_list\n",
    "    \n",
    "    def count_spec_digits(self, integers_list, digits_list):\n",
    "        stringified_list = ''.join([str(myint) for myint in integers_list])\n",
    "        count_list = [(element, stringified_list.count(str(element))) for element in digits_list]\n",
    "        return count_list\n",
    "    \n",
    "    def ordered_count(self, string):\n",
    "        count_list = []\n",
    "        ban_list = set()\n",
    "        char_list = set(string)\n",
    "        for char in string:\n",
    "            if not char in ban_list:\n",
    "                count_list.append((char,(string.count(char))))\n",
    "                ban_list.update(char)\n",
    "            if len(ban_list) == len(char_list):\n",
    "                break\n",
    "        return count_list\n",
    "    \n",
    "\n",
    "            \n",
    "l = List()"
   ]
  },
  {
   "cell_type": "code",
   "execution_count": 98,
   "id": "junior-rally",
   "metadata": {},
   "outputs": [
    {
     "data": {
      "text/plain": [
       "[('a', 5), ('b', 2), ('r', 2), ('c', 1), ('d', 1)]"
      ]
     },
     "execution_count": 98,
     "metadata": {},
     "output_type": "execute_result"
    }
   ],
   "source": [
    "l.ordered_count(\"abracadabra\")"
   ]
  },
  {
   "cell_type": "code",
   "execution_count": null,
   "id": "adolescent-value",
   "metadata": {},
   "outputs": [],
   "source": []
  },
  {
   "cell_type": "code",
   "execution_count": null,
   "id": "strong-wisconsin",
   "metadata": {},
   "outputs": [],
   "source": []
  }
 ],
 "metadata": {
  "kernelspec": {
   "display_name": "Python 3",
   "language": "python",
   "name": "python3"
  },
  "language_info": {
   "codemirror_mode": {
    "name": "ipython",
    "version": 3
   },
   "file_extension": ".py",
   "mimetype": "text/x-python",
   "name": "python",
   "nbconvert_exporter": "python",
   "pygments_lexer": "ipython3",
   "version": "3.8.5"
  }
 },
 "nbformat": 4,
 "nbformat_minor": 5
}
