{
 "cells": [
  {
   "cell_type": "markdown",
   "metadata": {},
   "source": [
    "# Define a method/function that removes from a given array of integers all the values contained in a second array"
   ]
  },
  {
   "cell_type": "code",
   "execution_count": 15,
   "metadata": {},
   "outputs": [],
   "source": [
    "class List:\n",
    "\n",
    "    def __init__(self, integer_list, values_list):\n",
    "        self.integer_list = integer_list\n",
    "        self.values_list = values_list\n",
    "    \n",
    "    def remove_(self):\n",
    "        new_list = [x for x in self.integer_list if x not in self.values_list]\n",
    "        return new_list"
   ]
  },
  {
   "cell_type": "code",
   "execution_count": 16,
   "metadata": {},
   "outputs": [
    {
     "data": {
      "text/plain": [
       "[2, 2, 4]"
      ]
     },
     "execution_count": 16,
     "metadata": {},
     "output_type": "execute_result"
    }
   ],
   "source": [
    "integer_list =  [1, 1, 2 ,3 ,1 ,2 ,3 ,4]\n",
    "values_list = [1, 3]\n",
    "\n",
    "l = List(integer_list, values_list)\n",
    "\n",
    "l.remove_()"
   ]
  },
  {
   "cell_type": "code",
   "execution_count": 17,
   "metadata": {},
   "outputs": [
    {
     "data": {
      "text/plain": [
       "[5, 6, 7, 8]"
      ]
     },
     "execution_count": 17,
     "metadata": {},
     "output_type": "execute_result"
    }
   ],
   "source": [
    "integer_list = [1, 1, 2 ,3 ,1 ,2 ,3 ,4, 4, 3 ,5, 6, 7, 2, 8]\n",
    "lst = [1, 3, 4, 2]\n",
    "\n",
    "l = List(integer_list, lst)\n",
    "\n",
    "l.remove_()"
   ]
  },
  {
   "cell_type": "code",
   "execution_count": 19,
   "metadata": {},
   "outputs": [
    {
     "data": {
      "text/plain": [
       "[8, 7, 6, 5, 1]"
      ]
     },
     "execution_count": 19,
     "metadata": {},
     "output_type": "execute_result"
    }
   ],
   "source": [
    "integer_list = [8, 2, 7, 2, 3, 4, 6, 5, 4, 4, 1, 2 , 3]\n",
    "lst = [2, 4, 3]\n",
    "\n",
    "l = List(integer_list, lst)\n",
    "\n",
    "l.remove_()"
   ]
  },
  {
   "cell_type": "markdown",
   "metadata": {},
   "source": [
    "# Method For Counting Total Occurence Of Specific Digits"
   ]
  },
  {
   "cell_type": "code",
   "execution_count": 81,
   "metadata": {},
   "outputs": [],
   "source": [
    "class List_Count:\n",
    "\n",
    "    def __init__(self, integers_list, digits_list):\n",
    "        self.integers_list = integers_list\n",
    "        self.digits_list = digits_list\n",
    "    \n",
    "    def count_spec_digits(self):\n",
    "        new_list = [list(str(i)) for i in self.integers_list]\n",
    "        char_list = [char for x in new_list for char in x]\n",
    "        frequency = []\n",
    "        \n",
    "        for i in self.digits_list:\n",
    "            freq = char_list.count(str(i))\n",
    "            frequency.append(freq)\n",
    "        result = tuple(zip(digits_list,frequency))\n",
    "        \n",
    "        return result"
   ]
  },
  {
   "cell_type": "code",
   "execution_count": 83,
   "metadata": {},
   "outputs": [
    {
     "data": {
      "text/plain": [
       "((1, 3), (3, 2))"
      ]
     },
     "execution_count": 83,
     "metadata": {},
     "output_type": "execute_result"
    }
   ],
   "source": [
    "l = List_Count(integers_list, digits_list)\n",
    "\n",
    "integers_list =  [1, 1, 2 ,3 ,1 ,2 ,3 ,4]\n",
    "digits_list = [1, 3]\n",
    "\n",
    "l.count_spec_digits()"
   ]
  },
  {
   "cell_type": "code",
   "execution_count": 85,
   "metadata": {},
   "outputs": [
    {
     "data": {
      "text/plain": [
       "((1, 7), (8, 5), (4, 0))"
      ]
     },
     "execution_count": 85,
     "metadata": {},
     "output_type": "execute_result"
    }
   ],
   "source": [
    "l = List_Count(integers_list, digits_list)\n",
    "\n",
    "integers_list = [-18, -31, 81, -19, 111, -888]\n",
    "digits_list = [1, 8, 4]\n",
    "\n",
    "l.count_spec_digits()"
   ]
  },
  {
   "cell_type": "code",
   "execution_count": 88,
   "metadata": {},
   "outputs": [
    {
     "data": {
      "text/plain": [
       "((1, 0), (8, 0), (4, 0))"
      ]
     },
     "execution_count": 88,
     "metadata": {},
     "output_type": "execute_result"
    }
   ],
   "source": [
    "l = List_Count(integers_list, digits_list)\n",
    "\n",
    "integers_list = [-77, -65, 56, -79, 6666, 222]\n",
    "digits_list = [1, 8, 4]\n",
    "\n",
    "l.count_spec_digits()"
   ]
  },
  {
   "cell_type": "markdown",
   "metadata": {},
   "source": [
    "# Ordered Count of Characters"
   ]
  },
  {
   "cell_type": "code",
   "execution_count": 111,
   "metadata": {},
   "outputs": [],
   "source": [
    "import numpy as np\n",
    "\n",
    "class List_Count_Char:\n",
    "\n",
    "    def __init__(self, word):\n",
    "        self.word = word\n",
    "        \n",
    "    def ordered_count(self):\n",
    "        list_char = list(self.word)\n",
    "        unique_list_char = []\n",
    "        [unique_list_char.append(x) for x in list_char if x not in unique_list_char]\n",
    "        \n",
    "        frequency = []\n",
    "        \n",
    "        for i in unique_list_char:\n",
    "            freq = list_char.count(i)\n",
    "            frequency.append(freq)\n",
    "        result = tuple(zip(unique_list_char,frequency))\n",
    "        \n",
    "        return result"
   ]
  },
  {
   "cell_type": "code",
   "execution_count": 112,
   "metadata": {},
   "outputs": [
    {
     "data": {
      "text/plain": [
       "(('a', 5), ('b', 2), ('r', 2), ('c', 1), ('d', 1))"
      ]
     },
     "execution_count": 112,
     "metadata": {},
     "output_type": "execute_result"
    }
   ],
   "source": [
    "l = List_Count_Char(word)\n",
    "word = \"abracadabra\"\n",
    "\n",
    "l.ordered_count()"
   ]
  }
 ],
 "metadata": {
  "kernelspec": {
   "display_name": "Python 3",
   "language": "python",
   "name": "python3"
  },
  "language_info": {
   "codemirror_mode": {
    "name": "ipython",
    "version": 3
   },
   "file_extension": ".py",
   "mimetype": "text/x-python",
   "name": "python",
   "nbconvert_exporter": "python",
   "pygments_lexer": "ipython3",
   "version": "3.7.4"
  }
 },
 "nbformat": 4,
 "nbformat_minor": 2
}
