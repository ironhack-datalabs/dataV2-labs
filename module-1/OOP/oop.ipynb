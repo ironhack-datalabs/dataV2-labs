{
 "cells": [
  {
   "cell_type": "code",
   "execution_count": 93,
   "metadata": {},
   "outputs": [],
   "source": [
    "class List:\n",
    "    def remove_(self, integer_list, values_list):\n",
    "        self.integer_list = integer_list\n",
    "        self.values_list = values_list\n",
    "        buffer = []\n",
    "        for i in integer_list:\n",
    "            if i not in values_list:\n",
    "                buffer.append(i)\n",
    "              \n",
    "        \n",
    "        return buffer"
   ]
  },
  {
   "cell_type": "code",
   "execution_count": 94,
   "metadata": {},
   "outputs": [],
   "source": [
    "class List(object):\n",
    "    def count_spec_digits(self, integers_list, digits_list):\n",
    "\n",
    "\n",
    "        buffer = []\n",
    "        dlist = []\n",
    "        for i in integers_list:\n",
    "            digits = [int(x) for x in str(abs(i))]\n",
    "            dlist.extend(digits)\n",
    "        for num in digits_list:\n",
    "    \n",
    "            buffer.append((num, dlist.count(num)))\n",
    "            \n",
    "        return buffer"
   ]
  },
  {
   "cell_type": "code",
   "execution_count": 95,
   "metadata": {},
   "outputs": [],
   "source": [
    "def ordered_count(text):\n",
    "    buffer = []\n",
    "    b1 = []\n",
    "    for t in text:\n",
    "        if t not in b1:\n",
    "            b1.append(t)\n",
    "            buffer.append((t, text.count(t)))\n",
    "    return buffer"
   ]
  },
  {
   "cell_type": "code",
   "execution_count": null,
   "metadata": {},
   "outputs": [],
   "source": []
  }
 ],
 "metadata": {
  "kernelspec": {
   "display_name": "Python 3",
   "language": "python",
   "name": "python3"
  },
  "language_info": {
   "codemirror_mode": {
    "name": "ipython",
    "version": 3
   },
   "file_extension": ".py",
   "mimetype": "text/x-python",
   "name": "python",
   "nbconvert_exporter": "python",
   "pygments_lexer": "ipython3",
   "version": "3.7.3"
  }
 },
 "nbformat": 4,
 "nbformat_minor": 2
}
