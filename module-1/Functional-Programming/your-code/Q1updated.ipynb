{
 "cells": [
  {
   "cell_type": "markdown",
   "metadata": {},
   "source": [
    "In the cell below, create a Python function that creates a Bag of Words.\n",
    "\n",
    "Requirements:\n",
    "\n",
    "1. Your function should accept the following parameters:\n",
    "    * `corpus` [REQUIRED] - list of strings.\n",
    "    * `stop_words` [OPTIONAL] - array of stop words. The default value is an empty array.\n",
    "\n",
    "1. Your function should return a Python object that contains the following:\n",
    "    * `bag_of_words` - array of strings of normalized unique words in the corpus.\n",
    "    * `term_freq` - array of the term-frequency vectors."
   ]
  },
  {
   "cell_type": "code",
   "execution_count": 55,
   "metadata": {
    "collapsed": false
   },
   "outputs": [],
   "source": [
    "# Import required libraries\n",
    "import string\n",
    "\n",
    "# Define function\n",
    "def get_bow_from_docs(corpus, stop_words=[]):\n",
    "    \n",
    "    # In the function, first define the variables you will use such as `corpus`, `bag_of_words`, and `term_freq`.\n",
    "    bag_of_words = []\n",
    "    term_freq = [] \n",
    "    clean_corpus = []\n",
    "    \n",
    "    \"\"\"\n",
    "    Convert corpus to lowercases and remove punctuation.\n",
    "    \"\"\"\n",
    "\n",
    "    for sentence in corpus:\n",
    "        sentence = sentence.lower().replace('.','').replace('!','')\n",
    "        clean_corpus.append(sentence)\n",
    "\n",
    "    #print(clean_corpus)\n",
    "\n",
    "    \n",
    "    \"\"\"\n",
    "    Loop `corpus`. Append the individual words in each doc into the `bag_of_words` array. The terms in `bag_of_words` \n",
    "    should be unique which means before adding each term you need to check if it's already added to the array.\n",
    "    In addition, check if each term is in the `stop_words` array. Only append the term to `bag_of_words`\n",
    "    if it is not a stop word.\n",
    "    \"\"\"\n",
    "        \n",
    "    for sentence in clean_corpus:\n",
    "        sentence_words = sentence.split(' ')\n",
    "        for word in sentence_words:\n",
    "            if word in stop_words:\n",
    "                continue\n",
    "            if word in bag_of_words:\n",
    "                continue\n",
    "            else:\n",
    "                bag_of_words.append(word) \n",
    "\n",
    "    \"\"\"\n",
    "    Loop `corpus` again. For each doc string, count the number of occurrences of each term in `bag_of_words`. \n",
    "    Create an array for each doc's term frequency and append it to `term_freq`.\n",
    "    \"\"\"\n",
    "    \n",
    "    for sentence in clean_corpus:\n",
    "        sentence_words = sentence.split (' ')\n",
    "        sentence_term_freq = []\n",
    "        for word in bag_of_words:\n",
    "            if word in sentence_words:\n",
    "                sentence_term_freq.append(1)\n",
    "            else:\n",
    "                sentence_term_freq.append(0)\n",
    "        term_freq.append (sentence_term_freq)\n",
    "    \n",
    "    \n",
    "    # Now return your output as an object\n",
    "    return {\n",
    "        \"bag_of_words\": bag_of_words,\n",
    "        \"term_freq\": term_freq\n",
    "    }\n",
    "    "
   ]
  },
  {
   "cell_type": "markdown",
   "metadata": {},
   "source": [
    "Test your function without stop words. You should see the output like below:\n",
    "\n",
    "```{'bag_of_words': ['ironhack', 'is', 'cool', 'i', 'love', 'am', 'a', 'student', 'at'], 'term_freq': [[1, 1, 1, 0, 0, 0, 0, 0, 0], [1, 0, 0, 1, 1, 0, 0, 0, 0], [1, 0, 0, 1, 0, 1, 1, 1, 1]]}```"
   ]
  },
  {
   "cell_type": "code",
   "execution_count": 46,
   "metadata": {
    "collapsed": false
   },
   "outputs": [
    {
     "name": "stdout",
     "output_type": "stream",
     "text": [
      "{'bag_of_words': ['ironhack', 'is', 'cool', 'i', 'love', 'am', 'a', 'student', 'at'], 'term_freq': [[1, 1, 1, 0, 0, 0, 0, 0, 0], [1, 0, 0, 1, 1, 0, 0, 0, 0], [1, 0, 0, 1, 0, 1, 1, 1, 1]]}\n"
     ]
    }
   ],
   "source": [
    "# Define the corpus list\n",
    "a_corpus = ['Ironhack is Cool!', 'I love Ironhack', 'I am a student at Ironhack.']\n",
    "\n",
    "# Obtain BoW from your function\n",
    "bow = get_bow_from_docs(a_corpus)\n",
    "\n",
    "# Print BoW\n",
    "print(bow)"
   ]
  },
  {
   "cell_type": "markdown",
   "metadata": {},
   "source": [
    "If your attempt above is successful, nice work done!\n",
    "\n",
    "Now test your function again with the stop words. In the previous lab we defined the stop words in a large array. In this lab, we'll import the stop words from Scikit-Learn."
   ]
  },
  {
   "cell_type": "code",
   "execution_count": 53,
   "metadata": {
    "collapsed": false
   },
   "outputs": [
    {
     "name": "stdout",
     "output_type": "stream",
     "text": [
      "frozenset({'for', 'off', 'whence', 'a', 'within', 'your', 'could', 'thereafter', 'put', 'now', 'thick', 'behind', 'meanwhile', 'otherwise', 'those', 'became', 'how', 'except', 'last', 'itself', 'keep', 'of', 'rather', 'yourselves', 'across', 'done', 'nothing', 'somewhere', 'upon', 'sometime', 'hereupon', 'ie', 'is', 'her', 'per', 'take', 'hereby', 'hundred', 'than', 'between', 'fire', 'mine', 'one', 'whereby', 'nowhere', 'thru', 'when', 'are', 'forty', 'every', 'herself', 'him', 'it', 'am', 'an', 'becoming', 'five', 'most', 'perhaps', 'so', 'such', 'about', 'front', 'they', 'where', 'being', 'thereupon', 'whatever', 'noone', 'onto', 'that', 'should', 'empty', 'their', 'via', 'may', 'ten', 'become', 'without', 'what', 'anywhere', 'often', 'seem', 'some', 'whole', 'indeed', 'nevertheless', 'already', 'too', 'which', 'many', 'be', 'formerly', 'each', 'latterly', 'since', 'anything', 'also', 'latter', 'even', 'hasnt', 'mostly', 'no', 'these', 'everywhere', 'hereafter', 'then', 'therefore', 'though', 'found', 'we', 'well', 'namely', 'whereafter', 'hence', 'myself', 'inc', 'anyone', 'but', 'up', 'see', 'show', 'because', 'amoungst', 'before', 'if', 'sometimes', 'wherever', 'twenty', 'whither', 'at', 'neither', 'someone', 'throughout', 'nobody', 'move', 'his', 'seems', 'all', 'other', 'few', 'seeming', 'she', 'with', 'beyond', 'twelve', 'above', 'cant', 'on', 'besides', 'moreover', 'own', 'any', 'ltd', 'whether', 'both', 'next', 'part', 'would', 'else', 'its', 'nine', 'down', 'although', 'afterwards', 'mill', 'toward', 'please', 'this', 'wherein', 'ever', 'together', 'can', 'fifteen', 'name', 'there', 'two', 'interest', 'side', 'very', 'co', 'either', 'while', 'alone', 'have', 'call', 'four', 'has', 'almost', 'i', 'me', 'my', 'six', 'thereby', 'third', 'somehow', 'former', 'others', 'another', 'whereas', 'describe', 'etc', 'been', 'whenever', 'eg', 'herein', 'therein', 'de', 're', 'after', 'had', 'least', 'eleven', 'nor', 'once', 'thence', 'through', 'same', 'hers', 'our', 'however', 'into', 'anyway', 'bill', 'was', 'were', 'top', 'go', 'as', 'towards', 'beside', 'first', 'here', 'more', 'among', 'in', 'always', 'under', 'fill', 'system', 'us', 'must', 'ours', 'might', 'you', 'eight', 'over', 'along', 'cannot', 'elsewhere', 'enough', 'why', 'anyhow', 'still', 'whom', 'fify', 'until', 'amount', 'un', 'who', 'ourselves', 'sincere', 'he', 'none', 'yours', 'out', 'get', 'becomes', 'detail', 'never', 'whose', 'further', 'from', 'three', 'find', 'whereupon', 'bottom', 'sixty', 'and', 'will', 'thin', 'couldnt', 'everyone', 'do', 'during', 'made', 'much', 'only', 'several', 'them', 'against', 'yourself', 'give', 'something', 'thus', 'again', 'himself', 'to', 'seemed', 'or', 'yet', 'not', 'due', 'themselves', 'full', 'amongst', 'below', 'everything', 'serious', 'back', 'beforehand', 'whoever', 'con', 'the', 'less', 'by', 'around', 'cry'})\n"
     ]
    }
   ],
   "source": [
    "from sklearn.feature_extraction import stop_words\n",
    "print(stop_words.ENGLISH_STOP_WORDS)"
   ]
  },
  {
   "cell_type": "markdown",
   "metadata": {},
   "source": [
    "You should have seen a large list of words that looks like:\n",
    "\n",
    "```frozenset({'across', 'mine', 'cannot', ...})```\n",
    "\n",
    "`frozenset` is a type of Python object that is immutable. In this lab you can use it just like an array (list) without conversion."
   ]
  },
  {
   "cell_type": "markdown",
   "metadata": {},
   "source": [
    "Next, test your function with supplying `stop_words.ENGLISH_STOP_WORDS` as the second parameter."
   ]
  },
  {
   "cell_type": "code",
   "execution_count": 56,
   "metadata": {
    "collapsed": false
   },
   "outputs": [
    {
     "name": "stdout",
     "output_type": "stream",
     "text": [
      "{'bag_of_words': ['ironhack', 'cool', 'love', 'student'], 'term_freq': [[1, 1, 0, 0], [1, 0, 1, 0], [1, 0, 0, 1]]}\n"
     ]
    }
   ],
   "source": [
    "bow = get_bow_from_docs(a_corpus, stop_words.ENGLISH_STOP_WORDS)\n",
    "\n",
    "print(bow)"
   ]
  },
  {
   "cell_type": "markdown",
   "metadata": {},
   "source": [
    "You should have seen:\n",
    "\n",
    "```{'bag_of_words': ['ironhack', 'cool', 'love', 'student'], 'term_freq': [[1, 1, 0, 0], [1, 0, 1, 0], [1, 0, 0, 1]]}```"
   ]
  },
  {
   "cell_type": "code",
   "execution_count": null,
   "metadata": {
    "collapsed": true
   },
   "outputs": [],
   "source": []
  }
 ],
 "metadata": {
  "kernelspec": {
   "display_name": "Python 3",
   "language": "python",
   "name": "python3"
  },
  "language_info": {
   "codemirror_mode": {
    "name": "ipython",
    "version": 3
   },
   "file_extension": ".py",
   "mimetype": "text/x-python",
   "name": "python",
   "nbconvert_exporter": "python",
   "pygments_lexer": "ipython3",
   "version": "3.4.3"
  }
 },
 "nbformat": 4,
 "nbformat_minor": 2
}
