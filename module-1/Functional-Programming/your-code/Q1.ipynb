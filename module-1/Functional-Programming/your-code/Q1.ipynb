{
 "cells": [
  {
   "cell_type": "markdown",
   "metadata": {},
   "source": [
    "In the cell below, create a Python function that creates a Bag of Words.\n",
    "\n",
    "Requirements:\n",
    "\n",
    "1. Your function should accept the following parameters:\n",
    "    * `corpus` [REQUIRED] - list of strings.\n",
    "    * `stop_words` [OPTIONAL] - array of stop words. The default value is an empty array.\n",
    "\n",
    "1. Your function should return a Python object that contains the following:\n",
    "    * `bag_of_words` - array of strings of normalized unique words in the corpus.\n",
    "    * `term_freq` - array of the term-frequency vectors."
   ]
  },
  {
   "cell_type": "code",
   "execution_count": 89,
   "metadata": {},
   "outputs": [],
   "source": [
    "# Import required libraries\n",
    "import re\n",
    "# Define function\n",
    "def get_bow_from_docs(corpus, stop_words=[]):\n",
    "    \n",
    "    # In the function, first define the variables you will use such as `corpus`, `bag_of_words`, and `term_freq`.\n",
    "    \n",
    "    corpus2 = []\n",
    "    bag_of_words = []\n",
    "    term_freq = []\n",
    "    \n",
    "#     \"\"\"\n",
    "#     Convert corpus to lowercases and remove punctuation.\n",
    "#     \"\"\"\n",
    "    for w in corpus:\n",
    "        w = re.sub('\\W',' ',w)\n",
    "        w = w.lower().split()\n",
    "        \n",
    "        corpus2.append(w)\n",
    "        \n",
    "    #return print (corpus2)\n",
    "#     \"\"\"\n",
    "#     Loop `corpus`. Append the individual words in each doc into the `bag_of_words` array. The terms in `bag_of_words` \n",
    "#     should be unique which means before adding each term you need to check if it's already added to the array.\n",
    "#     In addition, check if each term is in the `stop_words` array. Only append the term to `bag_of_words`\n",
    "#     if it is not a stop word.\n",
    "#     \"\"\"\n",
    "    for uniql in corpus2:\n",
    "        for word in uniql:\n",
    "            if word not in bag_of_words:\n",
    "                bag_of_words.append(word)\n",
    "            \n",
    "#     \"\"\"\n",
    "#     Loop `corpus` again. For each doc string, count the number of occurrences of each term in `bag_of_words`. \n",
    "#     Create an array for each doc's term frequency and append it to `term_freq`.\n",
    "#     \"\"\"\n",
    "    for doc in corpus2:\n",
    "        doc_list = []\n",
    "        for subdoc in bag_of_words:\n",
    "            if subdoc in doc:\n",
    "                doc_list.append(1)\n",
    "            else:\n",
    "                doc_list.append(0)\n",
    "        term_freq.append(doc_list)\n",
    "        \n",
    "    # Now return your output as an object\n",
    "    return {\n",
    "        \"bag_of_words\": bag_of_words,\n",
    "        \"term_freq\": term_freq\n",
    "    }\n",
    "    "
   ]
  },
  {
   "cell_type": "markdown",
   "metadata": {},
   "source": [
    "Test your function without stop words. You should see the output like below:\n",
    "\n",
    "```{'bag_of_words': ['ironhack', 'is', 'cool', 'i', 'love', 'am', 'a', 'student', 'at'], 'term_freq': [[1, 1, 1, 0, 0, 0, 0, 0, 0], [1, 0, 0, 1, 1, 0, 0, 0, 0], [1, 0, 0, 1, 0, 1, 1, 1, 1]]}```"
   ]
  },
  {
   "cell_type": "code",
   "execution_count": 90,
   "metadata": {},
   "outputs": [
    {
     "name": "stdout",
     "output_type": "stream",
     "text": [
      "{'bag_of_words': ['ironhack', 'is', 'cool', 'i', 'love', 'am', 'a', 'student', 'at'], 'term_freq': [[1, 1, 1, 0, 0, 0, 0, 0, 0], [1, 0, 0, 1, 1, 0, 0, 0, 0], [1, 0, 0, 1, 0, 1, 1, 1, 1]]}\n"
     ]
    }
   ],
   "source": [
    "# Define the corpus list\n",
    "a_corpus = ['Ironhack is Cool!', 'I love Ironhack', 'I am a student at Ironhack.']\n",
    "\n",
    " #Obtain BoW from your function\n",
    "bow = get_bow_from_docs(a_corpus)\n",
    "\n",
    "#Print BoW\n",
    "print(bow)\n"
   ]
  },
  {
   "cell_type": "markdown",
   "metadata": {},
   "source": [
    "If your attempt above is successful, nice work done!\n",
    "\n",
    "Now test your function again with the stop words. In the previous lab we defined the stop words in a large array. In this lab, we'll import the stop words from Scikit-Learn."
   ]
  },
  {
   "cell_type": "code",
   "execution_count": 84,
   "metadata": {},
   "outputs": [
    {
     "name": "stdout",
     "output_type": "stream",
     "text": [
      "frozenset({'whose', 'until', 'your', 'others', 'has', 'see', 'therein', 'might', 'latter', 'before', 'everywhere', 'thereupon', 'or', 'cannot', 'back', 'nothing', 're', 'and', 'being', 'noone', 'mill', 'name', 'seem', 'done', 'yours', 'who', 'him', 'elsewhere', 'serious', 'be', 'something', 'detail', 'thereby', 'at', 'hereafter', 'is', 'them', 'onto', 'please', 'fifteen', 'twenty', 'except', 'own', 'de', 'anyone', 'also', 'either', 'else', 'whereas', 'eight', 'seems', 'this', 'a', 'for', 'that', 'move', 'more', 'through', 'meanwhile', 'we', 'moreover', 'sincere', 'became', 'mostly', 'how', 'it', 'rather', 'the', 'you', 'fifty', 'some', 'same', 'during', 'its', 'behind', 'someone', 'thence', 'nevertheless', 'twelve', 'very', 'third', 'two', 'whither', 'sometime', 'beforehand', 'of', 'cant', 'anywhere', 'whence', 'along', 'eg', 'down', 'few', 'me', 'are', 'thereafter', 'nine', 'con', 'each', 'ten', 'over', 'however', 'yet', 'much', 'under', 'ever', 'fire', 'by', 'nobody', 'hereby', 'otherwise', 'describe', 'become', 'about', 'to', 'his', 'even', 'perhaps', 'mine', 'herein', 'here', 'thus', 'found', 'indeed', 'across', 'when', 'whether', 'four', 'get', 'thru', 'in', 'she', 'couldnt', 'those', 'both', 'ie', 'thin', 'whereby', 'toward', 'formerly', 'hereupon', 'therefore', 'whereupon', 'still', 'co', 'than', 'somewhere', 'anyway', 'less', 'six', 'into', 'itself', 'one', 'while', 'after', 'beside', 'becoming', 'most', 'whole', 'several', 'themselves', 'nowhere', 'once', 'now', 'wherein', 'bottom', 'put', 'was', 'although', 'whenever', 'within', 'becomes', 'with', 'top', 'interest', 'besides', 'anyhow', 'via', 'keep', 'ourselves', 'nor', 'side', 'among', 'am', 'had', 'hundred', 'often', 'because', 'would', 'no', 'another', 'thick', 'latterly', 'below', 'etc', 'us', 'our', 'throughout', 'they', 'between', 'yourselves', 'do', 'could', 'may', 'bill', 'well', 'inc', 'almost', 'sixty', 'cry', 'only', 'eleven', 'hence', 'show', 'somehow', 'fill', 'every', 'yourself', 'off', 'seemed', 'five', 'should', 'system', 'sometimes', 'on', 'many', 'call', 'find', 'been', 'around', 'hasnt', 'himself', 'due', 'myself', 'three', 'her', 'there', 'must', 'former', 'already', 'whoever', 'but', 'if', 'their', 'enough', 'per', 'last', 'whereafter', 'afterwards', 'further', 'whatever', 'amoungst', 'front', 'can', 'again', 'ltd', 'least', 'an', 'whom', 'part', 'hers', 'anything', 'against', 'my', 'out', 'up', 'everything', 'next', 'which', 'these', 'amongst', 'too', 'not', 'were', 'always', 'above', 'other', 'namely', 'seeming', 'will', 'why', 'ours', 'neither', 'such', 'herself', 'first', 'any', 'upon', 'towards', 'what', 'made', 'as', 'wherever', 'i', 'beyond', 'without', 'since', 'he', 'un', 'take', 'from', 'forty', 'where', 'full', 'amount', 'then', 'alone', 'everyone', 'none', 'though', 'never', 'empty', 'give', 'have', 'all', 'go', 'so', 'together'})\n"
     ]
    }
   ],
   "source": [
    "from sklearn.feature_extraction import stop_words\n",
    "print(stop_words.ENGLISH_STOP_WORDS)"
   ]
  },
  {
   "cell_type": "markdown",
   "metadata": {},
   "source": [
    "You should have seen a large list of words that looks like:\n",
    "\n",
    "```frozenset({'across', 'mine', 'cannot', ...})```\n",
    "\n",
    "`frozenset` is a type of Python object that is immutable. In this lab you can use it just like an array (list) without conversion."
   ]
  },
  {
   "cell_type": "markdown",
   "metadata": {},
   "source": [
    "Next, test your function with supplying `stop_words.ENGLISH_STOP_WORDS` as the second parameter."
   ]
  },
  {
   "cell_type": "code",
   "execution_count": 91,
   "metadata": {},
   "outputs": [
    {
     "name": "stdout",
     "output_type": "stream",
     "text": [
      "{'bag_of_words': ['bag_of_words', 'term_freq'], 'term_freq': [[1, 0], [0, 1]]}\n"
     ]
    }
   ],
   "source": [
    "bow = get_bow_from_docs(bow, stop_words.ENGLISH_STOP_WORDS)\n",
    "\n",
    "print(bow)"
   ]
  },
  {
   "cell_type": "markdown",
   "metadata": {},
   "source": [
    "You should have seen:\n",
    "\n",
    "```{'bag_of_words': ['ironhack', 'cool', 'love', 'student'], 'term_freq': [[1, 1, 0, 0], [1, 0, 1, 0], [1, 0, 0, 1]]}```"
   ]
  },
  {
   "cell_type": "code",
   "execution_count": null,
   "metadata": {},
   "outputs": [],
   "source": []
  }
 ],
 "metadata": {
  "kernelspec": {
   "display_name": "Python 3",
   "language": "python",
   "name": "python3"
  },
  "language_info": {
   "codemirror_mode": {
    "name": "ipython",
    "version": 3
   },
   "file_extension": ".py",
   "mimetype": "text/x-python",
   "name": "python",
   "nbconvert_exporter": "python",
   "pygments_lexer": "ipython3",
   "version": "3.7.6"
  }
 },
 "nbformat": 4,
 "nbformat_minor": 2
}
