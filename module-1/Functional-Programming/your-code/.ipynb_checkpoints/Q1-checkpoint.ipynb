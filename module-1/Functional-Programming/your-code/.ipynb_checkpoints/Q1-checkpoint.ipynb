{
 "cells": [
  {
   "cell_type": "markdown",
   "metadata": {},
   "source": [
    "In the cell below, create a Python function that creates a Bag of Words.\n",
    "\n",
    "Requirements:\n",
    "\n",
    "1. Your function should accept the following parameters:\n",
    "    * `corpus` [REQUIRED] - list of strings.\n",
    "    * `stop_words` [OPTIONAL] - array of stop words. The default value is an empty array.\n",
    "\n",
    "1. Your function should return a Python object that contains the following:\n",
    "    * `bag_of_words` - array of strings of normalized unique words in the corpus.\n",
    "    * `term_freq` - array of the term-frequency vectors."
   ]
  },
  {
   "cell_type": "code",
   "execution_count": 4,
   "metadata": {},
   "outputs": [],
   "source": [
    "# Import required libraries\n",
    "\n",
    "import re\n",
    "\n",
    "# Define function\n",
    "\n",
    "def get_bow_from_docs(corpus, stop_words=[]):\n",
    "    \"\"\" \n",
    "    In the function, first define the variables you will use such as `corpus`, \n",
    "    `bag_of_words`, and `term_freq`.\n",
    "    \"\"\"\n",
    "    import re\n",
    "\n",
    "    corp = corpus\n",
    "    bag_of_words = []\n",
    "    term_freq = []\n",
    "    \n",
    "    \"\"\"\n",
    "    Convert corpus to lowercases and remove punctuation.\n",
    "    \"\"\"\n",
    "    i = 0\n",
    "    for i in range(len(corp)):        \n",
    "        corp[i] = re.sub(\"\\W\", \" \", corp[i])\n",
    "        corp[i] = corp[i].lower()\n",
    "\n",
    "    # print(\"Corp: \\n\", corp)\n",
    "\n",
    "    \"\"\"\n",
    "    Loop `corpus`. Append the individual words in each [[sentence]] into the `bag_of_words` array. \n",
    "    The terms in `bag_of_words` should be unique which means before adding each term you need to check if \n",
    "    it's already added to the array.\n",
    "    In addition, check if each term is in the `stop_words` array. Only append the term to `bag_of_words` \n",
    "    if it is not a stop word.\n",
    "    \"\"\"\n",
    "    bag_of_words_intermediate = []\n",
    "\n",
    "    j = 0\n",
    "\n",
    "    # I split each phrase into a list of strings.\n",
    "\n",
    "    for j in range(len(corp)):\n",
    "        bag_of_words_intermediate.append(corp[j].split())\n",
    "\n",
    "    # print(\"bag_of_words_intermediate: \\n\", bag_of_words_intermediate)\n",
    "\n",
    "    bag_of_words_with_stop = [y for x in bag_of_words_intermediate \n",
    "                      for y in x]\n",
    "\n",
    "    # I turn the list into a dictionary and back to remove duplicates. Not using set() to keep the same word order.\n",
    "\n",
    "    bag_of_words_with_stop = list(dict.fromkeys(bag_of_words_with_stop))\n",
    "\n",
    "    # print(\"bag_of_words_with_stop: \\n\", bag_of_words_with_stop)\n",
    "    \n",
    "    # I check and remove the stop words from the final bag_of_words.\n",
    "    \n",
    "    i = 0\n",
    "    for i in range(len(bag_of_words_with_stop)):\n",
    "        if bag_of_words_with_stop[i] in stop_words:\n",
    "            bag_of_words = bag_of_words\n",
    "        else:\n",
    "            bag_of_words.append(bag_of_words_with_stop[i])\n",
    "\n",
    "    \n",
    "    \"\"\"\n",
    "    Loop `corpus` again. For each doc string, count the number of occurrences of each term in `bag_of_words`. \n",
    "    Create an array for each doc's term frequency and append it to `term_freq`.\n",
    "    \"\"\"\n",
    "    # The part where I had to determine what exactly to cpompare and in which order was the most difficult one to understand.\n",
    "\n",
    "    i = 0\n",
    "    j = 0\n",
    "\n",
    "    for i in range(len(bag_of_words_intermediate)):\n",
    "        innerlist = []\n",
    "        for j in range(len(bag_of_words)):\n",
    "            if bag_of_words[j] in bag_of_words_intermediate[i]:\n",
    "                innerlist.append(1)\n",
    "            else:\n",
    "                innerlist.append(0)\n",
    "        term_freq.append(innerlist)\n",
    "\n",
    "    # Now return your output as an object\n",
    "    return {\n",
    "        \"bag_of_words\": bag_of_words,\n",
    "        \"term_freq\": term_freq\n",
    "    }\n",
    "    "
   ]
  },
  {
   "cell_type": "markdown",
   "metadata": {},
   "source": [
    "Test your function without stop words. You should see the output like below:\n",
    "\n",
    "```{'bag_of_words': ['ironhack', 'is', 'cool', 'i', 'love', 'am', 'a', 'student', 'at'], 'term_freq': [[1, 1, 1, 0, 0, 0, 0, 0, 0], [1, 0, 0, 1, 1, 0, 0, 0, 0], [1, 0, 0, 1, 0, 1, 1, 1, 1]]}```"
   ]
  },
  {
   "cell_type": "code",
   "execution_count": 8,
   "metadata": {},
   "outputs": [
    {
     "name": "stdout",
     "output_type": "stream",
     "text": [
      "{'bag_of_words': ['ironhack', 'is', 'cool', 'i', 'love', 'am', 'a', 'student', 'at'], 'term_freq': [[1, 1, 1, 0, 0, 0, 0, 0, 0], [1, 0, 0, 1, 1, 0, 0, 0, 0], [1, 0, 0, 1, 0, 1, 1, 1, 1]]}\n"
     ]
    }
   ],
   "source": [
    "# Define the corpus list\n",
    "\n",
    "a_corpus = ['Ironhack is Cool!', 'I love Ironhack', 'I am a student at Ironhack.']\n",
    "\n",
    "# Obtain BoW from your function\n",
    "\n",
    "bow = get_bow_from_docs(a_corpus)\n",
    "\n",
    "# Print BoW\n",
    "\n",
    "print(bow)"
   ]
  },
  {
   "cell_type": "markdown",
   "metadata": {},
   "source": [
    "If your attempt above is successful, nice work done!\n",
    "\n",
    "Now test your function again with the stop words. In the previous lab we defined the stop words in a large array. In this lab, we'll import the stop words from Scikit-Learn."
   ]
  },
  {
   "cell_type": "code",
   "execution_count": 6,
   "metadata": {},
   "outputs": [
    {
     "ename": "ModuleNotFoundError",
     "evalue": "No module named 'sklearn'",
     "output_type": "error",
     "traceback": [
      "\u001b[0;31m---------------------------------------------------------------------------\u001b[0m",
      "\u001b[0;31mModuleNotFoundError\u001b[0m                       Traceback (most recent call last)",
      "\u001b[0;32m<ipython-input-6-127b21059949>\u001b[0m in \u001b[0;36m<module>\u001b[0;34m\u001b[0m\n\u001b[0;32m----> 1\u001b[0;31m \u001b[0;32mfrom\u001b[0m \u001b[0msklearn\u001b[0m\u001b[0;34m.\u001b[0m\u001b[0mfeature_extraction\u001b[0m \u001b[0;32mimport\u001b[0m \u001b[0mstop_words\u001b[0m\u001b[0;34m\u001b[0m\u001b[0;34m\u001b[0m\u001b[0m\n\u001b[0m\u001b[1;32m      2\u001b[0m \u001b[0;34m\u001b[0m\u001b[0m\n\u001b[1;32m      3\u001b[0m \u001b[0mprint\u001b[0m\u001b[0;34m(\u001b[0m\u001b[0mstop_words\u001b[0m\u001b[0;34m.\u001b[0m\u001b[0mENGLISH_STOP_WORDS\u001b[0m\u001b[0;34m)\u001b[0m\u001b[0;34m\u001b[0m\u001b[0;34m\u001b[0m\u001b[0m\n",
      "\u001b[0;31mModuleNotFoundError\u001b[0m: No module named 'sklearn'"
     ]
    }
   ],
   "source": [
    "from sklearn.feature_extraction import stop_words\n",
    "\n",
    "print(stop_words.ENGLISH_STOP_WORDS)"
   ]
  },
  {
   "cell_type": "markdown",
   "metadata": {},
   "source": [
    "You should have seen a large list of words that looks like:\n",
    "\n",
    "```frozenset({'across', 'mine', 'cannot', ...})```\n",
    "\n",
    "`frozenset` is a type of Python object that is immutable. In this lab you can use it just like an array (list) without conversion."
   ]
  },
  {
   "cell_type": "markdown",
   "metadata": {},
   "source": [
    "Next, test your function with supplying `stop_words.ENGLISH_STOP_WORDS` as the second parameter."
   ]
  },
  {
   "cell_type": "code",
   "execution_count": 7,
   "metadata": {},
   "outputs": [
    {
     "name": "stdout",
     "output_type": "stream",
     "text": [
      "{'bag_of_words': ['ironhack', 'cool', 'love', 'student'], 'term_freq': [[1, 1, 0, 0], [1, 0, 1, 0], [1, 0, 0, 1]]}\n"
     ]
    }
   ],
   "source": [
    "# bow = get_bow_from_docs(a_corpus, stop_words.ENGLISH_STOP_WORDS)\n",
    "\n",
    "# Since importing stop_words does not work, I still can define my list as a second parameter and test the function.\n",
    "\n",
    "bow = get_bow_from_docs(a_corpus, ['i','am', 'a', 'is', 'at'])\n",
    "\n",
    "print(bow)"
   ]
  },
  {
   "cell_type": "markdown",
   "metadata": {},
   "source": [
    "You should have seen:\n",
    "\n",
    "```{'bag_of_words': ['ironhack', 'cool', 'love', 'student'], 'term_freq': [[1, 1, 0, 0], [1, 0, 1, 0], [1, 0, 0, 1]]}```"
   ]
  },
  {
   "cell_type": "code",
   "execution_count": null,
   "metadata": {},
   "outputs": [],
   "source": []
  }
 ],
 "metadata": {
  "kernelspec": {
   "display_name": "Python 3",
   "language": "python",
   "name": "python3"
  },
  "language_info": {
   "codemirror_mode": {
    "name": "ipython",
    "version": 3
   },
   "file_extension": ".py",
   "mimetype": "text/x-python",
   "name": "python",
   "nbconvert_exporter": "python",
   "pygments_lexer": "ipython3",
   "version": "3.7.7"
  }
 },
 "nbformat": 4,
 "nbformat_minor": 2
}
