{
 "cells": [
  {
   "cell_type": "markdown",
   "metadata": {},
   "source": [
    "In the cell below, create a Python function that wraps your previous solution for the Bag of Words lab.\n",
    "\n",
    "Requirements:\n",
    "\n",
    "1. Your function should accept the following parameters:\n",
    "    * `docs` [REQUIRED] - array of document paths.\n",
    "    * `stop_words` [OPTIONAL] - array of stop words. The default value is an empty array.\n",
    "\n",
    "1. Your function should return a Python object that contains the following:\n",
    "    * `bag_of_words` - array of strings of normalized unique words in the corpus.\n",
    "    * `term_freq` - array of the term-frequency vectors."
   ]
  },
  {
   "cell_type": "code",
   "execution_count": 102,
   "metadata": {},
   "outputs": [
    {
     "name": "stdout",
     "output_type": "stream",
     "text": [
      "{'bag_of_words': ['ironhack', 'love', 'i', 'a', 'student', 'at', 'am', 'is', 'cool'], 'term_freq': [[1, 0, 1, 1, 0, 0, 0, 1, 1], [1, 1, 1, 1, 0, 0, 0, 0, 0], [1, 0, 1, 1, 1, 1, 1, 0, 0]]}\n"
     ]
    }
   ],
   "source": [
    "import re\n",
    "\n",
    "doc1 = \"Ironhack is cool.\"\n",
    "doc2 = \"I love Ironhack.\"\n",
    "doc3 = \"I am a student at Ironhack.\"\n",
    "docs =[doc1,doc2,doc3]\n",
    "\n",
    "def get_bow_from_docs(docs, stop_words=[]):\n",
    "    corpus = []\n",
    "    term_freq = []\n",
    "    bag_of_words = []\n",
    "    \n",
    "    for doc in docs:\n",
    "        doc = \"\".join(doc).lower()\n",
    "        doc = re.sub(r'[,.:@#?!&$]', '', doc)\n",
    "        corpus.append(doc)\n",
    "\n",
    "    for i in corpus:\n",
    "        words = i.split(\" \")\n",
    "        bag_of_words.append(words)\n",
    "\n",
    "    bag_of_words = [y for x in bag_of_words for y in x if y not in stop_words] \n",
    "    bag_of_words = list(set(bag_of_words))\n",
    "\n",
    "    for doc in corpus:\n",
    "        doc_freq=[]\n",
    "        for word in bag_of_words:\n",
    "            if word in doc:\n",
    "                doc_freq.append(1)\n",
    "            else:\n",
    "                doc_freq.append(0)\n",
    "        term_freq.append(doc_freq)\n",
    "    \n",
    "    return {\"bag_of_words\":bag_of_words, \"term_freq\":term_freq}\n",
    "\n",
    "print(get_bow_from_docs(docs, stop_words=[]))\n"
   ]
  },
  {
   "cell_type": "markdown",
   "metadata": {},
   "source": [
    "Test your function without stop words. You should see the output like below:\n",
    "\n",
    "```{'bag_of_words': ['ironhack', 'is', 'cool', 'i', 'love', 'am', 'a', 'student', 'at'], 'term_freq': [[1, 1, 1, 0, 0, 0, 0, 0, 0], [1, 0, 0, 1, 1, 0, 0, 0, 0], [1, 0, 0, 1, 0, 1, 1, 1, 1]]}```"
   ]
  },
  {
   "cell_type": "code",
   "execution_count": 111,
   "metadata": {
    "scrolled": true
   },
   "outputs": [
    {
     "name": "stdout",
     "output_type": "stream",
     "text": [
      "{'bag_of_words': ['ironhack', 'love', 'i', 'a', 'student', 'at', 'am', 'is', 'cool'], 'term_freq': [[1, 0, 1, 1, 0, 0, 0, 1, 1], [1, 1, 1, 1, 0, 0, 0, 0, 0], [1, 0, 1, 1, 1, 1, 1, 0, 0]]}\n"
     ]
    }
   ],
   "source": [
    "# Define doc paths array\n",
    "\n",
    "# Obtain BoW from your function\n",
    "bow = get_bow_from_docs(docs)\n",
    "\n",
    "# Print BoW\n",
    "print(bow)"
   ]
  },
  {
   "cell_type": "markdown",
   "metadata": {},
   "source": [
    "If your attempt above is successful, nice work done!\n",
    "\n",
    "Now test your function again with the stop words. In the previous lab we defined the stop words in a large array. In this lab, we'll import the stop words from Scikit-Learn."
   ]
  },
  {
   "cell_type": "code",
   "execution_count": 112,
   "metadata": {},
   "outputs": [
    {
     "name": "stdout",
     "output_type": "stream",
     "text": [
      "frozenset({'see', 'whatever', 'that', 'over', 'front', 'us', 'around', 'through', 'both', 'noone', 'de', 'thick', 'yourself', 'somehow', 'sometimes', 'will', 'everything', 'beside', 'in', 'most', 'on', 'other', 'about', 'throughout', 'find', 'somewhere', 'i', 'whereas', 'formerly', 'amongst', 'found', 'too', 'call', 'how', 'indeed', 'almost', 'bill', 'however', 'besides', 'but', 'those', 'still', 'latter', 'its', 'within', 'not', 'whither', 'nor', 'put', 'your', 'well', 'empty', 'never', 'them', 'hasnt', 'via', 're', 'next', 'etc', 'without', 'themselves', 'herein', 'neither', 'hence', 'whether', 'mostly', 'con', 'anything', 'twenty', 'done', 'anyhow', 'cry', 'to', 'sincere', 'couldnt', 'detail', 'everyone', 'is', 'so', 'again', 'should', 'less', 'un', 'beforehand', 'whence', 'as', 'though', 'for', 'off', 'beyond', 'thereupon', 'into', 'no', 'or', 'something', 'whoever', 'always', 'could', 'were', 'across', 'against', 'among', 'become', 'thru', 'eg', 'ie', 'at', 'together', 'after', 'his', 'two', 'towards', 'alone', 'latterly', 'yours', 'there', 'hereafter', 'down', 'because', 'six', 'onto', 'wherein', 'part', 'name', 'up', 'and', 'further', 'others', 'whereby', 'own', 'where', 'must', 'seeming', 'please', 'afterwards', 'often', 'show', 'whereupon', 'ten', 'under', 'much', 'you', 'she', 'another', 'thin', 'even', 'fill', 'hundred', 'first', 'seem', 'anywhere', 'becomes', 'itself', 'any', 'now', 'these', 'describe', 'full', 'yourselves', 'everywhere', 'toward', 'elsewhere', 'my', 'why', 'nobody', 'ever', 'least', 'hereupon', 'anyone', 'until', 'one', 'bottom', 'has', 'co', 'many', 'thereby', 'behind', 'be', 'nevertheless', 'else', 'once', 'yet', 'perhaps', 'all', 'get', 'who', 'whom', 'third', 'am', 'between', 'enough', 'their', 'therefore', 'sometime', 'system', 'side', 'during', 'him', 'what', 'since', 'either', 'whenever', 'meanwhile', 'ourselves', 'myself', 'very', 'it', 'they', 'each', 'hereby', 'three', 'anyway', 'back', 'while', 'if', 'ours', 'five', 'himself', 'whole', 'mine', 'same', 'except', 'can', 'which', 'thence', 'do', 'had', 'hers', 'move', 'than', 'made', 'keep', 'out', 'with', 'per', 'only', 'go', 'being', 'forty', 'eight', 'cannot', 'every', 'seemed', 'eleven', 'top', 'such', 'rather', 'moreover', 'we', 'thereafter', 'several', 'may', 'herself', 'someone', 'none', 'also', 'few', 'mill', 'here', 'inc', 'an', 'upon', 'our', 'before', 'when', 'due', 'fifteen', 'he', 'would', 'take', 'twelve', 'this', 'fire', 'amount', 'thus', 'above', 'cant', 'nowhere', 'already', 'therein', 'former', 'interest', 'was', 'although', 'nothing', 'along', 'whereafter', 'amoungst', 'the', 'a', 'from', 'seems', 'her', 'whose', 'serious', 'last', 'nine', 'been', 'have', 'give', 'of', 'more', 'becoming', 'ltd', 'otherwise', 'became', 'some', 'below', 'four', 'me', 'are', 'fifty', 'then', 'wherever', 'by', 'sixty', 'might', 'namely'})\n"
     ]
    }
   ],
   "source": [
    "from sklearn.feature_extraction import stop_words\n",
    "print(stop_words.ENGLISH_STOP_WORDS)"
   ]
  },
  {
   "cell_type": "markdown",
   "metadata": {},
   "source": [
    "You should have seen a large list of words that looks like:\n",
    "\n",
    "```frozenset({'across', 'mine', 'cannot', ...})```\n",
    "\n",
    "`frozenset` is a type of Python object that is immutable. In this lab you can use it just like an array without conversion."
   ]
  },
  {
   "cell_type": "markdown",
   "metadata": {},
   "source": [
    "Next, test your function with supplying `stop_words.ENGLISH_STOP_WORDS` as the second parameter."
   ]
  },
  {
   "cell_type": "code",
   "execution_count": 122,
   "metadata": {},
   "outputs": [
    {
     "name": "stdout",
     "output_type": "stream",
     "text": [
      "{'bag_of_words': ['ironhack', 'student', 'cool', 'love'], 'term_freq': [[1, 0, 1, 0], [1, 0, 0, 1], [1, 1, 0, 0]]}\n"
     ]
    }
   ],
   "source": [
    "bow = get_bow_from_docs(docs, stop_words.ENGLISH_STOP_WORDS)\n",
    "\n",
    "print(bow)"
   ]
  },
  {
   "cell_type": "markdown",
   "metadata": {},
   "source": [
    "You should have seen:\n",
    "\n",
    "```{'bag_of_words': ['ironhack', 'cool', 'love', 'student'], 'term_freq': [[1, 1, 0, 0], [1, 0, 1, 0], [1, 0, 0, 1]]}```"
   ]
  },
  {
   "cell_type": "code",
   "execution_count": null,
   "metadata": {},
   "outputs": [],
   "source": []
  }
 ],
 "metadata": {
  "kernelspec": {
   "display_name": "Python 3",
   "language": "python",
   "name": "python3"
  },
  "language_info": {
   "codemirror_mode": {
    "name": "ipython",
    "version": 3
   },
   "file_extension": ".py",
   "mimetype": "text/x-python",
   "name": "python",
   "nbconvert_exporter": "python",
   "pygments_lexer": "ipython3",
   "version": "3.7.4"
  }
 },
 "nbformat": 4,
 "nbformat_minor": 2
}
