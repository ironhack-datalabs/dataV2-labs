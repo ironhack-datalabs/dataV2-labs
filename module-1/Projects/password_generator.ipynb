{
 "cells": [
  {
   "cell_type": "code",
   "execution_count": null,
   "metadata": {
    "collapsed": false
   },
   "outputs": [
    {
     "name": "stdout",
     "output_type": "stream",
     "text": [
      "Do you want to create a password?\n"
     ]
    }
   ],
   "source": [
    "#Strong Random Password Generator\n",
    "#ask user if s/he wants to create a new password\n",
    "#if yes, generate a new password, according to the following rules: \n",
    "# 1) between 8 and 12 characters\n",
    "# 2) containing at least one uppercase letter\n",
    "# 3) one lowercase letter\n",
    "# 4) one digit and \n",
    "# 5) one special character\n",
    "\n",
    "import math\n",
    "import random\n",
    "    \n",
    "def generate_password():\n",
    "    print('Do you want to create a password?')\n",
    "    user_input = input()\n",
    "    if user_input.lower() != 'yes':\n",
    "        print('No password requested')\n",
    "        return\n",
    "    character_dict = {\n",
    "        'uppercase': list ('ABCDEFGHIJKLMNOPQRSTUVWXYZ'),\n",
    "        'lowercase': list ('abcdefghijklmnopqrstuvwxyz'),\n",
    "        'digit': list('1234567890'),\n",
    "        'special': list('!@#$%^&*()')\n",
    "    }\n",
    "    password = ''\n",
    "    length = random.randint(8,12)\n",
    "    #print(length)\n",
    "    for character_type in character_dict:\n",
    "        character_list = character_dict[character_type]\n",
    "        next_character = random.choice(character_list)\n",
    "        password += next_character\n",
    "    while len(password) < length:\n",
    "        #create a list of keys of dictionary\n",
    "        character_types = list(character_dict.keys())\n",
    "        #pick random list from dictionary\n",
    "        character_type = random.choice(character_types)\n",
    "        #we actually get the list of characters\n",
    "        character_list = character_dict[character_type]\n",
    "        next_character = random.choice(character_list)\n",
    "        password += next_character\n",
    "        \n",
    "    print(password)\n",
    "    \n",
    "generate_password()"
   ]
  },
  {
   "cell_type": "code",
   "execution_count": null,
   "metadata": {
    "collapsed": true
   },
   "outputs": [],
   "source": []
  },
  {
   "cell_type": "code",
   "execution_count": null,
   "metadata": {
    "collapsed": true
   },
   "outputs": [],
   "source": []
  }
 ],
 "metadata": {
  "kernelspec": {
   "display_name": "Python 3",
   "language": "python",
   "name": "python3"
  },
  "language_info": {
   "codemirror_mode": {
    "name": "ipython",
    "version": 3
   },
   "file_extension": ".py",
   "mimetype": "text/x-python",
   "name": "python",
   "nbconvert_exporter": "python",
   "pygments_lexer": "ipython3",
   "version": "3.4.3"
  }
 },
 "nbformat": 4,
 "nbformat_minor": 0
}
