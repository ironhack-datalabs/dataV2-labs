{
 "cells": [
  {
   "cell_type": "markdown",
   "metadata": {},
   "source": [
    "# Before your start:\n",
    "- Read the README.md file\n",
    "- Comment as much as you can and use the resources in the README.md file\n",
    "- Happy learning!"
   ]
  },
  {
   "cell_type": "code",
   "execution_count": null,
   "metadata": {},
   "outputs": [],
   "source": [
    "import re"
   ]
  },
  {
   "cell_type": "markdown",
   "metadata": {},
   "source": [
    "# Challenge 1 - Combining Strings\n",
    "\n",
    "Combining strings is an important skill to acquire. There are multiple ways of combining strings in Python, as well as combining strings with variables. We will explore this in the first challenge. In the cell below, combine the strings in the list and add spaces between the strings (do not add a space after the last string). Insert a period after the last string."
   ]
  },
  {
   "cell_type": "code",
   "execution_count": 2,
   "metadata": {},
   "outputs": [
    {
     "data": {
      "text/plain": [
       "'Durante un tiempo no estuvo segura de si su marido era su marido'"
      ]
     },
     "execution_count": 2,
     "metadata": {},
     "output_type": "execute_result"
    }
   ],
   "source": [
    "str_list = ['Durante', 'un', 'tiempo', 'no', 'estuvo', 'segura', 'de', 'si', 'su', 'marido', 'era', 'su', 'marido']\n",
    "# Your code here:\n",
    "\" \".join(str_list)\n",
    "\n",
    "\n"
   ]
  },
  {
   "cell_type": "markdown",
   "metadata": {},
   "source": [
    "In the cell below, use the list of strings to create a grocery list. Start the list with the string `Grocery list: ` and include a comma and a space between each item except for the last one. Include a period at the end. Only include foods in the list that start with the letter 'b' and ensure all foods are lower case."
   ]
  },
  {
   "cell_type": "code",
   "execution_count": 12,
   "metadata": {},
   "outputs": [
    {
     "name": "stdout",
     "output_type": "stream",
     "text": [
      "Grocery list: bread broccoli\n"
     ]
    },
    {
     "data": {
      "text/plain": [
       "'Grocery list: bread broccoli .'"
      ]
     },
     "execution_count": 12,
     "metadata": {},
     "output_type": "execute_result"
    }
   ],
   "source": [
    "food_list = ['Bananas', 'Chocolate', 'bread', 'diapers', 'Ice Cream', 'Brownie Mix', 'broccoli']\n",
    "# Your code here:\n",
    "grocery_list = [\"Grocery list:\"]\n",
    "for food in food_list:\n",
    "    if food.startswith('b'):\n",
    "        grocery_list.append(food)\n",
    "        \n",
    "print(\" \".join(grocery_list))\n",
    "grocery_list.append('.')\n",
    "grocery_list"
   ]
  },
  {
   "cell_type": "markdown",
   "metadata": {},
   "source": [
    "In the cell below, write a function that computes the area of a circle using its radius. Compute the area of the circle and insert the radius and the area between the two strings. Make sure to include spaces between the variable and the strings. \n",
    "\n",
    "Note: You can use the techniques we have learned so far or use f-strings. F-strings allow us to embed code inside strings. You can read more about f-strings [here](https://www.python.org/dev/peps/pep-0498/)."
   ]
  },
  {
   "cell_type": "code",
   "execution_count": 10,
   "metadata": {},
   "outputs": [
    {
     "data": {
      "text/plain": [
       "'The area of the circle with radius: 4.5 is: 63.61725123519331'"
      ]
     },
     "execution_count": 10,
     "metadata": {},
     "output_type": "execute_result"
    }
   ],
   "source": [
    "import math\n",
    "\n",
    "string1 = \"The area of the circle with radius:\"\n",
    "string2  = \"is:\"\n",
    "radius = 4.5\n",
    "\n",
    "\n",
    "\"\"\"\n",
    "This function takes a radius and returns the area of a circle. \n",
    "We also pass a default value for pi.\n",
    "\n",
    "Input: Float (and default value for pi)\n",
    "Output: Float\n",
    "    \n",
    "Sample input: 5.0\n",
    "Sample Output: 78.53981633\n",
    "\"\"\"\n",
    "    \n",
    "# Your code here:\n",
    "def area(r, pi = math.pi):\n",
    "    A = (r**2)*pi\n",
    "    return A\n",
    "    \n",
    "# Your output string here:\n",
    "output_string = string1 + \" \" + str(radius) + \" \" + string2 + \" \" + str(area(radius))\n",
    "output_string"
   ]
  },
  {
   "cell_type": "markdown",
   "metadata": {},
   "source": [
    "# Challenge 2 - Splitting Strings\n",
    "\n",
    "We have first looked at combining strings into one long string. There are times where we need to do the opposite and split the string into smaller components for further analysis. \n",
    "\n",
    "In the cell below, split the string into a list of strings using the space delimiter. Count the frequency of each word in the string in a dictionary. Strip the periods, line breaks and commas from the text. Make sure to remove empty strings from your dictionary."
   ]
  },
  {
   "cell_type": "code",
   "execution_count": 37,
   "metadata": {},
   "outputs": [
    {
     "name": "stdout",
     "output_type": "stream",
     "text": [
      "['Some', 'say', 'the', 'world', 'will', 'end', 'in', 'fire,', 'Some', 'say', 'in', 'ice.', 'From', 'what', 'I’ve', 'tasted', 'of', 'desire', 'I', 'hold', 'with', 'those', 'who', 'favor', 'fire.', 'But', 'if', 'it', 'had', 'to', 'perish', 'twice,', 'I', 'think', 'I', 'know', 'enough', 'of', 'hate', 'To', 'say', 'that', 'for', 'destruction', 'ice', 'Is', 'also', 'great', 'And', 'would', 'suffice.']\n",
      "{'Some': 2, 'say': 3, 'the': 1, 'world': 1, 'will': 1, 'end': 1, 'in': 3, 'fire,': 1, 'ice.': 3, 'From': 1, 'what': 1, 'I’ve': 1, 'tasted': 1, 'of': 2, 'desire': 1, 'I': 5, 'hold': 1, 'with': 1, 'those': 1, 'who': 1, 'favor': 1, 'fire.': 2, 'But': 1, 'if': 1, 'it': 2, 'had': 1, 'to': 1, 'perish': 1, 'twice,': 1, 'think': 1, 'know': 1, 'enough': 1, 'hate': 1, 'To': 1, 'that': 1, 'for': 1, 'destruction': 1, 'ice': 4, 'Is': 1, 'also': 1, 'great': 1, 'And': 1, 'would': 1, 'suffice.': 1}\n"
     ]
    }
   ],
   "source": [
    "poem = \"\"\"Some say the world will end in fire,\n",
    "Some say in ice.\n",
    "From what I’ve tasted of desire\n",
    "I hold with those who favor fire.\n",
    "But if it had to perish twice,\n",
    "I think I know enough of hate\n",
    "To say that for destruction ice\n",
    "Is also great\n",
    "And would suffice.\"\"\"\n",
    "\n",
    "# Your code here:\n",
    "'''word_frequency = {}\n",
    "not_repeated_items = []\n",
    "poem_list = poem.split()\n",
    "for item in poem:\n",
    "    if item not in not_repeated_items:\n",
    "        import re\n",
    "        item_list = re.findall(item, poem_list)\n",
    "        word_frequency[item] = len(item_list)\n",
    "        not_repeated_items.append(item)'''\n",
    "\n",
    "#split the string\n",
    "new_poem_list = poem.split()\n",
    "print(new_poem_list)\n",
    "\n",
    "count_dictionary = {}\n",
    "import re\n",
    "for w in new_poem_list:\n",
    "    word_list = re.findall(w, poem)\n",
    "    count_dictionary[w] = len(word_list)\n",
    "    \n",
    "print(count_dictionary)    \n"
   ]
  },
  {
   "cell_type": "markdown",
   "metadata": {},
   "source": [
    "In the cell below, find all the words that appear in the text and do not appear in the blacklist. You must parse the string but can choose any data structure you wish for the words that do not appear in the blacklist. Remove all non letter characters and convert all words to lower case."
   ]
  },
  {
   "cell_type": "code",
   "execution_count": 27,
   "metadata": {},
   "outputs": [
    {
     "name": "stdout",
     "output_type": "stream",
     "text": [
      "The words from poem that do not appear in blacklist are:\n",
      "['I', 'was', 'angry', 'with', 'my', 'friend;', 'I', 'told', 'my', 'wrath,', 'my', 'wrath', 'did', 'end.', 'I', 'was', 'angry', 'with', 'my', 'foe:', 'I', 'told', 'not,', 'my', 'wrath', 'did', 'grow.', 'And', 'I', 'waterd', 'fears,', 'Night', '&', 'morning', 'with', 'my', 'tears:', 'And', 'I', 'sunned', 'with', 'smiles,', 'And', 'with', 'soft', 'deceitful', 'wiles.', 'And', 'grew', 'both', 'day', 'night.', 'Till', 'bore', 'apple', 'bright.', 'And', 'my', 'foe', 'beheld', 'shine,', 'And', 'he', 'knew', 'that', 'was', 'mine.', 'And', 'into', 'my', 'garden', 'stole,', 'When', 'night', 'had', 'veild', 'pole;', 'In', 'morning', 'glad', 'I', 'see;', 'My', 'foe', 'outstretched', 'beneath', 'tree.']\n",
      "['w', 'a', 's', 'a', 'n', 'g', 'r', 'y', 'w', 'i', 't', 'h', 'm', 'y', 'f', 'r', 'i', 'e', 'n', 'd', 't', 'o', 'l', 'd', 'm', 'y', 'w', 'r', 'a', 't', 'h', 'm', 'y', 'w', 'r', 'a', 't', 'h', 'd', 'i', 'd', 'e', 'n', 'd', 'w', 'a', 's', 'a', 'n', 'g', 'r', 'y', 'w', 'i', 't', 'h', 'm', 'y', 'f', 'o', 'e', 't', 'o', 'l', 'd', 'n', 'o', 't', 'm', 'y', 'w', 'r', 'a', 't', 'h', 'd', 'i', 'd', 'g', 'r', 'o', 'w', 'n', 'd', 'w', 'a', 't', 'e', 'r', 'd', 'f', 'e', 'a', 'r', 's', 'i', 'g', 'h', 't', 'm', 'o', 'r', 'n', 'i', 'n', 'g', 'w', 'i', 't', 'h', 'm', 'y', 't', 'e', 'a', 'r', 's', 'n', 'd', 's', 'u', 'n', 'n', 'e', 'd', 'w', 'i', 't', 'h', 's', 'm', 'i', 'l', 'e', 's', 'n', 'd', 'w', 'i', 't', 'h', 's', 'o', 'f', 't', 'd', 'e', 'c', 'e', 'i', 't', 'f', 'u', 'l', 'w', 'i', 'l', 'e', 's', 'n', 'd', 'g', 'r', 'e', 'w', 'b', 'o', 't', 'h', 'd', 'a', 'y', 'n', 'i', 'g', 'h', 't', 'i', 'l', 'l', 'b', 'o', 'r', 'e', 'a', 'p', 'p', 'l', 'e', 'b', 'r', 'i', 'g', 'h', 't', 'n', 'd', 'm', 'y', 'f', 'o', 'e', 'b', 'e', 'h', 'e', 'l', 'd', 's', 'h', 'i', 'n', 'e', 'n', 'd', 'h', 'e', 'k', 'n', 'e', 'w', 't', 'h', 'a', 't', 'w', 'a', 's', 'm', 'i', 'n', 'e', 'n', 'd', 'i', 'n', 't', 'o', 'm', 'y', 'g', 'a', 'r', 'd', 'e', 'n', 's', 't', 'o', 'l', 'e', 'h', 'e', 'n', 'n', 'i', 'g', 'h', 't', 'h', 'a', 'd', 'v', 'e', 'i', 'l', 'd', 'p', 'o', 'l', 'e', 'n', 'm', 'o', 'r', 'n', 'i', 'n', 'g', 'g', 'l', 'a', 'd', 's', 'e', 'e', 'y', 'f', 'o', 'e', 'o', 'u', 't', 's', 't', 'r', 'e', 't', 'c', 'h', 'e', 'd', 'b', 'e', 'n', 'e', 'a', 't', 'h', 't', 'r', 'e', 'e']\n"
     ]
    }
   ],
   "source": [
    "blacklist = ['and', 'as', 'an', 'a', 'the', 'in', 'it']\n",
    "\n",
    "poem = \"\"\"I was angry with my friend; \n",
    "I told my wrath, my wrath did end.\n",
    "I was angry with my foe: \n",
    "I told it not, my wrath did grow. \n",
    "\n",
    "And I waterd it in fears,\n",
    "Night & morning with my tears: \n",
    "And I sunned it with smiles,\n",
    "And with soft deceitful wiles. \n",
    "\n",
    "And it grew both day and night. \n",
    "Till it bore an apple bright. \n",
    "And my foe beheld it shine,\n",
    "And he knew that it was mine. \n",
    "\n",
    "And into my garden stole, \n",
    "When the night had veild the pole; \n",
    "In the morning glad I see; \n",
    "My foe outstretched beneath the tree.\"\"\"\n",
    "\n",
    "# Your code here:\n",
    "words_in_poem_not_in_blacklist = []\n",
    "poem_words = poem.split()\n",
    "for word in poem_words:\n",
    "    if word not in blacklist:\n",
    "        words_in_poem_not_in_blacklist.append(word)\n",
    "\n",
    "print(\"The words from poem that do not appear in blacklist are:\")\n",
    "print(words_in_poem_not_in_blacklist)\n",
    "\n",
    "poem_words_updated = \"\".join(words_in_poem_not_in_blacklist)\n",
    "poem_words_updated.lower()\n",
    "\n",
    "#All non letter characters removed\n",
    "import re\n",
    "poem_words_updated2 = re.findall('[a-z]', poem_words_updated)\n",
    "print(poem_words_updated2)\n",
    "\n",
    "\n",
    "        \n"
   ]
  },
  {
   "cell_type": "markdown",
   "metadata": {},
   "source": [
    "# Challenge 3 - Regular Expressions\n",
    "\n",
    "Sometimes, we would like to perform more complex manipulations of our string. This is where regular expressions come in handy. In the cell below, return all characters that are upper case from the string specified below."
   ]
  },
  {
   "cell_type": "code",
   "execution_count": 29,
   "metadata": {},
   "outputs": [
    {
     "name": "stdout",
     "output_type": "stream",
     "text": [
      "['T', 'P']\n"
     ]
    }
   ],
   "source": [
    "poem = \"\"\"The apparition of these faces in the crowd;\n",
    "Petals on a wet, black bough.\"\"\"\n",
    "\n",
    "# Your code here:\n",
    "import re\n",
    "uppercase_characters = re.findall('[A-Z]', poem)\n",
    "print(uppercase_characters)\n"
   ]
  },
  {
   "cell_type": "markdown",
   "metadata": {},
   "source": [
    "In the cell below, filter the list provided and return all elements of the list containing a number. To filter the list, use the `re.search` function. Check if the function does not return `None`. You can read more about the `re.search` function [here](https://docs.python.org/3/library/re.html)."
   ]
  },
  {
   "cell_type": "code",
   "execution_count": 32,
   "metadata": {},
   "outputs": [
    {
     "name": "stdout",
     "output_type": "stream",
     "text": [
      "['123abc', 'abc123', 'JohnSmith1', 'ABBY4']\n"
     ]
    }
   ],
   "source": [
    "data = ['123abc', 'abc123', 'JohnSmith1', 'ABBY4', 'JANE']\n",
    "\n",
    "# Your code here:\n",
    "import re\n",
    "data_with_numbers = []\n",
    "for item in data:\n",
    "    if re.search('[\\d]', item) is not None:\n",
    "        data_with_numbers.append(item)\n",
    "print(data_with_numbers)\n"
   ]
  },
  {
   "cell_type": "markdown",
   "metadata": {},
   "source": [
    "# Bonus Challenge - Regular Expressions II\n",
    "\n",
    "In the cell below, filter the list provided to keep only strings containing at least one digit and at least one lower case letter. As in the previous question, use the `re.search` function and check that the result is not `None`.\n",
    "\n",
    "To read more about regular expressions, check out [this link](https://developers.google.com/edu/python/regular-expressions)."
   ]
  },
  {
   "cell_type": "code",
   "execution_count": 35,
   "metadata": {},
   "outputs": [
    {
     "name": "stdout",
     "output_type": "stream",
     "text": [
      "['123abc', 'abc123', 'JohnSmith1', 'ABBY4']\n"
     ]
    }
   ],
   "source": [
    "data = ['123abc', 'abc123', 'JohnSmith1', 'ABBY4', 'JANE']\n",
    "# Your code here:\n",
    "import re\n",
    "data_update = []\n",
    "for item in data:\n",
    "    if re.search('[a-z0-9]', item) is not None:\n",
    "        data_update.append(item)\n",
    "print(data_update)\n"
   ]
  },
  {
   "cell_type": "code",
   "execution_count": null,
   "metadata": {},
   "outputs": [],
   "source": []
  }
 ],
 "metadata": {
  "kernelspec": {
   "display_name": "Python 3",
   "language": "python",
   "name": "python3"
  },
  "language_info": {
   "codemirror_mode": {
    "name": "ipython",
    "version": 3
   },
   "file_extension": ".py",
   "mimetype": "text/x-python",
   "name": "python",
   "nbconvert_exporter": "python",
   "pygments_lexer": "ipython3",
   "version": "3.7.3"
  }
 },
 "nbformat": 4,
 "nbformat_minor": 2
}
