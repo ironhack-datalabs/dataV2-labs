{
 "cells": [
  {
   "cell_type": "markdown",
   "metadata": {},
   "source": [
    "# Before your start:\n",
    "- Read the README.md file\n",
    "- Comment as much as you can and use the resources in the README.md file\n",
    "- Happy learning!"
   ]
  },
  {
   "cell_type": "code",
   "execution_count": 69,
   "metadata": {},
   "outputs": [],
   "source": [
    "import re"
   ]
  },
  {
   "cell_type": "markdown",
   "metadata": {},
   "source": [
    "# Challenge 1 - Combining Strings\n",
    "\n",
    "Combining strings is an important skill to acquire. There are multiple ways of combining strings in Python, as well as combining strings with variables. We will explore this in the first challenge. In the cell below, combine the strings in the list and add spaces between the strings (do not add a space after the last string). Insert a period after the last string."
   ]
  },
  {
   "cell_type": "code",
   "execution_count": 57,
   "metadata": {},
   "outputs": [
    {
     "data": {
      "text/plain": [
       "'Durante un tiempo no estuvo segura de si su marido era su marido.'"
      ]
     },
     "execution_count": 57,
     "metadata": {},
     "output_type": "execute_result"
    }
   ],
   "source": [
    "str_list = ['Durante', 'un', 'tiempo', 'no', 'estuvo', 'segura', 'de', 'si', 'su', 'marido', 'era', 'su', 'marido']\n",
    "# Your code here:\n",
    "del str_list[-1]\n",
    "str_list.append('marido.')\n",
    "' '.join(str_list) "
   ]
  },
  {
   "cell_type": "markdown",
   "metadata": {},
   "source": [
    "In the cell below, use the list of strings to create a grocery list. Start the list with the string `Grocery list: ` and include a comma and a space between each item except for the last one. Include a period at the end. Only include foods in the list that start with the letter 'b' and ensure all foods are lower case."
   ]
  },
  {
   "cell_type": "code",
   "execution_count": 26,
   "metadata": {},
   "outputs": [
    {
     "name": "stdout",
     "output_type": "stream",
     "text": [
      "['bananas', 'chocolate', 'bread', 'diapers', 'ice cream', 'brownie mix', 'broccoli']\n",
      "bananas chocolate bread diapers ice cream brownie mix broccoli\n",
      "['bananas', 'bread', 'brownie mix', 'broccoli']\n",
      "Grocery list: bananas, bread, brownie mix, broccoli.\n"
     ]
    }
   ],
   "source": [
    "#the last line is the necessary print out. The other print lines were just for me to show my progress\n",
    "\n",
    "food_list = ['Bananas', 'Chocolate', 'bread', 'diapers', 'Ice Cream', 'Brownie Mix', 'broccoli']\n",
    "# Your code here:\n",
    "#Grocery list: bananas, bread, brownie mix, broccoli.\n",
    "\n",
    "#turn all letters in lower case\n",
    "lowercase_food_list = [x.lower() for x in ['Bananas', 'Chocolate', 'bread', 'diapers', 'Ice Cream', 'Brownie Mix', 'broccoli']]\n",
    "print(lowercase_food_list)\n",
    "#list as a string\n",
    "shortened_lowercase_food_list = ' '.join(lowercase_food_list)\n",
    "print(shortened_lowercase_food_list)\n",
    "#only those with b - findall can be used here, as only place where b occurs is at the beginning of the words\n",
    "print( list(filter(lambda x: x.lower().startswith(\"b\"), lowercase_food_list)) ) #retrieved from: https://stackoverflow.com/questions/51573309/print-words-starts-from-a-particular-letter-in-python\n",
    "final_food_list = list(filter(lambda x: x.lower().startswith(\"b\"), lowercase_food_list))\n",
    "final2_food_list = ', '.join(final_food_list)+\".\"\n",
    "\"\"\"\n",
    "had to use the list \"lowercase \n",
    "food list\" here because \"shortened_lowercase_food_list is a string\n",
    "\"\"\"\n",
    "\n",
    "print(\"Grocery list:\", final2_food_list) "
   ]
  },
  {
   "cell_type": "markdown",
   "metadata": {},
   "source": [
    "In the cell below, write a function that computes the area of a circle using its radius. Compute the area of the circle and insert the radius and the area between the two strings. Make sure to include spaces between the variable and the strings. \n",
    "\n",
    "Note: You can use the techniques we have learned so far or use f-strings. F-strings allow us to embed code inside strings. You can read more about f-strings [here](https://www.python.org/dev/peps/pep-0498/)."
   ]
  },
  {
   "cell_type": "code",
   "execution_count": 58,
   "metadata": {},
   "outputs": [
    {
     "name": "stdout",
     "output_type": "stream",
     "text": [
      "The area of the circle with radius: 4.5 is: 63.6\n"
     ]
    }
   ],
   "source": [
    "import math\n",
    "\n",
    "string1 = \"The area of the circle with radius:\"\n",
    "string2  = \"is:\"\n",
    "radius = 4.5\n",
    "\n",
    "def area(radius):\n",
    "    \"\"\"\n",
    "    This function takes a radius and returns the area of a circle. \n",
    "    We also pass a default value for pi.\n",
    "    \n",
    "    Input: Float (and default value for pi)\n",
    "    Output: Float\n",
    "    \n",
    "    Sample input: 5.0\n",
    "    Sample Output: 78.53981633\n",
    "    \"\"\"\n",
    "    \n",
    "    # Your code here:\n",
    "    ar = math.pi * (radius**2) \n",
    "    return ar\n",
    "    \n",
    "# Your output string here:\n",
    "print(string1, radius, string2, round(area(radius),1))"
   ]
  },
  {
   "cell_type": "markdown",
   "metadata": {},
   "source": [
    "# Challenge 2 - Splitting Strings\n",
    "\n",
    "We have first looked at combining strings into one long string. There are times where we need to do the opposite and split the string into smaller components for further analysis. \n",
    "\n",
    "In the cell below, split the string into a list of strings using the space delimiter. Count the frequency of each word in the string in a dictionary. Strip the periods, line breaks and commas from the text. Make sure to remove empty strings from your dictionary."
   ]
  },
  {
   "cell_type": "code",
   "execution_count": 135,
   "metadata": {},
   "outputs": [
    {
     "name": "stdout",
     "output_type": "stream",
     "text": [
      "some say the world will end in fire some say in ice from what i’ve tasted of desire i hold with those who favor fire but if it had to perish twice i think i know enough of hate to say that for destruction ice is also great and would suffice\n"
     ]
    },
    {
     "ename": "TypeError",
     "evalue": "'dict' object is not callable",
     "output_type": "error",
     "traceback": [
      "\u001b[0;31m---------------------------------------------------------------------------\u001b[0m",
      "\u001b[0;31mTypeError\u001b[0m                                 Traceback (most recent call last)",
      "\u001b[0;32m<ipython-input-135-695b543dfc07>\u001b[0m in \u001b[0;36m<module>\u001b[0;34m\u001b[0m\n\u001b[1;32m     32\u001b[0m             \u001b[0mcounts\u001b[0m\u001b[0;34m[\u001b[0m\u001b[0mword\u001b[0m\u001b[0;34m]\u001b[0m \u001b[0;34m=\u001b[0m \u001b[0;36m1\u001b[0m\u001b[0;34m\u001b[0m\u001b[0;34m\u001b[0m\u001b[0m\n\u001b[1;32m     33\u001b[0m     \u001b[0;32mreturn\u001b[0m \u001b[0mcounts\u001b[0m\u001b[0;34m\u001b[0m\u001b[0;34m\u001b[0m\u001b[0m\n\u001b[0;32m---> 34\u001b[0;31m \u001b[0mprint\u001b[0m\u001b[0;34m(\u001b[0m\u001b[0mword_count\u001b[0m\u001b[0;34m(\u001b[0m\u001b[0mpoem5\u001b[0m\u001b[0;34m)\u001b[0m\u001b[0;34m)\u001b[0m\u001b[0;34m\u001b[0m\u001b[0;34m\u001b[0m\u001b[0m\n\u001b[0m",
      "\u001b[0;32m<ipython-input-135-695b543dfc07>\u001b[0m in \u001b[0;36mword_count\u001b[0;34m(str)\u001b[0m\n\u001b[1;32m     24\u001b[0m \u001b[0;34m\u001b[0m\u001b[0m\n\u001b[1;32m     25\u001b[0m \u001b[0;32mdef\u001b[0m \u001b[0mword_count\u001b[0m\u001b[0;34m(\u001b[0m\u001b[0mstr\u001b[0m\u001b[0;34m)\u001b[0m\u001b[0;34m:\u001b[0m\u001b[0;34m\u001b[0m\u001b[0;34m\u001b[0m\u001b[0m\n\u001b[0;32m---> 26\u001b[0;31m     \u001b[0mcounts\u001b[0m \u001b[0;34m=\u001b[0m \u001b[0mdict\u001b[0m\u001b[0;34m(\u001b[0m\u001b[0;34m)\u001b[0m\u001b[0;34m\u001b[0m\u001b[0;34m\u001b[0m\u001b[0m\n\u001b[0m\u001b[1;32m     27\u001b[0m     \u001b[0mwords\u001b[0m \u001b[0;34m=\u001b[0m \u001b[0mstr\u001b[0m\u001b[0;34m.\u001b[0m\u001b[0msplit\u001b[0m\u001b[0;34m(\u001b[0m\u001b[0;34m)\u001b[0m\u001b[0;34m\u001b[0m\u001b[0;34m\u001b[0m\u001b[0m\n\u001b[1;32m     28\u001b[0m     \u001b[0;32mfor\u001b[0m \u001b[0mword\u001b[0m \u001b[0;32min\u001b[0m \u001b[0mwords\u001b[0m\u001b[0;34m:\u001b[0m\u001b[0;34m\u001b[0m\u001b[0;34m\u001b[0m\u001b[0m\n",
      "\u001b[0;31mTypeError\u001b[0m: 'dict' object is not callable"
     ]
    }
   ],
   "source": [
    "#somehow I don't get to the solution even thoguh my code is very similair to that of classmates who get to the...\n",
    "#...correct solution. Do you know why this is the case?\n",
    "\n",
    "poem = \"\"\"Some say the world will end in fire,\n",
    "Some say in ice.\n",
    "From what I’ve tasted of desire\n",
    "I hold with those who favor fire.\n",
    "But if it had to perish twice,\n",
    "I think I know enough of hate\n",
    "To say that for destruction ice\n",
    "Is also great\n",
    "And would suffice.\"\"\"\n",
    "\n",
    "# Your code here:\n",
    "\n",
    "#splitting the string at every \"newline character\" --> seems as if both works (though differently)\n",
    "print(poem.split(\"keepends\")) \n",
    "print(poem.split(\"\"\"\n",
    "\"\"\"))\n",
    "\n",
    "poem2=poem.replace(\",\",\"\")\n",
    "poem3=poem2.replace(\".\",\"\")\n",
    "poem4=poem3.replace(\"\\n\",\" \")\n",
    "poem5=poem4.lower()\n",
    "print(poem5)\n",
    "\n",
    "#poem5=poem.replace(\".\",\"\").replace(\",\",\"\")\n",
    "\n",
    "def word_count(str):\n",
    "    counts = dict()\n",
    "    words = str.split()\n",
    "    for word in words:\n",
    "        if word in counts:\n",
    "            counts[word] += 1\n",
    "        else:\n",
    "            counts[word] = 1\n",
    "    return counts\n",
    "print(word_count(poem5))"
   ]
  },
  {
   "cell_type": "code",
   "execution_count": 106,
   "metadata": {},
   "outputs": [
    {
     "ename": "IndentationError",
     "evalue": "unexpected indent (<ipython-input-106-a0d138922588>, line 4)",
     "output_type": "error",
     "traceback": [
      "\u001b[0;36m  File \u001b[0;32m\"<ipython-input-106-a0d138922588>\"\u001b[0;36m, line \u001b[0;32m4\u001b[0m\n\u001b[0;31m    print( word_count(\"\"\"Some say the world will end in fire,\u001b[0m\n\u001b[0m    ^\u001b[0m\n\u001b[0;31mIndentationError\u001b[0m\u001b[0;31m:\u001b[0m unexpected indent\n"
     ]
    }
   ],
   "source": [
    "#old code that didn't help\n",
    "\n",
    "#___________________________________________________________________________________________________\n",
    "    \n",
    "\"\"\"   \n",
    "    print( word_count(\"\"Some say the world will end in fire,\n",
    "Some say in ice.\n",
    "From what I’ve tasted of desire\n",
    "I hold with those who favor fire.\n",
    "But if it had to perish twice,\n",
    "I think I know enough of hate\n",
    "To say that for destruction ice\n",
    "Is also great\n",
    "And would suffice.\"\"))\n",
    "    \n",
    "  \n",
    "    \n",
    "    \n",
    "    from collections import Counter\n",
    "\n",
    "counter = Counter()\n",
    "with open('test_readme.txt') as f:\n",
    "    for line in f:\n",
    "        counter += Counter(line.split())\n",
    "    \n",
    "    \n",
    "    \n",
    "import re\n",
    "wordfreq = {}\n",
    "with open('file') as f:\n",
    "    for line in f:\n",
    "        for word in re.findall(r'[\\w]+', line.lower()):\n",
    "            wordfreq[word] = wordfreq.setdefault(word, 0) + 1\n",
    "\n",
    "print wordfreq\n",
    "\n",
    "\n",
    "#___________________________________________________________________________________________________\n",
    "\n",
    "import sys\n",
    "\n",
    "filename = sys.argv[1]\n",
    "fp = open(filename)\n",
    "data = fp.read()\n",
    "words = data.split()\n",
    "fp.close()\n",
    "\n",
    "unwanted_chars = \".,-_ (and so on)\"\n",
    "wordfreq = {}\n",
    "for raw_word in words:\n",
    "    word = raw_word.strip(unwanted_chars)\n",
    "    if word not in wordfreq:\n",
    "        wordfreq[word] = 0 \n",
    "    wordfreq[word] += 1\n",
    "\n",
    "\n",
    "#dictionary of words\n",
    "#dict={}\n",
    "#convert list into a set \n",
    "#dict.append(new word, count(new word))\n",
    "\n",
    "\n",
    "\"\"\""
   ]
  },
  {
   "cell_type": "markdown",
   "metadata": {},
   "source": [
    "In the cell below, find all the words that appear in the text and do not appear in the blacklist. You must parse the string but can choose any data structure you wish for the words that do not appear in the blacklist. Remove all non letter characters and convert all words to lower case."
   ]
  },
  {
   "cell_type": "code",
   "execution_count": 59,
   "metadata": {},
   "outputs": [
    {
     "name": "stdout",
     "output_type": "stream",
     "text": [
      "i was angry with my friend;  i told my wrath my wrath did end i was angry with my foe  i told it not my wrath did grow   and i waterd it in fears night morning with my tears  and i sunned it with smiles and with soft deceitful wiles   and it grew both day and night  till it bore an apple bright  and my foe beheld it shine and he knew that it was mine   and into my garden stole  when the night had veild the pole;  in the morning glad i see;  my foe outstretched beneath the tree\n",
      "i, was, angry, with, my, friend;, , i, told, my, wrath, my, wrath, did, end, i, was, angry, with, my, foe, , i, told, it, not, my, wrath, did, grow, , , and, i, waterd, it, in, fears, night, morning, with, my, tears, , and, i, sunned, it, with, smiles, and, with, soft, deceitful, wiles, , , and, it, grew, both, day, and, night, , till, it, bore, an, apple, bright, , and, my, foe, beheld, it, shine, and, he, knew, that, it, was, mine, , , and, into, my, garden, stole, , when, the, night, had, veild, the, pole;, , in, the, morning, glad, i, see;, , my, foe, outstretched, beneath, the, tree\n",
      "['i', 'was', 'angry', 'with', 'my', 'friend;', '', 'i', 'told', 'my', 'wrath', 'my', 'wrath', 'did', 'end', 'i', 'was', 'angry', 'with', 'my', 'foe', '', 'i', 'told', 'it', 'not', 'my', 'wrath', 'did', 'grow', '', '', 'and', 'i', 'waterd', 'it', 'in', 'fears', 'night', 'morning', 'with', 'my', 'tears', '', 'and', 'i', 'sunned', 'it', 'with', 'smiles', 'and', 'with', 'soft', 'deceitful', 'wiles', '', '', 'and', 'it', 'grew', 'both', 'day', 'and', 'night', '', 'till', 'it', 'bore', 'an', 'apple', 'bright', '', 'and', 'my', 'foe', 'beheld', 'it', 'shine', 'and', 'he', 'knew', 'that', 'it', 'was', 'mine', '', '', 'and', 'into', 'my', 'garden', 'stole', '', 'when', 'the', 'night', 'had', 'veild', 'the', 'pole;', '', 'in', 'the', 'morning', 'glad', 'i', 'see;', '', 'my', 'foe', 'outstretched', 'beneath', 'the', 'tree']\n"
     ]
    }
   ],
   "source": [
    "#had my issues with this task\n",
    "blacklist = ['and', 'as', 'an', 'a', 'the', 'in', 'it']\n",
    "\n",
    "poem = \"\"\"I was angry with my friend; \n",
    "I told my wrath, my wrath did end.\n",
    "I was angry with my foe: \n",
    "I told it not, my wrath did grow. \n",
    "\n",
    "And I waterd it in fears,\n",
    "Night & morning with my tears: \n",
    "And I sunned it with smiles,\n",
    "And with soft deceitful wiles. \n",
    "\n",
    "And it grew both day and night. \n",
    "Till it bore an apple bright. \n",
    "And my foe beheld it shine,\n",
    "And he knew that it was mine. \n",
    "\n",
    "And into my garden stole, \n",
    "When the night had veild the pole; \n",
    "In the morning glad I see; \n",
    "My foe outstretched beneath the tree.\"\"\"\n",
    "\n",
    "# Your code here:\n",
    "poem2=poem.replace(\",\",\"\")\n",
    "poem3=poem2.replace(\".\",\"\")\n",
    "poem4=poem3.replace(\"\\n\",\" \")\n",
    "poem5=poem4.lower()\n",
    "poem6=poem5.replace(\":\",\"\")\n",
    "poem7=poem6.replace(\"& \",\"\")\n",
    "print(poem7)\n",
    "print(poem7.replace(\" \",\", \"))\n",
    "list(poem7.replace(\" \",\", \"))\n",
    "\n",
    "#convert string into list. retrieved from https://www.geeksforgeeks.org/python-program-convert-string-list/\n",
    "def Convert(string): \n",
    "    li = list(string.split(\" \")) \n",
    "    return li     \n",
    "print(Convert(poem7))\n",
    "poem7_list=Convert(poem7)\n",
    "\n",
    "import re\n",
    "blacklist = re.compile('|'.join([re.escape(word) for word in blacklist]))\n",
    "C = [word for word in poem7_list if not blacklist.search(word)]"
   ]
  },
  {
   "cell_type": "markdown",
   "metadata": {},
   "source": [
    "# Challenge 3 - Regular Expressions\n",
    "\n",
    "Sometimes, we would like to perform more complex manipulations of our string. This is where regular expressions come in handy. In the cell below, return all characters that are upper case from the string specified below."
   ]
  },
  {
   "cell_type": "code",
   "execution_count": 46,
   "metadata": {},
   "outputs": [
    {
     "data": {
      "text/plain": [
       "'TP'"
      ]
     },
     "execution_count": 46,
     "metadata": {},
     "output_type": "execute_result"
    }
   ],
   "source": [
    "poem = \"\"\"The apparition of these faces in the crowd;\n",
    "Petals on a wet, black bough.\"\"\"\n",
    "\n",
    "# Your code here:\n",
    "''.join([c for c in poem if c.isupper()]) # similarly retrieved from: https://stackoverflow.com/questions/15886340/how-to-extract-all-upper-from-a-string-python"
   ]
  },
  {
   "cell_type": "markdown",
   "metadata": {},
   "source": [
    "In the cell below, filter the list provided and return all elements of the list containing a number. To filter the list, use the `re.search` function. Check if the function does not return `None`. You can read more about the `re.search` function [here](https://docs.python.org/3/library/re.html)."
   ]
  },
  {
   "cell_type": "code",
   "execution_count": 45,
   "metadata": {},
   "outputs": [
    {
     "name": "stdout",
     "output_type": "stream",
     "text": [
      "Print list as a string: 123abcabc123JohnSmith1ABBY4JANE\n",
      "['123', '123', '1', '4']\n",
      "12312314\n"
     ]
    }
   ],
   "source": [
    "data = ['123abc', 'abc123', 'JohnSmith1', 'ABBY4', 'JANE']\n",
    "str1 = ''.join(data)\n",
    "\n",
    "\n",
    "# Your code here:\n",
    "#print list as a string\n",
    "print(\"Print list as a string:\",str1)\n",
    "\n",
    "import re\n",
    "\n",
    "#filter numbers from the string\n",
    "number_list = re.findall('[0-9]+', str1)\n",
    "print(number_list)\n",
    "\n",
    "#print filtered list as a string\n",
    "number_string = ''.join(number_list)\n",
    "print(number_string)"
   ]
  },
  {
   "cell_type": "markdown",
   "metadata": {},
   "source": [
    "# Bonus Challenge - Regular Expressions II\n",
    "\n",
    "In the cell below, filter the list provided to keep only strings containing at least one digit and at least one lower case letter. As in the previous question, use the `re.search` function and check that the result is not `None`.\n",
    "\n",
    "To read more about regular expressions, check out [this link](https://developers.google.com/edu/python/regular-expressions)."
   ]
  },
  {
   "cell_type": "code",
   "execution_count": null,
   "metadata": {},
   "outputs": [],
   "source": [
    "data = ['123abc', 'abc123', 'JohnSmith1', 'ABBY4', 'JANE']\n",
    "# Your code here:\n"
   ]
  }
 ],
 "metadata": {
  "kernelspec": {
   "display_name": "Python 3",
   "language": "python",
   "name": "python3"
  },
  "language_info": {
   "codemirror_mode": {
    "name": "ipython",
    "version": 3
   },
   "file_extension": ".py",
   "mimetype": "text/x-python",
   "name": "python",
   "nbconvert_exporter": "python",
   "pygments_lexer": "ipython3",
   "version": "3.7.6"
  }
 },
 "nbformat": 4,
 "nbformat_minor": 2
}
