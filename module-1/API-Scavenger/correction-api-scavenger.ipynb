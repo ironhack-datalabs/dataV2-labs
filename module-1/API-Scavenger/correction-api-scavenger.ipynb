{
 "cells": [
  {
   "cell_type": "markdown",
   "metadata": {},
   "source": [
    "# Challenge 1: Fork Languages\n",
    "\n",
    "You will find out how many programming languages are used among all the forks created from the main lab repo of your bootcamp. Assuming the main lab repo is ironhack-datalabs/madrid-oct-2018, you will:"
   ]
  },
  {
   "cell_type": "code",
   "execution_count": 1,
   "metadata": {},
   "outputs": [],
   "source": [
    "import json;\n",
    "import requests;\n",
    "from pandas.io.json import json_normalize;"
   ]
  },
  {
   "cell_type": "markdown",
   "metadata": {},
   "source": [
    "\n",
    "### 1. Obtain the full list of forks created from the main lab repo via Github API.\n",
    "To list forks, we can use the GET method. As explained in the GitHub API documentation, we need to make the request to: GET /repos/:owner/:repo/forks."
   ]
  },
  {
   "cell_type": "code",
   "execution_count": 2,
   "metadata": {},
   "outputs": [],
   "source": [
    "response = requests.get('https://api.github.com/repos/ironhack-datalabs/mad-oct-2018/forks');\n",
    "data = response.json();"
   ]
  },
  {
   "cell_type": "markdown",
   "metadata": {},
   "source": [
    "In order to work with a dataframe:"
   ]
  },
  {
   "cell_type": "code",
   "execution_count": 3,
   "metadata": {},
   "outputs": [
    {
     "data": {
      "text/html": [
       "<div>\n",
       "<style scoped>\n",
       "    .dataframe tbody tr th:only-of-type {\n",
       "        vertical-align: middle;\n",
       "    }\n",
       "\n",
       "    .dataframe tbody tr th {\n",
       "        vertical-align: top;\n",
       "    }\n",
       "\n",
       "    .dataframe thead th {\n",
       "        text-align: right;\n",
       "    }\n",
       "</style>\n",
       "<table border=\"1\" class=\"dataframe\">\n",
       "  <thead>\n",
       "    <tr style=\"text-align: right;\">\n",
       "      <th></th>\n",
       "      <th>archive_url</th>\n",
       "      <th>archived</th>\n",
       "      <th>assignees_url</th>\n",
       "      <th>blobs_url</th>\n",
       "      <th>branches_url</th>\n",
       "      <th>clone_url</th>\n",
       "      <th>collaborators_url</th>\n",
       "      <th>comments_url</th>\n",
       "      <th>commits_url</th>\n",
       "      <th>compare_url</th>\n",
       "      <th>...</th>\n",
       "      <th>subscribers_url</th>\n",
       "      <th>subscription_url</th>\n",
       "      <th>svn_url</th>\n",
       "      <th>tags_url</th>\n",
       "      <th>teams_url</th>\n",
       "      <th>trees_url</th>\n",
       "      <th>updated_at</th>\n",
       "      <th>url</th>\n",
       "      <th>watchers</th>\n",
       "      <th>watchers_count</th>\n",
       "    </tr>\n",
       "  </thead>\n",
       "  <tbody>\n",
       "    <tr>\n",
       "      <th>0</th>\n",
       "      <td>https://api.github.com/repos/lmartinezruizit/d...</td>\n",
       "      <td>False</td>\n",
       "      <td>https://api.github.com/repos/lmartinezruizit/d...</td>\n",
       "      <td>https://api.github.com/repos/lmartinezruizit/d...</td>\n",
       "      <td>https://api.github.com/repos/lmartinezruizit/d...</td>\n",
       "      <td>https://github.com/lmartinezruizit/datamad0119...</td>\n",
       "      <td>https://api.github.com/repos/lmartinezruizit/d...</td>\n",
       "      <td>https://api.github.com/repos/lmartinezruizit/d...</td>\n",
       "      <td>https://api.github.com/repos/lmartinezruizit/d...</td>\n",
       "      <td>https://api.github.com/repos/lmartinezruizit/d...</td>\n",
       "      <td>...</td>\n",
       "      <td>https://api.github.com/repos/lmartinezruizit/d...</td>\n",
       "      <td>https://api.github.com/repos/lmartinezruizit/d...</td>\n",
       "      <td>https://github.com/lmartinezruizit/datamad0119</td>\n",
       "      <td>https://api.github.com/repos/lmartinezruizit/d...</td>\n",
       "      <td>https://api.github.com/repos/lmartinezruizit/d...</td>\n",
       "      <td>https://api.github.com/repos/lmartinezruizit/d...</td>\n",
       "      <td>2019-01-22T13:42:33Z</td>\n",
       "      <td>https://api.github.com/repos/lmartinezruizit/d...</td>\n",
       "      <td>0</td>\n",
       "      <td>0</td>\n",
       "    </tr>\n",
       "    <tr>\n",
       "      <th>1</th>\n",
       "      <td>https://api.github.com/repos/eye8/madrid-oct-2...</td>\n",
       "      <td>False</td>\n",
       "      <td>https://api.github.com/repos/eye8/madrid-oct-2...</td>\n",
       "      <td>https://api.github.com/repos/eye8/madrid-oct-2...</td>\n",
       "      <td>https://api.github.com/repos/eye8/madrid-oct-2...</td>\n",
       "      <td>https://github.com/eye8/madrid-oct-2018.git</td>\n",
       "      <td>https://api.github.com/repos/eye8/madrid-oct-2...</td>\n",
       "      <td>https://api.github.com/repos/eye8/madrid-oct-2...</td>\n",
       "      <td>https://api.github.com/repos/eye8/madrid-oct-2...</td>\n",
       "      <td>https://api.github.com/repos/eye8/madrid-oct-2...</td>\n",
       "      <td>...</td>\n",
       "      <td>https://api.github.com/repos/eye8/madrid-oct-2...</td>\n",
       "      <td>https://api.github.com/repos/eye8/madrid-oct-2...</td>\n",
       "      <td>https://github.com/eye8/madrid-oct-2018</td>\n",
       "      <td>https://api.github.com/repos/eye8/madrid-oct-2...</td>\n",
       "      <td>https://api.github.com/repos/eye8/madrid-oct-2...</td>\n",
       "      <td>https://api.github.com/repos/eye8/madrid-oct-2...</td>\n",
       "      <td>2018-12-19T22:40:32Z</td>\n",
       "      <td>https://api.github.com/repos/eye8/madrid-oct-2018</td>\n",
       "      <td>0</td>\n",
       "      <td>0</td>\n",
       "    </tr>\n",
       "    <tr>\n",
       "      <th>2</th>\n",
       "      <td>https://api.github.com/repos/ArieHassan/madrid...</td>\n",
       "      <td>False</td>\n",
       "      <td>https://api.github.com/repos/ArieHassan/madrid...</td>\n",
       "      <td>https://api.github.com/repos/ArieHassan/madrid...</td>\n",
       "      <td>https://api.github.com/repos/ArieHassan/madrid...</td>\n",
       "      <td>https://github.com/ArieHassan/madrid-oct-2018.git</td>\n",
       "      <td>https://api.github.com/repos/ArieHassan/madrid...</td>\n",
       "      <td>https://api.github.com/repos/ArieHassan/madrid...</td>\n",
       "      <td>https://api.github.com/repos/ArieHassan/madrid...</td>\n",
       "      <td>https://api.github.com/repos/ArieHassan/madrid...</td>\n",
       "      <td>...</td>\n",
       "      <td>https://api.github.com/repos/ArieHassan/madrid...</td>\n",
       "      <td>https://api.github.com/repos/ArieHassan/madrid...</td>\n",
       "      <td>https://github.com/ArieHassan/madrid-oct-2018</td>\n",
       "      <td>https://api.github.com/repos/ArieHassan/madrid...</td>\n",
       "      <td>https://api.github.com/repos/ArieHassan/madrid...</td>\n",
       "      <td>https://api.github.com/repos/ArieHassan/madrid...</td>\n",
       "      <td>2018-10-31T11:39:38Z</td>\n",
       "      <td>https://api.github.com/repos/ArieHassan/madrid...</td>\n",
       "      <td>0</td>\n",
       "      <td>0</td>\n",
       "    </tr>\n",
       "    <tr>\n",
       "      <th>3</th>\n",
       "      <td>https://api.github.com/repos/cmvalma/madrid-oc...</td>\n",
       "      <td>False</td>\n",
       "      <td>https://api.github.com/repos/cmvalma/madrid-oc...</td>\n",
       "      <td>https://api.github.com/repos/cmvalma/madrid-oc...</td>\n",
       "      <td>https://api.github.com/repos/cmvalma/madrid-oc...</td>\n",
       "      <td>https://github.com/cmvalma/madrid-oct-2018.git</td>\n",
       "      <td>https://api.github.com/repos/cmvalma/madrid-oc...</td>\n",
       "      <td>https://api.github.com/repos/cmvalma/madrid-oc...</td>\n",
       "      <td>https://api.github.com/repos/cmvalma/madrid-oc...</td>\n",
       "      <td>https://api.github.com/repos/cmvalma/madrid-oc...</td>\n",
       "      <td>...</td>\n",
       "      <td>https://api.github.com/repos/cmvalma/madrid-oc...</td>\n",
       "      <td>https://api.github.com/repos/cmvalma/madrid-oc...</td>\n",
       "      <td>https://github.com/cmvalma/madrid-oct-2018</td>\n",
       "      <td>https://api.github.com/repos/cmvalma/madrid-oc...</td>\n",
       "      <td>https://api.github.com/repos/cmvalma/madrid-oc...</td>\n",
       "      <td>https://api.github.com/repos/cmvalma/madrid-oc...</td>\n",
       "      <td>2018-12-20T15:41:12Z</td>\n",
       "      <td>https://api.github.com/repos/cmvalma/madrid-oc...</td>\n",
       "      <td>0</td>\n",
       "      <td>0</td>\n",
       "    </tr>\n",
       "    <tr>\n",
       "      <th>4</th>\n",
       "      <td>https://api.github.com/repos/criraca/madrid-oc...</td>\n",
       "      <td>False</td>\n",
       "      <td>https://api.github.com/repos/criraca/madrid-oc...</td>\n",
       "      <td>https://api.github.com/repos/criraca/madrid-oc...</td>\n",
       "      <td>https://api.github.com/repos/criraca/madrid-oc...</td>\n",
       "      <td>https://github.com/criraca/madrid-oct-2018.git</td>\n",
       "      <td>https://api.github.com/repos/criraca/madrid-oc...</td>\n",
       "      <td>https://api.github.com/repos/criraca/madrid-oc...</td>\n",
       "      <td>https://api.github.com/repos/criraca/madrid-oc...</td>\n",
       "      <td>https://api.github.com/repos/criraca/madrid-oc...</td>\n",
       "      <td>...</td>\n",
       "      <td>https://api.github.com/repos/criraca/madrid-oc...</td>\n",
       "      <td>https://api.github.com/repos/criraca/madrid-oc...</td>\n",
       "      <td>https://github.com/criraca/madrid-oct-2018</td>\n",
       "      <td>https://api.github.com/repos/criraca/madrid-oc...</td>\n",
       "      <td>https://api.github.com/repos/criraca/madrid-oc...</td>\n",
       "      <td>https://api.github.com/repos/criraca/madrid-oc...</td>\n",
       "      <td>2018-12-05T14:18:02Z</td>\n",
       "      <td>https://api.github.com/repos/criraca/madrid-oc...</td>\n",
       "      <td>0</td>\n",
       "      <td>0</td>\n",
       "    </tr>\n",
       "  </tbody>\n",
       "</table>\n",
       "<p>5 rows × 94 columns</p>\n",
       "</div>"
      ],
      "text/plain": [
       "                                         archive_url  archived  \\\n",
       "0  https://api.github.com/repos/lmartinezruizit/d...     False   \n",
       "1  https://api.github.com/repos/eye8/madrid-oct-2...     False   \n",
       "2  https://api.github.com/repos/ArieHassan/madrid...     False   \n",
       "3  https://api.github.com/repos/cmvalma/madrid-oc...     False   \n",
       "4  https://api.github.com/repos/criraca/madrid-oc...     False   \n",
       "\n",
       "                                       assignees_url  \\\n",
       "0  https://api.github.com/repos/lmartinezruizit/d...   \n",
       "1  https://api.github.com/repos/eye8/madrid-oct-2...   \n",
       "2  https://api.github.com/repos/ArieHassan/madrid...   \n",
       "3  https://api.github.com/repos/cmvalma/madrid-oc...   \n",
       "4  https://api.github.com/repos/criraca/madrid-oc...   \n",
       "\n",
       "                                           blobs_url  \\\n",
       "0  https://api.github.com/repos/lmartinezruizit/d...   \n",
       "1  https://api.github.com/repos/eye8/madrid-oct-2...   \n",
       "2  https://api.github.com/repos/ArieHassan/madrid...   \n",
       "3  https://api.github.com/repos/cmvalma/madrid-oc...   \n",
       "4  https://api.github.com/repos/criraca/madrid-oc...   \n",
       "\n",
       "                                        branches_url  \\\n",
       "0  https://api.github.com/repos/lmartinezruizit/d...   \n",
       "1  https://api.github.com/repos/eye8/madrid-oct-2...   \n",
       "2  https://api.github.com/repos/ArieHassan/madrid...   \n",
       "3  https://api.github.com/repos/cmvalma/madrid-oc...   \n",
       "4  https://api.github.com/repos/criraca/madrid-oc...   \n",
       "\n",
       "                                           clone_url  \\\n",
       "0  https://github.com/lmartinezruizit/datamad0119...   \n",
       "1        https://github.com/eye8/madrid-oct-2018.git   \n",
       "2  https://github.com/ArieHassan/madrid-oct-2018.git   \n",
       "3     https://github.com/cmvalma/madrid-oct-2018.git   \n",
       "4     https://github.com/criraca/madrid-oct-2018.git   \n",
       "\n",
       "                                   collaborators_url  \\\n",
       "0  https://api.github.com/repos/lmartinezruizit/d...   \n",
       "1  https://api.github.com/repos/eye8/madrid-oct-2...   \n",
       "2  https://api.github.com/repos/ArieHassan/madrid...   \n",
       "3  https://api.github.com/repos/cmvalma/madrid-oc...   \n",
       "4  https://api.github.com/repos/criraca/madrid-oc...   \n",
       "\n",
       "                                        comments_url  \\\n",
       "0  https://api.github.com/repos/lmartinezruizit/d...   \n",
       "1  https://api.github.com/repos/eye8/madrid-oct-2...   \n",
       "2  https://api.github.com/repos/ArieHassan/madrid...   \n",
       "3  https://api.github.com/repos/cmvalma/madrid-oc...   \n",
       "4  https://api.github.com/repos/criraca/madrid-oc...   \n",
       "\n",
       "                                         commits_url  \\\n",
       "0  https://api.github.com/repos/lmartinezruizit/d...   \n",
       "1  https://api.github.com/repos/eye8/madrid-oct-2...   \n",
       "2  https://api.github.com/repos/ArieHassan/madrid...   \n",
       "3  https://api.github.com/repos/cmvalma/madrid-oc...   \n",
       "4  https://api.github.com/repos/criraca/madrid-oc...   \n",
       "\n",
       "                                         compare_url       ...        \\\n",
       "0  https://api.github.com/repos/lmartinezruizit/d...       ...         \n",
       "1  https://api.github.com/repos/eye8/madrid-oct-2...       ...         \n",
       "2  https://api.github.com/repos/ArieHassan/madrid...       ...         \n",
       "3  https://api.github.com/repos/cmvalma/madrid-oc...       ...         \n",
       "4  https://api.github.com/repos/criraca/madrid-oc...       ...         \n",
       "\n",
       "                                     subscribers_url  \\\n",
       "0  https://api.github.com/repos/lmartinezruizit/d...   \n",
       "1  https://api.github.com/repos/eye8/madrid-oct-2...   \n",
       "2  https://api.github.com/repos/ArieHassan/madrid...   \n",
       "3  https://api.github.com/repos/cmvalma/madrid-oc...   \n",
       "4  https://api.github.com/repos/criraca/madrid-oc...   \n",
       "\n",
       "                                    subscription_url  \\\n",
       "0  https://api.github.com/repos/lmartinezruizit/d...   \n",
       "1  https://api.github.com/repos/eye8/madrid-oct-2...   \n",
       "2  https://api.github.com/repos/ArieHassan/madrid...   \n",
       "3  https://api.github.com/repos/cmvalma/madrid-oc...   \n",
       "4  https://api.github.com/repos/criraca/madrid-oc...   \n",
       "\n",
       "                                          svn_url  \\\n",
       "0  https://github.com/lmartinezruizit/datamad0119   \n",
       "1         https://github.com/eye8/madrid-oct-2018   \n",
       "2   https://github.com/ArieHassan/madrid-oct-2018   \n",
       "3      https://github.com/cmvalma/madrid-oct-2018   \n",
       "4      https://github.com/criraca/madrid-oct-2018   \n",
       "\n",
       "                                            tags_url  \\\n",
       "0  https://api.github.com/repos/lmartinezruizit/d...   \n",
       "1  https://api.github.com/repos/eye8/madrid-oct-2...   \n",
       "2  https://api.github.com/repos/ArieHassan/madrid...   \n",
       "3  https://api.github.com/repos/cmvalma/madrid-oc...   \n",
       "4  https://api.github.com/repos/criraca/madrid-oc...   \n",
       "\n",
       "                                           teams_url  \\\n",
       "0  https://api.github.com/repos/lmartinezruizit/d...   \n",
       "1  https://api.github.com/repos/eye8/madrid-oct-2...   \n",
       "2  https://api.github.com/repos/ArieHassan/madrid...   \n",
       "3  https://api.github.com/repos/cmvalma/madrid-oc...   \n",
       "4  https://api.github.com/repos/criraca/madrid-oc...   \n",
       "\n",
       "                                           trees_url            updated_at  \\\n",
       "0  https://api.github.com/repos/lmartinezruizit/d...  2019-01-22T13:42:33Z   \n",
       "1  https://api.github.com/repos/eye8/madrid-oct-2...  2018-12-19T22:40:32Z   \n",
       "2  https://api.github.com/repos/ArieHassan/madrid...  2018-10-31T11:39:38Z   \n",
       "3  https://api.github.com/repos/cmvalma/madrid-oc...  2018-12-20T15:41:12Z   \n",
       "4  https://api.github.com/repos/criraca/madrid-oc...  2018-12-05T14:18:02Z   \n",
       "\n",
       "                                                 url  watchers  watchers_count  \n",
       "0  https://api.github.com/repos/lmartinezruizit/d...         0               0  \n",
       "1  https://api.github.com/repos/eye8/madrid-oct-2018         0               0  \n",
       "2  https://api.github.com/repos/ArieHassan/madrid...         0               0  \n",
       "3  https://api.github.com/repos/cmvalma/madrid-oc...         0               0  \n",
       "4  https://api.github.com/repos/criraca/madrid-oc...         0               0  \n",
       "\n",
       "[5 rows x 94 columns]"
      ]
     },
     "execution_count": 3,
     "metadata": {},
     "output_type": "execute_result"
    }
   ],
   "source": [
    "forks = json_normalize(data);\n",
    "forks.head()"
   ]
  },
  {
   "cell_type": "markdown",
   "metadata": {},
   "source": [
    "#### 2. Loop the JSON response to find out the language attribute of each fork. Use an array to store the language attributes of each fork.\n",
    "Hint: Each language should appear only once in your array.\n",
    "Print the language array. It should be something like: [\"Python\", \"Jupyter Notebook\", \"HTML\"]"
   ]
  },
  {
   "cell_type": "code",
   "execution_count": 4,
   "metadata": {},
   "outputs": [
    {
     "name": "stdout",
     "output_type": "stream",
     "text": [
      "['Jupyter Notebook', 'HTML', 'Python']\n"
     ]
    }
   ],
   "source": [
    "# Looping\n",
    "languages = [];\n",
    "\n",
    "for language in forks['language']:\n",
    "    if language not in languages:\n",
    "        languages.append(language); \n",
    "        \n",
    "print(languages);"
   ]
  },
  {
   "cell_type": "code",
   "execution_count": 5,
   "metadata": {},
   "outputs": [
    {
     "name": "stdout",
     "output_type": "stream",
     "text": [
      "['Jupyter Notebook', 'HTML', 'Python']\n"
     ]
    }
   ],
   "source": [
    "# Alternative\n",
    "languages = list(forks.language.unique());\n",
    "print(languages);"
   ]
  },
  {
   "cell_type": "markdown",
   "metadata": {},
   "source": [
    "# Challenge 2: Count Commits"
   ]
  },
  {
   "cell_type": "markdown",
   "metadata": {},
   "source": [
    "Count how many commits were made in the past week."
   ]
  },
  {
   "cell_type": "markdown",
   "metadata": {},
   "source": [
    "#### 1. Obtain all the commits made in the past week via API, which is a JSON array that contains multiple commit objects."
   ]
  },
  {
   "cell_type": "markdown",
   "metadata": {},
   "source": [
    "Since there are no commits during last week, let's find the commits made in the past 15 days."
   ]
  },
  {
   "cell_type": "code",
   "execution_count": 6,
   "metadata": {},
   "outputs": [
    {
     "data": {
      "text/plain": [
       "0    2019-01-18T18:28:33Z\n",
       "1    2019-01-17T21:59:35Z\n",
       "2    2019-01-17T06:33:16Z\n",
       "3    2019-01-17T06:28:16Z\n",
       "4    2019-01-17T06:24:01Z\n",
       "5    2019-01-16T23:20:01Z\n",
       "6    2019-01-16T22:24:40Z\n",
       "7    2019-01-16T22:24:35Z\n",
       "Name: commit.author.date, dtype: object"
      ]
     },
     "execution_count": 6,
     "metadata": {},
     "output_type": "execute_result"
    }
   ],
   "source": [
    "response = requests.get('https://api.github.com/repos/ironhack-datalabs/mad-oct-2018/commits?since=2019-15-01T00:00:00Z')\n",
    "data = response.json();\n",
    "commits = json_normalize(data);\n",
    "commits['commit.author.date']"
   ]
  },
  {
   "cell_type": "markdown",
   "metadata": {},
   "source": [
    "#### 2. Count how many commit objects are contained in the array."
   ]
  },
  {
   "cell_type": "code",
   "execution_count": 7,
   "metadata": {},
   "outputs": [
    {
     "data": {
      "text/plain": [
       "8"
      ]
     },
     "execution_count": 7,
     "metadata": {},
     "output_type": "execute_result"
    }
   ],
   "source": [
    "len(commits)"
   ]
  },
  {
   "cell_type": "markdown",
   "metadata": {},
   "source": [
    "# Challenge 3: Hidden Cold Joke\n",
    "\n",
    "Using Python, call Github API to find out the cold joke contained in the 24 secret files in the following repo:\n",
    "\n",
    "https://github.com/ironhack-datalabs/scavenger\n",
    "\n",
    "The filenames of the secret files contain .scavengerhunt and they are scattered in different directories of this repo. The secret files are named from .0001.scavengerhunt to .0024.scavengerhunt. They are scattered randomly throughout this repo. You need to search for these files by calling the Github API, not searching the local files on your computer."
   ]
  },
  {
   "cell_type": "markdown",
   "metadata": {},
   "source": [
    "#### 1. Find the secret files."
   ]
  },
  {
   "cell_type": "markdown",
   "metadata": {},
   "source": [
    "First, we use a search query to find the paths where the secret files are stored."
   ]
  },
  {
   "cell_type": "code",
   "execution_count": 8,
   "metadata": {},
   "outputs": [],
   "source": [
    "response = requests.get('https://api.github.com/search/code?q=.scavengerhunt in:path+repo:ironhack-datalabs/scavenger');\n",
    "search = response.json();"
   ]
  },
  {
   "cell_type": "markdown",
   "metadata": {},
   "source": [
    "#### 2.  Sort the filenames ascendingly."
   ]
  },
  {
   "cell_type": "markdown",
   "metadata": {},
   "source": [
    "Now, we sort the files ascendingly by name."
   ]
  },
  {
   "cell_type": "code",
   "execution_count": 9,
   "metadata": {},
   "outputs": [],
   "source": [
    "files = search['items'];\n",
    "files = sorted(files, key=lambda file: file['name']);"
   ]
  },
  {
   "cell_type": "markdown",
   "metadata": {},
   "source": [
    "#### 3. Read the content of each secret files into an array of strings."
   ]
  },
  {
   "cell_type": "markdown",
   "metadata": {},
   "source": [
    "Let's request the content of each file:"
   ]
  },
  {
   "cell_type": "code",
   "execution_count": 10,
   "metadata": {},
   "outputs": [],
   "source": [
    "contents_list = []\n",
    "headers = {'Accept': 'application/vnd.github.v3.raw', };"
   ]
  },
  {
   "cell_type": "code",
   "execution_count": 11,
   "metadata": {},
   "outputs": [],
   "source": [
    "for file in files:\n",
    "    content_path = 'https://api.github.com/repos/ironhack-datalabs/scavenger/contents/{}'.format(file['path']);\n",
    "    response = requests.get(content_path, headers=headers);\n",
    "    contents_list.append(response.text);"
   ]
  },
  {
   "cell_type": "markdown",
   "metadata": {},
   "source": [
    "#### 4. Concatenate the strings in the array separating each two with a whitespace."
   ]
  },
  {
   "cell_type": "code",
   "execution_count": 12,
   "metadata": {},
   "outputs": [],
   "source": [
    "clean_contents = [word.strip('\\n') for word in contents_list]\n",
    "joke = \" \".join(clean_contents);"
   ]
  },
  {
   "cell_type": "markdown",
   "metadata": {},
   "source": [
    "#### 5. Print out the joke."
   ]
  },
  {
   "cell_type": "code",
   "execution_count": 13,
   "metadata": {},
   "outputs": [
    {
     "name": "stdout",
     "output_type": "stream",
     "text": [
      "In data science, 80 percent of time spent is preparing data, 20 percent of time is spent complaining about the need to prepare data.\n"
     ]
    }
   ],
   "source": [
    "print(joke)"
   ]
  }
 ],
 "metadata": {
  "kernelspec": {
   "display_name": "ironhack-3.7",
   "language": "python",
   "name": "ironhack-3.7"
  },
  "language_info": {
   "codemirror_mode": {
    "name": "ipython",
    "version": 3
   },
   "file_extension": ".py",
   "mimetype": "text/x-python",
   "name": "python",
   "nbconvert_exporter": "python",
   "pygments_lexer": "ipython3",
   "version": "3.7.2"
  }
 },
 "nbformat": 4,
 "nbformat_minor": 2
}