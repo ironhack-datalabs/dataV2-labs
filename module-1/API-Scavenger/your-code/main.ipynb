{
 "cells": [
  {
   "cell_type": "markdown",
   "metadata": {},
   "source": [
    "# API Scavenger Game\n",
    "\n",
    "## Challenge 1: Fork Languages\n",
    "\n",
    "You will find out how many programming languages are used among all the forks created from the main lab repo of your bootcamp."
   ]
  },
  {
   "cell_type": "code",
   "execution_count": 1,
   "metadata": {},
   "outputs": [],
   "source": [
    "import requests\n",
    "import json\n",
    "import pandas as pd\n",
    "from pandas.io.json import json_normalize\n",
    "import collections\n",
    "import base64\n"
   ]
  },
  {
   "cell_type": "markdown",
   "metadata": {},
   "source": [
    "Assuming the main lab repo is ironhack-datalabs/madrid-oct-2018, you will:\n",
    "\n",
    "#### 1. Obtain the full list of forks created from the main lab repo via Github API."
   ]
  },
  {
   "cell_type": "markdown",
   "metadata": {},
   "source": [
    "To list forks, we can use the GET method. As explained in the GitHub API documentation, we need to make the request to: GET /repos/:owner/:repo/forks."
   ]
  },
  {
   "cell_type": "code",
   "execution_count": 2,
   "metadata": {},
   "outputs": [],
   "source": [
    "response = requests.get('https://api.github.com/repos/ironhack-datalabs/dataV2-labs/forks', data={'If-Modified-Since': 'Mon, 01 Jan 2000 00:00:00 GMT'})\n",
    "data = pd.DataFrame(response.json())"
   ]
  },
  {
   "cell_type": "code",
   "execution_count": 3,
   "metadata": {},
   "outputs": [],
   "source": [
    "def flatten(data, col_list):\n",
    "    for column in col_list:\n",
    "        flattened = pd.DataFrame(dict(data[column])).transpose()\n",
    "        columns = [str(col) for col in flattened.columns]\n",
    "        flattened.columns = [column + '_' + colname for colname in columns]\n",
    "        data = pd.concat([data, flattened], axis=1)\n",
    "        data = data.drop(column, axis=1)\n",
    "    return data"
   ]
  },
  {
   "cell_type": "code",
   "execution_count": 4,
   "metadata": {},
   "outputs": [
    {
     "data": {
      "text/plain": [
       "30"
      ]
     },
     "execution_count": 4,
     "metadata": {},
     "output_type": "execute_result"
    }
   ],
   "source": [
    "len(data['fork'])"
   ]
  },
  {
   "cell_type": "markdown",
   "metadata": {},
   "source": [
    "#### 2. Loop the JSON response to find out the language attribute of each fork. Use an array to store the language attributes of each fork.\n",
    "Hint: Each language should appear only once in your array.\n",
    "rint the language array. It should be something like: [\"Python\", \"Jupyter Notebook\", \"HTML\"]"
   ]
  },
  {
   "cell_type": "code",
   "execution_count": 5,
   "metadata": {},
   "outputs": [
    {
     "data": {
      "text/plain": [
       "Jupyter Notebook    18\n",
       "Name: language, dtype: int64"
      ]
     },
     "execution_count": 5,
     "metadata": {},
     "output_type": "execute_result"
    }
   ],
   "source": [
    "data['language'].value_counts()"
   ]
  },
  {
   "cell_type": "markdown",
   "metadata": {},
   "source": [
    "## Challenge 2: Count Commits\n",
    "Count how many commits were made in the month of october of 2018.\n",
    "#### 1. Obtain all the commits made in October 2018 via API, which is a JSON array that contains multiple commit objects."
   ]
  },
  {
   "cell_type": "code",
   "execution_count": 6,
   "metadata": {},
   "outputs": [],
   "source": [
    "response = requests.get('https://api.github.com/repos/ironhack-datalabs/dataV2-labs/commits', data={'If-Modified-Since': 'Mon, 01 Jan 2018 00:00:00 GMT'} )\n",
    "data = pd.DataFrame(response.json())"
   ]
  },
  {
   "cell_type": "code",
   "execution_count": 7,
   "metadata": {},
   "outputs": [
    {
     "data": {
      "text/plain": [
       "0     {'author': {'name': 'kelsey-ironhack', 'email'...\n",
       "1     {'author': {'name': 'kelsey-ironhack', 'email'...\n",
       "2     {'author': {'name': 'kelsey-ironhack', 'email'...\n",
       "3     {'author': {'name': 'kbartonhenry', 'email': '...\n",
       "4     {'author': {'name': 'kbartonhenry', 'email': '...\n",
       "5     {'author': {'name': 'kbartonhenry', 'email': '...\n",
       "6     {'author': {'name': 'kelsey-ironhack', 'email'...\n",
       "7     {'author': {'name': 'kelsey-ironhack', 'email'...\n",
       "8     {'author': {'name': 'kelsey-ironhack', 'email'...\n",
       "9     {'author': {'name': 'kelsey-ironhack', 'email'...\n",
       "10    {'author': {'name': 'kelsey-ironhack', 'email'...\n",
       "11    {'author': {'name': 'kelsey-ironhack', 'email'...\n",
       "12    {'author': {'name': 'kelsey-ironhack', 'email'...\n",
       "13    {'author': {'name': 'kelsey-ironhack', 'email'...\n",
       "14    {'author': {'name': 'kelsey-ironhack', 'email'...\n",
       "15    {'author': {'name': 'kelsey-ironhack', 'email'...\n",
       "16    {'author': {'name': 'kelsey-ironhack', 'email'...\n",
       "17    {'author': {'name': 'kelsey-ironhack', 'email'...\n",
       "18    {'author': {'name': 'kelsey-ironhack', 'email'...\n",
       "19    {'author': {'name': 'kelsey-ironhack', 'email'...\n",
       "20    {'author': {'name': 'kelsey-ironhack', 'email'...\n",
       "21    {'author': {'name': 'kelsey-ironhack', 'email'...\n",
       "22    {'author': {'name': 'kelsey-ironhack', 'email'...\n",
       "23    {'author': {'name': 'kelsey-ironhack', 'email'...\n",
       "24    {'author': {'name': 'kelsey-ironhack', 'email'...\n",
       "25    {'author': {'name': 'kelsey-ironhack', 'email'...\n",
       "26    {'author': {'name': 'kelsey-ironhack', 'email'...\n",
       "27    {'author': {'name': 'kelsey-ironhack', 'email'...\n",
       "28    {'author': {'name': 'kelsey-ironhack', 'email'...\n",
       "29    {'author': {'name': 'kelsey-ironhack', 'email'...\n",
       "Name: commit, dtype: object"
      ]
     },
     "execution_count": 7,
     "metadata": {},
     "output_type": "execute_result"
    }
   ],
   "source": [
    "data['commit']"
   ]
  },
  {
   "cell_type": "markdown",
   "metadata": {},
   "source": [
    "#### 2. Count how many commit objects are contained in the array."
   ]
  },
  {
   "cell_type": "code",
   "execution_count": 8,
   "metadata": {},
   "outputs": [
    {
     "data": {
      "text/plain": [
       "30"
      ]
     },
     "execution_count": 8,
     "metadata": {},
     "output_type": "execute_result"
    }
   ],
   "source": [
    "len(data['commit'])"
   ]
  },
  {
   "cell_type": "markdown",
   "metadata": {},
   "source": [
    "## Challenge 3: Hidden Cold Joke\n",
    "\n",
    "Using Python, call Github API to find out the cold joke contained in the 24 secret files in the following repo:\n",
    "\n",
    "https://github.com/ironhack-datalabs/scavenger\n",
    "\n",
    "The filenames of the secret files contain .scavengerhunt and they are scattered in different directories of this repo. The secret files are named from .0001.scavengerhunt to .0024.scavengerhunt. They are scattered randomly throughout this repo. You need to search for these files by calling the Github API, not searching the local files on your computer.\n",
    "\n",
    "#### 1. Find the secret files."
   ]
  },
  {
   "cell_type": "code",
   "execution_count": 9,
   "metadata": {},
   "outputs": [
    {
     "data": {
      "text/plain": [
       "True"
      ]
     },
     "execution_count": 9,
     "metadata": {},
     "output_type": "execute_result"
    }
   ],
   "source": [
    "response = requests.get('https://api.github.com/search/code?q=extension:scavengerhunt+repo:ironhack-datalabs/scavenger')\n",
    "response.ok"
   ]
  },
  {
   "cell_type": "code",
   "execution_count": 10,
   "metadata": {},
   "outputs": [],
   "source": [
    "df = pd.DataFrame(response.json())"
   ]
  },
  {
   "cell_type": "markdown",
   "metadata": {},
   "source": [
    "#### 2.  Sort the filenames ascendingly."
   ]
  },
  {
   "cell_type": "code",
   "execution_count": 11,
   "metadata": {},
   "outputs": [],
   "source": [
    "scavlist = sorted(flatten(df,['items'])['items_name'])"
   ]
  },
  {
   "cell_type": "code",
   "execution_count": 18,
   "metadata": {},
   "outputs": [
    {
     "data": {
      "text/plain": [
       "['.0001.scavengerhunt',\n",
       " '.0002.scavengerhunt',\n",
       " '.0003.scavengerhunt',\n",
       " '.0004.scavengerhunt',\n",
       " '.0005.scavengerhunt',\n",
       " '.0006.scavengerhunt',\n",
       " '.0007.scavengerhunt',\n",
       " '.0008.scavengerhunt',\n",
       " '.0009.scavengerhunt',\n",
       " '.0010.scavengerhunt',\n",
       " '.0011.scavengerhunt',\n",
       " '.0012.scavengerhunt',\n",
       " '.0013.scavengerhunt',\n",
       " '.0014.scavengerhunt',\n",
       " '.0015.scavengerhunt',\n",
       " '.0016.scavengerhunt',\n",
       " '.0017.scavengerhunt',\n",
       " '.0018.scavengerhunt',\n",
       " '.0019.scavengerhunt',\n",
       " '.0020.scavengerhunt',\n",
       " '.0021.scavengerhunt',\n",
       " '.0022.scavengerhunt',\n",
       " '.0023.scavengerhunt',\n",
       " '.0024.scavengerhunt']"
      ]
     },
     "execution_count": 18,
     "metadata": {},
     "output_type": "execute_result"
    }
   ],
   "source": [
    "scavlist"
   ]
  },
  {
   "cell_type": "markdown",
   "metadata": {},
   "source": [
    "#### 3. Read the content of each secret files into an array of strings.\n",
    "Since the response is encoded, you will need to send the following information in the header of your request:\n",
    "````python\n",
    "headers = {'Accept': 'application/vnd.github.v3.raw'}\n",
    "````"
   ]
  },
  {
   "cell_type": "code",
   "execution_count": 12,
   "metadata": {},
   "outputs": [],
   "source": [
    "scavenger = scavlist[0]"
   ]
  },
  {
   "cell_type": "code",
   "execution_count": 13,
   "metadata": {},
   "outputs": [
    {
     "data": {
      "text/plain": [
       "True"
      ]
     },
     "execution_count": 13,
     "metadata": {},
     "output_type": "execute_result"
    }
   ],
   "source": [
    "response = requests.get('https://api.github.com/repos/ironhack-datalabs/scavenger/git/trees/master?recursive=1')\n",
    "response.ok"
   ]
  },
  {
   "cell_type": "code",
   "execution_count": 14,
   "metadata": {},
   "outputs": [],
   "source": [
    "data = pd.DataFrame(response.json())"
   ]
  },
  {
   "cell_type": "code",
   "execution_count": 15,
   "metadata": {},
   "outputs": [],
   "source": [
    "flattened = flatten(data, ['tree'])"
   ]
  },
  {
   "cell_type": "code",
   "execution_count": 16,
   "metadata": {},
   "outputs": [],
   "source": [
    "linklist = []\n",
    "for t in flattened['tree_path']:\n",
    "    if t.endswith('scavengerhunt'):\n",
    "        linklist.append(t)"
   ]
  },
  {
   "cell_type": "code",
   "execution_count": 17,
   "metadata": {},
   "outputs": [
    {
     "ename": "KeyError",
     "evalue": "'content'",
     "output_type": "error",
     "traceback": [
      "\u001b[1;31m---------------------------------------------------------------------------\u001b[0m",
      "\u001b[1;31mKeyError\u001b[0m                                  Traceback (most recent call last)",
      "\u001b[1;32m<ipython-input-17-6541170c1939>\u001b[0m in \u001b[0;36m<module>\u001b[1;34m\u001b[0m\n\u001b[0;32m      5\u001b[0m     \u001b[0mresponse\u001b[0m \u001b[1;33m=\u001b[0m \u001b[0mrequests\u001b[0m\u001b[1;33m.\u001b[0m\u001b[0mget\u001b[0m\u001b[1;33m(\u001b[0m\u001b[0mlink\u001b[0m\u001b[1;33m,\u001b[0m \u001b[0mauth\u001b[0m\u001b[1;33m=\u001b[0m\u001b[1;33m(\u001b[0m\u001b[1;34m'user'\u001b[0m\u001b[1;33m,\u001b[0m \u001b[1;34m'password'\u001b[0m\u001b[1;33m)\u001b[0m\u001b[1;33m)\u001b[0m\u001b[1;33m\u001b[0m\u001b[1;33m\u001b[0m\u001b[0m\n\u001b[0;32m      6\u001b[0m     \u001b[0mresponse\u001b[0m\u001b[1;33m.\u001b[0m\u001b[0mok\u001b[0m\u001b[1;33m\u001b[0m\u001b[1;33m\u001b[0m\u001b[0m\n\u001b[1;32m----> 7\u001b[1;33m     \u001b[0mfile_plus_content\u001b[0m\u001b[1;33m.\u001b[0m\u001b[0mappend\u001b[0m\u001b[1;33m(\u001b[0m\u001b[1;33m[\u001b[0m\u001b[0ml\u001b[0m\u001b[1;33m,\u001b[0m \u001b[0mresponse\u001b[0m\u001b[1;33m.\u001b[0m\u001b[0mjson\u001b[0m\u001b[1;33m(\u001b[0m\u001b[1;33m)\u001b[0m\u001b[1;33m[\u001b[0m\u001b[1;34m'content'\u001b[0m\u001b[1;33m]\u001b[0m\u001b[1;33m]\u001b[0m\u001b[1;33m)\u001b[0m\u001b[1;33m\u001b[0m\u001b[1;33m\u001b[0m\u001b[0m\n\u001b[0m",
      "\u001b[1;31mKeyError\u001b[0m: 'content'"
     ]
    }
   ],
   "source": [
    "file_plus_content = []\n",
    "for l in linklist:\n",
    "    link = 'https://api.github.com/repos/ironhack-datalabs/scavenger/contents/'+l\n",
    "    \n",
    "    response = requests.get(link, auth=('user', 'password'))\n",
    "    response.ok\n",
    "    file_plus_content.append([l, response.json()['content']])"
   ]
  },
  {
   "cell_type": "code",
   "execution_count": null,
   "metadata": {},
   "outputs": [],
   "source": [
    "new_list = []\n",
    "for l in file_plus_content:\n",
    "    new_list.append([l[0][6:], l[1]])"
   ]
  },
  {
   "cell_type": "code",
   "execution_count": null,
   "metadata": {},
   "outputs": [],
   "source": [
    "new_list = sorted(new_list)"
   ]
  },
  {
   "cell_type": "markdown",
   "metadata": {},
   "source": [
    "#### 4. Concatenate the strings in the array separating each two with a whitespace."
   ]
  },
  {
   "cell_type": "code",
   "execution_count": null,
   "metadata": {},
   "outputs": [],
   "source": [
    "# your code fulltext = []\n",
    "for f in new_list:\n",
    "    fulltext.append(base64.b64decode(f[1]))"
   ]
  },
  {
   "cell_type": "markdown",
   "metadata": {},
   "source": [
    "#### 5. Print out the joke."
   ]
  },
  {
   "cell_type": "code",
   "execution_count": null,
   "metadata": {},
   "outputs": [],
   "source": [
    "joke = b' '.join(fulltext).decode(\"utf-8\")"
   ]
  },
  {
   "cell_type": "code",
   "execution_count": null,
   "metadata": {},
   "outputs": [],
   "source": [
    "''.join(joke.splitlines())"
   ]
  }
 ],
 "metadata": {
  "kernelspec": {
   "display_name": "Python 3",
   "language": "python",
   "name": "python3"
  },
  "language_info": {
   "codemirror_mode": {
    "name": "ipython",
    "version": 3
   },
   "file_extension": ".py",
   "mimetype": "text/x-python",
   "name": "python",
   "nbconvert_exporter": "python",
   "pygments_lexer": "ipython3",
   "version": "3.7.3"
  }
 },
 "nbformat": 4,
 "nbformat_minor": 2
}
