{
 "cells": [
  {
   "cell_type": "code",
   "execution_count": null,
   "metadata": {},
   "outputs": [],
   "source": []
  },
  {
   "cell_type": "code",
   "execution_count": 27,
   "metadata": {},
   "outputs": [],
   "source": [
    "response = requests.get('https://api.github.com/events', headers={'Accept': 'application/vnd.github.v3+json'})"
   ]
  },
  {
   "cell_type": "code",
   "execution_count": 54,
   "metadata": {},
   "outputs": [],
   "source": [
    "import requests\n",
    "import json\n",
    "import pandas as pd"
   ]
  },
  {
   "cell_type": "code",
   "execution_count": 55,
   "metadata": {},
   "outputs": [
    {
     "data": {
      "text/plain": [
       "'https://api.github.com/user'"
      ]
     },
     "execution_count": 55,
     "metadata": {},
     "output_type": "execute_result"
    }
   ],
   "source": [
    "response.request.url"
   ]
  },
  {
   "cell_type": "code",
   "execution_count": 56,
   "metadata": {},
   "outputs": [],
   "source": [
    "from pandas.io.json import json_normalize"
   ]
  },
  {
   "cell_type": "code",
   "execution_count": 57,
   "metadata": {},
   "outputs": [
    {
     "name": "stderr",
     "output_type": "stream",
     "text": [
      "<ipython-input-57-60beb1ecd405>:1: FutureWarning: pandas.io.json.json_normalize is deprecated, use pandas.json_normalize instead\n",
      "  data = json_normalize(response.json())\n"
     ]
    }
   ],
   "source": [
    "data = json_normalize(response.json())"
   ]
  },
  {
   "cell_type": "code",
   "execution_count": 58,
   "metadata": {},
   "outputs": [],
   "source": [
    "f = open('../github_token.txt', 'r')"
   ]
  },
  {
   "cell_type": "code",
   "execution_count": 59,
   "metadata": {},
   "outputs": [
    {
     "data": {
      "text/plain": [
       "<function TextIOWrapper.close()>"
      ]
     },
     "execution_count": 59,
     "metadata": {},
     "output_type": "execute_result"
    }
   ],
   "source": [
    "github_token = f.read()\n",
    "f.close"
   ]
  },
  {
   "cell_type": "code",
   "execution_count": null,
   "metadata": {},
   "outputs": [],
   "source": []
  },
  {
   "cell_type": "code",
   "execution_count": 60,
   "metadata": {},
   "outputs": [],
   "source": [
    "response = requests.get('https://api.github.com/user',\n",
    "                       headers={'Accept': 'application/vnd.github.v3+json',\n",
    "                               'Authorization': f'token {github_token}'})"
   ]
  },
  {
   "cell_type": "code",
   "execution_count": 61,
   "metadata": {},
   "outputs": [
    {
     "data": {
      "text/plain": [
       "b'{\"login\":\"AmandineGauberville\",\"id\":68965669,\"node_id\":\"MDQ6VXNlcjY4OTY1NjY5\",\"avatar_url\":\"https://avatars.githubusercontent.com/u/68965669?v=4\",\"gravatar_id\":\"\",\"url\":\"https://api.github.com/users/AmandineGauberville\",\"html_url\":\"https://github.com/AmandineGauberville\",\"followers_url\":\"https://api.github.com/users/AmandineGauberville/followers\",\"following_url\":\"https://api.github.com/users/AmandineGauberville/following{/other_user}\",\"gists_url\":\"https://api.github.com/users/AmandineGauberville/gists{/gist_id}\",\"starred_url\":\"https://api.github.com/users/AmandineGauberville/starred{/owner}{/repo}\",\"subscriptions_url\":\"https://api.github.com/users/AmandineGauberville/subscriptions\",\"organizations_url\":\"https://api.github.com/users/AmandineGauberville/orgs\",\"repos_url\":\"https://api.github.com/users/AmandineGauberville/repos\",\"events_url\":\"https://api.github.com/users/AmandineGauberville/events{/privacy}\",\"received_events_url\":\"https://api.github.com/users/AmandineGauberville/received_events\",\"type\":\"User\",\"site_admin\":false,\"name\":null,\"company\":\"Cnam Centre-Val de Loire\",\"blog\":\"\",\"location\":\"Orl\\xc3\\xa9ans\",\"email\":null,\"hireable\":null,\"bio\":null,\"twitter_username\":null,\"public_repos\":12,\"public_gists\":0,\"followers\":0,\"following\":0,\"created_at\":\"2020-07-29T17:31:02Z\",\"updated_at\":\"2021-03-27T11:05:02Z\",\"private_gists\":0,\"total_private_repos\":0,\"owned_private_repos\":0,\"disk_usage\":2139,\"collaborators\":0,\"two_factor_authentication\":false,\"plan\":{\"name\":\"free\",\"space\":976562499,\"collaborators\":0,\"private_repos\":10000}}'"
      ]
     },
     "execution_count": 61,
     "metadata": {},
     "output_type": "execute_result"
    }
   ],
   "source": [
    "response.content"
   ]
  },
  {
   "cell_type": "code",
   "execution_count": 62,
   "metadata": {},
   "outputs": [],
   "source": [
    "response = requests.post('https://api.github.com/user',\n",
    "                       headers={'Accept': 'application/vnd.github.v3+json',\n",
    "                               'Authorization': f'token {github_token}'},\n",
    "                       data=json.dumps({\"emails\": [\"amandine.gauberville@lecnam.net\"]}))"
   ]
  },
  {
   "cell_type": "code",
   "execution_count": 69,
   "metadata": {},
   "outputs": [],
   "source": [
    "from pprint import pprint"
   ]
  },
  {
   "cell_type": "code",
   "execution_count": 70,
   "metadata": {},
   "outputs": [
    {
     "name": "stdout",
     "output_type": "stream",
     "text": [
      "{'avatar_url': 'https://avatars.githubusercontent.com/u/68965669?v=4',\n",
      " 'bio': None,\n",
      " 'blog': '',\n",
      " 'collaborators': 0,\n",
      " 'company': 'Cnam Centre-Val de Loire',\n",
      " 'created_at': '2020-07-29T17:31:02Z',\n",
      " 'disk_usage': 2139,\n",
      " 'email': None,\n",
      " 'events_url': 'https://api.github.com/users/AmandineGauberville/events{/privacy}',\n",
      " 'followers': 0,\n",
      " 'followers_url': 'https://api.github.com/users/AmandineGauberville/followers',\n",
      " 'following': 0,\n",
      " 'following_url': 'https://api.github.com/users/AmandineGauberville/following{/other_user}',\n",
      " 'gists_url': 'https://api.github.com/users/AmandineGauberville/gists{/gist_id}',\n",
      " 'gravatar_id': '',\n",
      " 'hireable': None,\n",
      " 'html_url': 'https://github.com/AmandineGauberville',\n",
      " 'id': 68965669,\n",
      " 'location': 'Orléans',\n",
      " 'login': 'AmandineGauberville',\n",
      " 'name': None,\n",
      " 'node_id': 'MDQ6VXNlcjY4OTY1NjY5',\n",
      " 'organizations_url': 'https://api.github.com/users/AmandineGauberville/orgs',\n",
      " 'owned_private_repos': 0,\n",
      " 'plan': {'collaborators': 0,\n",
      "          'name': 'free',\n",
      "          'private_repos': 10000,\n",
      "          'space': 976562499},\n",
      " 'private_gists': 0,\n",
      " 'public_gists': 0,\n",
      " 'public_repos': 12,\n",
      " 'received_events_url': 'https://api.github.com/users/AmandineGauberville/received_events',\n",
      " 'repos_url': 'https://api.github.com/users/AmandineGauberville/repos',\n",
      " 'site_admin': False,\n",
      " 'starred_url': 'https://api.github.com/users/AmandineGauberville/starred{/owner}{/repo}',\n",
      " 'subscriptions_url': 'https://api.github.com/users/AmandineGauberville/subscriptions',\n",
      " 'total_private_repos': 0,\n",
      " 'twitter_username': None,\n",
      " 'two_factor_authentication': False,\n",
      " 'type': 'User',\n",
      " 'updated_at': '2021-03-27T11:05:02Z',\n",
      " 'url': 'https://api.github.com/users/AmandineGauberville'}\n"
     ]
    }
   ],
   "source": [
    "pprint(response.json())"
   ]
  },
  {
   "cell_type": "code",
   "execution_count": 64,
   "metadata": {},
   "outputs": [],
   "source": [
    "#wrapper API : installer github librairie"
   ]
  },
  {
   "cell_type": "code",
   "execution_count": 65,
   "metadata": {},
   "outputs": [],
   "source": [
    "from github import Github"
   ]
  },
  {
   "cell_type": "code",
   "execution_count": 66,
   "metadata": {},
   "outputs": [],
   "source": [
    "g = Github(github_token)"
   ]
  },
  {
   "cell_type": "code",
   "execution_count": 67,
   "metadata": {},
   "outputs": [
    {
     "data": {
      "text/plain": [
       "AuthenticatedUser(login=None)"
      ]
     },
     "execution_count": 67,
     "metadata": {},
     "output_type": "execute_result"
    }
   ],
   "source": [
    "g.get_user()"
   ]
  },
  {
   "cell_type": "code",
   "execution_count": null,
   "metadata": {},
   "outputs": [],
   "source": []
  }
 ],
 "metadata": {
  "kernelspec": {
   "display_name": "Python 3",
   "language": "python",
   "name": "python3"
  },
  "language_info": {
   "codemirror_mode": {
    "name": "ipython",
    "version": 3
   },
   "file_extension": ".py",
   "mimetype": "text/x-python",
   "name": "python",
   "nbconvert_exporter": "python",
   "pygments_lexer": "ipython3",
   "version": "3.8.5"
  }
 },
 "nbformat": 4,
 "nbformat_minor": 4
}
