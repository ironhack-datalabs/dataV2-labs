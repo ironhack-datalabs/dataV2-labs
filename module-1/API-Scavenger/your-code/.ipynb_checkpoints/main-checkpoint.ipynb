{
 "cells": [
  {
   "cell_type": "markdown",
   "metadata": {},
   "source": [
    "# API Scavenger Game\n",
    "\n",
    "## Challenge 1: Fork Languages\n",
    "\n",
    "You will find out how many programming languages are used among all the forks created from the main lab repo of your bootcamp."
   ]
  },
  {
   "cell_type": "code",
   "execution_count": 3,
   "metadata": {},
   "outputs": [],
   "source": [
    "# import libraries here\n",
    "import json\n",
    "import requests\n",
    "\n",
    "f = open('../../../../scavenger-token')\n",
    "github_token = f.read().strip('\\n')\n",
    "f.close()"
   ]
  },
  {
   "cell_type": "markdown",
   "metadata": {},
   "source": [
    "Assuming the main lab repo is ironhack-datalabs/madrid-oct-2018, you will:\n",
    "\n",
    "#### 1. Obtain the full list of forks created from the main lab repo via Github API."
   ]
  },
  {
   "cell_type": "markdown",
   "metadata": {},
   "source": [
    "To list forks, we can use the GET method. As explained in the GitHub API documentation, we need to make the request to: GET /repos/:owner/:repo/forks."
   ]
  },
  {
   "cell_type": "code",
   "execution_count": 35,
   "metadata": {},
   "outputs": [],
   "source": [
    "# your code here\n",
    "response = requests.get('https://api.github.com/repos/ironhack-datalabs/mad-oct-2018/forks')\n",
    "\n",
    "results = response.json()"
   ]
  },
  {
   "cell_type": "code",
   "execution_count": null,
   "metadata": {},
   "outputs": [],
   "source": []
  },
  {
   "cell_type": "markdown",
   "metadata": {},
   "source": [
    "#### 2. Loop the JSON response to find out the language attribute of each fork. Use an array to store the language attributes of each fork.\n",
    "Hint: Each language should appear only once in your array.\n",
    "Print the language array. It should be something like: [\"Python\", \"Jupyter Notebook\", \"HTML\"]"
   ]
  },
  {
   "cell_type": "code",
   "execution_count": 36,
   "metadata": {},
   "outputs": [
    {
     "name": "stdout",
     "output_type": "stream",
     "text": [
      "[None, None, 'Jupyter Notebook', 'Jupyter Notebook', 'Jupyter Notebook', 'Jupyter Notebook', 'Jupyter Notebook', 'HTML', 'Jupyter Notebook', 'Jupyter Notebook', 'Jupyter Notebook', 'Jupyter Notebook', 'Jupyter Notebook', 'Jupyter Notebook', 'Jupyter Notebook']\n"
     ]
    }
   ],
   "source": [
    "# your code here\n",
    "language_array = [fork['language'] for fork in results]\n",
    "print(language_array)"
   ]
  },
  {
   "cell_type": "markdown",
   "metadata": {},
   "source": [
    "## Challenge 2: Count Commits\n",
    "Count how many commits were made in the month of october of 2018.\n",
    "#### 1. Obtain all the commits made in October 2018 via API, which is a JSON array that contains multiple commit objects."
   ]
  },
  {
   "cell_type": "code",
   "execution_count": 9,
   "metadata": {},
   "outputs": [],
   "source": [
    "# your code here\n",
    "import json\n",
    "url_length = -1\n",
    "results = []\n",
    "iterator = 0\n",
    "while url_length !=0 : \n",
    "    response = requests.get(f\"\"\"https://api.github.com/repos/ironhack-datalabs/mad-oct-2018/commits?since=2018-01-01:00:00Z\n",
    "                                &until=2018-12-31:59:59Z\n",
    "                                &per_page=100&page={iterator}\"\"\",\n",
    "                           headers={'accept':'application/vnd.github.v3+json'})\n",
    "    data = response.json()\n",
    "    results += data\n",
    "    url_length = len(data)\n",
    "    iterator += 1\n",
    "\n"
   ]
  },
  {
   "cell_type": "markdown",
   "metadata": {},
   "source": [
    "#### 2. Count how many commit objects are contained in the array."
   ]
  },
  {
   "cell_type": "code",
   "execution_count": 10,
   "metadata": {},
   "outputs": [
    {
     "data": {
      "text/plain": [
       "388"
      ]
     },
     "execution_count": 10,
     "metadata": {},
     "output_type": "execute_result"
    }
   ],
   "source": [
    "# your code here\n",
    "len(results)"
   ]
  },
  {
   "cell_type": "markdown",
   "metadata": {},
   "source": [
    "## Challenge 3: Hidden Cold Joke\n",
    "\n",
    "Using Python, call Github API to find out the cold joke contained in the 24 secret files in the following repo:\n",
    "\n",
    "https://github.com/ironhack-datalabs/scavenger\n",
    "\n",
    "The filenames of the secret files contain .scavengerhunt and they are scattered in different directories of this repo. The secret files are named from .0001.scavengerhunt to .0024.scavengerhunt. They are scattered randomly throughout this repo. You need to search for these files by calling the Github API, not searching the local files on your computer.\n",
    "\n",
    "#### 1. Find the secret files."
   ]
  },
  {
   "cell_type": "code",
   "execution_count": 55,
   "metadata": {},
   "outputs": [
    {
     "name": "stdout",
     "output_type": "stream",
     "text": [
      "{('.0010.scavengerhunt', '47830/.0010.scavengerhunt'), ('.0011.scavengerhunt', '50896/.0011.scavengerhunt'), ('.0018.scavengerhunt', '45525/.0018.scavengerhunt'), ('.0007.scavengerhunt', '17020/.0007.scavengerhunt'), ('.0017.scavengerhunt', '70985/.0017.scavengerhunt'), ('.0005.scavengerhunt', '44639/.0005.scavengerhunt'), ('.0008.scavengerhunt', '15534/.0008.scavengerhunt'), ('.0014.scavengerhunt', '49418/.0014.scavengerhunt'), ('.0004.scavengerhunt', '68848/.0004.scavengerhunt'), ('.0006.scavengerhunt', '15024/.0006.scavengerhunt'), ('.0016.scavengerhunt', '47222/.0016.scavengerhunt'), ('.0009.scavengerhunt', '97881/.0009.scavengerhunt'), ('.0001.scavengerhunt', '98750/.0001.scavengerhunt'), ('.0020.scavengerhunt', '55685/.0020.scavengerhunt'), ('.0013.scavengerhunt', '89338/.0013.scavengerhunt'), ('.0002.scavengerhunt', '88596/.0002.scavengerhunt'), ('.0003.scavengerhunt', '60224/.0003.scavengerhunt'), ('.0021.scavengerhunt', '30351/.0021.scavengerhunt'), ('.0015.scavengerhunt', '91701/.0015.scavengerhunt'), ('.0019.scavengerhunt', '70751/.0019.scavengerhunt'), ('.0023.scavengerhunt', '55417/.0023.scavengerhunt'), ('.0012.scavengerhunt', '15534/.0012.scavengerhunt'), ('.0022.scavengerhunt', '40303/.0022.scavengerhunt'), ('.0024.scavengerhunt', '47222/.0024.scavengerhunt')}\n"
     ]
    }
   ],
   "source": [
    "# your code here\n",
    "repository_content = requests.get(f\"\"\"https://api.github.com/repos/ironhack-datalabs/scavenger/contents/\"\"\",\n",
    "                           headers={'accept':'application/vnd.github.v3+json'})\n",
    "#repository_content.json()\n",
    "path_repository = [element['path'] for element in repository_content.json() if element['path'] != '.gitignore']\n",
    "\n",
    "folder_file_names = []\n",
    "for folder in path_repository:\n",
    "    folder_content = requests.get(f\"\"\"https://api.github.com/repos/ironhack-datalabs/scavenger/contents/{folder}\"\"\",\n",
    "                           headers={'accept':'application/vnd.github.v3+json'})\n",
    "    folder_file_names.extend([(element['name'], element['path']) for element in folder_content.json() if '.scavengerhunt' in element['name']])\n",
    "    \n",
    "    \n",
    "print(set(folder_file_names))"
   ]
  },
  {
   "cell_type": "markdown",
   "metadata": {},
   "source": [
    "#### 2.  Sort the filenames ascendingly."
   ]
  },
  {
   "cell_type": "code",
   "execution_count": 66,
   "metadata": {},
   "outputs": [
    {
     "name": "stdout",
     "output_type": "stream",
     "text": [
      "[('.0001.scavengerhunt', '98750/.0001.scavengerhunt'), ('.0002.scavengerhunt', '88596/.0002.scavengerhunt'), ('.0003.scavengerhunt', '60224/.0003.scavengerhunt'), ('.0004.scavengerhunt', '68848/.0004.scavengerhunt'), ('.0005.scavengerhunt', '44639/.0005.scavengerhunt'), ('.0006.scavengerhunt', '15024/.0006.scavengerhunt'), ('.0007.scavengerhunt', '17020/.0007.scavengerhunt'), ('.0008.scavengerhunt', '15534/.0008.scavengerhunt'), ('.0009.scavengerhunt', '97881/.0009.scavengerhunt'), ('.0010.scavengerhunt', '47830/.0010.scavengerhunt'), ('.0011.scavengerhunt', '50896/.0011.scavengerhunt'), ('.0012.scavengerhunt', '15534/.0012.scavengerhunt'), ('.0013.scavengerhunt', '89338/.0013.scavengerhunt'), ('.0014.scavengerhunt', '49418/.0014.scavengerhunt'), ('.0015.scavengerhunt', '91701/.0015.scavengerhunt'), ('.0016.scavengerhunt', '47222/.0016.scavengerhunt'), ('.0017.scavengerhunt', '70985/.0017.scavengerhunt'), ('.0018.scavengerhunt', '45525/.0018.scavengerhunt'), ('.0019.scavengerhunt', '70751/.0019.scavengerhunt'), ('.0020.scavengerhunt', '55685/.0020.scavengerhunt'), ('.0021.scavengerhunt', '30351/.0021.scavengerhunt'), ('.0022.scavengerhunt', '40303/.0022.scavengerhunt'), ('.0023.scavengerhunt', '55417/.0023.scavengerhunt'), ('.0024.scavengerhunt', '47222/.0024.scavengerhunt')]\n"
     ]
    }
   ],
   "source": [
    "# your code here\n",
    "folder_file_names.sort()\n",
    "print(folder_file_names)"
   ]
  },
  {
   "cell_type": "markdown",
   "metadata": {},
   "source": [
    "#### 3. Read the content of each secret files into an array of strings.\n",
    "Since the response is encoded, you will need to send the following information in the header of your request:\n",
    "````python\n",
    "headers = {'Accept': 'application/vnd.github.v3.raw'}\n",
    "````"
   ]
  },
  {
   "cell_type": "code",
   "execution_count": 70,
   "metadata": {},
   "outputs": [],
   "source": [
    "# your code here\n",
    "answer = ''\n",
    "for myTuple in folder_file_names:\n",
    "    path = myTuple[1]\n",
    "    answer += requests.get(f\"\"\"https://api.github.com/repos/ironhack-datalabs/scavenger/contents/{path}\"\"\",\n",
    "                           headers={'Accept':'application/vnd.github.v3.raw'}).text"
   ]
  },
  {
   "cell_type": "code",
   "execution_count": 72,
   "metadata": {},
   "outputs": [],
   "source": [
    "cleaned_answer = answer.replace(\"\\n\", \" \")"
   ]
  },
  {
   "cell_type": "markdown",
   "metadata": {},
   "source": [
    "#### 4. Concatenate the strings in the array separating each two with a whitespace."
   ]
  },
  {
   "cell_type": "code",
   "execution_count": 73,
   "metadata": {},
   "outputs": [
    {
     "name": "stdout",
     "output_type": "stream",
     "text": [
      "In data science, 80 percent of time spent is preparing data, 20 percent of time is spent complaining about the need to prepare data. \n"
     ]
    }
   ],
   "source": [
    "# your code here\n",
    "print(cleaned_answer)"
   ]
  },
  {
   "cell_type": "markdown",
   "metadata": {},
   "source": [
    "#### 5. Print out the joke."
   ]
  },
  {
   "cell_type": "code",
   "execution_count": null,
   "metadata": {},
   "outputs": [],
   "source": [
    "# your code here"
   ]
  }
 ],
 "metadata": {
  "kernelspec": {
   "display_name": "Python 3",
   "language": "python",
   "name": "python3"
  },
  "language_info": {
   "codemirror_mode": {
    "name": "ipython",
    "version": 3
   },
   "file_extension": ".py",
   "mimetype": "text/x-python",
   "name": "python",
   "nbconvert_exporter": "python",
   "pygments_lexer": "ipython3",
   "version": "3.8.5"
  }
 },
 "nbformat": 4,
 "nbformat_minor": 4
}
