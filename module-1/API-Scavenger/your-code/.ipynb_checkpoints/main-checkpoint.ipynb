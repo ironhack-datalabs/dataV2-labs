{
 "cells": [
  {
   "cell_type": "markdown",
   "metadata": {},
   "source": [
    "# API Scavenger Game\n",
    "\n",
    "## Challenge 1: Fork Languages\n",
    "\n",
    "You will find out how many programming languages are used among all the forks created from the main lab repo of your bootcamp."
   ]
  },
  {
   "cell_type": "code",
   "execution_count": 1,
   "metadata": {},
   "outputs": [],
   "source": [
    "import json\n",
    "import requests\n",
    "import pandas as pd\n",
    "from pandas import json_normalize\n",
    "from pprint import pprint"
   ]
  },
  {
   "cell_type": "markdown",
   "metadata": {},
   "source": [
    "https://docs.github.com/en/rest/reference/repos"
   ]
  },
  {
   "cell_type": "code",
   "execution_count": 2,
   "metadata": {},
   "outputs": [],
   "source": [
    "f = open('../github_token.txt', 'r')"
   ]
  },
  {
   "cell_type": "code",
   "execution_count": 3,
   "metadata": {},
   "outputs": [
    {
     "data": {
      "text/plain": [
       "<function TextIOWrapper.close()>"
      ]
     },
     "execution_count": 3,
     "metadata": {},
     "output_type": "execute_result"
    }
   ],
   "source": [
    "github_token = f.read()\n",
    "f.close"
   ]
  },
  {
   "cell_type": "code",
   "execution_count": 4,
   "metadata": {},
   "outputs": [],
   "source": [
    "response = requests.get('https://api.github.com/user', \n",
    "                        headers={'Accept': 'application/vnd.github.v3+json',\n",
    "                                 'Authorization': f'token {github_token}'})"
   ]
  },
  {
   "cell_type": "markdown",
   "metadata": {},
   "source": [
    "Assuming the main lab repo is ironhack-datalabs/madrid-oct-2018, you will:\n",
    "\n",
    "#### 1. Obtain the full list of forks created from the main lab repo via Github API."
   ]
  },
  {
   "cell_type": "markdown",
   "metadata": {},
   "source": [
    "To list forks, we can use the GET method. As explained in the GitHub API documentation, we need to make the request to: GET /repos/:owner/:repo/forks."
   ]
  },
  {
   "cell_type": "code",
   "execution_count": 5,
   "metadata": {},
   "outputs": [],
   "source": [
    "# your code here https://github.com/ironhack-datalabs/mad-oct-2018\n",
    "\n",
    "owner = 'ironhack-datalabs'\n",
    "repo = 'mad-oct-2018'\n",
    "\n",
    "response = requests.get(f'https://api.github.com/repos/{owner}/{repo}/forks', \n",
    "                        headers={'Accept': 'application/vnd.github.v3+json'}\n",
    "                       )"
   ]
  },
  {
   "cell_type": "code",
   "execution_count": 6,
   "metadata": {},
   "outputs": [],
   "source": [
    "results = response.json()"
   ]
  },
  {
   "cell_type": "markdown",
   "metadata": {},
   "source": [
    "#### 2. Loop the JSON response to find out the language attribute of each fork. Use an array to store the language attributes of each fork.\n",
    "Hint: Each language should appear only once in your array.\n",
    "Print the language array. It should be something like: [\"Python\", \"Jupyter Notebook\", \"HTML\"]"
   ]
  },
  {
   "cell_type": "code",
   "execution_count": 7,
   "metadata": {},
   "outputs": [],
   "source": [
    "data = pd.DataFrame(results)"
   ]
  },
  {
   "cell_type": "code",
   "execution_count": 8,
   "metadata": {},
   "outputs": [
    {
     "data": {
      "text/plain": [
       "[None,\n",
       " None,\n",
       " 'Jupyter Notebook',\n",
       " 'Jupyter Notebook',\n",
       " 'Jupyter Notebook',\n",
       " 'Jupyter Notebook',\n",
       " 'Jupyter Notebook',\n",
       " 'HTML',\n",
       " 'Jupyter Notebook',\n",
       " 'Jupyter Notebook',\n",
       " 'Jupyter Notebook',\n",
       " 'Jupyter Notebook',\n",
       " 'Jupyter Notebook',\n",
       " 'Jupyter Notebook',\n",
       " 'Jupyter Notebook']"
      ]
     },
     "execution_count": 8,
     "metadata": {},
     "output_type": "execute_result"
    }
   ],
   "source": [
    "flattened_data = json_normalize(results)\n",
    "\n",
    "flattened_data['language']\n",
    "\n",
    "[i for i in flattened_data['language']]"
   ]
  },
  {
   "cell_type": "markdown",
   "metadata": {},
   "source": [
    "## Challenge 2: Count Commits\n",
    "Count how many commits were made in the month of october of 2018.\n",
    "#### 1. Obtain all the commits made in October 2018 via API, which is a JSON array that contains multiple commit objects."
   ]
  },
  {
   "cell_type": "code",
   "execution_count": 9,
   "metadata": {},
   "outputs": [],
   "source": [
    "owner = 'ironhack-datalabs'\n",
    "repo = 'mad-oct-2018'\n",
    "\n",
    "i = 0\n",
    "\n",
    "df_list = []\n",
    "\n",
    "#boucle pour éviter de n'avoir que les premiers 30 résultats, mais tous\n",
    "\n",
    "while True:\n",
    "    commits = requests.get(f'https://api.github.com/repos/{owner}/{repo}/commits?since=2018-01-01T0:0:0Z&until=2018-12-31T0:0:0Z&page={i}', \n",
    "                        headers={'Accept': 'application/vnd.github.v3+json'},\n",
    "                      )\n",
    "\n",
    "    results_commits = commits.json()\n",
    "\n",
    "    df_list.append(json_normalize(results_commits))\n",
    "\n",
    "    i += 1\n",
    "    if len(results_commits) < 30:\n",
    "         break   \n",
    "\n",
    "data2 = pd.concat(df_list, axis = 0)\n",
    "\n",
    "#df_list sort 29 résultats de chaque colonne, la concaténation de lignes permet des les mettre toutes dans la même ligne : \n",
    "#ligne 1 de la première partie s'ajoute à ligne 1 de la deuxième partie..etc"
   ]
  },
  {
   "cell_type": "code",
   "execution_count": 10,
   "metadata": {},
   "outputs": [
    {
     "name": "stdout",
     "output_type": "stream",
     "text": [
      "318\n"
     ]
    }
   ],
   "source": [
    "print(len(data2))"
   ]
  },
  {
   "cell_type": "markdown",
   "metadata": {},
   "source": [
    "#### 2. Count how many commit objects are contained in the array."
   ]
  },
  {
   "cell_type": "code",
   "execution_count": 11,
   "metadata": {},
   "outputs": [
    {
     "name": "stdout",
     "output_type": "stream",
     "text": [
      "<class 'pandas.core.frame.DataFrame'>\n",
      "Int64Index: 318 entries, 0 to 17\n",
      "Data columns (total 59 columns):\n",
      " #   Column                         Non-Null Count  Dtype  \n",
      "---  ------                         --------------  -----  \n",
      " 0   sha                            318 non-null    object \n",
      " 1   node_id                        318 non-null    object \n",
      " 2   url                            318 non-null    object \n",
      " 3   html_url                       318 non-null    object \n",
      " 4   comments_url                   318 non-null    object \n",
      " 5   parents                        318 non-null    object \n",
      " 6   commit.author.name             318 non-null    object \n",
      " 7   commit.author.email            318 non-null    object \n",
      " 8   commit.author.date             318 non-null    object \n",
      " 9   commit.committer.name          318 non-null    object \n",
      " 10  commit.committer.email         318 non-null    object \n",
      " 11  commit.committer.date          318 non-null    object \n",
      " 12  commit.message                 318 non-null    object \n",
      " 13  commit.tree.sha                318 non-null    object \n",
      " 14  commit.tree.url                318 non-null    object \n",
      " 15  commit.url                     318 non-null    object \n",
      " 16  commit.comment_count           318 non-null    int64  \n",
      " 17  commit.verification.verified   318 non-null    bool   \n",
      " 18  commit.verification.reason     318 non-null    object \n",
      " 19  commit.verification.signature  78 non-null     object \n",
      " 20  commit.verification.payload    78 non-null     object \n",
      " 21  author.login                   317 non-null    object \n",
      " 22  author.id                      317 non-null    float64\n",
      " 23  author.node_id                 317 non-null    object \n",
      " 24  author.avatar_url              317 non-null    object \n",
      " 25  author.gravatar_id             317 non-null    object \n",
      " 26  author.url                     317 non-null    object \n",
      " 27  author.html_url                317 non-null    object \n",
      " 28  author.followers_url           317 non-null    object \n",
      " 29  author.following_url           317 non-null    object \n",
      " 30  author.gists_url               317 non-null    object \n",
      " 31  author.starred_url             317 non-null    object \n",
      " 32  author.subscriptions_url       317 non-null    object \n",
      " 33  author.organizations_url       317 non-null    object \n",
      " 34  author.repos_url               317 non-null    object \n",
      " 35  author.events_url              317 non-null    object \n",
      " 36  author.received_events_url     317 non-null    object \n",
      " 37  author.type                    317 non-null    object \n",
      " 38  author.site_admin              317 non-null    object \n",
      " 39  committer.login                317 non-null    object \n",
      " 40  committer.id                   317 non-null    float64\n",
      " 41  committer.node_id              317 non-null    object \n",
      " 42  committer.avatar_url           317 non-null    object \n",
      " 43  committer.gravatar_id          317 non-null    object \n",
      " 44  committer.url                  317 non-null    object \n",
      " 45  committer.html_url             317 non-null    object \n",
      " 46  committer.followers_url        317 non-null    object \n",
      " 47  committer.following_url        317 non-null    object \n",
      " 48  committer.gists_url            317 non-null    object \n",
      " 49  committer.starred_url          317 non-null    object \n",
      " 50  committer.subscriptions_url    317 non-null    object \n",
      " 51  committer.organizations_url    317 non-null    object \n",
      " 52  committer.repos_url            317 non-null    object \n",
      " 53  committer.events_url           317 non-null    object \n",
      " 54  committer.received_events_url  317 non-null    object \n",
      " 55  committer.type                 317 non-null    object \n",
      " 56  committer.site_admin           317 non-null    object \n",
      " 57  author                         0 non-null      float64\n",
      " 58  committer                      0 non-null      float64\n",
      "dtypes: bool(1), float64(4), int64(1), object(53)\n",
      "memory usage: 146.9+ KB\n"
     ]
    }
   ],
   "source": [
    "data2.info()"
   ]
  },
  {
   "cell_type": "markdown",
   "metadata": {},
   "source": [
    "## Challenge 3: Hidden Cold Joke\n",
    "\n",
    "Using Python, call Github API to find out the cold joke contained in the 24 secret files in the following repo:\n",
    "\n",
    "https://github.com/ironhack-datalabs/scavenger\n",
    "\n",
    "The filenames of the secret files contain .scavengerhunt and they are scattered in different directories of this repo. The secret files are named from .0001.scavengerhunt to .0024.scavengerhunt. They are scattered randomly throughout this repo. You need to search for these files by calling the Github API, not searching the local files on your computer.\n",
    "\n",
    "#### 1. Find the secret files."
   ]
  },
  {
   "cell_type": "code",
   "execution_count": 70,
   "metadata": {},
   "outputs": [
    {
     "ename": "IndentationError",
     "evalue": "unexpected indent (<ipython-input-70-c4e0593ed164>, line 31)",
     "output_type": "error",
     "traceback": [
      "\u001b[1;36m  File \u001b[1;32m\"<ipython-input-70-c4e0593ed164>\"\u001b[1;36m, line \u001b[1;32m31\u001b[0m\n\u001b[1;33m    for file in list_asc:\u001b[0m\n\u001b[1;37m    ^\u001b[0m\n\u001b[1;31mIndentationError\u001b[0m\u001b[1;31m:\u001b[0m unexpected indent\n"
     ]
    }
   ],
   "source": [
    "owner = 'ironhack-datalabs'\n",
    "repo = 'scavenger'\n",
    "\n",
    "#/repos/{owner}/{repo}/contents/{path}\n",
    "\n",
    "content = requests.get(f'https://api.github.com/repos/{owner}/{repo}/contents', \n",
    "                        headers={'Accept': 'application/vnd.github.v3+json',\n",
    "                       'Authorization': f'token {github_token}'}\n",
    "                       )\n",
    "results_content = content.json()\n",
    "\n",
    "flattened_data2 = json_normalize(results_content)\n",
    "df_flattened = pd.DataFrame(flattened_data2)\n",
    "\n",
    "list1 = []\n",
    "\n",
    "for path in df_flattened['path']:\n",
    "    response_path = requests.get(f'https://api.github.com/repos/ironhack-datalabs/scavenger/contents/{path}', \n",
    "                headers={'Accept': 'application/vnd.github.v3+json',\n",
    "                'Authorization': f'token {github_token}'}\n",
    "                )\n",
    "    content_file = response_path.json()\n",
    "    content_file_flattened = json_normalize(content_file)\n",
    "    df_reponse_file = pd.DataFrame(content_file_flattened)\n",
    "    files_list = [name for name in df_reponse_file['name'] if name.endswith('scavengerhunt')]\n",
    "    files_list_join = \"\".join(files_list)\n",
    "    list1.append(files_list_join)\n",
    "    \n",
    "    list_asc = sorted(list1)[4:]\n",
    "    \n",
    "    for file in list_asc:\n",
    "        print(file)\n",
    "        \"\"\"response_file = requests.get(f'https://api.github.com/repos/ironhack-datalabs/scavenger/contents/{path}/{file}', \n",
    "                                headers={'Accept': 'application/vnd.github.v3+json',\n",
    "                                'Authorization': f'token {github_token}'})\n",
    "                \n",
    "        \n",
    "        content_file1 = response_file.json()\n",
    "        content_file_flattened1 = json_normalize(content_file1)\n",
    "        df_reponse_file1 = pd.DataFrame(content_file_flattened1)\n",
    "        print(df_reponse_file1)\"\"\"\n"
   ]
  },
  {
   "cell_type": "markdown",
   "metadata": {},
   "source": [
    "#### 2.  Sort the filenames ascendingly."
   ]
  },
  {
   "cell_type": "code",
   "execution_count": 66,
   "metadata": {},
   "outputs": [
    {
     "name": "stdout",
     "output_type": "stream",
     "text": [
      "['.0001.scavengerhunt', '.0002.scavengerhunt', '.0003.scavengerhunt', '.0004.scavengerhunt', '.0005.scavengerhunt', '.0006.scavengerhunt', '.0007.scavengerhunt', '.0008.scavengerhunt.0012.scavengerhunt', '.0009.scavengerhunt', '.0010.scavengerhunt', '.0011.scavengerhunt', '.0013.scavengerhunt', '.0014.scavengerhunt', '.0015.scavengerhunt', '.0016.scavengerhunt.0024.scavengerhunt', '.0017.scavengerhunt', '.0018.scavengerhunt', '.0019.scavengerhunt', '.0020.scavengerhunt', '.0021.scavengerhunt', '.0022.scavengerhunt', '.0023.scavengerhunt']\n"
     ]
    }
   ],
   "source": [
    "print(list_asc)"
   ]
  },
  {
   "cell_type": "markdown",
   "metadata": {},
   "source": [
    "#### 3. Read the content of each secret files into an array of strings.\n",
    "Since the response is encoded, you will need to send the following information in the header of your request:\n",
    "````python\n",
    "headers = {'Accept': 'application/vnd.github.v3.raw'}\n",
    "````"
   ]
  },
  {
   "cell_type": "code",
   "execution_count": 61,
   "metadata": {},
   "outputs": [
    {
     "data": {
      "text/html": [
       "<div>\n",
       "<style scoped>\n",
       "    .dataframe tbody tr th:only-of-type {\n",
       "        vertical-align: middle;\n",
       "    }\n",
       "\n",
       "    .dataframe tbody tr th {\n",
       "        vertical-align: top;\n",
       "    }\n",
       "\n",
       "    .dataframe thead th {\n",
       "        text-align: right;\n",
       "    }\n",
       "</style>\n",
       "<table border=\"1\" class=\"dataframe\">\n",
       "  <thead>\n",
       "    <tr style=\"text-align: right;\">\n",
       "      <th></th>\n",
       "      <th>name</th>\n",
       "      <th>path</th>\n",
       "      <th>sha</th>\n",
       "      <th>size</th>\n",
       "      <th>url</th>\n",
       "      <th>html_url</th>\n",
       "      <th>git_url</th>\n",
       "      <th>download_url</th>\n",
       "      <th>type</th>\n",
       "      <th>content</th>\n",
       "      <th>encoding</th>\n",
       "      <th>_links.self</th>\n",
       "      <th>_links.git</th>\n",
       "      <th>_links.html</th>\n",
       "    </tr>\n",
       "  </thead>\n",
       "  <tbody>\n",
       "    <tr>\n",
       "      <th>0</th>\n",
       "      <td>.0006.scavengerhunt</td>\n",
       "      <td>15024/.0006.scavengerhunt</td>\n",
       "      <td>1c9064284a24b3486015eafdb391b141c27ada2b</td>\n",
       "      <td>3</td>\n",
       "      <td>https://api.github.com/repos/ironhack-datalabs...</td>\n",
       "      <td>https://github.com/ironhack-datalabs/scavenger...</td>\n",
       "      <td>https://api.github.com/repos/ironhack-datalabs...</td>\n",
       "      <td>https://raw.githubusercontent.com/ironhack-dat...</td>\n",
       "      <td>file</td>\n",
       "      <td>b2YK\\n</td>\n",
       "      <td>base64</td>\n",
       "      <td>https://api.github.com/repos/ironhack-datalabs...</td>\n",
       "      <td>https://api.github.com/repos/ironhack-datalabs...</td>\n",
       "      <td>https://github.com/ironhack-datalabs/scavenger...</td>\n",
       "    </tr>\n",
       "  </tbody>\n",
       "</table>\n",
       "</div>"
      ],
      "text/plain": [
       "                  name                       path  \\\n",
       "0  .0006.scavengerhunt  15024/.0006.scavengerhunt   \n",
       "\n",
       "                                        sha  size  \\\n",
       "0  1c9064284a24b3486015eafdb391b141c27ada2b     3   \n",
       "\n",
       "                                                 url  \\\n",
       "0  https://api.github.com/repos/ironhack-datalabs...   \n",
       "\n",
       "                                            html_url  \\\n",
       "0  https://github.com/ironhack-datalabs/scavenger...   \n",
       "\n",
       "                                             git_url  \\\n",
       "0  https://api.github.com/repos/ironhack-datalabs...   \n",
       "\n",
       "                                        download_url  type content encoding  \\\n",
       "0  https://raw.githubusercontent.com/ironhack-dat...  file  b2YK\\n   base64   \n",
       "\n",
       "                                         _links.self  \\\n",
       "0  https://api.github.com/repos/ironhack-datalabs...   \n",
       "\n",
       "                                          _links.git  \\\n",
       "0  https://api.github.com/repos/ironhack-datalabs...   \n",
       "\n",
       "                                         _links.html  \n",
       "0  https://github.com/ironhack-datalabs/scavenger...  "
      ]
     },
     "execution_count": 61,
     "metadata": {},
     "output_type": "execute_result"
    }
   ],
   "source": [
    "response_filetest = requests.get(f'https://api.github.com/repos/ironhack-datalabs/scavenger/contents/15024/.0006.scavengerhunt', \n",
    "                                headers={'Accept': 'application/vnd.github.v3+json',\n",
    "                                'Authorization': f'token {github_token}'})\n",
    "\n",
    "content_file2 = response_filetest.json()\n",
    "content_file_flattened2 = json_normalize(content_file2)\n",
    "#y = open(str(content_file2), 'r')\n",
    "\n",
    "#y.read()\n",
    "content_file_flattened2"
   ]
  },
  {
   "cell_type": "markdown",
   "metadata": {},
   "source": [
    "#### 4. Concatenate the strings in the array separating each two with a whitespace."
   ]
  },
  {
   "cell_type": "code",
   "execution_count": null,
   "metadata": {},
   "outputs": [],
   "source": [
    "# your code here"
   ]
  },
  {
   "cell_type": "markdown",
   "metadata": {},
   "source": [
    "#### 5. Print out the joke."
   ]
  },
  {
   "cell_type": "code",
   "execution_count": null,
   "metadata": {},
   "outputs": [],
   "source": [
    "# your code here"
   ]
  }
 ],
 "metadata": {
  "kernelspec": {
   "display_name": "Python 3",
   "language": "python",
   "name": "python3"
  },
  "language_info": {
   "codemirror_mode": {
    "name": "ipython",
    "version": 3
   },
   "file_extension": ".py",
   "mimetype": "text/x-python",
   "name": "python",
   "nbconvert_exporter": "python",
   "pygments_lexer": "ipython3",
   "version": "3.8.5"
  }
 },
 "nbformat": 4,
 "nbformat_minor": 4
}
