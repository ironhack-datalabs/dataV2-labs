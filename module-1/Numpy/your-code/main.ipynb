{
 "cells": [
  {
   "cell_type": "markdown",
   "metadata": {},
   "source": [
    "# Introduction to NumPy\n",
    "\n",
    "\n",
    "#### 1. Import NumPy under the name np."
   ]
  },
  {
   "cell_type": "code",
   "execution_count": 1,
   "metadata": {},
   "outputs": [],
   "source": [
    "# your code here\n",
    "import numpy as np"
   ]
  },
  {
   "cell_type": "markdown",
   "metadata": {},
   "source": [
    "#### 2. Print your NumPy version."
   ]
  },
  {
   "cell_type": "code",
   "execution_count": 3,
   "metadata": {},
   "outputs": [
    {
     "data": {
      "text/plain": [
       "'1.19.2'"
      ]
     },
     "execution_count": 3,
     "metadata": {},
     "output_type": "execute_result"
    }
   ],
   "source": [
    "# your code here\n",
    "np.version.version"
   ]
  },
  {
   "cell_type": "markdown",
   "metadata": {},
   "source": [
    "#### 3. Generate a 2x3x5 3-dimensional array with random values. Assign the array to variable *a*.\n",
    "**Challenge**: there are at least three easy ways that use numpy to generate random arrays. How many ways can you find?"
   ]
  },
  {
   "cell_type": "code",
   "execution_count": 12,
   "metadata": {},
   "outputs": [
    {
     "name": "stdout",
     "output_type": "stream",
     "text": [
      "[[[-0.50984651  0.48446228 -1.78824515  0.34950598 -1.1815681 ]\n",
      "  [ 0.3332354  -0.18913144 -1.82025376  1.69107763 -1.35685626]\n",
      "  [ 0.52464229 -0.12646385 -0.8189204  -0.49502873  0.06258117]]\n",
      "\n",
      " [[-0.73335218 -0.33315884  0.85935823  2.80314125  2.34303045]\n",
      "  [-2.08561776 -1.28902309 -0.5765454   0.22142779  0.45178962]\n",
      "  [ 1.99358054  0.01856017  0.17633215 -0.76329711  0.99122226]]]\n",
      "[[[0.49680766 0.55381271 0.86579155 0.21458602 0.75825219]\n",
      "  [0.55194408 0.09083649 0.54688034 0.17250208 0.75417896]\n",
      "  [0.72770935 0.2407157  0.33155438 0.78242013 0.42248447]]\n",
      "\n",
      " [[0.01153402 0.52235036 0.74400014 0.18354748 0.85679581]\n",
      "  [0.80954466 0.16557261 0.56739215 0.17225349 0.6684927 ]\n",
      "  [0.11867635 0.17159624 0.7926703  0.46338918 0.37414708]]]\n",
      "[[[0.53976316 0.48454076 0.62709213 0.68805149 0.19956626]\n",
      "  [0.87118575 0.13244108 0.48327023 0.68866844 0.59084473]\n",
      "  [0.64685185 0.66577192 0.54008364 0.23044377 0.63985018]]\n",
      "\n",
      " [[0.84722993 0.29615362 0.75888318 0.55811411 0.20051464]\n",
      "  [0.3091574  0.17594352 0.68428871 0.68682993 0.1799517 ]\n",
      "  [0.9894852  0.89199528 0.38698909 0.81322896 0.00415881]]]\n"
     ]
    }
   ],
   "source": [
    "# Method 1\n",
    "A = np.random.randn(2,3,5)"
   ]
  },
  {
   "cell_type": "code",
   "execution_count": null,
   "metadata": {},
   "outputs": [],
   "source": [
    "# Method 2\n",
    "print(np.random.random((2,3,5)))"
   ]
  },
  {
   "cell_type": "code",
   "execution_count": null,
   "metadata": {},
   "outputs": [],
   "source": [
    "# Method 3\n",
    "print(np.random.rand(2,3,5))"
   ]
  },
  {
   "cell_type": "markdown",
   "metadata": {},
   "source": [
    "#### 4. Print *a*.\n"
   ]
  },
  {
   "cell_type": "code",
   "execution_count": 13,
   "metadata": {},
   "outputs": [
    {
     "name": "stdout",
     "output_type": "stream",
     "text": [
      "[[[-0.50984651  0.48446228 -1.78824515  0.34950598 -1.1815681 ]\n",
      "  [ 0.3332354  -0.18913144 -1.82025376  1.69107763 -1.35685626]\n",
      "  [ 0.52464229 -0.12646385 -0.8189204  -0.49502873  0.06258117]]\n",
      "\n",
      " [[-0.73335218 -0.33315884  0.85935823  2.80314125  2.34303045]\n",
      "  [-2.08561776 -1.28902309 -0.5765454   0.22142779  0.45178962]\n",
      "  [ 1.99358054  0.01856017  0.17633215 -0.76329711  0.99122226]]]\n"
     ]
    }
   ],
   "source": [
    "# your code here\n",
    "print(A)"
   ]
  },
  {
   "cell_type": "markdown",
   "metadata": {},
   "source": [
    "#### 5. Create a 5x2x3 3-dimensional array with all values equaling 1. Assign the array to variable *b*."
   ]
  },
  {
   "cell_type": "code",
   "execution_count": 15,
   "metadata": {},
   "outputs": [],
   "source": [
    "# your code here\n",
    "B = np.ones((5,2,3))"
   ]
  },
  {
   "cell_type": "markdown",
   "metadata": {},
   "source": [
    "#### 6. Print *b*.\n"
   ]
  },
  {
   "cell_type": "code",
   "execution_count": 16,
   "metadata": {},
   "outputs": [
    {
     "name": "stdout",
     "output_type": "stream",
     "text": [
      "[[[1. 1. 1.]\n",
      "  [1. 1. 1.]]\n",
      "\n",
      " [[1. 1. 1.]\n",
      "  [1. 1. 1.]]\n",
      "\n",
      " [[1. 1. 1.]\n",
      "  [1. 1. 1.]]\n",
      "\n",
      " [[1. 1. 1.]\n",
      "  [1. 1. 1.]]\n",
      "\n",
      " [[1. 1. 1.]\n",
      "  [1. 1. 1.]]]\n"
     ]
    }
   ],
   "source": [
    "# your code here\n",
    "print(B)"
   ]
  },
  {
   "cell_type": "markdown",
   "metadata": {},
   "source": [
    "#### 7. Do *a* and *b* have the same size? How do you prove that in Python code?"
   ]
  },
  {
   "cell_type": "code",
   "execution_count": 18,
   "metadata": {},
   "outputs": [
    {
     "data": {
      "text/plain": [
       "False"
      ]
     },
     "execution_count": 18,
     "metadata": {},
     "output_type": "execute_result"
    }
   ],
   "source": [
    "# your code here\n",
    "np.shape(A) == np.shape(B)"
   ]
  },
  {
   "cell_type": "markdown",
   "metadata": {},
   "source": [
    "#### 8. Are you able to add *a* and *b*? Why or why not?\n"
   ]
  },
  {
   "cell_type": "code",
   "execution_count": 19,
   "metadata": {},
   "outputs": [
    {
     "ename": "ValueError",
     "evalue": "operands could not be broadcast together with shapes (2,3,5) (5,2,3) ",
     "output_type": "error",
     "traceback": [
      "\u001b[0;31m---------------------------------------------------------------------------\u001b[0m",
      "\u001b[0;31mValueError\u001b[0m                                Traceback (most recent call last)",
      "\u001b[0;32m<ipython-input-19-c0433ef7bddb>\u001b[0m in \u001b[0;36m<module>\u001b[0;34m\u001b[0m\n\u001b[1;32m      1\u001b[0m \u001b[0;31m# your answer here\u001b[0m\u001b[0;34m\u001b[0m\u001b[0;34m\u001b[0m\u001b[0;34m\u001b[0m\u001b[0m\n\u001b[0;32m----> 2\u001b[0;31m \u001b[0mA\u001b[0m \u001b[0;34m+\u001b[0m \u001b[0mB\u001b[0m\u001b[0;34m\u001b[0m\u001b[0;34m\u001b[0m\u001b[0m\n\u001b[0m",
      "\u001b[0;31mValueError\u001b[0m: operands could not be broadcast together with shapes (2,3,5) (5,2,3) "
     ]
    }
   ],
   "source": [
    "# your answer here\n",
    "# no not the same shape"
   ]
  },
  {
   "cell_type": "markdown",
   "metadata": {},
   "source": [
    "#### 9. Transpose *b* so that it has the same structure of *a* (i.e. become a 2x3x5 array). Assign the transposed array to variable *c*."
   ]
  },
  {
   "cell_type": "code",
   "execution_count": 27,
   "metadata": {},
   "outputs": [
    {
     "name": "stdout",
     "output_type": "stream",
     "text": [
      "(2, 3, 5)\n",
      "(5, 2, 3)\n",
      "(2, 3, 5)\n"
     ]
    }
   ],
   "source": [
    "# your code here\n",
    "C = np.transpose(B,(1,2,0))\n",
    "print(np.shape(A))\n",
    "print(np.shape(B))\n",
    "print(np.shape(C))"
   ]
  },
  {
   "cell_type": "markdown",
   "metadata": {},
   "source": [
    "#### 10. Try to add *a* and *c*. Now it should work. Assign the sum to variable *d*. But why does it work now?"
   ]
  },
  {
   "cell_type": "code",
   "execution_count": 28,
   "metadata": {},
   "outputs": [],
   "source": [
    "# your code/answer here\n",
    "D = C + A"
   ]
  },
  {
   "cell_type": "markdown",
   "metadata": {},
   "source": [
    "#### 11. Print *a* and *d*. Notice the difference and relation of the two array in terms of the values? Explain."
   ]
  },
  {
   "cell_type": "code",
   "execution_count": 31,
   "metadata": {},
   "outputs": [
    {
     "name": "stdout",
     "output_type": "stream",
     "text": [
      "[[[ 0.49015349  1.48446228 -0.78824515  1.34950598 -0.1815681 ]\n",
      "  [ 1.3332354   0.81086856 -0.82025376  2.69107763 -0.35685626]\n",
      "  [ 1.52464229  0.87353615  0.1810796   0.50497127  1.06258117]]\n",
      "\n",
      " [[ 0.26664782  0.66684116  1.85935823  3.80314125  3.34303045]\n",
      "  [-1.08561776 -0.28902309  0.4234546   1.22142779  1.45178962]\n",
      "  [ 2.99358054  1.01856017  1.17633215  0.23670289  1.99122226]]]\n",
      "[[[-0.50984651  0.48446228 -1.78824515  0.34950598 -1.1815681 ]\n",
      "  [ 0.3332354  -0.18913144 -1.82025376  1.69107763 -1.35685626]\n",
      "  [ 0.52464229 -0.12646385 -0.8189204  -0.49502873  0.06258117]]\n",
      "\n",
      " [[-0.73335218 -0.33315884  0.85935823  2.80314125  2.34303045]\n",
      "  [-2.08561776 -1.28902309 -0.5765454   0.22142779  0.45178962]\n",
      "  [ 1.99358054  0.01856017  0.17633215 -0.76329711  0.99122226]]]\n"
     ]
    }
   ],
   "source": [
    "# your code/answer here\n",
    "print(D)\n",
    "print(A)\n",
    "# there is a difference of 1 with all elements"
   ]
  },
  {
   "cell_type": "markdown",
   "metadata": {},
   "source": [
    "#### 12. Multiply *a* and *c*. Assign the result to *e*."
   ]
  },
  {
   "cell_type": "code",
   "execution_count": 32,
   "metadata": {},
   "outputs": [],
   "source": [
    "# your code here\n",
    "E = A * C"
   ]
  },
  {
   "cell_type": "markdown",
   "metadata": {},
   "source": [
    "#### 13. Does *e* equal to *a*? Why or why not?\n"
   ]
  },
  {
   "cell_type": "code",
   "execution_count": 34,
   "metadata": {},
   "outputs": [
    {
     "name": "stdout",
     "output_type": "stream",
     "text": [
      "[[[-0.50984651  0.48446228 -1.78824515  0.34950598 -1.1815681 ]\n",
      "  [ 0.3332354  -0.18913144 -1.82025376  1.69107763 -1.35685626]\n",
      "  [ 0.52464229 -0.12646385 -0.8189204  -0.49502873  0.06258117]]\n",
      "\n",
      " [[-0.73335218 -0.33315884  0.85935823  2.80314125  2.34303045]\n",
      "  [-2.08561776 -1.28902309 -0.5765454   0.22142779  0.45178962]\n",
      "  [ 1.99358054  0.01856017  0.17633215 -0.76329711  0.99122226]]]\n",
      "[[[-0.50984651  0.48446228 -1.78824515  0.34950598 -1.1815681 ]\n",
      "  [ 0.3332354  -0.18913144 -1.82025376  1.69107763 -1.35685626]\n",
      "  [ 0.52464229 -0.12646385 -0.8189204  -0.49502873  0.06258117]]\n",
      "\n",
      " [[-0.73335218 -0.33315884  0.85935823  2.80314125  2.34303045]\n",
      "  [-2.08561776 -1.28902309 -0.5765454   0.22142779  0.45178962]\n",
      "  [ 1.99358054  0.01856017  0.17633215 -0.76329711  0.99122226]]]\n",
      "[[[1. 1. 1. 1. 1.]\n",
      "  [1. 1. 1. 1. 1.]\n",
      "  [1. 1. 1. 1. 1.]]\n",
      "\n",
      " [[1. 1. 1. 1. 1.]\n",
      "  [1. 1. 1. 1. 1.]\n",
      "  [1. 1. 1. 1. 1.]]]\n"
     ]
    }
   ],
   "source": [
    "# your code/answer here\n",
    "print(A)\n",
    "print(E)\n",
    "print(C) # C = 1 all elements"
   ]
  },
  {
   "cell_type": "markdown",
   "metadata": {},
   "source": [
    "#### 14. Identify the max, min, and mean values in *d*. Assign those values to variables *d_max*, *d_min* and *d_mean*."
   ]
  },
  {
   "cell_type": "code",
   "execution_count": 37,
   "metadata": {},
   "outputs": [
    {
     "name": "stdout",
     "output_type": "stream",
     "text": [
      "0.9745546221095459\n"
     ]
    }
   ],
   "source": [
    "# your code here\n",
    "d_max = np.max(D)\n",
    "d_min = np.min(D)\n",
    "d_mean = np.mean(D)\n",
    "print(d_mean)"
   ]
  },
  {
   "cell_type": "markdown",
   "metadata": {},
   "source": [
    "#### 15. Now we want to label the values in *d*. First create an empty array *f* with the same shape (i.e. 2x3x5) as *d* using `np.empty`.\n"
   ]
  },
  {
   "cell_type": "code",
   "execution_count": 40,
   "metadata": {},
   "outputs": [],
   "source": [
    "# your code here\n",
    "F = np.empty((2,3,5))"
   ]
  },
  {
   "cell_type": "markdown",
   "metadata": {},
   "source": [
    "#### 16. Populate the values in *f*. \n",
    "\n",
    "For each value in *d*, if it's larger than *d_min* but smaller than *d_mean*, assign 25 to the corresponding value in *f*. If a value in *d* is larger than *d_mean* but smaller than *d_max*, assign 75 to the corresponding value in *f*. If a value equals to *d_mean*, assign 50 to the corresponding value in *f*. Assign 0 to the corresponding value(s) in *f* for *d_min* in *d*. Assign 100 to the corresponding value(s) in *f* for *d_max* in *d*. In the end, f should have only the following values: 0, 25, 50, 75, and 100.\n",
    "\n",
    "**Note**: you don't have to use Numpy in this question."
   ]
  },
  {
   "cell_type": "code",
   "execution_count": 51,
   "metadata": {},
   "outputs": [],
   "source": [
    "# your code here\n",
    "\n",
    "def getValue(x, myMin, myMax, myMean):\n",
    "    if x > myMin and x < myMean:\n",
    "        return 25\n",
    "    elif x > myMean and x < myMax:\n",
    "        return 75\n",
    "    elif x == myMean:\n",
    "        return 50\n",
    "    elif x == myMin:\n",
    "        return 0\n",
    "    else:\n",
    "        return 100\n",
    "    \n",
    "F = [[[getValue(element, d_min, d_max, d_mean) for element in line] for line in TwoDArray] for TwoDArray in D]\n"
   ]
  },
  {
   "cell_type": "markdown",
   "metadata": {},
   "source": [
    "#### 17. Print *d* and *f*. Do you have your expected *f*?\n",
    "For instance, if your *d* is:\n",
    "```python\n",
    "[[[1.85836099, 1.67064465, 1.62576044, 1.40243961, 1.88454931],\n",
    "[1.75354326, 1.69403643, 1.36729252, 1.61415071, 1.12104981],\n",
    "[1.72201435, 1.1862918 , 1.87078449, 1.7726778 , 1.88180042]],\n",
    "[[1.44747908, 1.31673383, 1.02000951, 1.52218947, 1.97066381],\n",
    "[1.79129243, 1.74983003, 1.96028037, 1.85166831, 1.65450881],\n",
    "[1.18068344, 1.9587381 , 1.00656599, 1.93402165, 1.73514584]]]\n",
    "```\n",
    "Your *f* should be:\n",
    "```python\n",
    "[[[ 75.,  75.,  75.,  25.,  75.],\n",
    "[ 75.,  75.,  25.,  25.,  25.],\n",
    "[ 75.,  25.,  75.,  75.,  75.]],\n",
    "[[ 25.,  25.,  25.,  25., 100.],\n",
    "[ 75.,  75.,  75.,  75.,  75.],\n",
    "[ 25.,  75.,   0.,  75.,  75.]]]\n",
    "```"
   ]
  },
  {
   "cell_type": "code",
   "execution_count": 52,
   "metadata": {},
   "outputs": [
    {
     "name": "stdout",
     "output_type": "stream",
     "text": [
      "[[[ 0.49015349  1.48446228 -0.78824515  1.34950598 -0.1815681 ]\n",
      "  [ 1.3332354   0.81086856 -0.82025376  2.69107763 -0.35685626]\n",
      "  [ 1.52464229  0.87353615  0.1810796   0.50497127  1.06258117]]\n",
      "\n",
      " [[ 0.26664782  0.66684116  1.85935823  3.80314125  3.34303045]\n",
      "  [-1.08561776 -0.28902309  0.4234546   1.22142779  1.45178962]\n",
      "  [ 2.99358054  1.01856017  1.17633215  0.23670289  1.99122226]]]\n",
      "[[[25, 75, 25, 75, 25], [75, 25, 25, 75, 25], [75, 25, 25, 25, 75]], [[25, 25, 75, 100, 75], [0, 25, 25, 75, 75], [75, 75, 75, 25, 75]]]\n"
     ]
    }
   ],
   "source": [
    "# your code here\n",
    "print(D)\n",
    "print(F)"
   ]
  },
  {
   "cell_type": "markdown",
   "metadata": {},
   "source": [
    "#### 18. Bonus question: instead of using numbers (i.e. 0, 25, 50, 75, and 100), use string values  (\"A\", \"B\", \"C\", \"D\", and \"E\") to label the array elements. For the example above, the expected result is:\n",
    "\n",
    "```python\n",
    "[[[ 'D',  'D',  'D',  'B',  'D'],\n",
    "[ 'D',  'D',  'B',  'B',  'B'],\n",
    "[ 'D',  'B',  'D',  'D',  'D']],\n",
    "[[ 'B',  'B',  'B',  'B',  'E'],\n",
    "[ 'D',  'D',  'D',  'D',  'D'],\n",
    "[ 'B',  'D',   'A',  'D', 'D']]]\n",
    "```\n",
    "**Note**: you don't have to use Numpy in this question."
   ]
  },
  {
   "cell_type": "code",
   "execution_count": 53,
   "metadata": {},
   "outputs": [],
   "source": [
    "# your code here\n",
    "def getString(x, myMin, myMax, myMean):\n",
    "    if x > myMin and x < myMean:\n",
    "        return 'B'\n",
    "    elif x > myMean and x < myMax:\n",
    "        return 'D'\n",
    "    elif x == myMean:\n",
    "        return 'C'\n",
    "    elif x == myMin:\n",
    "        return 'A'\n",
    "    else:\n",
    "        return 'E'\n",
    "    \n",
    "F = [[[getString(element, d_min, d_max, d_mean) for element in line] for line in TwoDArray] for TwoDArray in D]\n"
   ]
  },
  {
   "cell_type": "code",
   "execution_count": 54,
   "metadata": {},
   "outputs": [
    {
     "name": "stdout",
     "output_type": "stream",
     "text": [
      "[[['B', 'D', 'B', 'D', 'B'], ['D', 'B', 'B', 'D', 'B'], ['D', 'B', 'B', 'B', 'D']], [['B', 'B', 'D', 'E', 'D'], ['A', 'B', 'B', 'D', 'D'], ['D', 'D', 'D', 'B', 'D']]]\n"
     ]
    }
   ],
   "source": [
    "print(F)"
   ]
  },
  {
   "cell_type": "code",
   "execution_count": 62,
   "metadata": {},
   "outputs": [
    {
     "data": {
      "text/plain": [
       "'4547-9-3'"
      ]
     },
     "execution_count": 62,
     "metadata": {},
     "output_type": "execute_result"
    }
   ],
   "source": [
    "\"\"\"Write a function insert_dash(num) / insertDash(num) / InsertDash(int num) that will insert dashes ('-')\n",
    "between each two odd numbers in num. \n",
    "For example: if num is 454793 the output should be 4547-9-3. Don't count zero as an odd number.\n",
    "\n",
    "Note that the number will always be non-negative (>= 0).\n",
    "\"\"\"\n",
    "\n",
    "\n",
    "def getTwoOdds(number):\n",
    "    isPreviousOdd = False\n",
    "    result = ''\n",
    "    for element in str(number):\n",
    "        isCurrentOdd = int(element) % 2 != 0\n",
    "        if isCurrentOdd and isPreviousOdd:\n",
    "            result+= '-'+element\n",
    "        else:\n",
    "            result+= element\n",
    "        isPreviousOdd = isCurrentOdd\n",
    "    return result\n",
    "        \n",
    "getTwoOdds(454793)"
   ]
  },
  {
   "cell_type": "code",
   "execution_count": null,
   "metadata": {},
   "outputs": [],
   "source": []
  }
 ],
 "metadata": {
  "kernelspec": {
   "display_name": "Python 3",
   "language": "python",
   "name": "python3"
  },
  "language_info": {
   "codemirror_mode": {
    "name": "ipython",
    "version": 3
   },
   "file_extension": ".py",
   "mimetype": "text/x-python",
   "name": "python",
   "nbconvert_exporter": "python",
   "pygments_lexer": "ipython3",
   "version": "3.8.5"
  }
 },
 "nbformat": 4,
 "nbformat_minor": 4
}
