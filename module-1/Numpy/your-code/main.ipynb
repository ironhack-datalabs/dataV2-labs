{
 "cells": [
  {
   "cell_type": "markdown",
   "metadata": {},
   "source": [
    "# Introduction to NumPy\n",
    "\n",
    "\n",
    "#### 1. Import NumPy under the name np."
   ]
  },
  {
   "cell_type": "code",
   "execution_count": 3,
   "metadata": {
    "collapsed": true
   },
   "outputs": [],
   "source": [
    "import numpy as np"
   ]
  },
  {
   "cell_type": "markdown",
   "metadata": {},
   "source": [
    "#### 2. Print your NumPy version."
   ]
  },
  {
   "cell_type": "code",
   "execution_count": 4,
   "metadata": {
    "collapsed": false
   },
   "outputs": [
    {
     "name": "stdout",
     "output_type": "stream",
     "text": [
      "<module 'numpy' from '/Users/Veeka/anaconda/lib/python3.4/site-packages/numpy/__init__.py'>\n"
     ]
    }
   ],
   "source": [
    "print(np)"
   ]
  },
  {
   "cell_type": "markdown",
   "metadata": {},
   "source": [
    "#### 3. Generate a 2x3x5 3-dimensional array with random values. Assign the array to variable *a*.\n",
    "**Challenge**: there are at least three easy ways that use numpy to generate random arrays. How many ways can you find?"
   ]
  },
  {
   "cell_type": "code",
   "execution_count": 10,
   "metadata": {
    "collapsed": false
   },
   "outputs": [
    {
     "name": "stdout",
     "output_type": "stream",
     "text": [
      "[[[ 0.34897139  0.15142633  0.58206995  0.21390391  0.34324816]\n",
      "  [ 0.91654477  0.80973979  0.02136075  0.4921102   0.18634341]\n",
      "  [ 0.32089766  0.14580275  0.92789803  0.46102743  0.37662616]]\n",
      "\n",
      " [[ 0.93754089  0.1953373   0.8048681   0.28495007  0.00244941]\n",
      "  [ 0.67133409  0.79053187  0.90486799  0.10373311  0.25350126]\n",
      "  [ 0.71970351  0.75921907  0.72591085  0.95488176  0.12928228]]]\n"
     ]
    }
   ],
   "source": [
    "# Method 1\n",
    "a = np.random.random((2,3,5))\n",
    "print(a)"
   ]
  },
  {
   "cell_type": "code",
   "execution_count": 11,
   "metadata": {
    "collapsed": false
   },
   "outputs": [
    {
     "name": "stdout",
     "output_type": "stream",
     "text": [
      "[[[ 0.91252332  0.60493547  0.59908199  0.37560544  0.90829198]\n",
      "  [ 0.50390017  0.86165301  0.98656726  0.23714019  0.61991885]\n",
      "  [ 0.50821839  0.71220113  0.40130057  0.18118954  0.44860378]]\n",
      "\n",
      " [[ 0.08797017  0.79650572  0.12177685  0.96283688  0.32615171]\n",
      "  [ 0.65594566  0.91062848  0.59086303  0.77358489  0.26337469]\n",
      "  [ 0.47352512  0.88145818  0.40812382  0.76968062  0.84903353]]]\n"
     ]
    }
   ],
   "source": [
    "# Method 2\n",
    "a = np.random.rand(2,3,5)\n",
    "print(a)"
   ]
  },
  {
   "cell_type": "code",
   "execution_count": 12,
   "metadata": {
    "collapsed": false
   },
   "outputs": [
    {
     "name": "stdout",
     "output_type": "stream",
     "text": [
      "[[[ 0.72290205  0.10659068  0.65724085  0.74422644  0.95280503]\n",
      "  [ 0.22185243  0.21969498  0.31722055  0.50998096  0.54131707]\n",
      "  [ 0.78368751  0.18323387  0.2906823   0.17414157  0.96490528]]\n",
      "\n",
      " [[ 0.89435886  0.96986971  0.71229997  0.37792392  0.38869377]\n",
      "  [ 0.65646515  0.12495514  0.29072727  0.27348403  0.41487682]\n",
      "  [ 0.09558783  0.12397421  0.97410633  0.14579298  0.24608502]]]\n"
     ]
    }
   ],
   "source": [
    "# Method 3 \n",
    "import random\n",
    "a = np.array([[[random.random() for i in range(5)] for j in range(3)] for k in range(2)])\n",
    "print(a)"
   ]
  },
  {
   "cell_type": "markdown",
   "metadata": {},
   "source": [
    "#### 4. Print *a*.\n"
   ]
  },
  {
   "cell_type": "code",
   "execution_count": 13,
   "metadata": {
    "collapsed": false
   },
   "outputs": [
    {
     "name": "stdout",
     "output_type": "stream",
     "text": [
      "[[[ 0.72290205  0.10659068  0.65724085  0.74422644  0.95280503]\n",
      "  [ 0.22185243  0.21969498  0.31722055  0.50998096  0.54131707]\n",
      "  [ 0.78368751  0.18323387  0.2906823   0.17414157  0.96490528]]\n",
      "\n",
      " [[ 0.89435886  0.96986971  0.71229997  0.37792392  0.38869377]\n",
      "  [ 0.65646515  0.12495514  0.29072727  0.27348403  0.41487682]\n",
      "  [ 0.09558783  0.12397421  0.97410633  0.14579298  0.24608502]]]\n"
     ]
    }
   ],
   "source": [
    "print(a)"
   ]
  },
  {
   "cell_type": "markdown",
   "metadata": {},
   "source": [
    "#### 5. Create a 5x2x3 3-dimensional array with all values equaling 1. Assign the array to variable *b*."
   ]
  },
  {
   "cell_type": "code",
   "execution_count": 14,
   "metadata": {
    "collapsed": false
   },
   "outputs": [],
   "source": [
    "b = np.ones((5,2,3))"
   ]
  },
  {
   "cell_type": "markdown",
   "metadata": {},
   "source": [
    "#### 6. Print *b*.\n"
   ]
  },
  {
   "cell_type": "code",
   "execution_count": 15,
   "metadata": {
    "collapsed": false
   },
   "outputs": [
    {
     "name": "stdout",
     "output_type": "stream",
     "text": [
      "[[[ 1.  1.  1.]\n",
      "  [ 1.  1.  1.]]\n",
      "\n",
      " [[ 1.  1.  1.]\n",
      "  [ 1.  1.  1.]]\n",
      "\n",
      " [[ 1.  1.  1.]\n",
      "  [ 1.  1.  1.]]\n",
      "\n",
      " [[ 1.  1.  1.]\n",
      "  [ 1.  1.  1.]]\n",
      "\n",
      " [[ 1.  1.  1.]\n",
      "  [ 1.  1.  1.]]]\n"
     ]
    }
   ],
   "source": [
    "print(b)"
   ]
  },
  {
   "cell_type": "markdown",
   "metadata": {},
   "source": [
    "#### 7. Do *a* and *b* have the same size? How do you prove that in Python code?"
   ]
  },
  {
   "cell_type": "code",
   "execution_count": 16,
   "metadata": {
    "collapsed": false
   },
   "outputs": [
    {
     "name": "stdout",
     "output_type": "stream",
     "text": [
      "30\n",
      "30\n"
     ]
    }
   ],
   "source": [
    "print(a.size)\n",
    "print(b.size)"
   ]
  },
  {
   "cell_type": "markdown",
   "metadata": {},
   "source": [
    "#### 8. Are you able to add *a* and *b*? Why or why not?\n"
   ]
  },
  {
   "cell_type": "code",
   "execution_count": 17,
   "metadata": {
    "collapsed": false
   },
   "outputs": [
    {
     "ename": "ValueError",
     "evalue": "operands could not be broadcast together with shapes (2,3,5) (5,2,3) ",
     "output_type": "error",
     "traceback": [
      "\u001b[0;31m---------------------------------------------------------------------------\u001b[0m",
      "\u001b[0;31mValueError\u001b[0m                                Traceback (most recent call last)",
      "\u001b[0;32m<ipython-input-17-c4a3258dfef9>\u001b[0m in \u001b[0;36m<module>\u001b[0;34m()\u001b[0m\n\u001b[1;32m      1\u001b[0m \u001b[0;31m#We can't add them together because array a is different shape than array b.\u001b[0m\u001b[0;34m\u001b[0m\u001b[0;34m\u001b[0m\u001b[0m\n\u001b[0;32m----> 2\u001b[0;31m \u001b[0msum_ab\u001b[0m \u001b[0;34m=\u001b[0m \u001b[0ma\u001b[0m \u001b[0;34m+\u001b[0m \u001b[0mb\u001b[0m\u001b[0;34m\u001b[0m\u001b[0m\n\u001b[0m\u001b[1;32m      3\u001b[0m \u001b[0mprint\u001b[0m\u001b[0;34m(\u001b[0m\u001b[0msum_ab\u001b[0m\u001b[0;34m)\u001b[0m\u001b[0;34m\u001b[0m\u001b[0m\n",
      "\u001b[0;31mValueError\u001b[0m: operands could not be broadcast together with shapes (2,3,5) (5,2,3) "
     ]
    }
   ],
   "source": [
    "#We can't add them together because array a is different shape than array b.\n",
    "sum_ab = a + b\n",
    "print(sum_ab)"
   ]
  },
  {
   "cell_type": "markdown",
   "metadata": {},
   "source": [
    "#### 9. Transpose *b* so that it has the same structure of *a* (i.e. become a 2x3x5 array). Assign the transposed array to variable *c*."
   ]
  },
  {
   "cell_type": "code",
   "execution_count": 5,
   "metadata": {
    "collapsed": false
   },
   "outputs": [
    {
     "name": "stdout",
     "output_type": "stream",
     "text": [
      "(5, 3, 2)\n",
      "(3, 2, 5)\n",
      "\n",
      "[[[ 1.  1.  1.  1.  1.]\n",
      "  [ 1.  1.  1.  1.  1.]\n",
      "  [ 1.  1.  1.  1.  1.]]\n",
      "\n",
      " [[ 1.  1.  1.  1.  1.]\n",
      "  [ 1.  1.  1.  1.  1.]\n",
      "  [ 1.  1.  1.  1.  1.]]]\n"
     ]
    }
   ],
   "source": [
    "import numpy as np\n",
    "b = np.ones((5,2,3))\n",
    "#print(b)\n",
    "\n",
    "a = np.random.random((2,3,5))\n",
    "#print(a)\n",
    "\n",
    "#c = np.transpose(b)\n",
    "c = np.transpose(a).shape\n",
    "print(c)\n",
    "\n",
    "d = np.transpose(b).shape\n",
    "print(d)\n",
    "\n",
    "# I cannot make the transposing work, so I'm creating b directly.\n",
    "\n",
    "print()\n",
    "\n",
    "c = np.ones ((2,3,5))\n",
    "print(c)"
   ]
  },
  {
   "cell_type": "markdown",
   "metadata": {},
   "source": [
    "#### 10. Try to add *a* and *c*. Now it should work. Assign the sum to variable *d*. But why does it work now?"
   ]
  },
  {
   "cell_type": "code",
   "execution_count": 6,
   "metadata": {
    "collapsed": false
   },
   "outputs": [
    {
     "name": "stdout",
     "output_type": "stream",
     "text": [
      "[[[ 1.07566888  1.1288069   1.41146058  1.03979293  1.95871146]\n",
      "  [ 1.2714315   1.31629981  1.98807438  1.05444939  1.4514606 ]\n",
      "  [ 1.62165228  1.64182964  1.91232016  1.4204024   1.74704965]]\n",
      "\n",
      " [[ 1.99312839  1.18089061  1.22351309  1.26588016  1.20977708]\n",
      "  [ 1.28354406  1.46875418  1.14524621  1.69889359  1.62422895]\n",
      "  [ 1.52235102  1.66033818  1.19529116  1.30610467  1.2451153 ]]]\n"
     ]
    }
   ],
   "source": [
    "d = a + c\n",
    "print(d)"
   ]
  },
  {
   "cell_type": "markdown",
   "metadata": {},
   "source": [
    "#### 11. Print *a* and *d*. Notice the difference and relation of the two array in terms of the values? Explain."
   ]
  },
  {
   "cell_type": "code",
   "execution_count": 20,
   "metadata": {
    "collapsed": false
   },
   "outputs": [
    {
     "name": "stdout",
     "output_type": "stream",
     "text": [
      "The values in array d is the addition of values in array a and c together.\n",
      "Array a\n",
      "[[[ 0.42454399  0.06276251  0.30591682  0.62906359  0.17104209]\n",
      "  [ 0.66871319  0.07204446  0.04632513  0.93650195  0.82055486]\n",
      "  [ 0.85266631  0.34722768  0.83964711  0.53413651  0.61357496]]\n",
      "\n",
      " [[ 0.87053779  0.09414269  0.46875827  0.60251062  0.430647  ]\n",
      "  [ 0.84778241  0.9475405   0.70692642  0.02930469  0.36697683]\n",
      "  [ 0.73869878  0.01962573  0.37028891  0.24801848  0.4136856 ]]]\n",
      "\n",
      "Array d\n",
      "[[[ 1.42454399  1.06276251  1.30591682  1.62906359  1.17104209]\n",
      "  [ 1.66871319  1.07204446  1.04632513  1.93650195  1.82055486]\n",
      "  [ 1.85266631  1.34722768  1.83964711  1.53413651  1.61357496]]\n",
      "\n",
      " [[ 1.87053779  1.09414269  1.46875827  1.60251062  1.430647  ]\n",
      "  [ 1.84778241  1.9475405   1.70692642  1.02930469  1.36697683]\n",
      "  [ 1.73869878  1.01962573  1.37028891  1.24801848  1.4136856 ]]]\n"
     ]
    }
   ],
   "source": [
    "print('The values in array d is the addition of values in array a and c together.')\n",
    "print('Array a')\n",
    "print(a)\n",
    "print()\n",
    "print('Array d')\n",
    "print(d)"
   ]
  },
  {
   "cell_type": "markdown",
   "metadata": {},
   "source": [
    "#### 12. Multiply *a* and *c*. Assign the result to *e*."
   ]
  },
  {
   "cell_type": "code",
   "execution_count": 7,
   "metadata": {
    "collapsed": false
   },
   "outputs": [
    {
     "name": "stdout",
     "output_type": "stream",
     "text": [
      "[[[ 0.07566888  0.1288069   0.41146058  0.03979293  0.95871146]\n",
      "  [ 0.2714315   0.31629981  0.98807438  0.05444939  0.4514606 ]\n",
      "  [ 0.62165228  0.64182964  0.91232016  0.4204024   0.74704965]]\n",
      "\n",
      " [[ 0.99312839  0.18089061  0.22351309  0.26588016  0.20977708]\n",
      "  [ 0.28354406  0.46875418  0.14524621  0.69889359  0.62422895]\n",
      "  [ 0.52235102  0.66033818  0.19529116  0.30610467  0.2451153 ]]]\n"
     ]
    }
   ],
   "source": [
    "e = a*c\n",
    "print(e)"
   ]
  },
  {
   "cell_type": "markdown",
   "metadata": {},
   "source": [
    "#### 13. Does *e* equal to *a*? Why or why not?\n"
   ]
  },
  {
   "cell_type": "code",
   "execution_count": 22,
   "metadata": {
    "collapsed": false
   },
   "outputs": [
    {
     "name": "stdout",
     "output_type": "stream",
     "text": [
      "Array e is equal to array a because any number multiplied by 1 is equal to that number\n",
      "Array e\n",
      "[[[ 0.42454399  0.06276251  0.30591682  0.62906359  0.17104209]\n",
      "  [ 0.66871319  0.07204446  0.04632513  0.93650195  0.82055486]\n",
      "  [ 0.85266631  0.34722768  0.83964711  0.53413651  0.61357496]]\n",
      "\n",
      " [[ 0.87053779  0.09414269  0.46875827  0.60251062  0.430647  ]\n",
      "  [ 0.84778241  0.9475405   0.70692642  0.02930469  0.36697683]\n",
      "  [ 0.73869878  0.01962573  0.37028891  0.24801848  0.4136856 ]]]\n",
      "\n",
      "Array a\n",
      "[[[ 0.42454399  0.06276251  0.30591682  0.62906359  0.17104209]\n",
      "  [ 0.66871319  0.07204446  0.04632513  0.93650195  0.82055486]\n",
      "  [ 0.85266631  0.34722768  0.83964711  0.53413651  0.61357496]]\n",
      "\n",
      " [[ 0.87053779  0.09414269  0.46875827  0.60251062  0.430647  ]\n",
      "  [ 0.84778241  0.9475405   0.70692642  0.02930469  0.36697683]\n",
      "  [ 0.73869878  0.01962573  0.37028891  0.24801848  0.4136856 ]]]\n"
     ]
    }
   ],
   "source": [
    "print('Array e is equal to array a because any number multiplied by 1 is equal to that number')\n",
    "print('Array e')\n",
    "print(e)\n",
    "print()\n",
    "print('Array a')\n",
    "print(a)"
   ]
  },
  {
   "cell_type": "markdown",
   "metadata": {},
   "source": [
    "#### 14. Identify the max, min, and mean values in *d*. Assign those values to variables *d_max*, *d_min* and *d_mean*."
   ]
  },
  {
   "cell_type": "code",
   "execution_count": 8,
   "metadata": {
    "collapsed": false
   },
   "outputs": [
    {
     "name": "stdout",
     "output_type": "stream",
     "text": [
      "[[[ 1.07566888  1.1288069   1.41146058  1.03979293  1.95871146]\n",
      "  [ 1.2714315   1.31629981  1.98807438  1.05444939  1.4514606 ]\n",
      "  [ 1.62165228  1.64182964  1.91232016  1.4204024   1.74704965]]\n",
      "\n",
      " [[ 1.99312839  1.18089061  1.22351309  1.26588016  1.20977708]\n",
      "  [ 1.28354406  1.46875418  1.14524621  1.69889359  1.62422895]\n",
      "  [ 1.52235102  1.66033818  1.19529116  1.30610467  1.2451153 ]]]\n",
      "\n",
      "Max of array d is 1.99312839086\n",
      "Min of array d is 1.0397929262\n",
      "Mean of array d is 1.43541557347\n"
     ]
    }
   ],
   "source": [
    "print(d)\n",
    "print()\n",
    "d_max = np.max(d)\n",
    "print('Max of array d is', d_max)\n",
    "\n",
    "d_min = np.min(d)\n",
    "print('Min of array d is', d_min)\n",
    "\n",
    "d_mean = np.mean(d)\n",
    "print('Mean of array d is', d_mean)"
   ]
  },
  {
   "cell_type": "markdown",
   "metadata": {},
   "source": [
    "#### 15. Now we want to label the values in *d*. First create an empty array *f* with the same shape (i.e. 2x3x5) as *d* using `np.empty`.\n"
   ]
  },
  {
   "cell_type": "code",
   "execution_count": 10,
   "metadata": {
    "collapsed": false
   },
   "outputs": [
    {
     "name": "stdout",
     "output_type": "stream",
     "text": [
      "[[[ 0.  0.  0.  0.  0.]\n",
      "  [ 0.  0.  0.  0.  0.]\n",
      "  [ 0.  0.  0.  0.  0.]]\n",
      "\n",
      " [[ 0.  0.  0.  0.  0.]\n",
      "  [ 0.  0.  0.  0.  0.]\n",
      "  [ 0.  0.  0.  0.  0.]]]\n"
     ]
    }
   ],
   "source": [
    "f = np.empty((2,3,5))\n",
    "print(f)"
   ]
  },
  {
   "cell_type": "markdown",
   "metadata": {},
   "source": [
    "#### 16. Populate the values in *f*. \n",
    "\n",
    "For each value in *d*, if it's larger than *d_min* but smaller than *d_mean*, assign 25 to the corresponding value in *f*. If a value in *d* is larger than *d_mean* but smaller than *d_max*, assign 75 to the corresponding value in *f*. If a value equals to *d_mean*, assign 50 to the corresponding value in *f*. Assign 0 to the corresponding value(s) in *f* for *d_min* in *d*. Assign 100 to the corresponding value(s) in *f* for *d_max* in *d*. In the end, f should have only the following values: 0, 25, 50, 75, and 100.\n",
    "\n",
    "**Note**: you don't have to use Numpy in this question."
   ]
  },
  {
   "cell_type": "code",
   "execution_count": 11,
   "metadata": {
    "collapsed": false
   },
   "outputs": [
    {
     "name": "stdout",
     "output_type": "stream",
     "text": [
      "[[[  25.   25.   25.    0.   75.]\n",
      "  [  25.   25.   75.   25.   75.]\n",
      "  [  75.   75.   75.   25.   75.]]\n",
      "\n",
      " [[ 100.   25.   25.   25.   25.]\n",
      "  [  25.   75.   25.   75.   75.]\n",
      "  [  75.   75.   25.   25.   25.]]]\n"
     ]
    }
   ],
   "source": [
    "#print('Max of array d is', d_max)\n",
    "#print('Min of array d is', d_min)\n",
    "#print('Mean of array d is', d_mean)\n",
    "#print(d)\n",
    "#print(f)\n",
    "\n",
    "for index0 in range(len(d)):\n",
    "    #print('index0 is', index0)\n",
    "    #print('value0 is', d [index0])\n",
    "    for index1 in range(len(d [index0])):\n",
    "        #print('index1 is', index1)\n",
    "        #print('value1 is', d [index0] [index1])\n",
    "        for index2 in range(len(d [index0] [index1])):\n",
    "            value = d [index0] [index1] [index2]\n",
    "            if value > d_min and value < d_mean:\n",
    "                f [index0] [index1] [index2] = 25\n",
    "            elif value > d_mean and value < d_max:\n",
    "                f [index0] [index1] [index2] = 75\n",
    "            elif value == d_mean:\n",
    "                f [index0] [index1] [index2] = 50\n",
    "            elif value == d_min:\n",
    "                f [index0] [index1] [index2] = 0\n",
    "            elif value == d_max:\n",
    "                f [index0] [index1] [index2] = 100\n",
    "\n",
    "print(f)\n"
   ]
  },
  {
   "cell_type": "markdown",
   "metadata": {},
   "source": [
    "#### 17. Print *d* and *f*. Do you have your expected *f*?\n",
    "For instance, if your *d* is:\n",
    "```python\n",
    "[[[1.85836099, 1.67064465, 1.62576044, 1.40243961, 1.88454931],\n",
    "[1.75354326, 1.69403643, 1.36729252, 1.61415071, 1.12104981],\n",
    "[1.72201435, 1.1862918 , 1.87078449, 1.7726778 , 1.88180042]],\n",
    "[[1.44747908, 1.31673383, 1.02000951, 1.52218947, 1.97066381],\n",
    "[1.79129243, 1.74983003, 1.96028037, 1.85166831, 1.65450881],\n",
    "[1.18068344, 1.9587381 , 1.00656599, 1.93402165, 1.73514584]]]\n",
    "```\n",
    "Your *f* should be:\n",
    "```python\n",
    "[[[ 75.,  75.,  75.,  25.,  75.],\n",
    "[ 75.,  75.,  25.,  25.,  25.],\n",
    "[ 75.,  25.,  75.,  75.,  75.]],\n",
    "[[ 25.,  25.,  25.,  25., 100.],\n",
    "[ 75.,  75.,  75.,  75.,  75.],\n",
    "[ 25.,  75.,   0.,  75.,  75.]]]\n",
    "```"
   ]
  },
  {
   "cell_type": "code",
   "execution_count": 26,
   "metadata": {
    "collapsed": true
   },
   "outputs": [],
   "source": [
    "# your code here"
   ]
  },
  {
   "cell_type": "markdown",
   "metadata": {},
   "source": [
    "#### 18. Bonus question: instead of using numbers (i.e. 0, 25, 50, 75, and 100), use string values  (\"A\", \"B\", \"C\", \"D\", and \"E\") to label the array elements. For the example above, the expected result is:\n",
    "\n",
    "```python\n",
    "[[[ 'D',  'D',  'D',  'B',  'D'],\n",
    "[ 'D',  'D',  'B',  'B',  'B'],\n",
    "[ 'D',  'B',  'D',  'D',  'D']],\n",
    "[[ 'B',  'B',  'B',  'B',  'E'],\n",
    "[ 'D',  'D',  'D',  'D',  'D'],\n",
    "[ 'B',  'D',   'A',  'D', 'D']]]\n",
    "```\n",
    "**Note**: you don't have to use Numpy in this question."
   ]
  },
  {
   "cell_type": "code",
   "execution_count": 15,
   "metadata": {
    "collapsed": false
   },
   "outputs": [
    {
     "name": "stdout",
     "output_type": "stream",
     "text": [
      "[[['B' 'B' 'B' 'A' 'D']\n",
      "  ['B' 'B' 'D' 'B' 'D']\n",
      "  ['D' 'D' 'D' 'B' 'D']]\n",
      "\n",
      " [['E' 'B' 'B' 'B' 'B']\n",
      "  ['B' 'D' 'B' 'D' 'D']\n",
      "  ['D' 'D' 'B' 'B' 'B']]]\n"
     ]
    }
   ],
   "source": [
    "new_f = []\n",
    "for index0 in range(len(d)):\n",
    "    new_lst0 = []\n",
    "    for index1 in range(len(d [index0])):\n",
    "        new_lst1 = []\n",
    "        for index2 in range(len(d [index0] [index1])):\n",
    "            value = d [index0] [index1] [index2]\n",
    "            if value > d_min and value < d_mean:\n",
    "                new_lst1.append('B')\n",
    "            elif value > d_mean and value < d_max:\n",
    "                new_lst1.append('D')\n",
    "            elif value == d_mean:\n",
    "                new_lst1.append('C')\n",
    "            elif value == d_min:\n",
    "                new_lst1.append('A')\n",
    "            elif value == d_max:\n",
    "                new_lst1.append('E')\n",
    "        new_lst0.append(new_lst1)\n",
    "    new_f.append(new_lst0)\n",
    "print(np.array(new_f))"
   ]
  },
  {
   "cell_type": "code",
   "execution_count": null,
   "metadata": {
    "collapsed": true
   },
   "outputs": [],
   "source": []
  }
 ],
 "metadata": {
  "kernelspec": {
   "display_name": "Python 3",
   "language": "python",
   "name": "python3"
  },
  "language_info": {
   "codemirror_mode": {
    "name": "ipython",
    "version": 3
   },
   "file_extension": ".py",
   "mimetype": "text/x-python",
   "name": "python",
   "nbconvert_exporter": "python",
   "pygments_lexer": "ipython3",
   "version": "3.4.3"
  }
 },
 "nbformat": 4,
 "nbformat_minor": 2
}
