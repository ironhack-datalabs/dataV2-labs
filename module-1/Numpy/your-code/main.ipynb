{
 "cells": [
  {
   "cell_type": "markdown",
   "metadata": {},
   "source": [
    "# Introduction to NumPy\n",
    "\n",
    "\n",
    "#### 1. Import NumPy under the name np."
   ]
  },
  {
   "cell_type": "code",
   "execution_count": 5,
   "metadata": {},
   "outputs": [
    {
     "name": "stdout",
     "output_type": "stream",
     "text": [
      "Collecting numpy\n",
      "  Downloading numpy-1.19.0-cp38-cp38-macosx_10_9_x86_64.whl (15.3 MB)\n",
      "\u001b[K     |████████████████████████████████| 15.3 MB 1.6 MB/s eta 0:00:01\n",
      "\u001b[?25hInstalling collected packages: numpy\n",
      "Successfully installed numpy-1.19.0\n",
      "\u001b[33mWARNING: You are using pip version 20.0.2; however, version 20.1.1 is available.\n",
      "You should consider upgrading via the '/usr/local/Cellar/jupyterlab/2.1.1/libexec/bin/python3.8 -m pip install --upgrade pip' command.\u001b[0m\n"
     ]
    }
   ],
   "source": [
    "# your code here\n",
    "\n",
    "import sys\n",
    "!{sys.executable} -m pip install numpy"
   ]
  },
  {
   "cell_type": "code",
   "execution_count": 6,
   "metadata": {},
   "outputs": [],
   "source": [
    "import numpy as np"
   ]
  },
  {
   "cell_type": "markdown",
   "metadata": {},
   "source": [
    "#### 2. Print your NumPy version."
   ]
  },
  {
   "cell_type": "code",
   "execution_count": 7,
   "metadata": {},
   "outputs": [
    {
     "name": "stdout",
     "output_type": "stream",
     "text": [
      "1.19.0\n"
     ]
    }
   ],
   "source": [
    "# your code here\n",
    "print(np.__version__)"
   ]
  },
  {
   "cell_type": "markdown",
   "metadata": {},
   "source": [
    "#### 3. Generate a 2x3x5 3-dimensional array with random values. Assign the array to variable *a*.\n",
    "**Challenge**: there are at least three easy ways that use numpy to generate random arrays. How many ways can you find?"
   ]
  },
  {
   "cell_type": "code",
   "execution_count": 15,
   "metadata": {},
   "outputs": [
    {
     "data": {
      "text/plain": [
       "array([[[0.64820706, 0.53531577, 0.65387079, 0.92762719, 0.06830592],\n",
       "        [0.50200499, 0.1807917 , 0.13175972, 0.29502111, 0.40635537],\n",
       "        [0.58035274, 0.06467495, 0.52657582, 0.37974381, 0.6314357 ]],\n",
       "\n",
       "       [[0.70604603, 0.8563727 , 0.57392079, 0.77557983, 0.61709616],\n",
       "        [0.79908442, 0.6412618 , 0.30309882, 0.73146075, 0.14231708],\n",
       "        [0.47396503, 0.5306513 , 0.53367308, 0.14440283, 0.91226628]]])"
      ]
     },
     "execution_count": 15,
     "metadata": {},
     "output_type": "execute_result"
    }
   ],
   "source": [
    "# Method 1\n",
    "a = np.random.random((2,3,5))\n",
    "a"
   ]
  },
  {
   "cell_type": "code",
   "execution_count": 13,
   "metadata": {},
   "outputs": [
    {
     "data": {
      "text/plain": [
       "array([[[-0.50431619,  0.54775706,  1.78611289, -0.62410432,\n",
       "          1.49031279],\n",
       "        [ 0.48520279,  0.38821742, -1.39286016, -0.56726177,\n",
       "          0.21665711],\n",
       "        [ 0.0293655 , -1.06017871, -1.46816325, -0.51089867,\n",
       "          0.30450615]],\n",
       "\n",
       "       [[-2.14106428,  1.44737059, -0.94271115, -1.57175289,\n",
       "          0.93626026],\n",
       "        [-0.43906123, -1.18161044,  1.4098245 , -1.14037066,\n",
       "         -0.28054672],\n",
       "        [ 1.03471732, -0.21683331,  0.50830274,  0.77248255,\n",
       "          0.46551884]]])"
      ]
     },
     "execution_count": 13,
     "metadata": {},
     "output_type": "execute_result"
    }
   ],
   "source": [
    "# Method 2\n",
    "a = np.random.randn(2,3,5)\n",
    "a"
   ]
  },
  {
   "cell_type": "code",
   "execution_count": 22,
   "metadata": {},
   "outputs": [
    {
     "data": {
      "text/plain": [
       "array([[[0.43622576, 0.07406879, 0.97857081, 0.7433199 , 0.04173123],\n",
       "        [0.12927084, 0.26952769, 0.80342595, 0.93720033, 0.54055205],\n",
       "        [0.36100397, 0.77537287, 0.52590501, 0.74653447, 0.2351197 ]],\n",
       "\n",
       "       [[0.96266482, 0.48161101, 0.47339318, 0.32420335, 0.96654068],\n",
       "        [0.23044001, 0.48452695, 0.76672781, 0.34363525, 0.46811442],\n",
       "        [0.37741531, 0.61698781, 0.29043601, 0.11963427, 0.89202027]]])"
      ]
     },
     "execution_count": 22,
     "metadata": {},
     "output_type": "execute_result"
    }
   ],
   "source": [
    "# Method 3\n",
    "a = np.random.rand(2,3,5)\n",
    "a"
   ]
  },
  {
   "cell_type": "markdown",
   "metadata": {},
   "source": [
    "#### 4. Print *a*.\n"
   ]
  },
  {
   "cell_type": "code",
   "execution_count": 23,
   "metadata": {},
   "outputs": [
    {
     "data": {
      "text/plain": [
       "array([[[0.43622576, 0.07406879, 0.97857081, 0.7433199 , 0.04173123],\n",
       "        [0.12927084, 0.26952769, 0.80342595, 0.93720033, 0.54055205],\n",
       "        [0.36100397, 0.77537287, 0.52590501, 0.74653447, 0.2351197 ]],\n",
       "\n",
       "       [[0.96266482, 0.48161101, 0.47339318, 0.32420335, 0.96654068],\n",
       "        [0.23044001, 0.48452695, 0.76672781, 0.34363525, 0.46811442],\n",
       "        [0.37741531, 0.61698781, 0.29043601, 0.11963427, 0.89202027]]])"
      ]
     },
     "execution_count": 23,
     "metadata": {},
     "output_type": "execute_result"
    }
   ],
   "source": [
    "# your code here\n",
    "a"
   ]
  },
  {
   "cell_type": "markdown",
   "metadata": {},
   "source": [
    "#### 5. Create a 5x2x3 3-dimensional array with all values equaling 1. Assign the array to variable *b*."
   ]
  },
  {
   "cell_type": "code",
   "execution_count": 30,
   "metadata": {},
   "outputs": [],
   "source": [
    "# your code here\n",
    "b = np.ones((5, 2, 3))"
   ]
  },
  {
   "cell_type": "markdown",
   "metadata": {},
   "source": [
    "#### 6. Print *b*.\n"
   ]
  },
  {
   "cell_type": "code",
   "execution_count": 28,
   "metadata": {},
   "outputs": [
    {
     "data": {
      "text/plain": [
       "array([[[1., 1., 1.],\n",
       "        [1., 1., 1.]],\n",
       "\n",
       "       [[1., 1., 1.],\n",
       "        [1., 1., 1.]],\n",
       "\n",
       "       [[1., 1., 1.],\n",
       "        [1., 1., 1.]],\n",
       "\n",
       "       [[1., 1., 1.],\n",
       "        [1., 1., 1.]],\n",
       "\n",
       "       [[1., 1., 1.],\n",
       "        [1., 1., 1.]]])"
      ]
     },
     "execution_count": 28,
     "metadata": {},
     "output_type": "execute_result"
    }
   ],
   "source": [
    "# your code here\n",
    "b"
   ]
  },
  {
   "cell_type": "markdown",
   "metadata": {},
   "source": [
    "#### 7. Do *a* and *b* have the same size? How do you prove that in Python code?"
   ]
  },
  {
   "cell_type": "code",
   "execution_count": 33,
   "metadata": {},
   "outputs": [
    {
     "name": "stdout",
     "output_type": "stream",
     "text": [
      "30\n",
      "30\n"
     ]
    }
   ],
   "source": [
    "# your code here\n",
    "print (a.size)\n",
    "print (b.size)"
   ]
  },
  {
   "cell_type": "markdown",
   "metadata": {},
   "source": [
    "#### 8. Are you able to add *a* and *b*? Why or why not?\n"
   ]
  },
  {
   "cell_type": "code",
   "execution_count": 36,
   "metadata": {},
   "outputs": [
    {
     "ename": "ValueError",
     "evalue": "operands could not be broadcast together with shapes (2,3,5) (5,2,3) ",
     "output_type": "error",
     "traceback": [
      "\u001b[0;31m---------------------------------------------------------------------------\u001b[0m",
      "\u001b[0;31mValueError\u001b[0m                                Traceback (most recent call last)",
      "\u001b[0;32m<ipython-input-36-e304fd3bf2f0>\u001b[0m in \u001b[0;36m<module>\u001b[0;34m\u001b[0m\n\u001b[1;32m      1\u001b[0m \u001b[0;31m#No, because they don't have the same structure, one is (2,3,5) and the other(5,2,3)\u001b[0m\u001b[0;34m\u001b[0m\u001b[0;34m\u001b[0m\u001b[0;34m\u001b[0m\u001b[0m\n\u001b[0;32m----> 2\u001b[0;31m \u001b[0mprint\u001b[0m\u001b[0;34m(\u001b[0m\u001b[0ma\u001b[0m \u001b[0;34m+\u001b[0m \u001b[0mb\u001b[0m\u001b[0;34m)\u001b[0m\u001b[0;34m\u001b[0m\u001b[0;34m\u001b[0m\u001b[0m\n\u001b[0m",
      "\u001b[0;31mValueError\u001b[0m: operands could not be broadcast together with shapes (2,3,5) (5,2,3) "
     ]
    }
   ],
   "source": [
    "# No, because they don't have the same structure, \n",
    "# one is (2,3,5) and the other(5,2,3) \n",
    "print(a + b)"
   ]
  },
  {
   "cell_type": "markdown",
   "metadata": {},
   "source": [
    "#### 9. Transpose *b* so that it has the same structure of *a* (i.e. become a 2x3x5 array). Assign the transposed array to variable *c*."
   ]
  },
  {
   "cell_type": "code",
   "execution_count": 46,
   "metadata": {},
   "outputs": [
    {
     "data": {
      "text/plain": [
       "array([[[1., 1., 1., 1., 1.],\n",
       "        [1., 1., 1., 1., 1.],\n",
       "        [1., 1., 1., 1., 1.]],\n",
       "\n",
       "       [[1., 1., 1., 1., 1.],\n",
       "        [1., 1., 1., 1., 1.],\n",
       "        [1., 1., 1., 1., 1.]]])"
      ]
     },
     "execution_count": 46,
     "metadata": {},
     "output_type": "execute_result"
    }
   ],
   "source": [
    "# Transpose b to same strucure than a\n",
    "c = np.reshape(b,[2, 3, 5])\n",
    "c"
   ]
  },
  {
   "cell_type": "markdown",
   "metadata": {},
   "source": [
    "#### 10. Try to add *a* and *c*. Now it should work. Assign the sum to variable *d*. But why does it work now?"
   ]
  },
  {
   "cell_type": "code",
   "execution_count": 47,
   "metadata": {},
   "outputs": [
    {
     "name": "stdout",
     "output_type": "stream",
     "text": [
      "[[[1.43622576 1.07406879 1.97857081 1.7433199  1.04173123]\n",
      "  [1.12927084 1.26952769 1.80342595 1.93720033 1.54055205]\n",
      "  [1.36100397 1.77537287 1.52590501 1.74653447 1.2351197 ]]\n",
      "\n",
      " [[1.96266482 1.48161101 1.47339318 1.32420335 1.96654068]\n",
      "  [1.23044001 1.48452695 1.76672781 1.34363525 1.46811442]\n",
      "  [1.37741531 1.61698781 1.29043601 1.11963427 1.89202027]]]\n"
     ]
    }
   ],
   "source": [
    "# Add two arrays\n",
    "d = a + c\n",
    "print(d)"
   ]
  },
  {
   "cell_type": "markdown",
   "metadata": {},
   "source": [
    "#### 11. Print *a* and *d*. Notice the difference and relation of the two array in terms of the values? Explain."
   ]
  },
  {
   "cell_type": "code",
   "execution_count": 49,
   "metadata": {
    "scrolled": true
   },
   "outputs": [
    {
     "name": "stdout",
     "output_type": "stream",
     "text": [
      "[[[0.43622576 0.07406879 0.97857081 0.7433199  0.04173123]\n",
      "  [0.12927084 0.26952769 0.80342595 0.93720033 0.54055205]\n",
      "  [0.36100397 0.77537287 0.52590501 0.74653447 0.2351197 ]]\n",
      "\n",
      " [[0.96266482 0.48161101 0.47339318 0.32420335 0.96654068]\n",
      "  [0.23044001 0.48452695 0.76672781 0.34363525 0.46811442]\n",
      "  [0.37741531 0.61698781 0.29043601 0.11963427 0.89202027]]]\n",
      "[[[1.43622576 1.07406879 1.97857081 1.7433199  1.04173123]\n",
      "  [1.12927084 1.26952769 1.80342595 1.93720033 1.54055205]\n",
      "  [1.36100397 1.77537287 1.52590501 1.74653447 1.2351197 ]]\n",
      "\n",
      " [[1.96266482 1.48161101 1.47339318 1.32420335 1.96654068]\n",
      "  [1.23044001 1.48452695 1.76672781 1.34363525 1.46811442]\n",
      "  [1.37741531 1.61698781 1.29043601 1.11963427 1.89202027]]]\n"
     ]
    },
    {
     "data": {
      "text/plain": [
       "array([[[ True,  True,  True,  True,  True],\n",
       "        [ True,  True,  True,  True,  True],\n",
       "        [ True,  True,  True,  True,  True]],\n",
       "\n",
       "       [[ True,  True,  True,  True,  True],\n",
       "        [ True,  True,  True,  True,  True],\n",
       "        [ True,  True,  True,  True,  True]]])"
      ]
     },
     "execution_count": 49,
     "metadata": {},
     "output_type": "execute_result"
    }
   ],
   "source": [
    "# your code/answer here\n",
    "print (a)\n",
    "print (d)\n",
    "\n",
    "d == a + 1"
   ]
  },
  {
   "cell_type": "markdown",
   "metadata": {},
   "source": [
    "#### 12. Multiply *a* and *c*. Assign the result to *e*."
   ]
  },
  {
   "cell_type": "code",
   "execution_count": 50,
   "metadata": {},
   "outputs": [
    {
     "name": "stdout",
     "output_type": "stream",
     "text": [
      "[[[0.43622576 0.07406879 0.97857081 0.7433199  0.04173123]\n",
      "  [0.12927084 0.26952769 0.80342595 0.93720033 0.54055205]\n",
      "  [0.36100397 0.77537287 0.52590501 0.74653447 0.2351197 ]]\n",
      "\n",
      " [[0.96266482 0.48161101 0.47339318 0.32420335 0.96654068]\n",
      "  [0.23044001 0.48452695 0.76672781 0.34363525 0.46811442]\n",
      "  [0.37741531 0.61698781 0.29043601 0.11963427 0.89202027]]]\n"
     ]
    }
   ],
   "source": [
    "# your code here\n",
    "e = a * c \n",
    "print(e)"
   ]
  },
  {
   "cell_type": "markdown",
   "metadata": {},
   "source": [
    "#### 13. Does *e* equal to *a*? Why or why not?\n"
   ]
  },
  {
   "cell_type": "code",
   "execution_count": 55,
   "metadata": {},
   "outputs": [
    {
     "data": {
      "text/plain": [
       "True"
      ]
     },
     "execution_count": 55,
     "metadata": {},
     "output_type": "execute_result"
    }
   ],
   "source": [
    "# your code/answer here\n",
    "(a == e).all()\n",
    "\n",
    "# Yes ! "
   ]
  },
  {
   "cell_type": "markdown",
   "metadata": {},
   "source": [
    "#### 14. Identify the max, min, and mean values in *d*. Assign those values to variables *d_max*, *d_min* and *d_mean*."
   ]
  },
  {
   "cell_type": "code",
   "execution_count": 58,
   "metadata": {},
   "outputs": [],
   "source": [
    "# your code here\n",
    "# Minimum \n",
    "d_min = (np.min(d))\n",
    "# maximum\n",
    "d_max = (np.max(d))\n",
    "# mean \n",
    "d_mean = (np.mean(d))"
   ]
  },
  {
   "cell_type": "code",
   "execution_count": 60,
   "metadata": {},
   "outputs": [
    {
     "data": {
      "text/plain": [
       "1.0417312306716129"
      ]
     },
     "execution_count": 60,
     "metadata": {},
     "output_type": "execute_result"
    }
   ],
   "source": [
    "d_min"
   ]
  },
  {
   "cell_type": "code",
   "execution_count": 62,
   "metadata": {},
   "outputs": [
    {
     "data": {
      "text/plain": [
       "1.9785708076414237"
      ]
     },
     "execution_count": 62,
     "metadata": {},
     "output_type": "execute_result"
    }
   ],
   "source": [
    "d_max"
   ]
  },
  {
   "cell_type": "code",
   "execution_count": 63,
   "metadata": {},
   "outputs": [
    {
     "data": {
      "text/plain": [
       "1.5132060167887458"
      ]
     },
     "execution_count": 63,
     "metadata": {},
     "output_type": "execute_result"
    }
   ],
   "source": [
    "d_mean"
   ]
  },
  {
   "cell_type": "markdown",
   "metadata": {},
   "source": [
    "#### 15. Now we want to label the values in *d*. First create an empty array *f* with the same shape (i.e. 2x3x5) as *d* using `np.empty`.\n"
   ]
  },
  {
   "cell_type": "code",
   "execution_count": 68,
   "metadata": {},
   "outputs": [
    {
     "name": "stdout",
     "output_type": "stream",
     "text": [
      "[[[0.43622576 0.07406879 0.97857081 0.7433199  0.04173123]\n",
      "  [0.12927084 0.26952769 0.80342595 0.93720033 0.54055205]\n",
      "  [0.36100397 0.77537287 0.52590501 0.74653447 0.2351197 ]]\n",
      "\n",
      " [[0.96266482 0.48161101 0.47339318 0.32420335 0.96654068]\n",
      "  [0.23044001 0.48452695 0.76672781 0.34363525 0.46811442]\n",
      "  [0.37741531 0.61698781 0.29043601 0.11963427 0.89202027]]]\n"
     ]
    }
   ],
   "source": [
    "# Label value in d \n",
    "\n",
    "f = np.empty([2, 3, 5])\n",
    "print(f)"
   ]
  },
  {
   "cell_type": "markdown",
   "metadata": {},
   "source": [
    "#### 16. Populate the values in *f*. \n",
    "\n",
    "For each value in *d*, if it's larger than *d_min* but smaller than *d_mean*, assign 25 to the corresponding value in *f*. \n",
    "\n",
    "If a value in *d* is larger than *d_mean* but smaller than *d_max*, assign 75 to the corresponding value in *f*. \n",
    "\n",
    "If a value equals to *d_mean*, assign 50 to the corresponding value in *f*. \n",
    "\n",
    "Assign 0 to the corresponding value(s) in *f* for *d_min* in *d*. \n",
    "\n",
    "Assign 100 to the corresponding value(s) in *f* for *d_max* in *d*. \n",
    "\n",
    "In the end, f should have only the following values: 0, 25, 50, 75, and 100.\n",
    "\n",
    "**Note**: you don't have to use Numpy in this question."
   ]
  },
  {
   "cell_type": "code",
   "execution_count": 96,
   "metadata": {
    "scrolled": true
   },
   "outputs": [],
   "source": [
    "# your code here\n",
    "f [(d > d_min) & (d < d_mean)] = 25\n",
    "f [(d > d_mean) & (d < d_max)] = 75\n",
    "f [(d == d_mean)] = 50\n",
    "f [(d == d_min)] = 0\n",
    "f [(d == d_max)] = 100"
   ]
  },
  {
   "cell_type": "code",
   "execution_count": 97,
   "metadata": {},
   "outputs": [
    {
     "data": {
      "text/plain": [
       "array([[[ 25.,  25., 100.,  75.,   0.],\n",
       "        [ 25.,  25.,  75.,  75.,  75.],\n",
       "        [ 25.,  75.,  75.,  75.,  25.]],\n",
       "\n",
       "       [[ 75.,  25.,  25.,  25.,  75.],\n",
       "        [ 25.,  25.,  75.,  25.,  25.],\n",
       "        [ 25.,  75.,  25.,  25.,  75.]]])"
      ]
     },
     "execution_count": 97,
     "metadata": {},
     "output_type": "execute_result"
    }
   ],
   "source": [
    "f"
   ]
  },
  {
   "cell_type": "markdown",
   "metadata": {},
   "source": [
    "#### 17. Print *d* and *f*. Do you have your expected *f*?\n",
    "For instance, if your *d* is:\n",
    "```python\n",
    "[[[1.85836099, 1.67064465, 1.62576044, 1.40243961, 1.88454931],\n",
    "[1.75354326, 1.69403643, 1.36729252, 1.61415071, 1.12104981],\n",
    "[1.72201435, 1.1862918 , 1.87078449, 1.7726778 , 1.88180042]],\n",
    "[[1.44747908, 1.31673383, 1.02000951, 1.52218947, 1.97066381],\n",
    "[1.79129243, 1.74983003, 1.96028037, 1.85166831, 1.65450881],\n",
    "[1.18068344, 1.9587381 , 1.00656599, 1.93402165, 1.73514584]]]\n",
    "```\n",
    "Your *f* should be:\n",
    "```python\n",
    "[[[ 75.,  75.,  75.,  25.,  75.],\n",
    "[ 75.,  75.,  25.,  25.,  25.],\n",
    "[ 75.,  25.,  75.,  75.,  75.]],\n",
    "[[ 25.,  25.,  25.,  25., 100.],\n",
    "[ 75.,  75.,  75.,  75.,  75.],\n",
    "[ 25.,  75.,   0.,  75.,  75.]]]\n",
    "```"
   ]
  },
  {
   "cell_type": "code",
   "execution_count": 98,
   "metadata": {},
   "outputs": [
    {
     "data": {
      "text/plain": [
       "array([[[ 25.,  25., 100.,  75.,   0.],\n",
       "        [ 25.,  25.,  75.,  75.,  75.],\n",
       "        [ 25.,  75.,  75.,  75.,  25.]],\n",
       "\n",
       "       [[ 75.,  25.,  25.,  25.,  75.],\n",
       "        [ 25.,  25.,  75.,  25.,  25.],\n",
       "        [ 25.,  75.,  25.,  25.,  75.]]])"
      ]
     },
     "execution_count": 98,
     "metadata": {},
     "output_type": "execute_result"
    }
   ],
   "source": [
    "f"
   ]
  },
  {
   "cell_type": "code",
   "execution_count": 99,
   "metadata": {},
   "outputs": [
    {
     "data": {
      "text/plain": [
       "array([[[1.43622576, 1.07406879, 1.97857081, 1.7433199 , 1.04173123],\n",
       "        [1.12927084, 1.26952769, 1.80342595, 1.93720033, 1.54055205],\n",
       "        [1.36100397, 1.77537287, 1.52590501, 1.74653447, 1.2351197 ]],\n",
       "\n",
       "       [[1.96266482, 1.48161101, 1.47339318, 1.32420335, 1.96654068],\n",
       "        [1.23044001, 1.48452695, 1.76672781, 1.34363525, 1.46811442],\n",
       "        [1.37741531, 1.61698781, 1.29043601, 1.11963427, 1.89202027]]])"
      ]
     },
     "execution_count": 99,
     "metadata": {},
     "output_type": "execute_result"
    }
   ],
   "source": [
    "d"
   ]
  },
  {
   "cell_type": "markdown",
   "metadata": {},
   "source": [
    "#### 18. Bonus question: instead of using numbers (i.e. 0, 25, 50, 75, and 100), use string values  (\"A\", \"B\", \"C\", \"D\", and \"E\") to label the array elements. For the example above, the expected result is:\n",
    "\n",
    "```python\n",
    "[[[ 'D',  'D',  'D',  'B',  'D'],\n",
    "[ 'D',  'D',  'B',  'B',  'B'],\n",
    "[ 'D',  'B',  'D',  'D',  'D']],\n",
    "[[ 'B',  'B',  'B',  'B',  'E'],\n",
    "[ 'D',  'D',  'D',  'D',  'D'],\n",
    "[ 'B',  'D',   'A',  'D', 'D']]]\n",
    "```\n",
    "**Note**: you don't have to use Numpy in this question."
   ]
  },
  {
   "cell_type": "code",
   "execution_count": 102,
   "metadata": {},
   "outputs": [
    {
     "name": "stdout",
     "output_type": "stream",
     "text": [
      "[[['A' 'A' 'E' 'B' 'D']\n",
      "  ['A' 'A' 'B' 'B' 'B']\n",
      "  ['A' 'B' 'B' 'B' 'A']]\n",
      "\n",
      " [['B' 'A' 'A' 'A' 'B']\n",
      "  ['A' 'A' 'B' 'A' 'A']\n",
      "  ['A' 'B' 'A' 'A' 'B']]]\n"
     ]
    }
   ],
   "source": [
    "# your code here\n",
    "g = np.empty((2, 3, 5), dtype = \"str\")\n",
    "g [(d > d_min) & (d < d_mean)] = \"A\"\n",
    "g [(d > d_mean) & (d < d_max)] = \"B\"\n",
    "g [(d == d_mean)] = \"C\"\n",
    "g [(d == d_min)] = \"D\"\n",
    "g [(d == d_max)] = \"E\"\n",
    "print(g)"
   ]
  }
 ],
 "metadata": {
  "kernelspec": {
   "display_name": "Python 3",
   "language": "python",
   "name": "python3"
  },
  "language_info": {
   "codemirror_mode": {
    "name": "ipython",
    "version": 3
   },
   "file_extension": ".py",
   "mimetype": "text/x-python",
   "name": "python",
   "nbconvert_exporter": "python",
   "pygments_lexer": "ipython3",
   "version": "3.8.2"
  }
 },
 "nbformat": 4,
 "nbformat_minor": 2
}
