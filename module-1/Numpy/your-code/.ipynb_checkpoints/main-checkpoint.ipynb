{
 "cells": [
  {
   "cell_type": "markdown",
   "metadata": {},
   "source": [
    "# Introduction to NumPy\n",
    "\n",
    "\n",
    "#### 1. Import NumPy under the name np."
   ]
  },
  {
   "cell_type": "code",
   "execution_count": 1,
   "metadata": {},
   "outputs": [
    {
     "name": "stdout",
     "output_type": "stream",
     "text": [
      "Requirement already satisfied: numpy in /usr/local/Cellar/jupyterlab/2.0.1/libexec/lib/python3.7/site-packages (1.18.4)\n",
      "Requirement already up-to-date: pip in /usr/local/Cellar/jupyterlab/2.0.1/libexec/lib/python3.7/site-packages (20.1)\n"
     ]
    }
   ],
   "source": [
    "# your code here\n",
    "\n",
    "# Install a pip package in the current Jupyter kernel\n",
    "import sys\n",
    "!{sys.executable} -m pip install numpy\n",
    "!{sys.executable} -m pip install --upgrade pip\n",
    "\n",
    "import numpy as np"
   ]
  },
  {
   "cell_type": "markdown",
   "metadata": {},
   "source": [
    "#### 2. Print your NumPy version."
   ]
  },
  {
   "cell_type": "code",
   "execution_count": 2,
   "metadata": {},
   "outputs": [
    {
     "data": {
      "text/plain": [
       "<module 'numpy.version' from '/usr/local/Cellar/jupyterlab/2.0.1/libexec/lib/python3.7/site-packages/numpy/version.py'>"
      ]
     },
     "execution_count": 2,
     "metadata": {},
     "output_type": "execute_result"
    }
   ],
   "source": [
    "# your code here\n",
    "\n",
    "np.version"
   ]
  },
  {
   "cell_type": "markdown",
   "metadata": {},
   "source": [
    "#### 3. Generate a 2x3x5 3-dimensional array with random values. Assign the array to variable *a*.\n",
    "**Challenge**: there are at least three easy ways that use numpy to generate random arrays. How many ways can you find?"
   ]
  },
  {
   "cell_type": "code",
   "execution_count": 3,
   "metadata": {},
   "outputs": [
    {
     "name": "stdout",
     "output_type": "stream",
     "text": [
      "[[[0.36480893 0.87489235 0.16716496 0.03826914 0.84936938]\n",
      "  [0.04429011 0.53435649 0.11241028 0.53409485 0.76359052]\n",
      "  [0.89380475 0.0601449  0.33061134 0.66884111 0.65260742]]\n",
      "\n",
      " [[0.70430017 0.95499617 0.08880102 0.65909483 0.53139142]\n",
      "  [0.75545793 0.36842577 0.89359875 0.12712246 0.06186178]\n",
      "  [0.34245998 0.2801052  0.56197556 0.82030459 0.8676814 ]]]\n"
     ]
    }
   ],
   "source": [
    "# Method 1\n",
    "# Return random floats in the half-open interval [0.0, 1.0).\n",
    "\n",
    "a = np.random.random((2,3,5))\n",
    "\n",
    "print(a)"
   ]
  },
  {
   "cell_type": "code",
   "execution_count": 4,
   "metadata": {},
   "outputs": [
    {
     "name": "stdout",
     "output_type": "stream",
     "text": [
      "[[[0.56858849 0.07490994 0.8471472  0.55598336 0.294842  ]\n",
      "  [0.79984634 0.74606991 0.74523424 0.0797785  0.18885039]\n",
      "  [0.51199777 0.78640209 0.06322795 0.28744831 0.69757382]]\n",
      "\n",
      " [[0.35231699 0.3702012  0.4817006  0.48787871 0.71201099]\n",
      "  [0.10419221 0.56858314 0.40348919 0.36422846 0.21460851]\n",
      "  [0.77012849 0.60731233 0.68520277 0.73110564 0.75665196]]]\n"
     ]
    }
   ],
   "source": [
    "# Method 2\n",
    "# Create an array of the given shape and propagate it with random samples from a uniform distribution over [0, 1).\n",
    "\n",
    "array1 = np.random.rand(2,3,5)\n",
    "\n",
    "print(array1)"
   ]
  },
  {
   "cell_type": "code",
   "execution_count": 5,
   "metadata": {},
   "outputs": [
    {
     "name": "stdout",
     "output_type": "stream",
     "text": [
      "[[[4 9 7 8 8]\n",
      "  [4 6 6 0 9]\n",
      "  [8 9 3 4 7]]\n",
      "\n",
      " [[9 3 2 5 1]\n",
      "  [2 4 8 0 3]\n",
      "  [1 1 4 8 6]]]\n"
     ]
    }
   ],
   "source": [
    "# Method 3\n",
    "# Create an array of random integers in [0, 10)\n",
    "\n",
    "array2 = np.random.randint(10, size=(2,3,5))\n",
    "\n",
    "print(array2)"
   ]
  },
  {
   "cell_type": "markdown",
   "metadata": {},
   "source": [
    "#### 4. Print *a*.\n"
   ]
  },
  {
   "cell_type": "code",
   "execution_count": 6,
   "metadata": {},
   "outputs": [
    {
     "name": "stdout",
     "output_type": "stream",
     "text": [
      "[[[0.36480893 0.87489235 0.16716496 0.03826914 0.84936938]\n",
      "  [0.04429011 0.53435649 0.11241028 0.53409485 0.76359052]\n",
      "  [0.89380475 0.0601449  0.33061134 0.66884111 0.65260742]]\n",
      "\n",
      " [[0.70430017 0.95499617 0.08880102 0.65909483 0.53139142]\n",
      "  [0.75545793 0.36842577 0.89359875 0.12712246 0.06186178]\n",
      "  [0.34245998 0.2801052  0.56197556 0.82030459 0.8676814 ]]]\n"
     ]
    }
   ],
   "source": [
    "# your code here\n",
    "\n",
    "print(a)"
   ]
  },
  {
   "cell_type": "markdown",
   "metadata": {},
   "source": [
    "#### 5. Create a 5x2x3 3-dimensional array with all values equaling 1. Assign the array to variable *b*."
   ]
  },
  {
   "cell_type": "code",
   "execution_count": 7,
   "metadata": {},
   "outputs": [],
   "source": [
    "# your code here\n",
    "\n",
    "# Populating array with 1 (integer)\n",
    "# b = np.full((5, 2, 3), 1)\n",
    "\n",
    "# Populating arrawy with 1 (float)\n",
    "b = np.ones((5, 2, 3))"
   ]
  },
  {
   "cell_type": "markdown",
   "metadata": {},
   "source": [
    "#### 6. Print *b*.\n"
   ]
  },
  {
   "cell_type": "code",
   "execution_count": 8,
   "metadata": {},
   "outputs": [
    {
     "name": "stdout",
     "output_type": "stream",
     "text": [
      "[[[1. 1. 1.]\n",
      "  [1. 1. 1.]]\n",
      "\n",
      " [[1. 1. 1.]\n",
      "  [1. 1. 1.]]\n",
      "\n",
      " [[1. 1. 1.]\n",
      "  [1. 1. 1.]]\n",
      "\n",
      " [[1. 1. 1.]\n",
      "  [1. 1. 1.]]\n",
      "\n",
      " [[1. 1. 1.]\n",
      "  [1. 1. 1.]]]\n"
     ]
    }
   ],
   "source": [
    "# your code here\n",
    "print(b)"
   ]
  },
  {
   "cell_type": "markdown",
   "metadata": {},
   "source": [
    "#### 7. Do *a* and *b* have the same size? How do you prove that in Python code?"
   ]
  },
  {
   "cell_type": "code",
   "execution_count": 9,
   "metadata": {},
   "outputs": [
    {
     "name": "stdout",
     "output_type": "stream",
     "text": [
      "True\n"
     ]
    }
   ],
   "source": [
    "# your code here\n",
    "\n",
    "print(a.size == b.size)"
   ]
  },
  {
   "cell_type": "markdown",
   "metadata": {},
   "source": [
    "#### 8. Are you able to add *a* and *b*? Why or why not?\n"
   ]
  },
  {
   "cell_type": "code",
   "execution_count": 10,
   "metadata": {},
   "outputs": [
    {
     "name": "stdout",
     "output_type": "stream",
     "text": [
      "a shape, b shape respectively:  (2, 3, 5) (5, 2, 3)\n"
     ]
    }
   ],
   "source": [
    "# your answer here\n",
    "\n",
    "# The arrays have different shapes\n",
    "print(\"a shape, b shape respectively: \", a.shape, b.shape)"
   ]
  },
  {
   "cell_type": "code",
   "execution_count": 11,
   "metadata": {},
   "outputs": [
    {
     "ename": "ValueError",
     "evalue": "operands could not be broadcast together with shapes (2,3,5) (5,2,3) ",
     "output_type": "error",
     "traceback": [
      "\u001b[0;31m---------------------------------------------------------------------------\u001b[0m",
      "\u001b[0;31mValueError\u001b[0m                                Traceback (most recent call last)",
      "\u001b[0;32m<ipython-input-11-178c8efb3d6b>\u001b[0m in \u001b[0;36m<module>\u001b[0;34m\u001b[0m\n\u001b[0;32m----> 1\u001b[0;31m \u001b[0mprint\u001b[0m\u001b[0;34m(\u001b[0m\u001b[0mnp\u001b[0m\u001b[0;34m.\u001b[0m\u001b[0madd\u001b[0m\u001b[0;34m(\u001b[0m\u001b[0ma\u001b[0m\u001b[0;34m,\u001b[0m \u001b[0mb\u001b[0m\u001b[0;34m)\u001b[0m\u001b[0;34m)\u001b[0m\u001b[0;34m\u001b[0m\u001b[0;34m\u001b[0m\u001b[0m\n\u001b[0m",
      "\u001b[0;31mValueError\u001b[0m: operands could not be broadcast together with shapes (2,3,5) (5,2,3) "
     ]
    }
   ],
   "source": [
    "print(np.add(a, b))"
   ]
  },
  {
   "cell_type": "markdown",
   "metadata": {},
   "source": [
    "#### 9. Transpose *b* so that it has the same structure of *a* (i.e. become a 2x3x5 array). Assign the transposed array to variable *c*."
   ]
  },
  {
   "cell_type": "code",
   "execution_count": 12,
   "metadata": {},
   "outputs": [
    {
     "name": "stdout",
     "output_type": "stream",
     "text": [
      "c shape (2, 3, 5)\n",
      "[[[1. 1. 1. 1. 1.]\n",
      "  [1. 1. 1. 1. 1.]\n",
      "  [1. 1. 1. 1. 1.]]\n",
      "\n",
      " [[1. 1. 1. 1. 1.]\n",
      "  [1. 1. 1. 1. 1.]\n",
      "  [1. 1. 1. 1. 1.]]]\n"
     ]
    }
   ],
   "source": [
    "# your code here\n",
    "\n",
    "c = b.reshape(2,3,5)\n",
    "print(\"c shape\", c.shape)\n",
    "print(c)"
   ]
  },
  {
   "cell_type": "markdown",
   "metadata": {},
   "source": [
    "#### 10. Try to add *a* and *c*. Now it should work. Assign the sum to variable *d*. But why does it work now?"
   ]
  },
  {
   "cell_type": "code",
   "execution_count": 13,
   "metadata": {},
   "outputs": [],
   "source": [
    "# your code/answer here\n",
    "\n",
    "d = np.add(a, c)"
   ]
  },
  {
   "cell_type": "markdown",
   "metadata": {},
   "source": [
    "#### 11. Print *a* and *d*. Notice the difference and relation of the two array in terms of the values? Explain."
   ]
  },
  {
   "cell_type": "code",
   "execution_count": 14,
   "metadata": {},
   "outputs": [
    {
     "name": "stdout",
     "output_type": "stream",
     "text": [
      "Array a : \n",
      " [[[0.36480893 0.87489235 0.16716496 0.03826914 0.84936938]\n",
      "  [0.04429011 0.53435649 0.11241028 0.53409485 0.76359052]\n",
      "  [0.89380475 0.0601449  0.33061134 0.66884111 0.65260742]]\n",
      "\n",
      " [[0.70430017 0.95499617 0.08880102 0.65909483 0.53139142]\n",
      "  [0.75545793 0.36842577 0.89359875 0.12712246 0.06186178]\n",
      "  [0.34245998 0.2801052  0.56197556 0.82030459 0.8676814 ]]] \n",
      "\n",
      " Array d : \n",
      " [[[1.36480893 1.87489235 1.16716496 1.03826914 1.84936938]\n",
      "  [1.04429011 1.53435649 1.11241028 1.53409485 1.76359052]\n",
      "  [1.89380475 1.0601449  1.33061134 1.66884111 1.65260742]]\n",
      "\n",
      " [[1.70430017 1.95499617 1.08880102 1.65909483 1.53139142]\n",
      "  [1.75545793 1.36842577 1.89359875 1.12712246 1.06186178]\n",
      "  [1.34245998 1.2801052  1.56197556 1.82030459 1.8676814 ]]]\n"
     ]
    }
   ],
   "source": [
    "# your code/answer here\n",
    "print(\"Array a : \\n\", a, \"\\n\\n Array d : \\n\", d)\n",
    "\n",
    "# Each value in the array a is the one from array a +1."
   ]
  },
  {
   "cell_type": "markdown",
   "metadata": {},
   "source": [
    "#### 12. Multiply *a* and *c*. Assign the result to *e*."
   ]
  },
  {
   "cell_type": "code",
   "execution_count": 15,
   "metadata": {},
   "outputs": [],
   "source": [
    "# your code here\n",
    "e = np.multiply(a, c)"
   ]
  },
  {
   "cell_type": "markdown",
   "metadata": {},
   "source": [
    "#### 13. Does *e* equal to *a*? Why or why not?\n"
   ]
  },
  {
   "cell_type": "code",
   "execution_count": 16,
   "metadata": {},
   "outputs": [
    {
     "data": {
      "text/plain": [
       "array([[[ True,  True,  True,  True,  True],\n",
       "        [ True,  True,  True,  True,  True],\n",
       "        [ True,  True,  True,  True,  True]],\n",
       "\n",
       "       [[ True,  True,  True,  True,  True],\n",
       "        [ True,  True,  True,  True,  True],\n",
       "        [ True,  True,  True,  True,  True]]])"
      ]
     },
     "execution_count": 16,
     "metadata": {},
     "output_type": "execute_result"
    }
   ],
   "source": [
    "# your code/answer here\n",
    "\n",
    "a == e\n",
    "\n",
    "# Multiplication by 1 does not change the value."
   ]
  },
  {
   "cell_type": "markdown",
   "metadata": {},
   "source": [
    "#### 14. Identify the max, min, and mean values in *d*. Assign those values to variables *d_max*, *d_min* and *d_mean*."
   ]
  },
  {
   "cell_type": "code",
   "execution_count": 17,
   "metadata": {},
   "outputs": [
    {
     "name": "stdout",
     "output_type": "stream",
     "text": [
      "1.9549961749270361 1.0382691432303734 1.496894451676628\n"
     ]
    }
   ],
   "source": [
    "# your code here\n",
    "\n",
    "print(np.max(d), np.min(d), np.mean(d))\n",
    "\n",
    "d_max = np.max(d) \n",
    "d_min = np.min(d)\n",
    "d_mean = np.mean(d)"
   ]
  },
  {
   "cell_type": "markdown",
   "metadata": {},
   "source": [
    "#### 15. Now we want to label the values in *d*. First create an empty array *f* with the same shape (i.e. 2x3x5) as *d* using `np.empty`.\n"
   ]
  },
  {
   "cell_type": "code",
   "execution_count": 20,
   "metadata": {},
   "outputs": [
    {
     "name": "stdout",
     "output_type": "stream",
     "text": [
      "[[[1.36480893 1.87489235 1.16716496 1.03826914 1.84936938]\n",
      "  [1.04429011 1.53435649 1.11241028 1.53409485 1.76359052]\n",
      "  [1.89380475 1.0601449  1.33061134 1.66884111 1.65260742]]\n",
      "\n",
      " [[1.70430017 1.95499617 1.08880102 1.65909483 1.53139142]\n",
      "  [1.75545793 1.36842577 1.89359875 1.12712246 1.06186178]\n",
      "  [1.34245998 1.2801052  1.56197556 1.82030459 1.8676814 ]]]\n"
     ]
    }
   ],
   "source": [
    "# your code here\n",
    "\n",
    "f = np.empty((2,3,5))\n",
    "print(f)"
   ]
  },
  {
   "cell_type": "markdown",
   "metadata": {},
   "source": [
    "#### 16. Populate the values in *f*. \n",
    "\n",
    "For each value in *d*, if it's larger than *d_min* but smaller than *d_mean*, assign 25 to the corresponding value in *f*. If a value in *d* is larger than *d_mean* but smaller than *d_max*, assign 75 to the corresponding value in *f*. If a value equals to *d_mean*, assign 50 to the corresponding value in *f*. Assign 0 to the corresponding value(s) in *f* for *d_min* in *d*. Assign 100 to the corresponding value(s) in *f* for *d_max* in *d*. In the end, f should have only the following values: 0, 25, 50, 75, and 100.\n",
    "\n",
    "**Note**: you don't have to use Numpy in this question."
   ]
  },
  {
   "cell_type": "code",
   "execution_count": 21,
   "metadata": {},
   "outputs": [
    {
     "name": "stdout",
     "output_type": "stream",
     "text": [
      "[[[1.36480893 1.87489235 1.16716496 1.03826914 1.84936938]\n",
      "  [1.04429011 1.53435649 1.11241028 1.53409485 1.76359052]\n",
      "  [1.89380475 1.0601449  1.33061134 1.66884111 1.65260742]]\n",
      "\n",
      " [[1.70430017 1.95499617 1.08880102 1.65909483 1.53139142]\n",
      "  [1.75545793 1.36842577 1.89359875 1.12712246 1.06186178]\n",
      "  [1.34245998 1.2801052  1.56197556 1.82030459 1.8676814 ]]]\n"
     ]
    }
   ],
   "source": [
    "# your code here\n",
    "\n",
    "# Solution using Numpy\n",
    "# The order of assigning values is important, e.g. max value first gets assigned 75, then 100.\n",
    "# The alternative would be to add double condition (between min and mean, etc.)\n",
    "\n",
    "# f[d > d_mean] = 75\n",
    "# f[d < d_mean] = 25\n",
    "# f[d == d_max] = 100\n",
    "# f[d == d_mean] = 50\n",
    "# f[d == d_min] = 0\n",
    "\n",
    "print(d)"
   ]
  },
  {
   "cell_type": "code",
   "execution_count": 31,
   "metadata": {},
   "outputs": [
    {
     "data": {
      "text/plain": [
       "array([[[ 25.,  75.,  25.,   0.,  75.],\n",
       "        [ 25.,  75.,  25.,  75.,  75.],\n",
       "        [ 75.,  25.,  25.,  75.,  75.]],\n",
       "\n",
       "       [[ 75., 100.,  25.,  75.,  75.],\n",
       "        [ 75.,  25.,  75.,  25.,  25.],\n",
       "        [ 25.,  25.,  75.,  75.,  75.]]])"
      ]
     },
     "execution_count": 31,
     "metadata": {},
     "output_type": "execute_result"
    }
   ],
   "source": [
    "# Solution not using Numpy\n",
    "\n",
    "i = 0\n",
    "j = 0\n",
    "k = 0\n",
    "\n",
    "for i in range(2):\n",
    "    for j in range(3):\n",
    "        for k in range(5):\n",
    "            if d[i][j][k] > d_min and d[i][j][k] < d_mean:\n",
    "                f[i][j][k] = 25\n",
    "            elif d[i][j][k] > d_mean and d[i][j][k] < d_max:\n",
    "                f[i][j][k] = 75\n",
    "            elif d[i][j][k] == d_mean:\n",
    "                f[i][j][k] = 50\n",
    "            elif d[i][j][k] == d_max:\n",
    "                f[i][j][k] = 100\n",
    "            else:\n",
    "                f[i][j][k] = 0\n",
    "\n",
    "f"
   ]
  },
  {
   "cell_type": "markdown",
   "metadata": {},
   "source": [
    "#### 17. Print *d* and *f*. Do you have your expected *f*?\n",
    "For instance, if your *d* is:\n",
    "```python\n",
    "[[[1.85836099, 1.67064465, 1.62576044, 1.40243961, 1.88454931],\n",
    "[1.75354326, 1.69403643, 1.36729252, 1.61415071, 1.12104981],\n",
    "[1.72201435, 1.1862918 , 1.87078449, 1.7726778 , 1.88180042]],\n",
    "[[1.44747908, 1.31673383, 1.02000951, 1.52218947, 1.97066381],\n",
    "[1.79129243, 1.74983003, 1.96028037, 1.85166831, 1.65450881],\n",
    "[1.18068344, 1.9587381 , 1.00656599, 1.93402165, 1.73514584]]]\n",
    "```\n",
    "Your *f* should be:\n",
    "```python\n",
    "[[[ 75.,  75.,  75.,  25.,  75.],\n",
    "[ 75.,  75.,  25.,  25.,  25.],\n",
    "[ 75.,  25.,  75.,  75.,  75.]],\n",
    "[[ 25.,  25.,  25.,  25., 100.],\n",
    "[ 75.,  75.,  75.,  75.,  75.],\n",
    "[ 25.,  75.,   0.,  75.,  75.]]]\n",
    "```"
   ]
  },
  {
   "cell_type": "code",
   "execution_count": 35,
   "metadata": {},
   "outputs": [
    {
     "name": "stdout",
     "output_type": "stream",
     "text": [
      "Array d: \n",
      " [[[1.36480893 1.87489235 1.16716496 1.03826914 1.84936938]\n",
      "  [1.04429011 1.53435649 1.11241028 1.53409485 1.76359052]\n",
      "  [1.89380475 1.0601449  1.33061134 1.66884111 1.65260742]]\n",
      "\n",
      " [[1.70430017 1.95499617 1.08880102 1.65909483 1.53139142]\n",
      "  [1.75545793 1.36842577 1.89359875 1.12712246 1.06186178]\n",
      "  [1.34245998 1.2801052  1.56197556 1.82030459 1.8676814 ]]]\n",
      "Array f: \n",
      " [[[ 25.  75.  25.   0.  75.]\n",
      "  [ 25.  75.  25.  75.  75.]\n",
      "  [ 75.  25.  25.  75.  75.]]\n",
      "\n",
      " [[ 75. 100.  25.  75.  75.]\n",
      "  [ 75.  25.  75.  25.  25.]\n",
      "  [ 25.  25.  75.  75.  75.]]]\n"
     ]
    }
   ],
   "source": [
    "# your code here\n",
    "\n",
    "print(\"Array d: \\n\", d)\n",
    "print(\"Array f: \\n\", f)"
   ]
  },
  {
   "cell_type": "markdown",
   "metadata": {},
   "source": [
    "#### 18. Bonus question: instead of using numbers (i.e. 0, 25, 50, 75, and 100), use string values  (\"A\", \"B\", \"C\", \"D\", and \"E\") to label the array elements. For the example above, the expected result is:\n",
    "\n",
    "```python\n",
    "[[[ 'D',  'D',  'D',  'B',  'D'],\n",
    "[ 'D',  'D',  'B',  'B',  'B'],\n",
    "[ 'D',  'B',  'D',  'D',  'D']],\n",
    "[[ 'B',  'B',  'B',  'B',  'E'],\n",
    "[ 'D',  'D',  'D',  'D',  'D'],\n",
    "[ 'B',  'D',   'A',  'D', 'D']]]\n",
    "```\n",
    "**Note**: you don't have to use Numpy in this question."
   ]
  },
  {
   "cell_type": "code",
   "execution_count": null,
   "metadata": {},
   "outputs": [],
   "source": [
    "# your code here\n",
    "\n",
    "# I suppose I could convert f to a list, turn floats to strings,  and then reassign the values in the loop. (not finished)\n",
    "\n",
    "# f_list = f.tolist()\n",
    "# f_list"
   ]
  },
  {
   "cell_type": "code",
   "execution_count": null,
   "metadata": {},
   "outputs": [],
   "source": []
  },
  {
   "cell_type": "code",
   "execution_count": null,
   "metadata": {},
   "outputs": [],
   "source": []
  }
 ],
 "metadata": {
  "kernelspec": {
   "display_name": "Python 3",
   "language": "python",
   "name": "python3"
  },
  "language_info": {
   "codemirror_mode": {
    "name": "ipython",
    "version": 3
   },
   "file_extension": ".py",
   "mimetype": "text/x-python",
   "name": "python",
   "nbconvert_exporter": "python",
   "pygments_lexer": "ipython3",
   "version": "3.7.7"
  }
 },
 "nbformat": 4,
 "nbformat_minor": 2
}
