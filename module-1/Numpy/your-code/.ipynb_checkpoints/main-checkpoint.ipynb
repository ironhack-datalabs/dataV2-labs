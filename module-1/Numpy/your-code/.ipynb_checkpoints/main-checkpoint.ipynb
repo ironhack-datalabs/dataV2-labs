{
 "cells": [
  {
   "cell_type": "markdown",
   "metadata": {},
   "source": [
    "# Introduction to NumPy\n",
    "\n",
    "\n",
    "#### 1. Import NumPy under the name np."
   ]
  },
  {
   "cell_type": "code",
   "execution_count": 2,
   "metadata": {},
   "outputs": [],
   "source": [
    "import numpy as np"
   ]
  },
  {
   "cell_type": "markdown",
   "metadata": {},
   "source": [
    "#### 2. Print your NumPy version."
   ]
  },
  {
   "cell_type": "code",
   "execution_count": 3,
   "metadata": {},
   "outputs": [
    {
     "name": "stdout",
     "output_type": "stream",
     "text": [
      "1.19.2\n"
     ]
    }
   ],
   "source": [
    "print(np.version.version)"
   ]
  },
  {
   "cell_type": "markdown",
   "metadata": {},
   "source": [
    "#### 3. Generate a 2x3x5 3-dimensional array with random values. Assign the array to variable *a*.\n",
    "**Challenge**: there are at least three easy ways that use numpy to generate random arrays. How many ways can you find?"
   ]
  },
  {
   "cell_type": "code",
   "execution_count": 4,
   "metadata": {},
   "outputs": [
    {
     "name": "stdout",
     "output_type": "stream",
     "text": [
      "[[[0.48028267 0.89893766 0.63291713 0.8797135  0.06059748]\n",
      "  [0.39475779 0.47860574 0.91938949 0.87602927 0.13871461]\n",
      "  [0.31494099 0.29871889 0.0127489  0.91958708 0.3455925 ]]\n",
      "\n",
      " [[0.87072599 0.74502068 0.33335302 0.28210869 0.41052195]\n",
      "  [0.0337917  0.01364091 0.12041555 0.42382693 0.03962552]\n",
      "  [0.05707218 0.31808221 0.24608542 0.67850422 0.60221679]]]\n"
     ]
    }
   ],
   "source": [
    "# Method 1\n",
    "a = np.random.random((2,3,5))\n",
    "print(a)"
   ]
  },
  {
   "cell_type": "code",
   "execution_count": 5,
   "metadata": {},
   "outputs": [
    {
     "name": "stdout",
     "output_type": "stream",
     "text": [
      "[0.30450153369505173]\n"
     ]
    }
   ],
   "source": [
    "# Method 2\n",
    "import random\n",
    "a_list = [random.random() for i in range(0,1)]\n",
    "print(a_list)"
   ]
  },
  {
   "cell_type": "code",
   "execution_count": 6,
   "metadata": {},
   "outputs": [],
   "source": [
    "# Method 3"
   ]
  },
  {
   "cell_type": "markdown",
   "metadata": {},
   "source": [
    "#### 4. Print *a*.\n"
   ]
  },
  {
   "cell_type": "code",
   "execution_count": 7,
   "metadata": {},
   "outputs": [
    {
     "name": "stdout",
     "output_type": "stream",
     "text": [
      "[[[0.48028267 0.89893766 0.63291713 0.8797135  0.06059748]\n",
      "  [0.39475779 0.47860574 0.91938949 0.87602927 0.13871461]\n",
      "  [0.31494099 0.29871889 0.0127489  0.91958708 0.3455925 ]]\n",
      "\n",
      " [[0.87072599 0.74502068 0.33335302 0.28210869 0.41052195]\n",
      "  [0.0337917  0.01364091 0.12041555 0.42382693 0.03962552]\n",
      "  [0.05707218 0.31808221 0.24608542 0.67850422 0.60221679]]]\n"
     ]
    }
   ],
   "source": [
    "print(a)"
   ]
  },
  {
   "cell_type": "markdown",
   "metadata": {},
   "source": [
    "#### 5. Create a 5x2x3 3-dimensional array with all values equaling 1. Assign the array to variable *b*."
   ]
  },
  {
   "cell_type": "code",
   "execution_count": 8,
   "metadata": {},
   "outputs": [],
   "source": [
    "b = np.empty(shape=(5,2,3))\n",
    "\n",
    "for element in b:\n",
    "    b[:,] = 1\n",
    "    "
   ]
  },
  {
   "cell_type": "code",
   "execution_count": 9,
   "metadata": {},
   "outputs": [
    {
     "name": "stdout",
     "output_type": "stream",
     "text": [
      "[[[1. 1. 1.]\n",
      "  [1. 1. 1.]]\n",
      "\n",
      " [[1. 1. 1.]\n",
      "  [1. 1. 1.]]\n",
      "\n",
      " [[1. 1. 1.]\n",
      "  [1. 1. 1.]]\n",
      "\n",
      " [[1. 1. 1.]\n",
      "  [1. 1. 1.]]\n",
      "\n",
      " [[1. 1. 1.]\n",
      "  [1. 1. 1.]]]\n"
     ]
    }
   ],
   "source": [
    "new = np.ones((5,2,3))\n",
    "print(new)"
   ]
  },
  {
   "cell_type": "markdown",
   "metadata": {},
   "source": [
    "#### 6. Print *b*.\n"
   ]
  },
  {
   "cell_type": "code",
   "execution_count": 10,
   "metadata": {},
   "outputs": [
    {
     "name": "stdout",
     "output_type": "stream",
     "text": [
      "[[[1. 1. 1.]\n",
      "  [1. 1. 1.]]\n",
      "\n",
      " [[1. 1. 1.]\n",
      "  [1. 1. 1.]]\n",
      "\n",
      " [[1. 1. 1.]\n",
      "  [1. 1. 1.]]\n",
      "\n",
      " [[1. 1. 1.]\n",
      "  [1. 1. 1.]]\n",
      "\n",
      " [[1. 1. 1.]\n",
      "  [1. 1. 1.]]]\n"
     ]
    }
   ],
   "source": [
    "print(b)"
   ]
  },
  {
   "cell_type": "markdown",
   "metadata": {},
   "source": [
    "#### 7. Do *a* and *b* have the same size? How do you prove that in Python code?"
   ]
  },
  {
   "cell_type": "code",
   "execution_count": 11,
   "metadata": {},
   "outputs": [
    {
     "name": "stdout",
     "output_type": "stream",
     "text": [
      "La taille de a :  30\n",
      "La taille de b :  30\n"
     ]
    }
   ],
   "source": [
    "print(\"La taille de a : \", a.size)\n",
    "print(\"La taille de b : \", b.size)"
   ]
  },
  {
   "cell_type": "markdown",
   "metadata": {},
   "source": [
    "#### 8. Are you able to add *a* and *b*? Why or why not?\n"
   ]
  },
  {
   "cell_type": "code",
   "execution_count": 12,
   "metadata": {},
   "outputs": [
    {
     "ename": "ValueError",
     "evalue": "operands could not be broadcast together with shapes (2,3,5) (5,2,3) ",
     "output_type": "error",
     "traceback": [
      "\u001b[1;31m---------------------------------------------------------------------------\u001b[0m",
      "\u001b[1;31mValueError\u001b[0m                                Traceback (most recent call last)",
      "\u001b[1;32m<ipython-input-12-c91b07498fa3>\u001b[0m in \u001b[0;36m<module>\u001b[1;34m\u001b[0m\n\u001b[0;32m      1\u001b[0m \u001b[1;31m# dimensions différentes\u001b[0m\u001b[1;33m\u001b[0m\u001b[1;33m\u001b[0m\u001b[1;33m\u001b[0m\u001b[0m\n\u001b[0;32m      2\u001b[0m \u001b[1;33m\u001b[0m\u001b[0m\n\u001b[1;32m----> 3\u001b[1;33m \u001b[0mprint\u001b[0m\u001b[1;33m(\u001b[0m\u001b[0ma\u001b[0m \u001b[1;33m+\u001b[0m \u001b[0mb\u001b[0m\u001b[1;33m)\u001b[0m\u001b[1;33m\u001b[0m\u001b[1;33m\u001b[0m\u001b[0m\n\u001b[0m",
      "\u001b[1;31mValueError\u001b[0m: operands could not be broadcast together with shapes (2,3,5) (5,2,3) "
     ]
    }
   ],
   "source": [
    "# dimensions différentes\n",
    "\n",
    "print(a + b)"
   ]
  },
  {
   "cell_type": "markdown",
   "metadata": {},
   "source": [
    "#### 9. Transpose *b* so that it has the same structure of *a* (i.e. become a 2x3x5 array). Assign the transposed array to variable *c*."
   ]
  },
  {
   "cell_type": "code",
   "execution_count": 13,
   "metadata": {},
   "outputs": [
    {
     "name": "stdout",
     "output_type": "stream",
     "text": [
      "(2, 3, 5)\n",
      "[[[1. 1. 1. 1. 1.]\n",
      "  [1. 1. 1. 1. 1.]\n",
      "  [1. 1. 1. 1. 1.]]\n",
      "\n",
      " [[1. 1. 1. 1. 1.]\n",
      "  [1. 1. 1. 1. 1.]\n",
      "  [1. 1. 1. 1. 1.]]]\n"
     ]
    }
   ],
   "source": [
    "# en transposant, on donne une nouvelle dimension qui peut permettre d'additionner.    B(...)) où (...)\n",
    "# (1,2,0) ça correspond au fait qu'on replace les dimensions (5, 2, 3) 5 =où 0 ;  2 =où 1 ; 3 =où 2\n",
    "\n",
    "c = np.transpose(b,(1,2,0))\n",
    "print(c.shape)\n",
    "print(c)"
   ]
  },
  {
   "cell_type": "markdown",
   "metadata": {},
   "source": [
    "#### 10. Try to add *a* and *c*. Now it should work. Assign the sum to variable *d*. But why does it work now?"
   ]
  },
  {
   "cell_type": "code",
   "execution_count": 14,
   "metadata": {},
   "outputs": [
    {
     "name": "stdout",
     "output_type": "stream",
     "text": [
      "[[[1.48028267 1.89893766 1.63291713 1.8797135  1.06059748]\n",
      "  [1.39475779 1.47860574 1.91938949 1.87602927 1.13871461]\n",
      "  [1.31494099 1.29871889 1.0127489  1.91958708 1.3455925 ]]\n",
      "\n",
      " [[1.87072599 1.74502068 1.33335302 1.28210869 1.41052195]\n",
      "  [1.0337917  1.01364091 1.12041555 1.42382693 1.03962552]\n",
      "  [1.05707218 1.31808221 1.24608542 1.67850422 1.60221679]]]\n"
     ]
    }
   ],
   "source": [
    "d = (a+c)\n",
    "print(d)"
   ]
  },
  {
   "cell_type": "markdown",
   "metadata": {},
   "source": [
    "#### 11. Print *a* and *d*. Notice the difference and relation of the two array in terms of the values? Explain."
   ]
  },
  {
   "cell_type": "code",
   "execution_count": 15,
   "metadata": {},
   "outputs": [
    {
     "name": "stdout",
     "output_type": "stream",
     "text": [
      "[[[0.48028267 0.89893766 0.63291713 0.8797135  0.06059748]\n",
      "  [0.39475779 0.47860574 0.91938949 0.87602927 0.13871461]\n",
      "  [0.31494099 0.29871889 0.0127489  0.91958708 0.3455925 ]]\n",
      "\n",
      " [[0.87072599 0.74502068 0.33335302 0.28210869 0.41052195]\n",
      "  [0.0337917  0.01364091 0.12041555 0.42382693 0.03962552]\n",
      "  [0.05707218 0.31808221 0.24608542 0.67850422 0.60221679]]]\n",
      "[[[1.48028267 1.89893766 1.63291713 1.8797135  1.06059748]\n",
      "  [1.39475779 1.47860574 1.91938949 1.87602927 1.13871461]\n",
      "  [1.31494099 1.29871889 1.0127489  1.91958708 1.3455925 ]]\n",
      "\n",
      " [[1.87072599 1.74502068 1.33335302 1.28210869 1.41052195]\n",
      "  [1.0337917  1.01364091 1.12041555 1.42382693 1.03962552]\n",
      "  [1.05707218 1.31808221 1.24608542 1.67850422 1.60221679]]]\n"
     ]
    }
   ],
   "source": [
    "print(a)\n",
    "print(d)\n",
    "# ajout de la table b à a donc ajout de +1"
   ]
  },
  {
   "cell_type": "markdown",
   "metadata": {},
   "source": [
    "#### 12. Multiply *a* and *c*. Assign the result to *e*."
   ]
  },
  {
   "cell_type": "code",
   "execution_count": 16,
   "metadata": {},
   "outputs": [
    {
     "name": "stdout",
     "output_type": "stream",
     "text": [
      "[[[0.48028267 0.89893766 0.63291713 0.8797135  0.06059748]\n",
      "  [0.39475779 0.47860574 0.91938949 0.87602927 0.13871461]\n",
      "  [0.31494099 0.29871889 0.0127489  0.91958708 0.3455925 ]]\n",
      "\n",
      " [[0.87072599 0.74502068 0.33335302 0.28210869 0.41052195]\n",
      "  [0.0337917  0.01364091 0.12041555 0.42382693 0.03962552]\n",
      "  [0.05707218 0.31808221 0.24608542 0.67850422 0.60221679]]] e\n",
      "\n",
      "[[[0.48028267 0.89893766 0.63291713 0.8797135  0.06059748]\n",
      "  [0.39475779 0.47860574 0.91938949 0.87602927 0.13871461]\n",
      "  [0.31494099 0.29871889 0.0127489  0.91958708 0.3455925 ]]\n",
      "\n",
      " [[0.87072599 0.74502068 0.33335302 0.28210869 0.41052195]\n",
      "  [0.0337917  0.01364091 0.12041555 0.42382693 0.03962552]\n",
      "  [0.05707218 0.31808221 0.24608542 0.67850422 0.60221679]]] a\n",
      "\n",
      "[[[1. 1. 1. 1. 1.]\n",
      "  [1. 1. 1. 1. 1.]\n",
      "  [1. 1. 1. 1. 1.]]\n",
      "\n",
      " [[1. 1. 1. 1. 1.]\n",
      "  [1. 1. 1. 1. 1.]\n",
      "  [1. 1. 1. 1. 1.]]]\n"
     ]
    }
   ],
   "source": [
    "e = (a * c)\n",
    "print(e, \"e\\n\")\n",
    "print(a, \"a\\n\")\n",
    "print(c)"
   ]
  },
  {
   "cell_type": "markdown",
   "metadata": {},
   "source": [
    "#### 13. Does *e* equal to *a*? Why or why not?\n"
   ]
  },
  {
   "cell_type": "code",
   "execution_count": 17,
   "metadata": {},
   "outputs": [],
   "source": [
    "# les valeurs de c étant 1, donc toutes les valeurs de a * c est pareil que a"
   ]
  },
  {
   "cell_type": "markdown",
   "metadata": {},
   "source": [
    "#### 14. Identify the max, min, and mean values in *d*. Assign those values to variables *d_max*, *d_min* and *d_mean*."
   ]
  },
  {
   "cell_type": "code",
   "execution_count": 18,
   "metadata": {},
   "outputs": [
    {
     "name": "stdout",
     "output_type": "stream",
     "text": [
      "tableau d [[[1.48028267 1.89893766 1.63291713 1.8797135  1.06059748]\n",
      "  [1.39475779 1.47860574 1.91938949 1.87602927 1.13871461]\n",
      "  [1.31494099 1.29871889 1.0127489  1.91958708 1.3455925 ]]\n",
      "\n",
      " [[1.87072599 1.74502068 1.33335302 1.28210869 1.41052195]\n",
      "  [1.0337917  1.01364091 1.12041555 1.42382693 1.03962552]\n",
      "  [1.05707218 1.31808221 1.24608542 1.67850422 1.60221679]]] \n",
      "\n",
      "max de d:  1.9195870803424047\n",
      "min de d:  1.0127489023168548\n",
      "moyenne de d:  1.4275508479409802\n"
     ]
    }
   ],
   "source": [
    "d_max = np.max(d)\n",
    "d_min = np.min(d)\n",
    "d_mean = np.mean(d)\n",
    "print(\"tableau d\", d, \"\\n\")\n",
    "\n",
    "print(\"max de d: \", d_max)\n",
    "print(\"min de d: \", d_min)\n",
    "print(\"moyenne de d: \", d_mean)"
   ]
  },
  {
   "cell_type": "markdown",
   "metadata": {},
   "source": [
    "#### 15. Now we want to label the values in *d*. First create an empty array *f* with the same shape (i.e. 2x3x5) as *d* using `np.empty`.\n"
   ]
  },
  {
   "cell_type": "code",
   "execution_count": 19,
   "metadata": {},
   "outputs": [
    {
     "name": "stdout",
     "output_type": "stream",
     "text": [
      "[[[1.48028267 1.89893766 1.63291713 1.8797135  1.06059748]\n",
      "  [1.39475779 1.47860574 1.91938949 1.87602927 1.13871461]\n",
      "  [1.31494099 1.29871889 1.0127489  1.91958708 1.3455925 ]]\n",
      "\n",
      " [[1.87072599 1.74502068 1.33335302 1.28210869 1.41052195]\n",
      "  [1.0337917  1.01364091 1.12041555 1.42382693 1.03962552]\n",
      "  [1.05707218 1.31808221 1.24608542 1.67850422 1.60221679]]]\n"
     ]
    }
   ],
   "source": [
    "f = np.empty(shape=(2,3,5))\n",
    "print(f)"
   ]
  },
  {
   "cell_type": "markdown",
   "metadata": {},
   "source": [
    "#### 16. Populate the values in *f*. \n",
    "\n",
    "For each value in *d*, if it's larger than *d_min* but smaller than *d_mean*, assign 25 to the corresponding value in *f*. If a value in *d* is larger than *d_mean* but smaller than *d_max*, assign 75 to the corresponding value in *f*. If a value equals to *d_mean*, assign 50 to the corresponding value in *f*. Assign 0 to the corresponding value(s) in *f* for *d_min* in *d*. Assign 100 to the corresponding value(s) in *f* for *d_max* in *d*. In the end, f should have only the following values: 0, 25, 50, 75, and 100.\n",
    "\n",
    "**Note**: you don't have to use Numpy in this question."
   ]
  },
  {
   "cell_type": "code",
   "execution_count": 20,
   "metadata": {},
   "outputs": [
    {
     "name": "stdout",
     "output_type": "stream",
     "text": [
      "[[[ 75.  75.  75.  75.  25.]\n",
      "  [ 25.  75.  75.  75.  25.]\n",
      "  [ 25.  25.   0. 100.  25.]]\n",
      "\n",
      " [[ 75.  75.  25.  25.  25.]\n",
      "  [ 25.  25.  25.  25.  25.]\n",
      "  [ 25.  25.  25.  75.  75.]]]\n"
     ]
    }
   ],
   "source": [
    "for first_index in range(2):\n",
    "    for second_index in range(3):\n",
    "        for third_index in range(5):\n",
    "            if d[first_index, second_index, third_index] > d_min and d[first_index, second_index, third_index] < d_mean:\n",
    "                f[first_index, second_index, third_index] = 25\n",
    "            elif d[first_index, second_index, third_index] > d_mean and d[first_index, second_index, third_index] < d_max:\n",
    "                f[first_index, second_index, third_index] = 75\n",
    "            elif d[first_index, second_index, third_index] == d_mean:\n",
    "                f[first_index, second_index, third_index] = 50\n",
    "            elif d[first_index, second_index, third_index] == d_min:\n",
    "                f[first_index, second_index, third_index] = 0\n",
    "            elif d[first_index, second_index, third_index] == d_max:\n",
    "                f[first_index, second_index, third_index] = 100\n",
    "print(f)\n",
    "# Boucle créée sur chaque coordonnée de la valeur d, sachant que ligne = (2) donc d[1,] d[2,] / éléments dans lignes, 3 possibles d[1,1]/d[1,2]/d[1,3] / colonnes 5 possibles donc jusqu'à d[:,5]\n",
    "# le signe == c'ets dire true ou false mais juste = \"c'est égal à la valeur\""
   ]
  },
  {
   "cell_type": "markdown",
   "metadata": {},
   "source": [
    "#### 17. Print *d* and *f*. Do you have your expected *f*?\n",
    "For instance, if your *d* is:\n",
    "```python\n",
    "[[[1.85836099, 1.67064465, 1.62576044, 1.40243961, 1.88454931],\n",
    "[1.75354326, 1.69403643, 1.36729252, 1.61415071, 1.12104981],\n",
    "[1.72201435, 1.1862918 , 1.87078449, 1.7726778 , 1.88180042]],\n",
    "[[1.44747908, 1.31673383, 1.02000951, 1.52218947, 1.97066381],\n",
    "[1.79129243, 1.74983003, 1.96028037, 1.85166831, 1.65450881],\n",
    "[1.18068344, 1.9587381 , 1.00656599, 1.93402165, 1.73514584]]]\n",
    "```\n",
    "Your *f* should be:\n",
    "```python\n",
    "[[[ 75.,  75.,  75.,  25.,  75.],\n",
    "[ 75.,  75.,  25.,  25.,  25.],\n",
    "[ 75.,  25.,  75.,  75.,  75.]],\n",
    "[[ 25.,  25.,  25.,  25., 100.],\n",
    "[ 75.,  75.,  75.,  75.,  75.],\n",
    "[ 25.,  75.,   0.,  75.,  75.]]]\n",
    "```"
   ]
  },
  {
   "cell_type": "code",
   "execution_count": 21,
   "metadata": {},
   "outputs": [
    {
     "name": "stdout",
     "output_type": "stream",
     "text": [
      "[[[ 75.  75.  75.  75.  25.]\n",
      "  [ 25.  75.  75.  75.  25.]\n",
      "  [ 25.  25.   0. 100.  25.]]\n",
      "\n",
      " [[ 75.  75.  25.  25.  25.]\n",
      "  [ 25.  25.  25.  25.  25.]\n",
      "  [ 25.  25.  25.  75.  75.]]]\n",
      "[[[1.48028267 1.89893766 1.63291713 1.8797135  1.06059748]\n",
      "  [1.39475779 1.47860574 1.91938949 1.87602927 1.13871461]\n",
      "  [1.31494099 1.29871889 1.0127489  1.91958708 1.3455925 ]]\n",
      "\n",
      " [[1.87072599 1.74502068 1.33335302 1.28210869 1.41052195]\n",
      "  [1.0337917  1.01364091 1.12041555 1.42382693 1.03962552]\n",
      "  [1.05707218 1.31808221 1.24608542 1.67850422 1.60221679]]]\n"
     ]
    }
   ],
   "source": [
    "print(f)\n",
    "print(d)"
   ]
  },
  {
   "cell_type": "markdown",
   "metadata": {},
   "source": [
    "#### 18. Bonus question: instead of using numbers (i.e. 0, 25, 50, 75, and 100), use string values  (\"A\", \"B\", \"C\", \"D\", and \"E\") to label the array elements. For the example above, the expected result is:\n",
    "\n",
    "```python\n",
    "[[[ 'D',  'D',  'D',  'B',  'D'],\n",
    "[ 'D',  'D',  'B',  'B',  'B'],\n",
    "[ 'D',  'B',  'D',  'D',  'D']],\n",
    "[[ 'B',  'B',  'B',  'B',  'E'],\n",
    "[ 'D',  'D',  'D',  'D',  'D'],\n",
    "[ 'B',  'D',   'A',  'D', 'D']]]\n",
    "```\n",
    "**Note**: you don't have to use Numpy in this question."
   ]
  },
  {
   "cell_type": "code",
   "execution_count": 22,
   "metadata": {},
   "outputs": [],
   "source": [
    "# your code here"
   ]
  },
  {
   "cell_type": "code",
   "execution_count": 34,
   "metadata": {},
   "outputs": [
    {
     "name": "stdout",
     "output_type": "stream",
     "text": [
      "[1 2 3]\n",
      "(3,)\n",
      "3\n"
     ]
    }
   ],
   "source": [
    "a2 = np.array([1,2,3])\n",
    "print(a2)\n",
    "print(a2.shape)\n",
    "print(len(a2))\n",
    "\n",
    "#a2 est un vecteur donc si on le soustrait à un autre tableau, \n",
    "#ça se soustrait à toutes les lignes de ce tableau"
   ]
  },
  {
   "cell_type": "code",
   "execution_count": 33,
   "metadata": {},
   "outputs": [
    {
     "name": "stdout",
     "output_type": "stream",
     "text": [
      "[[1.5 2.  3. ]\n",
      " [4.  5.  6. ]]\n",
      "(2, 3)\n",
      "2\n"
     ]
    }
   ],
   "source": [
    "a3 = np.array([(1.5,2,3), (4,5,6)], dtype = float)\n",
    "print(a3)\n",
    "print(a3.shape)\n",
    "print(len(a3))"
   ]
  },
  {
   "cell_type": "code",
   "execution_count": 32,
   "metadata": {},
   "outputs": [
    {
     "name": "stdout",
     "output_type": "stream",
     "text": [
      "[[[1.5 2.  3. ]\n",
      "  [4.  5.  6. ]]\n",
      "\n",
      " [[3.  2.  1. ]\n",
      "  [4.  5.  6. ]]]\n",
      "(2, 2, 3)\n",
      "2\n"
     ]
    }
   ],
   "source": [
    "a4 = np.array([[(1.5,2,3), (4,5,6)], [(3,2,1), (4,5,6)]], \n",
    " dtype = float)\n",
    "print(a4)\n",
    "print(a4.shape)\n",
    "\n",
    "#longueur du tableau\n",
    "print(len(a4))"
   ]
  },
  {
   "cell_type": "code",
   "execution_count": null,
   "metadata": {},
   "outputs": [],
   "source": []
  }
 ],
 "metadata": {
  "kernelspec": {
   "display_name": "Python 3",
   "language": "python",
   "name": "python3"
  },
  "language_info": {
   "codemirror_mode": {
    "name": "ipython",
    "version": 3
   },
   "file_extension": ".py",
   "mimetype": "text/x-python",
   "name": "python",
   "nbconvert_exporter": "python",
   "pygments_lexer": "ipython3",
   "version": "3.8.5"
  }
 },
 "nbformat": 4,
 "nbformat_minor": 4
}
