{
 "cells": [
  {
   "cell_type": "markdown",
   "metadata": {},
   "source": [
    "# Introduction to NumPy\n",
    "\n",
    "\n",
    "#### 1. Import NumPy under the name np."
   ]
  },
  {
   "cell_type": "code",
   "execution_count": 6,
   "metadata": {},
   "outputs": [],
   "source": [
    "# your code here\n",
    "import numpy as np"
   ]
  },
  {
   "cell_type": "markdown",
   "metadata": {},
   "source": [
    "#### 2. Print your NumPy version."
   ]
  },
  {
   "cell_type": "code",
   "execution_count": 9,
   "metadata": {},
   "outputs": [
    {
     "name": "stdout",
     "output_type": "stream",
     "text": [
      "1.19.0\n"
     ]
    }
   ],
   "source": [
    "# your code here\n",
    "print(np.__version__)\n"
   ]
  },
  {
   "cell_type": "markdown",
   "metadata": {},
   "source": [
    "#### 3. Generate a 2x3x5 3-dimensional array with random values. Assign the array to variable *a*.\n",
    "**Challenge**: there are at least three easy ways that use numpy to generate random arrays. How many ways can you find?"
   ]
  },
  {
   "cell_type": "code",
   "execution_count": 10,
   "metadata": {},
   "outputs": [
    {
     "name": "stdout",
     "output_type": "stream",
     "text": [
      "[[[0.17769798 0.30271182 0.52219776 0.16340834 0.16104226]\n",
      "  [0.17164066 0.94671271 0.45807756 0.75672498 0.21413021]\n",
      "  [0.38737344 0.31150289 0.79229348 0.95482671 0.30128328]]\n",
      "\n",
      " [[0.18118887 0.20408855 0.39848558 0.72915816 0.38024004]\n",
      "  [0.69297568 0.56900507 0.08783908 0.36629693 0.95334539]\n",
      "  [0.304071   0.57801153 0.22981469 0.35136594 0.51954711]]]\n"
     ]
    }
   ],
   "source": [
    "# Method 1\n",
    "a = np.random.random((2,3,5))\n",
    "print(a)"
   ]
  },
  {
   "cell_type": "code",
   "execution_count": 22,
   "metadata": {},
   "outputs": [
    {
     "name": "stdout",
     "output_type": "stream",
     "text": [
      "[[[-0.10869412  0.83571748  0.81371662 -2.77008082 -0.15165523]\n",
      "  [-0.87361149 -0.33313666 -2.04464992  0.42660982 -0.01172092]\n",
      "  [-1.43624635  0.07414878  1.74143187  0.743327   -2.7418511 ]]\n",
      "\n",
      " [[-0.95350897 -0.49765642  2.42307346 -0.90685109 -0.67754253]\n",
      "  [-0.58625747  1.48622075 -0.35292679  0.40444978  0.73958046]\n",
      "  [ 0.21642724 -0.32666435 -0.79832287  0.09120534  1.24662163]]]\n"
     ]
    }
   ],
   "source": [
    "# Method 2\n",
    "a = np.random.randn(2,3,5)\n",
    "print(a)"
   ]
  },
  {
   "cell_type": "code",
   "execution_count": 44,
   "metadata": {},
   "outputs": [
    {
     "name": "stdout",
     "output_type": "stream",
     "text": [
      "[[[0.72315363 0.63626124 0.44990532 0.45204971 0.7613222 ]\n",
      "  [0.50997013 0.42509064 0.72786319 0.37416641 0.12201497]\n",
      "  [0.52307931 0.39674634 0.51644447 0.04601485 0.08777675]]\n",
      "\n",
      " [[0.35425259 0.7731233  0.47537768 0.92227178 0.40578221]\n",
      "  [0.71069447 0.67893438 0.48106964 0.74377817 0.18744279]\n",
      "  [0.50015464 0.55391076 0.19476336 0.31717779 0.22082308]]]\n"
     ]
    }
   ],
   "source": [
    "# Method 3\n",
    "a = np.random.rand(2,3,5)\n",
    "print(a)"
   ]
  },
  {
   "cell_type": "markdown",
   "metadata": {},
   "source": [
    "#### 4. Print *a*.\n"
   ]
  },
  {
   "cell_type": "code",
   "execution_count": 45,
   "metadata": {},
   "outputs": [
    {
     "name": "stdout",
     "output_type": "stream",
     "text": [
      "[[[0.72315363 0.63626124 0.44990532 0.45204971 0.7613222 ]\n",
      "  [0.50997013 0.42509064 0.72786319 0.37416641 0.12201497]\n",
      "  [0.52307931 0.39674634 0.51644447 0.04601485 0.08777675]]\n",
      "\n",
      " [[0.35425259 0.7731233  0.47537768 0.92227178 0.40578221]\n",
      "  [0.71069447 0.67893438 0.48106964 0.74377817 0.18744279]\n",
      "  [0.50015464 0.55391076 0.19476336 0.31717779 0.22082308]]]\n"
     ]
    }
   ],
   "source": [
    "# your code here\n",
    "print(a)"
   ]
  },
  {
   "cell_type": "markdown",
   "metadata": {},
   "source": [
    "#### 5. Create a 5x2x3 3-dimensional array with all values equaling 1. Assign the array to variable *b*."
   ]
  },
  {
   "cell_type": "code",
   "execution_count": 84,
   "metadata": {},
   "outputs": [],
   "source": [
    "b = np.ones((5, 2, 3))"
   ]
  },
  {
   "cell_type": "markdown",
   "metadata": {},
   "source": [
    "#### 6. Print *b*.\n"
   ]
  },
  {
   "cell_type": "code",
   "execution_count": 85,
   "metadata": {},
   "outputs": [
    {
     "name": "stdout",
     "output_type": "stream",
     "text": [
      "[[[1. 1. 1.]\n",
      "  [1. 1. 1.]]\n",
      "\n",
      " [[1. 1. 1.]\n",
      "  [1. 1. 1.]]\n",
      "\n",
      " [[1. 1. 1.]\n",
      "  [1. 1. 1.]]\n",
      "\n",
      " [[1. 1. 1.]\n",
      "  [1. 1. 1.]]\n",
      "\n",
      " [[1. 1. 1.]\n",
      "  [1. 1. 1.]]]\n"
     ]
    }
   ],
   "source": [
    "print(b)"
   ]
  },
  {
   "cell_type": "markdown",
   "metadata": {},
   "source": [
    "#### 7. Do *a* and *b* have the same size? How do you prove that in Python code?"
   ]
  },
  {
   "cell_type": "code",
   "execution_count": 76,
   "metadata": {},
   "outputs": [
    {
     "name": "stdout",
     "output_type": "stream",
     "text": [
      "30\n",
      "30\n"
     ]
    }
   ],
   "source": [
    "#yes !\n",
    "\n",
    "print(b.size)\n",
    "print(a.size)\n"
   ]
  },
  {
   "cell_type": "markdown",
   "metadata": {},
   "source": [
    "#### 8. Are you able to add *a* and *b*? Why or why not?\n"
   ]
  },
  {
   "cell_type": "code",
   "execution_count": 82,
   "metadata": {},
   "outputs": [],
   "source": [
    "# your answer here\n",
    "\n",
    "no because a and b don't have the same shape"
   ]
  },
  {
   "cell_type": "markdown",
   "metadata": {},
   "source": [
    "#### 9. Transpose *b* so that it has the same structure of *a* (i.e. become a 2x3x5 array). Assign the transposed array to variable *c*."
   ]
  },
  {
   "cell_type": "code",
   "execution_count": 97,
   "metadata": {},
   "outputs": [
    {
     "name": "stdout",
     "output_type": "stream",
     "text": [
      "[[[1. 1. 1. 1. 1.]\n",
      "  [1. 1. 1. 1. 1.]\n",
      "  [1. 1. 1. 1. 1.]]\n",
      "\n",
      " [[1. 1. 1. 1. 1.]\n",
      "  [1. 1. 1. 1. 1.]\n",
      "  [1. 1. 1. 1. 1.]]]\n"
     ]
    }
   ],
   "source": [
    "# your code here\n",
    "\n",
    "c = np.reshape(b,(2,3,5),)\n",
    "print(c)\n"
   ]
  },
  {
   "cell_type": "markdown",
   "metadata": {},
   "source": [
    "#### 10. Try to add *a* and *c*. Now it should work. Assign the sum to variable *d*. But why does it work now?"
   ]
  },
  {
   "cell_type": "code",
   "execution_count": 90,
   "metadata": {},
   "outputs": [
    {
     "name": "stdout",
     "output_type": "stream",
     "text": [
      "[[[1.72315363 1.63626124 1.44990532 1.45204971 1.7613222 ]\n",
      "  [1.50997013 1.42509064 1.72786319 1.37416641 1.12201497]\n",
      "  [1.52307931 1.39674634 1.51644447 1.04601485 1.08777675]]\n",
      "\n",
      " [[1.35425259 1.7731233  1.47537768 1.92227178 1.40578221]\n",
      "  [1.71069447 1.67893438 1.48106964 1.74377817 1.18744279]\n",
      "  [1.50015464 1.55391076 1.19476336 1.31717779 1.22082308]]]\n"
     ]
    }
   ],
   "source": [
    "# your code/answer here\n",
    "\n",
    "d = a + b\n",
    "print(d)\n",
    "\n",
    "#because they have the same shape"
   ]
  },
  {
   "cell_type": "markdown",
   "metadata": {},
   "source": [
    "#### 11. Print *a* and *d*. Notice the difference and relation of the two array in terms of the values? Explain."
   ]
  },
  {
   "cell_type": "code",
   "execution_count": 98,
   "metadata": {},
   "outputs": [
    {
     "name": "stdout",
     "output_type": "stream",
     "text": [
      "[[[0.72315363 0.63626124 0.44990532 0.45204971 0.7613222 ]\n",
      "  [0.50997013 0.42509064 0.72786319 0.37416641 0.12201497]\n",
      "  [0.52307931 0.39674634 0.51644447 0.04601485 0.08777675]]\n",
      "\n",
      " [[0.35425259 0.7731233  0.47537768 0.92227178 0.40578221]\n",
      "  [0.71069447 0.67893438 0.48106964 0.74377817 0.18744279]\n",
      "  [0.50015464 0.55391076 0.19476336 0.31717779 0.22082308]]]\n",
      "[[[1.72315363 1.63626124 1.44990532 1.45204971 1.7613222 ]\n",
      "  [1.50997013 1.42509064 1.72786319 1.37416641 1.12201497]\n",
      "  [1.52307931 1.39674634 1.51644447 1.04601485 1.08777675]]\n",
      "\n",
      " [[1.35425259 1.7731233  1.47537768 1.92227178 1.40578221]\n",
      "  [1.71069447 1.67893438 1.48106964 1.74377817 1.18744279]\n",
      "  [1.50015464 1.55391076 1.19476336 1.31717779 1.22082308]]]\n"
     ]
    }
   ],
   "source": [
    "# your code/answer here\n",
    "print(a)\n",
    "print(d)\n",
    "\n",
    "#d is a where 1 were added to each value of array"
   ]
  },
  {
   "cell_type": "markdown",
   "metadata": {},
   "source": [
    "#### 12. Multiply *a* and *c*. Assign the result to *e*."
   ]
  },
  {
   "cell_type": "code",
   "execution_count": 99,
   "metadata": {},
   "outputs": [
    {
     "name": "stdout",
     "output_type": "stream",
     "text": [
      "[[[0.72315363 0.63626124 0.44990532 0.45204971 0.7613222 ]\n",
      "  [0.50997013 0.42509064 0.72786319 0.37416641 0.12201497]\n",
      "  [0.52307931 0.39674634 0.51644447 0.04601485 0.08777675]]\n",
      "\n",
      " [[0.35425259 0.7731233  0.47537768 0.92227178 0.40578221]\n",
      "  [0.71069447 0.67893438 0.48106964 0.74377817 0.18744279]\n",
      "  [0.50015464 0.55391076 0.19476336 0.31717779 0.22082308]]]\n"
     ]
    }
   ],
   "source": [
    "# your code here\n",
    "e = a * c\n",
    "print(e)\n",
    "\n"
   ]
  },
  {
   "cell_type": "markdown",
   "metadata": {},
   "source": [
    "#### 13. Does *e* equal to *a*? Why or why not?\n"
   ]
  },
  {
   "cell_type": "code",
   "execution_count": 100,
   "metadata": {},
   "outputs": [
    {
     "name": "stdout",
     "output_type": "stream",
     "text": [
      "[[[0.72315363 0.63626124 0.44990532 0.45204971 0.7613222 ]\n",
      "  [0.50997013 0.42509064 0.72786319 0.37416641 0.12201497]\n",
      "  [0.52307931 0.39674634 0.51644447 0.04601485 0.08777675]]\n",
      "\n",
      " [[0.35425259 0.7731233  0.47537768 0.92227178 0.40578221]\n",
      "  [0.71069447 0.67893438 0.48106964 0.74377817 0.18744279]\n",
      "  [0.50015464 0.55391076 0.19476336 0.31717779 0.22082308]]]\n",
      "[[[0.72315363 0.63626124 0.44990532 0.45204971 0.7613222 ]\n",
      "  [0.50997013 0.42509064 0.72786319 0.37416641 0.12201497]\n",
      "  [0.52307931 0.39674634 0.51644447 0.04601485 0.08777675]]\n",
      "\n",
      " [[0.35425259 0.7731233  0.47537768 0.92227178 0.40578221]\n",
      "  [0.71069447 0.67893438 0.48106964 0.74377817 0.18744279]\n",
      "  [0.50015464 0.55391076 0.19476336 0.31717779 0.22082308]]]\n"
     ]
    }
   ],
   "source": [
    "# your code/answer here\n",
    "print(e)\n",
    "print(a)\n",
    "\n",
    "#yes because it has been multiplied by one"
   ]
  },
  {
   "cell_type": "markdown",
   "metadata": {},
   "source": [
    "#### 14. Identify the max, min, and mean values in *d*. Assign those values to variables *d_max*, *d_min* and *d_mean*."
   ]
  },
  {
   "cell_type": "code",
   "execution_count": 104,
   "metadata": {},
   "outputs": [
    {
     "name": "stdout",
     "output_type": "stream",
     "text": [
      "1.922271780628713\n",
      "1.0460148546333752\n"
     ]
    }
   ],
   "source": [
    "# your code here\n",
    "d_max = d.max()\n",
    "print(d_max)\n",
    "\n",
    "d_min = d.min()\n",
    "print(d_min)"
   ]
  },
  {
   "cell_type": "markdown",
   "metadata": {},
   "source": [
    "#### 15. Now we want to label the values in *d*. First create an empty array *f* with the same shape (i.e. 2x3x5) as *d* using `np.empty`.\n"
   ]
  },
  {
   "cell_type": "code",
   "execution_count": null,
   "metadata": {},
   "outputs": [],
   "source": [
    "# your code here"
   ]
  },
  {
   "cell_type": "markdown",
   "metadata": {},
   "source": [
    "#### 16. Populate the values in *f*. \n",
    "\n",
    "For each value in *d*, if it's larger than *d_min* but smaller than *d_mean*, assign 25 to the corresponding value in *f*. If a value in *d* is larger than *d_mean* but smaller than *d_max*, assign 75 to the corresponding value in *f*. If a value equals to *d_mean*, assign 50 to the corresponding value in *f*. Assign 0 to the corresponding value(s) in *f* for *d_min* in *d*. Assign 100 to the corresponding value(s) in *f* for *d_max* in *d*. In the end, f should have only the following values: 0, 25, 50, 75, and 100.\n",
    "\n",
    "**Note**: you don't have to use Numpy in this question."
   ]
  },
  {
   "cell_type": "code",
   "execution_count": 1,
   "metadata": {},
   "outputs": [],
   "source": [
    "# your code here"
   ]
  },
  {
   "cell_type": "markdown",
   "metadata": {},
   "source": [
    "#### 17. Print *d* and *f*. Do you have your expected *f*?\n",
    "For instance, if your *d* is:\n",
    "```python\n",
    "[[[1.85836099, 1.67064465, 1.62576044, 1.40243961, 1.88454931],\n",
    "[1.75354326, 1.69403643, 1.36729252, 1.61415071, 1.12104981],\n",
    "[1.72201435, 1.1862918 , 1.87078449, 1.7726778 , 1.88180042]],\n",
    "[[1.44747908, 1.31673383, 1.02000951, 1.52218947, 1.97066381],\n",
    "[1.79129243, 1.74983003, 1.96028037, 1.85166831, 1.65450881],\n",
    "[1.18068344, 1.9587381 , 1.00656599, 1.93402165, 1.73514584]]]\n",
    "```\n",
    "Your *f* should be:\n",
    "```python\n",
    "[[[ 75.,  75.,  75.,  25.,  75.],\n",
    "[ 75.,  75.,  25.,  25.,  25.],\n",
    "[ 75.,  25.,  75.,  75.,  75.]],\n",
    "[[ 25.,  25.,  25.,  25., 100.],\n",
    "[ 75.,  75.,  75.,  75.,  75.],\n",
    "[ 25.,  75.,   0.,  75.,  75.]]]\n",
    "```"
   ]
  },
  {
   "cell_type": "code",
   "execution_count": null,
   "metadata": {},
   "outputs": [],
   "source": [
    "# your code here"
   ]
  },
  {
   "cell_type": "markdown",
   "metadata": {},
   "source": [
    "#### 18. Bonus question: instead of using numbers (i.e. 0, 25, 50, 75, and 100), use string values  (\"A\", \"B\", \"C\", \"D\", and \"E\") to label the array elements. For the example above, the expected result is:\n",
    "\n",
    "```python\n",
    "[[[ 'D',  'D',  'D',  'B',  'D'],\n",
    "[ 'D',  'D',  'B',  'B',  'B'],\n",
    "[ 'D',  'B',  'D',  'D',  'D']],\n",
    "[[ 'B',  'B',  'B',  'B',  'E'],\n",
    "[ 'D',  'D',  'D',  'D',  'D'],\n",
    "[ 'B',  'D',   'A',  'D', 'D']]]\n",
    "```\n",
    "**Note**: you don't have to use Numpy in this question."
   ]
  },
  {
   "cell_type": "code",
   "execution_count": null,
   "metadata": {},
   "outputs": [],
   "source": [
    "# your code here"
   ]
  }
 ],
 "metadata": {
  "kernelspec": {
   "display_name": "Python 3",
   "language": "python",
   "name": "python3"
  }
 },
 "nbformat": 4,
 "nbformat_minor": 2
}
