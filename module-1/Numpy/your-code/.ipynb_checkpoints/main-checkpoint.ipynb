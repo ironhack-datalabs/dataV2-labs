{
 "cells": [
  {
   "cell_type": "markdown",
   "metadata": {},
   "source": [
    "# Intrduction to NumPy\n",
    "\n",
    "\n",
    "#### 1. Import NumPy under the name np."
   ]
  },
  {
   "cell_type": "code",
   "execution_count": 10,
   "metadata": {},
   "outputs": [],
   "source": [
    "# your code here\n",
    "import numpy as np"
   ]
  },
  {
   "cell_type": "markdown",
   "metadata": {},
   "source": [
    "#### 2. Print your NumPy version."
   ]
  },
  {
   "cell_type": "code",
   "execution_count": 11,
   "metadata": {},
   "outputs": [
    {
     "data": {
      "text/plain": [
       "'1.16.5'"
      ]
     },
     "execution_count": 11,
     "metadata": {},
     "output_type": "execute_result"
    }
   ],
   "source": [
    "# your code here\n",
    "np.version.version"
   ]
  },
  {
   "cell_type": "markdown",
   "metadata": {},
   "source": [
    "#### 3. Generate a 2x3x5 3-dimensional array with random values. Assign the array to variable *a*.\n",
    "**Challenge**: there are at least three easy ways that use numpy to generate random arrays. How many ways can you find?"
   ]
  },
  {
   "cell_type": "code",
   "execution_count": 12,
   "metadata": {},
   "outputs": [
    {
     "name": "stdout",
     "output_type": "stream",
     "text": [
      "[[[0.12582933 0.24580329 0.06603677 0.52545767 0.78692816]\n",
      "  [0.96220147 0.28096566 0.98195279 0.969503   0.93461552]\n",
      "  [0.29517928 0.12346438 0.71776168 0.54971353 0.69082649]]\n",
      "\n",
      " [[0.7217135  0.5089419  0.29298384 0.91894604 0.17491449]\n",
      "  [0.48034576 0.17149084 0.61505824 0.71167325 0.25387242]\n",
      "  [0.42615461 0.18713302 0.95967532 0.10883067 0.81881907]]]\n"
     ]
    }
   ],
   "source": [
    "# Method 1\n",
    "a = np.random.random((2,3,5))\n",
    "print(a)"
   ]
  },
  {
   "cell_type": "code",
   "execution_count": 13,
   "metadata": {},
   "outputs": [
    {
     "name": "stdout",
     "output_type": "stream",
     "text": [
      "[[[0.39561069 0.39168348 0.31021646 0.67231252 0.25710728]\n",
      "  [0.39806692 0.8043101  0.45337782 0.27331398 0.11151297]\n",
      "  [0.14660936 0.11698075 0.20883382 0.32365009 0.31771756]]\n",
      "\n",
      " [[0.90537298 0.981219   0.85887998 0.10280498 0.18985263]\n",
      "  [0.4272845  0.61055711 0.51079356 0.11946782 0.71295041]\n",
      "  [0.82187701 0.81032473 0.6458084  0.76000402 0.71817149]]]\n"
     ]
    }
   ],
   "source": [
    "# Method 2\n",
    "l = [[[np.random.random() for l in range(5)] for c in range(3)] for d in range(2)]\n",
    "a = np.array(l)\n",
    "print(a)"
   ]
  },
  {
   "cell_type": "code",
   "execution_count": 14,
   "metadata": {},
   "outputs": [
    {
     "name": "stdout",
     "output_type": "stream",
     "text": [
      "[[[0.4424884  0.90896667 0.71948816 0.31187663 0.72243394]\n",
      "  [0.35423907 0.35865671 0.50273518 0.17327049 0.07601708]\n",
      "  [0.90271225 0.65499286 0.05701747 0.75446421 0.61076053]]\n",
      "\n",
      " [[0.08801203 0.44088298 0.64080241 0.15599933 0.91660073]\n",
      "  [0.47511487 0.10998425 0.48209554 0.92567193 0.14878269]\n",
      "  [0.12417588 0.9950926  0.53375407 0.94246232 0.29986799]]]\n"
     ]
    }
   ],
   "source": [
    "# Method 3\n",
    "\n",
    "a = np.random.uniform(0,1,[2,3,5])\n",
    "print(a)"
   ]
  },
  {
   "cell_type": "markdown",
   "metadata": {},
   "source": [
    "#### 4. Print *a*.\n"
   ]
  },
  {
   "cell_type": "code",
   "execution_count": 15,
   "metadata": {},
   "outputs": [
    {
     "name": "stdout",
     "output_type": "stream",
     "text": [
      "[[[0.4424884  0.90896667 0.71948816 0.31187663 0.72243394]\n",
      "  [0.35423907 0.35865671 0.50273518 0.17327049 0.07601708]\n",
      "  [0.90271225 0.65499286 0.05701747 0.75446421 0.61076053]]\n",
      "\n",
      " [[0.08801203 0.44088298 0.64080241 0.15599933 0.91660073]\n",
      "  [0.47511487 0.10998425 0.48209554 0.92567193 0.14878269]\n",
      "  [0.12417588 0.9950926  0.53375407 0.94246232 0.29986799]]]\n"
     ]
    }
   ],
   "source": [
    "# your code here\n",
    "print(a)"
   ]
  },
  {
   "cell_type": "markdown",
   "metadata": {},
   "source": [
    "#### 5. Create a 5x2x3 3-dimensional array with all values equaling 1. Assign the array to variable *b*."
   ]
  },
  {
   "cell_type": "code",
   "execution_count": 16,
   "metadata": {},
   "outputs": [],
   "source": [
    "# your code here\n",
    "l = [[[1 for l in range(3)] for c in range(2)] for d in range(5)]\n",
    "b = np.array(l)\n"
   ]
  },
  {
   "cell_type": "markdown",
   "metadata": {},
   "source": [
    "#### 6. Print *b*.\n"
   ]
  },
  {
   "cell_type": "code",
   "execution_count": 17,
   "metadata": {},
   "outputs": [
    {
     "name": "stdout",
     "output_type": "stream",
     "text": [
      "[[[1 1 1]\n",
      "  [1 1 1]]\n",
      "\n",
      " [[1 1 1]\n",
      "  [1 1 1]]\n",
      "\n",
      " [[1 1 1]\n",
      "  [1 1 1]]\n",
      "\n",
      " [[1 1 1]\n",
      "  [1 1 1]]\n",
      "\n",
      " [[1 1 1]\n",
      "  [1 1 1]]]\n"
     ]
    }
   ],
   "source": [
    "# your code here\n",
    "print(b)"
   ]
  },
  {
   "cell_type": "markdown",
   "metadata": {},
   "source": [
    "#### 7. Do *a* and *b* have the same size? How do you prove that in Python code?"
   ]
  },
  {
   "cell_type": "code",
   "execution_count": 18,
   "metadata": {},
   "outputs": [
    {
     "data": {
      "text/plain": [
       "True"
      ]
     },
     "execution_count": 18,
     "metadata": {},
     "output_type": "execute_result"
    }
   ],
   "source": [
    "# your code here\n",
    "a.size == b.size"
   ]
  },
  {
   "cell_type": "markdown",
   "metadata": {},
   "source": [
    "#### 8. Are you able to add *a* and *b*? Why or why not?\n"
   ]
  },
  {
   "cell_type": "code",
   "execution_count": 19,
   "metadata": {},
   "outputs": [
    {
     "ename": "ValueError",
     "evalue": "operands could not be broadcast together with shapes (2,3,5) (5,2,3) ",
     "output_type": "error",
     "traceback": [
      "\u001b[1;31m---------------------------------------------------------------------------\u001b[0m",
      "\u001b[1;31mValueError\u001b[0m                                Traceback (most recent call last)",
      "\u001b[1;32m<ipython-input-19-ae3f46d20a01>\u001b[0m in \u001b[0;36m<module>\u001b[1;34m\u001b[0m\n\u001b[0;32m      1\u001b[0m \u001b[1;31m# your answer here\u001b[0m\u001b[1;33m\u001b[0m\u001b[1;33m\u001b[0m\u001b[1;33m\u001b[0m\u001b[0m\n\u001b[1;32m----> 2\u001b[1;33m \u001b[0mprint\u001b[0m\u001b[1;33m(\u001b[0m\u001b[0mnp\u001b[0m\u001b[1;33m.\u001b[0m\u001b[0madd\u001b[0m\u001b[1;33m(\u001b[0m\u001b[0ma\u001b[0m\u001b[1;33m,\u001b[0m\u001b[0mb\u001b[0m\u001b[1;33m)\u001b[0m\u001b[1;33m)\u001b[0m\u001b[1;33m\u001b[0m\u001b[1;33m\u001b[0m\u001b[0m\n\u001b[0m\u001b[0;32m      3\u001b[0m \u001b[1;33m\u001b[0m\u001b[0m\n\u001b[0;32m      4\u001b[0m \u001b[1;31m#because they have different dimensions\u001b[0m\u001b[1;33m\u001b[0m\u001b[1;33m\u001b[0m\u001b[1;33m\u001b[0m\u001b[0m\n",
      "\u001b[1;31mValueError\u001b[0m: operands could not be broadcast together with shapes (2,3,5) (5,2,3) "
     ]
    }
   ],
   "source": [
    "# your answer here\n",
    "print(np.add(a,b))\n",
    "\n",
    "#because they have different dimensions"
   ]
  },
  {
   "cell_type": "markdown",
   "metadata": {},
   "source": [
    "#### 9. Transpose *b* so that it has the same structure of *a* (i.e. become a 2x3x5 array). Assign the transposed array to variable *c*."
   ]
  },
  {
   "cell_type": "code",
   "execution_count": 20,
   "metadata": {},
   "outputs": [
    {
     "name": "stdout",
     "output_type": "stream",
     "text": [
      "[[[1 1 1 1 1]\n",
      "  [1 1 1 1 1]\n",
      "  [1 1 1 1 1]]\n",
      "\n",
      " [[1 1 1 1 1]\n",
      "  [1 1 1 1 1]\n",
      "  [1 1 1 1 1]]]\n"
     ]
    }
   ],
   "source": [
    "# your code here\n",
    "c = b.transpose(1,2,0)\n",
    "print(c)"
   ]
  },
  {
   "cell_type": "markdown",
   "metadata": {},
   "source": [
    "#### 10. Try to add *a* and *c*. Now it should work. Assign the sum to variable *d*. But why does it work now?"
   ]
  },
  {
   "cell_type": "code",
   "execution_count": 21,
   "metadata": {},
   "outputs": [
    {
     "name": "stdout",
     "output_type": "stream",
     "text": [
      "[[[1.4424884  1.90896667 1.71948816 1.31187663 1.72243394]\n",
      "  [1.35423907 1.35865671 1.50273518 1.17327049 1.07601708]\n",
      "  [1.90271225 1.65499286 1.05701747 1.75446421 1.61076053]]\n",
      "\n",
      " [[1.08801203 1.44088298 1.64080241 1.15599933 1.91660073]\n",
      "  [1.47511487 1.10998425 1.48209554 1.92567193 1.14878269]\n",
      "  [1.12417588 1.9950926  1.53375407 1.94246232 1.29986799]]]\n"
     ]
    }
   ],
   "source": [
    "# your code/answer here\n",
    "d = np.add(c,a)\n",
    "print(d)\n",
    "\n",
    "#because they have the same dimensions"
   ]
  },
  {
   "cell_type": "markdown",
   "metadata": {},
   "source": [
    "#### 11. Print *a* and *d*. Notice the difference and relation of the two array in terms of the values? Explain."
   ]
  },
  {
   "cell_type": "code",
   "execution_count": 22,
   "metadata": {},
   "outputs": [
    {
     "name": "stdout",
     "output_type": "stream",
     "text": [
      "[[[0.4424884  0.90896667 0.71948816 0.31187663 0.72243394]\n",
      "  [0.35423907 0.35865671 0.50273518 0.17327049 0.07601708]\n",
      "  [0.90271225 0.65499286 0.05701747 0.75446421 0.61076053]]\n",
      "\n",
      " [[0.08801203 0.44088298 0.64080241 0.15599933 0.91660073]\n",
      "  [0.47511487 0.10998425 0.48209554 0.92567193 0.14878269]\n",
      "  [0.12417588 0.9950926  0.53375407 0.94246232 0.29986799]]]\n",
      "[[[1.4424884  1.90896667 1.71948816 1.31187663 1.72243394]\n",
      "  [1.35423907 1.35865671 1.50273518 1.17327049 1.07601708]\n",
      "  [1.90271225 1.65499286 1.05701747 1.75446421 1.61076053]]\n",
      "\n",
      " [[1.08801203 1.44088298 1.64080241 1.15599933 1.91660073]\n",
      "  [1.47511487 1.10998425 1.48209554 1.92567193 1.14878269]\n",
      "  [1.12417588 1.9950926  1.53375407 1.94246232 1.29986799]]]\n"
     ]
    }
   ],
   "source": [
    "# your code/answer here\n",
    "print(a)\n",
    "\n",
    "print(d)\n",
    "\n",
    "# d = a + c    \n",
    "# c = 1 \n",
    "\n",
    "# d = a + 1\n",
    "\n"
   ]
  },
  {
   "cell_type": "markdown",
   "metadata": {},
   "source": [
    "#### 12. Multiply *a* and *c*. Assign the result to *e*."
   ]
  },
  {
   "cell_type": "code",
   "execution_count": 23,
   "metadata": {},
   "outputs": [
    {
     "name": "stdout",
     "output_type": "stream",
     "text": [
      "[[[0.4424884  0.90896667 0.71948816 0.31187663 0.72243394]\n",
      "  [0.35423907 0.35865671 0.50273518 0.17327049 0.07601708]\n",
      "  [0.90271225 0.65499286 0.05701747 0.75446421 0.61076053]]\n",
      "\n",
      " [[0.08801203 0.44088298 0.64080241 0.15599933 0.91660073]\n",
      "  [0.47511487 0.10998425 0.48209554 0.92567193 0.14878269]\n",
      "  [0.12417588 0.9950926  0.53375407 0.94246232 0.29986799]]]\n"
     ]
    }
   ],
   "source": [
    "# your code here\n",
    "\n",
    "e = np.multiply(c,a)\n",
    "print(e)"
   ]
  },
  {
   "cell_type": "markdown",
   "metadata": {},
   "source": [
    "#### 13. Does *e* equal to *a*? Why or why not?\n"
   ]
  },
  {
   "cell_type": "code",
   "execution_count": 24,
   "metadata": {},
   "outputs": [
    {
     "name": "stdout",
     "output_type": "stream",
     "text": [
      "[[[ True  True  True  True  True]\n",
      "  [ True  True  True  True  True]\n",
      "  [ True  True  True  True  True]]\n",
      "\n",
      " [[ True  True  True  True  True]\n",
      "  [ True  True  True  True  True]\n",
      "  [ True  True  True  True  True]]]\n"
     ]
    }
   ],
   "source": [
    "# your code/answer here\n",
    "\n",
    "print(a==e)\n",
    "\n",
    "# yes because I multyplied a by 1"
   ]
  },
  {
   "cell_type": "markdown",
   "metadata": {},
   "source": [
    "#### 14. Identify the max, min, and mean values in *d*. Assign those values to variables *d_max*, *d_min* and *d_mean*."
   ]
  },
  {
   "cell_type": "code",
   "execution_count": 25,
   "metadata": {},
   "outputs": [
    {
     "name": "stdout",
     "output_type": "stream",
     "text": [
      "1.9950925988604342\n",
      "1.0570174730514115\n",
      "1.4943139751402748\n"
     ]
    }
   ],
   "source": [
    "# your code here\n",
    "\n",
    "d_max = (np.max(d))\n",
    "d_min = (np.min(d))\n",
    "d_mean = (np.mean(d))\n",
    "\n",
    "print(d_max)\n",
    "print(d_min)\n",
    "print(d_mean)\n",
    "\n"
   ]
  },
  {
   "cell_type": "markdown",
   "metadata": {},
   "source": [
    "#### 15. Now we want to label the values in *d*. First create an empty array *f* with the same shape (i.e. 2x3x5) as *d* using `np.empty`.\n"
   ]
  },
  {
   "cell_type": "code",
   "execution_count": 30,
   "metadata": {},
   "outputs": [
    {
     "name": "stdout",
     "output_type": "stream",
     "text": [
      "[[[0.4424884  0.90896667 0.71948816 0.31187663 0.72243394]\n",
      "  [0.35423907 0.35865671 0.50273518 0.17327049 0.07601708]\n",
      "  [0.90271225 0.65499286 0.05701747 0.75446421 0.61076053]]\n",
      "\n",
      " [[0.08801203 0.44088298 0.64080241 0.15599933 0.91660073]\n",
      "  [0.47511487 0.10998425 0.48209554 0.92567193 0.14878269]\n",
      "  [0.12417588 0.9950926  0.53375407 0.94246232 0.29986799]]]\n"
     ]
    }
   ],
   "source": [
    "# your code here\n",
    "f = np.empty([2,3,5])\n",
    "print(f)"
   ]
  },
  {
   "cell_type": "markdown",
   "metadata": {},
   "source": [
    "#### 16. Populate the values in *f*. \n",
    "\n",
    "For each value in *d*, if it's larger than *d_min* but smaller than *d_mean*, assign 25 to the corresponding value in *f*. If a value in *d* is larger than *d_mean* but smaller than *d_max*, assign 75 to the corresponding value in *f*. If a value equals to *d_mean*, assign 50 to the corresponding value in *f*. Assign 0 to the corresponding value(s) in *f* for *d_min* in *d*. Assign 100 to the corresponding value(s) in *f* for *d_max* in *d*. In the end, f should have only the following values: 0, 25, 50, 75, and 100.\n",
    "\n",
    "**Note**: you don't have to use Numpy in this question."
   ]
  },
  {
   "cell_type": "code",
   "execution_count": 31,
   "metadata": {},
   "outputs": [
    {
     "name": "stdout",
     "output_type": "stream",
     "text": [
      "[[[ 25.  75.  75.  25.  75.]\n",
      "  [ 25.  25.  75.  25.  25.]\n",
      "  [ 75.  75.   0.  75.  75.]]\n",
      "\n",
      " [[ 25.  25.  75.  25.  75.]\n",
      "  [ 25.  25.  25.  75.  25.]\n",
      "  [ 25. 100.  75.  75.  25.]]]\n"
     ]
    }
   ],
   "source": [
    "# your code here\n",
    "\n",
    "shape = f.shape\n",
    "\n",
    "for x in range(shape[0]):\n",
    "    for y in range(shape[1]):\n",
    "        for z in range(shape[2]): \n",
    "            if d[x,y,z] > d_min and d[x,y,z] < d_mean:\n",
    "                f[x,y,z] = 25\n",
    "            elif d[x,y,z] > d_mean and d[x,y,z] < d_max:\n",
    "                f[x,y,z] = 75\n",
    "            elif d[x,y,z] == d_mean:\n",
    "                f[x,y,z] = 50\n",
    "            elif d[x,y,z] == d_min:\n",
    "                f[x,y,z] = 0\n",
    "            elif d[x,y,z] == d_max:\n",
    "                f[x,y,z] = 100\n",
    "\n",
    "print(f)\n",
    "\n"
   ]
  },
  {
   "cell_type": "markdown",
   "metadata": {},
   "source": [
    "#### 17. Print *d* and *f*. Do you have your expected *f*?\n",
    "For instance, if your *d* is:\n",
    "```python\n",
    "[[[1.85836099, 1.67064465, 1.62576044, 1.40243961, 1.88454931],\n",
    "[1.75354326, 1.69403643, 1.36729252, 1.61415071, 1.12104981],\n",
    "[1.72201435, 1.1862918 , 1.87078449, 1.7726778 , 1.88180042]],\n",
    "[[1.44747908, 1.31673383, 1.02000951, 1.52218947, 1.97066381],\n",
    "[1.79129243, 1.74983003, 1.96028037, 1.85166831, 1.65450881],\n",
    "[1.18068344, 1.9587381 , 1.00656599, 1.93402165, 1.73514584]]]\n",
    "```\n",
    "Your *f* should be:\n",
    "```python\n",
    "[[[ 75.,  75.,  75.,  25.,  75.],\n",
    "[ 75.,  75.,  25.,  25.,  25.],\n",
    "[ 75.,  25.,  75.,  75.,  75.]],\n",
    "[[ 25.,  25.,  25.,  25., 100.],\n",
    "[ 75.,  75.,  75.,  75.,  75.],\n",
    "[ 25.,  75.,   0.,  75.,  75.]]]\n",
    "```"
   ]
  },
  {
   "cell_type": "code",
   "execution_count": 32,
   "metadata": {},
   "outputs": [
    {
     "name": "stdout",
     "output_type": "stream",
     "text": [
      "[[[1.4424884  1.90896667 1.71948816 1.31187663 1.72243394]\n",
      "  [1.35423907 1.35865671 1.50273518 1.17327049 1.07601708]\n",
      "  [1.90271225 1.65499286 1.05701747 1.75446421 1.61076053]]\n",
      "\n",
      " [[1.08801203 1.44088298 1.64080241 1.15599933 1.91660073]\n",
      "  [1.47511487 1.10998425 1.48209554 1.92567193 1.14878269]\n",
      "  [1.12417588 1.9950926  1.53375407 1.94246232 1.29986799]]]\n",
      "[[[ 25.  75.  75.  25.  75.]\n",
      "  [ 25.  25.  75.  25.  25.]\n",
      "  [ 75.  75.   0.  75.  75.]]\n",
      "\n",
      " [[ 25.  25.  75.  25.  75.]\n",
      "  [ 25.  25.  25.  75.  25.]\n",
      "  [ 25. 100.  75.  75.  25.]]]\n"
     ]
    }
   ],
   "source": [
    "print(d)\n",
    "\n",
    "print(f)\n",
    "\n",
    "# your code here"
   ]
  },
  {
   "cell_type": "markdown",
   "metadata": {},
   "source": [
    "#### 18. Bonus question: instead of using numbers (i.e. 0, 25, 50, 75, and 100), use string values  (\"A\", \"B\", \"C\", \"D\", and \"E\") to label the array elements. For the example above, the expected result is:\n",
    "\n",
    "```python\n",
    "[[[ 'D',  'D',  'D',  'B',  'D'],\n",
    "[ 'D',  'D',  'B',  'B',  'B'],\n",
    "[ 'D',  'B',  'D',  'D',  'D']],\n",
    "[[ 'B',  'B',  'B',  'B',  'E'],\n",
    "[ 'D',  'D',  'D',  'D',  'D'],\n",
    "[ 'B',  'D',   'A',  'D', 'D']]]\n",
    "```\n",
    "**Note**: you don't have to use Numpy in this question."
   ]
  },
  {
   "cell_type": "code",
   "execution_count": 45,
   "metadata": {},
   "outputs": [
    {
     "name": "stdout",
     "output_type": "stream",
     "text": [
      "[[[ 25.  75.  75.  25.  75.]\n",
      "  [ 25.  25.  75.  25.  25.]\n",
      "  [ 75.  75.   0.  75.  75.]]\n",
      "\n",
      " [[ 25.  25.  75.  25.  75.]\n",
      "  [ 25.  25.  25.  75.  25.]\n",
      "  [ 25. 100.  75.  75.  25.]]]\n",
      "[[['B' 'D' 'D' 'B' 'D']\n",
      "  ['B' 'B' 'D' 'B' 'B']\n",
      "  ['D' 'D' 'A' 'D' 'D']]\n",
      "\n",
      " [['B' 'B' 'D' 'B' 'D']\n",
      "  ['B' 'B' 'B' 'D' 'B']\n",
      "  ['B' 'E' 'D' 'D' 'B']]]\n"
     ]
    }
   ],
   "source": [
    "# your code here\n",
    "\n",
    "g = f.astype(str)\n",
    "\n",
    "for x in range(shape[0]):\n",
    "    for y in range(shape[1]):\n",
    "        for z in range(shape[2]): \n",
    "            if d[x,y,z] > d_min and d[x,y,z] < d_mean:\n",
    "                g[x,y,z] = B\n",
    "            elif d[x,y,z] > d_mean and d[x,y,z] < d_max:\n",
    "                g[x,y,z] = D\n",
    "            elif d[x,y,z] == d_mean:\n",
    "                g[x,y,z] = C\n",
    "            elif d[x,y,z] == d_min:\n",
    "                g[x,y,z] = A\n",
    "            elif d[x,y,z] == d_max:\n",
    "                g[x,y,z] = E\n",
    "\n",
    "print(f)                \n",
    "print(g)"
   ]
  }
 ],
 "metadata": {
  "kernelspec": {
   "display_name": "Python 3",
   "language": "python",
   "name": "python3"
  },
  "language_info": {
   "codemirror_mode": {
    "name": "ipython",
    "version": 3
   },
   "file_extension": ".py",
   "mimetype": "text/x-python",
   "name": "python",
   "nbconvert_exporter": "python",
   "pygments_lexer": "ipython3",
   "version": "3.7.4"
  }
 },
 "nbformat": 4,
 "nbformat_minor": 2
}
